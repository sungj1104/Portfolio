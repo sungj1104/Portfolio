{
 "cells": [
  {
   "cell_type": "markdown",
   "id": "1d9f36bd",
   "metadata": {},
   "source": [
    "# 프로젝트 주제\n",
    "\n",
    "- 범죄와 같은 추세를 보이는 항목 찾기\n",
    "- 유의미한 항목을 찾아 범죄 건 수를 줄일 수 있는 부분을 제시"
   ]
  },
  {
   "cell_type": "markdown",
   "id": "85545300",
   "metadata": {},
   "source": [
    "# 제작기간\n",
    "\n",
    "- 2024-03-12 ~ 2024-03-19"
   ]
  },
  {
   "cell_type": "markdown",
   "id": "00b456e1",
   "metadata": {},
   "source": [
    "# 사용한 기술 및 데이터 수집 방법\n",
    "\n",
    "- 시각화를 위한 matplotlib, seaborn\n",
    "- 선형회귀 기법(LinearRegression, OLS검증)\n",
    "- KOSIS의 데이터 이용"
   ]
  },
  {
   "cell_type": "markdown",
   "id": "4a85e788",
   "metadata": {},
   "source": [
    "# 분석 결과 및 문제점\n",
    "\n",
    "1. 인구수가 적을수록 취업자 수와, 이혼 건 수, 인구수가 많을 경우 사망자 수와 이혼 건 수가 어느정도 연관이 있을 것으로 예상됩니다.\n",
    "2. 검증 과정에서 각 항목들 간의 다중공선성이 의심되는 경우들이 다수 일어나 있어 각 항목간의 특징을 파악해보는 것이 도움이 될 것으로 예상됩니다."
   ]
  },
  {
   "cell_type": "markdown",
   "id": "4facba5e",
   "metadata": {},
   "source": [
    "# 회고 / 느낀점\n",
    "\n",
    "1. 사기범죄 뿐 아니라 다양한 범죄 데이터를 이용하면 더 유의미한 결과가 나올 것으로 예상됩니다.\n",
    "2. 항목의 수가 너무 적어 다양한 항목을 추가하여 준다면 더 유의미한 결과가 나올 것으로 예상됩니다.\n",
    "3. 지역별 데이터 검증 당시 지역별 범죄 데이터로 검증을 하면 더 유의미한 결과가 나올 것으로 예상됩니다.\n",
    "4. 다른 국가의 데이터와 함께 분석비교를 하면 더욱 도움이 될 것으로 예상됩니다.\n",
    "5. 유의미한 항목들을 분석하면 범죄 예방에 도움이 될 것으로 예상됩니다."
   ]
  }
 ],
 "metadata": {
  "kernelspec": {
   "display_name": "Python 3 (ipykernel)",
   "language": "python",
   "name": "python3"
  },
  "language_info": {
   "codemirror_mode": {
    "name": "ipython",
    "version": 3
   },
   "file_extension": ".py",
   "mimetype": "text/x-python",
   "name": "python",
   "nbconvert_exporter": "python",
   "pygments_lexer": "ipython3",
   "version": "3.11.5"
  }
 },
 "nbformat": 4,
 "nbformat_minor": 5
}
