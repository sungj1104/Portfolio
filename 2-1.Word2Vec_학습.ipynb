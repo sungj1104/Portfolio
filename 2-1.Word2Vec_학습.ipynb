{
 "cells": [
  {
   "cell_type": "code",
   "execution_count": 1,
   "id": "a526868d",
   "metadata": {},
   "outputs": [],
   "source": [
    "from gensim.models import Word2Vec\n",
    "from konlpy.tag import Komoran\n",
    "import time\n",
    "import pandas as pd"
   ]
  },
  {
   "cell_type": "code",
   "execution_count": 9,
   "id": "f53bbd43",
   "metadata": {
    "scrolled": true
   },
   "outputs": [],
   "source": [
    "df = pd.read_csv(r\"C:\\Users\\sungj\\바탕 화면\\project\\DL\\data\\ratings.txt\", sep = \"\\t\")"
   ]
  },
  {
   "cell_type": "code",
   "execution_count": 10,
   "id": "30168f4d",
   "metadata": {},
   "outputs": [
    {
     "name": "stdout",
     "output_type": "stream",
     "text": [
      "<class 'pandas.core.frame.DataFrame'>\n",
      "RangeIndex: 200000 entries, 0 to 199999\n",
      "Data columns (total 3 columns):\n",
      " #   Column    Non-Null Count   Dtype \n",
      "---  ------    --------------   ----- \n",
      " 0   id        200000 non-null  int64 \n",
      " 1   document  199992 non-null  object\n",
      " 2   label     200000 non-null  int64 \n",
      "dtypes: int64(2), object(1)\n",
      "memory usage: 4.6+ MB\n"
     ]
    }
   ],
   "source": [
    "df.info()"
   ]
  },
  {
   "cell_type": "code",
   "execution_count": 11,
   "id": "2871d3cc",
   "metadata": {},
   "outputs": [],
   "source": [
    "df = df.dropna()"
   ]
  },
  {
   "cell_type": "code",
   "execution_count": 12,
   "id": "6d42ab10",
   "metadata": {},
   "outputs": [
    {
     "data": {
      "text/html": [
       "<div>\n",
       "<style scoped>\n",
       "    .dataframe tbody tr th:only-of-type {\n",
       "        vertical-align: middle;\n",
       "    }\n",
       "\n",
       "    .dataframe tbody tr th {\n",
       "        vertical-align: top;\n",
       "    }\n",
       "\n",
       "    .dataframe thead th {\n",
       "        text-align: right;\n",
       "    }\n",
       "</style>\n",
       "<table border=\"1\" class=\"dataframe\">\n",
       "  <thead>\n",
       "    <tr style=\"text-align: right;\">\n",
       "      <th></th>\n",
       "      <th>id</th>\n",
       "      <th>document</th>\n",
       "      <th>label</th>\n",
       "    </tr>\n",
       "  </thead>\n",
       "  <tbody>\n",
       "    <tr>\n",
       "      <th>0</th>\n",
       "      <td>8112052</td>\n",
       "      <td>어릴때보고 지금다시봐도 재밌어요ㅋㅋ</td>\n",
       "      <td>1</td>\n",
       "    </tr>\n",
       "    <tr>\n",
       "      <th>1</th>\n",
       "      <td>8132799</td>\n",
       "      <td>디자인을 배우는 학생으로, 외국디자이너와 그들이 일군 전통을 통해 발전해가는 문화산...</td>\n",
       "      <td>1</td>\n",
       "    </tr>\n",
       "    <tr>\n",
       "      <th>2</th>\n",
       "      <td>4655635</td>\n",
       "      <td>폴리스스토리 시리즈는 1부터 뉴까지 버릴께 하나도 없음.. 최고.</td>\n",
       "      <td>1</td>\n",
       "    </tr>\n",
       "    <tr>\n",
       "      <th>3</th>\n",
       "      <td>9251303</td>\n",
       "      <td>와.. 연기가 진짜 개쩔구나.. 지루할거라고 생각했는데 몰입해서 봤다.. 그래 이런...</td>\n",
       "      <td>1</td>\n",
       "    </tr>\n",
       "    <tr>\n",
       "      <th>4</th>\n",
       "      <td>10067386</td>\n",
       "      <td>안개 자욱한 밤하늘에 떠 있는 초승달 같은 영화.</td>\n",
       "      <td>1</td>\n",
       "    </tr>\n",
       "  </tbody>\n",
       "</table>\n",
       "</div>"
      ],
      "text/plain": [
       "         id                                           document  label\n",
       "0   8112052                                어릴때보고 지금다시봐도 재밌어요ㅋㅋ      1\n",
       "1   8132799  디자인을 배우는 학생으로, 외국디자이너와 그들이 일군 전통을 통해 발전해가는 문화산...      1\n",
       "2   4655635               폴리스스토리 시리즈는 1부터 뉴까지 버릴께 하나도 없음.. 최고.      1\n",
       "3   9251303  와.. 연기가 진짜 개쩔구나.. 지루할거라고 생각했는데 몰입해서 봤다.. 그래 이런...      1\n",
       "4  10067386                        안개 자욱한 밤하늘에 떠 있는 초승달 같은 영화.      1"
      ]
     },
     "execution_count": 12,
     "metadata": {},
     "output_type": "execute_result"
    }
   ],
   "source": [
    "df.head()"
   ]
  },
  {
   "cell_type": "code",
   "execution_count": 13,
   "id": "17ed8b07",
   "metadata": {},
   "outputs": [
    {
     "data": {
      "text/plain": [
       "(199992, 3)"
      ]
     },
     "execution_count": 13,
     "metadata": {},
     "output_type": "execute_result"
    }
   ],
   "source": [
    "df.shape"
   ]
  },
  {
   "cell_type": "code",
   "execution_count": 14,
   "id": "4d989911",
   "metadata": {},
   "outputs": [],
   "source": [
    "komoran = Komoran()"
   ]
  },
  {
   "cell_type": "code",
   "execution_count": 15,
   "id": "40fbdb05",
   "metadata": {},
   "outputs": [
    {
     "name": "stdout",
     "output_type": "stream",
     "text": [
      "CPU times: total: 4min 6s\n",
      "Wall time: 3min 29s\n"
     ]
    }
   ],
   "source": [
    "%%time\n",
    "# 문장 단위로 명사만 추출해 학습 입력 데이터로 만듦\n",
    "docs = df[\"document\"].map(lambda x: komoran.nouns(x))"
   ]
  },
  {
   "cell_type": "code",
   "execution_count": 16,
   "id": "bcdcef7b",
   "metadata": {},
   "outputs": [
    {
     "data": {
      "text/plain": [
       "0                                                       [때]\n",
       "1         [디자인, 학생, 외국, 디자이너, 전통, 발전, 문화, 산업, 사실, 우리나라, ...\n",
       "2                                    [폴리스, 스토리, 시리즈, 뉴, 최고]\n",
       "3                                [연기, 것, 라고, 생각, 몰입, 영, 화지]\n",
       "4                                        [안개, 밤하늘, 초승달, 영화]\n",
       "                                ...                        \n",
       "199995                                         [포켓, 몬스터, 짜]\n",
       "199996                                                   []\n",
       "199997                            [완전, 사이코, 영화, 마지막, 영화, 질]\n",
       "199998                                          [라따뚜이, 스머프]\n",
       "199999                       [포, 풍, 저그, 가나, 신다영, 차영, 차영, 차]\n",
       "Name: document, Length: 199992, dtype: object"
      ]
     },
     "execution_count": 16,
     "metadata": {},
     "output_type": "execute_result"
    }
   ],
   "source": [
    "docs"
   ]
  },
  {
   "cell_type": "code",
   "execution_count": 17,
   "id": "cf42d626",
   "metadata": {},
   "outputs": [],
   "source": [
    "# word2vec 모델 학습\n",
    "model = Word2Vec(sentences = docs, vector_size = 200, window = 4, min_count = 2, sg = 1)"
   ]
  },
  {
   "cell_type": "markdown",
   "id": "c365a1e1",
   "metadata": {},
   "source": [
    "- word2vec의 주요 하이퍼파라미터\n",
    "    - sentences : Word2Vec 모델 학습에 필요한 문장 데이터\n",
    "    - vector_size : 단어 임베딩 벡터의 차원(크기)\n",
    "    - window : 주변 단어 윈도우의 크기\n",
    "    - min_count : 단어 최소 빈도 수 제한(설정된 min_count 빈도 수 미만의 단어들은 학습하지 않음)\n",
    "    - sg : 0(CBOW 모델), 1(skip-gram 모델)"
   ]
  },
  {
   "cell_type": "code",
   "execution_count": 18,
   "id": "dfb466aa",
   "metadata": {},
   "outputs": [],
   "source": [
    "# 모델 저장\n",
    "model.save(\"./model/nsmc_w2v.model\")"
   ]
  },
  {
   "cell_type": "code",
   "execution_count": 19,
   "id": "7a4e82a3",
   "metadata": {},
   "outputs": [
    {
     "name": "stdout",
     "output_type": "stream",
     "text": [
      "corpus_count : 199992\n",
      "corpus_total_words : 1076840\n"
     ]
    }
   ],
   "source": [
    "# 학습된 말뭉치 개수, 코퍼스 내 전체 단어 개수\n",
    "print(\"corpus_count :\", model.corpus_count)\n",
    "print(\"corpus_total_words :\", model.corpus_total_words)"
   ]
  },
  {
   "cell_type": "markdown",
   "id": "27e102d1",
   "metadata": {},
   "source": [
    "# word2vec 모델 활용"
   ]
  },
  {
   "cell_type": "code",
   "execution_count": 20,
   "id": "15bc0440",
   "metadata": {},
   "outputs": [
    {
     "name": "stdout",
     "output_type": "stream",
     "text": [
      "1076840\n"
     ]
    }
   ],
   "source": [
    "# 모델 로딩\n",
    "model = Word2Vec.load(\"./model/nsmc_w2v.model\")\n",
    "print(model.corpus_total_words)"
   ]
  },
  {
   "cell_type": "code",
   "execution_count": 21,
   "id": "a2e8a540",
   "metadata": {},
   "outputs": [
    {
     "name": "stdout",
     "output_type": "stream",
     "text": [
      "사랑 :  [ 8.26703086e-02 -3.38016748e-01  3.07669818e-01  4.48072016e-01\n",
      " -1.70633584e-01 -1.12956755e-01 -2.50643883e-02  7.63975307e-02\n",
      " -2.96293586e-01  4.56315935e-01 -2.33257994e-01 -8.06583315e-02\n",
      "  3.45683604e-01 -2.55762279e-01 -1.70710683e-01  4.15638715e-01\n",
      " -1.72378927e-01 -5.21834016e-01 -2.63079017e-01 -3.40183496e-01\n",
      "  4.57602471e-01  2.98333913e-01 -2.15921421e-02  1.01937279e-01\n",
      " -5.38865626e-01  1.28221199e-01  4.65089008e-02 -1.43279746e-01\n",
      " -6.32247422e-03 -6.48711249e-02  3.07931423e-01  2.05160454e-01\n",
      "  1.90854222e-01  9.22632366e-02 -5.96402176e-02  1.55486479e-01\n",
      " -4.73330133e-02  8.95242300e-03 -1.80294201e-01 -1.52303157e-02\n",
      " -3.32703412e-01  1.74213782e-01  9.77888927e-02 -4.00540501e-01\n",
      "  3.73107344e-01  3.97396266e-01 -2.43892282e-01 -1.31638497e-01\n",
      "  1.58647001e-01  6.30471855e-02  2.89414167e-01 -1.49138272e-01\n",
      " -2.19394535e-01  2.23597199e-01 -1.82964936e-01 -1.95959568e-01\n",
      " -2.58924663e-01 -7.33260959e-02 -6.07650019e-02  2.45879330e-02\n",
      " -1.37612984e-01 -5.95141165e-02 -4.44976687e-01  5.34792900e-01\n",
      " -2.90111184e-01  8.16094577e-02 -2.34303266e-01  2.07321629e-01\n",
      "  8.96013528e-03  8.19396198e-01 -1.27267897e-01 -2.52597243e-01\n",
      "  5.94521463e-01  7.97743499e-02  1.33807093e-01 -2.41673514e-01\n",
      "  2.32694283e-01 -2.63216823e-01 -3.24114025e-01 -3.45956415e-01\n",
      " -8.95641297e-02 -2.48738110e-01 -1.66635454e-01  5.45568943e-01\n",
      " -2.82832384e-01 -2.54163206e-01 -2.89825529e-01  2.24575713e-01\n",
      " -1.83711529e-01 -2.30063293e-02  2.81977355e-01  2.34807491e-01\n",
      "  3.30692798e-01  8.09239820e-02  2.84936517e-01 -9.32128280e-02\n",
      " -3.15039158e-01  1.30058979e-04 -7.58349057e-03  5.47349155e-02\n",
      " -4.08554316e-01  5.82098246e-01  1.53796017e-01  9.40546095e-02\n",
      "  5.07127941e-02 -3.56854320e-01 -1.29919603e-01  3.45081002e-01\n",
      " -1.29589736e-01 -3.25310349e-01  1.74673140e-01 -2.60157734e-01\n",
      "  3.17931950e-01  7.66230822e-02  1.83939129e-01 -2.93315470e-01\n",
      "  2.45571032e-01 -1.81620970e-01  4.69058275e-01  2.34541632e-02\n",
      "  6.44383132e-02 -1.75184146e-01 -6.59128577e-02 -2.33263746e-01\n",
      " -9.43943188e-02  3.35041314e-01 -1.64304242e-01 -1.59593560e-02\n",
      " -3.35424036e-01  2.32152447e-01 -1.21291719e-01  4.77492779e-01\n",
      "  1.12993203e-01  2.01492041e-01 -1.09447278e-01  1.21729732e-01\n",
      "  9.36979577e-02 -3.31526026e-02 -2.21397221e-01 -1.16403252e-01\n",
      "  1.44755870e-01  1.49712548e-01 -3.44790310e-01 -1.10959768e-01\n",
      " -1.04505323e-01  2.48666499e-02 -8.61292109e-02  5.05917482e-02\n",
      "  1.82411760e-01 -1.95480093e-01 -1.12046935e-01 -3.76141131e-01\n",
      "  3.16442013e-01 -2.11196363e-01 -9.55034345e-02  1.62983179e-01\n",
      "  2.63363302e-01  1.45963743e-01  2.13288710e-01 -1.21073872e-01\n",
      "  3.32647532e-01  2.97638446e-01 -2.08490193e-01 -1.19972916e-03\n",
      "  3.94347869e-02  5.33141911e-01 -1.68351665e-01 -2.55126774e-01\n",
      " -2.67758399e-01  6.46039769e-02 -3.17762852e-01 -8.06108192e-02\n",
      "  8.83748606e-02 -4.09568042e-01 -8.27641562e-02  1.14338107e-01\n",
      "  8.21577609e-02 -8.42395052e-02  2.73971826e-01  1.20937079e-01\n",
      " -2.44724482e-01  3.77873808e-01  4.20392379e-02 -2.16578203e-03\n",
      " -1.63632289e-01  2.13183183e-02 -1.04261070e-01  5.72655071e-03\n",
      "  1.16113782e-01 -1.01806866e-02  3.52626890e-01  7.38199875e-02\n",
      " -2.17658356e-01 -2.07744241e-02  2.76763558e-01  6.26474693e-02\n",
      "  3.47284794e-01 -2.78690398e-01 -1.86573625e-01 -7.26961195e-02]\n"
     ]
    }
   ],
   "source": [
    "# '사랑'이란 단어로 생성한 단어 임베딩 벡터\n",
    "print(\"사랑 : \", model.wv[\"사랑\"])"
   ]
  },
  {
   "cell_type": "markdown",
   "id": "3430aa4f",
   "metadata": {},
   "source": [
    "- 모델을 학습할 때 설정한 vector_size 하이퍼파라미터 만큼 단어 임베딩 벡터 차원 크기가 결정됨"
   ]
  },
  {
   "cell_type": "code",
   "execution_count": 22,
   "id": "fd8ac36f",
   "metadata": {},
   "outputs": [
    {
     "name": "stdout",
     "output_type": "stream",
     "text": [
      "일요일 = 월요일\t0.8932427\n"
     ]
    }
   ],
   "source": [
    "# 단어 유사도 계산\n",
    "print(\"일요일 = 월요일\", model.wv.similarity(w1 = \"일요일\", w2 = \"월요일\"), sep = \"\\t\")"
   ]
  },
  {
   "cell_type": "code",
   "execution_count": 23,
   "id": "17183f35",
   "metadata": {},
   "outputs": [
    {
     "name": "stdout",
     "output_type": "stream",
     "text": [
      "대기업 = 삼성\t0.8927722\n"
     ]
    }
   ],
   "source": [
    "print(\"대기업 = 삼성\", model.wv.similarity(w1 = \"대기업\", w2 = \"삼성\"), sep = \"\\t\")"
   ]
  },
  {
   "cell_type": "code",
   "execution_count": 24,
   "id": "9057e8c0",
   "metadata": {},
   "outputs": [
    {
     "name": "stdout",
     "output_type": "stream",
     "text": [
      "일요일 = 삼성\t0.6391073\n"
     ]
    }
   ],
   "source": [
    "print(\"일요일 = 삼성\", model.wv.similarity(w1 = \"일요일\", w2 = \"삼성\"), sep = \"\\t\")"
   ]
  },
  {
   "cell_type": "markdown",
   "id": "8a276c72",
   "metadata": {},
   "source": [
    "- model.wv.most_similar() 함수 : 인자로 사용한 단어와 가장 유사한 단어를 리스트로 반환\n",
    "    - 벡터 공간에서 가장 가까운 거리에 있는 단어들을 반환\n",
    "    - topn : 반환되는 유사한 단어 수\n",
    "- 유사도가 1에 가까울수록 두 단어는 동일한 의미이거나 문법적으로 관련이 있을 가능성이 높음"
   ]
  },
  {
   "cell_type": "code",
   "execution_count": 25,
   "id": "1879044e",
   "metadata": {},
   "outputs": [
    {
     "name": "stdout",
     "output_type": "stream",
     "text": [
      "[('엑스맨', 0.8255574107170105), ('반지의 제왕', 0.8212547898292542), ('포터', 0.814788818359375), ('미이라', 0.7959827184677124), ('스타워즈', 0.7927154302597046)]\n"
     ]
    }
   ],
   "source": [
    "# 가장 유사한 단어 추출\n",
    "print(model.wv.most_similar(\"시리즈\", topn = 5))"
   ]
  },
  {
   "cell_type": "code",
   "execution_count": 26,
   "id": "1b88e6fa",
   "metadata": {},
   "outputs": [
    {
     "name": "stdout",
     "output_type": "stream",
     "text": [
      "[('황신', 0.941754162311554), ('까르네', 0.9296473264694214), ('이승엽', 0.9217039942741394), ('진호', 0.9156176447868347), ('매운맛', 0.9133081436157227)]\n"
     ]
    }
   ],
   "source": [
    "print(model.wv.most_similar(\"저그\", topn = 5))"
   ]
  },
  {
   "cell_type": "code",
   "execution_count": 28,
   "id": "85f47601",
   "metadata": {},
   "outputs": [
    {
     "name": "stdout",
     "output_type": "stream",
     "text": [
      "[('끝판', 0.8225648999214172), ('죤', 0.7630272507667542), ('B1A4', 0.7404504418373108), ('혈', 0.7385879755020142), ('동', 0.7368876338005066)]\n"
     ]
    }
   ],
   "source": [
    "print(model.wv.most_similar(\"왕\", topn = 5))"
   ]
  },
  {
   "cell_type": "code",
   "execution_count": 29,
   "id": "37a714f6",
   "metadata": {},
   "outputs": [],
   "source": [
    "import gensim"
   ]
  },
  {
   "cell_type": "code",
   "execution_count": 30,
   "id": "115722de",
   "metadata": {},
   "outputs": [],
   "source": [
    "sentences = gensim.models.word2vec.Text8Corpus(\"./data/text8.txt\")"
   ]
  },
  {
   "cell_type": "code",
   "execution_count": 32,
   "id": "bfa7400a",
   "metadata": {},
   "outputs": [],
   "source": [
    "model = Word2Vec(sentences, vector_size = 200)"
   ]
  },
  {
   "cell_type": "code",
   "execution_count": 33,
   "id": "ea8e560b",
   "metadata": {},
   "outputs": [
    {
     "data": {
      "text/plain": [
       "[('queen', 0.6533477902412415),\n",
       " ('isabella', 0.5540904402732849),\n",
       " ('elizabeth', 0.5522816181182861),\n",
       " ('princess', 0.5517071485519409),\n",
       " ('daughter', 0.548427402973175),\n",
       " ('prince', 0.5477496385574341),\n",
       " ('empress', 0.5442290902137756),\n",
       " ('throne', 0.5383293032646179),\n",
       " ('monarch', 0.5293919444084167),\n",
       " ('son', 0.5289418697357178)]"
      ]
     },
     "execution_count": 33,
     "metadata": {},
     "output_type": "execute_result"
    }
   ],
   "source": [
    "model.wv.most_similar(positive = [\"woman\", \"king\"], negative = [\"man\"])"
   ]
  }
 ],
 "metadata": {
  "kernelspec": {
   "display_name": "Python 3 (ipykernel)",
   "language": "python",
   "name": "python3"
  },
  "language_info": {
   "codemirror_mode": {
    "name": "ipython",
    "version": 3
   },
   "file_extension": ".py",
   "mimetype": "text/x-python",
   "name": "python",
   "nbconvert_exporter": "python",
   "pygments_lexer": "ipython3",
   "version": "3.11.5"
  }
 },
 "nbformat": 4,
 "nbformat_minor": 5
}
