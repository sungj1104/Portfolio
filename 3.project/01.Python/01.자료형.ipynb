{
 "cells": [
  {
   "cell_type": "markdown",
   "id": "c04a2607",
   "metadata": {},
   "source": [
    "# 자료형\n",
    "\n",
    "- 자료(data) : 프로그램이 처리할 수 있는 모든 것\n",
    "- 자료형(data type) : 자료를 개발자들이 수비게 사용할 수 있도록 기능과 역할에 따라서 구분한 종류\n",
    "    - 문자열(string) :  메일 제목, 메시지 내용 등\n",
    "        - 예) \"안녕하세요\", \"Hello, World!\"\n",
    "    - 숫자(number) : 물건의 가격, 학생의 성적 등\n",
    "        - 예) 52, 273, 103.32\n",
    "    - 불(boolean) : 사용자의 로그인 상태 등\n",
    "        - 예) True, False"
   ]
  },
  {
   "cell_type": "markdown",
   "id": "3887224a",
   "metadata": {},
   "source": [
    "## 숫자 자료형\n",
    "\n",
    "- 숫자 자료형의 종류\n",
    "    - 정수형(integer) : 소수점이 없는 숫자\n",
    "        - 예) 0, 1, 273, -53\n",
    "    - 실수형(floating point) : 소수점이 있는 숫자\n",
    "        - 예) 0.0, 52.573, -1.2\n",
    "        \n",
    "- 주의점\n",
    "    - 0과 0.0은 같은 크기를 표현하지만 소수점의 여부에 따라 숫자의 자료형이 달라짐"
   ]
  },
  {
   "cell_type": "code",
   "execution_count": 1,
   "id": "0d5c62c7",
   "metadata": {},
   "outputs": [
    {
     "data": {
      "text/plain": [
       "True"
      ]
     },
     "execution_count": 1,
     "metadata": {},
     "output_type": "execute_result"
    }
   ],
   "source": [
    "0 == 0.0"
   ]
  },
  {
   "cell_type": "code",
   "execution_count": 3,
   "id": "7b2cb1c9",
   "metadata": {},
   "outputs": [
    {
     "name": "stderr",
     "output_type": "stream",
     "text": [
      "<>:1: SyntaxWarning: \"is\" with a literal. Did you mean \"==\"?\n",
      "<>:1: SyntaxWarning: \"is\" with a literal. Did you mean \"==\"?\n",
      "C:\\Users\\sungj\\AppData\\Local\\Temp\\ipykernel_1100\\3964195525.py:1: SyntaxWarning: \"is\" with a literal. Did you mean \"==\"?\n",
      "  0 is 0.0\n"
     ]
    },
    {
     "data": {
      "text/plain": [
       "False"
      ]
     },
     "execution_count": 3,
     "metadata": {},
     "output_type": "execute_result"
    }
   ],
   "source": [
    "0 is 0.0"
   ]
  },
  {
   "cell_type": "markdown",
   "id": "2857fb8d",
   "metadata": {},
   "source": [
    "### 정수형(integer)"
   ]
  },
  {
   "cell_type": "code",
   "execution_count": 1,
   "id": "f1bb3c04",
   "metadata": {},
   "outputs": [
    {
     "name": "stdout",
     "output_type": "stream",
     "text": [
      "123\n",
      "-178\n",
      "0\n"
     ]
    }
   ],
   "source": [
    "a = 123\n",
    "b = -178\n",
    "c = 0\n",
    "\n",
    "print(a)\n",
    "print(b)\n",
    "print(c)"
   ]
  },
  {
   "cell_type": "markdown",
   "id": "82fb44a2",
   "metadata": {},
   "source": [
    "- 변수 명을 잘 짜야하는 이유\n",
    "    - 데이터의 이름 - 데이터의 출처, 데이터의 목적, 데이터의 타입 등등\n",
    "    - 유지보수 - 데이터의 재사용\n",
    "\n",
    "- camel 케이스 - 띄어쓰기를 대문자로 표기(클래스명 에 사용) ex)AbcdEfg\n",
    "\n",
    "- snake 케이스 - 띄어쓰기를 언더바로 표기(변수명, 함수명 등에 사용) ex)abcd_efg\n",
    "    - 변수명은 명사_명사(_type)\n",
    "    - 함수명은 동사_명사"
   ]
  },
  {
   "cell_type": "code",
   "execution_count": null,
   "id": "eeed44ef",
   "metadata": {},
   "outputs": [],
   "source": [
    "# type() : 자료형 확인하기\n",
    "# type 함수의 괄호 내부에 자료를 넣으면 그 자료가 어떤 자료형을 가지고 있는지 확인\n",
    "print(type(a))\n",
    "print(type(b))\n",
    "print(type(c))"
   ]
  },
  {
   "cell_type": "markdown",
   "id": "e1be6825",
   "metadata": {},
   "source": [
    "- 해석순서 = 가장 안쪽 괄호부터\n",
    "    - 예) print(type(a)) = type() 부터 실행 후 print() 실행\n",
    "- . 으로 이어지는 경우 왼쪽부터 실행\n",
    "    - 예) a().b() = a() 실행 후 b()실행"
   ]
  },
  {
   "cell_type": "markdown",
   "id": "a42a107c",
   "metadata": {},
   "source": [
    "## 실수형(Floating-point)"
   ]
  },
  {
   "cell_type": "code",
   "execution_count": 3,
   "id": "9f19b3d7",
   "metadata": {},
   "outputs": [
    {
     "name": "stdout",
     "output_type": "stream",
     "text": [
      "1.2\n",
      "-3.45\n",
      "<class 'float'>\n",
      "<class 'float'>\n"
     ]
    }
   ],
   "source": [
    "a = 1.2\n",
    "b = -3.45\n",
    "\n",
    "print(a)\n",
    "print(b)\n",
    "print(type(a))\n",
    "print(type(b))"
   ]
  },
  {
   "cell_type": "markdown",
   "id": "c0f07ee5",
   "metadata": {},
   "source": [
    "### 실수형의 지수 표현 방식"
   ]
  },
  {
   "cell_type": "markdown",
   "id": "1a727026",
   "metadata": {},
   "source": [
    "- 점 앞에는 숫자 하나만 표기\n",
    "    - 4.24 e+4 = 42400\n",
    "        - 소수점을 뒤로 4칸 옮김\n",
    "    - 4.24 e-4 = 0.000424\n",
    "        - 소수점을 앞으로 4칸 옮김 \n",
    "- 점이 붙는 경우 타입은 실수"
   ]
  },
  {
   "cell_type": "code",
   "execution_count": 4,
   "id": "8dcb1392",
   "metadata": {},
   "outputs": [
    {
     "name": "stdout",
     "output_type": "stream",
     "text": [
      "42400.0\n",
      "0.000424\n",
      "<class 'float'>\n",
      "<class 'float'>\n"
     ]
    }
   ],
   "source": [
    "a = 4.24e4\n",
    "b = 4.24e-4\n",
    "\n",
    "print(a)\n",
    "print(b)\n",
    "print(type(a))\n",
    "print(type(b))"
   ]
  },
  {
   "cell_type": "markdown",
   "id": "69c13be1",
   "metadata": {},
   "source": [
    "### 2진수, 8진수, 16진수"
   ]
  },
  {
   "cell_type": "code",
   "execution_count": 5,
   "id": "8efa193a",
   "metadata": {},
   "outputs": [
    {
     "name": "stdout",
     "output_type": "stream",
     "text": [
      "10\n"
     ]
    }
   ],
   "source": [
    "# 2진수\n",
    "bi = 0b1010\n",
    "# 0b이후 표기\n",
    "print(bi)"
   ]
  },
  {
   "cell_type": "code",
   "execution_count": 6,
   "id": "8ec28c37",
   "metadata": {},
   "outputs": [
    {
     "name": "stdout",
     "output_type": "stream",
     "text": [
      "127\n"
     ]
    }
   ],
   "source": [
    "# 8진수\n",
    "oc =0o177\n",
    "# 0o\n",
    "print(oc)"
   ]
  },
  {
   "cell_type": "code",
   "execution_count": 8,
   "id": "6e218c97",
   "metadata": {},
   "outputs": [
    {
     "name": "stdout",
     "output_type": "stream",
     "text": [
      "375\n"
     ]
    }
   ],
   "source": [
    "# 16진수\n",
    "he = 0x177\n",
    "# 0x\n",
    "print(he)"
   ]
  },
  {
   "cell_type": "markdown",
   "id": "e9cd9e14",
   "metadata": {},
   "source": [
    "#### 숫자에서 다른 진수로 변환하기\n",
    "\n",
    "- int -> str"
   ]
  },
  {
   "cell_type": "code",
   "execution_count": 9,
   "id": "76e04c98",
   "metadata": {},
   "outputs": [
    {
     "name": "stdout",
     "output_type": "stream",
     "text": [
      "0b101010\n",
      "<class 'str'>\n",
      "0o52\n",
      "<class 'str'>\n",
      "0x2a\n",
      "<class 'str'>\n"
     ]
    }
   ],
   "source": [
    "bi = bin(42)\n",
    "oc = oct(42)\n",
    "he = hex(42)\n",
    "\n",
    "print(bi)\n",
    "print(type(bi))\n",
    "print(oc)\n",
    "print(type(oc))\n",
    "print(he)\n",
    "print(type(he))"
   ]
  },
  {
   "cell_type": "markdown",
   "id": "2a690fe8",
   "metadata": {},
   "source": [
    "#### 다른 진수의 문자열에서 숫자형으로 변환하기"
   ]
  },
  {
   "cell_type": "code",
   "execution_count": 10,
   "id": "b70e8a18",
   "metadata": {},
   "outputs": [
    {
     "name": "stdout",
     "output_type": "stream",
     "text": [
      "42\n"
     ]
    }
   ],
   "source": [
    "print(int(bi, 2))"
   ]
  },
  {
   "cell_type": "code",
   "execution_count": 11,
   "id": "d0675c21",
   "metadata": {},
   "outputs": [
    {
     "name": "stdout",
     "output_type": "stream",
     "text": [
      "42\n"
     ]
    }
   ],
   "source": [
    "print(int(oc, 8))"
   ]
  },
  {
   "cell_type": "code",
   "execution_count": 12,
   "id": "9f89d300",
   "metadata": {},
   "outputs": [
    {
     "name": "stdout",
     "output_type": "stream",
     "text": [
      "42\n"
     ]
    }
   ],
   "source": [
    "print(int(he, 16))"
   ]
  },
  {
   "cell_type": "markdown",
   "id": "f390699d",
   "metadata": {},
   "source": [
    "## 사칙연산"
   ]
  },
  {
   "cell_type": "code",
   "execution_count": 15,
   "id": "990370ad",
   "metadata": {},
   "outputs": [
    {
     "name": "stdout",
     "output_type": "stream",
     "text": [
      "7\n",
      "-1\n",
      "12\n",
      "0.75\n",
      "81\n",
      "0\n",
      "3\n"
     ]
    }
   ],
   "source": [
    "a = 3\n",
    "b = 4\n",
    "\n",
    "print(a + b) # 합\n",
    "print(a - b) # 차\n",
    "print(a * b) # 곱\n",
    "print(a / b) # 나눗셉 a를 b로 나눔\n",
    "print(a ** b) # 제곱 a의 b승\n",
    "print(a // b) # 몫\n",
    "print(a % b) # 나머지"
   ]
  },
  {
   "cell_type": "markdown",
   "id": "dea880ff",
   "metadata": {},
   "source": [
    "## 연산자의 우선순위\n",
    "\n",
    "- 숫자를 계산할 때는 곱셈과 나눗셈이 덧셈과 뺄셈보다 우선함\n",
    "- 같은 우선순위를 가지는 연산자는 왼쪽에서 오른쪽 순서로 계산"
   ]
  },
  {
   "cell_type": "code",
   "execution_count": 16,
   "id": "cee68dee",
   "metadata": {},
   "outputs": [
    {
     "name": "stdout",
     "output_type": "stream",
     "text": [
      "0.0\n"
     ]
    }
   ],
   "source": [
    "print(2 + 2 - 2 * 2 / 2 * 2)"
   ]
  },
  {
   "cell_type": "markdown",
   "id": "a1fff5b8",
   "metadata": {},
   "source": [
    "- 2 + 2 - (2 * 2 / 2 * 2) => 순\n",
    "- 할당연산자(=) 은 항상 마지막\n",
    "- 곱하기, 나누기 부터 하는 이유는 단항식이기 때문(ex. 2 * a = 2a)"
   ]
  },
  {
   "cell_type": "code",
   "execution_count": 17,
   "id": "c741df00",
   "metadata": {},
   "outputs": [
    {
     "name": "stdout",
     "output_type": "stream",
     "text": [
      "16\n",
      "11\n"
     ]
    }
   ],
   "source": [
    "# 먼저 연산하고 싶은 부분은 괄호로 표현\n",
    "print((5 + 3) * 2)\n",
    "print(5 + 3 * 2)"
   ]
  },
  {
   "cell_type": "code",
   "execution_count": 18,
   "id": "e7b204e9",
   "metadata": {},
   "outputs": [
    {
     "data": {
      "text/plain": [
       "11"
      ]
     },
     "execution_count": 18,
     "metadata": {},
     "output_type": "execute_result"
    }
   ],
   "source": [
    "# 연산자 우선순위가 확실한 경우에도 명확하게 표현하기 위해 괄호를 사용하기도 함\n",
    "5 + (3 * 2)"
   ]
  },
  {
   "cell_type": "markdown",
   "id": "d9c764cf",
   "metadata": {},
   "source": [
    "# 문자열 자료형(string)\n",
    "\n",
    "- 문자열 : 글자들이 나열된 것"
   ]
  },
  {
   "cell_type": "code",
   "execution_count": 19,
   "id": "57458ea8",
   "metadata": {},
   "outputs": [
    {
     "name": "stdout",
     "output_type": "stream",
     "text": [
      "Hello, World!\n",
      "<class 'str'>\n",
      "123\n",
      "<class 'str'>\n"
     ]
    }
   ],
   "source": [
    "a = \"Hello, World!\"\n",
    "b = \"123\"\n",
    "\n",
    "print(a)\n",
    "print(type(a))\n",
    "print(b)\n",
    "print(type(b))"
   ]
  },
  {
   "cell_type": "code",
   "execution_count": 20,
   "id": "1dad8841",
   "metadata": {},
   "outputs": [
    {
     "name": "stdout",
     "output_type": "stream",
     "text": [
      "Hello\n",
      "Hello\n",
      "Hello\n",
      "Hello\n"
     ]
    }
   ],
   "source": [
    "# 문자열 표기법\n",
    "print(\"Hello\") # 큰따옴표\n",
    "print('Hello') # 작은따옴표\n",
    "print(\"\"\"Hello\"\"\") # 큰삼중따옴표\n",
    "print('''Hello''') # 작은삼중따옴표"
   ]
  },
  {
   "cell_type": "markdown",
   "id": "1400eda4",
   "metadata": {},
   "source": [
    "### 문자열에 따옴표 포함하기(escape 문)"
   ]
  },
  {
   "cell_type": "code",
   "execution_count": 21,
   "id": "f3e04363",
   "metadata": {},
   "outputs": [
    {
     "name": "stdout",
     "output_type": "stream",
     "text": [
      "Python's favorite food is perl\n"
     ]
    }
   ],
   "source": [
    "# 치고 싶은 문장이 'Python's favorite food is perl' 일때\n",
    "print(\"Python's favorite food is perl\")"
   ]
  },
  {
   "cell_type": "markdown",
   "id": "c580494d",
   "metadata": {},
   "source": [
    "- 'Python's favorite food is perl' 일 때 작은따옴표로 열어 작은따옴표로 닫기 때문에 'Python'과 s favorite food is perl과 ' 로 나뉨\n",
    "- 고로 여는 따옴표와 다른 따옴표를 넣을 경우 문자열에 넣어 출력이 가능"
   ]
  },
  {
   "cell_type": "code",
   "execution_count": 24,
   "id": "1c335750",
   "metadata": {},
   "outputs": [
    {
     "name": "stdout",
     "output_type": "stream",
     "text": [
      "\"Python is very easy.\" he says\n"
     ]
    }
   ],
   "source": [
    "print('\"Python is very easy.\" he says')"
   ]
  },
  {
   "cell_type": "code",
   "execution_count": 25,
   "id": "c228c908",
   "metadata": {},
   "outputs": [
    {
     "name": "stdout",
     "output_type": "stream",
     "text": [
      "Python's favorite food is perl\n"
     ]
    }
   ],
   "source": [
    "# 백슬래시를 이용한 방법\n",
    "# \\와 큰따옴표, 작은따옴표를 사용하면 문자열을 만드는 기호가 아니라 단순한 따옴표로 인식\n",
    "print('Python\\'s favorite food is perl')"
   ]
  },
  {
   "cell_type": "markdown",
   "id": "7ba409f0",
   "metadata": {},
   "source": [
    "- 역슬래시의 경우 폰트에 따라 원화표시로 나오는 경우가 있지만 동일"
   ]
  },
  {
   "cell_type": "code",
   "execution_count": 26,
   "id": "f320b772",
   "metadata": {},
   "outputs": [
    {
     "name": "stdout",
     "output_type": "stream",
     "text": [
      "\"Python is very easy.\" he says\n"
     ]
    }
   ],
   "source": [
    "print(\"\\\"Python is very easy.\\\" he says\")"
   ]
  },
  {
   "cell_type": "markdown",
   "id": "0c0fef5a",
   "metadata": {},
   "source": [
    "### 여러 줄인 문자열"
   ]
  },
  {
   "cell_type": "code",
   "execution_count": 27,
   "id": "0a455871",
   "metadata": {},
   "outputs": [
    {
     "name": "stdout",
     "output_type": "stream",
     "text": [
      "Life is too short\n",
      "You need python\n"
     ]
    }
   ],
   "source": [
    "lines = \"Life is too short\\nYou need python\"\n",
    "print(lines)"
   ]
  },
  {
   "cell_type": "markdown",
   "id": "0e98c525",
   "metadata": {},
   "source": [
    "- 한 줄의 코드 안에 여러줄 문자열을 입력하고 싶을 때 여러줄문자열(\\n) 사용"
   ]
  },
  {
   "cell_type": "code",
   "execution_count": 28,
   "id": "75ab022f",
   "metadata": {},
   "outputs": [
    {
     "name": "stdout",
     "output_type": "stream",
     "text": [
      " Life is too short\n",
      "You need python\n"
     ]
    }
   ],
   "source": [
    "lines = ''' Life is too short\n",
    "You need python'''\n",
    "print(lines)"
   ]
  },
  {
   "cell_type": "markdown",
   "id": "5c698824",
   "metadata": {},
   "source": [
    "- \\n 이용 시 가독성의 문제가 발생할 수도 있어 삼중따옴표를 사용하는 방법이 용이할 수도 있음"
   ]
  },
  {
   "cell_type": "markdown",
   "id": "d4f3ef1d",
   "metadata": {},
   "source": [
    "#### 이스케이프 코드\n",
    "\n",
    "- 특별한 의미를 가지는, 미리 정의된 문자 조합\n",
    "    - \\n : 줄바꿈(엔터)\n",
    "    - \\t : 탭\n",
    "    - \\\\\\ : 역슬래시 문자열 입력"
   ]
  },
  {
   "cell_type": "code",
   "execution_count": 29,
   "id": "b1b61344",
   "metadata": {},
   "outputs": [
    {
     "name": "stdout",
     "output_type": "stream",
     "text": [
      "안녕하세요\t안녕하세요\n"
     ]
    }
   ],
   "source": [
    "print(\"안녕하세요\\t안녕하세요\")"
   ]
  },
  {
   "cell_type": "markdown",
   "id": "ed96a90a",
   "metadata": {},
   "source": [
    "## 문자열 연산자\n",
    "\n",
    "- 각각의 자료는 사용할 수 있는 연산자가 정해져 있음"
   ]
  },
  {
   "cell_type": "markdown",
   "id": "f6c0bf3a",
   "metadata": {},
   "source": [
    "### 문자열 연결 연산자\n",
    "\n",
    "- 두 문자열을 연결해서 새로운 문자열을 만들어냄"
   ]
  },
  {
   "cell_type": "code",
   "execution_count": 30,
   "id": "62bc1243",
   "metadata": {},
   "outputs": [
    {
     "data": {
      "text/plain": [
       "'Hello, World!'"
      ]
     },
     "execution_count": 30,
     "metadata": {},
     "output_type": "execute_result"
    }
   ],
   "source": [
    "# 문자열은 + 연산자로 문자열 연결 연산 적용\n",
    "# 숫자 더하기 연산자와 문자열 연결 연산자 모두 + 기호를 사용하지만 완전히 다른 기능을 수행\n",
    "\"Hello, \" + \"World!\""
   ]
  },
  {
   "cell_type": "code",
   "execution_count": 31,
   "id": "6ce20c8c",
   "metadata": {},
   "outputs": [
    {
     "ename": "TypeError",
     "evalue": "can only concatenate str (not \"int\") to str",
     "output_type": "error",
     "traceback": [
      "\u001b[1;31m---------------------------------------------------------------------------\u001b[0m",
      "\u001b[1;31mTypeError\u001b[0m                                 Traceback (most recent call last)",
      "Cell \u001b[1;32mIn[31], line 2\u001b[0m\n\u001b[0;32m      1\u001b[0m \u001b[38;5;66;03m# 문자열과 숫자 사이에 문자열 연결 연산자를 사용하면 에러 발생\u001b[39;00m\n\u001b[1;32m----> 2\u001b[0m \u001b[38;5;28mprint\u001b[39m(\u001b[38;5;124m\"\u001b[39m\u001b[38;5;124m안녕하세요\u001b[39m\u001b[38;5;124m\"\u001b[39m \u001b[38;5;241m+\u001b[39m \u001b[38;5;241m1\u001b[39m)\n",
      "\u001b[1;31mTypeError\u001b[0m: can only concatenate str (not \"int\") to str"
     ]
    }
   ],
   "source": [
    "# 문자열과 숫자 사이에 문자열 연결 연산자를 사용하면 에러 발생\n",
    "print(\"안녕하세요\" + 1)"
   ]
  },
  {
   "cell_type": "code",
   "execution_count": 32,
   "id": "63f48d35",
   "metadata": {},
   "outputs": [
    {
     "name": "stdout",
     "output_type": "stream",
     "text": [
      "안녕하세요1\n"
     ]
    }
   ],
   "source": [
    "# 만약 \"안녕하세요1\"을 출력하고 싶은 경우 숫자도 문자열로 인식시켜야 함\n",
    "print(\"안녕하세요\" + \"1\")"
   ]
  },
  {
   "cell_type": "markdown",
   "id": "a336d7d7",
   "metadata": {},
   "source": [
    "### 문자열 반복 연산자\n",
    "\n",
    "- 문자열을 숫자와 * 연산자로 연결\n",
    "- 문자열을 숫자만큼 반복해서 출력"
   ]
  },
  {
   "cell_type": "code",
   "execution_count": 33,
   "id": "1dd24583",
   "metadata": {},
   "outputs": [
    {
     "data": {
      "text/plain": [
       "'HelloHelloHello'"
      ]
     },
     "execution_count": 33,
     "metadata": {},
     "output_type": "execute_result"
    }
   ],
   "source": [
    "\"Hello\" * 3"
   ]
  },
  {
   "cell_type": "code",
   "execution_count": 34,
   "id": "a2de679b",
   "metadata": {},
   "outputs": [
    {
     "ename": "TypeError",
     "evalue": "can't multiply sequence by non-int of type 'str'",
     "output_type": "error",
     "traceback": [
      "\u001b[1;31m---------------------------------------------------------------------------\u001b[0m",
      "\u001b[1;31mTypeError\u001b[0m                                 Traceback (most recent call last)",
      "Cell \u001b[1;32mIn[34], line 1\u001b[0m\n\u001b[1;32m----> 1\u001b[0m \u001b[38;5;124m\"\u001b[39m\u001b[38;5;124mHello\u001b[39m\u001b[38;5;124m\"\u001b[39m \u001b[38;5;241m*\u001b[39m \u001b[38;5;124m\"\u001b[39m\u001b[38;5;124m3\u001b[39m\u001b[38;5;124m\"\u001b[39m\n",
      "\u001b[1;31mTypeError\u001b[0m: can't multiply sequence by non-int of type 'str'"
     ]
    }
   ],
   "source": [
    "# string과 string은 에러를 띄움\n",
    "\"Hello\" * \"3\""
   ]
  },
  {
   "cell_type": "code",
   "execution_count": 35,
   "id": "149b15fd",
   "metadata": {},
   "outputs": [
    {
     "data": {
      "text/plain": [
       "'HelloHelloHello'"
      ]
     },
     "execution_count": 35,
     "metadata": {},
     "output_type": "execute_result"
    }
   ],
   "source": [
    "# 순서는 바뀌어도 상관 없음\n",
    "3 * \"Hello\""
   ]
  },
  {
   "cell_type": "markdown",
   "id": "191b3430",
   "metadata": {},
   "source": [
    "### 문자열 인덱싱(indexing)\n",
    "\n",
    "- 대괄호(문자 선택 연산자)는 문자열 내부의 문자 하나를 선택하는 연산자\n",
    "- 대괄호 안에 선택할 문자의 위치(인덱스(index))를 지정\n",
    "    - 파이썬은 인덱스를 0부터 셈"
   ]
  },
  {
   "cell_type": "code",
   "execution_count": 36,
   "id": "2e4a4783",
   "metadata": {},
   "outputs": [],
   "source": [
    "str1 = \"Hello\"\n",
    "#       01234"
   ]
  },
  {
   "cell_type": "code",
   "execution_count": 37,
   "id": "326c3a7a",
   "metadata": {},
   "outputs": [
    {
     "data": {
      "text/plain": [
       "'H'"
      ]
     },
     "execution_count": 37,
     "metadata": {},
     "output_type": "execute_result"
    }
   ],
   "source": [
    "str1[0]"
   ]
  },
  {
   "cell_type": "code",
   "execution_count": 38,
   "id": "7bd7a2dd",
   "metadata": {},
   "outputs": [
    {
     "data": {
      "text/plain": [
       "'o'"
      ]
     },
     "execution_count": 38,
     "metadata": {},
     "output_type": "execute_result"
    }
   ],
   "source": [
    "str1[4]"
   ]
  },
  {
   "cell_type": "code",
   "execution_count": 39,
   "id": "88e551b5",
   "metadata": {},
   "outputs": [
    {
     "data": {
      "text/plain": [
       "'o'"
      ]
     },
     "execution_count": 39,
     "metadata": {},
     "output_type": "execute_result"
    }
   ],
   "source": [
    "str1[-1]"
   ]
  },
  {
   "cell_type": "markdown",
   "id": "82d7868a",
   "metadata": {},
   "source": [
    "### 문자열 슬라이싱(slicing)\n",
    "\n",
    "- 문자열의 범위를 지정\n",
    "- 대괄호 안에 위치를 콜론(:) 으로 구분해서 지정\n",
    "    - 파이썬은 범위 지정 시 마지막 숫자를 포함하지 않음"
   ]
  },
  {
   "cell_type": "code",
   "execution_count": 40,
   "id": "c926bb0d",
   "metadata": {},
   "outputs": [
    {
     "data": {
      "text/plain": [
       "'Hell'"
      ]
     },
     "execution_count": 40,
     "metadata": {},
     "output_type": "execute_result"
    }
   ],
   "source": [
    "str1[0:4]"
   ]
  },
  {
   "cell_type": "code",
   "execution_count": 41,
   "id": "b3d8afff",
   "metadata": {},
   "outputs": [
    {
     "data": {
      "text/plain": [
       "'Hell'"
      ]
     },
     "execution_count": 41,
     "metadata": {},
     "output_type": "execute_result"
    }
   ],
   "source": [
    "# 대괄호 안에 넣는 숫자를 생략할 수 있음\n",
    "# 생략하면 자동으로 가장 최대 위치(첫 번째 글자 또는 마지막 글자)까지 지정\n",
    "str1[:4] # [시작인덱스 : 종료 인덱스 : 증감값]"
   ]
  },
  {
   "cell_type": "code",
   "execution_count": 42,
   "id": "8e72b5a3",
   "metadata": {},
   "outputs": [
    {
     "data": {
      "text/plain": [
       "'Hlo'"
      ]
     },
     "execution_count": 42,
     "metadata": {},
     "output_type": "execute_result"
    }
   ],
   "source": [
    "str1[::2]"
   ]
  },
  {
   "cell_type": "code",
   "execution_count": 44,
   "id": "a4772f12",
   "metadata": {},
   "outputs": [
    {
     "data": {
      "text/plain": [
       "'Hell'"
      ]
     },
     "execution_count": 44,
     "metadata": {},
     "output_type": "execute_result"
    }
   ],
   "source": [
    "str1[:-1]"
   ]
  },
  {
   "cell_type": "code",
   "execution_count": 50,
   "id": "c2fec9a4",
   "metadata": {},
   "outputs": [
    {
     "name": "stdout",
     "output_type": "stream",
     "text": [
      "ello\n",
      "ello\n",
      "ello\n"
     ]
    }
   ],
   "source": [
    "print(str1[1:5])\n",
    "print(str1[1:6])\n",
    "print(str1[1:])"
   ]
  },
  {
   "cell_type": "code",
   "execution_count": 49,
   "id": "1147843f",
   "metadata": {},
   "outputs": [
    {
     "data": {
      "text/plain": [
       "'Hello'"
      ]
     },
     "execution_count": 49,
     "metadata": {},
     "output_type": "execute_result"
    }
   ],
   "source": [
    "str1[:]"
   ]
  },
  {
   "cell_type": "markdown",
   "id": "7fc297cb",
   "metadata": {},
   "source": [
    "## 문자열 포매팅(Formatting)"
   ]
  },
  {
   "cell_type": "code",
   "execution_count": 60,
   "id": "a4da70cd",
   "metadata": {},
   "outputs": [
    {
     "name": "stdout",
     "output_type": "stream",
     "text": [
      "a + b = a + b\n",
      "3 + 4 = 7\n",
      "3 + 4 = 7\n",
      "3.1416\n",
      "3.141592\n",
      "    3\n",
      "    3\n",
      "00003\n"
     ]
    }
   ],
   "source": [
    "# 출력포맷 설정하기\n",
    "a = 3\n",
    "b = 4\n",
    "pi = 3.141592\n",
    "\n",
    "# 문자열 포맷 코드\n",
    "print(\"a + b = a + b\")\n",
    "print(a, \"+\",b, \"=\", a + b)\n",
    "print(\"%d + %d = %d\"%(a, b, a + b))\n",
    "\n",
    "# 문자열 포맷 코드에서 소수점 표현\n",
    "print(\"%0.4f\"%pi) # 소수점이하 4자리 표현\n",
    "print(\"%f\"%pi)\n",
    "\n",
    "# 특정 칸에 출력하기\n",
    "print(\"%5d\"%(a)) # 5번째칸에 a를 출력\n",
    "print(\"%5d\"%a)\n",
    "\n",
    "# 빈칸을 0으로 채우기\n",
    "print(\"%05d\"%(a))"
   ]
  },
  {
   "cell_type": "code",
   "execution_count": 73,
   "id": "fe4fac9d",
   "metadata": {},
   "outputs": [
    {
     "name": "stdout",
     "output_type": "stream",
     "text": [
      "3 + 4 = 7\n",
      "3 + 4 = 7\n",
      "3 + 3 = 3\n",
      "I ate 10 apples. so I was sick for 3 days\n",
      "I ate 10 apples. so I was sick for 10 days\n",
      "I ate 3 apples. so I was sick for 10 days\n",
      "3.141592\n",
      "3.1416\n",
      "3.1416\n",
      "3\n",
      "    3\n",
      "00003\n"
     ]
    }
   ],
   "source": [
    "# format 함수 (넣고자 하는 인덱스 번호 입력)\n",
    "print(\"{} + {} = {}\".format(a, b, (a + b)))\n",
    "print(\"{0} + {1} = {2}\".format(a, b, (a + b)))\n",
    "print(\"{0} + {0} = {0}\".format(a, b, (a + b)))\n",
    "\n",
    "# 이름으로 값 넣기\n",
    "print(\"I ate {num} apples. so I was sick for {day} days\".format(num = 10, day = 3))\n",
    "print(\"I ate {num} apples. so I was sick for {num} days\".format(num = 10, day = 3))\n",
    "print(\"I ate {day} apples. so I was sick for {num} days\".format(num = 10, day = 3))\n",
    "\n",
    "# 소수점 표현\n",
    "print(\"{0}\".format(pi))\n",
    "print(\"{0:0.04f}\".format(pi))\n",
    "print(\"{0:0.4f}\".format(pi))\n",
    "\n",
    "# 특정 칸에 출력하기\n",
    "print(\"{0}\".format(a))\n",
    "print(\"{0:5d}\".format(a))\n",
    "\n",
    "# 빈칸을 0으로 채우기\n",
    "print(\"{0:05d}\".format(a))"
   ]
  },
  {
   "cell_type": "code",
   "execution_count": 76,
   "id": "e0c97af0",
   "metadata": {},
   "outputs": [
    {
     "name": "stdout",
     "output_type": "stream",
     "text": [
      "3 + 4 = 7\n",
      "3.141592\n",
      "3.1416\n",
      "    3\n",
      "00003\n"
     ]
    }
   ],
   "source": [
    "# f-string(3.6버전부터 가능)\n",
    "print(f\"{a} + {b} = {a + b}\")\n",
    "\n",
    "# 소수점 표현\n",
    "print(f\"{pi}\")\n",
    "print(f\"{pi:0.4f}\")\n",
    "\n",
    "# 특정 칸에 출력\n",
    "print(f\"{a:5d}\")\n",
    "\n",
    "# 빈칸을 0으로 채우기\n",
    "print(f\"{a:05d}\")"
   ]
  },
  {
   "cell_type": "markdown",
   "id": "72b06b2b",
   "metadata": {},
   "source": [
    "### 문자열 관련 함수"
   ]
  },
  {
   "cell_type": "code",
   "execution_count": 91,
   "id": "caede6e6",
   "metadata": {},
   "outputs": [],
   "source": [
    "str1 = \"hobby\""
   ]
  },
  {
   "cell_type": "code",
   "execution_count": 92,
   "id": "18e839e0",
   "metadata": {},
   "outputs": [
    {
     "data": {
      "text/plain": [
       "2"
      ]
     },
     "execution_count": 92,
     "metadata": {},
     "output_type": "execute_result"
    }
   ],
   "source": [
    "# 문자 개수 세기\n",
    "str1.count(\"b\")"
   ]
  },
  {
   "cell_type": "code",
   "execution_count": 93,
   "id": "2be9615c",
   "metadata": {},
   "outputs": [
    {
     "data": {
      "text/plain": [
       "2"
      ]
     },
     "execution_count": 93,
     "metadata": {},
     "output_type": "execute_result"
    }
   ],
   "source": [
    "# 위치 찾기1\n",
    "# 검색하는 문자가 처음으로 나온 위치 반환\n",
    "str1.find(\"b\")"
   ]
  },
  {
   "cell_type": "code",
   "execution_count": 95,
   "id": "456d1a2b",
   "metadata": {},
   "outputs": [
    {
     "data": {
      "text/plain": [
       "-1"
      ]
     },
     "execution_count": 95,
     "metadata": {},
     "output_type": "execute_result"
    }
   ],
   "source": [
    "# 검색하는 문자가 존재하지 않는 경우 -1을 반환\n",
    "str1.find(\"a\")"
   ]
  },
  {
   "cell_type": "code",
   "execution_count": 96,
   "id": "38cd95b2",
   "metadata": {},
   "outputs": [
    {
     "data": {
      "text/plain": [
       "2"
      ]
     },
     "execution_count": 96,
     "metadata": {},
     "output_type": "execute_result"
    }
   ],
   "source": [
    "# 위치 찾기2\n",
    "str1.index(\"b\")"
   ]
  },
  {
   "cell_type": "code",
   "execution_count": 97,
   "id": "31ed7a7f",
   "metadata": {},
   "outputs": [
    {
     "ename": "ValueError",
     "evalue": "substring not found",
     "output_type": "error",
     "traceback": [
      "\u001b[1;31m---------------------------------------------------------------------------\u001b[0m",
      "\u001b[1;31mValueError\u001b[0m                                Traceback (most recent call last)",
      "Cell \u001b[1;32mIn[97], line 2\u001b[0m\n\u001b[0;32m      1\u001b[0m \u001b[38;5;66;03m# 검색하는 문자가 존재하지 않는 경우 에러 발생\u001b[39;00m\n\u001b[1;32m----> 2\u001b[0m str1\u001b[38;5;241m.\u001b[39mindex(\u001b[38;5;124m\"\u001b[39m\u001b[38;5;124ma\u001b[39m\u001b[38;5;124m\"\u001b[39m)\n",
      "\u001b[1;31mValueError\u001b[0m: substring not found"
     ]
    }
   ],
   "source": [
    "# 검색하는 문자가 존재하지 않는 경우 에러 발생\n",
    "str1.index(\"a\")"
   ]
  },
  {
   "cell_type": "code",
   "execution_count": 98,
   "id": "299027c1",
   "metadata": {},
   "outputs": [
    {
     "data": {
      "text/plain": [
       "'a,b,c,d'"
      ]
     },
     "execution_count": 98,
     "metadata": {},
     "output_type": "execute_result"
    }
   ],
   "source": [
    "# 문자열 삽입\n",
    "\",\".join(\"abcd\")"
   ]
  },
  {
   "cell_type": "code",
   "execution_count": 99,
   "id": "aee2fbf5",
   "metadata": {},
   "outputs": [
    {
     "data": {
      "text/plain": [
       "'a,b,c,d'"
      ]
     },
     "execution_count": 99,
     "metadata": {},
     "output_type": "execute_result"
    }
   ],
   "source": [
    "\",\".join([\"a\", \"b\", \"c\", \"d\"])"
   ]
  },
  {
   "cell_type": "code",
   "execution_count": 100,
   "id": "1e128eb1",
   "metadata": {},
   "outputs": [
    {
     "name": "stdout",
     "output_type": "stream",
     "text": [
      "HELLO\n",
      "hello\n"
     ]
    }
   ],
   "source": [
    "# 대소문자 변환\n",
    "print(\"hello\".upper())\n",
    "print(\"HELLO\".lower())"
   ]
  },
  {
   "cell_type": "code",
   "execution_count": 101,
   "id": "5089bc03",
   "metadata": {},
   "outputs": [
    {
     "data": {
      "text/plain": [
       "'hello'"
      ]
     },
     "execution_count": 101,
     "metadata": {},
     "output_type": "execute_result"
    }
   ],
   "source": [
    "# 공백 제거\n",
    "\" hello \".strip()"
   ]
  },
  {
   "cell_type": "code",
   "execution_count": 105,
   "id": "62ccf2ac",
   "metadata": {},
   "outputs": [
    {
     "data": {
      "text/plain": [
       "' hell'"
      ]
     },
     "execution_count": 105,
     "metadata": {},
     "output_type": "execute_result"
    }
   ],
   "source": [
    "\" hello\".strip(\"o\") # 좌우의 괄호안의 문자 제거"
   ]
  },
  {
   "cell_type": "code",
   "execution_count": 104,
   "id": "c2f11249",
   "metadata": {},
   "outputs": [
    {
     "data": {
      "text/plain": [
       "'Python'"
      ]
     },
     "execution_count": 104,
     "metadata": {},
     "output_type": "execute_result"
    }
   ],
   "source": [
    "# 문자열 치환\n",
    "str1 = \"Pithon\"\n",
    "\n",
    "str1.replace(\"i\", \"y\")"
   ]
  },
  {
   "cell_type": "code",
   "execution_count": 106,
   "id": "674ed367",
   "metadata": {},
   "outputs": [
    {
     "data": {
      "text/plain": [
       "['Life', 'is', 'too', 'short']"
      ]
     },
     "execution_count": 106,
     "metadata": {},
     "output_type": "execute_result"
    }
   ],
   "source": [
    "# 문자열 나누기\n",
    "str1 = \"Life is too short\"\n",
    "\n",
    "str1.split()"
   ]
  },
  {
   "cell_type": "code",
   "execution_count": 107,
   "id": "74e0364a",
   "metadata": {},
   "outputs": [
    {
     "data": {
      "text/plain": [
       "['a', 'b', 'c', 'd']"
      ]
     },
     "execution_count": 107,
     "metadata": {},
     "output_type": "execute_result"
    }
   ],
   "source": [
    "str2 = \"a:b:c:d\"\n",
    "\n",
    "str2.split(\":\")"
   ]
  },
  {
   "cell_type": "code",
   "execution_count": 108,
   "id": "4104c701",
   "metadata": {},
   "outputs": [
    {
     "name": "stdout",
     "output_type": "stream",
     "text": [
      "5\n"
     ]
    }
   ],
   "source": [
    "# 문자열의 길이 구하기\n",
    "print(len(\"안녕하세요\"))"
   ]
  },
  {
   "cell_type": "markdown",
   "id": "ab93a6ed",
   "metadata": {},
   "source": [
    "# 불 자료형(Boolean)\n",
    "\n",
    "- 참(True)과 거짓(False)을 나타내는 자료형\n",
    "    - 어떤 명제의 결과를 표현\n",
    "- 불린 또는 불리언 이라는 발음으로 부름\n",
    "    - 프로그래밍에서는 짧게 Bool 이라고 쓰기도 함"
   ]
  },
  {
   "cell_type": "code",
   "execution_count": 110,
   "id": "64c4dcce",
   "metadata": {},
   "outputs": [
    {
     "name": "stdout",
     "output_type": "stream",
     "text": [
      "True\n",
      "<class 'bool'>\n",
      "False\n",
      "<class 'bool'>\n"
     ]
    }
   ],
   "source": [
    "a = True\n",
    "b = False\n",
    "\n",
    "print(a)\n",
    "print(type(a))\n",
    "print(b)\n",
    "print(type(b))"
   ]
  },
  {
   "cell_type": "markdown",
   "id": "2df3e896",
   "metadata": {},
   "source": [
    "## 불 연산"
   ]
  },
  {
   "cell_type": "markdown",
   "id": "20c72dcc",
   "metadata": {},
   "source": [
    "### 비교 연산자\n",
    "\n",
    "- == : 같다\n",
    "- != : 다르다\n",
    "- <, > : 크다, 작다\n",
    "- <=, >= : 작거나 같다, 크거나 같다"
   ]
  },
  {
   "cell_type": "code",
   "execution_count": 111,
   "id": "8fa12e1a",
   "metadata": {},
   "outputs": [
    {
     "data": {
      "text/plain": [
       "True"
      ]
     },
     "execution_count": 111,
     "metadata": {},
     "output_type": "execute_result"
    }
   ],
   "source": [
    "1 == 1"
   ]
  },
  {
   "cell_type": "code",
   "execution_count": 112,
   "id": "e6b6ab09",
   "metadata": {},
   "outputs": [
    {
     "data": {
      "text/plain": [
       "False"
      ]
     },
     "execution_count": 112,
     "metadata": {},
     "output_type": "execute_result"
    }
   ],
   "source": [
    "1 != 1"
   ]
  },
  {
   "cell_type": "code",
   "execution_count": 113,
   "id": "f87b0653",
   "metadata": {},
   "outputs": [
    {
     "data": {
      "text/plain": [
       "True"
      ]
     },
     "execution_count": 113,
     "metadata": {},
     "output_type": "execute_result"
    }
   ],
   "source": [
    "2 > 1"
   ]
  },
  {
   "cell_type": "code",
   "execution_count": 114,
   "id": "4c6fe897",
   "metadata": {},
   "outputs": [
    {
     "data": {
      "text/plain": [
       "False"
      ]
     },
     "execution_count": 114,
     "metadata": {},
     "output_type": "execute_result"
    }
   ],
   "source": [
    "2 < 1"
   ]
  },
  {
   "cell_type": "code",
   "execution_count": 115,
   "id": "8a73db74",
   "metadata": {},
   "outputs": [
    {
     "data": {
      "text/plain": [
       "True"
      ]
     },
     "execution_count": 115,
     "metadata": {},
     "output_type": "execute_result"
    }
   ],
   "source": [
    "1 < 2 < 3"
   ]
  },
  {
   "cell_type": "code",
   "execution_count": 116,
   "id": "a1a0a72d",
   "metadata": {},
   "outputs": [
    {
     "data": {
      "text/plain": [
       "True"
      ]
     },
     "execution_count": 116,
     "metadata": {},
     "output_type": "execute_result"
    }
   ],
   "source": [
    "1 < 4 > 3"
   ]
  },
  {
   "cell_type": "code",
   "execution_count": 117,
   "id": "182e4cc7",
   "metadata": {},
   "outputs": [
    {
     "data": {
      "text/plain": [
       "True"
      ]
     },
     "execution_count": 117,
     "metadata": {},
     "output_type": "execute_result"
    }
   ],
   "source": [
    "2 >= 1"
   ]
  },
  {
   "cell_type": "code",
   "execution_count": 118,
   "id": "1a652002",
   "metadata": {},
   "outputs": [
    {
     "data": {
      "text/plain": [
       "False"
      ]
     },
     "execution_count": 118,
     "metadata": {},
     "output_type": "execute_result"
    }
   ],
   "source": [
    "2 <= 1"
   ]
  },
  {
   "cell_type": "code",
   "execution_count": 119,
   "id": "b43271f2",
   "metadata": {},
   "outputs": [
    {
     "ename": "SyntaxError",
     "evalue": "cannot assign to literal (66969181.py, line 1)",
     "output_type": "error",
     "traceback": [
      "\u001b[1;36m  Cell \u001b[1;32mIn[119], line 1\u001b[1;36m\u001b[0m\n\u001b[1;33m    2 => 1\u001b[0m\n\u001b[1;37m    ^\u001b[0m\n\u001b[1;31mSyntaxError\u001b[0m\u001b[1;31m:\u001b[0m cannot assign to literal\n"
     ]
    }
   ],
   "source": [
    "2 => 1"
   ]
  },
  {
   "cell_type": "code",
   "execution_count": 120,
   "id": "e3e45464",
   "metadata": {},
   "outputs": [
    {
     "ename": "SyntaxError",
     "evalue": "cannot assign to literal (3710861996.py, line 1)",
     "output_type": "error",
     "traceback": [
      "\u001b[1;36m  Cell \u001b[1;32mIn[120], line 1\u001b[1;36m\u001b[0m\n\u001b[1;33m    2 =< 1\u001b[0m\n\u001b[1;37m    ^\u001b[0m\n\u001b[1;31mSyntaxError\u001b[0m\u001b[1;31m:\u001b[0m cannot assign to literal\n"
     ]
    }
   ],
   "source": [
    "2 =< 1"
   ]
  },
  {
   "cell_type": "code",
   "execution_count": 121,
   "id": "341041ef",
   "metadata": {},
   "outputs": [
    {
     "name": "stdout",
     "output_type": "stream",
     "text": [
      "True\n",
      "False\n"
     ]
    }
   ],
   "source": [
    "# 문자열에 비교 연산자를 적용하면 한글은 사전순서로 앞에 있는 것이 작은 값을 가짐\n",
    "print(\"가방\" < \"하마\")\n",
    "print(\"가방\" > \"하마\")"
   ]
  },
  {
   "cell_type": "markdown",
   "id": "ecc6c1cc",
   "metadata": {},
   "source": [
    "### 타입 변환"
   ]
  },
  {
   "cell_type": "code",
   "execution_count": 122,
   "id": "47ef99c0",
   "metadata": {},
   "outputs": [
    {
     "data": {
      "text/plain": [
       "True"
      ]
     },
     "execution_count": 122,
     "metadata": {},
     "output_type": "execute_result"
    }
   ],
   "source": [
    "bool(\"python\")"
   ]
  },
  {
   "cell_type": "code",
   "execution_count": 123,
   "id": "2f7eb181",
   "metadata": {},
   "outputs": [
    {
     "data": {
      "text/plain": [
       "False"
      ]
     },
     "execution_count": 123,
     "metadata": {},
     "output_type": "execute_result"
    }
   ],
   "source": [
    "bool(\"\")"
   ]
  },
  {
   "cell_type": "code",
   "execution_count": 124,
   "id": "8e7fa702",
   "metadata": {},
   "outputs": [
    {
     "data": {
      "text/plain": [
       "True"
      ]
     },
     "execution_count": 124,
     "metadata": {},
     "output_type": "execute_result"
    }
   ],
   "source": [
    "bool([1, 2, 3])"
   ]
  },
  {
   "cell_type": "code",
   "execution_count": 125,
   "id": "b8de684b",
   "metadata": {},
   "outputs": [
    {
     "data": {
      "text/plain": [
       "False"
      ]
     },
     "execution_count": 125,
     "metadata": {},
     "output_type": "execute_result"
    }
   ],
   "source": [
    "bool([]) # 리스트 안에 값이 없는 경우를 제외하고는 모두 True"
   ]
  },
  {
   "cell_type": "code",
   "execution_count": 126,
   "id": "665b924f",
   "metadata": {},
   "outputs": [
    {
     "data": {
      "text/plain": [
       "True"
      ]
     },
     "execution_count": 126,
     "metadata": {},
     "output_type": "execute_result"
    }
   ],
   "source": [
    "bool(1)"
   ]
  },
  {
   "cell_type": "code",
   "execution_count": 127,
   "id": "e2b65fca",
   "metadata": {},
   "outputs": [
    {
     "data": {
      "text/plain": [
       "False"
      ]
     },
     "execution_count": 127,
     "metadata": {},
     "output_type": "execute_result"
    }
   ],
   "source": [
    "bool(0) # 숫자의 경우 0을 제외하고 모두 True"
   ]
  },
  {
   "cell_type": "code",
   "execution_count": 128,
   "id": "869ce16e",
   "metadata": {},
   "outputs": [
    {
     "data": {
      "text/plain": [
       "1"
      ]
     },
     "execution_count": 128,
     "metadata": {},
     "output_type": "execute_result"
    }
   ],
   "source": [
    "int(True)"
   ]
  },
  {
   "cell_type": "code",
   "execution_count": 129,
   "id": "b28888ce",
   "metadata": {},
   "outputs": [
    {
     "data": {
      "text/plain": [
       "0"
      ]
     },
     "execution_count": 129,
     "metadata": {},
     "output_type": "execute_result"
    }
   ],
   "source": [
    "int(False)"
   ]
  },
  {
   "cell_type": "markdown",
   "id": "b707b879",
   "metadata": {},
   "source": [
    "### 논리 연산자\n",
    "\n",
    "- not : 불을 반대로 변환\n",
    "- and : 두 값이 모두 참일 때 True를 출력하고, 그 외에는 모두 False를 출력\n",
    "- or : 두 값 중 하나만 참이어도 True를 출력하고, 두 개가 모두 거짓일 때만 False를 출력"
   ]
  },
  {
   "cell_type": "code",
   "execution_count": 130,
   "id": "7368772f",
   "metadata": {},
   "outputs": [
    {
     "name": "stdout",
     "output_type": "stream",
     "text": [
      "False\n",
      "True\n"
     ]
    }
   ],
   "source": [
    "print(not True)\n",
    "print(not False)"
   ]
  },
  {
   "cell_type": "code",
   "execution_count": 131,
   "id": "b81a0f0c",
   "metadata": {},
   "outputs": [
    {
     "name": "stdout",
     "output_type": "stream",
     "text": [
      "True\n",
      "False\n",
      "False\n",
      "False\n"
     ]
    }
   ],
   "source": [
    "print(True and True)\n",
    "print(True and False)\n",
    "print(False and True)\n",
    "print(False and False)"
   ]
  },
  {
   "cell_type": "code",
   "execution_count": 132,
   "id": "25607b64",
   "metadata": {},
   "outputs": [
    {
     "name": "stdout",
     "output_type": "stream",
     "text": [
      "True\n",
      "True\n",
      "True\n",
      "False\n"
     ]
    }
   ],
   "source": [
    "print(True or True)\n",
    "print(True or False)\n",
    "print(False or True)\n",
    "print(False or False)"
   ]
  },
  {
   "cell_type": "markdown",
   "id": "17b29c7d",
   "metadata": {},
   "source": [
    "# 연습문제"
   ]
  },
  {
   "cell_type": "code",
   "execution_count": 26,
   "id": "f5ab93c0",
   "metadata": {},
   "outputs": [
    {
     "name": "stdout",
     "output_type": "stream",
     "text": [
      "True\n",
      "True\n"
     ]
    }
   ],
   "source": [
    "# 1. 자연수를 입력받아 홀수인지 짝수인지 판별하기\n",
    "# 홀수는 False, 짝수는 True\n",
    "num = 52\n",
    "\n",
    "print(num % 2 == 0)\n",
    "# 2진수의 경우 마지막자리가 0일경우 짝수 인 경우도 있음\n",
    "print(bin(num)[-1] == \"0\")"
   ]
  },
  {
   "cell_type": "code",
   "execution_count": 15,
   "id": "03d81fb2",
   "metadata": {},
   "outputs": [
    {
     "name": "stdout",
     "output_type": "stream",
     "text": [
      "881220\n",
      "1\n"
     ]
    }
   ],
   "source": [
    "# 2. 주민등록번호에서 생년월일, 성별 추출하기\n",
    "hong = \"881220-1068234\"\n",
    "\n",
    "# print(생년월일) = 881220\n",
    "# print(성별) = 1\n",
    "print(hong[:6])\n",
    "print(hong[7])"
   ]
  },
  {
   "cell_type": "code",
   "execution_count": 24,
   "id": "fe934dfa",
   "metadata": {},
   "outputs": [
    {
     "name": "stdout",
     "output_type": "stream",
     "text": [
      "19 88 년 12 월 20 일 생\n"
     ]
    }
   ],
   "source": [
    "print(\"19\",hong[:2],\"년\", hong[2:4],\"월\", hong[4:6], \"일 생\")"
   ]
  },
  {
   "cell_type": "code",
   "execution_count": 23,
   "id": "f459541e",
   "metadata": {},
   "outputs": [
    {
     "name": "stdout",
     "output_type": "stream",
     "text": [
      "남자\n"
     ]
    }
   ],
   "source": [
    "if hong[7] == \"1\":\n",
    "    print(\"남자\")\n",
    "else:\n",
    "    print(\"여자\")"
   ]
  },
  {
   "cell_type": "code",
   "execution_count": 87,
   "id": "2bfe5b7d",
   "metadata": {},
   "outputs": [
    {
     "name": "stdout",
     "output_type": "stream",
     "text": [
      "nav51!\n"
     ]
    }
   ],
   "source": [
    "# 3. 비밀번호 만들기(시험에 나올뻔)\n",
    "# 사이트별로 아래의 규칙에 따라 비밀번호를 생성하는 코드를 작성하기\n",
    "# 사이트 주소 예시 : \"http://naver.com\", \"http://daum.net\", \"http://google.ocm\", \"http://youtube.com\"\n",
    "# 규칙1 : http:// 부분은 제외한다\n",
    "# 규칙2 : 처음만나는 점(.) 이후 부분도 제외한다\n",
    "# 규칙3 : 남은 글자 중 처음 세자리 + 글자 개수 + 글자 내 \"e\"의 개수 + \"!\"로 비밀번호를 구성한다\n",
    "\n",
    "# 규칙에 따라 \"http://naver.com\"의 비밀번호를 생성하면 nav51! 가 된다\n",
    "addr = \"http://naver.com\"\n",
    "    \n",
    "addr_rule = addr.split(\"//\")[1][:-4] # = addr[7:-4]\n",
    "\n",
    "password = str(addr_rule[:3]) + str(len(addr_rule)) + str(addr_rule.count(\"e\")) + \"!\"\n",
    "\n",
    "print(password)"
   ]
  },
  {
   "cell_type": "code",
   "execution_count": 132,
   "id": "8a9cd82f",
   "metadata": {},
   "outputs": [
    {
     "name": "stdout",
     "output_type": "stream",
     "text": [
      "nav51!\n",
      "dau40!\n",
      "goo61!\n",
      "you71!\n",
      "nav51!\n"
     ]
    }
   ],
   "source": [
    "addr_list = [\"http://naver.com\", \"http://daum.net\", \"http://google.ocm\", \"http://youtube.com\", \"https://www.naver.com\"]\n",
    "\n",
    "for i in range(len(addr_list)):\n",
    "    if addr_list[i].count(\".\") == (2 or 3):\n",
    "        addr = addr_list[i]\n",
    "        addr_rule = addr.split(\".\")[1]\n",
    "        password = str(addr_rule[:3]) + str(len(addr_rule)) + str(addr_rule.count(\"e\")) + \"!\"\n",
    "        print(password)\n",
    "    else:\n",
    "        addr = addr_list[i]\n",
    "        addr_rule = addr.split(\"//\")[1][:-4]\n",
    "        password = str(addr_rule[:3]) + str(len(addr_rule)) + str(addr_rule.count(\"e\")) + \"!\"\n",
    "        print(password)"
   ]
  },
  {
   "cell_type": "code",
   "execution_count": 135,
   "id": "8bafcfdd",
   "metadata": {},
   "outputs": [
    {
     "name": "stdout",
     "output_type": "stream",
     "text": [
      "nav51!\n"
     ]
    }
   ],
   "source": [
    "# 강사님 풀이\n",
    "\n",
    "addr = \"http://naver.com\"\n",
    "\n",
    "addr = addr.replace(\"http://\", \"\") # 규칙 1번 적용\n",
    "addr = addr[:addr.index(\".\")] # 규칙 2번 적용\n",
    "\n",
    "password = addr[:3] + str(len(addr)) + str(addr.count(\"e\")) + \"!\"\n",
    "\n",
    "print(password)"
   ]
  }
 ],
 "metadata": {
  "kernelspec": {
   "display_name": "Python 3 (ipykernel)",
   "language": "python",
   "name": "python3"
  },
  "language_info": {
   "codemirror_mode": {
    "name": "ipython",
    "version": 3
   },
   "file_extension": ".py",
   "mimetype": "text/x-python",
   "name": "python",
   "nbconvert_exporter": "python",
   "pygments_lexer": "ipython3",
   "version": "3.11.5"
  }
 },
 "nbformat": 4,
 "nbformat_minor": 5
}
