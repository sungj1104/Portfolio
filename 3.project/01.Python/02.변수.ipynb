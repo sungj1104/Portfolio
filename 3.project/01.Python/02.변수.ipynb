{
 "cells": [
  {
   "cell_type": "markdown",
   "id": "41ccd4f6",
   "metadata": {},
   "source": [
    "# 변수\n",
    "\n",
    "- 변할 수 있는 자료\n",
    "- 값을 저장할 때 사용\n",
    "    - 모든 자료형의 값을 저장할 수 있음"
   ]
  },
  {
   "cell_type": "code",
   "execution_count": 1,
   "id": "5356ee10",
   "metadata": {},
   "outputs": [
    {
     "data": {
      "text/plain": [
       "3.14159265"
      ]
     },
     "execution_count": 1,
     "metadata": {},
     "output_type": "execute_result"
    }
   ],
   "source": [
    "pi = 3.14159265\n",
    "pi"
   ]
  },
  {
   "cell_type": "markdown",
   "id": "ef63488f",
   "metadata": {},
   "source": [
    "## 변수 활용 방법\n",
    "\n",
    "- 변수를 선언\n",
    "    - 변수를 생성하는 것\n",
    "    \n",
    "- 변수에 값을 할당\n",
    "    - 변수에 값을 넣는 것\n",
    "        - = 기호는 우변의 값을 좌변에 할당하겠다는 의미\n",
    "        - 변수 = 값\n",
    "        \n",
    "- 변수를 참조\n",
    "    - 변수에서 값을 꺼내는 것"
   ]
  },
  {
   "cell_type": "code",
   "execution_count": 2,
   "id": "68f2f115",
   "metadata": {},
   "outputs": [
    {
     "data": {
      "text/plain": [
       "5.14159265"
      ]
     },
     "execution_count": 2,
     "metadata": {},
     "output_type": "execute_result"
    }
   ],
   "source": [
    "pi + 2"
   ]
  },
  {
   "cell_type": "code",
   "execution_count": 3,
   "id": "071ea3ad",
   "metadata": {},
   "outputs": [
    {
     "data": {
      "text/plain": [
       "1.1415926500000002"
      ]
     },
     "execution_count": 3,
     "metadata": {},
     "output_type": "execute_result"
    }
   ],
   "source": [
    "pi - 2"
   ]
  },
  {
   "cell_type": "code",
   "execution_count": 4,
   "id": "a77c55e5",
   "metadata": {},
   "outputs": [
    {
     "data": {
      "text/plain": [
       "6.2831853"
      ]
     },
     "execution_count": 4,
     "metadata": {},
     "output_type": "execute_result"
    }
   ],
   "source": [
    "pi * 2"
   ]
  },
  {
   "cell_type": "code",
   "execution_count": 5,
   "id": "4b66446b",
   "metadata": {},
   "outputs": [
    {
     "data": {
      "text/plain": [
       "1.570796325"
      ]
     },
     "execution_count": 5,
     "metadata": {},
     "output_type": "execute_result"
    }
   ],
   "source": [
    "pi / 2"
   ]
  },
  {
   "cell_type": "code",
   "execution_count": 6,
   "id": "b90fca79",
   "metadata": {},
   "outputs": [
    {
     "data": {
      "text/plain": [
       "1.1415926500000002"
      ]
     },
     "execution_count": 6,
     "metadata": {},
     "output_type": "execute_result"
    }
   ],
   "source": [
    "pi % 2"
   ]
  },
  {
   "cell_type": "code",
   "execution_count": 7,
   "id": "cdbcafa2",
   "metadata": {},
   "outputs": [
    {
     "data": {
      "text/plain": [
       "9.869604378534024"
      ]
     },
     "execution_count": 7,
     "metadata": {},
     "output_type": "execute_result"
    }
   ],
   "source": [
    "pi * pi"
   ]
  },
  {
   "cell_type": "markdown",
   "id": "2b3a97a9",
   "metadata": {},
   "source": [
    "# 복합 대입 연산자\n",
    "\n",
    "- 자료형에 적용하는 기본 연산자와 = 연산자를 함께 사용해 구성하는 연산자\n",
    "    - += : 숫자 덧셈 후 대입\n",
    "    - -= : 숫자 뺄셈 후 대입\n",
    "    - *= : 숫자 곱셈 후 대입\n",
    "    - /= : 숫자 나눗셈 후 대입\n",
    "    - %= : 숫자의 나머지를 구한 후 대입\n",
    "    - **= : 숫자 제곱 후 대입\n",
    "    \n",
    "- 예) a += 10 은 a = a + 10 과 같은 결과"
   ]
  },
  {
   "cell_type": "code",
   "execution_count": 9,
   "id": "04c5bfb9",
   "metadata": {},
   "outputs": [
    {
     "name": "stdout",
     "output_type": "stream",
     "text": [
      "160\n"
     ]
    }
   ],
   "source": [
    "number = 100 # 100\n",
    "number += 10 # 100 + 10\n",
    "number += 20 # (100 + 10) + 20\n",
    "number += 30 # ((100 + 10) + 20) + 30\n",
    "\n",
    "print(number)"
   ]
  },
  {
   "cell_type": "code",
   "execution_count": 11,
   "id": "097c67d4",
   "metadata": {},
   "outputs": [
    {
     "name": "stdout",
     "output_type": "stream",
     "text": [
      "안녕하세요!!\n"
     ]
    }
   ],
   "source": [
    "# 문자열 복합 대입 연산자\n",
    "str1 = \"안녕하세요\" # 안녕하세요\n",
    "str1 += \"!\" # 안녕하세요 + !\n",
    "str1 += \"!\" # (안녕하세요 + !) + !\n",
    "print(str1)"
   ]
  },
  {
   "cell_type": "markdown",
   "id": "a8d3942c",
   "metadata": {},
   "source": [
    "# 자료형 변환"
   ]
  },
  {
   "cell_type": "markdown",
   "id": "2312f0b3",
   "metadata": {},
   "source": [
    "## 문자열을 숫자로 바꾸기\n",
    "\n",
    "- int() : 문자열을 int 자료형으로 변환\n",
    "- float() : 문자열을 float 자료형으로 변환"
   ]
  },
  {
   "cell_type": "code",
   "execution_count": 12,
   "id": "83fa103e",
   "metadata": {},
   "outputs": [
    {
     "name": "stdout",
     "output_type": "stream",
     "text": [
      "문자열 자료 :  27352\n",
      "숫자 자료 :  325\n"
     ]
    }
   ],
   "source": [
    "str_a = \"273\"\n",
    "int_a = int(str_a)\n",
    "\n",
    "str_b  = \"52\"\n",
    "int_b = int(str_b)\n",
    "\n",
    "print(\"문자열 자료 : \", str_a + str_b)\n",
    "print(\"숫자 자료 : \", int_a + int_b)"
   ]
  },
  {
   "cell_type": "code",
   "execution_count": 13,
   "id": "5c01d042",
   "metadata": {},
   "outputs": [
    {
     "name": "stdout",
     "output_type": "stream",
     "text": [
      "<class 'int'> 52\n",
      "<class 'float'> 52.573\n"
     ]
    }
   ],
   "source": [
    "output_a = int(\"52\")\n",
    "output_b = float(\"52.573\")\n",
    "\n",
    "print(type(output_a), output_a)\n",
    "print(type(output_b), output_b)"
   ]
  },
  {
   "cell_type": "code",
   "execution_count": 14,
   "id": "730b5513",
   "metadata": {},
   "outputs": [
    {
     "name": "stdout",
     "output_type": "stream",
     "text": [
      "덧셈 결과 :  325.0\n"
     ]
    }
   ],
   "source": [
    "input_a = float(\"273\")\n",
    "input_b = float(\"52\")\n",
    "\n",
    "print(\"덧셈 결과 : \", input_a + input_b)"
   ]
  },
  {
   "cell_type": "markdown",
   "id": "6e025107",
   "metadata": {},
   "source": [
    "- 자료형을 변활할 때 \"변환할 수 없는 것\"을 반환하려고 하면 ValueError 예외가 발생\n",
    "    - 숫자가 아닌 것을 숫자로 변환하려고 할 때\n",
    "    - 소수점이 있는 숫자 형식의 문자열을 int() 함수로 변환하려고 할 때"
   ]
  },
  {
   "cell_type": "code",
   "execution_count": 15,
   "id": "86d71f55",
   "metadata": {},
   "outputs": [
    {
     "ename": "ValueError",
     "evalue": "invalid literal for int() with base 10: '안녕하세요'",
     "output_type": "error",
     "traceback": [
      "\u001b[1;31m---------------------------------------------------------------------------\u001b[0m",
      "\u001b[1;31mValueError\u001b[0m                                Traceback (most recent call last)",
      "Cell \u001b[1;32mIn[15], line 2\u001b[0m\n\u001b[0;32m      1\u001b[0m \u001b[38;5;66;03m# 문자열은 숫자로 변환할 수 없음\u001b[39;00m\n\u001b[1;32m----> 2\u001b[0m \u001b[38;5;28mint\u001b[39m(\u001b[38;5;124m\"\u001b[39m\u001b[38;5;124m안녕하세요\u001b[39m\u001b[38;5;124m\"\u001b[39m)\n",
      "\u001b[1;31mValueError\u001b[0m: invalid literal for int() with base 10: '안녕하세요'"
     ]
    }
   ],
   "source": [
    "# 문자열은 숫자로 변환할 수 없음\n",
    "int(\"안녕하세요\")"
   ]
  },
  {
   "cell_type": "code",
   "execution_count": 16,
   "id": "5de21789",
   "metadata": {},
   "outputs": [
    {
     "ename": "ValueError",
     "evalue": "invalid literal for int() with base 10: '52.273'",
     "output_type": "error",
     "traceback": [
      "\u001b[1;31m---------------------------------------------------------------------------\u001b[0m",
      "\u001b[1;31mValueError\u001b[0m                                Traceback (most recent call last)",
      "Cell \u001b[1;32mIn[16], line 2\u001b[0m\n\u001b[0;32m      1\u001b[0m \u001b[38;5;66;03m# 부동소수점이 있는 자료를 정수형으로 바꿀 수 없음\u001b[39;00m\n\u001b[1;32m----> 2\u001b[0m \u001b[38;5;28mint\u001b[39m(\u001b[38;5;124m\"\u001b[39m\u001b[38;5;124m52.273\u001b[39m\u001b[38;5;124m\"\u001b[39m)\n",
      "\u001b[1;31mValueError\u001b[0m: invalid literal for int() with base 10: '52.273'"
     ]
    }
   ],
   "source": [
    "# 부동소수점이 있는 자료를 정수형으로 바꿀 수 없음\n",
    "int(\"52.273\")"
   ]
  },
  {
   "cell_type": "code",
   "execution_count": 18,
   "id": "bba42a41",
   "metadata": {},
   "outputs": [
    {
     "data": {
      "text/plain": [
       "52"
      ]
     },
     "execution_count": 18,
     "metadata": {},
     "output_type": "execute_result"
    }
   ],
   "source": [
    "int(float(\"52.273\"))"
   ]
  },
  {
   "cell_type": "markdown",
   "id": "a4cd32f0",
   "metadata": {},
   "source": [
    "## 숫자를 문자열로 바꾸기\n",
    "\n",
    "- str() : 다른 자료형을 문자열로 변환"
   ]
  },
  {
   "cell_type": "code",
   "execution_count": 19,
   "id": "ec4d9d98",
   "metadata": {},
   "outputs": [
    {
     "name": "stdout",
     "output_type": "stream",
     "text": [
      "<class 'str'> 52\n",
      "<class 'str'> 52.273\n"
     ]
    }
   ],
   "source": [
    "output_a = str(52)\n",
    "output_b = str(52.273)\n",
    "\n",
    "print(type(output_a), output_a)\n",
    "print(type(output_b), output_b)"
   ]
  }
 ],
 "metadata": {
  "kernelspec": {
   "display_name": "Python 3 (ipykernel)",
   "language": "python",
   "name": "python3"
  },
  "language_info": {
   "codemirror_mode": {
    "name": "ipython",
    "version": 3
   },
   "file_extension": ".py",
   "mimetype": "text/x-python",
   "name": "python",
   "nbconvert_exporter": "python",
   "pygments_lexer": "ipython3",
   "version": "3.11.5"
  }
 },
 "nbformat": 4,
 "nbformat_minor": 5
}
