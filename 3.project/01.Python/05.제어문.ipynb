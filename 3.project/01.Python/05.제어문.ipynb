{
 "cells": [
  {
   "cell_type": "markdown",
   "id": "191fc186",
   "metadata": {},
   "source": [
    "<img src =\"./image/control.png\" width = \"900\" height = \"900\">"
   ]
  },
  {
   "cell_type": "markdown",
   "id": "394eec5d",
   "metadata": {},
   "source": [
    "- 마크다운은 html의 문법으로 img(= 이미지) src(source = 경로 = path)\n",
    "    - 절대 경로 : 전체 주소\n",
    "    - 상대 경로 : 현재 위치로부터의 주소(./ = 현재 위치로 부터)\n",
    "    - width = 너비\n",
    "    - heigth = 높이"
   ]
  },
  {
   "cell_type": "markdown",
   "id": "fa208fa1",
   "metadata": {},
   "source": [
    "# 조건문\n",
    "\n",
    "- 특정 조건을 만족하는지 여부에 따라 실행하는 코드가 달라야 할 때 사용"
   ]
  },
  {
   "cell_type": "code",
   "execution_count": 1,
   "id": "8b744e00",
   "metadata": {},
   "outputs": [
    {
     "name": "stdout",
     "output_type": "stream",
     "text": [
      "True입니다\n"
     ]
    }
   ],
   "source": [
    "if True:\n",
    "    print(\"True입니다\")"
   ]
  },
  {
   "cell_type": "code",
   "execution_count": 2,
   "id": "b51b8d25",
   "metadata": {},
   "outputs": [],
   "source": [
    "if False:\n",
    "    print(\"False입니다\")"
   ]
  },
  {
   "cell_type": "markdown",
   "id": "e7626648",
   "metadata": {},
   "source": [
    "## if-else 문\n",
    "\n",
    "- 조건식을 만족하는 경우와 만족하지 않는 경우를 구분하여 코드를 작성할 때 사용\n",
    "- 조건문이 두 가지로만 구분될 때 if-else문을 사용하면 비교를 한 번만 하기 때문에 if만 사용할 때보다 더 효율적\n",
    "\n",
    "- 조건식 : 참과 거짓을 판단하는 문장"
   ]
  },
  {
   "cell_type": "code",
   "execution_count": 3,
   "id": "089b4924",
   "metadata": {},
   "outputs": [
    {
     "name": "stdout",
     "output_type": "stream",
     "text": [
      "택시를 타고 가라\n"
     ]
    }
   ],
   "source": [
    "money = True\n",
    "\n",
    "if money:\n",
    "    print(\"택시를 타고 가라\")\n",
    "    \n",
    "else:\n",
    "    print(\"걸어 가라\")"
   ]
  },
  {
   "cell_type": "code",
   "execution_count": 4,
   "id": "3cd76959",
   "metadata": {},
   "outputs": [
    {
     "name": "stdout",
     "output_type": "stream",
     "text": [
      "걸어 가라\n"
     ]
    }
   ],
   "source": [
    "money = False\n",
    "\n",
    "if money:\n",
    "    print(\"택시를 타고 가라\")\n",
    "    \n",
    "else:\n",
    "    print(\"걸어 가라\")"
   ]
  },
  {
   "cell_type": "code",
   "execution_count": 5,
   "id": "d2da3ac3",
   "metadata": {},
   "outputs": [
    {
     "name": "stdout",
     "output_type": "stream",
     "text": [
      "False\n",
      "True\n",
      "False\n",
      "True\n"
     ]
    }
   ],
   "source": [
    "# 비교연산자\n",
    "print(3 < 2)\n",
    "print(3 > 2)\n",
    "print(3 == 2)\n",
    "print(3 != 2)"
   ]
  },
  {
   "cell_type": "code",
   "execution_count": 6,
   "id": "e49d84b8",
   "metadata": {},
   "outputs": [
    {
     "name": "stdout",
     "output_type": "stream",
     "text": [
      "걸어 가라\n"
     ]
    }
   ],
   "source": [
    "money = 20000\n",
    "pay = 30000\n",
    "\n",
    "if money >= pay:\n",
    "    print(\"택시를 타고 가라\")\n",
    "    \n",
    "else:\n",
    "    print(\"걸어 가라\")"
   ]
  },
  {
   "cell_type": "markdown",
   "id": "65937fb0",
   "metadata": {},
   "source": [
    "- 논리 연산자\n",
    "    - x or y\n",
    "        - x와 y 둘 중에 하나만 참이어도 참\n",
    "        \n",
    "    - x and y\n",
    "        - x와 y 모두 참이어야 참\n",
    "        \n",
    "    - not x\n",
    "        - x가 거짓이면 참"
   ]
  },
  {
   "cell_type": "code",
   "execution_count": 7,
   "id": "122dda3a",
   "metadata": {},
   "outputs": [
    {
     "name": "stdout",
     "output_type": "stream",
     "text": [
      "택시를 타고 가라\n"
     ]
    }
   ],
   "source": [
    "money = 20000\n",
    "pay = 30000\n",
    "card = True\n",
    "\n",
    "if money >= pay or card:\n",
    "    print(\"택시를 타고 가라\")\n",
    "    \n",
    "else:\n",
    "    print(\"걸어 가라\")"
   ]
  },
  {
   "cell_type": "markdown",
   "id": "e0be3890",
   "metadata": {},
   "source": [
    "- 연산순서 = 비교 연산자 이후 논리 연산자\n",
    "- 순서가 같으면 왼쪽부터"
   ]
  },
  {
   "cell_type": "markdown",
   "id": "ca84eed1",
   "metadata": {},
   "source": [
    "- in, not in\n",
    "    - x in 반복가능 객체\n",
    "    - x not in 반복가능한 객체\n",
    "    - 반복가능한 객체란 리스트, 튜플, 딕셔너리, 세트 등"
   ]
  },
  {
   "cell_type": "code",
   "execution_count": 8,
   "id": "8dc7f8a2",
   "metadata": {},
   "outputs": [
    {
     "name": "stdout",
     "output_type": "stream",
     "text": [
      "True\n"
     ]
    }
   ],
   "source": [
    "print(1 in [1, 2, 3])"
   ]
  },
  {
   "cell_type": "code",
   "execution_count": 9,
   "id": "5b7b1333",
   "metadata": {},
   "outputs": [
    {
     "name": "stdout",
     "output_type": "stream",
     "text": [
      "False\n"
     ]
    }
   ],
   "source": [
    "print(1 not in [1, 2, 3])"
   ]
  },
  {
   "cell_type": "code",
   "execution_count": 11,
   "id": "e0324c4e",
   "metadata": {},
   "outputs": [
    {
     "name": "stdout",
     "output_type": "stream",
     "text": [
      "True\n"
     ]
    }
   ],
   "source": [
    "print(\"a\" in (\"a\", \"b\", \"c\"))"
   ]
  },
  {
   "cell_type": "code",
   "execution_count": 12,
   "id": "0a0317b4",
   "metadata": {},
   "outputs": [
    {
     "name": "stdout",
     "output_type": "stream",
     "text": [
      "True\n"
     ]
    }
   ],
   "source": [
    "print(\"j\" not in \"Python\")"
   ]
  },
  {
   "cell_type": "code",
   "execution_count": 13,
   "id": "3418f1a0",
   "metadata": {},
   "outputs": [
    {
     "name": "stdout",
     "output_type": "stream",
     "text": [
      "택시를 타고 가라\n"
     ]
    }
   ],
   "source": [
    "pocket = [\"cellphone\", \"money\"]\n",
    "\n",
    "if \"money\" in pocket:\n",
    "    print(\"택시를 타고 가라\")\n",
    "    \n",
    "else:\n",
    "    print(\"걸어 가라\")"
   ]
  },
  {
   "cell_type": "markdown",
   "id": "ac8c1669",
   "metadata": {},
   "source": [
    "# if-elif 문\n",
    "\n",
    "- 특정 조건에 따라 3가지 이상으로 구분해야 할 때 사용\n",
    "\n",
    "```\n",
    "if 조건식1:\n",
    "    조건식1의 결과가 True일 때 실행문\n",
    "elif 조건식2:\n",
    "    조건식1의 결과가 False이고, 조건식2의 결과가 True일 때 실행문\n",
    "elif 조건식3:\n",
    "    조건식1, 2의 결과가 모두 False이고, 조건식3의 결과가 True일 때 실행문\n",
    "else:\n",
    "    조건식 1, 2, 3의 결과가 모두 False일 때 실행문\n",
    "```"
   ]
  },
  {
   "cell_type": "code",
   "execution_count": 16,
   "id": "c675a519",
   "metadata": {},
   "outputs": [
    {
     "name": "stdout",
     "output_type": "stream",
     "text": [
      "카드로 택시를 타고 가라\n"
     ]
    }
   ],
   "source": [
    "# 예) 주머니에 돈이 있으면 택시를 타고,\n",
    "# 주머니에 돈은 없지만 카드가 있으면 택시를 타고,\n",
    "# 돈도 없고 카드도 없으면 걸어가라\n",
    "pocket = [\"cellphone\"]\n",
    "card = True\n",
    "\n",
    "if \"money\" in pocket:\n",
    "    print(\"돈으로 택시를 타고 가라\")\n",
    "else:\n",
    "    if card:\n",
    "        print(\"카드로 택시를 타고 가라\")\n",
    "        \n",
    "    else:\n",
    "        print(\"걸어 가라\")"
   ]
  },
  {
   "cell_type": "code",
   "execution_count": 17,
   "id": "f630f6bc",
   "metadata": {},
   "outputs": [
    {
     "name": "stdout",
     "output_type": "stream",
     "text": [
      "카드로 택시를 타고 가라\n"
     ]
    }
   ],
   "source": [
    "# 위 예제는 가독성이 떨어짐 그래서 elif를 이용함\n",
    "pocket = [\"cellphone\"]\n",
    "card = True\n",
    "\n",
    "if \"money\" in pocket:\n",
    "    print(\"돈으로 택시를 타고 가라\")\n",
    "\n",
    "elif card:\n",
    "    print(\"카드로 택시를 타고 가라\")\n",
    "        \n",
    "else:\n",
    "    print(\"걸어 가라\")"
   ]
  },
  {
   "cell_type": "markdown",
   "id": "59366ebe",
   "metadata": {},
   "source": [
    "- if 조건문에 불이 아닌 다른 값이 올 때는 자동으로 불로 변환해서 처리함\n",
    "    - 따라서 어떤 값이 True로 변환되고 어떤 값이 False로 변환되는지 파악하고 있어야 함"
   ]
  },
  {
   "cell_type": "code",
   "execution_count": 18,
   "id": "c2865888",
   "metadata": {},
   "outputs": [
    {
     "name": "stdout",
     "output_type": "stream",
     "text": [
      "거짓\n"
     ]
    }
   ],
   "source": [
    "if None:\n",
    "    print(\"참\")\n",
    "    \n",
    "else:\n",
    "    print(\"거짓\")"
   ]
  },
  {
   "cell_type": "code",
   "execution_count": 19,
   "id": "08e252c2",
   "metadata": {},
   "outputs": [
    {
     "name": "stdout",
     "output_type": "stream",
     "text": [
      "거짓\n"
     ]
    }
   ],
   "source": [
    "if 0:\n",
    "    print(\"참\")\n",
    "    \n",
    "else:\n",
    "    print(\"거짓\")"
   ]
  },
  {
   "cell_type": "code",
   "execution_count": 20,
   "id": "78b114aa",
   "metadata": {},
   "outputs": [
    {
     "name": "stdout",
     "output_type": "stream",
     "text": [
      "참\n"
     ]
    }
   ],
   "source": [
    "if 3.5:\n",
    "    print(\"참\")\n",
    "    \n",
    "else:\n",
    "    print(\"거짓\")"
   ]
  },
  {
   "cell_type": "markdown",
   "id": "b328c690",
   "metadata": {},
   "source": [
    "# pass\n",
    "\n",
    "- 일단 프로그램의 전체 골격을 잡아 놓고 내부에서 처리할 내용은 차근차근 만들어가고 싶은 경우 사용\n",
    "    - \"아무것도 안함\" 또는 \"곧 개발하겠음\"의 의미"
   ]
  },
  {
   "cell_type": "code",
   "execution_count": 22,
   "id": "8f0efba4",
   "metadata": {},
   "outputs": [
    {
     "ename": "SyntaxError",
     "evalue": "incomplete input (2365049041.py, line 4)",
     "output_type": "error",
     "traceback": [
      "\u001b[1;36m  Cell \u001b[1;32mIn[22], line 4\u001b[1;36m\u001b[0m\n\u001b[1;33m    \u001b[0m\n\u001b[1;37m    ^\u001b[0m\n\u001b[1;31mSyntaxError\u001b[0m\u001b[1;31m:\u001b[0m incomplete input\n"
     ]
    }
   ],
   "source": [
    "if True:\n",
    "    print(\"hello\")\n",
    "else:\n",
    "    "
   ]
  },
  {
   "cell_type": "code",
   "execution_count": 23,
   "id": "fd35c357",
   "metadata": {},
   "outputs": [],
   "source": [
    "# 위의 예문처럼 아무것도 입력하지 않은 경우 에러가 뜸 고로 빈칸으로 채워넣고 싶은 경우 pass를 이용\n",
    "if True:\n",
    "    pass\n",
    "else:\n",
    "    pass"
   ]
  },
  {
   "cell_type": "markdown",
   "id": "d903d744",
   "metadata": {},
   "source": [
    "# 조건부 표현식\n",
    "\n",
    "- <조건문이 참인 경우의 값> if <조건문> else <조건문이 거짓인 경우의 값>"
   ]
  },
  {
   "cell_type": "code",
   "execution_count": 24,
   "id": "e4e9731e",
   "metadata": {},
   "outputs": [
    {
     "name": "stdout",
     "output_type": "stream",
     "text": [
      "success\n"
     ]
    }
   ],
   "source": [
    "score = 60\n",
    "\n",
    "if score >= 60:\n",
    "    message = \"success\"\n",
    "    \n",
    "else:\n",
    "    message = \"failure\"\n",
    "    \n",
    "print(message)"
   ]
  },
  {
   "cell_type": "code",
   "execution_count": 25,
   "id": "64dda36e",
   "metadata": {},
   "outputs": [
    {
     "name": "stdout",
     "output_type": "stream",
     "text": [
      "failure\n"
     ]
    }
   ],
   "source": [
    "# 위 예제처럼 if문이 간단한 경우에 쓰임. 단, else를 생략하거나 pass 사용은 불가능\n",
    "score = 50\n",
    "message = \"success\" if score >= 60 else \"failure\"\n",
    "print(message)"
   ]
  },
  {
   "cell_type": "markdown",
   "id": "a854081f",
   "metadata": {},
   "source": [
    "# 확인문제"
   ]
  },
  {
   "cell_type": "code",
   "execution_count": 26,
   "id": "bbdf6357",
   "metadata": {},
   "outputs": [
    {
     "name": "stdout",
     "output_type": "stream",
     "text": [
      "일반인\n"
     ]
    }
   ],
   "source": [
    "# 학점을 입력받아 다음의 조건에 따라 적절한 문장을 출력하기\n",
    "# 학점이 4.2 이상이면 \"교수님의 사랑\"\n",
    "# 학점이 2.8 이상이고 4.2미만이면 \"일반인\"\n",
    "# 학점이 2.8 미만이면 \"오락문화의 선구자\"\n",
    "\n",
    "score = 3.4\n",
    "\n",
    "if score >= 4.2:\n",
    "    print(\"교수님의 사랑\")\n",
    "    \n",
    "elif score >= 2.8:\n",
    "    print(\"일반인\")\n",
    "    \n",
    "else:\n",
    "    print(\"오락문화의 선구자\")"
   ]
  },
  {
   "cell_type": "markdown",
   "id": "e4bd7c89",
   "metadata": {},
   "source": [
    "# while 문\n",
    "\n",
    "- 특정 조건을 만족하는 동안 반복해서 수행해야 할 때 사용\n",
    "- 조건이 True인 동안 반복해서 실행\n",
    "- 반복해야 하는 횟수나 값의 범위가 명확하지 않은 경우에 주로 사용\n",
    "- for문과 달리 while 문은 첫 시작이 False인 경우 실행X\n",
    "\n",
    "```\n",
    "while조건식:\n",
    "    반복실행문\n",
    "````"
   ]
  },
  {
   "cell_type": "code",
   "execution_count": 1,
   "id": "300ba2c4",
   "metadata": {},
   "outputs": [
    {
     "name": "stdout",
     "output_type": "stream",
     "text": [
      "나무를 1번째 찍었습니다\n",
      "나무를 2번째 찍었습니다\n",
      "나무를 3번째 찍었습니다\n",
      "나무를 4번째 찍었습니다\n",
      "나무를 5번째 찍었습니다\n",
      "나무를 6번째 찍었습니다\n",
      "나무를 7번째 찍었습니다\n",
      "나무를 8번째 찍었습니다\n",
      "나무를 9번째 찍었습니다\n",
      "나무를 10번째 찍었습니다\n",
      "나무가 넘어갑니다\n"
     ]
    }
   ],
   "source": [
    "hits = 0\n",
    "tree_hp = 10\n",
    "\n",
    "while hits < tree_hp:\n",
    "    hits += 1\n",
    "    print(f\"나무를 {hits}번째 찍었습니다\")\n",
    "    \n",
    "    if hits == 10:\n",
    "        print(\"나무가 넘어갑니다\")"
   ]
  },
  {
   "cell_type": "markdown",
   "id": "7b290220",
   "metadata": {},
   "source": [
    "## while문 중첩"
   ]
  },
  {
   "cell_type": "code",
   "execution_count": 2,
   "id": "d29d1b8e",
   "metadata": {},
   "outputs": [
    {
     "name": "stdout",
     "output_type": "stream",
     "text": [
      "1일차 1교시입니다\n",
      "1일차 2교시입니다\n",
      "1일차 3교시입니다\n",
      "2일차 1교시입니다\n",
      "2일차 2교시입니다\n",
      "2일차 3교시입니다\n",
      "3일차 1교시입니다\n",
      "3일차 2교시입니다\n",
      "3일차 3교시입니다\n",
      "4일차 1교시입니다\n",
      "4일차 2교시입니다\n",
      "4일차 3교시입니다\n",
      "5일차 1교시입니다\n",
      "5일차 2교시입니다\n",
      "5일차 3교시입니다\n"
     ]
    }
   ],
   "source": [
    "day = 1\n",
    "\n",
    "while day <= 5:\n",
    "    hour = 1\n",
    "    \n",
    "    while hour <= 3:\n",
    "        print(f\"{day}일차 {hour}교시입니다\")\n",
    "        hour += 1\n",
    "        \n",
    "    day+= 1"
   ]
  },
  {
   "cell_type": "code",
   "execution_count": 3,
   "id": "aa380c8d",
   "metadata": {},
   "outputs": [
    {
     "data": {
      "text/plain": [
       "(6, 4)"
      ]
     },
     "execution_count": 3,
     "metadata": {},
     "output_type": "execute_result"
    }
   ],
   "source": [
    "day, hour"
   ]
  },
  {
   "cell_type": "markdown",
   "id": "0fb8baf2",
   "metadata": {},
   "source": [
    "## break\n",
    "\n",
    "- 반복문을 강제로 종료시킬 때 사용"
   ]
  },
  {
   "cell_type": "code",
   "execution_count": 4,
   "id": "cffb29e8",
   "metadata": {},
   "outputs": [
    {
     "name": "stdout",
     "output_type": "stream",
     "text": [
      "1\n",
      "2\n",
      "3\n",
      "4\n",
      "5\n",
      "6\n",
      "7\n",
      "8\n",
      "9\n",
      "10\n"
     ]
    }
   ],
   "source": [
    "n = 1\n",
    "\n",
    "while True: # 무한 반복문 실행\n",
    "    print(n)\n",
    "    \n",
    "    if n == 10:\n",
    "        break # 종료명령어, 이 자리에서 종료(이후 코드 실행X)\n",
    "        \n",
    "    n += 1"
   ]
  },
  {
   "cell_type": "code",
   "execution_count": 5,
   "id": "e524368c",
   "metadata": {},
   "outputs": [
    {
     "data": {
      "text/plain": [
       "10"
      ]
     },
     "execution_count": 5,
     "metadata": {},
     "output_type": "execute_result"
    }
   ],
   "source": [
    "n"
   ]
  },
  {
   "cell_type": "markdown",
   "id": "6a6cd02c",
   "metadata": {},
   "source": [
    "## continue\n",
    "\n",
    "- 반복문의 시작 지점으로 이동\n",
    "- 반복에서 제외하거나 생략하고 싶은 코드가 있을 때 사용"
   ]
  },
  {
   "cell_type": "code",
   "execution_count": 6,
   "id": "c83abffa",
   "metadata": {},
   "outputs": [
    {
     "name": "stdout",
     "output_type": "stream",
     "text": [
      "1\n",
      "3\n",
      "5\n",
      "7\n",
      "9\n"
     ]
    }
   ],
   "source": [
    "a = 0\n",
    "\n",
    "while a < 10:\n",
    "    a += 1\n",
    "    \n",
    "    if a % 2 == 0:\n",
    "        continue # 만나는 순간 이후 코드를 실행하지 않고 시작지점으로 이동\n",
    "        \n",
    "    print(a)"
   ]
  },
  {
   "cell_type": "code",
   "execution_count": 7,
   "id": "947ea6ef",
   "metadata": {},
   "outputs": [
    {
     "data": {
      "text/plain": [
       "10"
      ]
     },
     "execution_count": 7,
     "metadata": {},
     "output_type": "execute_result"
    }
   ],
   "source": [
    "a"
   ]
  },
  {
   "cell_type": "markdown",
   "id": "f51e43d5",
   "metadata": {},
   "source": [
    "# for 문\n",
    "\n",
    "- 값의 범위나 반복 횟수가 정해져 있을 때 주로 사용하는 반복문\n",
    "```\n",
    "for 변수 in 반복가능객체:\n",
    "    반복 실행문\n",
    "```\n",
    "\n",
    "- 반복 가능 객체 : 문자열, 리스트, 튜플, range, 세트, 딕셔너리"
   ]
  },
  {
   "cell_type": "code",
   "execution_count": 8,
   "id": "433225e9",
   "metadata": {},
   "outputs": [
    {
     "name": "stdout",
     "output_type": "stream",
     "text": [
      "one\n",
      "two\n",
      "three\n"
     ]
    }
   ],
   "source": [
    "test = [\"one\", \"two\", \"three\"]\n",
    "\n",
    "for i in test :\n",
    "    print(i)\n",
    "    \n",
    "# 리스트에 있는 요소 하나하나가 i 라는 변수에 들어가며, 차례차례 반복"
   ]
  },
  {
   "cell_type": "code",
   "execution_count": 9,
   "id": "aa020de9",
   "metadata": {},
   "outputs": [
    {
     "name": "stdout",
     "output_type": "stream",
     "text": [
      "안\n",
      "녕\n",
      "하\n",
      "세\n",
      "요\n"
     ]
    }
   ],
   "source": [
    "# for 반복문은 문자열을 함께 사용할 수도 있음\n",
    "for char in \"안녕하세요\":\n",
    "    print(char)"
   ]
  },
  {
   "cell_type": "code",
   "execution_count": 10,
   "id": "5769e5de",
   "metadata": {},
   "outputs": [
    {
     "name": "stdout",
     "output_type": "stream",
     "text": [
      "1번 학생은 합격입니다\n",
      "2번 학생은 불합격입니다\n",
      "3번 학생은 합격입니다\n",
      "4번 학생은 불합격입니다\n",
      "5번 학생은 합격입니다\n"
     ]
    }
   ],
   "source": [
    "# 5명의 학생이 시험을 보았는데 시험 점수가 60점을 넘으면 합격이고 그렇지 않으면 불합격\n",
    "# 학생들의 시험점수를 차례로 검사해서 합격인지 불합격인지 통보해주는 프로그램 만들기\n",
    "\n",
    "scores = [90, 25, 67, 45, 80]\n",
    "number = 0\n",
    "\n",
    "for score in scores:\n",
    "    number += 1\n",
    "    \n",
    "    if score >= 60:\n",
    "        print(f\"{number}번 학생은 합격입니다\")\n",
    "    \n",
    "    else:\n",
    "        print(f\"{number}번 학생은 불합격입니다\")"
   ]
  },
  {
   "cell_type": "markdown",
   "id": "54f9a14a",
   "metadata": {},
   "source": [
    "## for 문 중첩\n",
    "\n",
    "- 일반적으로 n차원 처리를 할 때 사용\n",
    "    - 리스트가 한 겹으로 감싸지면 1차원 리스트\n",
    "        - 예) [1, 2, 3]\n",
    "    - 리스트가 투겹으로 감싸지면 2차원 리스트\n",
    "        - 예) [[1, 2, 3], [4, 5, 6]]\n",
    "        \n",
    "    - 위와 같은 n차원 리스트 요소를 모두 확인하려면 반복문을 n번 중첩해야함"
   ]
  },
  {
   "cell_type": "code",
   "execution_count": 11,
   "id": "f9e89423",
   "metadata": {},
   "outputs": [
    {
     "name": "stdout",
     "output_type": "stream",
     "text": [
      "[1, 2, 3]\n",
      "[4, 5, 6, 7]\n",
      "[8, 9]\n"
     ]
    }
   ],
   "source": [
    "over_list = [\n",
    "    [1, 2, 3],\n",
    "    [4, 5, 6, 7],\n",
    "    [8, 9]\n",
    "]\n",
    "# 3번 진행\n",
    "for items in over_list:\n",
    "    print(items)"
   ]
  },
  {
   "cell_type": "code",
   "execution_count": 12,
   "id": "65a923a1",
   "metadata": {},
   "outputs": [
    {
     "name": "stdout",
     "output_type": "stream",
     "text": [
      "1\n",
      "2\n",
      "3\n",
      "4\n",
      "5\n",
      "6\n",
      "7\n",
      "8\n",
      "9\n"
     ]
    }
   ],
   "source": [
    "# 내부를 따로 출력하고 싶다면\n",
    "for items in over_list:\n",
    "    for item in items:\n",
    "        print(item)"
   ]
  },
  {
   "cell_type": "markdown",
   "id": "7f913860",
   "metadata": {},
   "source": [
    "## continue"
   ]
  },
  {
   "cell_type": "code",
   "execution_count": 13,
   "id": "424e4efe",
   "metadata": {},
   "outputs": [
    {
     "name": "stdout",
     "output_type": "stream",
     "text": [
      "1번 학생은 합격입니다\n",
      "3번 학생은 합격입니다\n",
      "5번 학생은 합격입니다\n"
     ]
    }
   ],
   "source": [
    "scores = [90, 25, 67, 45, 80]\n",
    "number = 0\n",
    "\n",
    "for score in scores:\n",
    "    number += 1\n",
    "    \n",
    "    if score < 60:\n",
    "        continue\n",
    "        \n",
    "    print(f\"{number}번 학생은 합격입니다\")"
   ]
  },
  {
   "cell_type": "markdown",
   "id": "4654e32b",
   "metadata": {},
   "source": [
    "## range\n",
    "\n",
    "- 수열을 자동으로 만들어주는 함수\n",
    "- range(시작값, 종료값, 증감값)\n",
    "    - 하나만 입력하였을 때는 기본적으로 종료값으로 인식\n",
    "    - 시작값은 기본 0\n",
    "    - 증감값은 기본 1"
   ]
  },
  {
   "cell_type": "code",
   "execution_count": 14,
   "id": "90fc0724",
   "metadata": {},
   "outputs": [
    {
     "name": "stdout",
     "output_type": "stream",
     "text": [
      "0 1 2 3 4 5 6 7 8 9 "
     ]
    }
   ],
   "source": [
    "for i in range(10): # 종료값 10\n",
    "    print(i, end = \" \") # end의 기본값 \\n"
   ]
  },
  {
   "cell_type": "code",
   "execution_count": 15,
   "id": "ac88b9d3",
   "metadata": {},
   "outputs": [
    {
     "name": "stdout",
     "output_type": "stream",
     "text": [
      "1 2 3 4 5 6 7 8 9 10 "
     ]
    }
   ],
   "source": [
    "for i in range(1, 11): # 시작값 1, 종료값 11\n",
    "    print(i, end = \" \")"
   ]
  },
  {
   "cell_type": "code",
   "execution_count": 16,
   "id": "14fdae4a",
   "metadata": {},
   "outputs": [
    {
     "name": "stdout",
     "output_type": "stream",
     "text": [
      "1 3 5 7 9 "
     ]
    }
   ],
   "source": [
    "for i in range(1, 11, 2): # 시작값 1, 종료값 11, 증감값 2\n",
    "    print(i, end = \" \")"
   ]
  },
  {
   "cell_type": "code",
   "execution_count": 21,
   "id": "54fefcf0",
   "metadata": {},
   "outputs": [
    {
     "name": "stdout",
     "output_type": "stream",
     "text": [
      "55\n"
     ]
    }
   ],
   "source": [
    "# 1. 1부터 10까지의 자연수의 총합 구하기\n",
    "sum_num = 0\n",
    "\n",
    "for i in range(11):\n",
    "    sum_num += i\n",
    "    \n",
    "    if i == 10:\n",
    "        print(sum_num)"
   ]
  },
  {
   "cell_type": "code",
   "execution_count": 39,
   "id": "1311f966",
   "metadata": {},
   "outputs": [
    {
     "name": "stdout",
     "output_type": "stream",
     "text": [
      "구구단을 외자 구구구구 비둘기야~\n",
      "\n",
      "2 * 1 = 2\n",
      "2 * 2 = 4\n",
      "2 * 3 = 6\n",
      "2 * 4 = 8\n",
      "2 * 5 = 10\n",
      "2 * 6 = 12\n",
      "2 * 7 = 14\n",
      "2 * 8 = 16\n",
      "2 * 9 = 18\n"
     ]
    }
   ],
   "source": [
    "# 2. 구구단 출력하기\n",
    "dan = 2\n",
    "\n",
    "print(\"구구단을 외자 구구구구 비둘기야~\")\n",
    "print(\"\")\n",
    "for i in range(1, 10):\n",
    "        print(f\"{dan} * {i} = {dan * i}\")"
   ]
  },
  {
   "cell_type": "code",
   "execution_count": 30,
   "id": "77d5f4a1",
   "metadata": {},
   "outputs": [
    {
     "name": "stdout",
     "output_type": "stream",
     "text": [
      "구구단을 외자 구구구구\n",
      "\n",
      "2단\n",
      "2 * 1 = 2\n",
      "2 * 2 = 4\n",
      "2 * 3 = 6\n",
      "2 * 4 = 8\n",
      "2 * 5 = 10\n",
      "2 * 6 = 12\n",
      "2 * 7 = 14\n",
      "2 * 8 = 16\n",
      "2 * 9 = 18\n",
      "\n",
      "3단\n",
      "3 * 1 = 3\n",
      "3 * 2 = 6\n",
      "3 * 3 = 9\n",
      "3 * 4 = 12\n",
      "3 * 5 = 15\n",
      "3 * 6 = 18\n",
      "3 * 7 = 21\n",
      "3 * 8 = 24\n",
      "3 * 9 = 27\n",
      "\n",
      "4단\n",
      "4 * 1 = 4\n",
      "4 * 2 = 8\n",
      "4 * 3 = 12\n",
      "4 * 4 = 16\n",
      "4 * 5 = 20\n",
      "4 * 6 = 24\n",
      "4 * 7 = 28\n",
      "4 * 8 = 32\n",
      "4 * 9 = 36\n",
      "\n",
      "5단\n",
      "5 * 1 = 5\n",
      "5 * 2 = 10\n",
      "5 * 3 = 15\n",
      "5 * 4 = 20\n",
      "5 * 5 = 25\n",
      "5 * 6 = 30\n",
      "5 * 7 = 35\n",
      "5 * 8 = 40\n",
      "5 * 9 = 45\n",
      "\n",
      "6단\n",
      "6 * 1 = 6\n",
      "6 * 2 = 12\n",
      "6 * 3 = 18\n",
      "6 * 4 = 24\n",
      "6 * 5 = 30\n",
      "6 * 6 = 36\n",
      "6 * 7 = 42\n",
      "6 * 8 = 48\n",
      "6 * 9 = 54\n",
      "\n",
      "7단\n",
      "7 * 1 = 7\n",
      "7 * 2 = 14\n",
      "7 * 3 = 21\n",
      "7 * 4 = 28\n",
      "7 * 5 = 35\n",
      "7 * 6 = 42\n",
      "7 * 7 = 49\n",
      "7 * 8 = 56\n",
      "7 * 9 = 63\n",
      "\n",
      "8단\n",
      "8 * 1 = 8\n",
      "8 * 2 = 16\n",
      "8 * 3 = 24\n",
      "8 * 4 = 32\n",
      "8 * 5 = 40\n",
      "8 * 6 = 48\n",
      "8 * 7 = 56\n",
      "8 * 8 = 64\n",
      "8 * 9 = 72\n",
      "\n",
      "9단\n",
      "9 * 1 = 9\n",
      "9 * 2 = 18\n",
      "9 * 3 = 27\n",
      "9 * 4 = 36\n",
      "9 * 5 = 45\n",
      "9 * 6 = 54\n",
      "9 * 7 = 63\n",
      "9 * 8 = 72\n",
      "9 * 9 = 81\n",
      "\n"
     ]
    }
   ],
   "source": [
    "# 2. 구구단 출력하기\n",
    "dan = range(2,10)\n",
    "\n",
    "print(\"구구단을 외자 구구구구\")\n",
    "print(\"\")\n",
    "for dan_ in dan:\n",
    "    print(f\"{dan_}단\")\n",
    "    for i in range(1, 10):\n",
    "        print(f\"{dan_} * {i} = {dan_ * i}\")\n",
    "    print(\"\")"
   ]
  },
  {
   "cell_type": "code",
   "execution_count": 33,
   "id": "5492f84d",
   "metadata": {},
   "outputs": [
    {
     "data": {
      "text/plain": [
       "'한식'"
      ]
     },
     "execution_count": 33,
     "metadata": {},
     "output_type": "execute_result"
    }
   ],
   "source": [
    "import random\n",
    "menu = [\"한식\", \"중식\", \"일식\", \"양식\"]\n",
    "\n",
    "random.choice(menu)"
   ]
  },
  {
   "cell_type": "markdown",
   "id": "d2cc34fd",
   "metadata": {},
   "source": [
    "## for 반복문과 딕셔너리 조합\n",
    "\n",
    "- for 반복문과 딕셔너리를 조합하면 딕셔너리의 키가 변수로 들어감"
   ]
  },
  {
   "cell_type": "code",
   "execution_count": 42,
   "id": "d3c89343",
   "metadata": {},
   "outputs": [],
   "source": [
    "dict1 = {\"name\" : \"건조 망고\",\n",
    "        \"type\" : \"당절임\",\n",
    "        \"ingredient\" : [\"망고\", \"설탕\", \"나트륨\", \"색소\"],\n",
    "        \"origin\" : \"필리핀\"}"
   ]
  },
  {
   "cell_type": "code",
   "execution_count": 47,
   "id": "4b220f29",
   "metadata": {},
   "outputs": [
    {
     "name": "stdout",
     "output_type": "stream",
     "text": [
      "name\n",
      "건조 망고\n",
      "----------\n",
      "type\n",
      "당절임\n",
      "----------\n",
      "ingredient\n",
      "['망고', '설탕', '나트륨', '색소']\n",
      "----------\n",
      "origin\n",
      "필리핀\n",
      "----------\n"
     ]
    }
   ],
   "source": [
    "for key in dict1:\n",
    "    print(key)\n",
    "    print(dict1[key])\n",
    "    print(\"-\" * 10)"
   ]
  },
  {
   "cell_type": "markdown",
   "id": "2de83bfb",
   "metadata": {},
   "source": [
    "## enumerate 함수\n",
    "\n",
    "- 리스트의 요소를 반복할 때 요소의 인덱스를 함께 반환\n",
    "- 현재 인덱스가 몇 번째인지 확인하고 싶은 경우 사용"
   ]
  },
  {
   "cell_type": "code",
   "execution_count": 49,
   "id": "f5513fc8",
   "metadata": {},
   "outputs": [
    {
     "name": "stdout",
     "output_type": "stream",
     "text": [
      "0번째 요소는 요소1입니다\n",
      "1번째 요소는 요소2입니다\n",
      "2번째 요소는 요소3입니다\n"
     ]
    }
   ],
   "source": [
    "example_list = [\"요소1\", \"요소2\", \"요소3\"]\n",
    "\n",
    "for idx, value in enumerate(example_list):\n",
    "    print(f\"{idx}번째 요소는 {value}입니다\")"
   ]
  },
  {
   "cell_type": "code",
   "execution_count": 50,
   "id": "ab2d2cc1",
   "metadata": {},
   "outputs": [
    {
     "name": "stdout",
     "output_type": "stream",
     "text": [
      "(0, '요소1')\n",
      "(1, '요소2')\n",
      "(2, '요소3')\n"
     ]
    }
   ],
   "source": [
    "for i in enumerate(example_list):\n",
    "    print(i)"
   ]
  },
  {
   "cell_type": "code",
   "execution_count": 53,
   "id": "66843d43",
   "metadata": {},
   "outputs": [
    {
     "name": "stdout",
     "output_type": "stream",
     "text": [
      "1번 학생은 합격입니다\n",
      "2번 학생은 불합격입니다\n",
      "3번 학생은 합격입니다\n",
      "4번 학생은 불합격입니다\n",
      "5번 학생은 합격입니다\n"
     ]
    }
   ],
   "source": [
    "scores = [90, 25, 67, 45, 80]\n",
    "\n",
    "for i, score in enumerate(scores):\n",
    "    if score >= 60:\n",
    "        print(f\"{i + 1}번 학생은 합격입니다\")\n",
    "    \n",
    "    else:\n",
    "        print(f\"{i + 1}번 학생은 불합격입니다\")"
   ]
  },
  {
   "cell_type": "markdown",
   "id": "78baf124",
   "metadata": {},
   "source": [
    "# 리스트 내포(list comprehension)"
   ]
  },
  {
   "cell_type": "code",
   "execution_count": 57,
   "id": "ad3be1f9",
   "metadata": {},
   "outputs": [
    {
     "name": "stdout",
     "output_type": "stream",
     "text": [
      "1.13 µs ± 36 ns per loop (mean ± std. dev. of 7 runs, 1,000,000 loops each)\n"
     ]
    }
   ],
   "source": [
    "%%timeit\n",
    "# 리스트 내포를 쓰지 않았을 때\n",
    "result1 = []\n",
    "for num in range(10):\n",
    "    result1.append(num * 3)\n",
    "    \n",
    "result1"
   ]
  },
  {
   "cell_type": "code",
   "execution_count": 58,
   "id": "4b0e6e06",
   "metadata": {},
   "outputs": [
    {
     "name": "stdout",
     "output_type": "stream",
     "text": [
      "1.09 µs ± 46.9 ns per loop (mean ± std. dev. of 7 runs, 1,000,000 loops each)\n"
     ]
    }
   ],
   "source": [
    "%%timeit\n",
    "# 위의 코드를 리스트 내포를 사용하여 작성할 때, 실행 속도 도 빠름\n",
    "result1 = [num * 3 for num in range(10)]\n",
    "\n",
    "result1"
   ]
  },
  {
   "cell_type": "code",
   "execution_count": 59,
   "id": "cfe0b835",
   "metadata": {},
   "outputs": [],
   "source": [
    "# 리스트 내포에 if 조건식 추가\n",
    "result = [num * 3 for num in range(10) if num % 2 == 0]"
   ]
  },
  {
   "cell_type": "code",
   "execution_count": 60,
   "id": "02e66f38",
   "metadata": {},
   "outputs": [
    {
     "data": {
      "text/plain": [
       "[0, 6, 12, 18, 24]"
      ]
     },
     "execution_count": 60,
     "metadata": {},
     "output_type": "execute_result"
    }
   ],
   "source": [
    "result"
   ]
  }
 ],
 "metadata": {
  "kernelspec": {
   "display_name": "Python 3 (ipykernel)",
   "language": "python",
   "name": "python3"
  },
  "language_info": {
   "codemirror_mode": {
    "name": "ipython",
    "version": 3
   },
   "file_extension": ".py",
   "mimetype": "text/x-python",
   "name": "python",
   "nbconvert_exporter": "python",
   "pygments_lexer": "ipython3",
   "version": "3.11.5"
  }
 },
 "nbformat": 4,
 "nbformat_minor": 5
}
