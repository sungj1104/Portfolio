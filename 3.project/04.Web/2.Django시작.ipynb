{
 "cells": [
  {
   "cell_type": "markdown",
   "id": "ead4952a",
   "metadata": {},
   "source": [
    "# Django\n",
    "\n",
    "- 파이썬 기반의 웹 풀스택 프레임워크\n",
    "- Django만으로 웹 개발을 처음부터 끝까지 완성해낼 수 있음\n",
    "- Django는 다른 프레임워크들에 비해 자유도가 낮음\n",
    "    - 건드릴 수 있는 부분이 적음 - > 몇가지 건드리지 않아도 웹 어플리케이션이 완성됨\n",
    "    - 초보자들에게 적합한 프레임워크\n",
    "    \n",
    "- Django를 사용중인 곳\n",
    "    - 인스타그램\n",
    "    - 번개장터\n",
    "    - 숨은고수\n",
    "    - 헤이딜러\n",
    "    - 라프텔"
   ]
  },
  {
   "cell_type": "markdown",
   "id": "257a2f62",
   "metadata": {},
   "source": [
    "# 개발패턴\n",
    "\n",
    "- 만들어야 하는 개발 요소들에 대한 규격화된 양식\n",
    "- 개발 프로젝트를 요약하자면 개발에 필요한 내용들을 몇가지 단위로 나눠놓고, 하나하나 만든 후에 이것들을 연결하는 것\n",
    "    - DJango에서는 MTV패턴을 사용"
   ]
  },
  {
   "cell_type": "markdown",
   "id": "e9515052",
   "metadata": {},
   "source": [
    "- 가상환경 설정\n",
    "    - 가상환경 생성\n",
    "        - $ conda create -n 가상환경이름\n",
    "        \n",
    "    - 가상환경 리스트\n",
    "        - $ conda env list\n",
    "        \n",
    "    - 가상환경 활성화\n",
    "        - $ conda activate 가상환경이름\n",
    "    \n",
    "    - 가상환경 비활성화\n",
    "        - $ conda deactivate 가상환경이름\n",
    "        \n",
    "    - 가상환경 삭제\n",
    "        - $ conda env remove -n 가상환경이름"
   ]
  },
  {
   "cell_type": "markdown",
   "id": "ccbf7776",
   "metadata": {},
   "source": [
    "# 장고 프로젝트 생성\n",
    "\n",
    "- django-admin startproject 프로젝트이름 .\n",
    "    - 프로젝트를 생성하는 명령어\n",
    "    - 맨 마지막의 닷(.)은 \"이 폴더에 프로젝트를 만든다\" 라는 의미\n",
    "    \n",
    "- 잘 실행됐다면 프로젝트 폴더와 manage.py 파일이 생성됨"
   ]
  },
  {
   "cell_type": "markdown",
   "id": "22363ccc",
   "metadata": {},
   "source": [
    "## 서버 실행\n",
    "\n",
    "- python manage.py runserver\n",
    "    - 서버를 실행하는 명령어\n",
    "    - 아직 마이그레이션을 하지 않았다는 오류 메시지가 나타나지만 프로젝트 생성 확인에는 문제 없음"
   ]
  },
  {
   "cell_type": "markdown",
   "id": "f4604f46",
   "metadata": {},
   "source": [
    "- 프로젝트 폴더\n",
    "    - urls.py\n",
    "    - settings.py"
   ]
  },
  {
   "cell_type": "markdown",
   "id": "aed5f2fd",
   "metadata": {},
   "source": [
    "# Django 프로젝트 구조"
   ]
  },
  {
   "cell_type": "markdown",
   "id": "3f26781a",
   "metadata": {},
   "source": [
    "## Django 프로젝트와 앱\n",
    "\n",
    "- 프로젝트(Project)\n",
    "    - 어떤 하나의 큰 서비스\n",
    "        - 우리가 만들고 있는 하나의 웹 사이트\n",
    "        \n",
    "- 앱(APP)\n",
    "    - 프로젝트 내 기능과 같은 요소들을 일정한 기준으로 나눠 놓은 단위\n",
    "    - 예) 페이스북과 같은 SNS를 만든다고 하면 페이스북은 프로젝트가 되고 이 프로젝트는 몇 가지 그룹으로 나뉠 수 있음\n",
    "        - 회원 가입/로그인/친구 맺기 피드 관련 내용\n",
    "        - 글쓰기/삭제하기/수정하기/공유하기\n",
    "    - 위 예시에서 회원앱/메신저앱 으로 나눠놓는다면 어떤 기능 관련 코드를 찾을 때 어느 그룹으로 가야하는지 알 수 있고 여럿이 협업해서 개발한다면 역할 분담이 쉬워짐\n",
    "    - 무엇을 기준으로 나누느냐에 따라 프로젝트 구조가 달라지고 개발 난이도에 영향을 줄 수 있음\n",
    "    - python manage.py startapp 앱명"
   ]
  },
  {
   "cell_type": "markdown",
   "id": "ca885e88",
   "metadata": {},
   "source": [
    "## Django 프로젝트 구성요소\n",
    "\n",
    "- manage.py\n",
    "    - Django와 관련된 명령어를 써야할 때 사용하는 파일\n",
    "    - 사용자가 입력하는 명령어를 처리하는 파일\n",
    "    \n",
    "- 프로젝트 폴더(ex.myweb)\n",
    "    - startproject 명령어로 만들어진 폴더로, 총 5개의 .py 파일이 존재\n",
    "    - 그 중에서 주로 사용하게 될 파일은 settings.py, urls.py\n",
    "    - settings.py\n",
    "        - 프로젝트의 설정 파일\n",
    "        - DEBUG\n",
    "            - 디버깅 모드에 대한 옵션\n",
    "            - 디버깅 모드에서는 웹 결과물에서 어떤 페이지나 기능에서 에러가 발생했을 때 그 에러에 대한 메시지가 웹 페이지에 그대로 노출됨\n",
    "                - 개발할 때는 보면서 에러를 고치면 되지만, 실제로 배포를 할 때 사용자들이 보기엔 당황스러울 수 있음\n",
    "                - 또는 해커들이 프로젝트의 구조를 파악해 공격의 실마리를 찾을 가능성도 있음\n",
    "                - 따라서 배포할 때에는 디버깅 모드를 꺼야함\n",
    "\n",
    "        - ALLOWED_HOSTS\n",
    "            - 허용할 호스트 주소에 대한 내용\n",
    "            - 호스트 주소 : Django 프로젝트가 구동되는 환경에 접속할 수 있는 주소\n",
    "                - 현재는 http://127.0.0.1:8000 에서 실행되어 127.0.0.1이 호스트 주소가 됨\n",
    "                - 로컬 주소는 기본값이기 때문에 따로 선언하지 않아도 되지만 만약에 선언한다면 [\"127.0.0.1\"]의 형식으로 입력하면 됨\n",
    "                - 실제로 프로젝트를 배포할 때에는 서버의 호스트 주소를 입력해야 외부에서 프로젝트로 접속할 수 있음\n",
    "        \n",
    "        - INSTALLED_APPS\n",
    "            - 설치된 앱들을 등록하는 옵션\n",
    "            - Django 프로젝트에서 사용할, 만든 앱들을 선언해주어야 등록이 되어 프로젝트에서 정상적으로 적용됨\n",
    "            \n",
    "    - urls.py\n",
    "        - 프로젝트의 url주소를 등록해놓는 파일\n",
    "        - path()를 통해 원하는 주소를 등록할 수 있음\n",
    "            - path(\"admin/\", admin.site.urls)\n",
    "            - 위의 경우에는 127.0.0.1:8000/admin/ 이라는 주소가 선언된 것"
   ]
  },
  {
   "cell_type": "markdown",
   "id": "317f8031",
   "metadata": {},
   "source": [
    "## MTV 패턴\n",
    "\n",
    "- Django에서는 MTV패턴으로 개발을 진행\n",
    "    - 어떠한 패턴으로 개발을 진행한다는 것은 작업에 어느정도 규칙과 정해진 방식이 있고, 그 방식을 따라가며 중간중간 방식이 요구하는 내용을 채워넣으면서 개발을 진행한다는 개념\n",
    "    - 개발 패턴에는 여러 종류가 있음\n",
    "        - 코드들이 각자 자기가 맡은 역할만을 온전히 수행하고, 서로 독립된 형태로 동작하는 구조로 프로젝트를 만들면 이후 프로젝트를 유지보수하게 되더라도 전체적인 흐름을 파악하기 쉬움\n",
    "        \n",
    "- MTV패턴\n",
    "    - Model(모델)\n",
    "        - 앱의 데이터와 관련된 부분(주로 DB)\n",
    "    \n",
    "    - Template(템플릿)\n",
    "        - 사용자에게 보이는 부분(주로 HTML)\n",
    "    \n",
    "    - View(뷰)\n",
    "        - 모델과 템플릿 사이에서 Model의 데이터를 Template로 전달하고 Template에서 발생하는 이벤트를 처리하는 부분"
   ]
  },
  {
   "cell_type": "markdown",
   "id": "eaf961fe",
   "metadata": {},
   "source": [
    "<img src = \"./image/mtv.png\">"
   ]
  },
  {
   "cell_type": "markdown",
   "id": "c5256ac2",
   "metadata": {},
   "source": [
    "1. 유저가 특정 URL로 요청을 보냄\n",
    "2. 해당 url과 매핑된 뷰를 호출\n",
    "3. 호출된 뷰는 요청에 따라 적절한 로직을 수행하며 그 과정에서 모델에게 CRUD를 지시\n",
    "4. 모델은 DB와 소통하며 CRUD를 수행\n",
    "5. 뷰는 지저된 템플릿을 렌더링 하고\n",
    "6. 최종 결과를 응답으로 반환"
   ]
  },
  {
   "cell_type": "markdown",
   "id": "8b6942c9",
   "metadata": {},
   "source": [
    "## 마이그레이션\n",
    "\n",
    "1. 마이그레이션 파일 생성\n",
    "    - python manage.py makemigrations\n",
    "    \n",
    "2. 마이그레이션 적용\n",
    "    - python manage.py migrate"
   ]
  },
  {
   "cell_type": "markdown",
   "id": "6cd004d4",
   "metadata": {},
   "source": [
    "- 관리자계정 생성 명령어\n",
    "    - python manage.py createsuperuser"
   ]
  },
  {
   "cell_type": "markdown",
   "id": "26703809",
   "metadata": {},
   "source": [
    "# Django Model\n",
    "\n",
    "- 모델은 앱의 데이터와 관련된 부분을 다루는 영역\n",
    "- 데이터베이스에 저장될 데이터의 모양을 정의하고 관련된 일부 기능을 설정해주는 영역\n",
    "    - 예) 사용자\n",
    "        - 아이디\n",
    "        - 이름\n",
    "        - 비밀번호\n",
    "        - 이메일\n",
    "        - 나이\n",
    "        - 성별\n",
    "        \n",
    "- 위 처럼 데이터의 특징들을 뽑아 이를 구성요소로 하는 것을 모델링 이라고 함\n",
    "- 개체를 모델링한 결과물은 모델\n",
    "    - 위 예시에서 사용자는 모델이고 그 내부에 있는 아이디, 이름 등은 모델의 구성요소 혹은 속성\n",
    "    \n",
    "- 모델은 데이터베이스의 테이블과 같은 구조임\n",
    "    - 모델 형태의 데이터들을 데이터베이스에 적용시키면 데이터베이스 테이블이 됨\n",
    "- 모델을 데이터베이스에 적용시키는 과정을 마이그레이션(Mgration)이라고 함"
   ]
  },
  {
   "cell_type": "markdown",
   "id": "2ec2cca0",
   "metadata": {},
   "source": [
    "## Django 모델 생성\n",
    "\n",
    "- 모델은 하나의 클래스로 만들 수 있음\n",
    "- 클래스는 models.py에서 작성\n",
    "    - 속성을 정의하고 각 속성에 대한 세부 설정을 진행"
   ]
  },
  {
   "cell_type": "markdown",
   "id": "dbb675ed",
   "metadata": {},
   "source": [
    "### Django의 필드 종류\n",
    "\n",
    "- CharField : 문자열(길이제한 필요)\n",
    "- IntegerField : 정수\n",
    "- TextField : 문자열(길이제한 필요 없음)\n",
    "- DateField : 날짜\n",
    "- DateTimeField : 날짜 + 시간\n",
    "- FileField : 파일\n",
    "- ImageField : 이미지 파일\n",
    "- ForeignKey : 외래키(관계)\n",
    "- OneToOneField : 1대1 관계\n",
    "- ManyToManyField : 다대다 관계"
   ]
  },
  {
   "cell_type": "markdown",
   "id": "edc9ff84",
   "metadata": {},
   "source": [
    "# Django template\n",
    "\n",
    "- 사용자에게 보여지는 웹페이지의 골격\n",
    "    - HTML로 작성된 부분\n",
    "- 프론트 개발 영역에 포함되는 부분"
   ]
  },
  {
   "cell_type": "markdown",
   "id": "1c3048e6",
   "metadata": {},
   "source": [
    "## Django Template의 특징\n",
    "\n",
    "- 일반적인 HTML 작성과 거의 동일하지만 한 가지 차이점은 템플릿 태그(Template Tag)\n",
    "    - HTML이 파이썬 코드로부터 데이터를 바로 넘겨받아 손쉽게 처리할 수 있는 도구\n",
    "- HTML은 그저 마크업 언어이기 때문에 정적인 웹페이지를 보여주기만 하는데 무언가 데이터를 넘겨받아서 웹페이지에 보여주기 위해서는 자바스크립트와 같은 도구가 필요\n",
    "    - Django에서는 템플릿 태그가 있기 때문에 파이썬에서 데이터를 받아서 표현할 수 있음\n",
    "    - for 나 if와 같은 파이썬의 기본적인 구문도 사용할 수 있음"
   ]
  },
  {
   "cell_type": "markdown",
   "id": "953d2ca5",
   "metadata": {},
   "source": [
    "# Django view, URL"
   ]
  },
  {
   "cell_type": "markdown",
   "id": "d02d23f6",
   "metadata": {},
   "source": [
    "##  view\n",
    "\n",
    "- 템플릿과 모델 사이를 이어주는 다리와 같은 역할\n",
    "- 모델을 통해 데이터에 접근하여 템플릿으로부터 요청 받은 데이터를 뽑아와 템플릿에게 답변으로 보내줌\n",
    "    - 프론트에서 백에게 데이터를 요청할 때 백엔드에서 데이터를 뽑아서 프론트엔드에게 제공해주는 과정을 뷰가 처리"
   ]
  },
  {
   "cell_type": "markdown",
   "id": "a5b94ed0",
   "metadata": {},
   "source": [
    "## URL(Uniform Resource Locator)\n",
    "\n",
    "- 서버로 해당 주소에 할당된 리소스를 요청하는 역할\n",
    "    - 리소스 : 웹 브라우저로 보는 HTML과 내부를 채우는 데이터 등을 포함하는 개념"
   ]
  }
 ],
 "metadata": {
  "kernelspec": {
   "display_name": "Python 3 (ipykernel)",
   "language": "python",
   "name": "python3"
  },
  "language_info": {
   "codemirror_mode": {
    "name": "ipython",
    "version": 3
   },
   "file_extension": ".py",
   "mimetype": "text/x-python",
   "name": "python",
   "nbconvert_exporter": "python",
   "pygments_lexer": "ipython3",
   "version": "3.11.5"
  }
 },
 "nbformat": 4,
 "nbformat_minor": 5
}
