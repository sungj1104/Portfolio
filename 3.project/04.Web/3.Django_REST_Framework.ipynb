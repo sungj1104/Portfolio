{
 "cells": [
  {
   "cell_type": "markdown",
   "id": "4b81ea21",
   "metadata": {},
   "source": [
    "# DRF란(2024-05-05\n",
    "\n",
    "- 장고를 기반으로 REST API 서버를 만들기 위한 라이브러리\n",
    "- API는 웹 뿐만 아니라 앱이나 다양한 플랫폼의 백엔드 서비스를 위해 JSON과 같은 규격하된 된 데이터를 제공\n",
    "    - DRF를 사용하면 기존의 자체적인 웹템플릿에만 데이터를 전달하던 장고 프로젝트에서 JSON과 같은 양식으로 다양한 플랫폼의 클라이언트에게 데이터를 제공해줄 수 있는 API 서버 프로젝트가 완성됨"
   ]
  },
  {
   "cell_type": "code",
   "execution_count": 1,
   "id": "241c3204",
   "metadata": {},
   "outputs": [],
   "source": [
    "import requests"
   ]
  },
  {
   "cell_type": "code",
   "execution_count": 11,
   "id": "5ec35d2b",
   "metadata": {},
   "outputs": [
    {
     "name": "stdout",
     "output_type": "stream",
     "text": [
      "<Response [200]>\n",
      "\"hello world!\"\n",
      "hello world!\n"
     ]
    }
   ],
   "source": [
    "res = requests.get(\"http://127.0.0.1:8000/example/hello/\")\n",
    "print(res)\n",
    "print(res.text)\n",
    "print(res.json())"
   ]
  },
  {
   "cell_type": "code",
   "execution_count": 12,
   "id": "ead346e0",
   "metadata": {},
   "outputs": [
    {
     "name": "stdout",
     "output_type": "stream",
     "text": [
      "<Response [200]>\n",
      "\"hello world!\"\n",
      "hello world!\n"
     ]
    }
   ],
   "source": [
    "res2 = requests.get(\"http://127.0.0.1:8000/example/cbv/hello/\")\n",
    "print(res2)\n",
    "print(res2.text)\n",
    "print(res2.json())"
   ]
  },
  {
   "cell_type": "code",
   "execution_count": 9,
   "id": "6e02e7ea",
   "metadata": {},
   "outputs": [
    {
     "data": {
      "text/plain": [
       "'hello world!'"
      ]
     },
     "execution_count": 9,
     "metadata": {},
     "output_type": "execute_result"
    }
   ],
   "source": [
    "res.json()"
   ]
  },
  {
   "cell_type": "code",
   "execution_count": null,
   "id": "11ad624f",
   "metadata": {},
   "outputs": [],
   "source": [
    "# pip install djangorestframework\n",
    "\n",
    "# django-admin startprojet myapi . (프로젝트 생성 . 주의)\n",
    "\n",
    "# python manage.py startapp example (앱 생성)"
   ]
  },
  {
   "cell_type": "code",
   "execution_count": null,
   "id": "9da2c03d",
   "metadata": {},
   "outputs": [],
   "source": [
    "# settings.py  아래 사항 변경\n",
    "INSTALLED_APPS = [\n",
    "    \"django.contrib.admin\",\n",
    "    \"django.contrib.auth\",\n",
    "    \"django.contrib.contenttypes\",\n",
    "    \"django.contrib.sessions\",\n",
    "    \"django.contrib.messages\",\n",
    "    \"django.contrib.staticfiles\",\n",
    "    \"example\",\n",
    "    \"rest_framework\",\n",
    "]\n",
    "\n",
    "TIME_ZONE = \"Asis/Seoul\""
   ]
  },
  {
   "cell_type": "code",
   "execution_count": null,
   "id": "4d3221c7",
   "metadata": {},
   "outputs": [],
   "source": [
    "# python manage.py ,akemigrations\n",
    "# python manage.py migrate"
   ]
  },
  {
   "cell_type": "code",
   "execution_count": null,
   "id": "d2ef56c2",
   "metadata": {},
   "outputs": [],
   "source": [
    "# example/views.py\n",
    "from rest_framework import status\n",
    "from rest_framework.response import Response\n",
    "from rest_framework.views import APIView\n",
    "from rest_framework.decorators import api_view\n",
    "\n",
    "# Create your views here.\n",
    "@api_view([\"GET\"])\n",
    "def helloAPI(request):\n",
    "    return Response(\"hello world!\")"
   ]
  },
  {
   "cell_type": "markdown",
   "id": "76a4f97c",
   "metadata": {},
   "source": [
    "## DRF의 뷰\n",
    "\n",
    "- @와 함께 작성된 코드를 데코레이터라고 부름\n",
    "    - 데코레이터는 함수를 꾸미는 역할\n",
    "    - 해당 함수에 대한 성격이나 스타일을 표시해주는 표기법\n",
    "    - helloAPI는 get요청을 받을 수 있는 api라는 것을 api_view 라는 표기법으로 나타냄\n",
    "    \n",
    "- request 객체는 요쳥에 대한 정보를 담고 있음\n",
    "    - 요청이 어떤 타입인지(get, post)\n",
    "    - 사용자가 어떤 데이터를 함께 보내주었는지\n",
    "    - 이런 정보를 알고 싶을 때 request.method, request.data 등으로 요청 타입과 데이터에 접근할 수 있음\n",
    "    \n",
    "- Response 클래스는 DRF의 결과 반환 방식\n",
    "    - request와 마찬가지로 Response 에는 응답에 대한 정보를 담고 있음\n",
    "    - response.data, response.status"
   ]
  },
  {
   "cell_type": "code",
   "execution_count": null,
   "id": "99e462b4",
   "metadata": {},
   "outputs": [],
   "source": [
    "# urls.py\n",
    "from django.contrib import admin\n",
    "from django.urls import path, include\n",
    "\n",
    "urlpatterns = [\n",
    "    path(\"admin/\", admin.site.urls),\n",
    "    path(\"example/\", include(\"example.urls\")),\n",
    "]\n",
    "\n",
    "# example/urls.py\n",
    "\n",
    "from django.urls import re_path\n",
    "from example.views import helloAPI\n",
    "\n",
    "urlpatterns = [\n",
    "    path(\"hello/\", helloAPI),\n",
    "]"
   ]
  },
  {
   "cell_type": "markdown",
   "id": "c4685c13",
   "metadata": {},
   "source": [
    "## Django와 달라진 점\n",
    "\n",
    "- DRF는 Response 를 제공하는 API 의 형태로 결과물이 나옴\n",
    "    - 템플릿의 형태가 아닌 JSON과 같은 형태의 응답을 제공\n",
    "    - 기존 장고에서는 템플릿으로 데이터를 제공했다면 DRF에서는 Serializer 가 템플릿과 같은 역할을 수행\n",
    "    \n",
    "| 특징 | Pure Django | Django REST Framework |\n",
    "| :--: | :-- | :-- |\n",
    "| 개발 목적 | 웹 풀스택 개발 | 백엔드 API 서버 개발 |\n",
    "| 개발 결과 | 웹 페이지를 포함한 웹 서비스 | 여러 클라이언트에서 사용할 수 있는 API 서버 |\n",
    "| 응답 형태 | HTML | JSON |\n",
    "| 다른 파일 | templates | serializers.py |"
   ]
  },
  {
   "cell_type": "markdown",
   "id": "92c69d8f",
   "metadata": {},
   "source": [
    "# Django REST Framework 기초 개념"
   ]
  },
  {
   "cell_type": "markdown",
   "id": "3cfa94d3",
   "metadata": {},
   "source": [
    "## DRF Serializer\n",
    "\n",
    "- 시리얼라이저의 사전적 의미는 직렬화\n",
    "    - 직렬화는 장고 프로젝트에서 만든 모델을 JSON으로 변환하는 것\n",
    "    \n",
    "- DRF 내에서 데이터를 저장할 때에는 장고의 모델을 통해 저장\n",
    "    - 모델은 데이터베이스 테이블을 추상화한 개념\n",
    "    - 장고의 ORM을 통해 파이썬 문법으로 데이터를 처리할 수 있음\n",
    "    - 이 때 장고 모델의 데이터는 파이썬 객체의 형태\n",
    "    \n",
    "- API는 위의 데이터를 클라이언트에 보내주는 역할을 하는데 파이썬 객체를 그대로 보낸다면 파이썬 데이터를 읽지 못할 수도 있음\n",
    "    - 그렇기 때문에 파이썬 데이터를 읽을 수 있도록 문자열(JSON 등) 의 형태로 변환해서 보내줘야함\n",
    "    - 파이썬 데이터 객체를 문자열 등으로 변환하는 작업을 직렬화(serialize)\n",
    "    \n",
    "- 반대로 클라이언트가 데이터를 DRF서버에 보내주는 경우\n",
    "    - 클라이언트는 API 요청에 데이터를 JSON 등 문자열 형태로 입력하여 보내주게 됨\n",
    "    - DRF 서버에서는 모델을 통해 데이터를 저장하려면 데이터가 파이썬 객체의 형태여야 함\n",
    "    - 따라서 앞선 경우와 반대로 JSON 등 문자열 데이터를 파이썬 데이터 객체로 변환해야 함\n",
    "        - 이 작업을 역직렬화(Deserialize)라고 함\n",
    "        \n",
    "- 시리얼라이저는 직렬화와 역직렬화 기능을 동시에 가짐\n",
    "    - 요약하자면 시리얼라이저는 클라이언트와 API 서버 간 데이터 양식을 맞춰주는 변환기"
   ]
  },
  {
   "cell_type": "code",
   "execution_count": null,
   "id": "127863e1",
   "metadata": {},
   "outputs": [],
   "source": [
    "# example/serializers.py\n",
    "\n",
    "from rest_framework import serializers\n",
    "from example.models import Book\n",
    "\n",
    "\n",
    "\n",
    "class BookSerializer(serializers.ModelSerializer):\n",
    "    class Meta:\n",
    "        model = Book\n",
    "        fields = [\"bid\", \"title\", \"author\", \"category\", \"pages\", \"price\", \"published_date\", \"description\"]"
   ]
  },
  {
   "cell_type": "markdown",
   "id": "7d5d7d59",
   "metadata": {},
   "source": [
    "## FBV, CBV\n",
    "\n",
    "- 장고에서는 크게 두 가지 유형으로 뷰를 개발할 수 있음\n",
    "    - 함수 기반 뷰(Function Based View; FBV)\n",
    "    - 클래스 기반 뷰(Class Based View; CBV)\n",
    "    \n",
    "- 뷰를 작성하는 방식의 차이일 뿐 기능상 차이는 없음\n",
    "    - 지금까지 작성해온 뷰는 모두 FBV\n",
    "    \n",
    "- FBV와 CBV를 공통적으로 도와주는 도구가 APIView\n",
    "    - FBV에서는 @api_view와 같이 데코레이터 형태로 APIView를 사용\n",
    "    - CBV에서는 APIView라는 클래스를 상속받는 클래스의 형태로 사용"
   ]
  },
  {
   "cell_type": "code",
   "execution_count": null,
   "id": "ecf7f4f8",
   "metadata": {},
   "outputs": [],
   "source": [
    "# example/views.py\n",
    "# 클래스형 뷰로 HelloAPI 작성\n",
    "class HelloAPI(APIView):\n",
    "    def get(self,request, format = None):\n",
    "        return Response(\"hello world!\")"
   ]
  },
  {
   "cell_type": "code",
   "execution_count": null,
   "id": "e88e88f0",
   "metadata": {},
   "outputs": [],
   "source": [
    "# example/urls.py\n",
    "from django.urls import path\n",
    "from example.views import helloAPI, HelloAPI\n",
    "\n",
    "urlpatterns = [\n",
    "    path(\"hello/\", helloAPI),\n",
    "    path(\"cbv/hello/\", HelloAPI.as_view())\n",
    "]\n",
    "# 으로 추가"
   ]
  },
  {
   "cell_type": "code",
   "execution_count": null,
   "id": "67aafdd9",
   "metadata": {},
   "outputs": [],
   "source": [
    "# example/views.py 추가(책 정보 추가하기)\n",
    "\n",
    "from rest_framework.generics import get_object_or_404\n",
    "from example.models import Book\n",
    "from example.serializers import BookSerializer\n",
    "\n",
    "@api_view([\"GET\", \"POST\"]) # get/post 요청을 처리하게 만들어주는 데코레이터\n",
    "def booksAPI(request):\n",
    "    if request.method == \"GET\": # get 요청(도서 전체 정보)\n",
    "        books = Book.objects.all() # book 모델로부터 전체 데이터 가져오기\n",
    "\n",
    "        # 시리얼라이저에 전체 데이터를 집어넣기(직렬화)\n",
    "        serializer = BookSerializer(books, many = True)\n",
    "\n",
    "        return Response(serializer.data, status = status.HTTP_200_OK)\n",
    "    \n",
    "    elif request.moethod == \"Post\": # post 요청(도서 정보 등록)\n",
    "        # post 요청으로 들어온 데이터를 시리얼라이저에 집어넣기\n",
    "        serializer = BookSerializer(data = request.data)\n",
    "        if serializer.is_valid(): # 유효한 데이터라면\n",
    "            # 시리얼라이저의 역직렬화를 통해 save(), 모델 시리얼라이저의 기본 create() 함수가 동작\n",
    "            serializer.save()\n",
    "            \n",
    "            # 201 메시지를 보내며 성공\n",
    "            return Response(serializer.data, status = status.HTTP_201_CREATED)\n",
    "        \n",
    "        # 400 잘못된 요청\n",
    "        return Response(serializer.errors, status=status.HTTP_400_BAD_REQUEST)\n",
    "\n",
    "@api_view([\"GET\"]) # GET = 조회, POST = 수정\n",
    "def bookAPI(request, bid):\n",
    "    book = get_object_or_404(Book, bid = bid) # bid = pk 인 데이터를 Book에서 가져오고, 없으면 404 에러\n",
    "    serializer = BookSerializer(book) # 시리얼라이저에 데이터를 집어넣기(직렬화)\n",
    "    return Response(serializer.data, status = status.HTTP_200_OK)"
   ]
  },
  {
   "cell_type": "markdown",
   "id": "e1a9da16",
   "metadata": {},
   "source": [
    "- booksAPI는 하나의 함수에서 get인지 post인지에 따라 다르게 처리함\n",
    "    - get은 도서 전체 정보를 가져오므로 모델로부터 데이터를 가져와 시리얼라이저를 통해 직렬화\n",
    "    - 이 때, Book.objects.all() 명령어의 결과가 여러 데이터일 수 있기 때문에 many = True 옵션을 설정\n",
    "    \n",
    "    - post요청에 대해서는 요청으로 들어온 데이터를 역직렬화하여 모델에 넣어야 하므로 시리얼라이저에 request.data를 넣음\n",
    "\n",
    "- bookAPI 는 특정 bid의 책 데이터를 가져옴\n",
    "    - 함수의 인자로 id를 넘겨받아와 이를 모델에서 찾음\n",
    "    - 찾은 데이터를 반환"
   ]
  },
  {
   "cell_type": "code",
   "execution_count": null,
   "id": "c6499ab2",
   "metadata": {},
   "outputs": [],
   "source": [
    "# example/views.py 위와 같은 뷰를 클래스형으로 작성\n",
    "class BooksAPI(APIView):\n",
    "    def get(self, request):\n",
    "        books = Book.objects.all()\n",
    "        serializer = BookSerializer(books, many = True)\n",
    "        return Response(serializer.data, status = status.HTTP_200_OK)\n",
    "    \n",
    "    def post(self, request):\n",
    "        serializer = BookSerializer(data = request.data)\n",
    "\n",
    "        if serializer.is_valid():\n",
    "            serializer.save()\n",
    "            return Response(serializer.data, status = status.HTTP_201_CREATED)\n",
    "        \n",
    "        return Response(serializer.erooros, status = status.HTTP_400_BAD_REQUEST)\n",
    "    \n",
    "class BookAPI(APIView):\n",
    "    def get(self, request, bid):\n",
    "        book = get_object_or_404(Book, bid = bid)\n",
    "        serializer = BookSerializer(book)\n",
    "        return Response(serializer.data, stauts = status.HTTP_200_OK)"
   ]
  },
  {
   "cell_type": "code",
   "execution_count": null,
   "id": "ce7b93d8",
   "metadata": {},
   "outputs": [],
   "source": [
    "# example/urls.py\n",
    "from django.urls import path\n",
    "from example.views import booksAPI, bookAPI, BooksAPI, BookAPI\n",
    "\n",
    "urlpatterns = [\n",
    "    path(\"hello/\", helloAPI),\n",
    "    path(\"cbv/hello/\", HelloAPI.as_view()),\n",
    "    path(\"fbv/books/\", booksAPI), # 함수형 뷰의 booksAPI와 연결\n",
    "    path(\"fbv/book/<int:bid>\", bookAPI) # 함수형 뷰의 bookAPI와 연결\n",
    "]"
   ]
  },
  {
   "cell_type": "code",
   "execution_count": 25,
   "id": "28b3404c",
   "metadata": {},
   "outputs": [],
   "source": [
    "# 추가하는 방법\n",
    "res = requests.post(\"http://127.0.0.1:8000/example/cbv/books/\",\n",
    "                 data =  {\n",
    "    \"bid\" : 3,\n",
    "    \"title\" : \"생성형 AI로 웹툰 만화 제작하기\",\n",
    "    \"author\" : \"김한재\",\n",
    "    \"category\" : \"프로그래밍\",\n",
    "    \"pages\" : 232,\n",
    "    \"price\" : 22500,\n",
    "    \"published_date\" : \"2024-04-03\",\n",
    "    \"description\" : \"스테이블 디퓨전.미드저니.챗GPT\"\n",
    "})"
   ]
  },
  {
   "cell_type": "code",
   "execution_count": 17,
   "id": "ddbf0e4a",
   "metadata": {},
   "outputs": [
    {
     "name": "stdout",
     "output_type": "stream",
     "text": [
      "<Response [200]>\n",
      "[{\"bid\":1,\"title\":\"코딩 테스트 합격자 되기 - C++ 편\",\"author\":\"박경록\",\"category\":\"프로그래밍\",\"pages\":872,\"price\":40500,\"published_date\":\"2024-05-01\",\"description\":\"프로그래머스 제공 100 문제로 완벽 대비\"}]\n",
      "[{'bid': 1, 'title': '코딩 테스트 합격자 되기 - C++ 편', 'author': '박경록', 'category': '프로그래밍', 'pages': 872, 'price': 40500, 'published_date': '2024-05-01', 'description': '프로그래머스 제공 100 문제로 완벽 대비'}]\n",
      "---- 코딩 테스트 합격자 되기 - C++ 편\n"
     ]
    }
   ],
   "source": [
    "res3 = requests.get(\"http://127.0.0.1:8000/example/fbv/books/\")\n",
    "print(res3)\n",
    "print(res3.text)\n",
    "print(res3.json())\n",
    "print(res3.json()[0][\"title\"])"
   ]
  },
  {
   "cell_type": "code",
   "execution_count": 19,
   "id": "84d216b5",
   "metadata": {},
   "outputs": [
    {
     "name": "stdout",
     "output_type": "stream",
     "text": [
      "<Response [200]>\n",
      "{\"bid\":1,\"title\":\"코딩 테스트 합격자 되기 - C++ 편\",\"author\":\"박경록\",\"category\":\"프로그래밍\",\"pages\":872,\"price\":40500,\"published_date\":\"2024-05-01\",\"description\":\"프로그래머스 제공 100 문제로 완벽 대비\"}\n",
      "{'bid': 1, 'title': '코딩 테스트 합격자 되기 - C++ 편', 'author': '박경록', 'category': '프로그래밍', 'pages': 872, 'price': 40500, 'published_date': '2024-05-01', 'description': '프로그래머스 제공 100 문제로 완벽 대비'}\n",
      "---- 코딩 테스트 합격자 되기 - C++ 편\n"
     ]
    }
   ],
   "source": [
    "res4 = requests.get(\"http://127.0.0.1:8000/example/fbv/book/1\")\n",
    "print(res4)\n",
    "print(res4.text)\n",
    "print(res4.json())\n",
    "print(\"----\", res4.json()[\"title\"])"
   ]
  },
  {
   "cell_type": "code",
   "execution_count": 22,
   "id": "a27283e3",
   "metadata": {},
   "outputs": [
    {
     "name": "stdout",
     "output_type": "stream",
     "text": [
      "<Response [200]>\n",
      "{\"bid\":2,\"title\":\"AI 2024\",\"author\":\"김덕진\",\"category\":\"프로그래밍\",\"pages\":416,\"price\":19800,\"published_date\":\"2023-10-25\",\"description\":\"트렌드&활용백과\"}\n",
      "{'bid': 2, 'title': 'AI 2024', 'author': '김덕진', 'category': '프로그래밍', 'pages': 416, 'price': 19800, 'published_date': '2023-10-25', 'description': '트렌드&활용백과'}\n",
      "---- AI 2024\n"
     ]
    }
   ],
   "source": [
    "res5 = requests.get(\"http://127.0.0.1:8000/example/cbv/book/2/\")\n",
    "print(res5)\n",
    "print(res5.text)\n",
    "print(res5.json())\n",
    "print(\"----\", res5.json()[\"title\"])"
   ]
  },
  {
   "cell_type": "markdown",
   "id": "f8ff5e19",
   "metadata": {},
   "source": [
    "## DRF의 다양한 뷰\n",
    "\n",
    "- DRF로 API로 개발할 때 만들어야 하는 기능은 크게 5가지\n",
    "    - 전체 데이터 가져오기(get)(list\n",
    "    - 1개 정보 등록하기 (post)(create)\n",
    "    - 1개 정보 가져오기 (get)(retrieve)\n",
    "    - 1개 정보 수정하기 (put)(update)\n",
    "    - 1개 정보 삭제하기 (delete)(destroy)\n",
    "    \n",
    "- 이 5가지 기능을 만드는 방법은 일일이 각 메소드별로 나눠 처리하도록 작성하는 것\n",
    "    - 위의 기능들을 최대한 편하고 쉽게 만들기 위해 발전된 방법이 mixins, generics, Viewset"
   ]
  },
  {
   "cell_type": "code",
   "execution_count": null,
   "id": "13cf8347",
   "metadata": {},
   "outputs": [],
   "source": [
    "# example/vies.py\n",
    "\n",
    "from rest_framework import status, generics, mixins\n",
    "\n",
    "class BookAPIMixins(mixins.RetrieveModelMixin, mixins.UpdateModelMixin, mixins.DestroyModelMixin, generics.GenericAPIView):\n",
    "    queryset = Book.objects.all()\n",
    "    serializer_class = BookSerializer\n",
    "    lookup_field = \"bid\" # 장고 기본 모델 pk가 아닌 bid를 pk로 사용하고 있기 때문에 lookup_field로 설정\n",
    "\n",
    "    def get(self, request, *args, **kwargs): # get 메소드 처리 함수(1권 조회)\n",
    "        return self.retrieve(request, *args, **kwargs) # mixins.RetrieveModelMixin 과 연결\n",
    "    \n",
    "    def put(self, request, *args, **kwargs): # put 메소드 처리 함수(1권 수정)\n",
    "        return self.update(request, *args, **kwargs) # mixins.UpdateModelMixin과 연결\n",
    "    \n",
    "    def delete(self, request, *args, **kwargs): # delete 메소드 처리 함수(1권 삭제)\n",
    "        return self.destroy(request, *args, **kwargs) # mixins.DestroyModelMixin 과 연결\n",
    "\n",
    "    \n",
    "# example/urls 연결\n",
    "from django.urls import path\n",
    "from example.views import BooksAPIMixins, BookAPIMixins\n",
    "\n",
    "urlpatterns = [\n",
    "    path(\"mixin/books/\", BooksAPIMixins.as_view()),\n",
    "    path(\"mixin/book/<int:bid>/\", BookAPIMixins.as_view()),\n",
    "    ]\n"
   ]
  },
  {
   "cell_type": "code",
   "execution_count": 26,
   "id": "ca1107ea",
   "metadata": {},
   "outputs": [
    {
     "data": {
      "text/plain": [
       "<Response [204]>"
      ]
     },
     "execution_count": 26,
     "metadata": {},
     "output_type": "execute_result"
    }
   ],
   "source": [
    "res6 = requests.delete(\"http://127.0.0.1:8000/example/mixin/book/2/\")\n",
    "res6"
   ]
  },
  {
   "cell_type": "markdown",
   "id": "c6590289",
   "metadata": {},
   "source": [
    "## DRF generics\n",
    "\n",
    "- mixins 방법에서는 mixins를 상속받는데 한 번에 2 ~ 3개씩 상속을 받아야 하는 번거로움이 있음\n",
    "    - 따라서 DRF에서는 mixins를 조합해서 미리 generics를 만들어둠\n",
    "    \n",
    "- generics의 조합 종류\n",
    "    - 전체 목록(generics.ListAPIView)\n",
    "    - 생성(generics.CreateAPIView)\n",
    "    - 1개 조회(generics.RetrieveAPIView)\n",
    "    - 1개 수정(generics.UpdateAPIView)\n",
    "    - 1개 삭제(generics.DestroyAPIView)\n",
    "    - 전체목록 + 생성(generics.ListCreateAPIView)\n",
    "    - 1개 조회 + 1개 수정(generics.RetrieveUpdateAPIView)\n",
    "    - 1개 조회 + 1개 삭제(generics.RetrieveDestroyAPIView)\n",
    "    - 1개 조회 + 1개 수정 + 1개 삭제(generics.RetrieveUpdateDestroyAPIView)"
   ]
  },
  {
   "cell_type": "code",
   "execution_count": null,
   "id": "e35fcb4d",
   "metadata": {},
   "outputs": [],
   "source": [
    "# example/views.py\n",
    "# 전체목록 + 생성 조합을 사용해서 기능 구현\n",
    "class BooksAPIGenerics(generics.ListCreateAPIview):\n",
    "    queryset = Book.objects.all()\n",
    "    serializer_class = BookSerializer\n",
    "\n",
    "# 1개 조회 + 1개 수정 + 1개 삭제 조합을 사용해서 기능 구현\n",
    "class BookAPIGenerics(generics.RetrieveUpdateDestroyAPIView):\n",
    "    queryset = Book.objects.all()\n",
    "    serializer_class = BookSerializer\n",
    "    lookup_field = \"bid\"\n",
    "    \n",
    "# example/urls.py\n",
    "from example.views import BooksAPIGenerics, BookAPIGenerics\n",
    "urlpatterns = [\n",
    "    path(\"generic/books/\", BooksAPIGenerics.as_view()),\n",
    "    path(\"generic/book/<int:bid>/\", BookAPIGenerics.as_view()),\n",
    "    ]"
   ]
  },
  {
   "cell_type": "markdown",
   "id": "0233adf8",
   "metadata": {},
   "source": [
    "## DRF Viewset & Router\n",
    "\n",
    "- 지금까지 작업했던 것은 하나의 클래스가 하나의 URL을 담당하는 방식\n",
    "    - URL마다 클래스를 만들고 각 클래스에서는 해당 URL로 들어오는 다양한 메소드를 처리할 수 있도록 하였음\n",
    "    \n",
    "- 따라서 queryset 이나 serializer_class 부분이 겹치게 됨\n",
    "    - 하나의 클래스로 하나의 모델을 전부 처리해줄 수 있다면 겹치는 부분이 없어짐\n",
    "    - 이를 위해서 Viewset을 사용\n",
    "    \n",
    "- Viewset과 Router 사용의 장점\n",
    "    - 하나의 클래스로 하나의 모델에 대한 내용을 전부 작성할 수 있으며, 그에 따라 queryset이나 serializer_class 등 겹치는 부분을 최소화 할 수 있음\n",
    "    - 라우터를 통해 URL을 일일이 지정하지 않아도 일정한 규칙의 URL을 만들 수 있음"
   ]
  },
  {
   "cell_type": "code",
   "execution_count": null,
   "id": "7a748ec6",
   "metadata": {},
   "outputs": [],
   "source": [
    "# example/views.py\n",
    "from rest_framework import viewsets\n",
    "\n",
    "class BookViewSet(viewsets.ModelViewSet):\n",
    "    queryset = Book.objects.all()\n",
    "    serializer_class = BookSerializer"
   ]
  },
  {
   "cell_type": "markdown",
   "id": "7c199636",
   "metadata": {},
   "source": [
    "- ModelViewSet을 가져와 클래스를 만들면 queryset과 serializer_class를 설정해주는 것으로 모델에 대한 기본적인 REST API가 완성됨\n",
    "- ModelViewSet은 내부적으로 CreateModelMixin, RetrieveModelMixin, UpdateModelMixin, DestroyMixin, ListModelMixin 을 사용함\n",
    "\n",
    "- ViewSet은 URL과 연결할 때 라우터를 사용함"
   ]
  },
  {
   "cell_type": "code",
   "execution_count": null,
   "id": "654d9e0e",
   "metadata": {},
   "outputs": [],
   "source": [
    "# example/urls.py\n",
    "\n",
    "from example.views import BookViewSet\n",
    "from rest_framework import routers\n",
    "\n",
    "\n",
    "router = routers.SimpleRouter()\n",
    "router.register(\"books\", BookViewSet)\n",
    "\n",
    "urlpatterns = router.urls"
   ]
  },
  {
   "cell_type": "markdown",
   "id": "b4ff5cbb",
   "metadata": {},
   "source": [
    "# 정리\n",
    "\n",
    "- Mixins와 generics, Viewset & Router 까지 점점 코드가 짧아지고 DRF가 대신 만들어주는 기능들이 많아짐\n",
    "    - 개발자가 할 일이 적어진다는 것은 장점이지만 개발자의 자유도가 낮아진다는 것은 단점\n",
    "        - 어떠한 기능을 수정할 일이 생길 때 어려움을 겪을 수 있음\n",
    "    - 작은 프로젝트에서는 오히려 과하게 느껴질 수 있음\n",
    "\n",
    "- 특정한 방식이 반드시 정답인것은 아님\n",
    "    - 상황에 따라 적절히 잘 활용할 수 있어야 하고 백엔드 구조가 아직 익숙하지 않다면 일일이 구현하는 것을 추천"
   ]
  }
 ],
 "metadata": {
  "kernelspec": {
   "display_name": "Python 3 (ipykernel)",
   "language": "python",
   "name": "python3"
  },
  "language_info": {
   "codemirror_mode": {
    "name": "ipython",
    "version": 3
   },
   "file_extension": ".py",
   "mimetype": "text/x-python",
   "name": "python",
   "nbconvert_exporter": "python",
   "pygments_lexer": "ipython3",
   "version": "3.11.5"
  }
 },
 "nbformat": 4,
 "nbformat_minor": 5
}
