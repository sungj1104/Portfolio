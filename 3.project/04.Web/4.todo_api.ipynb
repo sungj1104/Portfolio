{
 "cells": [
  {
   "cell_type": "code",
   "execution_count": null,
   "id": "363fb194",
   "metadata": {},
   "outputs": [],
   "source": [
    "# django-admin startproject mytodo .\n",
    "# python manage.py startapp todo\n",
    "\n",
    "# mytodo/settings.py \n",
    "INSTALLED_APPS = [\n",
    "    \"django.contrib.admin\",\n",
    "    \"django.contrib.auth\",\n",
    "    \"django.contrib.contenttypes\",\n",
    "    \"django.contrib.sessions\",\n",
    "    \"django.contrib.messages\",\n",
    "    \"django.contrib.staticfiles\",\n",
    "    \"rest_framework\", # 추가\n",
    "    \"todo\" # 추가\n",
    "]\n",
    "\n",
    "TIME_ZONE = \"Asia/Seoul\""
   ]
  },
  {
   "cell_type": "code",
   "execution_count": null,
   "id": "877bbc8e",
   "metadata": {},
   "outputs": [],
   "source": [
    "# python manage.py make migrations\n",
    "# python manage.py migrate\n",
    "# python manage.py createsuperuser"
   ]
  },
  {
   "cell_type": "code",
   "execution_count": null,
   "id": "cd7cef31",
   "metadata": {},
   "outputs": [],
   "source": [
    "# todo/models.py\n",
    "from django.db import models\n",
    "\n",
    "# Create your models here.\n",
    "class Todo(models.Model):\n",
    "    title = models.CharField(max_length = 100)\n",
    "    description = models.TextField(blank = True)\n",
    "    created = models.DateTimeField(auto_now_add = True)\n",
    "    complete = models.BooleanField(default = False)\n",
    "    important = models.BooleanField(default = False)\n",
    "\n",
    "    def __str__(self):\n",
    "        return self.title"
   ]
  },
  {
   "cell_type": "markdown",
   "id": "89613c2b",
   "metadata": {},
   "source": [
    "- todo 전체 조회 api 만들기\n",
    "\n",
    "    - 전체 조회용 시리얼라이저\n",
    "        - 제목, 완료 여부, 중요 여부만 포함한 간단한 시리얼라이저\n",
    "        \n",
    "    - 뷰\n",
    "        - complete 가 False인 todo 들을 조회\n",
    "        - get 방식으로 요청을 처리\n",
    "        \n",
    "    - urls \n",
    "        - 127.0.0.1:8000/todo/"
   ]
  },
  {
   "cell_type": "code",
   "execution_count": null,
   "id": "3d1c9222",
   "metadata": {},
   "outputs": [],
   "source": [
    "# todo/serializers.py\n",
    "from rest_framework import serializers\n",
    "from todo.models import Todo\n",
    "\n",
    "class TodoSimpleSerializer(serializers.ModelSerializer):\n",
    "    class Meta:\n",
    "        model = Todo\n",
    "        fields = (\"id\", \"title\", \"complete\", \"important\")"
   ]
  },
  {
   "cell_type": "code",
   "execution_count": null,
   "id": "d8e4d013",
   "metadata": {},
   "outputs": [],
   "source": [
    "# todo/vies.py\n",
    "from rest_framework import status\n",
    "from rest_framework.response import Response\n",
    "from rest_framework.views import APIView\n",
    "from todo.models import Todo\n",
    "from todo.serializers import TodoSimpleSerializer\n",
    "\n",
    "# Create your views here.\n",
    "class TodosAPIView(APIView):\n",
    "    def get(self, request):\n",
    "        todos = Todo.objects.filter(complete = False)\n",
    "        serializer = TodoSimpleSerializer(todos, many = True)\n",
    "        return Response(serializer.data, status = status.HTTP_200_OK)"
   ]
  },
  {
   "cell_type": "code",
   "execution_count": null,
   "id": "33c359a8",
   "metadata": {},
   "outputs": [],
   "source": [
    "# mytodo/urls.py\n",
    "\n",
    "from django.urls import path, include\n",
    "\n",
    "urlpatterns = [\n",
    "    path(\"todo/\", include(\"todo.urls\")),\n",
    "]"
   ]
  },
  {
   "cell_type": "code",
   "execution_count": null,
   "id": "b367b99e",
   "metadata": {},
   "outputs": [],
   "source": [
    "# todo/urls.py\n",
    "from django.urls import path\n",
    "from todo import views\n",
    "\n",
    "urlpatterns = [\n",
    "    path(\"\", views.TodosAPIView.as_view()),\n",
    "    ]"
   ]
  },
  {
   "cell_type": "markdown",
   "id": "b16675ac",
   "metadata": {},
   "source": [
    "- 상세 조회 기능 개발\n",
    "    - 시리얼라이저\n",
    "        - Todo 모델 id, 제목, 설명, 작성일자, 완료여부, 중요 여부 를 포함\n",
    "        \n",
    "    - 뷰\n",
    "        - id를 입력받으면 해당 id의 Todo 데이터를 조회\n",
    "        - get"
   ]
  },
  {
   "cell_type": "code",
   "execution_count": null,
   "id": "d1e8b1a1",
   "metadata": {},
   "outputs": [],
   "source": [
    "# todo/views.py\n",
    "from todo.serializers import TodoSimpleSerializer, TodoDetailSerializer\n",
    "from rest_framework.generics import get_object_or_404 \n",
    "\n",
    "class TodoAPIView(APIView):\n",
    "    def get(self, request, id):\n",
    "        todo = get_object_or_404(Todo, id = id)\n",
    "        serializer = TodoDetailSerializer(todo)\n",
    "        return Response(serializer.data, status = status.HTTP_200_OK)"
   ]
  },
  {
   "cell_type": "code",
   "execution_count": null,
   "id": "fdd54596",
   "metadata": {},
   "outputs": [],
   "source": [
    "# todo/urls.py\n",
    "from django.urls import path\n",
    "from todo import views\n",
    "\n",
    "urlpatterns = [\n",
    "    path(\"<int:id>/\", views.TodoAPIView.as_view()),\n",
    "    ]"
   ]
  },
  {
   "cell_type": "markdown",
   "id": "3ed5be02",
   "metadata": {},
   "source": [
    "- todo 생성 api 개발\n",
    "    - 시리얼라이저\n",
    "        - todo 생성에 필요한 입력값은 title과 description, important\n",
    "        \n",
    "    - 뷰\n",
    "        - post 요청\n",
    "        - post 요청으로 전달받은 데이터를 시리얼라이저에서 유효성 검사를 하고 todo 데이터 추가\n",
    "        \n",
    "    - url\n",
    "        - (post) 127.0.0.1:8000/todo/"
   ]
  },
  {
   "cell_type": "code",
   "execution_count": null,
   "id": "f35794d2",
   "metadata": {},
   "outputs": [],
   "source": [
    "# todo/serializers.py\n",
    "\n",
    "class TodoCreateSerializer(serializers.ModelSerializer):\n",
    "    class Meta:\n",
    "        model = Todo\n",
    "        fields = (\"title\", \"description\", \"important\")\n",
    "        \n",
    "# todo/views.py\n",
    "from todo.serializers import TodoCreateSerializer\n",
    "\n",
    "class TodosAPIView(APIView):\n",
    "    def post(self, request):\n",
    "        serializer = TodoCreateSerializer(data = request.data)\n",
    "\n",
    "        if serializer.is_valid():\n",
    "            serializer.save()\n",
    "            return Response(serializer.data, status = status.HTTP_201_CREATED)\n",
    "        \n",
    "        return Response(serializer.errors, status = status.HTTP_400_BAD_REQUEST)\n",
    "    \n",
    "\n",
    "# todo/urls.py\n",
    "from django.urls import path\n",
    "from todo import views\n",
    "\n",
    "urlpatterns = [\n",
    "    path(\"\", views.TodosAPIView.as_view()),\n",
    "    ]"
   ]
  },
  {
   "cell_type": "markdown",
   "id": "1cd8315a",
   "metadata": {},
   "source": [
    "- 수정 & 완료 기능\n",
    "    - 수정 기능\n",
    "        - 시리얼라이저\n",
    "            - 입력값은 title과 description, important\n",
    "            \n",
    "        - 뷰\n",
    "            - id를 입력받고 id가 일치하는(수정할)데이터를 조회하고 조회되지 않으면 404 에러\n",
    "            - 유효성 검사 후 유효하면 데이터 수정 / 유효하지 않으면 400 응답코드\n",
    "            \n",
    "        - urls\n",
    "            - (put) 127.0.0.1:8000/todo/수정할 todo의 id/\n",
    "            \n",
    "    - 완료 목록 조회 기능\n",
    "        - 시리얼라이저\n",
    "            - id, title, complete, important 사용\n",
    "            \n",
    "        - 뷰\n",
    "            - complete 가 True인 데이터를 조회\n",
    "        \n",
    "        - urls\n",
    "            - (get) 127.0.0.1:8000/todo/done/\n",
    "            \n",
    "    - 완료 기능\n",
    "        - 시리얼라이저\n",
    "            - id, title, description, created, complete, import\n",
    "            \n",
    "        - 뷰\n",
    "            - id를 입력받고 id가 일치하는(완료 할)데이터를 조회하고 조회되지 않으면 404 에러 \n",
    "            - 조회된 데이터의 complete 속성 값을 True로 변환 후 저장\n",
    "            \n",
    "        - urls\n",
    "            - (get) 127.0.0.1:8000/todo/done/완료할 todo의 id/"
   ]
  }
 ],
 "metadata": {
  "kernelspec": {
   "display_name": "Python 3 (ipykernel)",
   "language": "python",
   "name": "python3"
  },
  "language_info": {
   "codemirror_mode": {
    "name": "ipython",
    "version": 3
   },
   "file_extension": ".py",
   "mimetype": "text/x-python",
   "name": "python",
   "nbconvert_exporter": "python",
   "pygments_lexer": "ipython3",
   "version": "3.11.5"
  }
 },
 "nbformat": 4,
 "nbformat_minor": 5
}
