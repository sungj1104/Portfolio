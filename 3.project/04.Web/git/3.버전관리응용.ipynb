{
 "cells": [
  {
   "cell_type": "markdown",
   "id": "27f4e142",
   "metadata": {},
   "source": [
    "# 버전 비교\n",
    "\n",
    "- 각 버전 이전 버전에 비해 무엇이 바뀌었는지는 History 에서 확인 가능\n",
    "    - 개별 커밋을 클릭하면 확인 가능\n",
    "\n",
    "- 버전별 비교\n",
    "    - 보고싶은 커밋을 클릭한 후 선택한 버전 열기\n",
    "        - 각 버전의 파일 내용을 확인할 수 있음\n",
    "    - 각 커밋을 ctrl + 클릭\n",
    "        - 버전별 비교"
   ]
  },
  {
   "cell_type": "markdown",
   "id": "4c667925",
   "metadata": {},
   "source": [
    "# 작업 되돌리기\n",
    "\n",
    "- 버전이 만들어지는 과정은\n",
    "    1. 작업 디렉토리에서 변경 사항 생성하기\n",
    "    2. 스테이지로 올리기\n",
    "    3. 커밋하기\n",
    "    \n",
    "- 스테이지에 올라간 파일은 스테이지에서 내리기로 되돌릴 수 있음\n",
    "    - test.txt 를 폐기하면 추가 변경사항이 되돌려짐\n",
    "    - test2.txt는 폐기가 안됨\n",
    "        - 이번에 막 생성된 파일이기 때문에 폐기 불가능\n",
    "            - 새롭게 만들어진 파일의 변경 사항을 취소한다 = 파일이 만들어지기 전으로 되돌아가겠다 = 파일을 제거하겠다\n",
    "            - 따라서 방금 생성한 파일의 작업을 되돌리려면 제거를 클릭"
   ]
  },
  {
   "cell_type": "markdown",
   "id": "0955392c",
   "metadata": {},
   "source": [
    "## 커밋 되돌리기\n",
    "\n",
    "- 커밋한 내용을 되돌리는 방법은 크게 두 가지가 있음\n",
    "    - revert\n",
    "        - 버전을 되돌리되, 되돌아간 상태에 대한 새로운 버전(커밋)을 만드는 방식\n",
    "        - 기존의 버전은 삭제되지 않음\n",
    "        \n",
    "    - reset\n",
    "        - 되돌아갈 버전의 시점으로 완전하게 되돌아가는 방식\n",
    "        - 되돌아갈 버전 이후의 버전은 삭제됨\n",
    "        - reset 은 세 종류 soft reset, mixed reset, hard reset 이 있음\n",
    "            - soft reset\n",
    "                - 작업 디렉토리 내 변경 사항과 스테이지에 추가된 변경 사항은 유지하되 커밋했다는 사실만 되돌리는 reset\n",
    "            \n",
    "            - mixed reset\n",
    "                - 작업 디렉토리 내 변경 사항은 유지하되, 스테이지와 커밋을 되돌리는 reset\n",
    "                \n",
    "            - hard reset\n",
    "                - 작업 디렉토리 내 변경사항까지 통째로 되돌리는 reset"
   ]
  },
  {
   "cell_type": "markdown",
   "id": "bcef939f",
   "metadata": {},
   "source": [
    "# 작업 임시 저장\n",
    "\n",
    "- 깃은 스태시(stash)라는 임시 저장 기능을 지원함\n",
    "    - 개발 과정에서 작업내역이 마음에는 들지 않지만 버릴 수는 없는 경우\n",
    "    - 갑작스럽게 다른 일을 먼저 처리해야 하는 경우\n",
    "    \n",
    "- 스태시를 사용하면 작업 디렉토리에서 생성한 모든 변경사항이 임시 저장되고, 변경 사항이 생기기 전의 깨끗한 상태로 되돌아감"
   ]
  }
 ],
 "metadata": {
  "kernelspec": {
   "display_name": "Python 3 (ipykernel)",
   "language": "python",
   "name": "python3"
  },
  "language_info": {
   "codemirror_mode": {
    "name": "ipython",
    "version": 3
   },
   "file_extension": ".py",
   "mimetype": "text/x-python",
   "name": "python",
   "nbconvert_exporter": "python",
   "pygments_lexer": "ipython3",
   "version": "3.11.5"
  }
 },
 "nbformat": 4,
 "nbformat_minor": 5
}
