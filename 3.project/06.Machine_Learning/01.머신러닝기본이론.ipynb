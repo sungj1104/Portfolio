{
 "cells": [
  {
   "cell_type": "markdown",
   "id": "bb14b2af",
   "metadata": {},
   "source": [
    "# 통계 기본 이론\n",
    "\n",
    "- 예측 분석학\n",
    "- 대전제는 역사는 반복적이다\n",
    "- 과거 데이터에 대한 적합화를 수행하여 이를 테스트\n",
    "    - 결과 성능에 대한 척도가 검증되면\n",
    "    - 동일 모델에 대해서 미래예측에 활용\n",
    "    \n",
    "- 독립 변수\n",
    "    - 관측치, 입력변수, 특징, feature, 설명변수 등\n",
    "    \n",
    "- 종속 변수\n",
    "    - 결과변수, 반응변수, 응답변수, 설명된변수, 측정된변수, 레이블, 실험변수 등\n",
    "    \n",
    "- 변수들로 이루어진 수학식\n",
    "    - 이를 이용하여 계산 후 실제에 적용\n",
    "    - 이를 통해서 추정을 한다 -> 통계 학문\n",
    "    \n",
    "- 가정\n",
    "    - 항상 모든 변수들이 만족해야하는 기본 가정으로부터 시작한다"
   ]
  },
  {
   "cell_type": "markdown",
   "id": "da9c2e7a",
   "metadata": {},
   "source": [
    "# 머신러닝\n",
    "\n",
    "- 의의\n",
    "    - 머신러닝은 과거 경험에서 학습을 통해 얻은 지식을 미래의 결정에 이용하는 전산학의 한 분야\n",
    "    - 전산학과 공학, 통계학의 교집합으로 볼 수 있음\n",
    "    \n",
    "- 목표\n",
    "    - 관측된 패턴을 일반화하거나 주어진 예제를 통해 새로운 규칙을 생성하는 것\n",
    "    \n",
    "- 종류\n",
    "    - 지도학습(Supervised learning)\n",
    "        - 목표 변수와 다른 변수간의 관계를 기계가 학습하도록 가르치는 것\n",
    "            - 분류 문제(Classification)\n",
    "            - 회귀 문제(Regression)\n",
    "            \n",
    "    - 비지도학습(Unsupervised learning)\n",
    "        - 지도나 목표 변수를 설정하는 과정 없이 알고리즘이 스스로 학습\n",
    "        - 주어진 데이터 사이의 숨은 패턴이나 관계를 찾는 것\n",
    "            - 차원 축소(Dimensionality reduction)\n",
    "            - 군집화(Clustering)\n",
    "            \n",
    "    - 강화학습(Reinforcement learning)\n",
    "        - 기계나 에이전트가 주변 환경의 피드백으로부터 행동을 학습하는 것\n",
    "        - 에이전트는 지도를 받지 않고 스스로 결정을 내린 후 마지막에 그 결과에 보상을 받게 됨\n",
    "        - 보상값에 따라 에이전트는 실행했던 이력을 재평가"
   ]
  },
  {
   "cell_type": "markdown",
   "id": "69f314c6",
   "metadata": {},
   "source": [
    "# 통계 모델링과 머신러닝의 차이점\n",
    "\n",
    "| 통계 모델링 | 머신러닝 |\n",
    "| :-- | :-- |\n",
    "| 변수 간의 관계를 수학식을 통해 정형화 | 규칙 기반 프로그래밍에 의존하지 않고 데이터로부터 학습 가능한 알고리즘 |\n",
    "| 데이터에 맞는 모델 적합화를 수행하기 전 미리 곡선의 형태를 가정 | 주어진 데이터로부터 복잡한 패턴을 스스로 학습하는 알고리즘이므로 곡선의 형태를 미리 가정하지 않음 |\n",
    "| P값 같은 다양한 매개변수 진단이 수행됨 | 어떠한 통계적 유의성 진단도 수행하지 않음 |\n",
    "| 데이터는 훈련 집합과 테스트 집합으로 나뉨. 모델은 훈련 집합에서 개발되고 테스트 집합으로 테스트 | 데이터는 훈련 데이터, 검증 데이터, 테스트 데이터로 나뉨. 모델은 훈련 데이터에서 개발되고, 초매개변수는 검증 데이터를 통해 튜닝되고, 최종적으로는 테스트 데이터에 관해 평가 |\n",
    "| 통계학과, 수학과 | 전산학과 |"
   ]
  },
  {
   "cell_type": "markdown",
   "id": "b1301f60",
   "metadata": {},
   "source": [
    "# 머신러닝과 딥러닝의 차이점\n",
    "\n",
    "<img src = \"./image/mlvsdl.png\">"
   ]
  },
  {
   "cell_type": "markdown",
   "id": "5633bcb3",
   "metadata": {},
   "source": [
    "# 머신 러닝 모델 개발과 배치를 위한 단계\n",
    "\n",
    "1. 데이터 수집\n",
    "    - 구조화된 소스, 웹크롤링, API 등을 통해 직접 수집\n",
    "    - 정형 데이터와 비정형 데이터를 모두 처리할 수 있음\n",
    "    \n",
    "2. 데이터 준비, 결측치/이상치 처리\n",
    "    - 선택한 머신러닝 알고리즘에 맞도록 데이터를 가공\n",
    "    - 결측치나 이상치는 평균값이나 중간값 등으로 대체\n",
    "    \n",
    "3. 데이터 분석과 변수 선택\n",
    "    - 변수들 사이의 숨겨진 패턴 및 관계를 찾아내기 위한 과정\n",
    "    - 올바른 변수 선택과 사업 분야에 관한 충분한 배경 지식을 동원한다면 목표의 70% 정도를 달성할 수 있음\n",
    "    \n",
    "4. 훈련 알고리즘\n",
    "    - 데이터를 훈련, 검증, 테스트로 분리\n",
    "    - 훈련 데이터에 머신러닝을 적용하고 과대적합(Overfitting)을 피하기 위해 검증 데이터를 대상으로 모델의 초매개변수를 튜닝\n",
    "    \n",
    "5. 테스트 데이터를 사용한 알고리즘 테스트\n",
    "    - 훈련에 사용하지 않은 낯선 테스트 데이터를 대상으로 성능점검을 수행\n",
    "    - 이 단계에서 충분히 성능이 인정되면 마지막 단계로 넘어감\n",
    "    \n",
    "6. 알고리즘 배치\n",
    "    - 비즈니스에 적용"
   ]
  },
  {
   "cell_type": "markdown",
   "id": "af40a279",
   "metadata": {},
   "source": [
    "# 머신러닝 모델 튜닝을 멈추는 시점\n",
    "\n",
    "<img src = \"./image/fitting_examples.jpg\">\n",
    "\n",
    "<hr>\n",
    "\n",
    "<img src = \"./image/test_accuracy.png\">"
   ]
  },
  {
   "cell_type": "markdown",
   "id": "2bcca6ed",
   "metadata": {},
   "source": [
    "- 과소 적합 단계(Underfitting)\n",
    "    - 높은 훈련 오류 및 테스트 오류\n",
    "    - 낮은 훈련 정확도 및 테스트 정확도\n",
    "    \n",
    "- 적합 단계(Good fit)\n",
    "    - 이상적인 시나리오\n",
    "    - 낮은 훈련 오류 및 테스트 오류\n",
    "    - 높은 훈련 정확도 및 테스트 정확도\n",
    "    \n",
    "- 과대 적합 단계(Overfitting)\n",
    "    - 낮은 훈련 오류와 높은 테스트 오류\n",
    "    - 높은 훈련 정확도와 낮은 테스트 정확도"
   ]
  },
  {
   "cell_type": "markdown",
   "id": "f0919688",
   "metadata": {},
   "source": [
    "# 사이킷런\n",
    "\n",
    "- 사이킷런(scikit-learn)은 파이썬 머신러닝 라이브러리 중 가장 많이 사용하는 라이브러리\n",
    "- 파이썬 기반의 머신러닝을 위한 가장 쉽고 효율적인 개발 라이브러리를 제공"
   ]
  },
  {
   "cell_type": "markdown",
   "id": "6d521edb",
   "metadata": {},
   "source": [
    "## 사이킷런의 특징\n",
    "\n",
    "- 가장 쉽고 가장 파이썬스러운 api\n",
    "- 머신러닝을 위한 매우 다양한 알고리즘을 제공\n",
    "- 오랜 기간 실전 환경에서 검증되었으며, 많은 환경에서 사용되는 라이브러리\n",
    "- Anaconda를 설치하면 기본으로 사이킷런까지 설치가 완료됨"
   ]
  },
  {
   "cell_type": "markdown",
   "id": "6a902f99",
   "metadata": {},
   "source": [
    "### Estimator\n",
    "\n",
    "- 지도학습의 모든 알고리즘을 구현한 클래스의 통칭\n",
    "\n",
    "- 종류\n",
    "    - Classifier : 분류 알고리즘을 구현한 클래스\n",
    "    - Regressor : 회귀 알고리즘을 구현한 클래스\n",
    "    \n",
    "- 메서드\n",
    "    - fit() : ML 모델 학습 결과를 반환\n",
    "    - predict() : 학습된 모델의 예측 결과를 반환"
   ]
  },
  {
   "cell_type": "markdown",
   "id": "83438f40",
   "metadata": {},
   "source": [
    "### 사이킷런의 데이터 전처리\n",
    "\n",
    "- ML 알고리즘은 데이터에 기반하고 있기 때문에 어떤 데이터를 입력으로 가지느냐에 따라 결과도 크게 달라질 수 있음\n",
    "- 사이킷런 사용시 데이터 전처리 과정의 유의점\n",
    "    - 결측값은 허용하지 않음\n",
    "        - 결측치를 어떤 값으로 대체할지는 경우에 따라 다름\n",
    "        - 결측값이 얼마 되지 않는다면 평균값 등으로 대체할 수 있음\n",
    "        - 대부분이 결측값이라면 오히려 삭제하는 것이 더 좋음\n",
    "            - 해당 피처가 중요한 피처이거나 단순히 평균값으로 대체했을 때 왜곡이 심해질 수 있다면 업무로직 등을 상세히 검토해 더 정밀한 대체 값을 선정해야 함\n",
    "        - 적절한 수준이 정확히 몇 퍼센트까지인지에 대한 기준은 없음\n",
    "    - 문자열 값을 입력값으로 형용하지 않음\n",
    "        - 모든 문자열 값은 숫자형으로 변환\n",
    "        - 문자열 피처는 일반적으로 카테고리형, 피처와 텍스트형 피처를 의미\n",
    "            - 카테고리형 피처는 코드값으로 표현\n",
    "            - 텍스트형 피처는 피처 벡터와 등의 기법으로 베터화하거나, 삭제]"
   ]
  },
  {
   "cell_type": "markdown",
   "id": "1587d9f2",
   "metadata": {},
   "source": [
    "# skleanr의 데이터 세트"
   ]
  },
  {
   "cell_type": "markdown",
   "id": "85d57ee6",
   "metadata": {},
   "source": [
    "## skleran.datasets\n",
    "\n",
    "- 모형 실습을 위해서 예제 데이터 세트를 제공\n",
    "- 3가지 분류\n",
    "    - load 계열 : 이미 저장되어 있는 예제 데이터 => 용량이 작다\n",
    "    - feat 계열 = 인터넷에서 캐쉬다운로드 되운로드 = > 용량이 크다\n",
    "    - make 계열 : 가상의 데이터셋을 생성 => 더미 데이터 생성"
   ]
  },
  {
   "cell_type": "code",
   "execution_count": 3,
   "id": "4292ff3e",
   "metadata": {},
   "outputs": [],
   "source": [
    "import sklearn.datasets as mls"
   ]
  },
  {
   "cell_type": "markdown",
   "id": "809e6518",
   "metadata": {},
   "source": [
    "### load 계역\n",
    "\n",
    "- 종류\n",
    "    - load_boston : 보스턴 집값 => 회귀 분석\n",
    "    - load_breast_cancer : 유방암 진단 자료 => 분류\n",
    "    - load_diabetes : 당뇨병 자료 = > 회귀\n",
    "    - load_digits : 숫자 필기 이미지, MNIST 계열 => qnsfb\n",
    "    - load_iris : 붓꽃 => 분류\n",
    "    - load_wine : 와인 등급 => 분류 분석"
   ]
  },
  {
   "cell_type": "markdown",
   "id": "3ac78ad1",
   "metadata": {},
   "source": [
    "### fetch 계열\n",
    "\n",
    "- 데이터가 커서 처음에 설치가 안됨\n",
    "- 요청을 하면 인터넷을 통해서 다운받아서 제공\n",
    "- scikit_learn_data 밑으로 저장\n",
    "- 종류\n",
    "    - fetch_20newsgroups : 뉴스 그룹 텍스트 자료\n",
    "    - fetch_covtype : 토지 조사 자료 : 회귀 분석\n",
    "    - fetch_lfw_pairs : 얼굴 이미지 자료\n",
    "    - fetch_lfw_people : 얼굴 이미지 자료\n",
    "    - fetch_rcv1 : 로이터 뉴스"
   ]
  },
  {
   "cell_type": "markdown",
   "id": "55570394",
   "metadata": {},
   "source": [
    "### make 계열\n",
    "\n",
    "- 모형 실험을 위해서 가상으로 만드는 데이터 세트\n",
    "- 종류\n",
    "    - make_regression : 회귀 분석용 데이터 세트\n",
    "    - make_classification : 분류용 데이터 세트\n",
    "    - make_blobs : 클러스터링용 가상 데이터 세트"
   ]
  },
  {
   "cell_type": "code",
   "execution_count": 4,
   "id": "127933d8",
   "metadata": {},
   "outputs": [
    {
     "data": {
      "text/plain": [
       "sklearn.utils._bunch.Bunch"
      ]
     },
     "execution_count": 4,
     "metadata": {},
     "output_type": "execute_result"
    }
   ],
   "source": [
    "iris = mls.load_iris()\n",
    "type(iris)"
   ]
  },
  {
   "cell_type": "markdown",
   "id": "087b7711",
   "metadata": {},
   "source": [
    "#### sklearn.utils.Bunch\n",
    "\n",
    "- sklearn 에서 제공되는 데이터는 이 형식을 대부분 따른다\n",
    "- 변수\n",
    "    - DESCR : 데이터에 대한 총괄적인 설명\n",
    "    - data : (필수)독립 변수의 ndarray(배열)\n",
    "    - target : (필수, 단 종류에 따라서는 생략은 가능) 종속 변수의 ndarray(배열)\n",
    "    - feature_names : (옵션)독립 변수의 이름(컬럼)\n",
    "    - target_names : (옵션) 종속 변수의 이름을 리스트(값에 해당되는 항목)\n",
    "    - filename : 파일명"
   ]
  },
  {
   "cell_type": "code",
   "execution_count": 5,
   "id": "bade2308",
   "metadata": {},
   "outputs": [
    {
     "data": {
      "text/plain": [
       "['DESCR',\n",
       " 'data',\n",
       " 'data_module',\n",
       " 'feature_names',\n",
       " 'filename',\n",
       " 'frame',\n",
       " 'target',\n",
       " 'target_names']"
      ]
     },
     "execution_count": 5,
     "metadata": {},
     "output_type": "execute_result"
    }
   ],
   "source": [
    "dir(iris)"
   ]
  },
  {
   "cell_type": "code",
   "execution_count": 6,
   "id": "7740f6bd",
   "metadata": {},
   "outputs": [
    {
     "name": "stdout",
     "output_type": "stream",
     "text": [
      ".. _iris_dataset:\n",
      "\n",
      "Iris plants dataset\n",
      "--------------------\n",
      "\n",
      "**Data Set Characteristics:**\n",
      "\n",
      "    :Number of Instances: 150 (50 in each of three classes)\n",
      "    :Number of Attributes: 4 numeric, predictive attributes and the class\n",
      "    :Attribute Information:\n",
      "        - sepal length in cm\n",
      "        - sepal width in cm\n",
      "        - petal length in cm\n",
      "        - petal width in cm\n",
      "        - class:\n",
      "                - Iris-Setosa\n",
      "                - Iris-Versicolour\n",
      "                - Iris-Virginica\n",
      "                \n",
      "    :Summary Statistics:\n",
      "\n",
      "    ============== ==== ==== ======= ===== ====================\n",
      "                    Min  Max   Mean    SD   Class Correlation\n",
      "    ============== ==== ==== ======= ===== ====================\n",
      "    sepal length:   4.3  7.9   5.84   0.83    0.7826\n",
      "    sepal width:    2.0  4.4   3.05   0.43   -0.4194\n",
      "    petal length:   1.0  6.9   3.76   1.76    0.9490  (high!)\n",
      "    petal width:    0.1  2.5   1.20   0.76    0.9565  (high!)\n",
      "    ============== ==== ==== ======= ===== ====================\n",
      "\n",
      "    :Missing Attribute Values: None\n",
      "    :Class Distribution: 33.3% for each of 3 classes.\n",
      "    :Creator: R.A. Fisher\n",
      "    :Donor: Michael Marshall (MARSHALL%PLU@io.arc.nasa.gov)\n",
      "    :Date: July, 1988\n",
      "\n",
      "The famous Iris database, first used by Sir R.A. Fisher. The dataset is taken\n",
      "from Fisher's paper. Note that it's the same as in R, but not as in the UCI\n",
      "Machine Learning Repository, which has two wrong data points.\n",
      "\n",
      "This is perhaps the best known database to be found in the\n",
      "pattern recognition literature.  Fisher's paper is a classic in the field and\n",
      "is referenced frequently to this day.  (See Duda & Hart, for example.)  The\n",
      "data set contains 3 classes of 50 instances each, where each class refers to a\n",
      "type of iris plant.  One class is linearly separable from the other 2; the\n",
      "latter are NOT linearly separable from each other.\n",
      "\n",
      ".. topic:: References\n",
      "\n",
      "   - Fisher, R.A. \"The use of multiple measurements in taxonomic problems\"\n",
      "     Annual Eugenics, 7, Part II, 179-188 (1936); also in \"Contributions to\n",
      "     Mathematical Statistics\" (John Wiley, NY, 1950).\n",
      "   - Duda, R.O., & Hart, P.E. (1973) Pattern Classification and Scene Analysis.\n",
      "     (Q327.D83) John Wiley & Sons.  ISBN 0-471-22361-1.  See page 218.\n",
      "   - Dasarathy, B.V. (1980) \"Nosing Around the Neighborhood: A New System\n",
      "     Structure and Classification Rule for Recognition in Partially Exposed\n",
      "     Environments\".  IEEE Transactions on Pattern Analysis and Machine\n",
      "     Intelligence, Vol. PAMI-2, No. 1, 67-71.\n",
      "   - Gates, G.W. (1972) \"The Reduced Nearest Neighbor Rule\".  IEEE Transactions\n",
      "     on Information Theory, May 1972, 431-433.\n",
      "   - See also: 1988 MLC Proceedings, 54-64.  Cheeseman et al\"s AUTOCLASS II\n",
      "     conceptual clustering system finds 3 classes in the data.\n",
      "   - Many, many more ...\n"
     ]
    }
   ],
   "source": [
    "print(iris.DESCR)"
   ]
  },
  {
   "cell_type": "code",
   "execution_count": 7,
   "id": "fc11f17a",
   "metadata": {},
   "outputs": [
    {
     "data": {
      "text/plain": [
       "array([[5.1, 3.5, 1.4, 0.2],\n",
       "       [4.9, 3. , 1.4, 0.2],\n",
       "       [4.7, 3.2, 1.3, 0.2],\n",
       "       [4.6, 3.1, 1.5, 0.2],\n",
       "       [5. , 3.6, 1.4, 0.2],\n",
       "       [5.4, 3.9, 1.7, 0.4],\n",
       "       [4.6, 3.4, 1.4, 0.3],\n",
       "       [5. , 3.4, 1.5, 0.2],\n",
       "       [4.4, 2.9, 1.4, 0.2],\n",
       "       [4.9, 3.1, 1.5, 0.1],\n",
       "       [5.4, 3.7, 1.5, 0.2],\n",
       "       [4.8, 3.4, 1.6, 0.2],\n",
       "       [4.8, 3. , 1.4, 0.1],\n",
       "       [4.3, 3. , 1.1, 0.1],\n",
       "       [5.8, 4. , 1.2, 0.2],\n",
       "       [5.7, 4.4, 1.5, 0.4],\n",
       "       [5.4, 3.9, 1.3, 0.4],\n",
       "       [5.1, 3.5, 1.4, 0.3],\n",
       "       [5.7, 3.8, 1.7, 0.3],\n",
       "       [5.1, 3.8, 1.5, 0.3],\n",
       "       [5.4, 3.4, 1.7, 0.2],\n",
       "       [5.1, 3.7, 1.5, 0.4],\n",
       "       [4.6, 3.6, 1. , 0.2],\n",
       "       [5.1, 3.3, 1.7, 0.5],\n",
       "       [4.8, 3.4, 1.9, 0.2],\n",
       "       [5. , 3. , 1.6, 0.2],\n",
       "       [5. , 3.4, 1.6, 0.4],\n",
       "       [5.2, 3.5, 1.5, 0.2],\n",
       "       [5.2, 3.4, 1.4, 0.2],\n",
       "       [4.7, 3.2, 1.6, 0.2],\n",
       "       [4.8, 3.1, 1.6, 0.2],\n",
       "       [5.4, 3.4, 1.5, 0.4],\n",
       "       [5.2, 4.1, 1.5, 0.1],\n",
       "       [5.5, 4.2, 1.4, 0.2],\n",
       "       [4.9, 3.1, 1.5, 0.2],\n",
       "       [5. , 3.2, 1.2, 0.2],\n",
       "       [5.5, 3.5, 1.3, 0.2],\n",
       "       [4.9, 3.6, 1.4, 0.1],\n",
       "       [4.4, 3. , 1.3, 0.2],\n",
       "       [5.1, 3.4, 1.5, 0.2],\n",
       "       [5. , 3.5, 1.3, 0.3],\n",
       "       [4.5, 2.3, 1.3, 0.3],\n",
       "       [4.4, 3.2, 1.3, 0.2],\n",
       "       [5. , 3.5, 1.6, 0.6],\n",
       "       [5.1, 3.8, 1.9, 0.4],\n",
       "       [4.8, 3. , 1.4, 0.3],\n",
       "       [5.1, 3.8, 1.6, 0.2],\n",
       "       [4.6, 3.2, 1.4, 0.2],\n",
       "       [5.3, 3.7, 1.5, 0.2],\n",
       "       [5. , 3.3, 1.4, 0.2],\n",
       "       [7. , 3.2, 4.7, 1.4],\n",
       "       [6.4, 3.2, 4.5, 1.5],\n",
       "       [6.9, 3.1, 4.9, 1.5],\n",
       "       [5.5, 2.3, 4. , 1.3],\n",
       "       [6.5, 2.8, 4.6, 1.5],\n",
       "       [5.7, 2.8, 4.5, 1.3],\n",
       "       [6.3, 3.3, 4.7, 1.6],\n",
       "       [4.9, 2.4, 3.3, 1. ],\n",
       "       [6.6, 2.9, 4.6, 1.3],\n",
       "       [5.2, 2.7, 3.9, 1.4],\n",
       "       [5. , 2. , 3.5, 1. ],\n",
       "       [5.9, 3. , 4.2, 1.5],\n",
       "       [6. , 2.2, 4. , 1. ],\n",
       "       [6.1, 2.9, 4.7, 1.4],\n",
       "       [5.6, 2.9, 3.6, 1.3],\n",
       "       [6.7, 3.1, 4.4, 1.4],\n",
       "       [5.6, 3. , 4.5, 1.5],\n",
       "       [5.8, 2.7, 4.1, 1. ],\n",
       "       [6.2, 2.2, 4.5, 1.5],\n",
       "       [5.6, 2.5, 3.9, 1.1],\n",
       "       [5.9, 3.2, 4.8, 1.8],\n",
       "       [6.1, 2.8, 4. , 1.3],\n",
       "       [6.3, 2.5, 4.9, 1.5],\n",
       "       [6.1, 2.8, 4.7, 1.2],\n",
       "       [6.4, 2.9, 4.3, 1.3],\n",
       "       [6.6, 3. , 4.4, 1.4],\n",
       "       [6.8, 2.8, 4.8, 1.4],\n",
       "       [6.7, 3. , 5. , 1.7],\n",
       "       [6. , 2.9, 4.5, 1.5],\n",
       "       [5.7, 2.6, 3.5, 1. ],\n",
       "       [5.5, 2.4, 3.8, 1.1],\n",
       "       [5.5, 2.4, 3.7, 1. ],\n",
       "       [5.8, 2.7, 3.9, 1.2],\n",
       "       [6. , 2.7, 5.1, 1.6],\n",
       "       [5.4, 3. , 4.5, 1.5],\n",
       "       [6. , 3.4, 4.5, 1.6],\n",
       "       [6.7, 3.1, 4.7, 1.5],\n",
       "       [6.3, 2.3, 4.4, 1.3],\n",
       "       [5.6, 3. , 4.1, 1.3],\n",
       "       [5.5, 2.5, 4. , 1.3],\n",
       "       [5.5, 2.6, 4.4, 1.2],\n",
       "       [6.1, 3. , 4.6, 1.4],\n",
       "       [5.8, 2.6, 4. , 1.2],\n",
       "       [5. , 2.3, 3.3, 1. ],\n",
       "       [5.6, 2.7, 4.2, 1.3],\n",
       "       [5.7, 3. , 4.2, 1.2],\n",
       "       [5.7, 2.9, 4.2, 1.3],\n",
       "       [6.2, 2.9, 4.3, 1.3],\n",
       "       [5.1, 2.5, 3. , 1.1],\n",
       "       [5.7, 2.8, 4.1, 1.3],\n",
       "       [6.3, 3.3, 6. , 2.5],\n",
       "       [5.8, 2.7, 5.1, 1.9],\n",
       "       [7.1, 3. , 5.9, 2.1],\n",
       "       [6.3, 2.9, 5.6, 1.8],\n",
       "       [6.5, 3. , 5.8, 2.2],\n",
       "       [7.6, 3. , 6.6, 2.1],\n",
       "       [4.9, 2.5, 4.5, 1.7],\n",
       "       [7.3, 2.9, 6.3, 1.8],\n",
       "       [6.7, 2.5, 5.8, 1.8],\n",
       "       [7.2, 3.6, 6.1, 2.5],\n",
       "       [6.5, 3.2, 5.1, 2. ],\n",
       "       [6.4, 2.7, 5.3, 1.9],\n",
       "       [6.8, 3. , 5.5, 2.1],\n",
       "       [5.7, 2.5, 5. , 2. ],\n",
       "       [5.8, 2.8, 5.1, 2.4],\n",
       "       [6.4, 3.2, 5.3, 2.3],\n",
       "       [6.5, 3. , 5.5, 1.8],\n",
       "       [7.7, 3.8, 6.7, 2.2],\n",
       "       [7.7, 2.6, 6.9, 2.3],\n",
       "       [6. , 2.2, 5. , 1.5],\n",
       "       [6.9, 3.2, 5.7, 2.3],\n",
       "       [5.6, 2.8, 4.9, 2. ],\n",
       "       [7.7, 2.8, 6.7, 2. ],\n",
       "       [6.3, 2.7, 4.9, 1.8],\n",
       "       [6.7, 3.3, 5.7, 2.1],\n",
       "       [7.2, 3.2, 6. , 1.8],\n",
       "       [6.2, 2.8, 4.8, 1.8],\n",
       "       [6.1, 3. , 4.9, 1.8],\n",
       "       [6.4, 2.8, 5.6, 2.1],\n",
       "       [7.2, 3. , 5.8, 1.6],\n",
       "       [7.4, 2.8, 6.1, 1.9],\n",
       "       [7.9, 3.8, 6.4, 2. ],\n",
       "       [6.4, 2.8, 5.6, 2.2],\n",
       "       [6.3, 2.8, 5.1, 1.5],\n",
       "       [6.1, 2.6, 5.6, 1.4],\n",
       "       [7.7, 3. , 6.1, 2.3],\n",
       "       [6.3, 3.4, 5.6, 2.4],\n",
       "       [6.4, 3.1, 5.5, 1.8],\n",
       "       [6. , 3. , 4.8, 1.8],\n",
       "       [6.9, 3.1, 5.4, 2.1],\n",
       "       [6.7, 3.1, 5.6, 2.4],\n",
       "       [6.9, 3.1, 5.1, 2.3],\n",
       "       [5.8, 2.7, 5.1, 1.9],\n",
       "       [6.8, 3.2, 5.9, 2.3],\n",
       "       [6.7, 3.3, 5.7, 2.5],\n",
       "       [6.7, 3. , 5.2, 2.3],\n",
       "       [6.3, 2.5, 5. , 1.9],\n",
       "       [6.5, 3. , 5.2, 2. ],\n",
       "       [6.2, 3.4, 5.4, 2.3],\n",
       "       [5.9, 3. , 5.1, 1.8]])"
      ]
     },
     "execution_count": 7,
     "metadata": {},
     "output_type": "execute_result"
    }
   ],
   "source": [
    "iris.data"
   ]
  },
  {
   "cell_type": "code",
   "execution_count": 8,
   "id": "24c1d1a4",
   "metadata": {},
   "outputs": [
    {
     "data": {
      "text/plain": [
       "array([0, 0, 0, 0, 0, 0, 0, 0, 0, 0, 0, 0, 0, 0, 0, 0, 0, 0, 0, 0, 0, 0,\n",
       "       0, 0, 0, 0, 0, 0, 0, 0, 0, 0, 0, 0, 0, 0, 0, 0, 0, 0, 0, 0, 0, 0,\n",
       "       0, 0, 0, 0, 0, 0, 1, 1, 1, 1, 1, 1, 1, 1, 1, 1, 1, 1, 1, 1, 1, 1,\n",
       "       1, 1, 1, 1, 1, 1, 1, 1, 1, 1, 1, 1, 1, 1, 1, 1, 1, 1, 1, 1, 1, 1,\n",
       "       1, 1, 1, 1, 1, 1, 1, 1, 1, 1, 1, 1, 2, 2, 2, 2, 2, 2, 2, 2, 2, 2,\n",
       "       2, 2, 2, 2, 2, 2, 2, 2, 2, 2, 2, 2, 2, 2, 2, 2, 2, 2, 2, 2, 2, 2,\n",
       "       2, 2, 2, 2, 2, 2, 2, 2, 2, 2, 2, 2, 2, 2, 2, 2, 2, 2])"
      ]
     },
     "execution_count": 8,
     "metadata": {},
     "output_type": "execute_result"
    }
   ],
   "source": [
    "iris.target"
   ]
  },
  {
   "cell_type": "code",
   "execution_count": 9,
   "id": "f2f25b88",
   "metadata": {},
   "outputs": [
    {
     "data": {
      "text/plain": [
       "array(['setosa', 'versicolor', 'virginica'], dtype='<U10')"
      ]
     },
     "execution_count": 9,
     "metadata": {},
     "output_type": "execute_result"
    }
   ],
   "source": [
    "iris.target_names"
   ]
  }
 ],
 "metadata": {
  "kernelspec": {
   "display_name": "Python 3 (ipykernel)",
   "language": "python",
   "name": "python3"
  },
  "language_info": {
   "codemirror_mode": {
    "name": "ipython",
    "version": 3
   },
   "file_extension": ".py",
   "mimetype": "text/x-python",
   "name": "python",
   "nbconvert_exporter": "python",
   "pygments_lexer": "ipython3",
   "version": "3.11.5"
  }
 },
 "nbformat": 4,
 "nbformat_minor": 5
}
