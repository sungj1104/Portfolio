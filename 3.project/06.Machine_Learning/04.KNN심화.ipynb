{
 "cells": [
  {
   "cell_type": "code",
   "execution_count": 16,
   "id": "a1d8a850",
   "metadata": {},
   "outputs": [],
   "source": [
    "import mglearn\n",
    "from sklearn.preprocessing import MinMaxScaler\n",
    "from sklearn.model_selection import train_test_split\n",
    "from sklearn.neighbors import KNeighborsClassifier\n",
    "from sklearn.decomposition import PCA\n",
    "from matplotlib.colors import ListedColormap\n",
    "import matplotlib.pyplot as plt\n",
    "import pandas as pd\n",
    "import numpy as np\n",
    "import warnings\n",
    "warnings.filterwarnings(\"ignore\")"
   ]
  },
  {
   "cell_type": "code",
   "execution_count": 2,
   "id": "95f45bbb",
   "metadata": {},
   "outputs": [],
   "source": [
    "# 데이터 불러오기\n",
    "df = pd.read_excel(\"./data/Raisin_Dataset.xlsx\")"
   ]
  },
  {
   "cell_type": "code",
   "execution_count": 3,
   "id": "0425cac0",
   "metadata": {},
   "outputs": [
    {
     "data": {
      "text/html": [
       "<div>\n",
       "<style scoped>\n",
       "    .dataframe tbody tr th:only-of-type {\n",
       "        vertical-align: middle;\n",
       "    }\n",
       "\n",
       "    .dataframe tbody tr th {\n",
       "        vertical-align: top;\n",
       "    }\n",
       "\n",
       "    .dataframe thead th {\n",
       "        text-align: right;\n",
       "    }\n",
       "</style>\n",
       "<table border=\"1\" class=\"dataframe\">\n",
       "  <thead>\n",
       "    <tr style=\"text-align: right;\">\n",
       "      <th></th>\n",
       "      <th>Area</th>\n",
       "      <th>MajorAxisLength</th>\n",
       "      <th>MinorAxisLength</th>\n",
       "      <th>Eccentricity</th>\n",
       "      <th>ConvexArea</th>\n",
       "      <th>Extent</th>\n",
       "      <th>Perimeter</th>\n",
       "      <th>Class</th>\n",
       "    </tr>\n",
       "  </thead>\n",
       "  <tbody>\n",
       "    <tr>\n",
       "      <th>0</th>\n",
       "      <td>87524</td>\n",
       "      <td>442.246011</td>\n",
       "      <td>253.291155</td>\n",
       "      <td>0.819738</td>\n",
       "      <td>90546</td>\n",
       "      <td>0.758651</td>\n",
       "      <td>1184.040</td>\n",
       "      <td>Kecimen</td>\n",
       "    </tr>\n",
       "    <tr>\n",
       "      <th>1</th>\n",
       "      <td>75166</td>\n",
       "      <td>406.690687</td>\n",
       "      <td>243.032436</td>\n",
       "      <td>0.801805</td>\n",
       "      <td>78789</td>\n",
       "      <td>0.684130</td>\n",
       "      <td>1121.786</td>\n",
       "      <td>Kecimen</td>\n",
       "    </tr>\n",
       "    <tr>\n",
       "      <th>2</th>\n",
       "      <td>90856</td>\n",
       "      <td>442.267048</td>\n",
       "      <td>266.328318</td>\n",
       "      <td>0.798354</td>\n",
       "      <td>93717</td>\n",
       "      <td>0.637613</td>\n",
       "      <td>1208.575</td>\n",
       "      <td>Kecimen</td>\n",
       "    </tr>\n",
       "    <tr>\n",
       "      <th>3</th>\n",
       "      <td>45928</td>\n",
       "      <td>286.540559</td>\n",
       "      <td>208.760042</td>\n",
       "      <td>0.684989</td>\n",
       "      <td>47336</td>\n",
       "      <td>0.699599</td>\n",
       "      <td>844.162</td>\n",
       "      <td>Kecimen</td>\n",
       "    </tr>\n",
       "    <tr>\n",
       "      <th>4</th>\n",
       "      <td>79408</td>\n",
       "      <td>352.190770</td>\n",
       "      <td>290.827533</td>\n",
       "      <td>0.564011</td>\n",
       "      <td>81463</td>\n",
       "      <td>0.792772</td>\n",
       "      <td>1073.251</td>\n",
       "      <td>Kecimen</td>\n",
       "    </tr>\n",
       "  </tbody>\n",
       "</table>\n",
       "</div>"
      ],
      "text/plain": [
       "    Area  MajorAxisLength  MinorAxisLength  Eccentricity  ConvexArea  \\\n",
       "0  87524       442.246011       253.291155      0.819738       90546   \n",
       "1  75166       406.690687       243.032436      0.801805       78789   \n",
       "2  90856       442.267048       266.328318      0.798354       93717   \n",
       "3  45928       286.540559       208.760042      0.684989       47336   \n",
       "4  79408       352.190770       290.827533      0.564011       81463   \n",
       "\n",
       "     Extent  Perimeter    Class  \n",
       "0  0.758651   1184.040  Kecimen  \n",
       "1  0.684130   1121.786  Kecimen  \n",
       "2  0.637613   1208.575  Kecimen  \n",
       "3  0.699599    844.162  Kecimen  \n",
       "4  0.792772   1073.251  Kecimen  "
      ]
     },
     "execution_count": 3,
     "metadata": {},
     "output_type": "execute_result"
    }
   ],
   "source": [
    "df.head()"
   ]
  },
  {
   "cell_type": "code",
   "execution_count": 4,
   "id": "cb5ff645",
   "metadata": {},
   "outputs": [],
   "source": [
    "# 독립변수, 종속변수 분리\n",
    "x = df.drop([\"Area\", \"Class\"], axis = 1)\n",
    "y = df[[\"Class\"]]"
   ]
  },
  {
   "cell_type": "code",
   "execution_count": 5,
   "id": "c27851e2",
   "metadata": {},
   "outputs": [
    {
     "data": {
      "text/plain": [
       "Area                 int64\n",
       "MajorAxisLength    float64\n",
       "MinorAxisLength    float64\n",
       "Eccentricity       float64\n",
       "ConvexArea           int64\n",
       "Extent             float64\n",
       "Perimeter          float64\n",
       "Class               object\n",
       "dtype: object"
      ]
     },
     "execution_count": 5,
     "metadata": {},
     "output_type": "execute_result"
    }
   ],
   "source": [
    "df.dtypes"
   ]
  },
  {
   "cell_type": "code",
   "execution_count": 6,
   "id": "7a16bd6c",
   "metadata": {
    "scrolled": true
   },
   "outputs": [
    {
     "name": "stdout",
     "output_type": "stream",
     "text": [
      "<class 'pandas.core.frame.DataFrame'>\n",
      "RangeIndex: 900 entries, 0 to 899\n",
      "Data columns (total 8 columns):\n",
      " #   Column           Non-Null Count  Dtype  \n",
      "---  ------           --------------  -----  \n",
      " 0   Area             900 non-null    int64  \n",
      " 1   MajorAxisLength  900 non-null    float64\n",
      " 2   MinorAxisLength  900 non-null    float64\n",
      " 3   Eccentricity     900 non-null    float64\n",
      " 4   ConvexArea       900 non-null    int64  \n",
      " 5   Extent           900 non-null    float64\n",
      " 6   Perimeter        900 non-null    float64\n",
      " 7   Class            900 non-null    object \n",
      "dtypes: float64(5), int64(2), object(1)\n",
      "memory usage: 56.4+ KB\n"
     ]
    }
   ],
   "source": [
    "df.info()"
   ]
  },
  {
   "cell_type": "code",
   "execution_count": 7,
   "id": "d581df34",
   "metadata": {},
   "outputs": [
    {
     "data": {
      "text/html": [
       "<div>\n",
       "<style scoped>\n",
       "    .dataframe tbody tr th:only-of-type {\n",
       "        vertical-align: middle;\n",
       "    }\n",
       "\n",
       "    .dataframe tbody tr th {\n",
       "        vertical-align: top;\n",
       "    }\n",
       "\n",
       "    .dataframe thead th {\n",
       "        text-align: right;\n",
       "    }\n",
       "</style>\n",
       "<table border=\"1\" class=\"dataframe\">\n",
       "  <thead>\n",
       "    <tr style=\"text-align: right;\">\n",
       "      <th></th>\n",
       "      <th>Area</th>\n",
       "      <th>MajorAxisLength</th>\n",
       "      <th>MinorAxisLength</th>\n",
       "      <th>Eccentricity</th>\n",
       "      <th>ConvexArea</th>\n",
       "      <th>Extent</th>\n",
       "      <th>Perimeter</th>\n",
       "    </tr>\n",
       "  </thead>\n",
       "  <tbody>\n",
       "    <tr>\n",
       "      <th>count</th>\n",
       "      <td>900.000000</td>\n",
       "      <td>900.000000</td>\n",
       "      <td>900.000000</td>\n",
       "      <td>900.000000</td>\n",
       "      <td>900.000000</td>\n",
       "      <td>900.000000</td>\n",
       "      <td>900.000000</td>\n",
       "    </tr>\n",
       "    <tr>\n",
       "      <th>mean</th>\n",
       "      <td>87804.127778</td>\n",
       "      <td>430.929950</td>\n",
       "      <td>254.488133</td>\n",
       "      <td>0.781542</td>\n",
       "      <td>91186.090000</td>\n",
       "      <td>0.699508</td>\n",
       "      <td>1165.906636</td>\n",
       "    </tr>\n",
       "    <tr>\n",
       "      <th>std</th>\n",
       "      <td>39002.111390</td>\n",
       "      <td>116.035121</td>\n",
       "      <td>49.988902</td>\n",
       "      <td>0.090318</td>\n",
       "      <td>40769.290132</td>\n",
       "      <td>0.053468</td>\n",
       "      <td>273.764315</td>\n",
       "    </tr>\n",
       "    <tr>\n",
       "      <th>min</th>\n",
       "      <td>25387.000000</td>\n",
       "      <td>225.629541</td>\n",
       "      <td>143.710872</td>\n",
       "      <td>0.348730</td>\n",
       "      <td>26139.000000</td>\n",
       "      <td>0.379856</td>\n",
       "      <td>619.074000</td>\n",
       "    </tr>\n",
       "    <tr>\n",
       "      <th>25%</th>\n",
       "      <td>59348.000000</td>\n",
       "      <td>345.442898</td>\n",
       "      <td>219.111126</td>\n",
       "      <td>0.741766</td>\n",
       "      <td>61513.250000</td>\n",
       "      <td>0.670869</td>\n",
       "      <td>966.410750</td>\n",
       "    </tr>\n",
       "    <tr>\n",
       "      <th>50%</th>\n",
       "      <td>78902.000000</td>\n",
       "      <td>407.803951</td>\n",
       "      <td>247.848409</td>\n",
       "      <td>0.798846</td>\n",
       "      <td>81651.000000</td>\n",
       "      <td>0.707367</td>\n",
       "      <td>1119.509000</td>\n",
       "    </tr>\n",
       "    <tr>\n",
       "      <th>75%</th>\n",
       "      <td>105028.250000</td>\n",
       "      <td>494.187014</td>\n",
       "      <td>279.888575</td>\n",
       "      <td>0.842571</td>\n",
       "      <td>108375.750000</td>\n",
       "      <td>0.734991</td>\n",
       "      <td>1308.389750</td>\n",
       "    </tr>\n",
       "    <tr>\n",
       "      <th>max</th>\n",
       "      <td>235047.000000</td>\n",
       "      <td>997.291941</td>\n",
       "      <td>492.275279</td>\n",
       "      <td>0.962124</td>\n",
       "      <td>278217.000000</td>\n",
       "      <td>0.835455</td>\n",
       "      <td>2697.753000</td>\n",
       "    </tr>\n",
       "  </tbody>\n",
       "</table>\n",
       "</div>"
      ],
      "text/plain": [
       "                Area  MajorAxisLength  MinorAxisLength  Eccentricity  \\\n",
       "count     900.000000       900.000000       900.000000    900.000000   \n",
       "mean    87804.127778       430.929950       254.488133      0.781542   \n",
       "std     39002.111390       116.035121        49.988902      0.090318   \n",
       "min     25387.000000       225.629541       143.710872      0.348730   \n",
       "25%     59348.000000       345.442898       219.111126      0.741766   \n",
       "50%     78902.000000       407.803951       247.848409      0.798846   \n",
       "75%    105028.250000       494.187014       279.888575      0.842571   \n",
       "max    235047.000000       997.291941       492.275279      0.962124   \n",
       "\n",
       "          ConvexArea      Extent    Perimeter  \n",
       "count     900.000000  900.000000   900.000000  \n",
       "mean    91186.090000    0.699508  1165.906636  \n",
       "std     40769.290132    0.053468   273.764315  \n",
       "min     26139.000000    0.379856   619.074000  \n",
       "25%     61513.250000    0.670869   966.410750  \n",
       "50%     81651.000000    0.707367  1119.509000  \n",
       "75%    108375.750000    0.734991  1308.389750  \n",
       "max    278217.000000    0.835455  2697.753000  "
      ]
     },
     "execution_count": 7,
     "metadata": {},
     "output_type": "execute_result"
    }
   ],
   "source": [
    "df.describe()"
   ]
  },
  {
   "cell_type": "code",
   "execution_count": 8,
   "id": "762e94c1",
   "metadata": {},
   "outputs": [],
   "source": [
    "# 독립변수 데이터 정규화 적용\n",
    "mm = MinMaxScaler()\n",
    "df_minmax = mm.fit_transform(x)"
   ]
  },
  {
   "cell_type": "code",
   "execution_count": 9,
   "id": "9e0864ac",
   "metadata": {},
   "outputs": [
    {
     "data": {
      "text/plain": [
       "array([[0.28071404, 0.314376  , 0.7678721 , 0.25550425, 0.83142179,\n",
       "        0.27179088],\n",
       "       [0.23463777, 0.28494465, 0.73863618, 0.20886392, 0.66785449,\n",
       "        0.24184205],\n",
       "       [0.2807413 , 0.35177845, 0.73300911, 0.26808369, 0.56575414,\n",
       "        0.28359405],\n",
       "       ...,\n",
       "       [0.26705647, 0.44504387, 0.60801693, 0.31785796, 0.79289651,\n",
       "        0.32412604],\n",
       "       [0.32490187, 0.31691469, 0.81025935, 0.2836979 , 0.61225439,\n",
       "        0.3076348 ],\n",
       "       [0.37121445, 0.20530238, 0.91069529, 0.25015273, 0.55347831,\n",
       "        0.3145209 ]])"
      ]
     },
     "execution_count": 9,
     "metadata": {},
     "output_type": "execute_result"
    }
   ],
   "source": [
    "df_minmax"
   ]
  },
  {
   "cell_type": "code",
   "execution_count": 10,
   "id": "fcfb6fbb",
   "metadata": {},
   "outputs": [
    {
     "data": {
      "text/html": [
       "<div>\n",
       "<style scoped>\n",
       "    .dataframe tbody tr th:only-of-type {\n",
       "        vertical-align: middle;\n",
       "    }\n",
       "\n",
       "    .dataframe tbody tr th {\n",
       "        vertical-align: top;\n",
       "    }\n",
       "\n",
       "    .dataframe thead th {\n",
       "        text-align: right;\n",
       "    }\n",
       "</style>\n",
       "<table border=\"1\" class=\"dataframe\">\n",
       "  <thead>\n",
       "    <tr style=\"text-align: right;\">\n",
       "      <th></th>\n",
       "      <th>MajorAxisLength</th>\n",
       "      <th>MinorAxisLength</th>\n",
       "      <th>Eccentricity</th>\n",
       "      <th>ConvexArea</th>\n",
       "      <th>Extent</th>\n",
       "      <th>Perimeter</th>\n",
       "    </tr>\n",
       "  </thead>\n",
       "  <tbody>\n",
       "    <tr>\n",
       "      <th>0</th>\n",
       "      <td>0.280714</td>\n",
       "      <td>0.314376</td>\n",
       "      <td>0.767872</td>\n",
       "      <td>0.255504</td>\n",
       "      <td>0.831422</td>\n",
       "      <td>0.271791</td>\n",
       "    </tr>\n",
       "    <tr>\n",
       "      <th>1</th>\n",
       "      <td>0.234638</td>\n",
       "      <td>0.284945</td>\n",
       "      <td>0.738636</td>\n",
       "      <td>0.208864</td>\n",
       "      <td>0.667854</td>\n",
       "      <td>0.241842</td>\n",
       "    </tr>\n",
       "    <tr>\n",
       "      <th>2</th>\n",
       "      <td>0.280741</td>\n",
       "      <td>0.351778</td>\n",
       "      <td>0.733009</td>\n",
       "      <td>0.268084</td>\n",
       "      <td>0.565754</td>\n",
       "      <td>0.283594</td>\n",
       "    </tr>\n",
       "    <tr>\n",
       "      <th>3</th>\n",
       "      <td>0.078935</td>\n",
       "      <td>0.186620</td>\n",
       "      <td>0.548194</td>\n",
       "      <td>0.084089</td>\n",
       "      <td>0.701809</td>\n",
       "      <td>0.108284</td>\n",
       "    </tr>\n",
       "    <tr>\n",
       "      <th>4</th>\n",
       "      <td>0.164011</td>\n",
       "      <td>0.422064</td>\n",
       "      <td>0.350968</td>\n",
       "      <td>0.219472</td>\n",
       "      <td>0.906315</td>\n",
       "      <td>0.218493</td>\n",
       "    </tr>\n",
       "  </tbody>\n",
       "</table>\n",
       "</div>"
      ],
      "text/plain": [
       "   MajorAxisLength  MinorAxisLength  Eccentricity  ConvexArea    Extent  \\\n",
       "0         0.280714         0.314376      0.767872    0.255504  0.831422   \n",
       "1         0.234638         0.284945      0.738636    0.208864  0.667854   \n",
       "2         0.280741         0.351778      0.733009    0.268084  0.565754   \n",
       "3         0.078935         0.186620      0.548194    0.084089  0.701809   \n",
       "4         0.164011         0.422064      0.350968    0.219472  0.906315   \n",
       "\n",
       "   Perimeter  \n",
       "0   0.271791  \n",
       "1   0.241842  \n",
       "2   0.283594  \n",
       "3   0.108284  \n",
       "4   0.218493  "
      ]
     },
     "execution_count": 10,
     "metadata": {},
     "output_type": "execute_result"
    }
   ],
   "source": [
    "x = pd.DataFrame(df_minmax, columns = x.columns)\n",
    "x.head()"
   ]
  },
  {
   "cell_type": "code",
   "execution_count": 11,
   "id": "f1619a5f",
   "metadata": {},
   "outputs": [],
   "source": [
    "# 데이터 분할(7 : 3)\n",
    "x_train, x_test, y_train, y_test = train_test_split(x, y, test_size = 0.3, stratify = y, random_state = 8)"
   ]
  },
  {
   "cell_type": "code",
   "execution_count": 12,
   "id": "b6ff0b18",
   "metadata": {},
   "outputs": [
    {
     "name": "stdout",
     "output_type": "stream",
     "text": [
      "630 270\n"
     ]
    }
   ],
   "source": [
    "# 데이터셋 확인\n",
    "print(len(x_train), len(x_test))"
   ]
  },
  {
   "cell_type": "markdown",
   "id": "285b0849",
   "metadata": {},
   "source": [
    "- KNN 모델은 거리 기반으로 분류를 하기 때문에 독립변수의 스케일을 정규화\n",
    "- 7 : 3 의 비율로 학습셋과 테스트셋을 분리"
   ]
  },
  {
   "cell_type": "code",
   "execution_count": 13,
   "id": "4000ee2e",
   "metadata": {},
   "outputs": [],
   "source": [
    "# 기본 KNN 모델 생성 및 적용\n",
    "knn = KNeighborsClassifier(n_neighbors = 3, weights = \"uniform\", metric = \"minkowski\")"
   ]
  },
  {
   "cell_type": "code",
   "execution_count": 14,
   "id": "1cbe906a",
   "metadata": {},
   "outputs": [
    {
     "data": {
      "text/html": [
       "<style>#sk-container-id-1 {color: black;}#sk-container-id-1 pre{padding: 0;}#sk-container-id-1 div.sk-toggleable {background-color: white;}#sk-container-id-1 label.sk-toggleable__label {cursor: pointer;display: block;width: 100%;margin-bottom: 0;padding: 0.3em;box-sizing: border-box;text-align: center;}#sk-container-id-1 label.sk-toggleable__label-arrow:before {content: \"▸\";float: left;margin-right: 0.25em;color: #696969;}#sk-container-id-1 label.sk-toggleable__label-arrow:hover:before {color: black;}#sk-container-id-1 div.sk-estimator:hover label.sk-toggleable__label-arrow:before {color: black;}#sk-container-id-1 div.sk-toggleable__content {max-height: 0;max-width: 0;overflow: hidden;text-align: left;background-color: #f0f8ff;}#sk-container-id-1 div.sk-toggleable__content pre {margin: 0.2em;color: black;border-radius: 0.25em;background-color: #f0f8ff;}#sk-container-id-1 input.sk-toggleable__control:checked~div.sk-toggleable__content {max-height: 200px;max-width: 100%;overflow: auto;}#sk-container-id-1 input.sk-toggleable__control:checked~label.sk-toggleable__label-arrow:before {content: \"▾\";}#sk-container-id-1 div.sk-estimator input.sk-toggleable__control:checked~label.sk-toggleable__label {background-color: #d4ebff;}#sk-container-id-1 div.sk-label input.sk-toggleable__control:checked~label.sk-toggleable__label {background-color: #d4ebff;}#sk-container-id-1 input.sk-hidden--visually {border: 0;clip: rect(1px 1px 1px 1px);clip: rect(1px, 1px, 1px, 1px);height: 1px;margin: -1px;overflow: hidden;padding: 0;position: absolute;width: 1px;}#sk-container-id-1 div.sk-estimator {font-family: monospace;background-color: #f0f8ff;border: 1px dotted black;border-radius: 0.25em;box-sizing: border-box;margin-bottom: 0.5em;}#sk-container-id-1 div.sk-estimator:hover {background-color: #d4ebff;}#sk-container-id-1 div.sk-parallel-item::after {content: \"\";width: 100%;border-bottom: 1px solid gray;flex-grow: 1;}#sk-container-id-1 div.sk-label:hover label.sk-toggleable__label {background-color: #d4ebff;}#sk-container-id-1 div.sk-serial::before {content: \"\";position: absolute;border-left: 1px solid gray;box-sizing: border-box;top: 0;bottom: 0;left: 50%;z-index: 0;}#sk-container-id-1 div.sk-serial {display: flex;flex-direction: column;align-items: center;background-color: white;padding-right: 0.2em;padding-left: 0.2em;position: relative;}#sk-container-id-1 div.sk-item {position: relative;z-index: 1;}#sk-container-id-1 div.sk-parallel {display: flex;align-items: stretch;justify-content: center;background-color: white;position: relative;}#sk-container-id-1 div.sk-item::before, #sk-container-id-1 div.sk-parallel-item::before {content: \"\";position: absolute;border-left: 1px solid gray;box-sizing: border-box;top: 0;bottom: 0;left: 50%;z-index: -1;}#sk-container-id-1 div.sk-parallel-item {display: flex;flex-direction: column;z-index: 1;position: relative;background-color: white;}#sk-container-id-1 div.sk-parallel-item:first-child::after {align-self: flex-end;width: 50%;}#sk-container-id-1 div.sk-parallel-item:last-child::after {align-self: flex-start;width: 50%;}#sk-container-id-1 div.sk-parallel-item:only-child::after {width: 0;}#sk-container-id-1 div.sk-dashed-wrapped {border: 1px dashed gray;margin: 0 0.4em 0.5em 0.4em;box-sizing: border-box;padding-bottom: 0.4em;background-color: white;}#sk-container-id-1 div.sk-label label {font-family: monospace;font-weight: bold;display: inline-block;line-height: 1.2em;}#sk-container-id-1 div.sk-label-container {text-align: center;}#sk-container-id-1 div.sk-container {/* jupyter's `normalize.less` sets `[hidden] { display: none; }` but bootstrap.min.css set `[hidden] { display: none !important; }` so we also need the `!important` here to be able to override the default hidden behavior on the sphinx rendered scikit-learn.org. See: https://github.com/scikit-learn/scikit-learn/issues/21755 */display: inline-block !important;position: relative;}#sk-container-id-1 div.sk-text-repr-fallback {display: none;}</style><div id=\"sk-container-id-1\" class=\"sk-top-container\"><div class=\"sk-text-repr-fallback\"><pre>KNeighborsClassifier(n_neighbors=3)</pre><b>In a Jupyter environment, please rerun this cell to show the HTML representation or trust the notebook. <br />On GitHub, the HTML representation is unable to render, please try loading this page with nbviewer.org.</b></div><div class=\"sk-container\" hidden><div class=\"sk-item\"><div class=\"sk-estimator sk-toggleable\"><input class=\"sk-toggleable__control sk-hidden--visually\" id=\"sk-estimator-id-1\" type=\"checkbox\" checked><label for=\"sk-estimator-id-1\" class=\"sk-toggleable__label sk-toggleable__label-arrow\">KNeighborsClassifier</label><div class=\"sk-toggleable__content\"><pre>KNeighborsClassifier(n_neighbors=3)</pre></div></div></div></div></div>"
      ],
      "text/plain": [
       "KNeighborsClassifier(n_neighbors=3)"
      ]
     },
     "execution_count": 14,
     "metadata": {},
     "output_type": "execute_result"
    }
   ],
   "source": [
    "knn.fit(x_train, y_train)"
   ]
  },
  {
   "cell_type": "code",
   "execution_count": 15,
   "id": "3a1b834c",
   "metadata": {},
   "outputs": [
    {
     "name": "stdout",
     "output_type": "stream",
     "text": [
      "0.9063492063492063\n",
      "0.8518518518518519\n"
     ]
    }
   ],
   "source": [
    "print(knn.score(x_train, y_train))\n",
    "print(knn.score(x_test, y_test))"
   ]
  },
  {
   "cell_type": "code",
   "execution_count": 17,
   "id": "2514d428",
   "metadata": {},
   "outputs": [
    {
     "data": {
      "text/plain": [
       "25.099800796022265"
      ]
     },
     "execution_count": 17,
     "metadata": {},
     "output_type": "execute_result"
    }
   ],
   "source": [
    "np.sqrt(len(x_train))"
   ]
  },
  {
   "cell_type": "code",
   "execution_count": 19,
   "id": "3f1a3cbe",
   "metadata": {},
   "outputs": [],
   "source": [
    "# 이웃 k 수 1 ~ 30까지 엘보우차트 시각화 (거리 가중치 미적용)\n",
    "\n",
    "# k 수 범위 지정\n",
    "k_num = range(1, 31, 2)\n",
    "\n",
    "accuracies = []\n",
    "\n",
    "for k in k_num:\n",
    "    k_num_model_1 = KNeighborsClassifier(n_neighbors = k, weights = \"uniform\")\n",
    "    k_num_model_1.fit(x_train, y_train)\n",
    "    accuracies.append(1 - k_num_model_1.score(x_test, y_test))"
   ]
  },
  {
   "cell_type": "code",
   "execution_count": 21,
   "id": "47906dfa",
   "metadata": {},
   "outputs": [
    {
     "data": {
      "image/png": "[encoded data removed]",
      "text/plain": [
       "<Figure size 640x480 with 1 Axes>"
      ]
     },
     "metadata": {},
     "output_type": "display_data"
    }
   ],
   "source": [
    "# 오분류율 그래프\n",
    "plt.plot(k_num, accuracies, \"o--\", color = \"orange\")\n",
    "plt.xlabel(\"k\")\n",
    "plt.ylabel(\"Misclassification Rate\")\n",
    "plt.show()"
   ]
  },
  {
   "cell_type": "markdown",
   "id": "79b163b2",
   "metadata": {},
   "source": [
    "- 거리 가중치를 적용하지 않은 모델에서 k 이웃 수를 1에서 30까지 늘려가며 KNN 모델의 오분류율을 시각화\n",
    "- 이웃 수가 19개일 때 오분류율이 가장 낮아져서 k는 19일 때 가장 적합함"
   ]
  },
  {
   "cell_type": "code",
   "execution_count": 22,
   "id": "d61ae2c1",
   "metadata": {},
   "outputs": [],
   "source": [
    "# 이웃 k 수 1 ~ 30까지 엘보우차트 시각화 (거리 가중치 적용)\n",
    "\n",
    "# k 수 범위 지정\n",
    "k_num = range(1, 31, 2)\n",
    "\n",
    "accuracies = []\n",
    "\n",
    "for k in k_num:\n",
    "    k_num_model_2 = KNeighborsClassifier(n_neighbors = k, weights = \"distance\")\n",
    "    k_num_model_2.fit(x_train, y_train)\n",
    "    accuracies.append(1 - k_num_model_2.score(x_test, y_test))"
   ]
  },
  {
   "cell_type": "code",
   "execution_count": 23,
   "id": "a96608c4",
   "metadata": {},
   "outputs": [
    {
     "data": {
      "image/png": "[encoded data removed]",
      "text/plain": [
       "<Figure size 640x480 with 1 Axes>"
      ]
     },
     "metadata": {},
     "output_type": "display_data"
    }
   ],
   "source": [
    "# 오분류율 그래프\n",
    "plt.plot(k_num, accuracies, \"o--\", color = \"orange\")\n",
    "plt.xlabel(\"k\")\n",
    "plt.ylabel(\"Misclassification Rate\")\n",
    "plt.show()"
   ]
  },
  {
   "cell_type": "code",
   "execution_count": 24,
   "id": "5d555451",
   "metadata": {},
   "outputs": [],
   "source": [
    "# 이웃 k 수 1 ~ 30까지 엘보우차트 시각화 (거리 가중치 적용)\n",
    "\n",
    "# k 수 범위 지정\n",
    "k_num = range(1, 200, 2)\n",
    "\n",
    "accuracies = []\n",
    "\n",
    "for k in k_num:\n",
    "    k_num_model_3 = KNeighborsClassifier(n_neighbors = k, weights = \"distance\")\n",
    "    k_num_model_3.fit(x_train, y_train)\n",
    "    accuracies.append(1 - k_num_model_3.score(x_test, y_test))"
   ]
  },
  {
   "cell_type": "code",
   "execution_count": 25,
   "id": "16f8fe66",
   "metadata": {},
   "outputs": [
    {
     "data": {
      "image/png": "[encoded data removed]",
      "text/plain": [
       "<Figure size 640x480 with 1 Axes>"
      ]
     },
     "metadata": {},
     "output_type": "display_data"
    }
   ],
   "source": [
    "# 오분류율 그래프\n",
    "plt.plot(k_num, accuracies, \"o--\", color = \"orange\")\n",
    "plt.xlabel(\"k\")\n",
    "plt.ylabel(\"Misclassification Rate\")\n",
    "plt.show()"
   ]
  },
  {
   "cell_type": "code",
   "execution_count": 27,
   "id": "b14a7a6d",
   "metadata": {},
   "outputs": [
    {
     "data": {
      "text/html": [
       "<div>\n",
       "<style scoped>\n",
       "    .dataframe tbody tr th:only-of-type {\n",
       "        vertical-align: middle;\n",
       "    }\n",
       "\n",
       "    .dataframe tbody tr th {\n",
       "        vertical-align: top;\n",
       "    }\n",
       "\n",
       "    .dataframe thead th {\n",
       "        text-align: right;\n",
       "    }\n",
       "</style>\n",
       "<table border=\"1\" class=\"dataframe\">\n",
       "  <thead>\n",
       "    <tr style=\"text-align: right;\">\n",
       "      <th></th>\n",
       "      <th>C1</th>\n",
       "      <th>C2</th>\n",
       "    </tr>\n",
       "  </thead>\n",
       "  <tbody>\n",
       "    <tr>\n",
       "      <th>0</th>\n",
       "      <td>0.344337</td>\n",
       "      <td>-0.138577</td>\n",
       "    </tr>\n",
       "    <tr>\n",
       "      <th>1</th>\n",
       "      <td>-0.041114</td>\n",
       "      <td>-0.136161</td>\n",
       "    </tr>\n",
       "    <tr>\n",
       "      <th>2</th>\n",
       "      <td>-0.183317</td>\n",
       "      <td>-0.047906</td>\n",
       "    </tr>\n",
       "    <tr>\n",
       "      <th>3</th>\n",
       "      <td>-0.270750</td>\n",
       "      <td>0.009314</td>\n",
       "    </tr>\n",
       "    <tr>\n",
       "      <th>4</th>\n",
       "      <td>-0.418233</td>\n",
       "      <td>-0.201876</td>\n",
       "    </tr>\n",
       "  </tbody>\n",
       "</table>\n",
       "</div>"
      ],
      "text/plain": [
       "         C1        C2\n",
       "0  0.344337 -0.138577\n",
       "1 -0.041114 -0.136161\n",
       "2 -0.183317 -0.047906\n",
       "3 -0.270750  0.009314\n",
       "4 -0.418233 -0.201876"
      ]
     },
     "execution_count": 27,
     "metadata": {},
     "output_type": "execute_result"
    }
   ],
   "source": [
    "# 결정경계(decision boundary) 시각화\n",
    "\n",
    "# 주성분 분석\n",
    "pca = PCA(n_components = 2)\n",
    "df_pca = pca.fit_transform(x_test)\n",
    "\n",
    "# 주성분으로 변형된 테이블 생성\n",
    "df_pca = pd.DataFrame(data = df_pca, columns = [\"C1\", \"C2\"])\n",
    "df_pca.head()"
   ]
  },
  {
   "cell_type": "code",
   "execution_count": 28,
   "id": "d31d47ca",
   "metadata": {},
   "outputs": [],
   "source": [
    "# 독립변수, 종속변수 전처리\n",
    "df_x = df_pca.to_numpy()\n",
    "df_y = y_test[\"Class\"].to_numpy()"
   ]
  },
  {
   "cell_type": "code",
   "execution_count": 35,
   "id": "927c24a6",
   "metadata": {},
   "outputs": [
    {
     "data": {
      "image/png": "[encoded data removed]",
      "text/plain": [
       "<Figure size 1500x500 with 4 Axes>"
      ]
     },
     "metadata": {},
     "output_type": "display_data"
    }
   ],
   "source": [
    "# 그래프 설정\n",
    "cmap_bold = ListedColormap([\"#FF0000\", \"#00FF00\"])\n",
    "fig, axes = plt.subplots(1, 4, figsize = (15, 5))\n",
    "\n",
    "# 이웃 수에 따른 결정경계\n",
    "for n_neighbors, ax in zip([1, 5, 11, 29], axes):\n",
    "    k_num_model = KNeighborsClassifier(n_neighbors = n_neighbors, weights = \"distance\")\n",
    "    k_num_model.fit(df_x, df_y)\n",
    "    \n",
    "    mglearn.plots.plot_2d_separator(k_num_model, df_x, fill = True, eps = 0.5, ax = ax, alpha = 0.2)\n",
    "    mglearn.discrete_scatter(df_x[:, 0], df_x[:, 1], df_y, markeredgewidth = 0.1, c = [\"black\", \"w\"], s = 3, ax = ax)\n",
    "    \n",
    "    ax.set_xlabel(\"component 1\")\n",
    "    ax.set_ylabel(\"component 2\")\n",
    "    ax.set_title(f\"{n_neighbors} Neighbors\")\n",
    "\n",
    "axes[0].legend()\n",
    "plt.show()"
   ]
  }
 ],
 "metadata": {
  "kernelspec": {
   "display_name": "Python 3 (ipykernel)",
   "language": "python",
   "name": "python3"
  },
  "language_info": {
   "codemirror_mode": {
    "name": "ipython",
    "version": 3
   },
   "file_extension": ".py",
   "mimetype": "text/x-python",
   "name": "python",
   "nbconvert_exporter": "python",
   "pygments_lexer": "ipython3",
   "version": "3.11.5"
  }
 },
 "nbformat": 4,
 "nbformat_minor": 5
}
