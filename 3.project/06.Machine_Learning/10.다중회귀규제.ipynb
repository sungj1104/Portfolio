{
 "cells": [
  {
   "cell_type": "markdown",
   "id": "9556331e",
   "metadata": {},
   "source": [
    "# 특성 공학(feature engineering)\n",
    "\n",
    "- 기존의 특성을 사용해 새로운 특성을 만들어내는 작업\n",
    "- 특성 공학 기법\n",
    "    - 차원 축소(Dimension Reduction)\n",
    "        - 특성 선정(Feature Selection)\n",
    "            - 특성 랭킹 또는 특성 중요도에 따라 선정\n",
    "            - 분석가의 사전 배경 지식을 이용하거나, 랜덤 선정 및 측정을 반복하는 방법\n",
    "            \n",
    "        - 특성 추출(Feature Extraction)\n",
    "            - 특성들의 조합으로 새로운 특성을 생성\n",
    "            \n",
    "    - 스케일링(Scaling)\n",
    "        - 변수의 분포가 편향되어 있을 경우, 변수 간의 관계까 잘 드러나지 않는 경우 범위 변환\n",
    "        \n",
    "    - 변형(Transform)\n",
    "        - 기존에 존재하는 변수의 성질을 이용해 다른 변수를 생성하는 방법\n",
    "            - 예) 날짜별 데이터에 주말 여부 추가\n",
    "            \n",
    "    - 비닝(Binning)\n",
    "        - 연속형 변수를 범주형 변수로 변환\n",
    "            - 예) 33세, 47세 -> 30대, 40대\n",
    "            \n",
    "    - 더미(Dummy)\n",
    "        - 범주형 변수를 연속형 변수로 변환\n",
    "        - 기존 특성이나 특성의 조합을 규칙에 따라 수치화하여 추가"
   ]
  },
  {
   "cell_type": "code",
   "execution_count": 1,
   "id": "66e7e5d1",
   "metadata": {},
   "outputs": [],
   "source": [
    "import pandas as pd\n",
    "import numpy as np\n",
    "from sklearn.model_selection import train_test_split\n",
    "from sklearn.preprocessing import PolynomialFeatures, StandardScaler\n",
    "from sklearn.linear_model import LinearRegression, Ridge, Lasso\n",
    "import matplotlib.pyplot as plt"
   ]
  },
  {
   "cell_type": "markdown",
   "id": "195fef87",
   "metadata": {},
   "source": [
    "# 데이터 준비"
   ]
  },
  {
   "cell_type": "code",
   "execution_count": 2,
   "id": "c8fcd68c",
   "metadata": {},
   "outputs": [],
   "source": [
    "df = pd.read_csv(\"./data/Fish.csv\")"
   ]
  },
  {
   "cell_type": "code",
   "execution_count": 3,
   "id": "eddf55b0",
   "metadata": {},
   "outputs": [],
   "source": [
    "df = df[df[\"Species\"] == \"Perch\"][[\"Weight\", \"Length2\", \"Height\", \"Width\"]]"
   ]
  },
  {
   "cell_type": "code",
   "execution_count": 4,
   "id": "19b8e140",
   "metadata": {},
   "outputs": [
    {
     "data": {
      "text/html": [
       "<div>\n",
       "<style scoped>\n",
       "    .dataframe tbody tr th:only-of-type {\n",
       "        vertical-align: middle;\n",
       "    }\n",
       "\n",
       "    .dataframe tbody tr th {\n",
       "        vertical-align: top;\n",
       "    }\n",
       "\n",
       "    .dataframe thead th {\n",
       "        text-align: right;\n",
       "    }\n",
       "</style>\n",
       "<table border=\"1\" class=\"dataframe\">\n",
       "  <thead>\n",
       "    <tr style=\"text-align: right;\">\n",
       "      <th></th>\n",
       "      <th>Weight</th>\n",
       "      <th>Length2</th>\n",
       "      <th>Height</th>\n",
       "      <th>Width</th>\n",
       "    </tr>\n",
       "  </thead>\n",
       "  <tbody>\n",
       "    <tr>\n",
       "      <th>72</th>\n",
       "      <td>5.9</td>\n",
       "      <td>8.4</td>\n",
       "      <td>2.1120</td>\n",
       "      <td>1.4080</td>\n",
       "    </tr>\n",
       "    <tr>\n",
       "      <th>73</th>\n",
       "      <td>32.0</td>\n",
       "      <td>13.7</td>\n",
       "      <td>3.5280</td>\n",
       "      <td>1.9992</td>\n",
       "    </tr>\n",
       "    <tr>\n",
       "      <th>74</th>\n",
       "      <td>40.0</td>\n",
       "      <td>15.0</td>\n",
       "      <td>3.8240</td>\n",
       "      <td>2.4320</td>\n",
       "    </tr>\n",
       "    <tr>\n",
       "      <th>75</th>\n",
       "      <td>51.5</td>\n",
       "      <td>16.2</td>\n",
       "      <td>4.5924</td>\n",
       "      <td>2.6316</td>\n",
       "    </tr>\n",
       "    <tr>\n",
       "      <th>76</th>\n",
       "      <td>70.0</td>\n",
       "      <td>17.4</td>\n",
       "      <td>4.5880</td>\n",
       "      <td>2.9415</td>\n",
       "    </tr>\n",
       "  </tbody>\n",
       "</table>\n",
       "</div>"
      ],
      "text/plain": [
       "    Weight  Length2  Height   Width\n",
       "72     5.9      8.4  2.1120  1.4080\n",
       "73    32.0     13.7  3.5280  1.9992\n",
       "74    40.0     15.0  3.8240  2.4320\n",
       "75    51.5     16.2  4.5924  2.6316\n",
       "76    70.0     17.4  4.5880  2.9415"
      ]
     },
     "execution_count": 4,
     "metadata": {},
     "output_type": "execute_result"
    }
   ],
   "source": [
    "df.head()"
   ]
  },
  {
   "cell_type": "code",
   "execution_count": 5,
   "id": "98215ac0",
   "metadata": {},
   "outputs": [],
   "source": [
    "x = df.drop(\"Weight\", axis = 1)\n",
    "y = df[\"Weight\"]"
   ]
  },
  {
   "cell_type": "code",
   "execution_count": 6,
   "id": "5e1b406e",
   "metadata": {},
   "outputs": [],
   "source": [
    "# 데이터분할(75 : 25)\n",
    "x_train, x_test, y_train, y_test = train_test_split(x, y, test_size = 0.25, random_state = 11)"
   ]
  },
  {
   "cell_type": "code",
   "execution_count": 7,
   "id": "b813684f",
   "metadata": {},
   "outputs": [
    {
     "data": {
      "text/plain": [
       "(42, 3)"
      ]
     },
     "execution_count": 7,
     "metadata": {},
     "output_type": "execute_result"
    }
   ],
   "source": [
    "x_train.shape"
   ]
  },
  {
   "cell_type": "code",
   "execution_count": 8,
   "id": "4c14e989",
   "metadata": {},
   "outputs": [
    {
     "data": {
      "text/plain": [
       "array([[1., 2., 3., 4., 6., 9.]])"
      ]
     },
     "execution_count": 8,
     "metadata": {},
     "output_type": "execute_result"
    }
   ],
   "source": [
    "# PolynomialFeatures 사용 예시\n",
    "pf = PolynomialFeatures()\n",
    "pf.fit_transform([[2, 3]])"
   ]
  },
  {
   "cell_type": "code",
   "execution_count": 9,
   "id": "cf724f26",
   "metadata": {},
   "outputs": [
    {
     "data": {
      "text/plain": [
       "array(['1', 'x0', 'x1', 'x0^2', 'x0 x1', 'x1^2'], dtype=object)"
      ]
     },
     "execution_count": 9,
     "metadata": {},
     "output_type": "execute_result"
    }
   ],
   "source": [
    "# 특성이 어떻게 만들어졌는지 확인\n",
    "pf.get_feature_names_out()"
   ]
  },
  {
   "cell_type": "markdown",
   "id": "5ba840c6",
   "metadata": {},
   "source": [
    "- include_bias : 절편을 추가해주는 파라미터\n",
    "    - 사이킷런의 선형 회귀 모델은 자동으로 절편을 추가해주기 때문에 굳이 절편을 추가할 필요가 없음"
   ]
  },
  {
   "cell_type": "code",
   "execution_count": 10,
   "id": "aacd4e6c",
   "metadata": {},
   "outputs": [
    {
     "data": {
      "text/plain": [
       "array([[2., 3., 4., 6., 9.]])"
      ]
     },
     "execution_count": 10,
     "metadata": {},
     "output_type": "execute_result"
    }
   ],
   "source": [
    "pf = PolynomialFeatures(include_bias = False)\n",
    "pf.fit_transform([[2, 3]])"
   ]
  },
  {
   "cell_type": "code",
   "execution_count": 11,
   "id": "4a793a34",
   "metadata": {},
   "outputs": [],
   "source": [
    "# 실전 적용\n",
    "pf = PolynomialFeatures(include_bias = False)\n",
    "poly_train = pf.fit_transform(x_train)\n",
    "poly_test = pf.transform(x_test)"
   ]
  },
  {
   "cell_type": "markdown",
   "id": "a8e3367b",
   "metadata": {},
   "source": [
    "- PolynomialFeatures 는 별도의 통계값을 저장하지 않기 때문에 테스트 세트를 함께 변환해도 차이가 없지만 항상 훈련데이터를 기준으로 학습하고 테스트데이터를 변환하는 습관을 들이는 것이 중요"
   ]
  },
  {
   "cell_type": "code",
   "execution_count": 12,
   "id": "422b1e31",
   "metadata": {},
   "outputs": [
    {
     "data": {
      "text/plain": [
       "(42, 9)"
      ]
     },
     "execution_count": 12,
     "metadata": {},
     "output_type": "execute_result"
    }
   ],
   "source": [
    "poly_train.shape"
   ]
  },
  {
   "cell_type": "markdown",
   "id": "3be2b1ad",
   "metadata": {},
   "source": [
    "# 모델 훈련"
   ]
  },
  {
   "cell_type": "code",
   "execution_count": 13,
   "id": "52a4fffc",
   "metadata": {},
   "outputs": [
    {
     "name": "stdout",
     "output_type": "stream",
     "text": [
      "0.9504282181881183\n",
      "0.9353063345139399\n"
     ]
    }
   ],
   "source": [
    "# 특성공학 전 데이터로 학습한 모델\n",
    "lr_org = LinearRegression()\n",
    "lr_org.fit(x_train, y_train)\n",
    "print(lr_org.score(x_test, y_test))\n",
    "print(lr_org.score(x_train, y_train))"
   ]
  },
  {
   "cell_type": "markdown",
   "id": "a64555c6",
   "metadata": {},
   "source": [
    "- 훈련 데이터 평가치가 테스트 데이터 평가치보다 낮음\n",
    "    - 과소적합이 의심됨"
   ]
  },
  {
   "cell_type": "code",
   "execution_count": 14,
   "id": "56886307",
   "metadata": {},
   "outputs": [
    {
     "name": "stdout",
     "output_type": "stream",
     "text": [
      "0.9326632859153835\n",
      "0.9929952159825166\n"
     ]
    }
   ],
   "source": [
    "# 특성공학 후 데이터로 학습한 모델\n",
    "lr_poly = LinearRegression()\n",
    "lr_poly.fit(poly_train, y_train)\n",
    "print(lr_poly.score(poly_test, y_test))\n",
    "print(lr_poly.score(poly_train, y_train))"
   ]
  },
  {
   "cell_type": "markdown",
   "id": "62d3efdd",
   "metadata": {},
   "source": [
    "# 모델 최적화\n",
    "\n",
    "- 특성을 더 추가\n",
    "    - degree 매개변수 : 고차항의 최대 차수를 지정"
   ]
  },
  {
   "cell_type": "code",
   "execution_count": 15,
   "id": "b994bdbd",
   "metadata": {},
   "outputs": [
    {
     "data": {
      "text/plain": [
       "(42, 55)"
      ]
     },
     "execution_count": 15,
     "metadata": {},
     "output_type": "execute_result"
    }
   ],
   "source": [
    "pf = PolynomialFeatures(degree = 5, include_bias = False)\n",
    "poly_train5 = pf.fit_transform(x_train)\n",
    "poly_test5 = pf.transform(x_test)\n",
    "poly_train5.shape"
   ]
  },
  {
   "cell_type": "code",
   "execution_count": 16,
   "id": "7511ffc8",
   "metadata": {},
   "outputs": [
    {
     "name": "stdout",
     "output_type": "stream",
     "text": [
      "-87127.02814055856\n",
      "0.9999999999998339\n"
     ]
    }
   ],
   "source": [
    "lr_poly5 = LinearRegression()\n",
    "lr_poly5.fit(poly_train5, y_train)\n",
    "print(lr_poly5.score(poly_test5, y_test))\n",
    "print(lr_poly5.score(poly_train5, y_train))"
   ]
  },
  {
   "cell_type": "markdown",
   "id": "bae0ee16",
   "metadata": {},
   "source": [
    "- 훈련데이터에 대해서는 완벽하게 학습했음\n",
    "- 테스트데이터에 대해서는 분산보다 오차가 큼\n",
    "    - 데이터의 평균으로 예측하는 것보다 성능이 떨어짐\n",
    "    - 과대적합이 일어났음"
   ]
  },
  {
   "cell_type": "markdown",
   "id": "1c8f81d1",
   "metadata": {},
   "source": [
    "# 규제(regularization)\n",
    "\n",
    "- 머신러닝 모델이 훈련 세트를 과도하게 학습하지 못하도록 방지하는 것\n",
    "    - 선형회귀 모델의 경우에는 특성의 기울기 크기를 제한\n",
    "    \n",
    "- 선형 회귀 모델에 규제를 가하는 방법에 따라 릿지(ridge)모델과 라쏘(lasso)모델로 나뉨\n",
    "    - 릿지 모델\n",
    "        - 계수를 제곱한 값을 제한\n",
    "        - l2 규제\n",
    "        \n",
    "    - 라쏘 모델\n",
    "        - 계수의 절댓값을 제한\n",
    "        - l1 규제"
   ]
  },
  {
   "cell_type": "code",
   "execution_count": 17,
   "id": "6949f27d",
   "metadata": {},
   "outputs": [],
   "source": [
    "# 일반적으로 선형 회귀 모델에 규제를 적용할 때 계수 값의 크기가 서로 많이 다르면 제어가 힘듦\n",
    "# 규제 적용 전에 스케일링을 수행\n",
    "ss = StandardScaler()\n",
    "scaled_train = ss.fit_transform(poly_train5)\n",
    "scaled_test = ss.transform(poly_test5)"
   ]
  },
  {
   "cell_type": "markdown",
   "id": "97f00b02",
   "metadata": {},
   "source": [
    "# 릿지 회귀"
   ]
  },
  {
   "cell_type": "code",
   "execution_count": 18,
   "id": "b4391da2",
   "metadata": {},
   "outputs": [
    {
     "name": "stdout",
     "output_type": "stream",
     "text": [
      "0.9559682654536479\n",
      "0.9923043259781364\n"
     ]
    }
   ],
   "source": [
    "rid = Ridge()\n",
    "rid.fit(scaled_train, y_train)\n",
    "print(rid.score(scaled_test, y_test))\n",
    "print(rid.score(scaled_train, y_train))"
   ]
  },
  {
   "cell_type": "markdown",
   "id": "d9708c64",
   "metadata": {},
   "source": [
    "## 초매개변수(hyperparameter)\n",
    "\n",
    "- 머신러닝 모델이 학습할 수 없고 사람이 설정해야하는 파라미터\n",
    "- 사이킷런 모델에서 하이퍼파라미터는 클래스의 매개변수로 표현됨"
   ]
  },
  {
   "cell_type": "markdown",
   "id": "a621063c",
   "metadata": {},
   "source": [
    "### 릿지 모델 하이퍼파라미터 튜닝\n",
    "\n",
    "- alpha : 규제의 강도\n",
    "    - alpha 값이 크면\n",
    "        - 규제의 강도가 세짐\n",
    "        - 계수의 값을 줄이고 과소적합을 유도\n",
    "        \n",
    "    - alpha 값이 작으면 \n",
    "        - 규제의 강도가 약해짐\n",
    "        - 계수의 값을 덜 줄이고 과대적합 가능성이 커짐"
   ]
  },
  {
   "cell_type": "code",
   "execution_count": 19,
   "id": "ebd6e184",
   "metadata": {},
   "outputs": [],
   "source": [
    "train_hist = []\n",
    "test_hist = []\n",
    "\n",
    "alpha_li = [0.001, 0.01, 0.1, 1, 10, 100]\n",
    "\n",
    "for alpha in alpha_li:\n",
    "    # 모델 생성\n",
    "    rid = Ridge(alpha = alpha)\n",
    "    # 훈련\n",
    "    rid.fit(scaled_train, y_train)\n",
    "    # 모델 성능을 저장\n",
    "    train_hist.append(rid.score(scaled_train, y_train))\n",
    "    test_hist.append(rid.score(scaled_test, y_test))"
   ]
  },
  {
   "cell_type": "code",
   "execution_count": 20,
   "id": "775807a2",
   "metadata": {},
   "outputs": [
    {
     "data": {
      "image/png": "[encoded data removed]",
      "text/plain": [
       "<Figure size 640x480 with 1 Axes>"
      ]
     },
     "metadata": {},
     "output_type": "display_data"
    }
   ],
   "source": [
    "plt.figure()\n",
    "\n",
    "# alpha값을 그대로 x에 적용하면 간격이 서로 다르기 때문에 로그 함수로 바꾸어서 시각화\n",
    "plt.plot(np.log10(alpha_li), train_hist)\n",
    "plt.plot(np.log10(alpha_li), test_hist)\n",
    "\n",
    "plt.xlabel(\"alpha\")\n",
    "plt.ylabel(\"R2\")\n",
    "plt.legend(labels = [\"train\", \"test\"])\n",
    "plt.show()"
   ]
  },
  {
   "cell_type": "markdown",
   "id": "90ff53ad",
   "metadata": {},
   "source": [
    "- alpha 가 작을 때는 훈련데이터에만 잘 맞고 테스트 데이터에는 못 맞힘\n",
    "    - 과대적합이 일어났음\n",
    "    \n",
    "- alpha 가 커질수록 훈련데이터 점수가 낮아짐\n",
    "    - 과소적합으로 유도되고 있음\n",
    "    \n",
    "- 테스트데이터에 가장 점수가 높은 alpha 값은 10임"
   ]
  },
  {
   "cell_type": "code",
   "execution_count": 21,
   "id": "2a66251e",
   "metadata": {},
   "outputs": [
    {
     "name": "stdout",
     "output_type": "stream",
     "text": [
      "0.991225168829995\n",
      "0.9601060037445374\n"
     ]
    }
   ],
   "source": [
    "rid = Ridge(alpha = 10)\n",
    "rid.fit(scaled_train, y_train)\n",
    "print(rid.score(scaled_train, y_train))\n",
    "print(rid.score(scaled_test, y_test))"
   ]
  },
  {
   "cell_type": "markdown",
   "id": "a9e0e3be",
   "metadata": {},
   "source": [
    "# 라쏘 회귀"
   ]
  },
  {
   "cell_type": "code",
   "execution_count": 22,
   "id": "94bbb9e8",
   "metadata": {},
   "outputs": [
    {
     "name": "stdout",
     "output_type": "stream",
     "text": [
      "0.9552962772740082\n",
      "0.9924966828296498\n"
     ]
    }
   ],
   "source": [
    "las = Lasso()\n",
    "las.fit(scaled_train, y_train)\n",
    "print(las.score(scaled_test, y_test))\n",
    "print(las.score(scaled_train, y_train))"
   ]
  },
  {
   "cell_type": "code",
   "execution_count": 23,
   "id": "bea3fb5e",
   "metadata": {},
   "outputs": [
    {
     "name": "stderr",
     "output_type": "stream",
     "text": [
      "C:\\ProgramData\\anaconda3\\Lib\\site-packages\\sklearn\\linear_model\\_coordinate_descent.py:628: ConvergenceWarning: Objective did not converge. You might want to increase the number of iterations, check the scale of the features or consider increasing regularisation. Duality gap: 1.591e+04, tolerance: 4.746e+02\n",
      "  model = cd_fast.enet_coordinate_descent(\n",
      "C:\\ProgramData\\anaconda3\\Lib\\site-packages\\sklearn\\linear_model\\_coordinate_descent.py:628: ConvergenceWarning: Objective did not converge. You might want to increase the number of iterations, check the scale of the features or consider increasing regularisation. Duality gap: 1.090e+04, tolerance: 4.746e+02\n",
      "  model = cd_fast.enet_coordinate_descent(\n",
      "C:\\ProgramData\\anaconda3\\Lib\\site-packages\\sklearn\\linear_model\\_coordinate_descent.py:628: ConvergenceWarning: Objective did not converge. You might want to increase the number of iterations, check the scale of the features or consider increasing regularisation. Duality gap: 1.031e+03, tolerance: 4.746e+02\n",
      "  model = cd_fast.enet_coordinate_descent(\n"
     ]
    }
   ],
   "source": [
    "train_hist = []\n",
    "test_hist = []\n",
    "\n",
    "alpha_li = [0.001, 0.01, 0.1, 1, 10, 100]\n",
    "\n",
    "for alpha in alpha_li:\n",
    "    # 모델 생성\n",
    "    las = Lasso(alpha = alpha)\n",
    "    # 훈련\n",
    "    las.fit(scaled_train, y_train)\n",
    "    # 모델 성능을 저장\n",
    "    train_hist.append(las.score(scaled_train, y_train))\n",
    "    test_hist.append(las.score(scaled_test, y_test))"
   ]
  },
  {
   "cell_type": "code",
   "execution_count": 24,
   "id": "3a947560",
   "metadata": {},
   "outputs": [
    {
     "data": {
      "image/png": "[encoded data removed]",
      "text/plain": [
       "<Figure size 640x480 with 1 Axes>"
      ]
     },
     "metadata": {},
     "output_type": "display_data"
    }
   ],
   "source": [
    "plt.figure()\n",
    "\n",
    "# alpha값을 그대로 x에 적용하면 간격이 서로 다르기 때문에 로그 함수로 바꾸어서 시각화\n",
    "plt.plot(np.log10(alpha_li), train_hist)\n",
    "plt.plot(np.log10(alpha_li), test_hist)\n",
    "\n",
    "plt.xlabel(\"alpha\")\n",
    "plt.ylabel(\"R2\")\n",
    "plt.legend(labels = [\"train\", \"test\"])\n",
    "plt.show()"
   ]
  },
  {
   "cell_type": "code",
   "execution_count": 27,
   "id": "9f16bfb3",
   "metadata": {},
   "outputs": [
    {
     "name": "stdout",
     "output_type": "stream",
     "text": [
      "0.991542628391316\n",
      "0.9600150632500069\n"
     ]
    }
   ],
   "source": [
    "# 모델 성능이 가장 높은 지점 확인\n",
    "las = Lasso(alpha = 10)\n",
    "las.fit(scaled_train, y_train)\n",
    "print(las.score(scaled_train, y_train))\n",
    "print(las.score(scaled_test, y_test))"
   ]
  },
  {
   "cell_type": "code",
   "execution_count": 26,
   "id": "862d3758",
   "metadata": {},
   "outputs": [
    {
     "data": {
      "text/plain": [
       "array([  0.        ,   0.        ,   0.        ,   0.        ,\n",
       "         0.        ,   0.        ,   0.        ,   0.        ,\n",
       "         0.        ,   0.        ,   0.        , 125.9931783 ,\n",
       "         0.        ,  99.47648763,   9.42439631,   0.        ,\n",
       "         0.        ,   0.        ,   0.        ,   0.        ,\n",
       "         0.        ,   0.        ,   0.        ,   0.        ,\n",
       "         0.        ,   0.        ,   0.        ,   0.        ,\n",
       "         0.        ,   0.        ,   0.        ,   0.        ,\n",
       "         0.        ,   0.        ,   0.        ,   0.        ,\n",
       "         0.        ,   0.        ,   0.        ,   0.        ,\n",
       "         0.        ,   0.        ,   0.        ,   0.        ,\n",
       "         0.        ,   0.        ,   0.        ,   0.        ,\n",
       "         0.        ,   0.        ,   0.        ,   0.        ,\n",
       "         0.        ,   0.        ,   0.        ])"
      ]
     },
     "execution_count": 26,
     "metadata": {},
     "output_type": "execute_result"
    }
   ],
   "source": [
    "las.coef_"
   ]
  },
  {
   "cell_type": "code",
   "execution_count": 28,
   "id": "f50f72eb",
   "metadata": {},
   "outputs": [
    {
     "name": "stdout",
     "output_type": "stream",
     "text": [
      "47\n"
     ]
    }
   ],
   "source": [
    "print(np.sum(las.coef_ == 0))"
   ]
  },
  {
   "cell_type": "markdown",
   "id": "9b6a6f4b",
   "metadata": {},
   "source": [
    "- 라쏘 모델은 기울기를 아예 0으로 만드는 경우가 있음\n",
    "- 현재는 47개의 독립변수의 기울기를 0으로 만들어 사용하지 않음\n",
    "    - 이런 특징을 이용해 유용한 특성을 선택하는 용도로도 사용할 수 있음"
   ]
  }
 ],
 "metadata": {
  "kernelspec": {
   "display_name": "Python 3 (ipykernel)",
   "language": "python",
   "name": "python3"
  },
  "language_info": {
   "codemirror_mode": {
    "name": "ipython",
    "version": 3
   },
   "file_extension": ".py",
   "mimetype": "text/x-python",
   "name": "python",
   "nbconvert_exporter": "python",
   "pygments_lexer": "ipython3",
   "version": "3.11.5"
  }
 },
 "nbformat": 4,
 "nbformat_minor": 5
}
