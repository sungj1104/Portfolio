{
 "cells": [
  {
   "cell_type": "markdown",
   "id": "2f1b4924",
   "metadata": {},
   "source": [
    "# 로지스틱 회귀\n",
    "\n",
    "- 의의\n",
    "    - 확률을 예측하는데에 사용되는 통계 모델\n",
    "        - 특정 결과의 확률을 계산\n",
    "        \n",
    "    - 결과값은 이진이어야함(결과는 둘 중 하나)\n",
    "        - 원하는 결과는 1, 원하지 않는 결과는 0\n",
    "        \n",
    "    - 선형 회귀와 마찬가지로 다중공선성은 거의 없어야 함\n",
    "        - 독립변수는 서로 독립적이어야 함\n",
    "        \n",
    "    - 종속변수와 관련 없는 독립 변수를 제거할 때 더 효율적인 경향이 있음\n",
    "    \n",
    "- 장점\n",
    "    - 많은 양의 연산 자원을 필요로 하지 않음\n",
    "    - 쉽게 해석할 수 있음\n",
    "    \n",
    "- 단점\n",
    "    - 비선형 데이터에 사용하기 힘듦\n",
    "    - 과대적합에 취약함\n",
    "    - 1과 0으로만 결과가 출력되기 때문에 범주형 결과를 예측하는 데에만 사용 가능"
   ]
  },
  {
   "cell_type": "code",
   "execution_count": 2,
   "id": "709a2a71",
   "metadata": {},
   "outputs": [],
   "source": [
    "import numpy as np\n",
    "import matplotlib.pyplot as plt\n",
    "import pandas as pd\n",
    "from sklearn.model_selection import train_test_split\n",
    "from sklearn.preprocessing import StandardScaler\n",
    "from sklearn.linear_model import LogisticRegression\n",
    "from scipy.special import expit, softmax\n",
    "from sklearn.metrics import roc_curve, roc_auc_score"
   ]
  },
  {
   "cell_type": "code",
   "execution_count": 3,
   "id": "65728a9b",
   "metadata": {},
   "outputs": [
    {
     "data": {
      "image/png": "[encoded data removed]",
      "text/plain": [
       "<Figure size 640x480 with 1 Axes>"
      ]
     },
     "metadata": {},
     "output_type": "display_data"
    }
   ],
   "source": [
    "# 로지스틱 함수 시각화\n",
    "z = np.arange(-5, 5, 0.1)\n",
    "phi = 1 / (1 + np.exp(-z))\n",
    "\n",
    "plt.plot(z, phi)\n",
    "plt.xlabel(\"z\")\n",
    "plt.ylabel(\"phi\")\n",
    "plt.show()"
   ]
  },
  {
   "cell_type": "markdown",
   "id": "0e4f89f5",
   "metadata": {},
   "source": [
    "## 데이터 준비"
   ]
  },
  {
   "cell_type": "code",
   "execution_count": 7,
   "id": "474a680d",
   "metadata": {},
   "outputs": [],
   "source": [
    "df = pd.read_csv(\"./data/Fish.csv\")"
   ]
  },
  {
   "cell_type": "code",
   "execution_count": 8,
   "id": "04b98782",
   "metadata": {},
   "outputs": [],
   "source": [
    "df_bs = df[(df[\"Species\"] == \"Bream\") | (df[\"Species\"] == \"Smelt\")]"
   ]
  },
  {
   "cell_type": "code",
   "execution_count": 9,
   "id": "ec184bfa",
   "metadata": {},
   "outputs": [
    {
     "data": {
      "text/html": [
       "<div>\n",
       "<style scoped>\n",
       "    .dataframe tbody tr th:only-of-type {\n",
       "        vertical-align: middle;\n",
       "    }\n",
       "\n",
       "    .dataframe tbody tr th {\n",
       "        vertical-align: top;\n",
       "    }\n",
       "\n",
       "    .dataframe thead th {\n",
       "        text-align: right;\n",
       "    }\n",
       "</style>\n",
       "<table border=\"1\" class=\"dataframe\">\n",
       "  <thead>\n",
       "    <tr style=\"text-align: right;\">\n",
       "      <th></th>\n",
       "      <th>Species</th>\n",
       "      <th>Weight</th>\n",
       "      <th>Length1</th>\n",
       "      <th>Length2</th>\n",
       "      <th>Length3</th>\n",
       "      <th>Height</th>\n",
       "      <th>Width</th>\n",
       "    </tr>\n",
       "  </thead>\n",
       "  <tbody>\n",
       "    <tr>\n",
       "      <th>0</th>\n",
       "      <td>Bream</td>\n",
       "      <td>242.0</td>\n",
       "      <td>23.2</td>\n",
       "      <td>25.4</td>\n",
       "      <td>30.0</td>\n",
       "      <td>11.5200</td>\n",
       "      <td>4.0200</td>\n",
       "    </tr>\n",
       "    <tr>\n",
       "      <th>1</th>\n",
       "      <td>Bream</td>\n",
       "      <td>290.0</td>\n",
       "      <td>24.0</td>\n",
       "      <td>26.3</td>\n",
       "      <td>31.2</td>\n",
       "      <td>12.4800</td>\n",
       "      <td>4.3056</td>\n",
       "    </tr>\n",
       "    <tr>\n",
       "      <th>2</th>\n",
       "      <td>Bream</td>\n",
       "      <td>340.0</td>\n",
       "      <td>23.9</td>\n",
       "      <td>26.5</td>\n",
       "      <td>31.1</td>\n",
       "      <td>12.3778</td>\n",
       "      <td>4.6961</td>\n",
       "    </tr>\n",
       "    <tr>\n",
       "      <th>3</th>\n",
       "      <td>Bream</td>\n",
       "      <td>363.0</td>\n",
       "      <td>26.3</td>\n",
       "      <td>29.0</td>\n",
       "      <td>33.5</td>\n",
       "      <td>12.7300</td>\n",
       "      <td>4.4555</td>\n",
       "    </tr>\n",
       "    <tr>\n",
       "      <th>4</th>\n",
       "      <td>Bream</td>\n",
       "      <td>430.0</td>\n",
       "      <td>26.5</td>\n",
       "      <td>29.0</td>\n",
       "      <td>34.0</td>\n",
       "      <td>12.4440</td>\n",
       "      <td>5.1340</td>\n",
       "    </tr>\n",
       "  </tbody>\n",
       "</table>\n",
       "</div>"
      ],
      "text/plain": [
       "  Species  Weight  Length1  Length2  Length3   Height   Width\n",
       "0   Bream   242.0     23.2     25.4     30.0  11.5200  4.0200\n",
       "1   Bream   290.0     24.0     26.3     31.2  12.4800  4.3056\n",
       "2   Bream   340.0     23.9     26.5     31.1  12.3778  4.6961\n",
       "3   Bream   363.0     26.3     29.0     33.5  12.7300  4.4555\n",
       "4   Bream   430.0     26.5     29.0     34.0  12.4440  5.1340"
      ]
     },
     "execution_count": 9,
     "metadata": {},
     "output_type": "execute_result"
    }
   ],
   "source": [
    "df_bs.head()"
   ]
  },
  {
   "cell_type": "code",
   "execution_count": 10,
   "id": "f4d8b71f",
   "metadata": {},
   "outputs": [],
   "source": [
    "df_bs = df_bs.drop(\"Length1\", axis = 1)"
   ]
  },
  {
   "cell_type": "code",
   "execution_count": 11,
   "id": "ef616047",
   "metadata": {},
   "outputs": [
    {
     "data": {
      "text/html": [
       "<div>\n",
       "<style scoped>\n",
       "    .dataframe tbody tr th:only-of-type {\n",
       "        vertical-align: middle;\n",
       "    }\n",
       "\n",
       "    .dataframe tbody tr th {\n",
       "        vertical-align: top;\n",
       "    }\n",
       "\n",
       "    .dataframe thead th {\n",
       "        text-align: right;\n",
       "    }\n",
       "</style>\n",
       "<table border=\"1\" class=\"dataframe\">\n",
       "  <thead>\n",
       "    <tr style=\"text-align: right;\">\n",
       "      <th></th>\n",
       "      <th>Species</th>\n",
       "      <th>Weight</th>\n",
       "      <th>Length2</th>\n",
       "      <th>Length3</th>\n",
       "      <th>Height</th>\n",
       "      <th>Width</th>\n",
       "    </tr>\n",
       "  </thead>\n",
       "  <tbody>\n",
       "    <tr>\n",
       "      <th>0</th>\n",
       "      <td>Bream</td>\n",
       "      <td>242.0</td>\n",
       "      <td>25.4</td>\n",
       "      <td>30.0</td>\n",
       "      <td>11.5200</td>\n",
       "      <td>4.0200</td>\n",
       "    </tr>\n",
       "    <tr>\n",
       "      <th>1</th>\n",
       "      <td>Bream</td>\n",
       "      <td>290.0</td>\n",
       "      <td>26.3</td>\n",
       "      <td>31.2</td>\n",
       "      <td>12.4800</td>\n",
       "      <td>4.3056</td>\n",
       "    </tr>\n",
       "    <tr>\n",
       "      <th>2</th>\n",
       "      <td>Bream</td>\n",
       "      <td>340.0</td>\n",
       "      <td>26.5</td>\n",
       "      <td>31.1</td>\n",
       "      <td>12.3778</td>\n",
       "      <td>4.6961</td>\n",
       "    </tr>\n",
       "    <tr>\n",
       "      <th>3</th>\n",
       "      <td>Bream</td>\n",
       "      <td>363.0</td>\n",
       "      <td>29.0</td>\n",
       "      <td>33.5</td>\n",
       "      <td>12.7300</td>\n",
       "      <td>4.4555</td>\n",
       "    </tr>\n",
       "    <tr>\n",
       "      <th>4</th>\n",
       "      <td>Bream</td>\n",
       "      <td>430.0</td>\n",
       "      <td>29.0</td>\n",
       "      <td>34.0</td>\n",
       "      <td>12.4440</td>\n",
       "      <td>5.1340</td>\n",
       "    </tr>\n",
       "  </tbody>\n",
       "</table>\n",
       "</div>"
      ],
      "text/plain": [
       "  Species  Weight  Length2  Length3   Height   Width\n",
       "0   Bream   242.0     25.4     30.0  11.5200  4.0200\n",
       "1   Bream   290.0     26.3     31.2  12.4800  4.3056\n",
       "2   Bream   340.0     26.5     31.1  12.3778  4.6961\n",
       "3   Bream   363.0     29.0     33.5  12.7300  4.4555\n",
       "4   Bream   430.0     29.0     34.0  12.4440  5.1340"
      ]
     },
     "execution_count": 11,
     "metadata": {},
     "output_type": "execute_result"
    }
   ],
   "source": [
    "df_bs.head()"
   ]
  },
  {
   "cell_type": "code",
   "execution_count": 12,
   "id": "3cffcb51",
   "metadata": {},
   "outputs": [],
   "source": [
    "# 데이터 분할\n",
    "x = df_bs.drop(\"Species\", axis = 1)\n",
    "y = df_bs[\"Species\"]"
   ]
  },
  {
   "cell_type": "code",
   "execution_count": 13,
   "id": "ec1737d9",
   "metadata": {},
   "outputs": [],
   "source": [
    "x_train, x_test, y_train, y_test = train_test_split(x, y, test_size = 0.25, stratify = y, random_state = 11)"
   ]
  },
  {
   "cell_type": "code",
   "execution_count": 15,
   "id": "8683e9d9",
   "metadata": {},
   "outputs": [],
   "source": [
    "# 스케일링\n",
    "ss = StandardScaler()\n",
    "scaled_train = ss.fit_transform(x_train)\n",
    "scaled_test = ss.transform(x_test)"
   ]
  },
  {
   "cell_type": "markdown",
   "id": "1ac339ad",
   "metadata": {},
   "source": [
    "## 모델 훈련"
   ]
  },
  {
   "cell_type": "code",
   "execution_count": 16,
   "id": "fa2704f9",
   "metadata": {},
   "outputs": [
    {
     "data": {
      "text/html": [
       "<style>#sk-container-id-1 {color: black;}#sk-container-id-1 pre{padding: 0;}#sk-container-id-1 div.sk-toggleable {background-color: white;}#sk-container-id-1 label.sk-toggleable__label {cursor: pointer;display: block;width: 100%;margin-bottom: 0;padding: 0.3em;box-sizing: border-box;text-align: center;}#sk-container-id-1 label.sk-toggleable__label-arrow:before {content: \"▸\";float: left;margin-right: 0.25em;color: #696969;}#sk-container-id-1 label.sk-toggleable__label-arrow:hover:before {color: black;}#sk-container-id-1 div.sk-estimator:hover label.sk-toggleable__label-arrow:before {color: black;}#sk-container-id-1 div.sk-toggleable__content {max-height: 0;max-width: 0;overflow: hidden;text-align: left;background-color: #f0f8ff;}#sk-container-id-1 div.sk-toggleable__content pre {margin: 0.2em;color: black;border-radius: 0.25em;background-color: #f0f8ff;}#sk-container-id-1 input.sk-toggleable__control:checked~div.sk-toggleable__content {max-height: 200px;max-width: 100%;overflow: auto;}#sk-container-id-1 input.sk-toggleable__control:checked~label.sk-toggleable__label-arrow:before {content: \"▾\";}#sk-container-id-1 div.sk-estimator input.sk-toggleable__control:checked~label.sk-toggleable__label {background-color: #d4ebff;}#sk-container-id-1 div.sk-label input.sk-toggleable__control:checked~label.sk-toggleable__label {background-color: #d4ebff;}#sk-container-id-1 input.sk-hidden--visually {border: 0;clip: rect(1px 1px 1px 1px);clip: rect(1px, 1px, 1px, 1px);height: 1px;margin: -1px;overflow: hidden;padding: 0;position: absolute;width: 1px;}#sk-container-id-1 div.sk-estimator {font-family: monospace;background-color: #f0f8ff;border: 1px dotted black;border-radius: 0.25em;box-sizing: border-box;margin-bottom: 0.5em;}#sk-container-id-1 div.sk-estimator:hover {background-color: #d4ebff;}#sk-container-id-1 div.sk-parallel-item::after {content: \"\";width: 100%;border-bottom: 1px solid gray;flex-grow: 1;}#sk-container-id-1 div.sk-label:hover label.sk-toggleable__label {background-color: #d4ebff;}#sk-container-id-1 div.sk-serial::before {content: \"\";position: absolute;border-left: 1px solid gray;box-sizing: border-box;top: 0;bottom: 0;left: 50%;z-index: 0;}#sk-container-id-1 div.sk-serial {display: flex;flex-direction: column;align-items: center;background-color: white;padding-right: 0.2em;padding-left: 0.2em;position: relative;}#sk-container-id-1 div.sk-item {position: relative;z-index: 1;}#sk-container-id-1 div.sk-parallel {display: flex;align-items: stretch;justify-content: center;background-color: white;position: relative;}#sk-container-id-1 div.sk-item::before, #sk-container-id-1 div.sk-parallel-item::before {content: \"\";position: absolute;border-left: 1px solid gray;box-sizing: border-box;top: 0;bottom: 0;left: 50%;z-index: -1;}#sk-container-id-1 div.sk-parallel-item {display: flex;flex-direction: column;z-index: 1;position: relative;background-color: white;}#sk-container-id-1 div.sk-parallel-item:first-child::after {align-self: flex-end;width: 50%;}#sk-container-id-1 div.sk-parallel-item:last-child::after {align-self: flex-start;width: 50%;}#sk-container-id-1 div.sk-parallel-item:only-child::after {width: 0;}#sk-container-id-1 div.sk-dashed-wrapped {border: 1px dashed gray;margin: 0 0.4em 0.5em 0.4em;box-sizing: border-box;padding-bottom: 0.4em;background-color: white;}#sk-container-id-1 div.sk-label label {font-family: monospace;font-weight: bold;display: inline-block;line-height: 1.2em;}#sk-container-id-1 div.sk-label-container {text-align: center;}#sk-container-id-1 div.sk-container {/* jupyter's `normalize.less` sets `[hidden] { display: none; }` but bootstrap.min.css set `[hidden] { display: none !important; }` so we also need the `!important` here to be able to override the default hidden behavior on the sphinx rendered scikit-learn.org. See: https://github.com/scikit-learn/scikit-learn/issues/21755 */display: inline-block !important;position: relative;}#sk-container-id-1 div.sk-text-repr-fallback {display: none;}</style><div id=\"sk-container-id-1\" class=\"sk-top-container\"><div class=\"sk-text-repr-fallback\"><pre>LogisticRegression()</pre><b>In a Jupyter environment, please rerun this cell to show the HTML representation or trust the notebook. <br />On GitHub, the HTML representation is unable to render, please try loading this page with nbviewer.org.</b></div><div class=\"sk-container\" hidden><div class=\"sk-item\"><div class=\"sk-estimator sk-toggleable\"><input class=\"sk-toggleable__control sk-hidden--visually\" id=\"sk-estimator-id-1\" type=\"checkbox\" checked><label for=\"sk-estimator-id-1\" class=\"sk-toggleable__label sk-toggleable__label-arrow\">LogisticRegression</label><div class=\"sk-toggleable__content\"><pre>LogisticRegression()</pre></div></div></div></div></div>"
      ],
      "text/plain": [
       "LogisticRegression()"
      ]
     },
     "execution_count": 16,
     "metadata": {},
     "output_type": "execute_result"
    }
   ],
   "source": [
    "logi = LogisticRegression()\n",
    "logi.fit(scaled_train, y_train)"
   ]
  },
  {
   "cell_type": "code",
   "execution_count": 17,
   "id": "ef4abaee",
   "metadata": {},
   "outputs": [
    {
     "data": {
      "text/plain": [
       "array(['Bream', 'Bream', 'Bream', 'Smelt', 'Bream', 'Smelt', 'Smelt',\n",
       "       'Bream', 'Bream', 'Smelt', 'Bream', 'Bream', 'Bream'], dtype=object)"
      ]
     },
     "execution_count": 17,
     "metadata": {},
     "output_type": "execute_result"
    }
   ],
   "source": [
    "logi.predict(scaled_test)"
   ]
  },
  {
   "cell_type": "code",
   "execution_count": 18,
   "id": "ea1077da",
   "metadata": {},
   "outputs": [
    {
     "data": {
      "text/plain": [
       "array([[0.9918541 , 0.0081459 ],\n",
       "       [0.91641922, 0.08358078],\n",
       "       [0.97878238, 0.02121762],\n",
       "       [0.09707529, 0.90292471],\n",
       "       [0.99175592, 0.00824408]])"
      ]
     },
     "execution_count": 18,
     "metadata": {},
     "output_type": "execute_result"
    }
   ],
   "source": [
    "# 예측확률 출력\n",
    "logi.predict_proba(scaled_test)[:5]"
   ]
  },
  {
   "cell_type": "code",
   "execution_count": 20,
   "id": "f375ba38",
   "metadata": {},
   "outputs": [
    {
     "data": {
      "text/plain": [
       "array(['Bream', 'Smelt'], dtype=object)"
      ]
     },
     "execution_count": 20,
     "metadata": {},
     "output_type": "execute_result"
    }
   ],
   "source": [
    "# 종속변수 값 확인\n",
    "logi.classes_"
   ]
  },
  {
   "cell_type": "code",
   "execution_count": 21,
   "id": "154d6f1e",
   "metadata": {},
   "outputs": [
    {
     "data": {
      "text/plain": [
       "(array([[-0.56734399, -0.77612752, -0.8107218 , -0.84600475, -0.80812209]]),\n",
       " array([-2.70021172]))"
      ]
     },
     "execution_count": 21,
     "metadata": {},
     "output_type": "execute_result"
    }
   ],
   "source": [
    "# 로지스틱 회귀 회귀식 확인\n",
    "logi.coef_, logi.intercept_"
   ]
  },
  {
   "cell_type": "markdown",
   "id": "52244438",
   "metadata": {},
   "source": [
    "- z = Weight * -0.56 + Length2 * -0.77 + Legth3 * -0.81 + Height * -0.84 + Width * -0.8 + (-2.7)"
   ]
  },
  {
   "cell_type": "markdown",
   "id": "26254a1c",
   "metadata": {},
   "source": [
    "### 회귀식을 통한 확률값 계산"
   ]
  },
  {
   "cell_type": "code",
   "execution_count": 23,
   "id": "dd5f53ee",
   "metadata": {},
   "outputs": [
    {
     "data": {
      "text/plain": [
       "array([-4.80206113, -2.3946603 , -3.83147719,  2.2301523 , -4.78998212])"
      ]
     },
     "execution_count": 23,
     "metadata": {},
     "output_type": "execute_result"
    }
   ],
   "source": [
    "# z값 계산\n",
    "decision_z = logi.decision_function(scaled_test[:5])\n",
    "decision_z"
   ]
  },
  {
   "cell_type": "code",
   "execution_count": 24,
   "id": "666c3331",
   "metadata": {},
   "outputs": [
    {
     "data": {
      "text/plain": [
       "array([0.70633413, 0.54797717, 0.5674028 , 0.50706058, 0.4786818 ])"
      ]
     },
     "execution_count": 24,
     "metadata": {},
     "output_type": "execute_result"
    }
   ],
   "source": [
    "scaled_test[0]"
   ]
  },
  {
   "cell_type": "code",
   "execution_count": 25,
   "id": "c4dcda6c",
   "metadata": {},
   "outputs": [
    {
     "data": {
      "text/plain": [
       "-4.7574000000000005"
      ]
     },
     "execution_count": 25,
     "metadata": {},
     "output_type": "execute_result"
    }
   ],
   "source": [
    "0.7 * -0.56 + 0.54 * -0.77 + 0.56 * -0.81 + 0.5 * -0.84 + 0.47 * -0.8 -2.7"
   ]
  },
  {
   "cell_type": "code",
   "execution_count": 26,
   "id": "e42b449d",
   "metadata": {},
   "outputs": [
    {
     "data": {
      "text/plain": [
       "array([0.0081459 , 0.08358078, 0.02121762, 0.90292471, 0.00824408])"
      ]
     },
     "execution_count": 26,
     "metadata": {},
     "output_type": "execute_result"
    }
   ],
   "source": [
    "# z값을 시그모이드 함수를 통과시켜 확률값 계산\n",
    "expit(decision_z)"
   ]
  },
  {
   "cell_type": "code",
   "execution_count": 29,
   "id": "cc00be55",
   "metadata": {},
   "outputs": [
    {
     "data": {
      "image/png": "[encoded data removed]",
      "text/plain": [
       "<Figure size 640x480 with 1 Axes>"
      ]
     },
     "metadata": {},
     "output_type": "display_data"
    }
   ],
   "source": [
    "# roc커브\n",
    "pred_proba_class1 = logi.predict_proba(scaled_test)[:, 1]\n",
    "\n",
    "fprs, tprs, thresholds = roc_curve(y_test.map(lambda x: 0 if x == \"Bream\" else 1), pred_proba_class1)\n",
    "\n",
    "plt.figure()\n",
    "plt.plot(fprs, tprs, label = \"ROC\")\n",
    "plt.plot([0, 1], [0, 1], \"k--\", label = \"Random\")\n",
    "\n",
    "plt.xticks(np.round(np.arange(0, 1, 0.1), 2))\n",
    "plt.xlabel(\"FPR\")\n",
    "plt.ylabel(\"TPR\")\n",
    "plt.legend()\n",
    "\n",
    "plt.show()"
   ]
  },
  {
   "cell_type": "code",
   "execution_count": 30,
   "id": "cf22d559",
   "metadata": {},
   "outputs": [
    {
     "data": {
      "text/plain": [
       "1.0"
      ]
     },
     "execution_count": 30,
     "metadata": {},
     "output_type": "execute_result"
    }
   ],
   "source": [
    "# auc score\n",
    "roc_auc_score(y_test, pred_proba_class1)"
   ]
  },
  {
   "cell_type": "code",
   "execution_count": 31,
   "id": "f0a42794",
   "metadata": {},
   "outputs": [
    {
     "data": {
      "text/plain": [
       "1.0"
      ]
     },
     "execution_count": 31,
     "metadata": {},
     "output_type": "execute_result"
    }
   ],
   "source": [
    "# 정확도\n",
    "logi.score(scaled_test, y_test)"
   ]
  },
  {
   "cell_type": "markdown",
   "id": "565ab2c7",
   "metadata": {},
   "source": [
    "# 로지스틱 회귀로 다중 분류"
   ]
  },
  {
   "cell_type": "code",
   "execution_count": 32,
   "id": "12633a43",
   "metadata": {},
   "outputs": [],
   "source": [
    "df = df[[\"Species\", \"Weight\", \"Length2\", \"Length3\", \"Height\", \"Width\"]]"
   ]
  },
  {
   "cell_type": "code",
   "execution_count": 33,
   "id": "8e2a7071",
   "metadata": {},
   "outputs": [],
   "source": [
    "x = df.drop(\"Species\", axis = 1)\n",
    "y = df[\"Species\"]"
   ]
  },
  {
   "cell_type": "code",
   "execution_count": 34,
   "id": "0835e1c5",
   "metadata": {},
   "outputs": [
    {
     "data": {
      "text/plain": [
       "(159, 6)"
      ]
     },
     "execution_count": 34,
     "metadata": {},
     "output_type": "execute_result"
    }
   ],
   "source": [
    "df.shape"
   ]
  },
  {
   "cell_type": "code",
   "execution_count": 35,
   "id": "ce695c0b",
   "metadata": {},
   "outputs": [],
   "source": [
    "x_train, x_test, y_train, y_test = train_test_split(x, y, test_size = 0.25, stratify = y, random_state = 11)"
   ]
  },
  {
   "cell_type": "code",
   "execution_count": 36,
   "id": "34ea507c",
   "metadata": {},
   "outputs": [],
   "source": [
    "ss = StandardScaler()\n",
    "scaled_train = ss.fit_transform(x_train)\n",
    "scaled_test = ss.transform(x_test)"
   ]
  },
  {
   "cell_type": "code",
   "execution_count": 37,
   "id": "8b95844f",
   "metadata": {},
   "outputs": [
    {
     "name": "stdout",
     "output_type": "stream",
     "text": [
      "0.8151260504201681\n",
      "0.8\n"
     ]
    }
   ],
   "source": [
    "logi = LogisticRegression()\n",
    "logi.fit(scaled_train, y_train)\n",
    "print(logi.score(scaled_train, y_train))\n",
    "print(logi.score(scaled_test, y_test))"
   ]
  },
  {
   "cell_type": "code",
   "execution_count": 38,
   "id": "d46d929e",
   "metadata": {},
   "outputs": [
    {
     "data": {
      "text/plain": [
       "array(['Bream', 'Parkki', 'Bream', 'Perch', 'Perch', 'Smelt', 'Perch',\n",
       "       'Perch', 'Pike', 'Perch', 'Smelt', 'Perch', 'Perch', 'Smelt',\n",
       "       'Pike', 'Parkki', 'Bream', 'Perch', 'Perch', 'Bream', 'Bream',\n",
       "       'Bream', 'Bream', 'Perch', 'Perch', 'Parkki', 'Pike', 'Perch',\n",
       "       'Perch', 'Bream', 'Perch', 'Pike', 'Smelt', 'Bream', 'Perch',\n",
       "       'Perch', 'Perch', 'Perch', 'Smelt', 'Smelt'], dtype=object)"
      ]
     },
     "execution_count": 38,
     "metadata": {},
     "output_type": "execute_result"
    }
   ],
   "source": [
    "logi.predict(scaled_test)"
   ]
  },
  {
   "cell_type": "code",
   "execution_count": 39,
   "id": "b921e4f3",
   "metadata": {},
   "outputs": [
    {
     "name": "stdout",
     "output_type": "stream",
     "text": [
      "[[0.616 0.197 0.047 0.009 0.089 0.    0.041]\n",
      " [0.16  0.503 0.085 0.009 0.202 0.011 0.03 ]\n",
      " [0.693 0.091 0.064 0.022 0.072 0.    0.057]\n",
      " [0.008 0.141 0.433 0.011 0.305 0.079 0.023]\n",
      " [0.006 0.099 0.482 0.015 0.297 0.08  0.022]]\n"
     ]
    }
   ],
   "source": [
    "# 예측 확률값 확인\n",
    "proba = logi.predict_proba(scaled_test[:5])\n",
    "print(np.round(proba, decimals = 3))"
   ]
  },
  {
   "cell_type": "code",
   "execution_count": 40,
   "id": "f0c508c9",
   "metadata": {},
   "outputs": [
    {
     "data": {
      "text/plain": [
       "array(['Bream', 'Parkki', 'Perch', 'Pike', 'Roach', 'Smelt', 'Whitefish'],\n",
       "      dtype=object)"
      ]
     },
     "execution_count": 40,
     "metadata": {},
     "output_type": "execute_result"
    }
   ],
   "source": [
    "# 종속변수 확인\n",
    "logi.classes_"
   ]
  },
  {
   "cell_type": "code",
   "execution_count": 41,
   "id": "bce2f359",
   "metadata": {},
   "outputs": [
    {
     "data": {
      "text/plain": [
       "array([[-0.10216394, -0.14437304,  0.5962784 ,  2.90437953, -0.22327783],\n",
       "       [-0.3083481 , -0.76387413, -0.73837986,  1.83005633, -0.81466926],\n",
       "       [ 0.95550322,  0.4236401 , -1.16998184, -1.73621143,  1.92493972],\n",
       "       [-0.03542466,  1.79623211,  1.7703477 , -1.23692486, -0.6992827 ],\n",
       "       [-0.79516063, -0.40675146,  0.40115519, -0.40351006,  0.46193563],\n",
       "       [-0.35050409, -0.92107444, -0.96417675, -1.38192588, -1.5327255 ],\n",
       "       [ 0.63609821,  0.01620086,  0.10475716,  0.02413637,  0.88307994]])"
      ]
     },
     "execution_count": 41,
     "metadata": {},
     "output_type": "execute_result"
    }
   ],
   "source": [
    "# 회귀식 확인\n",
    "logi.coef_"
   ]
  },
  {
   "cell_type": "code",
   "execution_count": 42,
   "id": "41fa3c67",
   "metadata": {},
   "outputs": [
    {
     "data": {
      "text/plain": [
       "array([ 0.61020577, -0.13959349,  2.3421575 ,  0.14409876,  0.97894533,\n",
       "       -4.4910165 ,  0.55520264])"
      ]
     },
     "execution_count": 42,
     "metadata": {},
     "output_type": "execute_result"
    }
   ],
   "source": [
    "logi.intercept_"
   ]
  },
  {
   "cell_type": "markdown",
   "id": "2187193b",
   "metadata": {},
   "source": [
    "- 현재의 로지스틱 다중분류에서 독립변수는 5개를 사용하기 때문에 coef_ 배열의 열은 5개임\n",
    "- 종속변수의 범주 수가 7개이기 때문에 coef_ 배열의 행과 intercept의 행은 7개임\n",
    "    - 즉, 로지스틱 다중분류는 각 클래스마다 z값을 계산함\n",
    "    - 이때 확률값은 각각의 z값을 합이 1이 되도록 압축하기 위해 소프트맥스 함수(softmax)를 사용"
   ]
  },
  {
   "cell_type": "markdown",
   "id": "a5e584cb",
   "metadata": {},
   "source": [
    "### 회귀식을 통한 확률값 계산"
   ]
  },
  {
   "cell_type": "code",
   "execution_count": 43,
   "id": "245b5adb",
   "metadata": {},
   "outputs": [
    {
     "data": {
      "text/plain": [
       "array([[ 2.9 ,  1.77,  0.34, -1.31,  0.97, -4.86,  0.19],\n",
       "       [ 0.92,  2.07,  0.29, -1.91,  1.16, -1.77, -0.75],\n",
       "       [ 3.1 ,  1.07,  0.73, -0.33,  0.84, -6.01,  0.61],\n",
       "       [-2.01,  0.84,  1.96, -1.69,  1.61,  0.26, -0.98],\n",
       "       [-2.33,  0.55,  2.13, -1.35,  1.65,  0.33, -0.98]])"
      ]
     },
     "execution_count": 43,
     "metadata": {},
     "output_type": "execute_result"
    }
   ],
   "source": [
    "decision_z = logi.decision_function(scaled_test[:5])\n",
    "np.round(decision_z, decimals = 2)"
   ]
  },
  {
   "cell_type": "code",
   "execution_count": 45,
   "id": "a712db59",
   "metadata": {},
   "outputs": [
    {
     "data": {
      "text/plain": [
       "array([[0.616, 0.197, 0.047, 0.009, 0.089, 0.   , 0.041],\n",
       "       [0.16 , 0.503, 0.085, 0.009, 0.202, 0.011, 0.03 ],\n",
       "       [0.693, 0.091, 0.064, 0.022, 0.072, 0.   , 0.057],\n",
       "       [0.008, 0.141, 0.433, 0.011, 0.305, 0.079, 0.023],\n",
       "       [0.006, 0.099, 0.482, 0.015, 0.297, 0.08 , 0.022]])"
      ]
     },
     "execution_count": 45,
     "metadata": {},
     "output_type": "execute_result"
    }
   ],
   "source": [
    "proba = softmax(decision_z, axis = 1)\n",
    "np.round(proba, decimals = 3)"
   ]
  },
  {
   "cell_type": "markdown",
   "id": "7d98e5cf",
   "metadata": {},
   "source": [
    "# 정리\n",
    "\n",
    "- 로지스틱 회귀는 선형 회귀처럼 선형 방정식을 사용\n",
    "- 방정식의 값을 0 ~ 1 사이로 압축\n",
    "    - 해당 값을 0 ~ 100% 사이의 확률로 이해할 수 있음\n",
    "    \n",
    "- 이진 분류\n",
    "    1. 하나의 선형 방정식을 훈련\n",
    "    2. 출력값을 시그모이드 함수에 통과시켜 0 ~ 1 사이의 값을 만듦\n",
    "    3. 2번의 출력값이 양성 클래스에 대한 확률\n",
    "    \n",
    "- 다중 분류\n",
    "    1. 클래스 개수만큼 방정식을 훈련\n",
    "    2. 각 방정식의 출력값을 소프트맥스 함수를 통과시켜 전체 클래스에 대한 합이 항상 1이 되도록 계산\n",
    "    3. 2번의 출력값이 각 클래스에 대한 확률값"
   ]
  },
  {
   "cell_type": "markdown",
   "id": "bde9089b",
   "metadata": {},
   "source": [
    "# ROC곡선(Receiver Operation Characteristic Curve)\n",
    "\n",
    "<img src = \"./image/roc.png\">"
   ]
  },
  {
   "cell_type": "markdown",
   "id": "6f49f342",
   "metadata": {},
   "source": [
    "- 수신자 판단 곡선\n",
    "- 머신러닝의 이진 분류 모델의 예측 성능을 판단하는 평가 지표\n",
    "- FPR(False Positive Rate)가 변할 때 TPR(True Positive Rate)의 변화를 나타낸 곡선\n",
    "    - TPR\n",
    "        - 재현율\n",
    "        - TP / (TP + FN)\n",
    "        - 실제 양성인 데이터 중 양성으로 예측된 비율\n",
    "        \n",
    "    - FPR\n",
    "        - 1 - 특이도\n",
    "        - FP / (FP + TN)\n",
    "        - 실제 음성인 데이터 중 양성으로 잘못 예측된 비율\n",
    "        \n",
    "- ROC 곡선의 가운데 직선은 ROC 곡선의 최저값\n",
    "    - 랜덤 수준의 이진 분류의 ROC 직선\n",
    "    - ROC 곡선이 직선에서 멀어질수록 성능이 뛰어난 것\n",
    "    \n",
    "- 분류 결정 임계값을 변경하여 FPR 을 0부터 1까지 변경하면서 TPR의 변화값을 구함\n",
    "    - 임계값을 1로 지정하면 FPR은 0이 됨\n",
    "        - 100% 확실한 경우에만 양성으로 예측한다면 실제 음성인 데이터를 양성으로 잘못 예측할 확률은 0\n",
    "        \n",
    "    - 임계값을 0으로 지정하면 FPR은 1이 됨\n",
    "        - 모든 데이터를 양성으로 예측한다면 실제 음성인 데이터를 양성으로 잘못 예측할 확률은 100%"
   ]
  }
 ],
 "metadata": {
  "kernelspec": {
   "display_name": "Python 3 (ipykernel)",
   "language": "python",
   "name": "python3"
  },
  "language_info": {
   "codemirror_mode": {
    "name": "ipython",
    "version": 3
   },
   "file_extension": ".py",
   "mimetype": "text/x-python",
   "name": "python",
   "nbconvert_exporter": "python",
   "pygments_lexer": "ipython3",
   "version": "3.11.5"
  }
 },
 "nbformat": 4,
 "nbformat_minor": 5
}
