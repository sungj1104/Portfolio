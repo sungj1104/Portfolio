{
 "cells": [
  {
   "cell_type": "markdown",
   "id": "dcbcaa7c",
   "metadata": {},
   "source": [
    "# 감성 분류\n",
    "\n",
    "- 분류 모델의 가장 대표적인 활용 방법 중 하나\n",
    "- 텍스트 데이터를 긍정 또는 부정으로 나누어 분류하는 것"
   ]
  },
  {
   "cell_type": "code",
   "execution_count": 1,
   "id": "17f55575",
   "metadata": {},
   "outputs": [],
   "source": [
    "import pandas as pd\n",
    "import numpy as np\n",
    "import matplotlib.pyplot as plt\n",
    "import seaborn as sns\n",
    "from selenium import webdriver\n",
    "from bs4 import BeautifulSoup\n",
    "import re\n",
    "import time\n",
    "from selenium.webdriver.common.by import By\n",
    "from selenium.webdriver.common.keys import Keys\n",
    "import requests\n",
    "from sklearn.feature_extraction.text import TfidfVectorizer\n",
    "from sklearn.model_selection import train_test_split\n",
    "from sklearn.linear_model import LogisticRegression\n",
    "from sklearn.metrics import accuracy_score, f1_score, confusion_matrix\n",
    "from konlpy.tag import Okt"
   ]
  },
  {
   "cell_type": "code",
   "execution_count": 2,
   "id": "55cc94b5",
   "metadata": {},
   "outputs": [],
   "source": [
    "okt = Okt()"
   ]
  },
  {
   "cell_type": "code",
   "execution_count": 3,
   "id": "f436c41d",
   "metadata": {},
   "outputs": [
    {
     "data": {
      "text/plain": [
       "['집', '에', '가고싶당']"
      ]
     },
     "execution_count": 3,
     "metadata": {},
     "output_type": "execute_result"
    }
   ],
   "source": [
    "okt.morphs(\"집에가고싶당\")"
   ]
  },
  {
   "cell_type": "markdown",
   "id": "ca1b852b",
   "metadata": {},
   "source": [
    "<img src = \"./image/형태소분석기비교_만.png\">"
   ]
  },
  {
   "cell_type": "markdown",
   "id": "b08dea46",
   "metadata": {},
   "source": [
    "# 맛집 상세페이지 url 정보 크롤링"
   ]
  },
  {
   "cell_type": "code",
   "execution_count": 4,
   "id": "78b49ad9",
   "metadata": {},
   "outputs": [],
   "source": [
    "# 크롤링할 주소\n",
    "url = \"https://map.kakao.com/\""
   ]
  },
  {
   "cell_type": "code",
   "execution_count": 7,
   "id": "de465628",
   "metadata": {},
   "outputs": [],
   "source": [
    "driver = webdriver.Chrome()\n",
    "\n",
    "# 카카오지도 접속\n",
    "driver.get(url)\n",
    "\n",
    "# 검색창에 검색어 입력\n",
    "searchbox = driver.find_element(By.CSS_SELECTOR, \"input.query\")\n",
    "searchbox.send_keys(\"신촌 맛집\")\n",
    "\n",
    "# 엔터 눌러서 결과 받아오기\n",
    "searchbox.send_keys(Keys.ENTER)\n",
    "\n",
    "# 검색 결과를 가져올 시간 대기\n",
    "time.sleep(1)\n",
    "\n",
    "# html 정보 파싱\n",
    "soup = BeautifulSoup(driver.page_source, \"lxml\")\n",
    "moreviews = soup.select(\"a.moreview\")\n",
    "\n",
    "# 크롤링할 페이지 리스트 생성\n",
    "page_urls = []\n",
    "\n",
    "for more in moreviews:\n",
    "    page = more.get(\"href\")\n",
    "    page_urls.append(page)\n",
    "    \n",
    "driver.close()"
   ]
  },
  {
   "cell_type": "code",
   "execution_count": 8,
   "id": "a27d6c56",
   "metadata": {},
   "outputs": [
    {
     "data": {
      "text/plain": [
       "['https://place.map.kakao.com/1165755646',\n",
       " 'https://place.map.kakao.com/15937430',\n",
       " 'https://place.map.kakao.com/27144649',\n",
       " 'https://place.map.kakao.com/1011256721',\n",
       " 'https://place.map.kakao.com/26976526',\n",
       " 'https://place.map.kakao.com/26522526',\n",
       " 'https://place.map.kakao.com/7892863',\n",
       " 'https://place.map.kakao.com/17505297',\n",
       " 'https://place.map.kakao.com/18826661',\n",
       " 'https://place.map.kakao.com/1705674698',\n",
       " 'https://place.map.kakao.com/15847929',\n",
       " 'https://place.map.kakao.com/10621045',\n",
       " 'https://place.map.kakao.com/1227036908',\n",
       " 'https://place.map.kakao.com/10386326',\n",
       " 'https://place.map.kakao.com/12502450']"
      ]
     },
     "execution_count": 8,
     "metadata": {},
     "output_type": "execute_result"
    }
   ],
   "source": [
    "page_urls"
   ]
  },
  {
   "cell_type": "markdown",
   "id": "c5ff1b03",
   "metadata": {},
   "source": [
    "# 상세페이지에서 리뷰 크롤링"
   ]
  },
  {
   "cell_type": "code",
   "execution_count": 15,
   "id": "bec8b33d",
   "metadata": {},
   "outputs": [],
   "source": [
    "res = requests.get(\"https://place.map.kakao.com/commentlist/v/1165755646/\")"
   ]
  },
  {
   "cell_type": "code",
   "execution_count": 16,
   "id": "0a1eb04a",
   "metadata": {},
   "outputs": [],
   "source": [
    "data = res.json()"
   ]
  },
  {
   "cell_type": "code",
   "execution_count": 23,
   "id": "428a8143",
   "metadata": {},
   "outputs": [
    {
     "data": {
      "text/plain": [
       "4"
      ]
     },
     "execution_count": 23,
     "metadata": {},
     "output_type": "execute_result"
    }
   ],
   "source": [
    "# 별점\n",
    "data[\"comment\"][\"list\"][0][\"point\"]"
   ]
  },
  {
   "cell_type": "code",
   "execution_count": 22,
   "id": "ef5f8564",
   "metadata": {},
   "outputs": [
    {
     "data": {
      "text/plain": [
       "'마늘바게트 맛있지만 너무 달아서 아쉬웠어요'"
      ]
     },
     "execution_count": 22,
     "metadata": {},
     "output_type": "execute_result"
    }
   ],
   "source": [
    "# 댓글\n",
    "data[\"comment\"][\"list\"][0][\"contents\"]"
   ]
  },
  {
   "cell_type": "code",
   "execution_count": 24,
   "id": "61d34a9e",
   "metadata": {},
   "outputs": [
    {
     "data": {
      "text/plain": [
       "5"
      ]
     },
     "execution_count": 24,
     "metadata": {},
     "output_type": "execute_result"
    }
   ],
   "source": [
    "len(data[\"comment\"][\"list\"])"
   ]
  },
  {
   "cell_type": "code",
   "execution_count": 26,
   "id": "03e6983b",
   "metadata": {},
   "outputs": [
    {
     "data": {
      "text/plain": [
       "'9744583'"
      ]
     },
     "execution_count": 26,
     "metadata": {},
     "output_type": "execute_result"
    }
   ],
   "source": [
    "data[\"comment\"][\"list\"][-1]['commentid']"
   ]
  },
  {
   "cell_type": "code",
   "execution_count": 30,
   "id": "79debdbf",
   "metadata": {},
   "outputs": [],
   "source": [
    "stars = []\n",
    "reviews = []\n",
    "\n",
    "# 댓글 정보 url\n",
    "base_url = \"https://place.map.kakao.com/commentlist/v/\"\n",
    "\n",
    "# 위에서 수집한 15개 가게에 대해서 수집\n",
    "for url in page_urls:\n",
    "    last_id = \"\"\n",
    "    \n",
    "    # 5번 더보기 수행\n",
    "    for _ in range(5):\n",
    "        res = requests.get(base_url + url[28:] + \"/\" + last_id)\n",
    "        data = res.json()\n",
    "        \n",
    "        # 별점, 리뷰 수집\n",
    "        for review in data[\"comment\"][\"list\"]:\n",
    "            stars.append(review[\"point\"])\n",
    "            reviews.append(review.get(\"contents\", \"\"))\n",
    "            \n",
    "        # 더보기 시에 사용할 마지막 id\n",
    "        last_id = review[\"commentid\"]\n",
    "        time.sleep(1)"
   ]
  },
  {
   "cell_type": "code",
   "execution_count": 32,
   "id": "5445f983",
   "metadata": {},
   "outputs": [
    {
     "data": {
      "text/plain": [
       "375"
      ]
     },
     "execution_count": 32,
     "metadata": {},
     "output_type": "execute_result"
    }
   ],
   "source": [
    "len(reviews)"
   ]
  },
  {
   "cell_type": "code",
   "execution_count": 34,
   "id": "c1f5209b",
   "metadata": {},
   "outputs": [],
   "source": [
    "df = pd.DataFrame({\"score\" : stars, \"review\" : reviews})"
   ]
  },
  {
   "cell_type": "code",
   "execution_count": 35,
   "id": "ea6b7b6d",
   "metadata": {},
   "outputs": [
    {
     "data": {
      "text/html": [
       "<div>\n",
       "<style scoped>\n",
       "    .dataframe tbody tr th:only-of-type {\n",
       "        vertical-align: middle;\n",
       "    }\n",
       "\n",
       "    .dataframe tbody tr th {\n",
       "        vertical-align: top;\n",
       "    }\n",
       "\n",
       "    .dataframe thead th {\n",
       "        text-align: right;\n",
       "    }\n",
       "</style>\n",
       "<table border=\"1\" class=\"dataframe\">\n",
       "  <thead>\n",
       "    <tr style=\"text-align: right;\">\n",
       "      <th></th>\n",
       "      <th>score</th>\n",
       "      <th>review</th>\n",
       "    </tr>\n",
       "  </thead>\n",
       "  <tbody>\n",
       "    <tr>\n",
       "      <th>0</th>\n",
       "      <td>4</td>\n",
       "      <td>마늘바게트 맛있지만 너무 달아서 아쉬웠어요</td>\n",
       "    </tr>\n",
       "    <tr>\n",
       "      <th>1</th>\n",
       "      <td>5</td>\n",
       "      <td>여기 밤식빵 진짜 밤 많이 들어가고 맛있는데 사진은 거의 마늘빵이네</td>\n",
       "    </tr>\n",
       "    <tr>\n",
       "      <th>2</th>\n",
       "      <td>5</td>\n",
       "      <td>마늘바게트 진짜 개ㅐ개ㅐㅐㅐ맛있어요 \\n저녁에 방문했는데도 마늘바게트는 충분했습니다...</td>\n",
       "    </tr>\n",
       "    <tr>\n",
       "      <th>3</th>\n",
       "      <td>5</td>\n",
       "      <td>현재 기준, 맛으로 종합 1위 인정합니다. 다만, 마늘 바게트가 다른 곳보다 맛있지...</td>\n",
       "    </tr>\n",
       "    <tr>\n",
       "      <th>4</th>\n",
       "      <td>5</td>\n",
       "      <td>맛있음 ㅜㅜ 오픈때가야 따듯하고 진짜 존맛</td>\n",
       "    </tr>\n",
       "  </tbody>\n",
       "</table>\n",
       "</div>"
      ],
      "text/plain": [
       "   score                                             review\n",
       "0      4                            마늘바게트 맛있지만 너무 달아서 아쉬웠어요\n",
       "1      5              여기 밤식빵 진짜 밤 많이 들어가고 맛있는데 사진은 거의 마늘빵이네\n",
       "2      5  마늘바게트 진짜 개ㅐ개ㅐㅐㅐ맛있어요 \\n저녁에 방문했는데도 마늘바게트는 충분했습니다...\n",
       "3      5  현재 기준, 맛으로 종합 1위 인정합니다. 다만, 마늘 바게트가 다른 곳보다 맛있지...\n",
       "4      5                            맛있음 ㅜㅜ 오픈때가야 따듯하고 진짜 존맛"
      ]
     },
     "execution_count": 35,
     "metadata": {},
     "output_type": "execute_result"
    }
   ],
   "source": [
    "df.head()"
   ]
  },
  {
   "cell_type": "code",
   "execution_count": 36,
   "id": "f03e7271",
   "metadata": {},
   "outputs": [
    {
     "data": {
      "text/plain": [
       "score\n",
       "5    153\n",
       "4     90\n",
       "3     56\n",
       "1     51\n",
       "2     25\n",
       "Name: count, dtype: int64"
      ]
     },
     "execution_count": 36,
     "metadata": {},
     "output_type": "execute_result"
    }
   ],
   "source": [
    "df[\"score\"].value_counts()"
   ]
  },
  {
   "cell_type": "code",
   "execution_count": 37,
   "id": "f50897e6",
   "metadata": {},
   "outputs": [],
   "source": [
    "# 4점 이상 리뷰는 긍정 리뷰, 3점 이하는 부정 리뷰로 평가\n",
    "df[\"y\"] = df[\"score\"].map(lambda x: 1 if x > 3 else 0)"
   ]
  },
  {
   "cell_type": "code",
   "execution_count": 39,
   "id": "b9778e25",
   "metadata": {},
   "outputs": [
    {
     "data": {
      "text/html": [
       "<div>\n",
       "<style scoped>\n",
       "    .dataframe tbody tr th:only-of-type {\n",
       "        vertical-align: middle;\n",
       "    }\n",
       "\n",
       "    .dataframe tbody tr th {\n",
       "        vertical-align: top;\n",
       "    }\n",
       "\n",
       "    .dataframe thead th {\n",
       "        text-align: right;\n",
       "    }\n",
       "</style>\n",
       "<table border=\"1\" class=\"dataframe\">\n",
       "  <thead>\n",
       "    <tr style=\"text-align: right;\">\n",
       "      <th></th>\n",
       "      <th>score</th>\n",
       "      <th>review</th>\n",
       "      <th>y</th>\n",
       "    </tr>\n",
       "  </thead>\n",
       "  <tbody>\n",
       "    <tr>\n",
       "      <th>0</th>\n",
       "      <td>4</td>\n",
       "      <td>마늘바게트 맛있지만 너무 달아서 아쉬웠어요</td>\n",
       "      <td>1</td>\n",
       "    </tr>\n",
       "    <tr>\n",
       "      <th>1</th>\n",
       "      <td>5</td>\n",
       "      <td>여기 밤식빵 진짜 밤 많이 들어가고 맛있는데 사진은 거의 마늘빵이네</td>\n",
       "      <td>1</td>\n",
       "    </tr>\n",
       "    <tr>\n",
       "      <th>2</th>\n",
       "      <td>5</td>\n",
       "      <td>마늘바게트 진짜 개ㅐ개ㅐㅐㅐ맛있어요 \\n저녁에 방문했는데도 마늘바게트는 충분했습니다...</td>\n",
       "      <td>1</td>\n",
       "    </tr>\n",
       "    <tr>\n",
       "      <th>3</th>\n",
       "      <td>5</td>\n",
       "      <td>현재 기준, 맛으로 종합 1위 인정합니다. 다만, 마늘 바게트가 다른 곳보다 맛있지...</td>\n",
       "      <td>1</td>\n",
       "    </tr>\n",
       "    <tr>\n",
       "      <th>4</th>\n",
       "      <td>5</td>\n",
       "      <td>맛있음 ㅜㅜ 오픈때가야 따듯하고 진짜 존맛</td>\n",
       "      <td>1</td>\n",
       "    </tr>\n",
       "    <tr>\n",
       "      <th>5</th>\n",
       "      <td>5</td>\n",
       "      <td></td>\n",
       "      <td>1</td>\n",
       "    </tr>\n",
       "    <tr>\n",
       "      <th>6</th>\n",
       "      <td>5</td>\n",
       "      <td>마늘바게트 이외에 다른빵도 다 맛나요!\\n강릉점이랑 맛도 똑같아용</td>\n",
       "      <td>1</td>\n",
       "    </tr>\n",
       "    <tr>\n",
       "      <th>7</th>\n",
       "      <td>3</td>\n",
       "      <td>마늘바게트 정말 달고 기름져서 한번에 많이는 못 먹을 거 같아요! 그래도 맛있습니다</td>\n",
       "      <td>0</td>\n",
       "    </tr>\n",
       "    <tr>\n",
       "      <th>8</th>\n",
       "      <td>5</td>\n",
       "      <td></td>\n",
       "      <td>1</td>\n",
       "    </tr>\n",
       "    <tr>\n",
       "      <th>9</th>\n",
       "      <td>5</td>\n",
       "      <td></td>\n",
       "      <td>1</td>\n",
       "    </tr>\n",
       "  </tbody>\n",
       "</table>\n",
       "</div>"
      ],
      "text/plain": [
       "   score                                             review  y\n",
       "0      4                            마늘바게트 맛있지만 너무 달아서 아쉬웠어요  1\n",
       "1      5              여기 밤식빵 진짜 밤 많이 들어가고 맛있는데 사진은 거의 마늘빵이네  1\n",
       "2      5  마늘바게트 진짜 개ㅐ개ㅐㅐㅐ맛있어요 \\n저녁에 방문했는데도 마늘바게트는 충분했습니다...  1\n",
       "3      5  현재 기준, 맛으로 종합 1위 인정합니다. 다만, 마늘 바게트가 다른 곳보다 맛있지...  1\n",
       "4      5                            맛있음 ㅜㅜ 오픈때가야 따듯하고 진짜 존맛  1\n",
       "5      5                                                     1\n",
       "6      5               마늘바게트 이외에 다른빵도 다 맛나요!\\n강릉점이랑 맛도 똑같아용  1\n",
       "7      3     마늘바게트 정말 달고 기름져서 한번에 많이는 못 먹을 거 같아요! 그래도 맛있습니다  0\n",
       "8      5                                                     1\n",
       "9      5                                                     1"
      ]
     },
     "execution_count": 39,
     "metadata": {},
     "output_type": "execute_result"
    }
   ],
   "source": [
    "df.head(10)"
   ]
  },
  {
   "cell_type": "code",
   "execution_count": 40,
   "id": "5993e5f1",
   "metadata": {},
   "outputs": [
    {
     "data": {
      "text/plain": [
       "y\n",
       "1    243\n",
       "0    132\n",
       "Name: count, dtype: int64"
      ]
     },
     "execution_count": 40,
     "metadata": {},
     "output_type": "execute_result"
    }
   ],
   "source": [
    "# 레이블값 비율 확인\n",
    "df[\"y\"].value_counts()"
   ]
  },
  {
   "cell_type": "markdown",
   "id": "36888b63",
   "metadata": {},
   "source": [
    "# 텍스트 전처리"
   ]
  },
  {
   "cell_type": "markdown",
   "id": "67c61fd8",
   "metadata": {},
   "source": [
    "## 한글 추출"
   ]
  },
  {
   "cell_type": "code",
   "execution_count": 48,
   "id": "054e8650",
   "metadata": {},
   "outputs": [],
   "source": [
    "def text_cleaning(text:str) -> str:\n",
    "    '''\n",
    "    텍스트 정제 함수.\n",
    "    한글 이외의 문자는 전부 제거.\n",
    "    '''\n",
    "    # 한글 이외의 문자들 추출\n",
    "    han = re.compile(\"[^ ㄱ-ㅣ가-힣]+\")\n",
    "    # 한글 이외의 문자들 제거\n",
    "    text = han.sub(\" \", text)\n",
    "    \n",
    "    return text"
   ]
  },
  {
   "cell_type": "code",
   "execution_count": 49,
   "id": "113cfac0",
   "metadata": {},
   "outputs": [
    {
     "data": {
      "text/plain": [
       "'테스트용 텍스트 정제 잘하고 있니     '"
      ]
     },
     "execution_count": 49,
     "metadata": {},
     "output_type": "execute_result"
    }
   ],
   "source": [
    "text_cleaning(\"테스트용 텍스트 정제 잘하고 있니?????help me 123457\")"
   ]
  },
  {
   "cell_type": "code",
   "execution_count": 50,
   "id": "0c365dfc",
   "metadata": {},
   "outputs": [],
   "source": [
    "df[\"ko_text\"] = df[\"review\"].map(text_cleaning)"
   ]
  },
  {
   "cell_type": "code",
   "execution_count": 51,
   "id": "0986a823",
   "metadata": {},
   "outputs": [
    {
     "data": {
      "text/html": [
       "<div>\n",
       "<style scoped>\n",
       "    .dataframe tbody tr th:only-of-type {\n",
       "        vertical-align: middle;\n",
       "    }\n",
       "\n",
       "    .dataframe tbody tr th {\n",
       "        vertical-align: top;\n",
       "    }\n",
       "\n",
       "    .dataframe thead th {\n",
       "        text-align: right;\n",
       "    }\n",
       "</style>\n",
       "<table border=\"1\" class=\"dataframe\">\n",
       "  <thead>\n",
       "    <tr style=\"text-align: right;\">\n",
       "      <th></th>\n",
       "      <th>score</th>\n",
       "      <th>review</th>\n",
       "      <th>y</th>\n",
       "      <th>ko_text</th>\n",
       "    </tr>\n",
       "  </thead>\n",
       "  <tbody>\n",
       "    <tr>\n",
       "      <th>0</th>\n",
       "      <td>4</td>\n",
       "      <td>마늘바게트 맛있지만 너무 달아서 아쉬웠어요</td>\n",
       "      <td>1</td>\n",
       "      <td>마늘바게트 맛있지만 너무 달아서 아쉬웠어요</td>\n",
       "    </tr>\n",
       "    <tr>\n",
       "      <th>1</th>\n",
       "      <td>5</td>\n",
       "      <td>여기 밤식빵 진짜 밤 많이 들어가고 맛있는데 사진은 거의 마늘빵이네</td>\n",
       "      <td>1</td>\n",
       "      <td>여기 밤식빵 진짜 밤 많이 들어가고 맛있는데 사진은 거의 마늘빵이네</td>\n",
       "    </tr>\n",
       "    <tr>\n",
       "      <th>2</th>\n",
       "      <td>5</td>\n",
       "      <td>마늘바게트 진짜 개ㅐ개ㅐㅐㅐ맛있어요 \\n저녁에 방문했는데도 마늘바게트는 충분했습니다...</td>\n",
       "      <td>1</td>\n",
       "      <td>마늘바게트 진짜 개ㅐ개ㅐㅐㅐ맛있어요  저녁에 방문했는데도 마늘바게트는 충분했습니다 ...</td>\n",
       "    </tr>\n",
       "    <tr>\n",
       "      <th>3</th>\n",
       "      <td>5</td>\n",
       "      <td>현재 기준, 맛으로 종합 1위 인정합니다. 다만, 마늘 바게트가 다른 곳보다 맛있지...</td>\n",
       "      <td>1</td>\n",
       "      <td>현재 기준  맛으로 종합  위 인정합니다  다만  마늘 바게트가 다른 곳보다 맛있지...</td>\n",
       "    </tr>\n",
       "    <tr>\n",
       "      <th>4</th>\n",
       "      <td>5</td>\n",
       "      <td>맛있음 ㅜㅜ 오픈때가야 따듯하고 진짜 존맛</td>\n",
       "      <td>1</td>\n",
       "      <td>맛있음 ㅜㅜ 오픈때가야 따듯하고 진짜 존맛</td>\n",
       "    </tr>\n",
       "  </tbody>\n",
       "</table>\n",
       "</div>"
      ],
      "text/plain": [
       "   score                                             review  y  \\\n",
       "0      4                            마늘바게트 맛있지만 너무 달아서 아쉬웠어요  1   \n",
       "1      5              여기 밤식빵 진짜 밤 많이 들어가고 맛있는데 사진은 거의 마늘빵이네  1   \n",
       "2      5  마늘바게트 진짜 개ㅐ개ㅐㅐㅐ맛있어요 \\n저녁에 방문했는데도 마늘바게트는 충분했습니다...  1   \n",
       "3      5  현재 기준, 맛으로 종합 1위 인정합니다. 다만, 마늘 바게트가 다른 곳보다 맛있지...  1   \n",
       "4      5                            맛있음 ㅜㅜ 오픈때가야 따듯하고 진짜 존맛  1   \n",
       "\n",
       "                                             ko_text  \n",
       "0                            마늘바게트 맛있지만 너무 달아서 아쉬웠어요  \n",
       "1              여기 밤식빵 진짜 밤 많이 들어가고 맛있는데 사진은 거의 마늘빵이네  \n",
       "2  마늘바게트 진짜 개ㅐ개ㅐㅐㅐ맛있어요  저녁에 방문했는데도 마늘바게트는 충분했습니다 ...  \n",
       "3  현재 기준  맛으로 종합  위 인정합니다  다만  마늘 바게트가 다른 곳보다 맛있지...  \n",
       "4                            맛있음 ㅜㅜ 오픈때가야 따듯하고 진짜 존맛  "
      ]
     },
     "execution_count": 51,
     "metadata": {},
     "output_type": "execute_result"
    }
   ],
   "source": [
    "df.head()"
   ]
  },
  {
   "cell_type": "code",
   "execution_count": 52,
   "id": "548a8728",
   "metadata": {},
   "outputs": [
    {
     "data": {
      "text/plain": [
       "(375, 4)"
      ]
     },
     "execution_count": 52,
     "metadata": {},
     "output_type": "execute_result"
    }
   ],
   "source": [
    "df.shape"
   ]
  },
  {
   "cell_type": "code",
   "execution_count": 53,
   "id": "1bf0a9ff",
   "metadata": {},
   "outputs": [],
   "source": [
    "# 내용이 없는 데이터 제거\n",
    "df= df[df[\"ko_text\"].str.len() > 0]"
   ]
  },
  {
   "cell_type": "code",
   "execution_count": 54,
   "id": "bf58fd46",
   "metadata": {},
   "outputs": [
    {
     "data": {
      "text/html": [
       "<div>\n",
       "<style scoped>\n",
       "    .dataframe tbody tr th:only-of-type {\n",
       "        vertical-align: middle;\n",
       "    }\n",
       "\n",
       "    .dataframe tbody tr th {\n",
       "        vertical-align: top;\n",
       "    }\n",
       "\n",
       "    .dataframe thead th {\n",
       "        text-align: right;\n",
       "    }\n",
       "</style>\n",
       "<table border=\"1\" class=\"dataframe\">\n",
       "  <thead>\n",
       "    <tr style=\"text-align: right;\">\n",
       "      <th></th>\n",
       "      <th>score</th>\n",
       "      <th>review</th>\n",
       "      <th>y</th>\n",
       "      <th>ko_text</th>\n",
       "    </tr>\n",
       "  </thead>\n",
       "  <tbody>\n",
       "    <tr>\n",
       "      <th>0</th>\n",
       "      <td>4</td>\n",
       "      <td>마늘바게트 맛있지만 너무 달아서 아쉬웠어요</td>\n",
       "      <td>1</td>\n",
       "      <td>마늘바게트 맛있지만 너무 달아서 아쉬웠어요</td>\n",
       "    </tr>\n",
       "    <tr>\n",
       "      <th>1</th>\n",
       "      <td>5</td>\n",
       "      <td>여기 밤식빵 진짜 밤 많이 들어가고 맛있는데 사진은 거의 마늘빵이네</td>\n",
       "      <td>1</td>\n",
       "      <td>여기 밤식빵 진짜 밤 많이 들어가고 맛있는데 사진은 거의 마늘빵이네</td>\n",
       "    </tr>\n",
       "    <tr>\n",
       "      <th>2</th>\n",
       "      <td>5</td>\n",
       "      <td>마늘바게트 진짜 개ㅐ개ㅐㅐㅐ맛있어요 \\n저녁에 방문했는데도 마늘바게트는 충분했습니다...</td>\n",
       "      <td>1</td>\n",
       "      <td>마늘바게트 진짜 개ㅐ개ㅐㅐㅐ맛있어요  저녁에 방문했는데도 마늘바게트는 충분했습니다 ...</td>\n",
       "    </tr>\n",
       "    <tr>\n",
       "      <th>3</th>\n",
       "      <td>5</td>\n",
       "      <td>현재 기준, 맛으로 종합 1위 인정합니다. 다만, 마늘 바게트가 다른 곳보다 맛있지...</td>\n",
       "      <td>1</td>\n",
       "      <td>현재 기준  맛으로 종합  위 인정합니다  다만  마늘 바게트가 다른 곳보다 맛있지...</td>\n",
       "    </tr>\n",
       "    <tr>\n",
       "      <th>4</th>\n",
       "      <td>5</td>\n",
       "      <td>맛있음 ㅜㅜ 오픈때가야 따듯하고 진짜 존맛</td>\n",
       "      <td>1</td>\n",
       "      <td>맛있음 ㅜㅜ 오픈때가야 따듯하고 진짜 존맛</td>\n",
       "    </tr>\n",
       "  </tbody>\n",
       "</table>\n",
       "</div>"
      ],
      "text/plain": [
       "   score                                             review  y  \\\n",
       "0      4                            마늘바게트 맛있지만 너무 달아서 아쉬웠어요  1   \n",
       "1      5              여기 밤식빵 진짜 밤 많이 들어가고 맛있는데 사진은 거의 마늘빵이네  1   \n",
       "2      5  마늘바게트 진짜 개ㅐ개ㅐㅐㅐ맛있어요 \\n저녁에 방문했는데도 마늘바게트는 충분했습니다...  1   \n",
       "3      5  현재 기준, 맛으로 종합 1위 인정합니다. 다만, 마늘 바게트가 다른 곳보다 맛있지...  1   \n",
       "4      5                            맛있음 ㅜㅜ 오픈때가야 따듯하고 진짜 존맛  1   \n",
       "\n",
       "                                             ko_text  \n",
       "0                            마늘바게트 맛있지만 너무 달아서 아쉬웠어요  \n",
       "1              여기 밤식빵 진짜 밤 많이 들어가고 맛있는데 사진은 거의 마늘빵이네  \n",
       "2  마늘바게트 진짜 개ㅐ개ㅐㅐㅐ맛있어요  저녁에 방문했는데도 마늘바게트는 충분했습니다 ...  \n",
       "3  현재 기준  맛으로 종합  위 인정합니다  다만  마늘 바게트가 다른 곳보다 맛있지...  \n",
       "4                            맛있음 ㅜㅜ 오픈때가야 따듯하고 진짜 존맛  "
      ]
     },
     "execution_count": 54,
     "metadata": {},
     "output_type": "execute_result"
    }
   ],
   "source": [
    "df.head()"
   ]
  },
  {
   "cell_type": "code",
   "execution_count": 55,
   "id": "0abbd669",
   "metadata": {},
   "outputs": [
    {
     "data": {
      "text/plain": [
       "(297, 4)"
      ]
     },
     "execution_count": 55,
     "metadata": {},
     "output_type": "execute_result"
    }
   ],
   "source": [
    "df.shape"
   ]
  },
  {
   "cell_type": "markdown",
   "id": "fee2db92",
   "metadata": {},
   "source": [
    "## 형태소 추출"
   ]
  },
  {
   "cell_type": "code",
   "execution_count": 56,
   "id": "e579c5c5",
   "metadata": {},
   "outputs": [],
   "source": [
    "def get_pos(x:str)->list:\n",
    "    '''\n",
    "    텍스트 데이터에서 형태소 추출하는 함수\n",
    "    '''\n",
    "    okt= Okt()\n",
    "    pos = okt.pos(x)\n",
    "    pos = [f\"{word}/{tag}\" for word, tag in pos]\n",
    "    \n",
    "    return pos"
   ]
  },
  {
   "cell_type": "code",
   "execution_count": 57,
   "id": "cd2d1dd9",
   "metadata": {},
   "outputs": [
    {
     "data": {
      "text/plain": [
       "[('집', 'Noun'), ('에', 'Josa'), ('가고', 'Verb'), ('싶다', 'Verb')]"
      ]
     },
     "execution_count": 57,
     "metadata": {},
     "output_type": "execute_result"
    }
   ],
   "source": [
    "# 테스트 1\n",
    "okt.pos(\"집에 가고 싶다\")"
   ]
  },
  {
   "cell_type": "code",
   "execution_count": 58,
   "id": "f8ffcc45",
   "metadata": {},
   "outputs": [
    {
     "data": {
      "text/plain": [
       "['마늘/Noun',\n",
       " '바게트/Noun',\n",
       " '맛있지만/Adjective',\n",
       " '너무/Adverb',\n",
       " '달아서/Verb',\n",
       " '아쉬웠어요/Adjective']"
      ]
     },
     "execution_count": 58,
     "metadata": {},
     "output_type": "execute_result"
    }
   ],
   "source": [
    "# 테스트 2\n",
    "result = get_pos(df[\"ko_text\"].values[0])\n",
    "result"
   ]
  },
  {
   "cell_type": "markdown",
   "id": "76d73060",
   "metadata": {},
   "source": [
    "## 텍스트 임베딩\n",
    "\n",
    "- 텍스트 데이터를 연산이 가능한 피처로 변환"
   ]
  },
  {
   "cell_type": "markdown",
   "id": "ecfaf575",
   "metadata": {},
   "source": [
    "### TF-IDF(Term Frequency-Inverse Document Frequency)\n",
    "\n",
    "- 단어의 빈도와 역문서 빈도를 사용하여 각 단어들의 중요도를 가중치로 주는 방법\n",
    "- TF : 1개의 문서 내에서 특정 단어의 등장 빈도\n",
    "- DF : 특정 단어가 등장한 문서 수\n",
    "- IDF : DF 에 반비례하는 수\n",
    "- 다른 문서들에서는 많이 등장하지 않았지만 현재 문서에서는 많이 등장하는 단어를 의미\n",
    "    - 해당 단어가 ㅎ ㅕㄴ재 문서에서 얼마나 중요한지를 계산하는 방법"
   ]
  },
  {
   "cell_type": "code",
   "execution_count": 59,
   "id": "c47e0566",
   "metadata": {},
   "outputs": [],
   "source": [
    "x = df[\"ko_text\"]\n",
    "y = df[\"y\"]"
   ]
  },
  {
   "cell_type": "code",
   "execution_count": 60,
   "id": "3219f5e9",
   "metadata": {},
   "outputs": [],
   "source": [
    "x_train, x_test, y_train, y_test = train_test_split(x, y, test_size = 0.3, random_state = 11)"
   ]
  },
  {
   "cell_type": "code",
   "execution_count": 62,
   "id": "66e47c72",
   "metadata": {},
   "outputs": [
    {
     "data": {
      "text/plain": [
       "207"
      ]
     },
     "execution_count": 62,
     "metadata": {},
     "output_type": "execute_result"
    }
   ],
   "source": [
    "len(x_train)"
   ]
  },
  {
   "cell_type": "code",
   "execution_count": 63,
   "id": "10206673",
   "metadata": {},
   "outputs": [],
   "source": [
    "tfidf = TfidfVectorizer()\n",
    "tf_train = tfidf.fit_transform(x_train)\n",
    "tf_test = tfidf.transform(x_test)"
   ]
  },
  {
   "cell_type": "code",
   "execution_count": 64,
   "id": "9c3dc68d",
   "metadata": {},
   "outputs": [
    {
     "data": {
      "text/plain": [
       "(207, 1958)"
      ]
     },
     "execution_count": 64,
     "metadata": {},
     "output_type": "execute_result"
    }
   ],
   "source": [
    "tf_train.shape"
   ]
  },
  {
   "cell_type": "code",
   "execution_count": 65,
   "id": "cf2b71d1",
   "metadata": {},
   "outputs": [
    {
     "data": {
      "text/plain": [
       "scipy.sparse._csr.csr_matrix"
      ]
     },
     "execution_count": 65,
     "metadata": {},
     "output_type": "execute_result"
    }
   ],
   "source": [
    "type(tf_train)"
   ]
  },
  {
   "cell_type": "code",
   "execution_count": 66,
   "id": "93f1a611",
   "metadata": {},
   "outputs": [
    {
     "data": {
      "text/plain": [
       "<207x1958 sparse matrix of type '<class 'numpy.float64'>'\n",
       "\twith 2622 stored elements in Compressed Sparse Row format>"
      ]
     },
     "execution_count": 66,
     "metadata": {},
     "output_type": "execute_result"
    }
   ],
   "source": [
    "tf_train"
   ]
  },
  {
   "cell_type": "code",
   "execution_count": 67,
   "id": "c3007170",
   "metadata": {},
   "outputs": [
    {
     "data": {
      "text/html": [
       "<div>\n",
       "<style scoped>\n",
       "    .dataframe tbody tr th:only-of-type {\n",
       "        vertical-align: middle;\n",
       "    }\n",
       "\n",
       "    .dataframe tbody tr th {\n",
       "        vertical-align: top;\n",
       "    }\n",
       "\n",
       "    .dataframe thead th {\n",
       "        text-align: right;\n",
       "    }\n",
       "</style>\n",
       "<table border=\"1\" class=\"dataframe\">\n",
       "  <thead>\n",
       "    <tr style=\"text-align: right;\">\n",
       "      <th></th>\n",
       "      <th>0</th>\n",
       "    </tr>\n",
       "  </thead>\n",
       "  <tbody>\n",
       "    <tr>\n",
       "      <th>0</th>\n",
       "      <td>(0, 1901)\\t0.16309887472276624\\n  (0, 1829)\\...</td>\n",
       "    </tr>\n",
       "    <tr>\n",
       "      <th>1</th>\n",
       "      <td>(0, 688)\\t0.18916594627701047\\n  (0, 1297)\\t...</td>\n",
       "    </tr>\n",
       "    <tr>\n",
       "      <th>2</th>\n",
       "      <td>(0, 1028)\\t0.45362392188471173\\n  (0, 246)\\t...</td>\n",
       "    </tr>\n",
       "    <tr>\n",
       "      <th>3</th>\n",
       "      <td>(0, 850)\\t1.0</td>\n",
       "    </tr>\n",
       "    <tr>\n",
       "      <th>4</th>\n",
       "      <td>(0, 1066)\\t0.22896267707609386\\n  (0, 650)\\t...</td>\n",
       "    </tr>\n",
       "    <tr>\n",
       "      <th>...</th>\n",
       "      <td>...</td>\n",
       "    </tr>\n",
       "    <tr>\n",
       "      <th>202</th>\n",
       "      <td>(0, 540)\\t0.4472135954999579\\n  (0, 1307)\\t0...</td>\n",
       "    </tr>\n",
       "    <tr>\n",
       "      <th>203</th>\n",
       "      <td>(0, 1629)\\t0.3717233818470871\\n  (0, 1821)\\t...</td>\n",
       "    </tr>\n",
       "    <tr>\n",
       "      <th>204</th>\n",
       "      <td>(0, 971)\\t0.17682047602423914\\n  (0, 675)\\t0...</td>\n",
       "    </tr>\n",
       "    <tr>\n",
       "      <th>205</th>\n",
       "      <td>(0, 1813)\\t0.7208689837258179\\n  (0, 603)\\t0...</td>\n",
       "    </tr>\n",
       "    <tr>\n",
       "      <th>206</th>\n",
       "      <td>(0, 1248)\\t0.41772910803605684\\n  (0, 760)\\t...</td>\n",
       "    </tr>\n",
       "  </tbody>\n",
       "</table>\n",
       "<p>207 rows × 1 columns</p>\n",
       "</div>"
      ],
      "text/plain": [
       "                                                     0\n",
       "0      (0, 1901)\\t0.16309887472276624\\n  (0, 1829)\\...\n",
       "1      (0, 688)\\t0.18916594627701047\\n  (0, 1297)\\t...\n",
       "2      (0, 1028)\\t0.45362392188471173\\n  (0, 246)\\t...\n",
       "3                                        (0, 850)\\t1.0\n",
       "4      (0, 1066)\\t0.22896267707609386\\n  (0, 650)\\t...\n",
       "..                                                 ...\n",
       "202    (0, 540)\\t0.4472135954999579\\n  (0, 1307)\\t0...\n",
       "203    (0, 1629)\\t0.3717233818470871\\n  (0, 1821)\\t...\n",
       "204    (0, 971)\\t0.17682047602423914\\n  (0, 675)\\t0...\n",
       "205    (0, 1813)\\t0.7208689837258179\\n  (0, 603)\\t0...\n",
       "206    (0, 1248)\\t0.41772910803605684\\n  (0, 760)\\t...\n",
       "\n",
       "[207 rows x 1 columns]"
      ]
     },
     "execution_count": 67,
     "metadata": {},
     "output_type": "execute_result"
    }
   ],
   "source": [
    "pd.DataFrame(tf_train)"
   ]
  },
  {
   "cell_type": "markdown",
   "id": "14507fbe",
   "metadata": {},
   "source": [
    "# 모델 훈련"
   ]
  },
  {
   "cell_type": "code",
   "execution_count": 68,
   "id": "40870085",
   "metadata": {},
   "outputs": [
    {
     "data": {
      "text/html": [
       "<style>#sk-container-id-1 {color: black;}#sk-container-id-1 pre{padding: 0;}#sk-container-id-1 div.sk-toggleable {background-color: white;}#sk-container-id-1 label.sk-toggleable__label {cursor: pointer;display: block;width: 100%;margin-bottom: 0;padding: 0.3em;box-sizing: border-box;text-align: center;}#sk-container-id-1 label.sk-toggleable__label-arrow:before {content: \"▸\";float: left;margin-right: 0.25em;color: #696969;}#sk-container-id-1 label.sk-toggleable__label-arrow:hover:before {color: black;}#sk-container-id-1 div.sk-estimator:hover label.sk-toggleable__label-arrow:before {color: black;}#sk-container-id-1 div.sk-toggleable__content {max-height: 0;max-width: 0;overflow: hidden;text-align: left;background-color: #f0f8ff;}#sk-container-id-1 div.sk-toggleable__content pre {margin: 0.2em;color: black;border-radius: 0.25em;background-color: #f0f8ff;}#sk-container-id-1 input.sk-toggleable__control:checked~div.sk-toggleable__content {max-height: 200px;max-width: 100%;overflow: auto;}#sk-container-id-1 input.sk-toggleable__control:checked~label.sk-toggleable__label-arrow:before {content: \"▾\";}#sk-container-id-1 div.sk-estimator input.sk-toggleable__control:checked~label.sk-toggleable__label {background-color: #d4ebff;}#sk-container-id-1 div.sk-label input.sk-toggleable__control:checked~label.sk-toggleable__label {background-color: #d4ebff;}#sk-container-id-1 input.sk-hidden--visually {border: 0;clip: rect(1px 1px 1px 1px);clip: rect(1px, 1px, 1px, 1px);height: 1px;margin: -1px;overflow: hidden;padding: 0;position: absolute;width: 1px;}#sk-container-id-1 div.sk-estimator {font-family: monospace;background-color: #f0f8ff;border: 1px dotted black;border-radius: 0.25em;box-sizing: border-box;margin-bottom: 0.5em;}#sk-container-id-1 div.sk-estimator:hover {background-color: #d4ebff;}#sk-container-id-1 div.sk-parallel-item::after {content: \"\";width: 100%;border-bottom: 1px solid gray;flex-grow: 1;}#sk-container-id-1 div.sk-label:hover label.sk-toggleable__label {background-color: #d4ebff;}#sk-container-id-1 div.sk-serial::before {content: \"\";position: absolute;border-left: 1px solid gray;box-sizing: border-box;top: 0;bottom: 0;left: 50%;z-index: 0;}#sk-container-id-1 div.sk-serial {display: flex;flex-direction: column;align-items: center;background-color: white;padding-right: 0.2em;padding-left: 0.2em;position: relative;}#sk-container-id-1 div.sk-item {position: relative;z-index: 1;}#sk-container-id-1 div.sk-parallel {display: flex;align-items: stretch;justify-content: center;background-color: white;position: relative;}#sk-container-id-1 div.sk-item::before, #sk-container-id-1 div.sk-parallel-item::before {content: \"\";position: absolute;border-left: 1px solid gray;box-sizing: border-box;top: 0;bottom: 0;left: 50%;z-index: -1;}#sk-container-id-1 div.sk-parallel-item {display: flex;flex-direction: column;z-index: 1;position: relative;background-color: white;}#sk-container-id-1 div.sk-parallel-item:first-child::after {align-self: flex-end;width: 50%;}#sk-container-id-1 div.sk-parallel-item:last-child::after {align-self: flex-start;width: 50%;}#sk-container-id-1 div.sk-parallel-item:only-child::after {width: 0;}#sk-container-id-1 div.sk-dashed-wrapped {border: 1px dashed gray;margin: 0 0.4em 0.5em 0.4em;box-sizing: border-box;padding-bottom: 0.4em;background-color: white;}#sk-container-id-1 div.sk-label label {font-family: monospace;font-weight: bold;display: inline-block;line-height: 1.2em;}#sk-container-id-1 div.sk-label-container {text-align: center;}#sk-container-id-1 div.sk-container {/* jupyter's `normalize.less` sets `[hidden] { display: none; }` but bootstrap.min.css set `[hidden] { display: none !important; }` so we also need the `!important` here to be able to override the default hidden behavior on the sphinx rendered scikit-learn.org. See: https://github.com/scikit-learn/scikit-learn/issues/21755 */display: inline-block !important;position: relative;}#sk-container-id-1 div.sk-text-repr-fallback {display: none;}</style><div id=\"sk-container-id-1\" class=\"sk-top-container\"><div class=\"sk-text-repr-fallback\"><pre>LogisticRegression()</pre><b>In a Jupyter environment, please rerun this cell to show the HTML representation or trust the notebook. <br />On GitHub, the HTML representation is unable to render, please try loading this page with nbviewer.org.</b></div><div class=\"sk-container\" hidden><div class=\"sk-item\"><div class=\"sk-estimator sk-toggleable\"><input class=\"sk-toggleable__control sk-hidden--visually\" id=\"sk-estimator-id-1\" type=\"checkbox\" checked><label for=\"sk-estimator-id-1\" class=\"sk-toggleable__label sk-toggleable__label-arrow\">LogisticRegression</label><div class=\"sk-toggleable__content\"><pre>LogisticRegression()</pre></div></div></div></div></div>"
      ],
      "text/plain": [
       "LogisticRegression()"
      ]
     },
     "execution_count": 68,
     "metadata": {},
     "output_type": "execute_result"
    }
   ],
   "source": [
    "logi = LogisticRegression()\n",
    "logi.fit(tf_train, y_train)"
   ]
  },
  {
   "cell_type": "code",
   "execution_count": 69,
   "id": "3b6d11f9",
   "metadata": {},
   "outputs": [],
   "source": [
    "pred = logi.predict(tf_test)\n",
    "proba = logi.predict_proba(tf_test)[:, 1]"
   ]
  },
  {
   "cell_type": "code",
   "execution_count": 70,
   "id": "2b432af2",
   "metadata": {},
   "outputs": [
    {
     "name": "stdout",
     "output_type": "stream",
     "text": [
      "0.6444444444444445\n",
      "0.7808219178082192\n"
     ]
    }
   ],
   "source": [
    "print(accuracy_score(y_test, pred))\n",
    "print(f1_score(y_test, pred))"
   ]
  },
  {
   "cell_type": "code",
   "execution_count": 71,
   "id": "3d3b5dd7",
   "metadata": {},
   "outputs": [
    {
     "name": "stdout",
     "output_type": "stream",
     "text": [
      "[[ 1 32]\n",
      " [ 0 57]]\n"
     ]
    }
   ],
   "source": [
    "comat = confusion_matrix(y_test, pred)\n",
    "print(comat)"
   ]
  },
  {
   "cell_type": "code",
   "execution_count": 73,
   "id": "2ad7dbe2",
   "metadata": {},
   "outputs": [
    {
     "data": {
      "text/html": [
       "<div>\n",
       "<style scoped>\n",
       "    .dataframe tbody tr th:only-of-type {\n",
       "        vertical-align: middle;\n",
       "    }\n",
       "\n",
       "    .dataframe tbody tr th {\n",
       "        vertical-align: top;\n",
       "    }\n",
       "\n",
       "    .dataframe thead th {\n",
       "        text-align: right;\n",
       "    }\n",
       "</style>\n",
       "<table border=\"1\" class=\"dataframe\">\n",
       "  <thead>\n",
       "    <tr style=\"text-align: right;\">\n",
       "      <th></th>\n",
       "      <th>text</th>\n",
       "      <th>pred</th>\n",
       "    </tr>\n",
       "  </thead>\n",
       "  <tbody>\n",
       "    <tr>\n",
       "      <th>325</th>\n",
       "      <td>우래옥 냉면 맛이 변해서 슬펐는데 여기로 갈아탑니다</td>\n",
       "      <td>1</td>\n",
       "    </tr>\n",
       "    <tr>\n",
       "      <th>282</th>\n",
       "      <td>간짜장 좋아요</td>\n",
       "      <td>1</td>\n",
       "    </tr>\n",
       "    <tr>\n",
       "      <th>92</th>\n",
       "      <td>많이 달지않고 숙숙 들어가요 하나만 시켜먹어봤는데 다른 파이도 먹어보고 싶어요</td>\n",
       "      <td>1</td>\n",
       "    </tr>\n",
       "    <tr>\n",
       "      <th>152</th>\n",
       "      <td>바퀴로 보이는 벌레</td>\n",
       "      <td>1</td>\n",
       "    </tr>\n",
       "    <tr>\n",
       "      <th>83</th>\n",
       "      <td>디저트 추천</td>\n",
       "      <td>1</td>\n",
       "    </tr>\n",
       "    <tr>\n",
       "      <th>...</th>\n",
       "      <td>...</td>\n",
       "      <td>...</td>\n",
       "    </tr>\n",
       "    <tr>\n",
       "      <th>24</th>\n",
       "      <td>나의  년  월  일 첫 먹방은 그간 너무너무너무 먹고 싶었던  만동제과 마늘바게트...</td>\n",
       "      <td>1</td>\n",
       "    </tr>\n",
       "    <tr>\n",
       "      <th>274</th>\n",
       "      <td>부추곱창  배바위양곱창 없을땐 자주 갔지만 이젠 굳이 위생 별로  강매 별로 밀건 ...</td>\n",
       "      <td>1</td>\n",
       "    </tr>\n",
       "    <tr>\n",
       "      <th>56</th>\n",
       "      <td>돈까스 고기는 괜찮아요  야채소스  미소국이 묽어서 맛이 안 남  물도 천원에  병...</td>\n",
       "      <td>1</td>\n",
       "    </tr>\n",
       "    <tr>\n",
       "      <th>272</th>\n",
       "      <td>여긴 막창이 진리</td>\n",
       "      <td>1</td>\n",
       "    </tr>\n",
       "    <tr>\n",
       "      <th>36</th>\n",
       "      <td>맛없음  불친절함  위생 더러움 그냥 여기는 절대 가지마세요 주변에 가격 비슷한...</td>\n",
       "      <td>1</td>\n",
       "    </tr>\n",
       "  </tbody>\n",
       "</table>\n",
       "<p>90 rows × 2 columns</p>\n",
       "</div>"
      ],
      "text/plain": [
       "                                                  text  pred\n",
       "325                       우래옥 냉면 맛이 변해서 슬펐는데 여기로 갈아탑니다     1\n",
       "282                                            간짜장 좋아요     1\n",
       "92         많이 달지않고 숙숙 들어가요 하나만 시켜먹어봤는데 다른 파이도 먹어보고 싶어요     1\n",
       "152                                         바퀴로 보이는 벌레     1\n",
       "83                                              디저트 추천     1\n",
       "..                                                 ...   ...\n",
       "24   나의  년  월  일 첫 먹방은 그간 너무너무너무 먹고 싶었던  만동제과 마늘바게트...     1\n",
       "274  부추곱창  배바위양곱창 없을땐 자주 갔지만 이젠 굳이 위생 별로  강매 별로 밀건 ...     1\n",
       "56   돈까스 고기는 괜찮아요  야채소스  미소국이 묽어서 맛이 안 남  물도 천원에  병...     1\n",
       "272                                          여긴 막창이 진리     1\n",
       "36     맛없음  불친절함  위생 더러움 그냥 여기는 절대 가지마세요 주변에 가격 비슷한...     1\n",
       "\n",
       "[90 rows x 2 columns]"
      ]
     },
     "execution_count": 73,
     "metadata": {},
     "output_type": "execute_result"
    }
   ],
   "source": [
    "pd.DataFrame({\"text\" : x_test, \"pred\" : pred})"
   ]
  },
  {
   "cell_type": "markdown",
   "id": "e268e876",
   "metadata": {},
   "source": [
    "# 모델 최적화"
   ]
  },
  {
   "cell_type": "code",
   "execution_count": 74,
   "id": "e07ed882",
   "metadata": {},
   "outputs": [
    {
     "data": {
      "text/plain": [
       "y\n",
       "1    186\n",
       "0    111\n",
       "Name: count, dtype: int64"
      ]
     },
     "execution_count": 74,
     "metadata": {},
     "output_type": "execute_result"
    }
   ],
   "source": [
    "# 1: 1 비율로 랜덤샘플링 수행\n",
    "df[\"y\"].value_counts()"
   ]
  },
  {
   "cell_type": "code",
   "execution_count": 75,
   "id": "f4a5bc41",
   "metadata": {},
   "outputs": [],
   "source": [
    "pos_idx = df[df[\"y\"] == 1].sample(111, random_state = 11).index.tolist()\n",
    "neg_idx = df[df[\"y\"] == 0].index.tolist()"
   ]
  },
  {
   "cell_type": "code",
   "execution_count": 76,
   "id": "3b872eb7",
   "metadata": {},
   "outputs": [
    {
     "data": {
      "text/plain": [
       "[0,\n",
       " 237,\n",
       " 238,\n",
       " 206,\n",
       " 155,\n",
       " 109,\n",
       " 92,\n",
       " 368,\n",
       " 361,\n",
       " 306,\n",
       " 21,\n",
       " 135,\n",
       " 3,\n",
       " 182,\n",
       " 261,\n",
       " 189,\n",
       " 76,\n",
       " 244,\n",
       " 111,\n",
       " 50,\n",
       " 91,\n",
       " 49,\n",
       " 231,\n",
       " 44,\n",
       " 197,\n",
       " 215,\n",
       " 163,\n",
       " 58,\n",
       " 337,\n",
       " 227,\n",
       " 96,\n",
       " 128,\n",
       " 16,\n",
       " 226,\n",
       " 113,\n",
       " 283,\n",
       " 285,\n",
       " 140,\n",
       " 359,\n",
       " 200,\n",
       " 289,\n",
       " 14,\n",
       " 131,\n",
       " 107,\n",
       " 129,\n",
       " 352,\n",
       " 240,\n",
       " 20,\n",
       " 59,\n",
       " 371,\n",
       " 246,\n",
       " 330,\n",
       " 108,\n",
       " 220,\n",
       " 2,\n",
       " 19,\n",
       " 175,\n",
       " 105,\n",
       " 233,\n",
       " 239,\n",
       " 192,\n",
       " 295,\n",
       " 344,\n",
       " 309,\n",
       " 202,\n",
       " 314,\n",
       " 234,\n",
       " 207,\n",
       " 323,\n",
       " 17,\n",
       " 249,\n",
       " 101,\n",
       " 132,\n",
       " 245,\n",
       " 349,\n",
       " 328,\n",
       " 6,\n",
       " 213,\n",
       " 181,\n",
       " 219,\n",
       " 120,\n",
       " 11,\n",
       " 325,\n",
       " 180,\n",
       " 340,\n",
       " 32,\n",
       " 73,\n",
       " 208,\n",
       " 329,\n",
       " 205,\n",
       " 130,\n",
       " 327,\n",
       " 331,\n",
       " 30,\n",
       " 179,\n",
       " 334,\n",
       " 134,\n",
       " 119,\n",
       " 362,\n",
       " 55,\n",
       " 4,\n",
       " 203,\n",
       " 61,\n",
       " 278,\n",
       " 89,\n",
       " 88,\n",
       " 221,\n",
       " 125,\n",
       " 353,\n",
       " 102,\n",
       " 178]"
      ]
     },
     "execution_count": 76,
     "metadata": {},
     "output_type": "execute_result"
    }
   ],
   "source": [
    "pos_idx"
   ]
  },
  {
   "cell_type": "code",
   "execution_count": 77,
   "id": "8e434c41",
   "metadata": {},
   "outputs": [],
   "source": [
    "random_idx = pos_idx + neg_idx\n",
    "sample_x = df[\"ko_text\"][random_idx]\n",
    "sample_y = df[\"y\"][random_idx]"
   ]
  },
  {
   "cell_type": "code",
   "execution_count": 79,
   "id": "cbebd131",
   "metadata": {},
   "outputs": [
    {
     "data": {
      "text/plain": [
       "(222, 222)"
      ]
     },
     "execution_count": 79,
     "metadata": {},
     "output_type": "execute_result"
    }
   ],
   "source": [
    "len(sample_x), len(sample_y)"
   ]
  },
  {
   "cell_type": "code",
   "execution_count": 80,
   "id": "64e30f75",
   "metadata": {},
   "outputs": [],
   "source": [
    "x_train, x_test, y_train, y_test = train_test_split(sample_x, sample_y, test_size = 0.3, stratify = sample_y, random_state = 11)"
   ]
  },
  {
   "cell_type": "code",
   "execution_count": 81,
   "id": "ce5e34e6",
   "metadata": {},
   "outputs": [],
   "source": [
    "tfidf = TfidfVectorizer()\n",
    "tf_train = tfidf.fit_transform(x_train)\n",
    "tf_test = tfidf.transform(x_test)"
   ]
  },
  {
   "cell_type": "code",
   "execution_count": 82,
   "id": "4f30b855",
   "metadata": {},
   "outputs": [
    {
     "data": {
      "text/html": [
       "<style>#sk-container-id-2 {color: black;}#sk-container-id-2 pre{padding: 0;}#sk-container-id-2 div.sk-toggleable {background-color: white;}#sk-container-id-2 label.sk-toggleable__label {cursor: pointer;display: block;width: 100%;margin-bottom: 0;padding: 0.3em;box-sizing: border-box;text-align: center;}#sk-container-id-2 label.sk-toggleable__label-arrow:before {content: \"▸\";float: left;margin-right: 0.25em;color: #696969;}#sk-container-id-2 label.sk-toggleable__label-arrow:hover:before {color: black;}#sk-container-id-2 div.sk-estimator:hover label.sk-toggleable__label-arrow:before {color: black;}#sk-container-id-2 div.sk-toggleable__content {max-height: 0;max-width: 0;overflow: hidden;text-align: left;background-color: #f0f8ff;}#sk-container-id-2 div.sk-toggleable__content pre {margin: 0.2em;color: black;border-radius: 0.25em;background-color: #f0f8ff;}#sk-container-id-2 input.sk-toggleable__control:checked~div.sk-toggleable__content {max-height: 200px;max-width: 100%;overflow: auto;}#sk-container-id-2 input.sk-toggleable__control:checked~label.sk-toggleable__label-arrow:before {content: \"▾\";}#sk-container-id-2 div.sk-estimator input.sk-toggleable__control:checked~label.sk-toggleable__label {background-color: #d4ebff;}#sk-container-id-2 div.sk-label input.sk-toggleable__control:checked~label.sk-toggleable__label {background-color: #d4ebff;}#sk-container-id-2 input.sk-hidden--visually {border: 0;clip: rect(1px 1px 1px 1px);clip: rect(1px, 1px, 1px, 1px);height: 1px;margin: -1px;overflow: hidden;padding: 0;position: absolute;width: 1px;}#sk-container-id-2 div.sk-estimator {font-family: monospace;background-color: #f0f8ff;border: 1px dotted black;border-radius: 0.25em;box-sizing: border-box;margin-bottom: 0.5em;}#sk-container-id-2 div.sk-estimator:hover {background-color: #d4ebff;}#sk-container-id-2 div.sk-parallel-item::after {content: \"\";width: 100%;border-bottom: 1px solid gray;flex-grow: 1;}#sk-container-id-2 div.sk-label:hover label.sk-toggleable__label {background-color: #d4ebff;}#sk-container-id-2 div.sk-serial::before {content: \"\";position: absolute;border-left: 1px solid gray;box-sizing: border-box;top: 0;bottom: 0;left: 50%;z-index: 0;}#sk-container-id-2 div.sk-serial {display: flex;flex-direction: column;align-items: center;background-color: white;padding-right: 0.2em;padding-left: 0.2em;position: relative;}#sk-container-id-2 div.sk-item {position: relative;z-index: 1;}#sk-container-id-2 div.sk-parallel {display: flex;align-items: stretch;justify-content: center;background-color: white;position: relative;}#sk-container-id-2 div.sk-item::before, #sk-container-id-2 div.sk-parallel-item::before {content: \"\";position: absolute;border-left: 1px solid gray;box-sizing: border-box;top: 0;bottom: 0;left: 50%;z-index: -1;}#sk-container-id-2 div.sk-parallel-item {display: flex;flex-direction: column;z-index: 1;position: relative;background-color: white;}#sk-container-id-2 div.sk-parallel-item:first-child::after {align-self: flex-end;width: 50%;}#sk-container-id-2 div.sk-parallel-item:last-child::after {align-self: flex-start;width: 50%;}#sk-container-id-2 div.sk-parallel-item:only-child::after {width: 0;}#sk-container-id-2 div.sk-dashed-wrapped {border: 1px dashed gray;margin: 0 0.4em 0.5em 0.4em;box-sizing: border-box;padding-bottom: 0.4em;background-color: white;}#sk-container-id-2 div.sk-label label {font-family: monospace;font-weight: bold;display: inline-block;line-height: 1.2em;}#sk-container-id-2 div.sk-label-container {text-align: center;}#sk-container-id-2 div.sk-container {/* jupyter's `normalize.less` sets `[hidden] { display: none; }` but bootstrap.min.css set `[hidden] { display: none !important; }` so we also need the `!important` here to be able to override the default hidden behavior on the sphinx rendered scikit-learn.org. See: https://github.com/scikit-learn/scikit-learn/issues/21755 */display: inline-block !important;position: relative;}#sk-container-id-2 div.sk-text-repr-fallback {display: none;}</style><div id=\"sk-container-id-2\" class=\"sk-top-container\"><div class=\"sk-text-repr-fallback\"><pre>LogisticRegression()</pre><b>In a Jupyter environment, please rerun this cell to show the HTML representation or trust the notebook. <br />On GitHub, the HTML representation is unable to render, please try loading this page with nbviewer.org.</b></div><div class=\"sk-container\" hidden><div class=\"sk-item\"><div class=\"sk-estimator sk-toggleable\"><input class=\"sk-toggleable__control sk-hidden--visually\" id=\"sk-estimator-id-2\" type=\"checkbox\" checked><label for=\"sk-estimator-id-2\" class=\"sk-toggleable__label sk-toggleable__label-arrow\">LogisticRegression</label><div class=\"sk-toggleable__content\"><pre>LogisticRegression()</pre></div></div></div></div></div>"
      ],
      "text/plain": [
       "LogisticRegression()"
      ]
     },
     "execution_count": 82,
     "metadata": {},
     "output_type": "execute_result"
    }
   ],
   "source": [
    "logi = LogisticRegression()\n",
    "logi.fit(tf_train, y_train)"
   ]
  },
  {
   "cell_type": "code",
   "execution_count": 83,
   "id": "d6790e97",
   "metadata": {},
   "outputs": [],
   "source": [
    "pred = logi.predict(tf_test)\n",
    "proba = logi.predict_proba(tf_test)[:, 1]"
   ]
  },
  {
   "cell_type": "code",
   "execution_count": 84,
   "id": "037d9657",
   "metadata": {},
   "outputs": [
    {
     "name": "stdout",
     "output_type": "stream",
     "text": [
      "0.6417910447761194\n",
      "0.5862068965517241\n"
     ]
    }
   ],
   "source": [
    "print(accuracy_score(y_test, pred))\n",
    "print(f1_score(y_test, pred))"
   ]
  },
  {
   "cell_type": "code",
   "execution_count": 86,
   "id": "5ff0db03",
   "metadata": {},
   "outputs": [
    {
     "name": "stdout",
     "output_type": "stream",
     "text": [
      "[[26  7]\n",
      " [17 17]]\n"
     ]
    }
   ],
   "source": [
    "comat = confusion_matrix(y_test, pred)\n",
    "print(comat)"
   ]
  },
  {
   "cell_type": "code",
   "execution_count": 87,
   "id": "75298afb",
   "metadata": {},
   "outputs": [
    {
     "data": {
      "text/html": [
       "<div>\n",
       "<style scoped>\n",
       "    .dataframe tbody tr th:only-of-type {\n",
       "        vertical-align: middle;\n",
       "    }\n",
       "\n",
       "    .dataframe tbody tr th {\n",
       "        vertical-align: top;\n",
       "    }\n",
       "\n",
       "    .dataframe thead th {\n",
       "        text-align: right;\n",
       "    }\n",
       "</style>\n",
       "<table border=\"1\" class=\"dataframe\">\n",
       "  <thead>\n",
       "    <tr style=\"text-align: right;\">\n",
       "      <th></th>\n",
       "      <th>text</th>\n",
       "      <th>pred</th>\n",
       "    </tr>\n",
       "  </thead>\n",
       "  <tbody>\n",
       "    <tr>\n",
       "      <th>274</th>\n",
       "      <td>부추곱창  배바위양곱창 없을땐 자주 갔지만 이젠 굳이 위생 별로  강매 별로 밀건 ...</td>\n",
       "      <td>0</td>\n",
       "    </tr>\n",
       "    <tr>\n",
       "      <th>266</th>\n",
       "      <td>대창 막창 보다는 곱창이 맛있어요 다만 토요일에는 볶음밥 주문 안된다고 하시는데 물...</td>\n",
       "      <td>1</td>\n",
       "    </tr>\n",
       "    <tr>\n",
       "      <th>200</th>\n",
       "      <td>음료 비싸지만 공부하기 조음</td>\n",
       "      <td>0</td>\n",
       "    </tr>\n",
       "    <tr>\n",
       "      <th>120</th>\n",
       "      <td>말모 존맛탱임 양은 조금 적은게 단점  메뉴가 딱 라구파스타 라자냐 두개지만 둘 다...</td>\n",
       "      <td>1</td>\n",
       "    </tr>\n",
       "    <tr>\n",
       "      <th>77</th>\n",
       "      <td>맛있어서 종종 사먹는데 사먹을 때마다 위생 장갑 낀 손으로 카드 받고 진동벨 주심 ...</td>\n",
       "      <td>0</td>\n",
       "    </tr>\n",
       "    <tr>\n",
       "      <th>...</th>\n",
       "      <td>...</td>\n",
       "      <td>...</td>\n",
       "    </tr>\n",
       "    <tr>\n",
       "      <th>32</th>\n",
       "      <td>갈비를 정말 맛있는 굽기로 구워주셔서 좋았던 가게입니다 고기의 질도 좋았고 전체적으...</td>\n",
       "      <td>0</td>\n",
       "    </tr>\n",
       "    <tr>\n",
       "      <th>298</th>\n",
       "      <td>와 가게 입구부터 너무 지저분해요  전체적으로  낡았는데 전혀 관리되지 않은 느낌입...</td>\n",
       "      <td>0</td>\n",
       "    </tr>\n",
       "    <tr>\n",
       "      <th>4</th>\n",
       "      <td>맛있음 ㅜㅜ 오픈때가야 따듯하고 진짜 존맛</td>\n",
       "      <td>1</td>\n",
       "    </tr>\n",
       "    <tr>\n",
       "      <th>264</th>\n",
       "      <td>유명하다길래 한번 가보고 두번은 안가는곳 지나갈때마다 손님들 많은거보면 신기함</td>\n",
       "      <td>1</td>\n",
       "    </tr>\n",
       "    <tr>\n",
       "      <th>89</th>\n",
       "      <td>파이가 맛있고 커피도 괜찮아요  주문하고 메뉴 나오는데 항상 오래걸리는 편이긴합니다...</td>\n",
       "      <td>1</td>\n",
       "    </tr>\n",
       "  </tbody>\n",
       "</table>\n",
       "<p>67 rows × 2 columns</p>\n",
       "</div>"
      ],
      "text/plain": [
       "                                                  text  pred\n",
       "274  부추곱창  배바위양곱창 없을땐 자주 갔지만 이젠 굳이 위생 별로  강매 별로 밀건 ...     0\n",
       "266  대창 막창 보다는 곱창이 맛있어요 다만 토요일에는 볶음밥 주문 안된다고 하시는데 물...     1\n",
       "200                                    음료 비싸지만 공부하기 조음     0\n",
       "120  말모 존맛탱임 양은 조금 적은게 단점  메뉴가 딱 라구파스타 라자냐 두개지만 둘 다...     1\n",
       "77   맛있어서 종종 사먹는데 사먹을 때마다 위생 장갑 낀 손으로 카드 받고 진동벨 주심 ...     0\n",
       "..                                                 ...   ...\n",
       "32   갈비를 정말 맛있는 굽기로 구워주셔서 좋았던 가게입니다 고기의 질도 좋았고 전체적으...     0\n",
       "298  와 가게 입구부터 너무 지저분해요  전체적으로  낡았는데 전혀 관리되지 않은 느낌입...     0\n",
       "4                              맛있음 ㅜㅜ 오픈때가야 따듯하고 진짜 존맛     1\n",
       "264        유명하다길래 한번 가보고 두번은 안가는곳 지나갈때마다 손님들 많은거보면 신기함     1\n",
       "89   파이가 맛있고 커피도 괜찮아요  주문하고 메뉴 나오는데 항상 오래걸리는 편이긴합니다...     1\n",
       "\n",
       "[67 rows x 2 columns]"
      ]
     },
     "execution_count": 87,
     "metadata": {},
     "output_type": "execute_result"
    }
   ],
   "source": [
    "pd.DataFrame({\"text\" : x_test, \"pred\" : pred})"
   ]
  },
  {
   "cell_type": "code",
   "execution_count": 88,
   "id": "f0e53cc6",
   "metadata": {},
   "outputs": [
    {
     "data": {
      "text/plain": [
       "array([0], dtype=int64)"
      ]
     },
     "execution_count": 88,
     "metadata": {},
     "output_type": "execute_result"
    }
   ],
   "source": [
    "# 테스트\n",
    "query = tfidf.transform([\"잘도 그러겠다\"])\n",
    "logi.predict(query)"
   ]
  },
  {
   "cell_type": "markdown",
   "id": "bf22a7c3",
   "metadata": {},
   "source": [
    "# 키워드 분석\n",
    "\n",
    "- 로지스틱 회귀 모델의 피처 영향력으로 가장 높은 영향력을 가지고 있는 단어 찾기"
   ]
  },
  {
   "cell_type": "code",
   "execution_count": 89,
   "id": "b676abfe",
   "metadata": {},
   "outputs": [
    {
     "data": {
      "image/png": "[encoded data removed]",
      "text/plain": [
       "<Figure size 640x480 with 1 Axes>"
      ]
     },
     "metadata": {},
     "output_type": "display_data"
    }
   ],
   "source": [
    "plt.figure()\n",
    "\n",
    "plt.bar(range(len(logi.coef_.flatten())), logi.coef_.flatten())\n",
    "plt.show()"
   ]
  },
  {
   "cell_type": "code",
   "execution_count": 90,
   "id": "c2ce7948",
   "metadata": {},
   "outputs": [],
   "source": [
    "# 회귀 모델의 계수를 내림차순으로 정렬\n",
    "coef_pos_idx = sorted(((value, idx) for idx, value in enumerate(logi.coef_.flatten())), reverse = True)"
   ]
  },
  {
   "cell_type": "code",
   "execution_count": 91,
   "id": "c09c1026",
   "metadata": {},
   "outputs": [
    {
     "data": {
      "text/plain": [
       "[(0.7069500358114165, 559),\n",
       " (0.6809644567556515, 568),\n",
       " (0.6542403688277959, 121),\n",
       " (0.5451486296192531, 472),\n",
       " (0.5137650612329135, 326),\n",
       " (0.45807126991140434, 551),\n",
       " (0.40477564934621235, 1610),\n",
       " (0.40477564934621235, 374),\n",
       " (0.39590978772570357, 1145),\n",
       " (0.35439599471037353, 785),\n",
       " (0.3518208635068558, 894),\n",
       " (0.34884970964825923, 56),\n",
       " (0.33615437398181164, 1005),\n",
       " (0.31894133032564187, 42),\n",
       " (0.3185743012292921, 950),\n",
       " (0.3147132535411382, 134),\n",
       " (0.31390506580843475, 564),\n",
       " (0.2998486331987755, 1487),\n",
       " (0.29975920508911036, 1611),\n",
       " (0.2942739882414141, 569),\n",
       " (0.2912900495185383, 1475),\n",
       " (0.2910444538956544, 491),\n",
       " (0.2898110903057218, 443),\n",
       " (0.28939354269103307, 1528),\n",
       " (0.28621960651189493, 1722),\n",
       " (0.28621960651189493, 1606),\n",
       " (0.28621960651189493, 1411),\n",
       " (0.28621960651189493, 1285),\n",
       " (0.28621960651189493, 768),\n",
       " (0.28621960651189493, 672),\n",
       " (0.28621960651189493, 392),\n",
       " (0.28621960651189493, 265),\n",
       " (0.28414646346674055, 307),\n",
       " (0.2831640195139374, 556),\n",
       " (0.28233346680649846, 1474),\n",
       " (0.2783801635246411, 375),\n",
       " (0.27159240855172967, 1290),\n",
       " (0.26540436344939866, 73),\n",
       " (0.264747354196682, 905),\n",
       " (0.2594012108206835, 608),\n",
       " (0.25672172242511726, 40),\n",
       " (0.2556437001569492, 1409),\n",
       " (0.2539381205647502, 1798),\n",
       " (0.2527368755395616, 1274),\n",
       " (0.2527368755395616, 1235),\n",
       " (0.24819316960604956, 1493),\n",
       " (0.24456328198892632, 44),\n",
       " (0.24416766633379536, 596),\n",
       " (0.24183952154637697, 330),\n",
       " (0.24050868433273492, 550),\n",
       " (0.2342578021125187, 236),\n",
       " (0.23381314797672498, 1061),\n",
       " (0.23081494480785725, 518),\n",
       " (0.22146298278778792, 1017),\n",
       " (0.2152094730842183, 959),\n",
       " (0.2152094730842183, 718),\n",
       " (0.2149755938669753, 1216),\n",
       " (0.2149755938669753, 799),\n",
       " (0.2146300192370965, 1614),\n",
       " (0.21415951997611357, 726),\n",
       " (0.21301479114827881, 468),\n",
       " (0.21135381963818436, 1661),\n",
       " (0.21135381963818436, 1101),\n",
       " (0.2109114015087762, 1468),\n",
       " (0.21064067055728886, 485),\n",
       " (0.21014051601921482, 830),\n",
       " (0.20789628919067313, 572),\n",
       " (0.20321215542526583, 841),\n",
       " (0.20237834219003156, 1747),\n",
       " (0.20237834219003156, 1421),\n",
       " (0.20013880199940076, 1517),\n",
       " (0.20013880199940076, 539),\n",
       " (0.19788764294323186, 1406),\n",
       " (0.1919230781667015, 1375),\n",
       " (0.19100450477112765, 1218),\n",
       " (0.19100450477112765, 538),\n",
       " (0.18691170630916917, 1725),\n",
       " (0.18691170630916917, 1323),\n",
       " (0.18691170630916917, 494),\n",
       " (0.18564308154746778, 1238),\n",
       " (0.18564308154746778, 1237),\n",
       " (0.18564308154746778, 125),\n",
       " (0.18069929419759198, 1767),\n",
       " (0.18069929419759198, 1232),\n",
       " (0.18069929419759198, 999),\n",
       " (0.1803077088801486, 1264),\n",
       " (0.17741986999655746, 1383),\n",
       " (0.17741986999655746, 1194),\n",
       " (0.17741986999655746, 496),\n",
       " (0.17611418635976342, 1200),\n",
       " (0.17611418635976342, 1168),\n",
       " (0.17611418635976342, 708),\n",
       " (0.17259224179306426, 648),\n",
       " (0.17032568279657204, 865),\n",
       " (0.16885786982499518, 1717),\n",
       " (0.16885786982499518, 1658),\n",
       " (0.16885786982499518, 1405),\n",
       " (0.1683796589378181, 601),\n",
       " (0.16780430214311512, 1248),\n",
       " (0.16780430214311512, 1193),\n",
       " (0.16780430214311512, 965),\n",
       " (0.16780430214311512, 741),\n",
       " (0.16780430214311512, 64),\n",
       " (0.16533348778038043, 359),\n",
       " (0.1633094491344512, 1491),\n",
       " (0.1633094491344512, 1283),\n",
       " (0.1633094491344512, 519),\n",
       " (0.1633094491344512, 337),\n",
       " (0.16147967401446925, 1736),\n",
       " (0.16147967401446925, 682),\n",
       " (0.16147967401446925, 645),\n",
       " (0.16147967401446925, 528),\n",
       " (0.16147967401446925, 489),\n",
       " (0.16147967401446925, 390),\n",
       " (0.16069801570440076, 1364),\n",
       " (0.1596730660428415, 1324),\n",
       " (0.1596730660428415, 535),\n",
       " (0.1596730660428415, 460),\n",
       " (0.1596730660428415, 329),\n",
       " (0.1596730660428415, 71),\n",
       " (0.15730365471820631, 1557),\n",
       " (0.15730365471820631, 895),\n",
       " (0.1567056202744631, 1773),\n",
       " (0.1567056202744631, 1638),\n",
       " (0.1567056202744631, 204),\n",
       " (0.15443347205905678, 1498),\n",
       " (0.15299081499210893, 1616),\n",
       " (0.15299081499210893, 1601),\n",
       " (0.15299081499210893, 1523),\n",
       " (0.15299081499210893, 854),\n",
       " (0.15299081499210893, 745),\n",
       " (0.15299081499210893, 490),\n",
       " (0.15299081499210893, 488),\n",
       " (0.15000863323152877, 910),\n",
       " (0.1494132082115222, 1818),\n",
       " (0.1494132082115222, 1386),\n",
       " (0.1494132082115222, 553),\n",
       " (0.1494132082115222, 295),\n",
       " (0.14924311101492038, 606),\n",
       " (0.14848507504222963, 1631),\n",
       " (0.1468927795086606, 1655),\n",
       " (0.1468927795086606, 1589),\n",
       " (0.1468927795086606, 1486),\n",
       " (0.1468927795086606, 1484),\n",
       " (0.1468927795086606, 1022),\n",
       " (0.1468927795086606, 552),\n",
       " (0.14493681852192677, 783),\n",
       " (0.14300383400926578, 1521),\n",
       " (0.14208331659413234, 1684),\n",
       " (0.14208331659413234, 1253),\n",
       " (0.14208331659413234, 1224),\n",
       " (0.14208331659413234, 693),\n",
       " (0.14208331659413234, 563),\n",
       " (0.14208331659413234, 151),\n",
       " (0.14208331659413234, 123),\n",
       " (0.14089155022372288, 884),\n",
       " (0.14089155022372288, 671),\n",
       " (0.14089155022372288, 420),\n",
       " (0.14089155022372288, 389),\n",
       " (0.1380824302893789, 1492),\n",
       " (0.13767325215113974, 1462),\n",
       " (0.13767325215113974, 1319),\n",
       " (0.13767325215113974, 1136),\n",
       " (0.13767325215113974, 1109),\n",
       " (0.13767325215113974, 833),\n",
       " (0.13767325215113974, 448),\n",
       " (0.13566052027308048, 1602),\n",
       " (0.13566052027308048, 1122),\n",
       " (0.13566052027308048, 1008),\n",
       " (0.13566052027308048, 678),\n",
       " (0.13566052027308048, 630),\n",
       " (0.13566052027308048, 391),\n",
       " (0.13534313324872035, 1490),\n",
       " (0.13534313324872035, 1418),\n",
       " (0.13534313324872035, 1368),\n",
       " (0.13534313324872035, 991),\n",
       " (0.13534313324872035, 313),\n",
       " (0.13534313324872035, 274),\n",
       " (0.13534313324872035, 43),\n",
       " (0.13024028863099898, 1618),\n",
       " (0.13024028863099898, 1028),\n",
       " (0.13024028863099898, 952),\n",
       " (0.13024028863099898, 510),\n",
       " (0.13024028863099898, 244),\n",
       " (0.13024028863099898, 223),\n",
       " (0.13024028863099898, 217),\n",
       " (0.13024028863099898, 213),\n",
       " (0.12935952791601343, 1772),\n",
       " (0.12935952791601343, 700),\n",
       " (0.12913179547975165, 1472),\n",
       " (0.12913179547975165, 498),\n",
       " (0.12913179547975165, 227),\n",
       " (0.12913179547975165, 138),\n",
       " (0.12648968705823832, 1706),\n",
       " (0.12648968705823832, 976),\n",
       " (0.12648968705823832, 955),\n",
       " (0.12648968705823832, 430),\n",
       " (0.12648968705823832, 353),\n",
       " (0.12639346579396551, 116),\n",
       " (0.1258945059552778, 179),\n",
       " (0.12426490571928955, 1656),\n",
       " (0.12426490571928955, 836),\n",
       " (0.12426490571928955, 560),\n",
       " (0.12426490571928955, 483),\n",
       " (0.12426490571928955, 478),\n",
       " (0.12426490571928955, 86),\n",
       " (0.12235839816508824, 1306),\n",
       " (0.12235839816508824, 1074),\n",
       " (0.12235839816508824, 840),\n",
       " (0.12235839816508824, 725),\n",
       " (0.12235839816508824, 637),\n",
       " (0.12235839816508824, 610),\n",
       " (0.12235839816508824, 82),\n",
       " (0.121440833076635, 1067),\n",
       " (0.12046962395965595, 100),\n",
       " (0.11861666014812591, 1742),\n",
       " (0.11861666014812591, 1622),\n",
       " (0.11861666014812591, 1449),\n",
       " (0.11861666014812591, 1339),\n",
       " (0.11861666014812591, 1144),\n",
       " (0.11861666014812591, 407),\n",
       " (0.11861666014812591, 84),\n",
       " (0.11861666014812591, 26),\n",
       " (0.11748876914858261, 1639),\n",
       " (0.11748876914858261, 647),\n",
       " (0.11748876914858261, 476),\n",
       " (0.11748876914858261, 239),\n",
       " (0.11564809853770168, 351),\n",
       " (0.11310924648491534, 1617),\n",
       " (0.11310924648491534, 1460),\n",
       " (0.11310924648491534, 1413),\n",
       " (0.11310924648491534, 1121),\n",
       " (0.11310924648491534, 843),\n",
       " (0.11310924648491534, 727),\n",
       " (0.11310924648491534, 585),\n",
       " (0.11310924648491534, 492),\n",
       " (0.11310924648491534, 83),\n",
       " (0.11305268911985693, 527),\n",
       " (0.11298199479404039, 1497),\n",
       " (0.1121507284762618, 523),\n",
       " (0.11135822408134019, 1806),\n",
       " (0.11135822408134019, 1279),\n",
       " (0.11135822408134019, 1263),\n",
       " (0.11135822408134019, 936),\n",
       " (0.11135822408134019, 828),\n",
       " (0.11135822408134019, 772),\n",
       " (0.11135822408134019, 594),\n",
       " (0.11135822408134019, 433),\n",
       " (0.11135822408134019, 319),\n",
       " (0.11135822408134019, 185),\n",
       " (0.11135822408134019, 168),\n",
       " (0.10871556741678702, 1424),\n",
       " (0.10743247299595839, 1807),\n",
       " (0.10743247299595839, 1624),\n",
       " (0.10743247299595839, 1578),\n",
       " (0.10743247299595839, 1555),\n",
       " (0.10743247299595839, 1529),\n",
       " (0.10743247299595839, 1467),\n",
       " (0.10743247299595839, 558),\n",
       " (0.10743247299595839, 438),\n",
       " (0.10743247299595839, 29),\n",
       " (0.1062593819668763, 1006),\n",
       " (0.10587738332491445, 1654),\n",
       " (0.10536145976984039, 1744),\n",
       " (0.10493851872199624, 1363),\n",
       " (0.10493851872199624, 1305),\n",
       " (0.10493851872199624, 1226),\n",
       " (0.10493851872199624, 846),\n",
       " (0.10493851872199624, 681),\n",
       " (0.10493851872199624, 617),\n",
       " (0.10493851872199624, 536),\n",
       " (0.10493851872199624, 466),\n",
       " (0.10493851872199624, 413),\n",
       " (0.10493851872199624, 176),\n",
       " (0.10291355146884111, 1826),\n",
       " (0.10291355146884111, 1272),\n",
       " (0.10291355146884111, 1191),\n",
       " (0.10291355146884111, 1161),\n",
       " (0.10291355146884111, 1110),\n",
       " (0.10291355146884111, 850),\n",
       " (0.10291355146884111, 804),\n",
       " (0.10291355146884111, 694),\n",
       " (0.10291355146884111, 264),\n",
       " (0.10291355146884111, 197),\n",
       " (0.10291355146884111, 129),\n",
       " (0.10291355146884111, 39),\n",
       " (0.10241617661367539, 1780),\n",
       " (0.10241617661367539, 1465),\n",
       " (0.10241617661367539, 1422),\n",
       " (0.10241617661367539, 1097),\n",
       " (0.10241617661367539, 1090),\n",
       " (0.10241617661367539, 1000),\n",
       " (0.10241617661367539, 649),\n",
       " (0.10241617661367539, 595),\n",
       " (0.10241617661367539, 588),\n",
       " (0.10241617661367539, 294),\n",
       " (0.10241617661367539, 99),\n",
       " (0.10240050716871643, 1733),\n",
       " (0.10240050716871643, 1729),\n",
       " (0.10240050716871643, 1284),\n",
       " (0.10240050716871643, 1059),\n",
       " (0.10240050716871643, 1030),\n",
       " (0.10240050716871643, 925),\n",
       " (0.10240050716871643, 902),\n",
       " (0.10240050716871643, 755),\n",
       " (0.10240050716871643, 654),\n",
       " (0.10107803817797589, 810),\n",
       " (0.10073436680299852, 1483),\n",
       " (0.09875856972273583, 1727),\n",
       " (0.09875856972273583, 1726),\n",
       " (0.09875856972273583, 1259),\n",
       " (0.09875856972273583, 1255),\n",
       " (0.09875856972273583, 900),\n",
       " (0.09875856972273583, 880),\n",
       " (0.09875856972273583, 867),\n",
       " (0.09875856972273583, 547),\n",
       " (0.09875856972273583, 511),\n",
       " (0.09875856972273583, 28),\n",
       " (0.09761331135463339, 1828),\n",
       " (0.09761331135463339, 1701),\n",
       " (0.09761331135463339, 1179),\n",
       " (0.09761331135463339, 1026),\n",
       " (0.09761331135463339, 893),\n",
       " (0.09761331135463339, 778),\n",
       " (0.09761331135463339, 740),\n",
       " (0.09761331135463339, 616),\n",
       " (0.09761331135463339, 474),\n",
       " (0.09761331135463339, 90),\n",
       " (0.09761331135463339, 76),\n",
       " (0.09761331135463339, 9),\n",
       " (0.09542342519439644, 1777),\n",
       " (0.09542342519439644, 1715),\n",
       " (0.09542342519439644, 1583),\n",
       " (0.09542342519439644, 1385),\n",
       " (0.09542342519439644, 1217),\n",
       " (0.09542342519439644, 956),\n",
       " (0.09542342519439644, 852),\n",
       " (0.09542342519439644, 477),\n",
       " (0.09542342519439644, 198),\n",
       " (0.09542342519439644, 152),\n",
       " (0.09542342519439644, 150),\n",
       " (0.09453886522686829, 914),\n",
       " (0.09258544059445047, 1812),\n",
       " (0.09258544059445047, 1745),\n",
       " (0.09258544059445047, 1361),\n",
       " (0.09258544059445047, 1357),\n",
       " (0.09258544059445047, 1269),\n",
       " (0.09258544059445047, 1115),\n",
       " (0.09258544059445047, 807),\n",
       " (0.09258544059445047, 651),\n",
       " (0.09258544059445047, 619),\n",
       " (0.09258544059445047, 444),\n",
       " (0.09258544059445047, 395),\n",
       " (0.09258544059445047, 332),\n",
       " (0.09258544059445047, 222),\n",
       " (0.09258544059445047, 72),\n",
       " (0.09220618961335789, 1811),\n",
       " (0.09220618961335789, 1794),\n",
       " (0.09220618961335789, 1759),\n",
       " (0.09220618961335789, 1714),\n",
       " (0.09220618961335789, 1560),\n",
       " (0.09220618961335789, 1554),\n",
       " (0.09220618961335789, 1371),\n",
       " (0.09220618961335789, 1358),\n",
       " (0.09220618961335789, 1281),\n",
       " (0.09220618961335789, 586),\n",
       " (0.09220618961335789, 363),\n",
       " (0.09220618961335789, 160),\n",
       " (0.09220618961335789, 136),\n",
       " (0.09168873195232709, 1830),\n",
       " (0.09168873195232709, 1716),\n",
       " (0.09168873195232709, 1579),\n",
       " (0.09168873195232709, 1525),\n",
       " (0.09168873195232709, 1524),\n",
       " (0.09168873195232709, 1188),\n",
       " (0.09168873195232709, 763),\n",
       " (0.09168873195232709, 720),\n",
       " (0.09168873195232709, 532),\n",
       " (0.09168873195232709, 450),\n",
       " (0.09168873195232709, 30),\n",
       " (0.08910062895446551, 451),\n",
       " (0.08902329968716956, 1668),\n",
       " (0.08902329968716956, 1379),\n",
       " (0.08902329968716956, 1372),\n",
       " (0.08902329968716956, 1043),\n",
       " (0.08902329968716956, 948),\n",
       " (0.08902329968716956, 922),\n",
       " (0.08902329968716956, 629),\n",
       " (0.08902329968716956, 497),\n",
       " (0.08902329968716956, 367),\n",
       " (0.08902329968716956, 269),\n",
       " (0.08902329968716956, 205),\n",
       " (0.08902329968716956, 183),\n",
       " (0.08902329968716956, 104),\n",
       " (0.08891160809702994, 1044),\n",
       " (0.0880240164260782, 1710),\n",
       " (0.0880240164260782, 1563),\n",
       " (0.0880240164260782, 1549),\n",
       " (0.0880240164260782, 1282),\n",
       " (0.0880240164260782, 1243),\n",
       " (0.0880240164260782, 1206),\n",
       " (0.0880240164260782, 1183),\n",
       " (0.0880240164260782, 1086),\n",
       " (0.0880240164260782, 1063),\n",
       " (0.0880240164260782, 995),\n",
       " (0.0880240164260782, 703),\n",
       " (0.0880240164260782, 673),\n",
       " (0.0880240164260782, 583),\n",
       " (0.0880240164260782, 427),\n",
       " (0.0880240164260782, 410),\n",
       " (0.0880240164260782, 298),\n",
       " (0.0880240164260782, 58),\n",
       " (0.0880240164260782, 51),\n",
       " (0.08782177698350521, 1210),\n",
       " (0.08673501752150611, 1108),\n",
       " (0.08279319968659545, 1825),\n",
       " (0.08279319968659545, 1786),\n",
       " (0.08279319968659545, 1724),\n",
       " (0.08279319968659545, 1648),\n",
       " (0.08279319968659545, 1538),\n",
       " (0.08279319968659545, 1337),\n",
       " (0.08279319968659545, 1329),\n",
       " (0.08279319968659545, 1002),\n",
       " (0.08279319968659545, 1001),\n",
       " (0.08279319968659545, 857),\n",
       " (0.08279319968659545, 777),\n",
       " (0.08279319968659545, 623),\n",
       " (0.08279319968659545, 607),\n",
       " (0.08279319968659545, 458),\n",
       " (0.08279319968659545, 327),\n",
       " (0.08279319968659545, 320),\n",
       " (0.08279319968659545, 284),\n",
       " (0.08279319968659545, 127),\n",
       " (0.08279319968659545, 120),\n",
       " (0.08279319968659545, 2),\n",
       " (0.08100826506256364, 591),\n",
       " (0.08072359575087376, 1187),\n",
       " (0.07912972180804685, 77),\n",
       " (0.0784252095231453, 19),\n",
       " (0.0773963786130886, 1760),\n",
       " (0.0773963786130886, 1723),\n",
       " (0.0773963786130886, 1615),\n",
       " (0.0773963786130886, 1575),\n",
       " (0.0773963786130886, 1567),\n",
       " (0.0773963786130886, 1390),\n",
       " (0.0773963786130886, 1325),\n",
       " (0.0773963786130886, 1050),\n",
       " (0.0773963786130886, 1027),\n",
       " (0.0773963786130886, 997),\n",
       " (0.0773963786130886, 862),\n",
       " (0.0773963786130886, 845),\n",
       " (0.0773963786130886, 814),\n",
       " (0.0773963786130886, 750),\n",
       " (0.0773963786130886, 328),\n",
       " (0.0773963786130886, 311),\n",
       " (0.0773963786130886, 303),\n",
       " (0.0773963786130886, 277),\n",
       " (0.0773963786130886, 137),\n",
       " (0.0773963786130886, 89),\n",
       " (0.0773963786130886, 13),\n",
       " (0.07645672960518547, 1813),\n",
       " (0.07645672960518547, 1682),\n",
       " (0.07645672960518547, 1628),\n",
       " (0.07645672960518547, 1562),\n",
       " (0.07645672960518547, 1535),\n",
       " (0.07645672960518547, 1506),\n",
       " (0.07645672960518547, 1266),\n",
       " (0.07645672960518547, 1219),\n",
       " (0.07645672960518547, 1173),\n",
       " (0.07645672960518547, 989),\n",
       " (0.07645672960518547, 737),\n",
       " (0.07645672960518547, 661),\n",
       " (0.07645672960518547, 650),\n",
       " (0.07645672960518547, 602),\n",
       " (0.07645672960518547, 600),\n",
       " (0.07645672960518547, 589),\n",
       " (0.07645672960518547, 582),\n",
       " (0.07645672960518547, 457),\n",
       " (0.07645672960518547, 441),\n",
       " (0.07645672960518547, 78),\n",
       " (0.07480015054451641, 1062),\n",
       " (0.07230395765878236, 1551),\n",
       " (0.07110407396894919, 114),\n",
       " (0.06876200868744739, 780),\n",
       " (0.06832096741196007, 6),\n",
       " (0.06750695523243037, 1634),\n",
       " (0.06492152977832254, 898),\n",
       " (0.06467976395800672, 1755),\n",
       " (0.06467976395800672, 1609),\n",
       " (0.06467976395800672, 1353),\n",
       " (0.06467976395800672, 1234),\n",
       " (0.06467976395800672, 1011),\n",
       " (0.06467976395800672, 972),\n",
       " (0.06467976395800672, 930),\n",
       " (0.06467976395800672, 926),\n",
       " (0.06467976395800672, 892),\n",
       " (0.06467976395800672, 891),\n",
       " (0.06467976395800672, 620),\n",
       " (0.06467976395800672, 618),\n",
       " (0.06467976395800672, 549),\n",
       " (0.06467976395800672, 495),\n",
       " (0.06467976395800672, 143),\n",
       " (0.06302591015124552, 1821),\n",
       " (0.06302591015124552, 1640),\n",
       " (0.06302591015124552, 1240),\n",
       " (0.06302591015124552, 1236),\n",
       " (0.06302591015124552, 1068),\n",
       " (0.06302591015124552, 480),\n",
       " (0.06302591015124552, 75),\n",
       " (0.06069698589023298, 978),\n",
       " (0.05916435075244917, 15),\n",
       " (0.056526344559928464, 1829),\n",
       " (0.056526344559928464, 1815),\n",
       " (0.056526344559928464, 1750),\n",
       " (0.056526344559928464, 1665),\n",
       " (0.056526344559928464, 1657),\n",
       " (0.056526344559928464, 1651),\n",
       " (0.056526344559928464, 1603),\n",
       " (0.056526344559928464, 1466),\n",
       " (0.056526344559928464, 1395),\n",
       " (0.056526344559928464, 1336),\n",
       " (0.056526344559928464, 1257),\n",
       " (0.056526344559928464, 1252),\n",
       " (0.056526344559928464, 1251),\n",
       " (0.056526344559928464, 1189),\n",
       " (0.056526344559928464, 1151),\n",
       " (0.056526344559928464, 1146),\n",
       " (0.056526344559928464, 984),\n",
       " (0.056526344559928464, 973),\n",
       " (0.056526344559928464, 962),\n",
       " (0.056526344559928464, 909),\n",
       " (0.056526344559928464, 871),\n",
       " (0.056526344559928464, 855),\n",
       " (0.056526344559928464, 853),\n",
       " (0.056526344559928464, 820),\n",
       " (0.056526344559928464, 739),\n",
       " (0.056526344559928464, 716),\n",
       " (0.056526344559928464, 692),\n",
       " (0.056526344559928464, 676),\n",
       " (0.056526344559928464, 493),\n",
       " (0.056526344559928464, 435),\n",
       " (0.056526344559928464, 354),\n",
       " (0.056526344559928464, 348),\n",
       " (0.056526344559928464, 345),\n",
       " (0.056526344559928464, 312),\n",
       " (0.056526344559928464, 296),\n",
       " (0.056526344559928464, 159),\n",
       " (0.056526344559928464, 105),\n",
       " (0.056332307649915835, 12),\n",
       " (0.052938691662457224, 1681),\n",
       " (0.052938691662457224, 1666),\n",
       " (0.052938691662457224, 1621),\n",
       " (0.052938691662457224, 1526),\n",
       " (0.052938691662457224, 1501),\n",
       " (0.052938691662457224, 1432),\n",
       " (0.052938691662457224, 1394),\n",
       " (0.052938691662457224, 1393),\n",
       " (0.052938691662457224, 1367),\n",
       " (0.052938691662457224, 1292),\n",
       " (0.052938691662457224, 1275),\n",
       " (0.052938691662457224, 1213),\n",
       " (0.052938691662457224, 1202),\n",
       " (0.052938691662457224, 1148),\n",
       " (0.052938691662457224, 1116),\n",
       " (0.052938691662457224, 1065),\n",
       " (0.052938691662457224, 1064),\n",
       " (0.052938691662457224, 1038),\n",
       " (0.052938691662457224, 964),\n",
       " (0.052938691662457224, 888),\n",
       " (0.052938691662457224, 868),\n",
       " (0.052938691662457224, 838),\n",
       " (0.052938691662457224, 827),\n",
       " (0.052938691662457224, 765),\n",
       " (0.052938691662457224, 760),\n",
       " (0.052938691662457224, 756),\n",
       " (0.052938691662457224, 753),\n",
       " (0.052938691662457224, 722),\n",
       " (0.052938691662457224, 514),\n",
       " (0.052938691662457224, 471),\n",
       " (0.052938691662457224, 440),\n",
       " (0.052938691662457224, 356),\n",
       " (0.052938691662457224, 252),\n",
       " (0.052938691662457224, 248),\n",
       " (0.052938691662457224, 191),\n",
       " (0.052938691662457224, 142),\n",
       " (0.052938691662457224, 124),\n",
       " (0.052938691662457224, 108),\n",
       " (0.052938691662457224, 22),\n",
       " (0.05163227373589848, 557),\n",
       " (0.05048103284051797, 1481),\n",
       " (0.04938472397526798, 1764),\n",
       " (0.04793982060799445, 1370),\n",
       " (0.04255933002848697, 1797),\n",
       " (0.0411985088611562, 1205),\n",
       " (0.04095524639108259, 102),\n",
       " (0.03997426245630661, 1532),\n",
       " (0.03916304838623405, 1705),\n",
       " (0.036702486077543894, 655),\n",
       " (0.03654586636537666, 1057),\n",
       " (0.035076493950736504, 473),\n",
       " (0.034973611616488764, 289),\n",
       " (0.03151295507562276, 1834),\n",
       " (0.03151295507562276, 1793),\n",
       " (0.03151295507562276, 1782),\n",
       " (0.03151295507562276, 1778),\n",
       " (0.03151295507562276, 1735),\n",
       " (0.03151295507562276, 1678),\n",
       " (0.03151295507562276, 1653),\n",
       " (0.03151295507562276, 1647),\n",
       " (0.03151295507562276, 1629),\n",
       " (0.03151295507562276, 1595),\n",
       " (0.03151295507562276, 1582),\n",
       " (0.03151295507562276, 1537),\n",
       " (0.03151295507562276, 1507),\n",
       " (0.03151295507562276, 1473),\n",
       " (0.03151295507562276, 1414),\n",
       " (0.03151295507562276, 1398),\n",
       " (0.03151295507562276, 1389),\n",
       " (0.03151295507562276, 1388),\n",
       " (0.03151295507562276, 1360),\n",
       " (0.03151295507562276, 1348),\n",
       " (0.03151295507562276, 1343),\n",
       " (0.03151295507562276, 1302),\n",
       " (0.03151295507562276, 1301),\n",
       " (0.03151295507562276, 1297),\n",
       " (0.03151295507562276, 1250),\n",
       " (0.03151295507562276, 1249),\n",
       " (0.03151295507562276, 1233),\n",
       " (0.03151295507562276, 1231),\n",
       " (0.03151295507562276, 1222),\n",
       " (0.03151295507562276, 1204),\n",
       " (0.03151295507562276, 1185),\n",
       " (0.03151295507562276, 1177),\n",
       " (0.03151295507562276, 1162),\n",
       " (0.03151295507562276, 1159),\n",
       " (0.03151295507562276, 1119),\n",
       " (0.03151295507562276, 1113),\n",
       " (0.03151295507562276, 1072),\n",
       " (0.03151295507562276, 1071),\n",
       " (0.03151295507562276, 1069),\n",
       " (0.03151295507562276, 1066),\n",
       " (0.03151295507562276, 1056),\n",
       " (0.03151295507562276, 1055),\n",
       " (0.03151295507562276, 1040),\n",
       " (0.03151295507562276, 992),\n",
       " (0.03151295507562276, 979),\n",
       " (0.03151295507562276, 941),\n",
       " (0.03151295507562276, 903),\n",
       " (0.03151295507562276, 899),\n",
       " (0.03151295507562276, 798),\n",
       " (0.03151295507562276, 797),\n",
       " (0.03151295507562276, 796),\n",
       " (0.03151295507562276, 788),\n",
       " (0.03151295507562276, 775),\n",
       " (0.03151295507562276, 770),\n",
       " (0.03151295507562276, 769),\n",
       " (0.03151295507562276, 728),\n",
       " (0.03151295507562276, 717),\n",
       " (0.03151295507562276, 711),\n",
       " (0.03151295507562276, 705),\n",
       " (0.03151295507562276, 701),\n",
       " (0.03151295507562276, 689),\n",
       " (0.03151295507562276, 687),\n",
       " (0.03151295507562276, 657),\n",
       " (0.03151295507562276, 644),\n",
       " (0.03151295507562276, 603),\n",
       " (0.03151295507562276, 531),\n",
       " (0.03151295507562276, 525),\n",
       " (0.03151295507562276, 509),\n",
       " (0.03151295507562276, 479),\n",
       " (0.03151295507562276, 453),\n",
       " (0.03151295507562276, 424),\n",
       " (0.03151295507562276, 412),\n",
       " (0.03151295507562276, 411),\n",
       " (0.03151295507562276, 362),\n",
       " (0.03151295507562276, 343),\n",
       " (0.03151295507562276, 339),\n",
       " (0.03151295507562276, 273),\n",
       " (0.03151295507562276, 261),\n",
       " (0.03151295507562276, 255),\n",
       " (0.03151295507562276, 238),\n",
       " (0.03151295507562276, 202),\n",
       " (0.03151295507562276, 200),\n",
       " (0.03151295507562276, 181),\n",
       " (0.03151295507562276, 174),\n",
       " (0.03151295507562276, 163),\n",
       " (0.03151295507562276, 157),\n",
       " (0.03151295507562276, 144),\n",
       " (0.03151295507562276, 98),\n",
       " (0.03151295507562276, 55),\n",
       " (0.03151295507562276, 49),\n",
       " (0.03151295507562276, 4),\n",
       " (0.030613900911089773, 1190),\n",
       " (0.03038937046841417, 1650),\n",
       " (0.029294759903047526, 1359),\n",
       " (0.029294759903047526, 638),\n",
       " (0.029121990097363902, 1607),\n",
       " (0.027597216271232267, 1495),\n",
       " (0.025799021278771133, 860),\n",
       " (0.024988819476429683, 1428),\n",
       " (0.023871829819050627, 1775),\n",
       " (0.023027531102989315, 1540),\n",
       " (0.021020631724671855, 501),\n",
       " (0.018967448148595353, 1697),\n",
       " (0.018052160454651113, 1703),\n",
       " (0.015769392710026007, 195),\n",
       " (0.014964597869561141, 734),\n",
       " (0.0072020177591474695, 187),\n",
       " (0.0027116663524287482, 214),\n",
       " (0.0026654114857167207, 112),\n",
       " (0.001083378746660238, 882),\n",
       " (0.0009735624117977819, 704),\n",
       " (7.276791396829363e-05, 554),\n",
       " (-0.002901412027861778, 1781),\n",
       " (-0.0034277632626661643, 1489),\n",
       " (-0.006054740556368016, 1700),\n",
       " (-0.006924757750736083, 1712),\n",
       " (-0.007479338196816636, 570),\n",
       " (-0.0075255286600268406, 1702),\n",
       " (-0.008521134827479545, 1137),\n",
       " (-0.009671219800010946, 254),\n",
       " (-0.010927284012054277, 885),\n",
       " (-0.010941940013127894, 421),\n",
       " (-0.011361857057700013, 1140),\n",
       " (-0.011828281369140646, 1787),\n",
       " (-0.016611350448916085, 1438),\n",
       " (-0.01980961567849902, 283),\n",
       " (-0.020910205437114124, 537),\n",
       " (-0.026502116931020475, 1267),\n",
       " (-0.028520514120542757, 1819),\n",
       " (-0.028520514120542757, 1804),\n",
       " (-0.028520514120542757, 1802),\n",
       " (-0.028520514120542757, 1801),\n",
       " (-0.028520514120542757, 1785),\n",
       " (-0.028520514120542757, 1774),\n",
       " (-0.028520514120542757, 1737),\n",
       " (-0.028520514120542757, 1694),\n",
       " (-0.028520514120542757, 1693),\n",
       " (-0.028520514120542757, 1692),\n",
       " (-0.028520514120542757, 1689),\n",
       " (-0.028520514120542757, 1687),\n",
       " (-0.028520514120542757, 1671),\n",
       " (-0.028520514120542757, 1643),\n",
       " (-0.028520514120542757, 1642),\n",
       " (-0.028520514120542757, 1623),\n",
       " (-0.028520514120542757, 1604),\n",
       " (-0.028520514120542757, 1599),\n",
       " (-0.028520514120542757, 1590),\n",
       " (-0.028520514120542757, 1586),\n",
       " (-0.028520514120542757, 1585),\n",
       " (-0.028520514120542757, 1530),\n",
       " (-0.028520514120542757, 1513),\n",
       " (-0.028520514120542757, 1488),\n",
       " (-0.028520514120542757, 1478),\n",
       " (-0.028520514120542757, 1455),\n",
       " (-0.028520514120542757, 1445),\n",
       " (-0.028520514120542757, 1416),\n",
       " (-0.028520514120542757, 1410),\n",
       " (-0.028520514120542757, 1380),\n",
       " (-0.028520514120542757, 1355),\n",
       " (-0.028520514120542757, 1345),\n",
       " (-0.028520514120542757, 1338),\n",
       " (-0.028520514120542757, 1327),\n",
       " (-0.028520514120542757, 1326),\n",
       " (-0.028520514120542757, 1286),\n",
       " (-0.028520514120542757, 1277),\n",
       " (-0.028520514120542757, 1268),\n",
       " (-0.028520514120542757, 1258),\n",
       " (-0.028520514120542757, 1244),\n",
       " (-0.028520514120542757, 1230),\n",
       " (-0.028520514120542757, 1229),\n",
       " (-0.028520514120542757, 1227),\n",
       " (-0.028520514120542757, 1221),\n",
       " (-0.028520514120542757, 1208),\n",
       " (-0.028520514120542757, 1176),\n",
       " (-0.028520514120542757, 1164),\n",
       " (-0.028520514120542757, 1142),\n",
       " (-0.028520514120542757, 1130),\n",
       " (-0.028520514120542757, 1125),\n",
       " (-0.028520514120542757, 1094),\n",
       " (-0.028520514120542757, 1089),\n",
       " (-0.028520514120542757, 1084),\n",
       " (-0.028520514120542757, 1083),\n",
       " (-0.028520514120542757, 1079),\n",
       " (-0.028520514120542757, 1031),\n",
       " (-0.028520514120542757, 1021),\n",
       " (-0.028520514120542757, 994),\n",
       " (-0.028520514120542757, 985),\n",
       " (-0.028520514120542757, 974),\n",
       " (-0.028520514120542757, 961),\n",
       " (-0.028520514120542757, 949),\n",
       " (-0.028520514120542757, 939),\n",
       " (-0.028520514120542757, 938),\n",
       " (-0.028520514120542757, 918),\n",
       " (-0.028520514120542757, 869),\n",
       " (-0.028520514120542757, 847),\n",
       " (-0.028520514120542757, 825),\n",
       " (-0.028520514120542757, 822),\n",
       " (-0.028520514120542757, 795),\n",
       " (-0.028520514120542757, 781),\n",
       " (-0.028520514120542757, 774),\n",
       " (-0.028520514120542757, 758),\n",
       " (-0.028520514120542757, 729),\n",
       " (-0.028520514120542757, 710),\n",
       " (-0.028520514120542757, 706),\n",
       " (-0.028520514120542757, 688),\n",
       " (-0.028520514120542757, 679),\n",
       " (-0.028520514120542757, 665),\n",
       " (-0.028520514120542757, 632),\n",
       " (-0.028520514120542757, 577),\n",
       " (-0.028520514120542757, 512),\n",
       " (-0.028520514120542757, 503),\n",
       " (-0.028520514120542757, 486),\n",
       " (-0.028520514120542757, 464),\n",
       " (-0.028520514120542757, 463),\n",
       " (-0.028520514120542757, 459),\n",
       " (-0.028520514120542757, 436),\n",
       " (-0.028520514120542757, 423),\n",
       " (-0.028520514120542757, 419),\n",
       " (-0.028520514120542757, 396),\n",
       " (-0.028520514120542757, 369),\n",
       " (-0.028520514120542757, 357),\n",
       " (-0.028520514120542757, 355),\n",
       " (-0.028520514120542757, 350),\n",
       " (-0.028520514120542757, 342),\n",
       " (-0.028520514120542757, 341),\n",
       " (-0.028520514120542757, 333),\n",
       " (-0.028520514120542757, 322),\n",
       " (-0.028520514120542757, 309),\n",
       " (-0.028520514120542757, 308),\n",
       " (-0.028520514120542757, 306),\n",
       " (-0.028520514120542757, 297),\n",
       " (-0.028520514120542757, 288),\n",
       " (-0.028520514120542757, 281),\n",
       " (-0.028520514120542757, 259),\n",
       " (-0.028520514120542757, 258),\n",
       " (-0.028520514120542757, 245),\n",
       " (-0.028520514120542757, 234),\n",
       " (-0.028520514120542757, 233),\n",
       " (-0.028520514120542757, 232),\n",
       " (-0.028520514120542757, 231),\n",
       " (-0.028520514120542757, 230),\n",
       " (-0.028520514120542757, 182),\n",
       " (-0.028520514120542757, 180),\n",
       " (-0.028520514120542757, 147),\n",
       " (-0.028520514120542757, 145),\n",
       " (-0.028520514120542757, 135),\n",
       " (-0.028520514120542757, 131),\n",
       " (-0.028520514120542757, 109),\n",
       " (-0.028520514120542757, 107),\n",
       " (-0.028520514120542757, 103),\n",
       " (-0.028520514120542757, 96),\n",
       " (-0.028520514120542757, 95),\n",
       " (-0.028520514120542757, 63),\n",
       " (-0.03400621737969714, 545),\n",
       " (-0.03415029546083452, 652),\n",
       " (-0.03540025308897269, 1082),\n",
       " (-0.03674861941961776, 1810),\n",
       " (-0.03674861941961776, 1598),\n",
       " (-0.03674861941961776, 1597),\n",
       " (-0.03674861941961776, 1593),\n",
       " (-0.03674861941961776, 1548),\n",
       " (-0.03674861941961776, 1514),\n",
       " (-0.03674861941961776, 1463),\n",
       " (-0.03674861941961776, 1458),\n",
       " (-0.03674861941961776, 1374),\n",
       " (-0.03674861941961776, 1366),\n",
       " (-0.03674861941961776, 1352),\n",
       " (-0.03674861941961776, 1310),\n",
       " (-0.03674861941961776, 1300),\n",
       " (-0.03674861941961776, 1203),\n",
       " (-0.03674861941961776, 1178),\n",
       " (-0.03674861941961776, 1166),\n",
       " (-0.03674861941961776, 1123),\n",
       " (-0.03674861941961776, 1096),\n",
       " (-0.03674861941961776, 1095),\n",
       " (-0.03674861941961776, 1080),\n",
       " (-0.03674861941961776, 1032),\n",
       " (-0.03674861941961776, 1023),\n",
       " (-0.03674861941961776, 944),\n",
       " (-0.03674861941961776, 876),\n",
       " (-0.03674861941961776, 875),\n",
       " (-0.03674861941961776, 815),\n",
       " (-0.03674861941961776, 809),\n",
       " (-0.03674861941961776, 794),\n",
       " (-0.03674861941961776, 751),\n",
       " (-0.03674861941961776, 735),\n",
       " (-0.03674861941961776, 714),\n",
       " (-0.03674861941961776, 712),\n",
       " (-0.03674861941961776, 697),\n",
       " (-0.03674861941961776, 691),\n",
       " (-0.03674861941961776, 690),\n",
       " (-0.03674861941961776, 656),\n",
       " (-0.03674861941961776, 653),\n",
       " (-0.03674861941961776, 646),\n",
       " (-0.03674861941961776, 613),\n",
       " (-0.03674861941961776, 418),\n",
       " (-0.03674861941961776, 398),\n",
       " (-0.03674861941961776, 384),\n",
       " (-0.03674861941961776, 364),\n",
       " (-0.03674861941961776, 358),\n",
       " (-0.03674861941961776, 299),\n",
       " (-0.03674861941961776, 287),\n",
       " (-0.03674861941961776, 280),\n",
       " (-0.03674861941961776, 266),\n",
       " (-0.03674861941961776, 251),\n",
       " (-0.03674861941961776, 226),\n",
       " (-0.03674861941961776, 225),\n",
       " (-0.03674861941961776, 218),\n",
       " (-0.03674861941961776, 216),\n",
       " (-0.03674861941961776, 190),\n",
       " (-0.03674861941961776, 79),\n",
       " (-0.03674861941961776, 66),\n",
       " (-0.03674861941961776, 41),\n",
       " (-0.03674861941961776, 34),\n",
       " (-0.03674861941961776, 24),\n",
       " (-0.03720311422530115, 1135),\n",
       " (-0.038179722513358785, 565),\n",
       " (-0.038346194627205836, 945),\n",
       " (-0.04093637791697688, 1288),\n",
       " (-0.04462402587978927, 842),\n",
       " (-0.045081685129530556, 60),\n",
       " (-0.04551620259239366, 1547),\n",
       " (-0.04583199944635931, 321),\n",
       " (-0.049074040800983224, 80),\n",
       " (-0.04948463504746568, 1690),\n",
       " (-0.04948463504746568, 1652),\n",
       " (-0.04948463504746568, 1630),\n",
       " (-0.04948463504746568, 1584),\n",
       " (-0.04948463504746568, 1576),\n",
       " (-0.04948463504746568, 1553),\n",
       " (-0.04948463504746568, 1552),\n",
       " (-0.04948463504746568, 1464),\n",
       " (-0.04948463504746568, 1446),\n",
       " (-0.04948463504746568, 1315),\n",
       " (-0.04948463504746568, 1308),\n",
       " (-0.04948463504746568, 1287),\n",
       " (-0.04948463504746568, 1276),\n",
       " (-0.04948463504746568, 1171),\n",
       " (-0.04948463504746568, 1126),\n",
       " (-0.04948463504746568, 1088),\n",
       " (-0.04948463504746568, 1024),\n",
       " (-0.04948463504746568, 1019),\n",
       " (-0.04948463504746568, 983),\n",
       " (-0.04948463504746568, 929),\n",
       " (-0.04948463504746568, 928),\n",
       " (-0.04948463504746568, 897),\n",
       " (-0.04948463504746568, 896),\n",
       " (-0.04948463504746568, 890),\n",
       " (-0.04948463504746568, 886),\n",
       " (-0.04948463504746568, 848),\n",
       " (-0.04948463504746568, 824),\n",
       " (-0.04948463504746568, 639),\n",
       " (-0.04948463504746568, 635),\n",
       " (-0.04948463504746568, 513),\n",
       " (-0.04948463504746568, 504),\n",
       " (-0.04948463504746568, 502),\n",
       " (-0.04948463504746568, 417),\n",
       " (-0.04948463504746568, 416),\n",
       " (-0.04948463504746568, 372),\n",
       " (-0.04948463504746568, 316),\n",
       " (-0.04948463504746568, 256),\n",
       " (-0.04948463504746568, 209),\n",
       " (-0.04948463504746568, 173),\n",
       " (-0.04948463504746568, 126),\n",
       " (-0.04948463504746568, 38),\n",
       " (-0.04948463504746568, 27),\n",
       " (-0.05049556040333122, 1823),\n",
       " (-0.05049556040333122, 1783),\n",
       " (-0.05049556040333122, 1734),\n",
       " (-0.05049556040333122, 1672),\n",
       " (-0.05049556040333122, 1663),\n",
       " (-0.05049556040333122, 1612),\n",
       " (-0.05049556040333122, 1605),\n",
       " (-0.05049556040333122, 1504),\n",
       " (-0.05049556040333122, 1454),\n",
       " (-0.05049556040333122, 1447),\n",
       " (-0.05049556040333122, 1430),\n",
       " (-0.05049556040333122, 1423),\n",
       " (-0.05049556040333122, 1407),\n",
       " (-0.05049556040333122, 1391),\n",
       " (-0.05049556040333122, 1295),\n",
       " (-0.05049556040333122, 1273),\n",
       " (-0.05049556040333122, 1260),\n",
       " (-0.05049556040333122, 1242),\n",
       " (-0.05049556040333122, 1239),\n",
       " (-0.05049556040333122, 1118),\n",
       " (-0.05049556040333122, 1020),\n",
       " (-0.05049556040333122, 1004),\n",
       " (-0.05049556040333122, 993),\n",
       " (-0.05049556040333122, 967),\n",
       " (-0.05049556040333122, 957),\n",
       " (-0.05049556040333122, 947),\n",
       " (-0.05049556040333122, 924),\n",
       " (-0.05049556040333122, 819),\n",
       " (-0.05049556040333122, 792),\n",
       " (-0.05049556040333122, 730),\n",
       " (-0.05049556040333122, 723),\n",
       " (-0.05049556040333122, 667),\n",
       " (-0.05049556040333122, 394),\n",
       " ...]"
      ]
     },
     "execution_count": 91,
     "metadata": {},
     "output_type": "execute_result"
    }
   ],
   "source": [
    "coef_pos_idx"
   ]
  },
  {
   "cell_type": "code",
   "execution_count": 92,
   "id": "1a02de08",
   "metadata": {},
   "outputs": [
    {
     "name": "stdout",
     "output_type": "stream",
     "text": [
      "맛있어요 0.7069500358114165\n",
      "맛있음 0.6809644567556515\n",
      "고등어 0.6542403688277959\n",
      "라자냐 0.5451486296192531\n",
      "다른 0.5137650612329135\n",
      "맛있고 0.45807126991140434\n",
      "추억 0.40477564934621235\n",
      "대존맛 0.40477564934621235\n",
      "양이 0.39590978772570357\n",
      "분위기도 0.35439599471037353\n",
      "생각나요 0.3518208635068558\n",
      "간짜장 0.34884970964825923\n",
      "신촌에 0.33615437398181164\n",
      "가성비 0.31894133032564187\n",
      "수제비 0.3185743012292921\n",
      "공간 0.3147132535411382\n",
      "맛있었어요 0.31390506580843475\n",
      "좋네요 0.2998486331987755\n",
      "추억의 0.29975920508911036\n",
      "맛있지는 0.2942739882414141\n"
     ]
    }
   ],
   "source": [
    "# 상위 20개 긍정 형태소\n",
    "for value, idx in coef_pos_idx[:20]:\n",
    "    print(tfidf.get_feature_names_out()[idx], value)"
   ]
  },
  {
   "cell_type": "code",
   "execution_count": 93,
   "id": "615714e5",
   "metadata": {},
   "outputs": [
    {
     "name": "stdout",
     "output_type": "stream",
     "text": [
      "별로 -0.5580463372521015\n",
      "그냥 -0.42807559917533444\n",
      "계좌이체 -0.41581889010068945\n",
      "카드 -0.41581889010068945\n",
      "맛이변함ㅠㅠ -0.39736240149601254\n",
      "그리고 -0.37704629758828695\n",
      "굳이 -0.31777343295683014\n",
      "돈까스 -0.3053116940530159\n",
      "만원 -0.3042234970564613\n",
      "너무 -0.29863948330953494\n",
      "한식집같아요 -0.29780103482876497\n",
      "않아요 -0.28837918863309175\n",
      "음식 -0.2871408269940717\n",
      "가격은 -0.28676869012937767\n",
      "가격이면 -0.2809776486864019\n",
      "광고 -0.2809776486864019\n",
      "괜찮은집 -0.2809776486864019\n",
      "말그대로 -0.2809776486864019\n",
      "뭔들 -0.2809776486864019\n"
     ]
    }
   ],
   "source": [
    "# 상위 20개 부정 형태소\n",
    "for value, idx in coef_pos_idx[:-20:-1]:\n",
    "    print(tfidf.get_feature_names_out()[idx], value)"
   ]
  }
 ],
 "metadata": {
  "kernelspec": {
   "display_name": "Python 3 (ipykernel)",
   "language": "python",
   "name": "python3"
  },
  "language_info": {
   "codemirror_mode": {
    "name": "ipython",
    "version": 3
   },
   "file_extension": ".py",
   "mimetype": "text/x-python",
   "name": "python",
   "nbconvert_exporter": "python",
   "pygments_lexer": "ipython3",
   "version": "3.11.5"
  }
 },
 "nbformat": 4,
 "nbformat_minor": 5
}
