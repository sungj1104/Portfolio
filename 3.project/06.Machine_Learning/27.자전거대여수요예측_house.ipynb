{
 "cells": [
  {
   "cell_type": "markdown",
   "id": "b2138f2d",
   "metadata": {},
   "source": [
    "# 자전거 대여 데이터\n",
    "\n",
    "- 2011년부터 2012년까지 2년간의 자전거 대여 데이터\n",
    "- 캐피털 바이크셰어 회사가 공개한 운행 기록에 다양한 외부 소스에서 얻은 당시 날씨 정보를 조합\n",
    "- 한 시간 간격으로 기록됨\n",
    "- 훈련 데이터 : 매달 1일부터 19일 까지의 기록\n",
    "- 테스트 데이터 : 매달 20일부터 월말까지의 기록\n",
    "- 피처\n",
    "    - datetime : 기록 일시(1시간 간격)\n",
    "    - season : 계절\n",
    "        - 1 : 봄(1분기)\n",
    "        - 2 : 여름(2분기)\n",
    "        - 3 : 가을(3분기)\n",
    "        - 4 : 겨울(4분기)\n",
    "        - 공식 문서에는 계절로 설명하고 있지만 실제로는 분기로 나누어져 있음\n",
    "    - holiday : 공휴일 여부(0 : 공휴일 아님, 1: 공휴일)\n",
    "    - workingday : 근무일 여부(0 : 근무일 아님, 1 : 근무일)\n",
    "        - 주말과 공휴일이 아니면 근무일이라고 간주\n",
    "    - weather : 날씨\n",
    "        - 1 : 맑음\n",
    "        - 2 : 옅은 안개, 약간 흐림\n",
    "        - 3 : 약간의 눈, 약간의 비와 천둥 번개, 흐림\n",
    "        - 4 : 폭우와 천둥 번개, 눈과 짙은 안개\n",
    "        - 숫자가 클수록 날씨가 안 좋음\n",
    "    - temp : 실제 온도\n",
    "    - atemp : 체감온도\n",
    "    - humidity : 상대 습도\n",
    "    - windspeed : 풍속\n",
    "    - casual : 등록되지 않은 사용자(비회원) 수\n",
    "    - registered : 등록된 사용자(회원) 수\n",
    "    - count : 자전거 대여 수량\n",
    "- 종속변수 : count\n",
    "- 평가지표 : RMSLE(Root Mean Squared Logarithmic Error), 0.37"
   ]
  },
  {
   "cell_type": "code",
   "execution_count": 1,
   "id": "208083e0",
   "metadata": {},
   "outputs": [],
   "source": [
    "import pandas as pd\n",
    "import numpy as np\n",
    "import matplotlib.pyplot as plt\n",
    "import seaborn as sns\n",
    "from sklearn.preprocessing import StandardScaler, MinMaxScaler\n",
    "from sklearn.metrics import mean_squared_log_error\n",
    "import statsmodels.api as sm\n",
    "from statsmodels.stats.outliers_influence import variance_inflation_factor\n",
    "from sklearn.model_selection import train_test_split, cross_validate, GridSearchCV, RandomizedSearchCV\n",
    "from sklearn.linear_model import LinearRegression"
   ]
  },
  {
   "cell_type": "code",
   "execution_count": 2,
   "id": "3d6802c7",
   "metadata": {},
   "outputs": [],
   "source": [
    "def rmsle(y_true, y_pred, convertExp = True):\n",
    "    '''\n",
    "    실제 타깃값과 예측값을 인수로 전달하면 RMSLE 수치를 반환하는 함수\n",
    "    convertExp : 입력 데이터를 지수변환할지 정하는 파라미터\n",
    "    타깃값으로 log(count)를 사용한 경우에는 지수변환을 해줘야 함\n",
    "    '''\n",
    "    # 지수변환\n",
    "    if convertExp:\n",
    "        y_true = np.exp(y_true)\n",
    "        y_pred = np.exp(y_pred)\n",
    "\n",
    "    # 로그변환 후 결측값을 0으로 변환\n",
    "    log_true = np.nan_to_num(np.log(y_true + 1))\n",
    "    log_pred = np.nan_to_num(np.log(y_pred + 1))\n",
    "\n",
    "    # RMSLE 계산\n",
    "    output = np.sqrt(np.mean((log_true - log_pred)**2))\n",
    "\n",
    "    return output"
   ]
  },
  {
   "cell_type": "code",
   "execution_count": 3,
   "id": "4aa73fef",
   "metadata": {},
   "outputs": [],
   "source": [
    "df = pd.read_csv(\"./data/bike/train.csv\")\n",
    "test_df = pd.read_csv(\"./data/bike/test.csv\")"
   ]
  },
  {
   "cell_type": "code",
   "execution_count": 4,
   "id": "e3be19b3",
   "metadata": {},
   "outputs": [],
   "source": [
    "# season을 제거하고 월을 쓰기위한 데이터 변환\n",
    "df[\"year\"] = df['datetime'].apply(lambda x: int(x[:4]))\n",
    "df[\"month\"] = df['datetime'].apply(lambda x: int(x[5:7]))\n",
    "df[\"time\"] = df['datetime'].apply(lambda x: int(x[11:13]))"
   ]
  },
  {
   "cell_type": "code",
   "execution_count": 5,
   "id": "f9447647",
   "metadata": {},
   "outputs": [
    {
     "name": "stdout",
     "output_type": "stream",
     "text": [
      "<class 'pandas.core.frame.DataFrame'>\n",
      "RangeIndex: 10886 entries, 0 to 10885\n",
      "Data columns (total 15 columns):\n",
      " #   Column      Non-Null Count  Dtype  \n",
      "---  ------      --------------  -----  \n",
      " 0   datetime    10886 non-null  object \n",
      " 1   season      10886 non-null  int64  \n",
      " 2   holiday     10886 non-null  int64  \n",
      " 3   workingday  10886 non-null  int64  \n",
      " 4   weather     10886 non-null  int64  \n",
      " 5   temp        10886 non-null  float64\n",
      " 6   atemp       10886 non-null  float64\n",
      " 7   humidity    10886 non-null  int64  \n",
      " 8   windspeed   10886 non-null  float64\n",
      " 9   casual      10886 non-null  int64  \n",
      " 10  registered  10886 non-null  int64  \n",
      " 11  count       10886 non-null  int64  \n",
      " 12  year        10886 non-null  int64  \n",
      " 13  month       10886 non-null  int64  \n",
      " 14  time        10886 non-null  int64  \n",
      "dtypes: float64(3), int64(11), object(1)\n",
      "memory usage: 1.2+ MB\n"
     ]
    }
   ],
   "source": [
    "df.info()"
   ]
  },
  {
   "cell_type": "code",
   "execution_count": 6,
   "id": "78d74944",
   "metadata": {},
   "outputs": [
    {
     "data": {
      "text/html": [
       "<div>\n",
       "<style scoped>\n",
       "    .dataframe tbody tr th:only-of-type {\n",
       "        vertical-align: middle;\n",
       "    }\n",
       "\n",
       "    .dataframe tbody tr th {\n",
       "        vertical-align: top;\n",
       "    }\n",
       "\n",
       "    .dataframe thead th {\n",
       "        text-align: right;\n",
       "    }\n",
       "</style>\n",
       "<table border=\"1\" class=\"dataframe\">\n",
       "  <thead>\n",
       "    <tr style=\"text-align: right;\">\n",
       "      <th></th>\n",
       "      <th>datetime</th>\n",
       "      <th>season</th>\n",
       "      <th>holiday</th>\n",
       "      <th>workingday</th>\n",
       "      <th>weather</th>\n",
       "      <th>temp</th>\n",
       "      <th>atemp</th>\n",
       "      <th>humidity</th>\n",
       "      <th>windspeed</th>\n",
       "      <th>casual</th>\n",
       "      <th>registered</th>\n",
       "      <th>count</th>\n",
       "      <th>year</th>\n",
       "      <th>month</th>\n",
       "      <th>time</th>\n",
       "    </tr>\n",
       "  </thead>\n",
       "  <tbody>\n",
       "    <tr>\n",
       "      <th>4</th>\n",
       "      <td>2011-01-01 04:00:00</td>\n",
       "      <td>1</td>\n",
       "      <td>0</td>\n",
       "      <td>0</td>\n",
       "      <td>1</td>\n",
       "      <td>9.84</td>\n",
       "      <td>14.395</td>\n",
       "      <td>75</td>\n",
       "      <td>0.0000</td>\n",
       "      <td>0</td>\n",
       "      <td>1</td>\n",
       "      <td>1</td>\n",
       "      <td>2011</td>\n",
       "      <td>1</td>\n",
       "      <td>4</td>\n",
       "    </tr>\n",
       "    <tr>\n",
       "      <th>5</th>\n",
       "      <td>2011-01-01 05:00:00</td>\n",
       "      <td>1</td>\n",
       "      <td>0</td>\n",
       "      <td>0</td>\n",
       "      <td>2</td>\n",
       "      <td>9.84</td>\n",
       "      <td>12.880</td>\n",
       "      <td>75</td>\n",
       "      <td>6.0032</td>\n",
       "      <td>0</td>\n",
       "      <td>1</td>\n",
       "      <td>1</td>\n",
       "      <td>2011</td>\n",
       "      <td>1</td>\n",
       "      <td>5</td>\n",
       "    </tr>\n",
       "    <tr>\n",
       "      <th>6</th>\n",
       "      <td>2011-01-01 06:00:00</td>\n",
       "      <td>1</td>\n",
       "      <td>0</td>\n",
       "      <td>0</td>\n",
       "      <td>1</td>\n",
       "      <td>9.02</td>\n",
       "      <td>13.635</td>\n",
       "      <td>80</td>\n",
       "      <td>0.0000</td>\n",
       "      <td>2</td>\n",
       "      <td>0</td>\n",
       "      <td>2</td>\n",
       "      <td>2011</td>\n",
       "      <td>1</td>\n",
       "      <td>6</td>\n",
       "    </tr>\n",
       "    <tr>\n",
       "      <th>7</th>\n",
       "      <td>2011-01-01 07:00:00</td>\n",
       "      <td>1</td>\n",
       "      <td>0</td>\n",
       "      <td>0</td>\n",
       "      <td>1</td>\n",
       "      <td>8.20</td>\n",
       "      <td>12.880</td>\n",
       "      <td>86</td>\n",
       "      <td>0.0000</td>\n",
       "      <td>1</td>\n",
       "      <td>2</td>\n",
       "      <td>3</td>\n",
       "      <td>2011</td>\n",
       "      <td>1</td>\n",
       "      <td>7</td>\n",
       "    </tr>\n",
       "    <tr>\n",
       "      <th>28</th>\n",
       "      <td>2011-01-02 04:00:00</td>\n",
       "      <td>1</td>\n",
       "      <td>0</td>\n",
       "      <td>0</td>\n",
       "      <td>2</td>\n",
       "      <td>18.86</td>\n",
       "      <td>22.725</td>\n",
       "      <td>94</td>\n",
       "      <td>12.9980</td>\n",
       "      <td>2</td>\n",
       "      <td>1</td>\n",
       "      <td>3</td>\n",
       "      <td>2011</td>\n",
       "      <td>1</td>\n",
       "      <td>4</td>\n",
       "    </tr>\n",
       "    <tr>\n",
       "      <th>...</th>\n",
       "      <td>...</td>\n",
       "      <td>...</td>\n",
       "      <td>...</td>\n",
       "      <td>...</td>\n",
       "      <td>...</td>\n",
       "      <td>...</td>\n",
       "      <td>...</td>\n",
       "      <td>...</td>\n",
       "      <td>...</td>\n",
       "      <td>...</td>\n",
       "      <td>...</td>\n",
       "      <td>...</td>\n",
       "      <td>...</td>\n",
       "      <td>...</td>\n",
       "      <td>...</td>\n",
       "    </tr>\n",
       "    <tr>\n",
       "      <th>10698</th>\n",
       "      <td>2012-12-12 04:00:00</td>\n",
       "      <td>4</td>\n",
       "      <td>0</td>\n",
       "      <td>1</td>\n",
       "      <td>1</td>\n",
       "      <td>10.66</td>\n",
       "      <td>15.150</td>\n",
       "      <td>60</td>\n",
       "      <td>0.0000</td>\n",
       "      <td>0</td>\n",
       "      <td>4</td>\n",
       "      <td>4</td>\n",
       "      <td>2012</td>\n",
       "      <td>12</td>\n",
       "      <td>4</td>\n",
       "    </tr>\n",
       "    <tr>\n",
       "      <th>10721</th>\n",
       "      <td>2012-12-13 03:00:00</td>\n",
       "      <td>4</td>\n",
       "      <td>0</td>\n",
       "      <td>1</td>\n",
       "      <td>2</td>\n",
       "      <td>10.66</td>\n",
       "      <td>12.120</td>\n",
       "      <td>56</td>\n",
       "      <td>19.0012</td>\n",
       "      <td>0</td>\n",
       "      <td>2</td>\n",
       "      <td>2</td>\n",
       "      <td>2012</td>\n",
       "      <td>12</td>\n",
       "      <td>3</td>\n",
       "    </tr>\n",
       "    <tr>\n",
       "      <th>10771</th>\n",
       "      <td>2012-12-15 05:00:00</td>\n",
       "      <td>4</td>\n",
       "      <td>0</td>\n",
       "      <td>0</td>\n",
       "      <td>2</td>\n",
       "      <td>10.66</td>\n",
       "      <td>15.150</td>\n",
       "      <td>75</td>\n",
       "      <td>0.0000</td>\n",
       "      <td>0</td>\n",
       "      <td>3</td>\n",
       "      <td>3</td>\n",
       "      <td>2012</td>\n",
       "      <td>12</td>\n",
       "      <td>5</td>\n",
       "    </tr>\n",
       "    <tr>\n",
       "      <th>10817</th>\n",
       "      <td>2012-12-17 03:00:00</td>\n",
       "      <td>4</td>\n",
       "      <td>0</td>\n",
       "      <td>1</td>\n",
       "      <td>2</td>\n",
       "      <td>14.76</td>\n",
       "      <td>18.940</td>\n",
       "      <td>93</td>\n",
       "      <td>0.0000</td>\n",
       "      <td>0</td>\n",
       "      <td>3</td>\n",
       "      <td>3</td>\n",
       "      <td>2012</td>\n",
       "      <td>12</td>\n",
       "      <td>3</td>\n",
       "    </tr>\n",
       "    <tr>\n",
       "      <th>10864</th>\n",
       "      <td>2012-12-19 02:00:00</td>\n",
       "      <td>4</td>\n",
       "      <td>0</td>\n",
       "      <td>1</td>\n",
       "      <td>1</td>\n",
       "      <td>11.48</td>\n",
       "      <td>15.150</td>\n",
       "      <td>65</td>\n",
       "      <td>6.0032</td>\n",
       "      <td>1</td>\n",
       "      <td>2</td>\n",
       "      <td>3</td>\n",
       "      <td>2012</td>\n",
       "      <td>12</td>\n",
       "      <td>2</td>\n",
       "    </tr>\n",
       "  </tbody>\n",
       "</table>\n",
       "<p>530 rows × 15 columns</p>\n",
       "</div>"
      ],
      "text/plain": [
       "                  datetime  season  holiday  workingday  weather   temp  \\\n",
       "4      2011-01-01 04:00:00       1        0           0        1   9.84   \n",
       "5      2011-01-01 05:00:00       1        0           0        2   9.84   \n",
       "6      2011-01-01 06:00:00       1        0           0        1   9.02   \n",
       "7      2011-01-01 07:00:00       1        0           0        1   8.20   \n",
       "28     2011-01-02 04:00:00       1        0           0        2  18.86   \n",
       "...                    ...     ...      ...         ...      ...    ...   \n",
       "10698  2012-12-12 04:00:00       4        0           1        1  10.66   \n",
       "10721  2012-12-13 03:00:00       4        0           1        2  10.66   \n",
       "10771  2012-12-15 05:00:00       4        0           0        2  10.66   \n",
       "10817  2012-12-17 03:00:00       4        0           1        2  14.76   \n",
       "10864  2012-12-19 02:00:00       4        0           1        1  11.48   \n",
       "\n",
       "        atemp  humidity  windspeed  casual  registered  count  year  month  \\\n",
       "4      14.395        75     0.0000       0           1      1  2011      1   \n",
       "5      12.880        75     6.0032       0           1      1  2011      1   \n",
       "6      13.635        80     0.0000       2           0      2  2011      1   \n",
       "7      12.880        86     0.0000       1           2      3  2011      1   \n",
       "28     22.725        94    12.9980       2           1      3  2011      1   \n",
       "...       ...       ...        ...     ...         ...    ...   ...    ...   \n",
       "10698  15.150        60     0.0000       0           4      4  2012     12   \n",
       "10721  12.120        56    19.0012       0           2      2  2012     12   \n",
       "10771  15.150        75     0.0000       0           3      3  2012     12   \n",
       "10817  18.940        93     0.0000       0           3      3  2012     12   \n",
       "10864  15.150        65     6.0032       1           2      3  2012     12   \n",
       "\n",
       "       time  \n",
       "4         4  \n",
       "5         5  \n",
       "6         6  \n",
       "7         7  \n",
       "28        4  \n",
       "...     ...  \n",
       "10698     4  \n",
       "10721     3  \n",
       "10771     5  \n",
       "10817     3  \n",
       "10864     2  \n",
       "\n",
       "[530 rows x 15 columns]"
      ]
     },
     "execution_count": 6,
     "metadata": {},
     "output_type": "execute_result"
    }
   ],
   "source": [
    "df[df[\"count\"] < 5]"
   ]
  },
  {
   "cell_type": "code",
   "execution_count": 7,
   "id": "d2b51568",
   "metadata": {},
   "outputs": [],
   "source": [
    "use_df = df.drop(\"season\", axis = 1)\n",
    "onehot_month = pd.get_dummies(df[\"month\"], dtype = int)\n",
    "onehot_month.columns = [\"Jan\", \"Feb\", \"Mar\", \"Apr\", \"May\", \"Jun\", \"Jul\", \"Aug\", \"Sep\", \"Oct\", \"Nov\", \"Dec\"]\n",
    "onehot_time = pd.get_dummies(df[\"time\"], dtype = int)\n",
    "onehot_time.columns = [\"00\", \"01\", \"02\", \"03\", \"04\", \"05\", \"06\", \"07\", \"08\", \"09\", \"10\",\n",
    "                        \"11\", \"12\", \"13\", \"14\", \"15\", \"16\", \"17\", \"18\", \"19\", \"20\", \"21\", \"22\", \"23\"]\n",
    "\n",
    "use_df[\"date\"] = df[\"datetime\"].map(lambda x: x.split()[0])\n",
    "use_df[\"weekday\"] = use_df[\"date\"].map(lambda x: pd.to_datetime(x).weekday())\n",
    "\n",
    "\n",
    "onehot_season = pd.get_dummies(df[\"season\"], dtype = int)\n",
    "onehot_season.columns = [\"spring\", \"summer\", \"fall\", \"winter\"]\n",
    "onehot_weather = pd.get_dummies(df[\"weather\"], dtype = int)\n",
    "onehot_weather.columns = [\"M\", \"H\", \"S\", \"R\"]\n",
    "\n",
    "use_df = pd.concat([use_df, onehot_month, onehot_time, onehot_season], axis = 1).drop([\"month\", \"time\"], axis = 1)\n",
    "use_df[\"atemp\"] = use_df[\"atemp\"] - use_df[\"temp\"]"
   ]
  },
  {
   "cell_type": "code",
   "execution_count": 8,
   "id": "7eb903c1",
   "metadata": {},
   "outputs": [],
   "source": [
    "use_df.loc[:, \"windspeed\"] = np.round(df[\"windspeed\"], 2)"
   ]
  },
  {
   "cell_type": "code",
   "execution_count": 30,
   "id": "cdd3af04",
   "metadata": {},
   "outputs": [],
   "source": [
    "x = use_df.drop([\"datetime\", \"casual\", \"registered\", \"count\", \"windspeed\",\"date\"], axis = 1)\n",
    "y1 = use_df[\"casual\"]\n",
    "y2 = use_df[\"registered\"]\n",
    "y3 = use_df[\"count\"]"
   ]
  },
  {
   "cell_type": "code",
   "execution_count": 31,
   "id": "89688d0f",
   "metadata": {},
   "outputs": [],
   "source": [
    "x_train, x_test, y_train, y_test = train_test_split(x.drop(\"atemp\",axis= 1), y3, test_size = 0.3, random_state = 0)"
   ]
  },
  {
   "cell_type": "code",
   "execution_count": 32,
   "id": "319adbcd",
   "metadata": {},
   "outputs": [],
   "source": [
    "from sklearn.ensemble import RandomForestRegressor, ExtraTreesRegressor, GradientBoostingRegressor"
   ]
  },
  {
   "cell_type": "code",
   "execution_count": 33,
   "id": "93a1d8ad",
   "metadata": {},
   "outputs": [],
   "source": [
    "rf = RandomForestRegressor(max_depth = 25, min_samples_split = 7)\n",
    "et = ExtraTreesRegressor()\n",
    "gb = GradientBoostingRegressor()"
   ]
  },
  {
   "cell_type": "code",
   "execution_count": 34,
   "id": "dc842aa9",
   "metadata": {},
   "outputs": [
    {
     "data": {
      "text/plain": [
       "0.3405474650246209"
      ]
     },
     "execution_count": 34,
     "metadata": {},
     "output_type": "execute_result"
    }
   ],
   "source": [
    "rf.fit(x_train, np.log1p(y_train))\n",
    "pred = rf.predict(x_test)\n",
    "rmsle(y_test, np.expm1(pred), False)"
   ]
  },
  {
   "cell_type": "code",
   "execution_count": 35,
   "id": "fcc07dbd",
   "metadata": {},
   "outputs": [
    {
     "data": {
      "text/plain": [
       "0.35136623520177923"
      ]
     },
     "execution_count": 35,
     "metadata": {},
     "output_type": "execute_result"
    }
   ],
   "source": [
    "et.fit(x_train, np.log1p(y_train))\n",
    "pred = et.predict(x_test)\n",
    "rmsle(y_test, np.expm1(pred), False)"
   ]
  },
  {
   "cell_type": "code",
   "execution_count": 36,
   "id": "fa9c0c18",
   "metadata": {},
   "outputs": [
    {
     "name": "stderr",
     "output_type": "stream",
     "text": [
      "C:\\Users\\sungj\\AppData\\Local\\Temp\\ipykernel_18368\\2771910247.py:14: RuntimeWarning: invalid value encountered in log\n",
      "  log_pred = np.nan_to_num(np.log(y_pred + 1))\n"
     ]
    },
    {
     "data": {
      "text/plain": [
       "0.8221463429276744"
      ]
     },
     "execution_count": 36,
     "metadata": {},
     "output_type": "execute_result"
    }
   ],
   "source": [
    "gb.fit(x_train, y_train)\n",
    "pred = gb.predict(x_test)\n",
    "rmsle(y_test, pred, False)"
   ]
  },
  {
   "cell_type": "code",
   "execution_count": 77,
   "id": "f3008533",
   "metadata": {},
   "outputs": [],
   "source": [
    "# season을 제거하고 월을 쓰기위한 데이터 변환\n",
    "test_df[\"year\"] = test_df['datetime'].apply(lambda x: int(x[:4]))\n",
    "test_df[\"month\"] = test_df['datetime'].apply(lambda x: int(x[5:7]))\n",
    "test_df[\"time\"] = test_df['datetime'].apply(lambda x: int(x[11:13]))"
   ]
  },
  {
   "cell_type": "code",
   "execution_count": 78,
   "id": "a8129bc1",
   "metadata": {},
   "outputs": [],
   "source": [
    "use_test_df = test_df.drop(\"season\", axis = 1)\n",
    "#use_df = use_df.drop(\"holiday\", axis = 1)\n",
    "onehot_month = pd.get_dummies(test_df[\"month\"], dtype = int)\n",
    "onehot_month.columns = [\"Jan\", \"Feb\", \"Mar\", \"Apr\", \"May\", \"Jun\", \"Jul\", \"Aug\", \"Sep\", \"Oct\", \"Nov\", \"Dec\"]\n",
    "onehot_time = pd.get_dummies(test_df[\"time\"], dtype = int)\n",
    "onehot_time.columns = [\"00\", \"01\", \"02\", \"03\", \"04\", \"05\", \"06\", \"07\", \"08\", \"09\", \"10\",\n",
    "                        \"11\", \"12\", \"13\", \"14\", \"15\", \"16\", \"17\", \"18\", \"19\", \"20\", \"21\", \"22\", \"23\"]\n",
    "onehot_season = pd.get_dummies(test_df[\"season\"], dtype = int)\n",
    "onehot_season.columns = [\"spring\", \"summer\", \"fall\", \"winter\"]\n",
    "\n",
    "\n",
    "use_test_df = pd.concat([use_test_df, onehot_month, onehot_time, onehot_season], axis = 1).drop([\"month\", \"time\"], axis = 1)\n",
    "#use_test_df[\"atemp\"] = use_test_df[\"atemp\"] - use_test_df[\"temp\"]"
   ]
  },
  {
   "cell_type": "code",
   "execution_count": 79,
   "id": "2a97cf62",
   "metadata": {},
   "outputs": [],
   "source": [
    "use_test_df.loc[:, \"windspeed\"] = np.round(test_df[\"windspeed\"], 2)"
   ]
  },
  {
   "cell_type": "code",
   "execution_count": 80,
   "id": "5b7fc6ab",
   "metadata": {},
   "outputs": [
    {
     "data": {
      "text/plain": [
       "Index(['holiday', 'workingday', 'weather', 'temp', 'windspeed', 'year', 'Jan',\n",
       "       'Feb', 'Mar', 'Apr', 'May', 'Jun', 'Jul', 'Aug', 'Sep', 'Oct', 'Nov',\n",
       "       'Dec', '00', '01', '02', '03', '04', '05', '06', '07', '08', '09', '10',\n",
       "       '11', '12', '13', '14', '15', '16', '17', '18', '19', '20', '21', '22',\n",
       "       '23', 'spring', 'summer', 'fall', 'winter'],\n",
       "      dtype='object')"
      ]
     },
     "execution_count": 80,
     "metadata": {},
     "output_type": "execute_result"
    }
   ],
   "source": [
    "x_train.columns"
   ]
  },
  {
   "cell_type": "code",
   "execution_count": 81,
   "id": "73b17b6a",
   "metadata": {},
   "outputs": [
    {
     "data": {
      "text/plain": [
       "Index(['holiday', 'workingday', 'weather', 'temp', 'atemp', 'humidity',\n",
       "       'windspeed', 'year', 'Jan', 'Feb', 'Mar', 'Apr', 'May', 'Jun', 'Jul',\n",
       "       'Aug', 'Sep', 'Oct', 'Nov', 'Dec', '00', '01', '02', '03', '04', '05',\n",
       "       '06', '07', '08', '09', '10', '11', '12', '13', '14', '15', '16', '17',\n",
       "       '18', '19', '20', '21', '22', '23', 'spring', 'summer', 'fall',\n",
       "       'winter'],\n",
       "      dtype='object')"
      ]
     },
     "execution_count": 81,
     "metadata": {},
     "output_type": "execute_result"
    }
   ],
   "source": [
    "use_test_df.drop(\"datetime\", axis = 1).columns"
   ]
  },
  {
   "cell_type": "code",
   "execution_count": 82,
   "id": "083986a0",
   "metadata": {},
   "outputs": [],
   "source": [
    "use_test_df = use_test_df.drop([\"datetime\", \"humidity\", \"atemp\"], axis = 1)"
   ]
  },
  {
   "cell_type": "code",
   "execution_count": 84,
   "id": "fa9dfe17",
   "metadata": {},
   "outputs": [],
   "source": [
    "pred_test = rf.predict(use_test_df)\n",
    "pred_test = pd.DataFrame(np.expm1(pred_test), columns = [\"count\"])"
   ]
  },
  {
   "cell_type": "code",
   "execution_count": 85,
   "id": "4b67e462",
   "metadata": {},
   "outputs": [],
   "source": [
    "pred_df = pd.concat([test_df[\"datetime\"], pred_test], axis = 1)"
   ]
  },
  {
   "cell_type": "code",
   "execution_count": 88,
   "id": "9968d781",
   "metadata": {},
   "outputs": [
    {
     "data": {
      "text/html": [
       "<div>\n",
       "<style scoped>\n",
       "    .dataframe tbody tr th:only-of-type {\n",
       "        vertical-align: middle;\n",
       "    }\n",
       "\n",
       "    .dataframe tbody tr th {\n",
       "        vertical-align: top;\n",
       "    }\n",
       "\n",
       "    .dataframe thead th {\n",
       "        text-align: right;\n",
       "    }\n",
       "</style>\n",
       "<table border=\"1\" class=\"dataframe\">\n",
       "  <thead>\n",
       "    <tr style=\"text-align: right;\">\n",
       "      <th></th>\n",
       "      <th>datetime</th>\n",
       "      <th>count</th>\n",
       "    </tr>\n",
       "  </thead>\n",
       "  <tbody>\n",
       "    <tr>\n",
       "      <th>0</th>\n",
       "      <td>2011-01-20 00:00:00</td>\n",
       "      <td>8.232073</td>\n",
       "    </tr>\n",
       "    <tr>\n",
       "      <th>1</th>\n",
       "      <td>2011-01-20 01:00:00</td>\n",
       "      <td>4.137328</td>\n",
       "    </tr>\n",
       "    <tr>\n",
       "      <th>2</th>\n",
       "      <td>2011-01-20 02:00:00</td>\n",
       "      <td>2.153106</td>\n",
       "    </tr>\n",
       "    <tr>\n",
       "      <th>3</th>\n",
       "      <td>2011-01-20 03:00:00</td>\n",
       "      <td>3.627462</td>\n",
       "    </tr>\n",
       "    <tr>\n",
       "      <th>4</th>\n",
       "      <td>2011-01-20 04:00:00</td>\n",
       "      <td>1.448541</td>\n",
       "    </tr>\n",
       "    <tr>\n",
       "      <th>...</th>\n",
       "      <td>...</td>\n",
       "      <td>...</td>\n",
       "    </tr>\n",
       "    <tr>\n",
       "      <th>6488</th>\n",
       "      <td>2012-12-31 19:00:00</td>\n",
       "      <td>202.092752</td>\n",
       "    </tr>\n",
       "    <tr>\n",
       "      <th>6489</th>\n",
       "      <td>2012-12-31 20:00:00</td>\n",
       "      <td>151.747304</td>\n",
       "    </tr>\n",
       "    <tr>\n",
       "      <th>6490</th>\n",
       "      <td>2012-12-31 21:00:00</td>\n",
       "      <td>119.082105</td>\n",
       "    </tr>\n",
       "    <tr>\n",
       "      <th>6491</th>\n",
       "      <td>2012-12-31 22:00:00</td>\n",
       "      <td>92.118502</td>\n",
       "    </tr>\n",
       "    <tr>\n",
       "      <th>6492</th>\n",
       "      <td>2012-12-31 23:00:00</td>\n",
       "      <td>60.351868</td>\n",
       "    </tr>\n",
       "  </tbody>\n",
       "</table>\n",
       "<p>6493 rows × 2 columns</p>\n",
       "</div>"
      ],
      "text/plain": [
       "                 datetime       count\n",
       "0     2011-01-20 00:00:00    8.232073\n",
       "1     2011-01-20 01:00:00    4.137328\n",
       "2     2011-01-20 02:00:00    2.153106\n",
       "3     2011-01-20 03:00:00    3.627462\n",
       "4     2011-01-20 04:00:00    1.448541\n",
       "...                   ...         ...\n",
       "6488  2012-12-31 19:00:00  202.092752\n",
       "6489  2012-12-31 20:00:00  151.747304\n",
       "6490  2012-12-31 21:00:00  119.082105\n",
       "6491  2012-12-31 22:00:00   92.118502\n",
       "6492  2012-12-31 23:00:00   60.351868\n",
       "\n",
       "[6493 rows x 2 columns]"
      ]
     },
     "execution_count": 88,
     "metadata": {},
     "output_type": "execute_result"
    }
   ],
   "source": [
    "pred_df"
   ]
  },
  {
   "cell_type": "code",
   "execution_count": 91,
   "id": "eae99c10",
   "metadata": {},
   "outputs": [],
   "source": [
    "pred_df.to_csv('sample.csv', index=False)"
   ]
  },
  {
   "cell_type": "code",
   "execution_count": 23,
   "id": "5fd726dd",
   "metadata": {},
   "outputs": [],
   "source": [
    "params = {'max_depth': [30], 'min_impurity_decrease': [0.0051], 'min_samples_split': [8]}"
   ]
  },
  {
   "cell_type": "code",
   "execution_count": 24,
   "id": "52bc8f03",
   "metadata": {},
   "outputs": [],
   "source": [
    "gs = GridSearchCV(ExtraTreesRegressor(random_state = 0), params, n_jobs = -1)"
   ]
  },
  {
   "cell_type": "code",
   "execution_count": 137,
   "id": "c189ae79",
   "metadata": {},
   "outputs": [
    {
     "data": {
      "text/html": [
       "<style>#sk-container-id-5 {color: black;}#sk-container-id-5 pre{padding: 0;}#sk-container-id-5 div.sk-toggleable {background-color: white;}#sk-container-id-5 label.sk-toggleable__label {cursor: pointer;display: block;width: 100%;margin-bottom: 0;padding: 0.3em;box-sizing: border-box;text-align: center;}#sk-container-id-5 label.sk-toggleable__label-arrow:before {content: \"▸\";float: left;margin-right: 0.25em;color: #696969;}#sk-container-id-5 label.sk-toggleable__label-arrow:hover:before {color: black;}#sk-container-id-5 div.sk-estimator:hover label.sk-toggleable__label-arrow:before {color: black;}#sk-container-id-5 div.sk-toggleable__content {max-height: 0;max-width: 0;overflow: hidden;text-align: left;background-color: #f0f8ff;}#sk-container-id-5 div.sk-toggleable__content pre {margin: 0.2em;color: black;border-radius: 0.25em;background-color: #f0f8ff;}#sk-container-id-5 input.sk-toggleable__control:checked~div.sk-toggleable__content {max-height: 200px;max-width: 100%;overflow: auto;}#sk-container-id-5 input.sk-toggleable__control:checked~label.sk-toggleable__label-arrow:before {content: \"▾\";}#sk-container-id-5 div.sk-estimator input.sk-toggleable__control:checked~label.sk-toggleable__label {background-color: #d4ebff;}#sk-container-id-5 div.sk-label input.sk-toggleable__control:checked~label.sk-toggleable__label {background-color: #d4ebff;}#sk-container-id-5 input.sk-hidden--visually {border: 0;clip: rect(1px 1px 1px 1px);clip: rect(1px, 1px, 1px, 1px);height: 1px;margin: -1px;overflow: hidden;padding: 0;position: absolute;width: 1px;}#sk-container-id-5 div.sk-estimator {font-family: monospace;background-color: #f0f8ff;border: 1px dotted black;border-radius: 0.25em;box-sizing: border-box;margin-bottom: 0.5em;}#sk-container-id-5 div.sk-estimator:hover {background-color: #d4ebff;}#sk-container-id-5 div.sk-parallel-item::after {content: \"\";width: 100%;border-bottom: 1px solid gray;flex-grow: 1;}#sk-container-id-5 div.sk-label:hover label.sk-toggleable__label {background-color: #d4ebff;}#sk-container-id-5 div.sk-serial::before {content: \"\";position: absolute;border-left: 1px solid gray;box-sizing: border-box;top: 0;bottom: 0;left: 50%;z-index: 0;}#sk-container-id-5 div.sk-serial {display: flex;flex-direction: column;align-items: center;background-color: white;padding-right: 0.2em;padding-left: 0.2em;position: relative;}#sk-container-id-5 div.sk-item {position: relative;z-index: 1;}#sk-container-id-5 div.sk-parallel {display: flex;align-items: stretch;justify-content: center;background-color: white;position: relative;}#sk-container-id-5 div.sk-item::before, #sk-container-id-5 div.sk-parallel-item::before {content: \"\";position: absolute;border-left: 1px solid gray;box-sizing: border-box;top: 0;bottom: 0;left: 50%;z-index: -1;}#sk-container-id-5 div.sk-parallel-item {display: flex;flex-direction: column;z-index: 1;position: relative;background-color: white;}#sk-container-id-5 div.sk-parallel-item:first-child::after {align-self: flex-end;width: 50%;}#sk-container-id-5 div.sk-parallel-item:last-child::after {align-self: flex-start;width: 50%;}#sk-container-id-5 div.sk-parallel-item:only-child::after {width: 0;}#sk-container-id-5 div.sk-dashed-wrapped {border: 1px dashed gray;margin: 0 0.4em 0.5em 0.4em;box-sizing: border-box;padding-bottom: 0.4em;background-color: white;}#sk-container-id-5 div.sk-label label {font-family: monospace;font-weight: bold;display: inline-block;line-height: 1.2em;}#sk-container-id-5 div.sk-label-container {text-align: center;}#sk-container-id-5 div.sk-container {/* jupyter's `normalize.less` sets `[hidden] { display: none; }` but bootstrap.min.css set `[hidden] { display: none !important; }` so we also need the `!important` here to be able to override the default hidden behavior on the sphinx rendered scikit-learn.org. See: https://github.com/scikit-learn/scikit-learn/issues/21755 */display: inline-block !important;position: relative;}#sk-container-id-5 div.sk-text-repr-fallback {display: none;}</style><div id=\"sk-container-id-5\" class=\"sk-top-container\"><div class=\"sk-text-repr-fallback\"><pre>GridSearchCV(estimator=ExtraTreesRegressor(random_state=0), n_jobs=-1,\n",
       "             param_grid={&#x27;max_depth&#x27;: [30], &#x27;min_impurity_decrease&#x27;: [0.0051],\n",
       "                         &#x27;min_samples_split&#x27;: [8]})</pre><b>In a Jupyter environment, please rerun this cell to show the HTML representation or trust the notebook. <br />On GitHub, the HTML representation is unable to render, please try loading this page with nbviewer.org.</b></div><div class=\"sk-container\" hidden><div class=\"sk-item sk-dashed-wrapped\"><div class=\"sk-label-container\"><div class=\"sk-label sk-toggleable\"><input class=\"sk-toggleable__control sk-hidden--visually\" id=\"sk-estimator-id-13\" type=\"checkbox\" ><label for=\"sk-estimator-id-13\" class=\"sk-toggleable__label sk-toggleable__label-arrow\">GridSearchCV</label><div class=\"sk-toggleable__content\"><pre>GridSearchCV(estimator=ExtraTreesRegressor(random_state=0), n_jobs=-1,\n",
       "             param_grid={&#x27;max_depth&#x27;: [30], &#x27;min_impurity_decrease&#x27;: [0.0051],\n",
       "                         &#x27;min_samples_split&#x27;: [8]})</pre></div></div></div><div class=\"sk-parallel\"><div class=\"sk-parallel-item\"><div class=\"sk-item\"><div class=\"sk-label-container\"><div class=\"sk-label sk-toggleable\"><input class=\"sk-toggleable__control sk-hidden--visually\" id=\"sk-estimator-id-14\" type=\"checkbox\" ><label for=\"sk-estimator-id-14\" class=\"sk-toggleable__label sk-toggleable__label-arrow\">estimator: ExtraTreesRegressor</label><div class=\"sk-toggleable__content\"><pre>ExtraTreesRegressor(random_state=0)</pre></div></div></div><div class=\"sk-serial\"><div class=\"sk-item\"><div class=\"sk-estimator sk-toggleable\"><input class=\"sk-toggleable__control sk-hidden--visually\" id=\"sk-estimator-id-15\" type=\"checkbox\" ><label for=\"sk-estimator-id-15\" class=\"sk-toggleable__label sk-toggleable__label-arrow\">ExtraTreesRegressor</label><div class=\"sk-toggleable__content\"><pre>ExtraTreesRegressor(random_state=0)</pre></div></div></div></div></div></div></div></div></div></div>"
      ],
      "text/plain": [
       "GridSearchCV(estimator=ExtraTreesRegressor(random_state=0), n_jobs=-1,\n",
       "             param_grid={'max_depth': [30], 'min_impurity_decrease': [0.0051],\n",
       "                         'min_samples_split': [8]})"
      ]
     },
     "execution_count": 137,
     "metadata": {},
     "output_type": "execute_result"
    }
   ],
   "source": [
    "gs.fit(x_train, y_train)"
   ]
  },
  {
   "cell_type": "code",
   "execution_count": 138,
   "id": "514d5481",
   "metadata": {},
   "outputs": [
    {
     "data": {
      "text/plain": [
       "0.3809298251459086"
      ]
     },
     "execution_count": 138,
     "metadata": {},
     "output_type": "execute_result"
    }
   ],
   "source": [
    "pred = gs.predict(x_test)\n",
    "rmsle(y_test, pred, False)"
   ]
  },
  {
   "cell_type": "code",
   "execution_count": 89,
   "id": "1226b51e",
   "metadata": {},
   "outputs": [
    {
     "data": {
      "text/plain": [
       "{'max_depth': 30, 'min_impurity_decrease': 0.0051, 'min_samples_split': 8}"
      ]
     },
     "execution_count": 89,
     "metadata": {},
     "output_type": "execute_result"
    }
   ],
   "source": [
    "gs.best_params_"
   ]
  },
  {
   "cell_type": "code",
   "execution_count": 261,
   "id": "32892fc0",
   "metadata": {},
   "outputs": [],
   "source": [
    "params = {\"min_impurity_decrease\" : np.arange(0.00001, 0.01, 0.0001),\n",
    "         \"max_depth\" : [25],\n",
    "         \"min_samples_split\" : [7]}\n",
    "gs2 = GridSearchCV(RandomForestRegressor(random_state = 0), params, n_jobs = -1)"
   ]
  },
  {
   "cell_type": "code",
   "execution_count": 262,
   "id": "d971cd03",
   "metadata": {},
   "outputs": [
    {
     "data": {
      "text/html": [
       "<style>#sk-container-id-7 {color: black;}#sk-container-id-7 pre{padding: 0;}#sk-container-id-7 div.sk-toggleable {background-color: white;}#sk-container-id-7 label.sk-toggleable__label {cursor: pointer;display: block;width: 100%;margin-bottom: 0;padding: 0.3em;box-sizing: border-box;text-align: center;}#sk-container-id-7 label.sk-toggleable__label-arrow:before {content: \"▸\";float: left;margin-right: 0.25em;color: #696969;}#sk-container-id-7 label.sk-toggleable__label-arrow:hover:before {color: black;}#sk-container-id-7 div.sk-estimator:hover label.sk-toggleable__label-arrow:before {color: black;}#sk-container-id-7 div.sk-toggleable__content {max-height: 0;max-width: 0;overflow: hidden;text-align: left;background-color: #f0f8ff;}#sk-container-id-7 div.sk-toggleable__content pre {margin: 0.2em;color: black;border-radius: 0.25em;background-color: #f0f8ff;}#sk-container-id-7 input.sk-toggleable__control:checked~div.sk-toggleable__content {max-height: 200px;max-width: 100%;overflow: auto;}#sk-container-id-7 input.sk-toggleable__control:checked~label.sk-toggleable__label-arrow:before {content: \"▾\";}#sk-container-id-7 div.sk-estimator input.sk-toggleable__control:checked~label.sk-toggleable__label {background-color: #d4ebff;}#sk-container-id-7 div.sk-label input.sk-toggleable__control:checked~label.sk-toggleable__label {background-color: #d4ebff;}#sk-container-id-7 input.sk-hidden--visually {border: 0;clip: rect(1px 1px 1px 1px);clip: rect(1px, 1px, 1px, 1px);height: 1px;margin: -1px;overflow: hidden;padding: 0;position: absolute;width: 1px;}#sk-container-id-7 div.sk-estimator {font-family: monospace;background-color: #f0f8ff;border: 1px dotted black;border-radius: 0.25em;box-sizing: border-box;margin-bottom: 0.5em;}#sk-container-id-7 div.sk-estimator:hover {background-color: #d4ebff;}#sk-container-id-7 div.sk-parallel-item::after {content: \"\";width: 100%;border-bottom: 1px solid gray;flex-grow: 1;}#sk-container-id-7 div.sk-label:hover label.sk-toggleable__label {background-color: #d4ebff;}#sk-container-id-7 div.sk-serial::before {content: \"\";position: absolute;border-left: 1px solid gray;box-sizing: border-box;top: 0;bottom: 0;left: 50%;z-index: 0;}#sk-container-id-7 div.sk-serial {display: flex;flex-direction: column;align-items: center;background-color: white;padding-right: 0.2em;padding-left: 0.2em;position: relative;}#sk-container-id-7 div.sk-item {position: relative;z-index: 1;}#sk-container-id-7 div.sk-parallel {display: flex;align-items: stretch;justify-content: center;background-color: white;position: relative;}#sk-container-id-7 div.sk-item::before, #sk-container-id-7 div.sk-parallel-item::before {content: \"\";position: absolute;border-left: 1px solid gray;box-sizing: border-box;top: 0;bottom: 0;left: 50%;z-index: -1;}#sk-container-id-7 div.sk-parallel-item {display: flex;flex-direction: column;z-index: 1;position: relative;background-color: white;}#sk-container-id-7 div.sk-parallel-item:first-child::after {align-self: flex-end;width: 50%;}#sk-container-id-7 div.sk-parallel-item:last-child::after {align-self: flex-start;width: 50%;}#sk-container-id-7 div.sk-parallel-item:only-child::after {width: 0;}#sk-container-id-7 div.sk-dashed-wrapped {border: 1px dashed gray;margin: 0 0.4em 0.5em 0.4em;box-sizing: border-box;padding-bottom: 0.4em;background-color: white;}#sk-container-id-7 div.sk-label label {font-family: monospace;font-weight: bold;display: inline-block;line-height: 1.2em;}#sk-container-id-7 div.sk-label-container {text-align: center;}#sk-container-id-7 div.sk-container {/* jupyter's `normalize.less` sets `[hidden] { display: none; }` but bootstrap.min.css set `[hidden] { display: none !important; }` so we also need the `!important` here to be able to override the default hidden behavior on the sphinx rendered scikit-learn.org. See: https://github.com/scikit-learn/scikit-learn/issues/21755 */display: inline-block !important;position: relative;}#sk-container-id-7 div.sk-text-repr-fallback {display: none;}</style><div id=\"sk-container-id-7\" class=\"sk-top-container\"><div class=\"sk-text-repr-fallback\"><pre>GridSearchCV(estimator=RandomForestRegressor(random_state=0), n_jobs=-1,\n",
       "             param_grid={&#x27;max_depth&#x27;: [25],\n",
       "                         &#x27;min_impurity_decrease&#x27;: array([1.00e-05, 1.10e-04, 2.10e-04, 3.10e-04, 4.10e-04, 5.10e-04,\n",
       "       6.10e-04, 7.10e-04, 8.10e-04, 9.10e-04, 1.01e-03, 1.11e-03,\n",
       "       1.21e-03, 1.31e-03, 1.41e-03, 1.51e-03, 1.61e-03, 1.71e-03,\n",
       "       1.81e-03, 1.91e-03, 2.01e-03, 2.11e-03, 2.21e-03, 2.31e-03,\n",
       "       2.4...\n",
       "       6.01e-03, 6.11e-03, 6.21e-03, 6.31e-03, 6.41e-03, 6.51e-03,\n",
       "       6.61e-03, 6.71e-03, 6.81e-03, 6.91e-03, 7.01e-03, 7.11e-03,\n",
       "       7.21e-03, 7.31e-03, 7.41e-03, 7.51e-03, 7.61e-03, 7.71e-03,\n",
       "       7.81e-03, 7.91e-03, 8.01e-03, 8.11e-03, 8.21e-03, 8.31e-03,\n",
       "       8.41e-03, 8.51e-03, 8.61e-03, 8.71e-03, 8.81e-03, 8.91e-03,\n",
       "       9.01e-03, 9.11e-03, 9.21e-03, 9.31e-03, 9.41e-03, 9.51e-03,\n",
       "       9.61e-03, 9.71e-03, 9.81e-03, 9.91e-03]),\n",
       "                         &#x27;min_samples_split&#x27;: [7]})</pre><b>In a Jupyter environment, please rerun this cell to show the HTML representation or trust the notebook. <br />On GitHub, the HTML representation is unable to render, please try loading this page with nbviewer.org.</b></div><div class=\"sk-container\" hidden><div class=\"sk-item sk-dashed-wrapped\"><div class=\"sk-label-container\"><div class=\"sk-label sk-toggleable\"><input class=\"sk-toggleable__control sk-hidden--visually\" id=\"sk-estimator-id-19\" type=\"checkbox\" ><label for=\"sk-estimator-id-19\" class=\"sk-toggleable__label sk-toggleable__label-arrow\">GridSearchCV</label><div class=\"sk-toggleable__content\"><pre>GridSearchCV(estimator=RandomForestRegressor(random_state=0), n_jobs=-1,\n",
       "             param_grid={&#x27;max_depth&#x27;: [25],\n",
       "                         &#x27;min_impurity_decrease&#x27;: array([1.00e-05, 1.10e-04, 2.10e-04, 3.10e-04, 4.10e-04, 5.10e-04,\n",
       "       6.10e-04, 7.10e-04, 8.10e-04, 9.10e-04, 1.01e-03, 1.11e-03,\n",
       "       1.21e-03, 1.31e-03, 1.41e-03, 1.51e-03, 1.61e-03, 1.71e-03,\n",
       "       1.81e-03, 1.91e-03, 2.01e-03, 2.11e-03, 2.21e-03, 2.31e-03,\n",
       "       2.4...\n",
       "       6.01e-03, 6.11e-03, 6.21e-03, 6.31e-03, 6.41e-03, 6.51e-03,\n",
       "       6.61e-03, 6.71e-03, 6.81e-03, 6.91e-03, 7.01e-03, 7.11e-03,\n",
       "       7.21e-03, 7.31e-03, 7.41e-03, 7.51e-03, 7.61e-03, 7.71e-03,\n",
       "       7.81e-03, 7.91e-03, 8.01e-03, 8.11e-03, 8.21e-03, 8.31e-03,\n",
       "       8.41e-03, 8.51e-03, 8.61e-03, 8.71e-03, 8.81e-03, 8.91e-03,\n",
       "       9.01e-03, 9.11e-03, 9.21e-03, 9.31e-03, 9.41e-03, 9.51e-03,\n",
       "       9.61e-03, 9.71e-03, 9.81e-03, 9.91e-03]),\n",
       "                         &#x27;min_samples_split&#x27;: [7]})</pre></div></div></div><div class=\"sk-parallel\"><div class=\"sk-parallel-item\"><div class=\"sk-item\"><div class=\"sk-label-container\"><div class=\"sk-label sk-toggleable\"><input class=\"sk-toggleable__control sk-hidden--visually\" id=\"sk-estimator-id-20\" type=\"checkbox\" ><label for=\"sk-estimator-id-20\" class=\"sk-toggleable__label sk-toggleable__label-arrow\">estimator: RandomForestRegressor</label><div class=\"sk-toggleable__content\"><pre>RandomForestRegressor(random_state=0)</pre></div></div></div><div class=\"sk-serial\"><div class=\"sk-item\"><div class=\"sk-estimator sk-toggleable\"><input class=\"sk-toggleable__control sk-hidden--visually\" id=\"sk-estimator-id-21\" type=\"checkbox\" ><label for=\"sk-estimator-id-21\" class=\"sk-toggleable__label sk-toggleable__label-arrow\">RandomForestRegressor</label><div class=\"sk-toggleable__content\"><pre>RandomForestRegressor(random_state=0)</pre></div></div></div></div></div></div></div></div></div></div>"
      ],
      "text/plain": [
       "GridSearchCV(estimator=RandomForestRegressor(random_state=0), n_jobs=-1,\n",
       "             param_grid={'max_depth': [25],\n",
       "                         'min_impurity_decrease': array([1.00e-05, 1.10e-04, 2.10e-04, 3.10e-04, 4.10e-04, 5.10e-04,\n",
       "       6.10e-04, 7.10e-04, 8.10e-04, 9.10e-04, 1.01e-03, 1.11e-03,\n",
       "       1.21e-03, 1.31e-03, 1.41e-03, 1.51e-03, 1.61e-03, 1.71e-03,\n",
       "       1.81e-03, 1.91e-03, 2.01e-03, 2.11e-03, 2.21e-03, 2.31e-03,\n",
       "       2.4...\n",
       "       6.01e-03, 6.11e-03, 6.21e-03, 6.31e-03, 6.41e-03, 6.51e-03,\n",
       "       6.61e-03, 6.71e-03, 6.81e-03, 6.91e-03, 7.01e-03, 7.11e-03,\n",
       "       7.21e-03, 7.31e-03, 7.41e-03, 7.51e-03, 7.61e-03, 7.71e-03,\n",
       "       7.81e-03, 7.91e-03, 8.01e-03, 8.11e-03, 8.21e-03, 8.31e-03,\n",
       "       8.41e-03, 8.51e-03, 8.61e-03, 8.71e-03, 8.81e-03, 8.91e-03,\n",
       "       9.01e-03, 9.11e-03, 9.21e-03, 9.31e-03, 9.41e-03, 9.51e-03,\n",
       "       9.61e-03, 9.71e-03, 9.81e-03, 9.91e-03]),\n",
       "                         'min_samples_split': [7]})"
      ]
     },
     "execution_count": 262,
     "metadata": {},
     "output_type": "execute_result"
    }
   ],
   "source": [
    "gs2.fit(x_train, np.log1p(y_train))"
   ]
  },
  {
   "cell_type": "code",
   "execution_count": 263,
   "id": "937c8c4d",
   "metadata": {},
   "outputs": [
    {
     "data": {
      "text/plain": [
       "0.3652472056640648"
      ]
     },
     "execution_count": 263,
     "metadata": {},
     "output_type": "execute_result"
    }
   ],
   "source": [
    "pred = gs2.predict(x_test)\n",
    "rmsle(y_test, np.expm1(pred), False)"
   ]
  },
  {
   "cell_type": "code",
   "execution_count": 237,
   "id": "cbf8bb3c",
   "metadata": {},
   "outputs": [
    {
     "data": {
      "text/plain": [
       "{'max_depth': 25, 'min_impurity_decrease': 0.001, 'min_samples_split': 4}"
      ]
     },
     "execution_count": 237,
     "metadata": {},
     "output_type": "execute_result"
    }
   ],
   "source": [
    "gs2.best_params_"
   ]
  },
  {
   "cell_type": "code",
   "execution_count": null,
   "id": "00ae9ffa",
   "metadata": {},
   "outputs": [],
   "source": []
  }
 ],
 "metadata": {
  "kernelspec": {
   "display_name": "Python 3 (ipykernel)",
   "language": "python",
   "name": "python3"
  },
  "language_info": {
   "codemirror_mode": {
    "name": "ipython",
    "version": 3
   },
   "file_extension": ".py",
   "mimetype": "text/x-python",
   "name": "python",
   "nbconvert_exporter": "python",
   "pygments_lexer": "ipython3",
   "version": "3.11.5"
  }
 },
 "nbformat": 4,
 "nbformat_minor": 5
}
