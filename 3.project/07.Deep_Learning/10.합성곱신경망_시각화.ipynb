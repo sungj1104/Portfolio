{
 "cells": [
  {
   "cell_type": "code",
   "execution_count": 1,
   "id": "71820578",
   "metadata": {},
   "outputs": [],
   "source": [
    "from tensorflow import keras\n",
    "import matplotlib.pyplot as plt"
   ]
  },
  {
   "cell_type": "markdown",
   "id": "59d28cc9",
   "metadata": {},
   "source": [
    "# 필터의 가중치\n",
    "\n",
    "- 입력 이미지의 2차원 영역에 적용되어 어떤 특징을 크게 두드러지게 표현하는 역할\n",
    "    - 예) 물건의 테두리 같은 특징적인 부분의 가중치는 높고 그 외 영역은 가중치가 낮게"
   ]
  },
  {
   "cell_type": "code",
   "execution_count": 3,
   "id": "0fa52eb3",
   "metadata": {},
   "outputs": [],
   "source": [
    "# 저장해둔 CNN모델 불러오기\n",
    "model = keras.models.load_model(\"./model/best-cnn-model.keras\")"
   ]
  },
  {
   "cell_type": "code",
   "execution_count": 4,
   "id": "12ca5eef",
   "metadata": {},
   "outputs": [
    {
     "data": {
      "text/plain": [
       "[<Conv2D name=conv2d, built=True>,\n",
       " <MaxPooling2D name=max_pooling2d, built=True>,\n",
       " <Conv2D name=conv2d_1, built=True>,\n",
       " <MaxPooling2D name=max_pooling2d_1, built=True>,\n",
       " <Flatten name=flatten, built=True>,\n",
       " <Dense name=dense, built=True>,\n",
       " <Dropout name=dropout, built=True>,\n",
       " <Dense name=dense_1, built=True>]"
      ]
     },
     "execution_count": 4,
     "metadata": {},
     "output_type": "execute_result"
    }
   ],
   "source": [
    "# 모델 층 확인\n",
    "model.layers"
   ]
  },
  {
   "cell_type": "code",
   "execution_count": 5,
   "id": "ef669329",
   "metadata": {},
   "outputs": [],
   "source": [
    "# 첫 번째 합성곱 층의 가중치 확인\n",
    "conv = model.layers[0]"
   ]
  },
  {
   "cell_type": "code",
   "execution_count": 18,
   "id": "d42e39e2",
   "metadata": {},
   "outputs": [
    {
     "data": {
      "text/plain": [
       "TensorShape([32])"
      ]
     },
     "execution_count": 18,
     "metadata": {},
     "output_type": "execute_result"
    }
   ],
   "source": [
    "conv.weights[1].shape"
   ]
  },
  {
   "cell_type": "markdown",
   "id": "3fc84b74",
   "metadata": {},
   "source": [
    "- conv.weights[0]\n",
    "    - 가중치\n",
    "    - 가중치의 크기\n",
    "        - 커널의 크기 : (3, 2, 1)\n",
    "        - 필터의 개수 : 32\n",
    "        \n",
    "- conv.weights[1]\n",
    "    - 절편의 개수 = 필터의 개수"
   ]
  },
  {
   "cell_type": "code",
   "execution_count": 19,
   "id": "dac948a3",
   "metadata": {
    "scrolled": true
   },
   "outputs": [
    {
     "data": {
      "text/plain": [
       "<tf.Variable 'conv2d/kernel:0' shape=(3, 3, 1, 32) dtype=float32, numpy=\n",
       "array([[[[ 0.02833049, -0.255672  , -0.07142012,  0.2304153 ,\n",
       "           0.12366454, -0.13248204, -0.10642266, -0.00645073,\n",
       "           0.09275089,  0.07244124,  0.25390542,  0.14991747,\n",
       "           0.11954434, -0.42562124, -0.30286974,  0.00242672,\n",
       "           0.02083925,  0.01804969, -0.37368807,  0.27240473,\n",
       "           0.04636173, -0.04770205,  0.20301601, -0.17253806,\n",
       "          -0.11898524, -0.23140584, -0.06145355,  0.1842158 ,\n",
       "          -0.0347415 ,  0.04457205,  0.21641833,  0.3835788 ]],\n",
       "\n",
       "        [[-1.7181671 , -0.29265523,  0.00424835,  0.38496506,\n",
       "          -0.3387374 ,  0.11972828,  0.14959843,  0.00865946,\n",
       "           0.09540279,  0.0730729 , -0.29656655, -0.08438323,\n",
       "          -0.15770827, -0.40645373,  0.23841083, -0.27777335,\n",
       "          -0.05103203, -0.00655868,  0.3282636 ,  0.31029078,\n",
       "          -0.00697288,  0.23809816, -0.10735033, -0.15196197,\n",
       "           0.25566748,  0.07922976, -0.17005037, -0.17750044,\n",
       "          -0.10430621,  0.10976877,  0.11672207, -0.40494624]],\n",
       "\n",
       "        [[-0.42424667,  0.25337505, -0.02793967, -0.16062011,\n",
       "           0.05419078, -0.11377283,  0.10404848, -0.34085363,\n",
       "           0.1315074 ,  0.1584024 , -0.60097057, -0.00522492,\n",
       "           0.142071  ,  0.00719495,  0.07458036,  0.28977984,\n",
       "           0.07786209,  0.01207668,  0.06685687,  0.16373253,\n",
       "           0.00815736,  0.02248932, -0.24787156,  0.07118348,\n",
       "          -0.10177448,  0.12279262,  0.01942605, -0.14159937,\n",
       "           0.1930588 ,  0.01196016,  0.02071632,  0.017099  ]]],\n",
       "\n",
       "\n",
       "       [[[ 0.0180578 , -0.14174756, -0.1346257 ,  0.07748735,\n",
       "           0.27956516,  0.15367322,  0.25475335, -0.04556426,\n",
       "           0.03037546, -0.46104008,  0.11652315,  0.11265682,\n",
       "          -0.19053312,  0.26015684,  0.1435988 ,  0.28113294,\n",
       "           0.00972367, -0.22090265, -0.39117295,  0.24816902,\n",
       "           0.17378052,  0.28843203,  0.0710345 , -0.4308359 ,\n",
       "           0.07420755,  0.05006297, -0.06708307,  0.3617011 ,\n",
       "          -0.3435853 , -0.1700635 , -0.02987718,  0.11452666]],\n",
       "\n",
       "        [[-0.7795026 ,  0.3775947 , -0.14061311, -0.23313275,\n",
       "          -0.12722406,  0.19309832,  0.08374947,  0.23501226,\n",
       "           0.10158526,  0.09008504,  0.00353519, -0.12301549,\n",
       "          -0.10332642,  0.3751998 , -0.24000219,  0.1247585 ,\n",
       "           0.13483584,  0.38213456,  0.27522287, -0.06371681,\n",
       "           0.18268085,  0.09624512,  0.4489386 , -0.03550724,\n",
       "           0.3957261 ,  0.23944017,  0.10847978, -0.09103595,\n",
       "          -0.12017377,  0.1418507 ,  0.15063184,  0.02858602]],\n",
       "\n",
       "        [[-0.2829596 ,  0.12225478, -0.01459944, -0.25882018,\n",
       "           0.12482422, -0.2971925 , -0.03018837,  0.181696  ,\n",
       "          -0.07940085,  0.25555813, -0.07752842,  0.04018854,\n",
       "           0.28105766, -0.03776049,  0.13849127, -0.4091233 ,\n",
       "          -0.05917405, -0.17993885,  0.11562511,  0.00592577,\n",
       "          -0.3535671 , -0.25731286, -0.08714239,  0.36779195,\n",
       "          -0.40224534, -0.14819966,  0.03734444, -0.16860789,\n",
       "           0.31804562,  0.04380899,  0.13660416, -0.15493743]]],\n",
       "\n",
       "\n",
       "       [[[ 0.3780548 ,  0.21273471, -0.12503274, -0.05136703,\n",
       "           0.33670944,  0.12628204, -0.06191289, -0.03150273,\n",
       "          -0.02356798, -0.3453634 ,  0.1567594 ,  0.27470288,\n",
       "           0.04687356,  0.24447663,  0.07908863, -0.23082994,\n",
       "          -0.06750444,  0.02419628, -0.08301935, -0.28369847,\n",
       "          -0.0018927 ,  0.2929767 , -0.45893812,  0.03412662,\n",
       "           0.02887252,  0.12383716, -0.20372882,  0.2563564 ,\n",
       "          -0.25695816, -0.20810813,  0.0018608 , -0.24989061]],\n",
       "\n",
       "        [[-0.01150456,  0.13523664,  0.00692696, -0.14486875,\n",
       "          -0.2336369 ,  0.03973455, -0.22031437, -0.24495533,\n",
       "          -0.18174782, -0.08232538,  0.25353935, -0.17624417,\n",
       "          -0.33886364, -0.0867725 , -0.2623606 ,  0.1836589 ,\n",
       "           0.09126446,  0.20011093, -0.09640012, -0.456111  ,\n",
       "          -0.0562764 , -0.20112176,  0.00854189,  0.31602874,\n",
       "           0.22303753, -0.13669302,  0.17882632, -0.15611893,\n",
       "           0.21785395,  0.18680514,  0.08217785,  0.12103189]],\n",
       "\n",
       "        [[ 0.2961456 , -0.50640625, -0.09014563, -0.04425227,\n",
       "          -0.15364611, -0.03338559, -0.07219417,  0.13682634,\n",
       "           0.04997807,  0.3057018 ,  0.00444736, -0.11492134,\n",
       "           0.29822382,  0.09341325,  0.16325423,  0.03195767,\n",
       "          -0.10701979, -0.1766143 ,  0.18071605, -0.24156262,\n",
       "           0.04234573, -0.4010388 ,  0.1529083 , -0.04151079,\n",
       "          -0.34304586, -0.2869889 , -0.15942211,  0.05239585,\n",
       "           0.13289097, -0.13986164,  0.20494945,  0.14818391]]]],\n",
       "      dtype=float32)>"
      ]
     },
     "execution_count": 19,
     "metadata": {},
     "output_type": "execute_result"
    }
   ],
   "source": [
    "conv.weights[0].value"
   ]
  },
  {
   "cell_type": "code",
   "execution_count": 15,
   "id": "a995cee5",
   "metadata": {
    "scrolled": true
   },
   "outputs": [
    {
     "data": {
      "text/plain": [
       "array([[[[ 0.02833049, -0.255672  , -0.07142012,  0.2304153 ,\n",
       "           0.12366454, -0.13248204, -0.10642266, -0.00645073,\n",
       "           0.09275089,  0.07244124,  0.25390542,  0.14991747,\n",
       "           0.11954434, -0.42562124, -0.30286974,  0.00242672,\n",
       "           0.02083925,  0.01804969, -0.37368807,  0.27240473,\n",
       "           0.04636173, -0.04770205,  0.20301601, -0.17253806,\n",
       "          -0.11898524, -0.23140584, -0.06145355,  0.1842158 ,\n",
       "          -0.0347415 ,  0.04457205,  0.21641833,  0.3835788 ]],\n",
       "\n",
       "        [[-1.7181671 , -0.29265523,  0.00424835,  0.38496506,\n",
       "          -0.3387374 ,  0.11972828,  0.14959843,  0.00865946,\n",
       "           0.09540279,  0.0730729 , -0.29656655, -0.08438323,\n",
       "          -0.15770827, -0.40645373,  0.23841083, -0.27777335,\n",
       "          -0.05103203, -0.00655868,  0.3282636 ,  0.31029078,\n",
       "          -0.00697288,  0.23809816, -0.10735033, -0.15196197,\n",
       "           0.25566748,  0.07922976, -0.17005037, -0.17750044,\n",
       "          -0.10430621,  0.10976877,  0.11672207, -0.40494624]],\n",
       "\n",
       "        [[-0.42424667,  0.25337505, -0.02793967, -0.16062011,\n",
       "           0.05419078, -0.11377283,  0.10404848, -0.34085363,\n",
       "           0.1315074 ,  0.1584024 , -0.60097057, -0.00522492,\n",
       "           0.142071  ,  0.00719495,  0.07458036,  0.28977984,\n",
       "           0.07786209,  0.01207668,  0.06685687,  0.16373253,\n",
       "           0.00815736,  0.02248932, -0.24787156,  0.07118348,\n",
       "          -0.10177448,  0.12279262,  0.01942605, -0.14159937,\n",
       "           0.1930588 ,  0.01196016,  0.02071632,  0.017099  ]]],\n",
       "\n",
       "\n",
       "       [[[ 0.0180578 , -0.14174756, -0.1346257 ,  0.07748735,\n",
       "           0.27956516,  0.15367322,  0.25475335, -0.04556426,\n",
       "           0.03037546, -0.46104008,  0.11652315,  0.11265682,\n",
       "          -0.19053312,  0.26015684,  0.1435988 ,  0.28113294,\n",
       "           0.00972367, -0.22090265, -0.39117295,  0.24816902,\n",
       "           0.17378052,  0.28843203,  0.0710345 , -0.4308359 ,\n",
       "           0.07420755,  0.05006297, -0.06708307,  0.3617011 ,\n",
       "          -0.3435853 , -0.1700635 , -0.02987718,  0.11452666]],\n",
       "\n",
       "        [[-0.7795026 ,  0.3775947 , -0.14061311, -0.23313275,\n",
       "          -0.12722406,  0.19309832,  0.08374947,  0.23501226,\n",
       "           0.10158526,  0.09008504,  0.00353519, -0.12301549,\n",
       "          -0.10332642,  0.3751998 , -0.24000219,  0.1247585 ,\n",
       "           0.13483584,  0.38213456,  0.27522287, -0.06371681,\n",
       "           0.18268085,  0.09624512,  0.4489386 , -0.03550724,\n",
       "           0.3957261 ,  0.23944017,  0.10847978, -0.09103595,\n",
       "          -0.12017377,  0.1418507 ,  0.15063184,  0.02858602]],\n",
       "\n",
       "        [[-0.2829596 ,  0.12225478, -0.01459944, -0.25882018,\n",
       "           0.12482422, -0.2971925 , -0.03018837,  0.181696  ,\n",
       "          -0.07940085,  0.25555813, -0.07752842,  0.04018854,\n",
       "           0.28105766, -0.03776049,  0.13849127, -0.4091233 ,\n",
       "          -0.05917405, -0.17993885,  0.11562511,  0.00592577,\n",
       "          -0.3535671 , -0.25731286, -0.08714239,  0.36779195,\n",
       "          -0.40224534, -0.14819966,  0.03734444, -0.16860789,\n",
       "           0.31804562,  0.04380899,  0.13660416, -0.15493743]]],\n",
       "\n",
       "\n",
       "       [[[ 0.3780548 ,  0.21273471, -0.12503274, -0.05136703,\n",
       "           0.33670944,  0.12628204, -0.06191289, -0.03150273,\n",
       "          -0.02356798, -0.3453634 ,  0.1567594 ,  0.27470288,\n",
       "           0.04687356,  0.24447663,  0.07908863, -0.23082994,\n",
       "          -0.06750444,  0.02419628, -0.08301935, -0.28369847,\n",
       "          -0.0018927 ,  0.2929767 , -0.45893812,  0.03412662,\n",
       "           0.02887252,  0.12383716, -0.20372882,  0.2563564 ,\n",
       "          -0.25695816, -0.20810813,  0.0018608 , -0.24989061]],\n",
       "\n",
       "        [[-0.01150456,  0.13523664,  0.00692696, -0.14486875,\n",
       "          -0.2336369 ,  0.03973455, -0.22031437, -0.24495533,\n",
       "          -0.18174782, -0.08232538,  0.25353935, -0.17624417,\n",
       "          -0.33886364, -0.0867725 , -0.2623606 ,  0.1836589 ,\n",
       "           0.09126446,  0.20011093, -0.09640012, -0.456111  ,\n",
       "          -0.0562764 , -0.20112176,  0.00854189,  0.31602874,\n",
       "           0.22303753, -0.13669302,  0.17882632, -0.15611893,\n",
       "           0.21785395,  0.18680514,  0.08217785,  0.12103189]],\n",
       "\n",
       "        [[ 0.2961456 , -0.50640625, -0.09014563, -0.04425227,\n",
       "          -0.15364611, -0.03338559, -0.07219417,  0.13682634,\n",
       "           0.04997807,  0.3057018 ,  0.00444736, -0.11492134,\n",
       "           0.29822382,  0.09341325,  0.16325423,  0.03195767,\n",
       "          -0.10701979, -0.1766143 ,  0.18071605, -0.24156262,\n",
       "           0.04234573, -0.4010388 ,  0.1529083 , -0.04151079,\n",
       "          -0.34304586, -0.2869889 , -0.15942211,  0.05239585,\n",
       "           0.13289097, -0.13986164,  0.20494945,  0.14818391]]]],\n",
       "      dtype=float32)"
      ]
     },
     "execution_count": 15,
     "metadata": {},
     "output_type": "execute_result"
    }
   ],
   "source": [
    "conv_weights = conv.weights[0].numpy()\n",
    "conv_weights"
   ]
  },
  {
   "cell_type": "code",
   "execution_count": 20,
   "id": "5bffef21",
   "metadata": {},
   "outputs": [
    {
     "name": "stdout",
     "output_type": "stream",
     "text": [
      "-0.008025307 0.23126076\n"
     ]
    }
   ],
   "source": [
    "print(conv_weights.mean(), conv_weights.std())"
   ]
  },
  {
   "cell_type": "code",
   "execution_count": 21,
   "id": "dec3d2b0",
   "metadata": {},
   "outputs": [
    {
     "data": {
      "image/png": "[encoded data removed]",
      "text/plain": [
       "<Figure size 640x480 with 1 Axes>"
      ]
     },
     "metadata": {},
     "output_type": "display_data"
    }
   ],
   "source": [
    "# 가중치 히스토그램\n",
    "plt.figure()\n",
    "\n",
    "plt.hist(conv_weights.reshape(-1, 1))\n",
    "plt.xlabel(\"weight\")\n",
    "plt.ylabel(\"count\")\n",
    "plt.show()"
   ]
  },
  {
   "cell_type": "markdown",
   "id": "1e9bff95",
   "metadata": {},
   "source": [
    "- 0을 중심으로 종 모양의 분포"
   ]
  },
  {
   "cell_type": "code",
   "execution_count": 22,
   "id": "7c666dd4",
   "metadata": {},
   "outputs": [
    {
     "data": {
      "image/png": "[encoded data removed]",
      "text/plain": [
       "<Figure size 1500x200 with 32 Axes>"
      ]
     },
     "metadata": {},
     "output_type": "display_data"
    }
   ],
   "source": [
    "# 32개의 커널을 모두 시각화\n",
    "fig, axs = plt.subplots(2, 16, figsize = (15, 2))\n",
    "\n",
    "for i in range(2):\n",
    "    for j in range(16):\n",
    "        axs[i, j].imshow(conv_weights[:, :, 0, i * 16 + j], vmin = -0.5, vmax = 0.5)\n",
    "        axs[i, j].axis(\"off\")\n",
    "        \n",
    "plt.show()"
   ]
  },
  {
   "cell_type": "markdown",
   "id": "5a535e5a",
   "metadata": {},
   "source": [
    "- 밝은 부분이 높은 값\n",
    "    - 가중치가 높은 영역에 이미지가 겹치면 크게 활성화됨\n",
    "        - 예) 오른쪽 세로로 한 줄의 가중치가 높다면 오른쪽에 놓인 직선을 만나면 크게 활성화\n",
    "        \n",
    "- i : 행 인덱스(0 ~ 1)\n",
    "- j : 열 인덱스(0 ~ 15)\n",
    "    - conv_weights[:, :, 0, 0] 부터 conv_weights[:, :, 0, 31] 까지 출력\n",
    "\n",
    "- imshow()\n",
    "    - 배열의 최댓값과 최솟값으로 픽셀의 강도를 표현\n",
    "        - 배열의 최댓값은 가장 밝은 색으로\n",
    "        - 배열의 최솟값은 가장 어두운 색으로 표현\n",
    "    - vmax, vmin\n",
    "        - 컬러맵으로 표현할 색의 범위 지정"
   ]
  },
  {
   "cell_type": "markdown",
   "id": "43b405db",
   "metadata": {},
   "source": [
    "# 훈련하지 않은 빈 합성곱 신경망과 비교"
   ]
  },
  {
   "cell_type": "code",
   "execution_count": 24,
   "id": "56533c0c",
   "metadata": {},
   "outputs": [
    {
     "name": "stderr",
     "output_type": "stream",
     "text": [
      "C:\\Users\\sungj\\AppData\\Roaming\\Python\\Python311\\site-packages\\keras\\src\\layers\\convolutional\\base_conv.py:99: UserWarning: Do not pass an `input_shape`/`input_dim` argument to a layer. When using Sequential models, prefer using an `Input(shape)` object as the first layer in the model instead.\n",
      "  super().__init__(\n"
     ]
    }
   ],
   "source": [
    "no_training_model = keras.Sequential()\n",
    "no_training_model.add(keras.layers.Conv2D(32, kernel_size = 3, activation = \"relu\", padding = \"same\", input_shape = (28, 28, 1)))"
   ]
  },
  {
   "cell_type": "code",
   "execution_count": 25,
   "id": "7bb22259",
   "metadata": {},
   "outputs": [
    {
     "name": "stdout",
     "output_type": "stream",
     "text": [
      "(3, 3, 1, 32)\n"
     ]
    }
   ],
   "source": [
    "# 훈련하지 않은 빈 합성곱 층의 가중치를 저장\n",
    "no_training_conv = no_training_model.layers[0]\n",
    "print(no_training_conv.weights[0].shape)"
   ]
  },
  {
   "cell_type": "code",
   "execution_count": 26,
   "id": "d23ac77f",
   "metadata": {},
   "outputs": [
    {
     "name": "stdout",
     "output_type": "stream",
     "text": [
      "-0.0037973837 0.077325724\n"
     ]
    }
   ],
   "source": [
    "no_training_weights = no_training_conv.weights[0].numpy()\n",
    "print(no_training_weights.mean(), no_training_weights.std())"
   ]
  },
  {
   "cell_type": "code",
   "execution_count": 27,
   "id": "860ee494",
   "metadata": {},
   "outputs": [
    {
     "data": {
      "image/png": "[encoded data removed]",
      "text/plain": [
       "<Figure size 640x480 with 1 Axes>"
      ]
     },
     "metadata": {},
     "output_type": "display_data"
    }
   ],
   "source": [
    "# 빈 합성곱 층 히스토그램\n",
    "plt.figure()\n",
    "plt.hist(no_training_weights.reshape(-1, 1))\n",
    "\n",
    "plt.xlabel(\"weight\")\n",
    "plt.ylabel('count')\n",
    "plt.show()"
   ]
  },
  {
   "cell_type": "markdown",
   "id": "7c6a1803",
   "metadata": {},
   "source": [
    "- 대부분의 가중치가 -0.15 부터 0.15 까지 고르게 분포함\n",
    "    - 텐서플로에서 가중치를 초기화할 때 균등 분포에서 랜덤하게 값을 선택하기 때문에"
   ]
  },
  {
   "cell_type": "code",
   "execution_count": 29,
   "id": "b7c81715",
   "metadata": {},
   "outputs": [
    {
     "data": {
      "image/png": "[encoded data removed]",
      "text/plain": [
       "<Figure size 1500x200 with 32 Axes>"
      ]
     },
     "metadata": {},
     "output_type": "display_data"
    }
   ],
   "source": [
    "# 32개의 커널을 모두 시각화\n",
    "fig, axs = plt.subplots(2, 16, figsize = (15, 2))\n",
    "\n",
    "for i in range(2):\n",
    "    for j in range(16):\n",
    "        axs[i, j].imshow(no_training_weights[:, :, 0, i * 16 + j], vmin = -0.5, vmax = 0.5)\n",
    "        axs[i, j].axis(\"off\")\n",
    "        \n",
    "plt.show()"
   ]
  },
  {
   "cell_type": "markdown",
   "id": "75cfee62",
   "metadata": {},
   "source": [
    "- 훈련된 모델에 비해 패턴이 뚜렷하지 않음"
   ]
  },
  {
   "cell_type": "markdown",
   "id": "781c34fe",
   "metadata": {},
   "source": [
    "# 케라스의 함형 API\n",
    "\n",
    "- Sequential 클래스 : 층을 차례대로 쌓은 단순한 모델을 구성\n",
    "- 복잡한 모델은 구성하기 힘들기 때문에 함수형 API(functional API)를 사용\n",
    "- 케라스의 Model 클래스를 사용하여 모델을 생성\n",
    "- layers 객체를 함수처럼 호출하여 동작"
   ]
  },
  {
   "cell_type": "markdown",
   "id": "74106b19",
   "metadata": {},
   "source": [
    "## 함수형 API로 다층 퍼셉트론 모델 구현 예제"
   ]
  },
  {
   "cell_type": "code",
   "execution_count": 30,
   "id": "83582630",
   "metadata": {},
   "outputs": [],
   "source": [
    "# 입력층 생성\n",
    "inputs = keras.Input(shape = (784,))"
   ]
  },
  {
   "cell_type": "markdown",
   "id": "da15fb91",
   "metadata": {},
   "source": [
    "- Sequential 클래스는 InputLayer 클래스를 자동으로 추가하고 호출\n",
    "- Model 클래스는 입력층을 수동으로 만들어서 호출해야 함"
   ]
  },
  {
   "cell_type": "code",
   "execution_count": 31,
   "id": "81bbfb42",
   "metadata": {},
   "outputs": [],
   "source": [
    "# 은닉층과 출력층 객체 생성\n",
    "dense1 = keras.layers.Dense(100, activation = \"sigmoid\")\n",
    "dense2 = keras.layers.Dense(10, activation = \"softmax\")"
   ]
  },
  {
   "cell_type": "code",
   "execution_count": 32,
   "id": "6b2acdc1",
   "metadata": {},
   "outputs": [],
   "source": [
    "# 은닉층 호출\n",
    "hidden = dense1(inputs)"
   ]
  },
  {
   "cell_type": "markdown",
   "id": "d870c373",
   "metadata": {},
   "source": [
    "- inputs 를 Dense층에 통과시킨 후 출력값 hidden을 만드는 구조 생성"
   ]
  },
  {
   "cell_type": "code",
   "execution_count": 33,
   "id": "7440cb12",
   "metadata": {},
   "outputs": [],
   "source": [
    "# 출력층 호출\n",
    "outputs = dense2(hidden)"
   ]
  },
  {
   "cell_type": "code",
   "execution_count": 34,
   "id": "15438214",
   "metadata": {},
   "outputs": [],
   "source": [
    "# Model 클래스로 inputs와 outputs를 연결\n",
    "test_model = keras.Model(inputs, outputs)"
   ]
  },
  {
   "cell_type": "code",
   "execution_count": 35,
   "id": "172709bc",
   "metadata": {},
   "outputs": [
    {
     "data": {
      "text/html": [
       "<pre style=\"white-space:pre;overflow-x:auto;line-height:normal;font-family:Menlo,'DejaVu Sans Mono',consolas,'Courier New',monospace\"><span style=\"font-weight: bold\">Model: \"functional_10\"</span>\n",
       "</pre>\n"
      ],
      "text/plain": [
       "\u001b[1mModel: \"functional_10\"\u001b[0m\n"
      ]
     },
     "metadata": {},
     "output_type": "display_data"
    },
    {
     "data": {
      "text/html": [
       "<pre style=\"white-space:pre;overflow-x:auto;line-height:normal;font-family:Menlo,'DejaVu Sans Mono',consolas,'Courier New',monospace\">┏━━━━━━━━━━━━━━━━━━━━━━━━━━━━━━━━━━━━━━┳━━━━━━━━━━━━━━━━━━━━━━━━━━━━━┳━━━━━━━━━━━━━━━━━┓\n",
       "┃<span style=\"font-weight: bold\"> Layer (type)                         </span>┃<span style=\"font-weight: bold\"> Output Shape                </span>┃<span style=\"font-weight: bold\">         Param # </span>┃\n",
       "┡━━━━━━━━━━━━━━━━━━━━━━━━━━━━━━━━━━━━━━╇━━━━━━━━━━━━━━━━━━━━━━━━━━━━━╇━━━━━━━━━━━━━━━━━┩\n",
       "│ input_layer_1 (<span style=\"color: #0087ff; text-decoration-color: #0087ff\">InputLayer</span>)           │ (<span style=\"color: #00d7ff; text-decoration-color: #00d7ff\">None</span>, <span style=\"color: #00af00; text-decoration-color: #00af00\">784</span>)                 │               <span style=\"color: #00af00; text-decoration-color: #00af00\">0</span> │\n",
       "├──────────────────────────────────────┼─────────────────────────────┼─────────────────┤\n",
       "│ dense (<span style=\"color: #0087ff; text-decoration-color: #0087ff\">Dense</span>)                        │ (<span style=\"color: #00d7ff; text-decoration-color: #00d7ff\">None</span>, <span style=\"color: #00af00; text-decoration-color: #00af00\">100</span>)                 │          <span style=\"color: #00af00; text-decoration-color: #00af00\">78,500</span> │\n",
       "├──────────────────────────────────────┼─────────────────────────────┼─────────────────┤\n",
       "│ dense_1 (<span style=\"color: #0087ff; text-decoration-color: #0087ff\">Dense</span>)                      │ (<span style=\"color: #00d7ff; text-decoration-color: #00d7ff\">None</span>, <span style=\"color: #00af00; text-decoration-color: #00af00\">10</span>)                  │           <span style=\"color: #00af00; text-decoration-color: #00af00\">1,010</span> │\n",
       "└──────────────────────────────────────┴─────────────────────────────┴─────────────────┘\n",
       "</pre>\n"
      ],
      "text/plain": [
       "┏━━━━━━━━━━━━━━━━━━━━━━━━━━━━━━━━━━━━━━┳━━━━━━━━━━━━━━━━━━━━━━━━━━━━━┳━━━━━━━━━━━━━━━━━┓\n",
       "┃\u001b[1m \u001b[0m\u001b[1mLayer (type)                        \u001b[0m\u001b[1m \u001b[0m┃\u001b[1m \u001b[0m\u001b[1mOutput Shape               \u001b[0m\u001b[1m \u001b[0m┃\u001b[1m \u001b[0m\u001b[1m        Param #\u001b[0m\u001b[1m \u001b[0m┃\n",
       "┡━━━━━━━━━━━━━━━━━━━━━━━━━━━━━━━━━━━━━━╇━━━━━━━━━━━━━━━━━━━━━━━━━━━━━╇━━━━━━━━━━━━━━━━━┩\n",
       "│ input_layer_1 (\u001b[38;5;33mInputLayer\u001b[0m)           │ (\u001b[38;5;45mNone\u001b[0m, \u001b[38;5;34m784\u001b[0m)                 │               \u001b[38;5;34m0\u001b[0m │\n",
       "├──────────────────────────────────────┼─────────────────────────────┼─────────────────┤\n",
       "│ dense (\u001b[38;5;33mDense\u001b[0m)                        │ (\u001b[38;5;45mNone\u001b[0m, \u001b[38;5;34m100\u001b[0m)                 │          \u001b[38;5;34m78,500\u001b[0m │\n",
       "├──────────────────────────────────────┼─────────────────────────────┼─────────────────┤\n",
       "│ dense_1 (\u001b[38;5;33mDense\u001b[0m)                      │ (\u001b[38;5;45mNone\u001b[0m, \u001b[38;5;34m10\u001b[0m)                  │           \u001b[38;5;34m1,010\u001b[0m │\n",
       "└──────────────────────────────────────┴─────────────────────────────┴─────────────────┘\n"
      ]
     },
     "metadata": {},
     "output_type": "display_data"
    },
    {
     "data": {
      "text/html": [
       "<pre style=\"white-space:pre;overflow-x:auto;line-height:normal;font-family:Menlo,'DejaVu Sans Mono',consolas,'Courier New',monospace\"><span style=\"font-weight: bold\"> Total params: </span><span style=\"color: #00af00; text-decoration-color: #00af00\">79,510</span> (310.59 KB)\n",
       "</pre>\n"
      ],
      "text/plain": [
       "\u001b[1m Total params: \u001b[0m\u001b[38;5;34m79,510\u001b[0m (310.59 KB)\n"
      ]
     },
     "metadata": {},
     "output_type": "display_data"
    },
    {
     "data": {
      "text/html": [
       "<pre style=\"white-space:pre;overflow-x:auto;line-height:normal;font-family:Menlo,'DejaVu Sans Mono',consolas,'Courier New',monospace\"><span style=\"font-weight: bold\"> Trainable params: </span><span style=\"color: #00af00; text-decoration-color: #00af00\">79,510</span> (310.59 KB)\n",
       "</pre>\n"
      ],
      "text/plain": [
       "\u001b[1m Trainable params: \u001b[0m\u001b[38;5;34m79,510\u001b[0m (310.59 KB)\n"
      ]
     },
     "metadata": {},
     "output_type": "display_data"
    },
    {
     "data": {
      "text/html": [
       "<pre style=\"white-space:pre;overflow-x:auto;line-height:normal;font-family:Menlo,'DejaVu Sans Mono',consolas,'Courier New',monospace\"><span style=\"font-weight: bold\"> Non-trainable params: </span><span style=\"color: #00af00; text-decoration-color: #00af00\">0</span> (0.00 B)\n",
       "</pre>\n"
      ],
      "text/plain": [
       "\u001b[1m Non-trainable params: \u001b[0m\u001b[38;5;34m0\u001b[0m (0.00 B)\n"
      ]
     },
     "metadata": {},
     "output_type": "display_data"
    }
   ],
   "source": [
    "test_model.summary()"
   ]
  },
  {
   "cell_type": "markdown",
   "id": "f9c82d48",
   "metadata": {},
   "source": [
    "## 합성곱 신경망 모델 특성맵 시각화\n",
    "\n",
    "- 함수형 API를 이용해 첫 번째 합성곱 층의 출력(특성맵)을 시작화"
   ]
  },
  {
   "cell_type": "code",
   "execution_count": 38,
   "id": "e2860d18",
   "metadata": {},
   "outputs": [
    {
     "name": "stdout",
     "output_type": "stream",
     "text": [
      "[<KerasTensor shape=(None, 28, 28, 1), dtype=float32, sparse=False, name=input_layer>]\n"
     ]
    }
   ],
   "source": [
    "# 합성괍 모델의 입력\n",
    "print(model.inputs)"
   ]
  },
  {
   "cell_type": "code",
   "execution_count": 39,
   "id": "929ad2d9",
   "metadata": {},
   "outputs": [],
   "source": [
    "# 합성곱층과 입력층을 함수형 API로 연결\n",
    "conv_acti = keras.Model(model.inputs, model.layers[0].output)"
   ]
  },
  {
   "cell_type": "code",
   "execution_count": 40,
   "id": "2f8667bd",
   "metadata": {},
   "outputs": [
    {
     "data": {
      "text/html": [
       "<pre style=\"white-space:pre;overflow-x:auto;line-height:normal;font-family:Menlo,'DejaVu Sans Mono',consolas,'Courier New',monospace\"><span style=\"font-weight: bold\">Model: \"functional_12\"</span>\n",
       "</pre>\n"
      ],
      "text/plain": [
       "\u001b[1mModel: \"functional_12\"\u001b[0m\n"
      ]
     },
     "metadata": {},
     "output_type": "display_data"
    },
    {
     "data": {
      "text/html": [
       "<pre style=\"white-space:pre;overflow-x:auto;line-height:normal;font-family:Menlo,'DejaVu Sans Mono',consolas,'Courier New',monospace\">┏━━━━━━━━━━━━━━━━━━━━━━━━━━━━━━━━━━━━━━┳━━━━━━━━━━━━━━━━━━━━━━━━━━━━━┳━━━━━━━━━━━━━━━━━┓\n",
       "┃<span style=\"font-weight: bold\"> Layer (type)                         </span>┃<span style=\"font-weight: bold\"> Output Shape                </span>┃<span style=\"font-weight: bold\">         Param # </span>┃\n",
       "┡━━━━━━━━━━━━━━━━━━━━━━━━━━━━━━━━━━━━━━╇━━━━━━━━━━━━━━━━━━━━━━━━━━━━━╇━━━━━━━━━━━━━━━━━┩\n",
       "│ input_layer (<span style=\"color: #0087ff; text-decoration-color: #0087ff\">InputLayer</span>)             │ (<span style=\"color: #00d7ff; text-decoration-color: #00d7ff\">None</span>, <span style=\"color: #00af00; text-decoration-color: #00af00\">28</span>, <span style=\"color: #00af00; text-decoration-color: #00af00\">28</span>, <span style=\"color: #00af00; text-decoration-color: #00af00\">1</span>)           │               <span style=\"color: #00af00; text-decoration-color: #00af00\">0</span> │\n",
       "├──────────────────────────────────────┼─────────────────────────────┼─────────────────┤\n",
       "│ conv2d (<span style=\"color: #0087ff; text-decoration-color: #0087ff\">Conv2D</span>)                      │ (<span style=\"color: #00d7ff; text-decoration-color: #00d7ff\">None</span>, <span style=\"color: #00af00; text-decoration-color: #00af00\">28</span>, <span style=\"color: #00af00; text-decoration-color: #00af00\">28</span>, <span style=\"color: #00af00; text-decoration-color: #00af00\">32</span>)          │             <span style=\"color: #00af00; text-decoration-color: #00af00\">320</span> │\n",
       "└──────────────────────────────────────┴─────────────────────────────┴─────────────────┘\n",
       "</pre>\n"
      ],
      "text/plain": [
       "┏━━━━━━━━━━━━━━━━━━━━━━━━━━━━━━━━━━━━━━┳━━━━━━━━━━━━━━━━━━━━━━━━━━━━━┳━━━━━━━━━━━━━━━━━┓\n",
       "┃\u001b[1m \u001b[0m\u001b[1mLayer (type)                        \u001b[0m\u001b[1m \u001b[0m┃\u001b[1m \u001b[0m\u001b[1mOutput Shape               \u001b[0m\u001b[1m \u001b[0m┃\u001b[1m \u001b[0m\u001b[1m        Param #\u001b[0m\u001b[1m \u001b[0m┃\n",
       "┡━━━━━━━━━━━━━━━━━━━━━━━━━━━━━━━━━━━━━━╇━━━━━━━━━━━━━━━━━━━━━━━━━━━━━╇━━━━━━━━━━━━━━━━━┩\n",
       "│ input_layer (\u001b[38;5;33mInputLayer\u001b[0m)             │ (\u001b[38;5;45mNone\u001b[0m, \u001b[38;5;34m28\u001b[0m, \u001b[38;5;34m28\u001b[0m, \u001b[38;5;34m1\u001b[0m)           │               \u001b[38;5;34m0\u001b[0m │\n",
       "├──────────────────────────────────────┼─────────────────────────────┼─────────────────┤\n",
       "│ conv2d (\u001b[38;5;33mConv2D\u001b[0m)                      │ (\u001b[38;5;45mNone\u001b[0m, \u001b[38;5;34m28\u001b[0m, \u001b[38;5;34m28\u001b[0m, \u001b[38;5;34m32\u001b[0m)          │             \u001b[38;5;34m320\u001b[0m │\n",
       "└──────────────────────────────────────┴─────────────────────────────┴─────────────────┘\n"
      ]
     },
     "metadata": {},
     "output_type": "display_data"
    },
    {
     "data": {
      "text/html": [
       "<pre style=\"white-space:pre;overflow-x:auto;line-height:normal;font-family:Menlo,'DejaVu Sans Mono',consolas,'Courier New',monospace\"><span style=\"font-weight: bold\"> Total params: </span><span style=\"color: #00af00; text-decoration-color: #00af00\">320</span> (1.25 KB)\n",
       "</pre>\n"
      ],
      "text/plain": [
       "\u001b[1m Total params: \u001b[0m\u001b[38;5;34m320\u001b[0m (1.25 KB)\n"
      ]
     },
     "metadata": {},
     "output_type": "display_data"
    },
    {
     "data": {
      "text/html": [
       "<pre style=\"white-space:pre;overflow-x:auto;line-height:normal;font-family:Menlo,'DejaVu Sans Mono',consolas,'Courier New',monospace\"><span style=\"font-weight: bold\"> Trainable params: </span><span style=\"color: #00af00; text-decoration-color: #00af00\">320</span> (1.25 KB)\n",
       "</pre>\n"
      ],
      "text/plain": [
       "\u001b[1m Trainable params: \u001b[0m\u001b[38;5;34m320\u001b[0m (1.25 KB)\n"
      ]
     },
     "metadata": {},
     "output_type": "display_data"
    },
    {
     "data": {
      "text/html": [
       "<pre style=\"white-space:pre;overflow-x:auto;line-height:normal;font-family:Menlo,'DejaVu Sans Mono',consolas,'Courier New',monospace\"><span style=\"font-weight: bold\"> Non-trainable params: </span><span style=\"color: #00af00; text-decoration-color: #00af00\">0</span> (0.00 B)\n",
       "</pre>\n"
      ],
      "text/plain": [
       "\u001b[1m Non-trainable params: \u001b[0m\u001b[38;5;34m0\u001b[0m (0.00 B)\n"
      ]
     },
     "metadata": {},
     "output_type": "display_data"
    }
   ],
   "source": [
    "conv_acti.summary()"
   ]
  },
  {
   "cell_type": "code",
   "execution_count": 42,
   "id": "5b3cc693",
   "metadata": {},
   "outputs": [],
   "source": [
    "# 데이터 준비\n",
    "(x_train, y_train), (x_test, y_test) = keras.datasets.fashion_mnist.load_data()"
   ]
  },
  {
   "cell_type": "code",
   "execution_count": 43,
   "id": "de3e7ba6",
   "metadata": {},
   "outputs": [
    {
     "data": {
      "image/png": "[encoded data removed]",
      "text/plain": [
       "<Figure size 640x480 with 1 Axes>"
      ]
     },
     "metadata": {},
     "output_type": "display_data"
    }
   ],
   "source": [
    "plt.figure()\n",
    "plt.imshow(x_train[0], cmap = \"gray_r\")\n",
    "plt.show()"
   ]
  },
  {
   "cell_type": "code",
   "execution_count": 44,
   "id": "904a9ce6",
   "metadata": {},
   "outputs": [],
   "source": [
    "# 위의 데이터를 첫 번째 합성곱 층에 통과\n",
    "inputs = x_train[[0]].reshape(-1, 28, 28, 1) / 255"
   ]
  },
  {
   "cell_type": "code",
   "execution_count": 46,
   "id": "c32e1b67",
   "metadata": {},
   "outputs": [
    {
     "name": "stdout",
     "output_type": "stream",
     "text": [
      "\u001b[1m1/1\u001b[0m \u001b[32m━━━━━━━━━━━━━━━━━━━━\u001b[0m\u001b[37m\u001b[0m \u001b[1m0s\u001b[0m 362ms/step\n"
     ]
    }
   ],
   "source": [
    "feature_maps = conv_acti.predict(inputs)"
   ]
  },
  {
   "cell_type": "code",
   "execution_count": 48,
   "id": "3b274d97",
   "metadata": {},
   "outputs": [
    {
     "name": "stdout",
     "output_type": "stream",
     "text": [
      "(1, 28, 28, 32)\n"
     ]
    }
   ],
   "source": [
    "print(feature_maps.shape)"
   ]
  },
  {
   "cell_type": "markdown",
   "id": "cf4d88dc",
   "metadata": {},
   "source": [
    "- 세임 패딩과 32개의 필터를 사용한 합성곱층의 출력이기 때문에 (28, 28, 32)\n",
    "- 첫번째 차원은 배치차원\n",
    "    - 샘플 하나만 입력했기 때문에 1"
   ]
  },
  {
   "cell_type": "code",
   "execution_count": 49,
   "id": "fffd7fe4",
   "metadata": {},
   "outputs": [
    {
     "data": {
      "image/png": "[encoded data removed]",
      "text/plain": [
       "<Figure size 1500x200 with 32 Axes>"
      ]
     },
     "metadata": {},
     "output_type": "display_data"
    }
   ],
   "source": [
    "# 32개의 커널을 모두 시각화\n",
    "fig, axs = plt.subplots(2, 16, figsize = (15, 2))\n",
    "\n",
    "for i in range(2):\n",
    "    for j in range(16):\n",
    "        axs[i, j].imshow(conv_weights[:, :, 0, i * 16 + j], vmin = -0.5, vmax = 0.5)\n",
    "        axs[i, j].axis(\"off\")\n",
    "        \n",
    "plt.show()"
   ]
  },
  {
   "cell_type": "code",
   "execution_count": 52,
   "id": "55cfbea2",
   "metadata": {},
   "outputs": [
    {
     "data": {
      "image/png": "[encoded data removed]",
      "text/plain": [
       "<Figure size 1500x800 with 32 Axes>"
      ]
     },
     "metadata": {},
     "output_type": "display_data"
    }
   ],
   "source": [
    "# 32개의 특성맵을 모두 시각화\n",
    "fig, axs = plt.subplots(4, 8, figsize = (15, 8))\n",
    "\n",
    "for i in range(4):\n",
    "    for j in range(8):\n",
    "        axs[i, j].imshow(feature_maps[0, :, :, i * 8 + j])\n",
    "        axs[i, j].axis(\"off\")\n",
    "        \n",
    "plt.show()"
   ]
  },
  {
   "cell_type": "markdown",
   "id": "42d232b1",
   "metadata": {},
   "source": [
    "- 32개의 필터로 인해 입력 이미지에서 강하게 활성화된 부분들을 시각화\n",
    "    - 필터가 수직선을 감지한다면 수직선 부분이 강하게 활성화\n",
    "    - 전체적으로 모두 감지하는 필터는 아이템의 전체를 활성화\n",
    "    - 전체적으로 음수값인 필터는 배경과 같은 0에 가까운 값과 곱해지면 작은 음수, 큰 수가 곱해지면 큰 음수가 됨\n",
    "        - 배경을 잘 활성화"
   ]
  },
  {
   "cell_type": "code",
   "execution_count": 53,
   "id": "27e10a4b",
   "metadata": {},
   "outputs": [],
   "source": [
    "# 두 번째 합성곱 층의 특성 맵 확인\n",
    "conv2_acti = keras.Model(model.inputs, model.layers[2].output)"
   ]
  },
  {
   "cell_type": "code",
   "execution_count": 54,
   "id": "c255ad2a",
   "metadata": {},
   "outputs": [
    {
     "name": "stdout",
     "output_type": "stream",
     "text": [
      "\u001b[1m1/1\u001b[0m \u001b[32m━━━━━━━━━━━━━━━━━━━━\u001b[0m\u001b[37m\u001b[0m \u001b[1m0s\u001b[0m 198ms/step\n"
     ]
    }
   ],
   "source": [
    "feature_maps = conv2_acti.predict(inputs)"
   ]
  },
  {
   "cell_type": "code",
   "execution_count": 55,
   "id": "7dbd4055",
   "metadata": {},
   "outputs": [
    {
     "name": "stdout",
     "output_type": "stream",
     "text": [
      "(1, 14, 14, 64)\n"
     ]
    }
   ],
   "source": [
    "print(feature_maps.shape)"
   ]
  },
  {
   "cell_type": "code",
   "execution_count": 56,
   "id": "dbf0b35a",
   "metadata": {},
   "outputs": [
    {
     "data": {
      "image/png": "[encoded data removed]",
      "text/plain": [
       "<Figure size 1200x1200 with 64 Axes>"
      ]
     },
     "metadata": {},
     "output_type": "display_data"
    }
   ],
   "source": [
    "fig, axs = plt.subplots(8, 8, figsize = (12, 12))\n",
    "\n",
    "for i in range(8):\n",
    "    for j in range(8):\n",
    "        axs[i, j].imshow(feature_maps[0, :, :, i * 8 + j])\n",
    "        axs[i, j].axis(\"off\")\n",
    "        \n",
    "plt.show()"
   ]
  },
  {
   "cell_type": "markdown",
   "id": "870b3c52",
   "metadata": {},
   "source": [
    "- 특성맵을 시각적으로 이해하기 난해함\n",
    "    - 합성곱 층을 많이 쌓을 수록 난해해짐\n",
    "    - 앞부분의 합성곱 층은 이미지의 시각적인 정보를 감지하고\n",
    "    - 뒷부분의 합성곱 층은 앞쪽에서 감지한 시각적인 정보를 바탕으로 추상적인 정보를 학습"
   ]
  },
  {
   "cell_type": "markdown",
   "id": "d8947c01",
   "metadata": {},
   "source": [
    "## 풀링 결과물 비교"
   ]
  },
  {
   "cell_type": "code",
   "execution_count": 57,
   "id": "f19428cb",
   "metadata": {},
   "outputs": [],
   "source": [
    "pool_model = keras.Model(model.inputs, model.layers[1].output)"
   ]
  },
  {
   "cell_type": "code",
   "execution_count": 58,
   "id": "8be1ad4f",
   "metadata": {},
   "outputs": [
    {
     "name": "stdout",
     "output_type": "stream",
     "text": [
      "\u001b[1m1/1\u001b[0m \u001b[32m━━━━━━━━━━━━━━━━━━━━\u001b[0m\u001b[37m\u001b[0m \u001b[1m0s\u001b[0m 72ms/step\n"
     ]
    }
   ],
   "source": [
    "pool_feature_maps = pool_model.predict(inputs)"
   ]
  },
  {
   "cell_type": "code",
   "execution_count": 59,
   "id": "e0b83a63",
   "metadata": {},
   "outputs": [
    {
     "name": "stdout",
     "output_type": "stream",
     "text": [
      "(1, 14, 14, 32)\n"
     ]
    }
   ],
   "source": [
    "print(pool_feature_maps.shape)"
   ]
  },
  {
   "cell_type": "code",
   "execution_count": 60,
   "id": "fdc38f53",
   "metadata": {},
   "outputs": [
    {
     "data": {
      "image/png": "[encoded data removed]",
      "text/plain": [
       "<Figure size 1500x800 with 32 Axes>"
      ]
     },
     "metadata": {},
     "output_type": "display_data"
    }
   ],
   "source": [
    "fig, axs = plt.subplots(4, 8, figsize = (15, 8))\n",
    "\n",
    "for i in range(4):\n",
    "    for j in range(8):\n",
    "        axs[i, j].imshow(pool_feature_maps[0, :, :, i * 8 + j])\n",
    "        axs[i, j].axis(\"off\")\n",
    "        \n",
    "plt.show()"
   ]
  }
 ],
 "metadata": {
  "kernelspec": {
   "display_name": "Python 3 (ipykernel)",
   "language": "python",
   "name": "python3"
  },
  "language_info": {
   "codemirror_mode": {
    "name": "ipython",
    "version": 3
   },
   "file_extension": ".py",
   "mimetype": "text/x-python",
   "name": "python",
   "nbconvert_exporter": "python",
   "pygments_lexer": "ipython3",
   "version": "3.11.5"
  }
 },
 "nbformat": 4,
 "nbformat_minor": 5
}
