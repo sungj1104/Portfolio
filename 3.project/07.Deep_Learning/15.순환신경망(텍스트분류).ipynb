{
 "cells": [
  {
   "cell_type": "markdown",
   "id": "2c80ea67",
   "metadata": {},
   "source": [
    "# IMDB 리뷰 데이터셋\n",
    "\n",
    "- 유명한 인터넷 영화 데이터베이스인 imdb.com 에서 수집한 리뷰를 감상평에 따라 긍정과 부정으로 분류해 놓은 말뭉치"
   ]
  },
  {
   "cell_type": "markdown",
   "id": "f3f040e2",
   "metadata": {},
   "source": [
    "## 자연어 처리(natural language processing, NLP)\n",
    "\n",
    "- 컴퓨터를 사용해 인간의 언어를 처리하는 분야\n",
    "- 세부 분야\n",
    "    - 음성 인식\n",
    "    - 기계 번역\n",
    "    - 감성 분석\n",
    "    \n",
    "- 자연어 처리 분야에서는 훈련 데이터를 말뭉치(corpus)라고 부름"
   ]
  },
  {
   "cell_type": "markdown",
   "id": "80bea04b",
   "metadata": {},
   "source": [
    "## 임베딩\n",
    "\n",
    "- 사람이 쓰는 자연어를 기계가 이해할 수 있는 숫자의 나열인 벡터로 바꾼 결과 혹은 그 과정 전체\n",
    "- 컴퓨터에서 처리하는 모든 것은 숫자로 이루어진 데이터\n",
    "    - 따라서 텍스트 그 자체를 신경망에 전달하지 않음\n",
    "    - 합성곱 신경망에서 이미지를 다룰 때는 이미지가 정수 픽셀값으로 이루어져 있어서 특별히 변환을 하지 않음\n",
    "    \n",
    "- 텍스트 임베딩의 가장 쉬운 방법은 데이터에 등장하는 단어마다 고유한 정수를 부여하는 것\n",
    "    - 예)\n",
    "        - he : 10\n",
    "        - follow : 11\n",
    "        - the : 12\n",
    "        - cat : 13\n",
    "    - 단어에 매핑되는 정수는 단어의 의미나 크기와 관련이 없음\n",
    "        - He를 10으로 매핑하고 cat을 13에 매핑하더라도 cat이 he보다 좋거나 크다는 뜻이 아님\n",
    "    - 정수 중 몇 가지는 특정한 용도로 예약되어 있는 경우가 많음\n",
    "        - 예) 0 : 패딩, 1 : 문장의 시작 SOS(start of siquence), 2 : 어휘 사전에 없는 토큰\n",
    "            - 어휘 사전 : 훈련 세트에서 고유한 단어를 뽑아 만든 목록\n",
    "            \n",
    "- 일반적으로 영어 문장은 모두 소문자로 바꾸고 구둣점을 삭제한 다음 공백을 기준으로 분리\n",
    "    - 이렇게 분리된 단어를 토큰(token)이라고 부름\n",
    "        - 하나의 샘플은 여러 개의 토큰으로 이루어져 있고 이 때 하나의 토큰이 하나의 타임스텝에 해당\n",
    "        \n",
    "    - 영어 말뭉치에서 토큰은 단어와 같이 취급하는 경우가 많음\n",
    "        - 한국어는 조사가 발달되어 있어 공백으로 나누는 것만으로는 부족함\n",
    "            - 일반적으로 한글은 형태소 분석을 통해 토큰을 분리"
   ]
  },
  {
   "cell_type": "markdown",
   "id": "dffa906a",
   "metadata": {},
   "source": [
    "# 원핫 인코딩을 활용한 RNN 텍스트 분류"
   ]
  },
  {
   "cell_type": "markdown",
   "id": "63c33cc3",
   "metadata": {},
   "source": [
    "## 데이터 준비"
   ]
  },
  {
   "cell_type": "code",
   "execution_count": 1,
   "id": "9edecd3f",
   "metadata": {},
   "outputs": [],
   "source": [
    "from tensorflow.keras.datasets import imdb\n",
    "from tensorflow.keras.preprocessing.sequence import pad_sequences\n",
    "from tensorflow import keras\n",
    "from sklearn.model_selection import train_test_split\n",
    "import numpy as np\n",
    "import matplotlib.pyplot as plt"
   ]
  },
  {
   "cell_type": "code",
   "execution_count": 2,
   "id": "08923579",
   "metadata": {},
   "outputs": [],
   "source": [
    "# num_words : 단어 빈도가 많은 순서로 num_words 만큼 보존\n",
    "# 전체 데이터셋에서 가장 자주 등장하는 단어 500개만 사용\n",
    "(x_train, y_train), (x_test, y_test) = imdb.load_data(num_words = 500)"
   ]
  },
  {
   "cell_type": "code",
   "execution_count": 3,
   "id": "2c89247f",
   "metadata": {},
   "outputs": [
    {
     "data": {
      "text/plain": [
       "(218, 189)"
      ]
     },
     "execution_count": 3,
     "metadata": {},
     "output_type": "execute_result"
    }
   ],
   "source": [
    "# 리뷰의 길이 출력\n",
    "len(x_train[0]), len(x_train[1])"
   ]
  },
  {
   "cell_type": "markdown",
   "id": "c5816871",
   "metadata": {},
   "source": [
    "- 각각 25000 개의 샘플로 이루어져 있음\n",
    "- 텍스트 길이가 제각각임\n",
    "    - 고정 크기의 2차원 배열에 담는 것 보다 리뷰마다 별도의 파이썬 리스트로 담아야 메모리를 효율적으로 사용할 수 있음"
   ]
  },
  {
   "cell_type": "code",
   "execution_count": 4,
   "id": "9ac9b898",
   "metadata": {},
   "outputs": [
    {
     "name": "stdout",
     "output_type": "stream",
     "text": [
      "[1, 14, 22, 16, 43, 2, 2, 2, 2, 65, 458, 2, 66, 2, 4, 173, 36, 256, 5, 25, 100, 43, 2, 112, 50, 2, 2, 9, 35, 480, 284, 5, 150, 4, 172, 112, 167, 2, 336, 385, 39, 4, 172, 2, 2, 17, 2, 38, 13, 447, 4, 192, 50, 16, 6, 147, 2, 19, 14, 22, 4, 2, 2, 469, 4, 22, 71, 87, 12, 16, 43, 2, 38, 76, 15, 13, 2, 4, 22, 17, 2, 17, 12, 16, 2, 18, 2, 5, 62, 386, 12, 8, 316, 8, 106, 5, 4, 2, 2, 16, 480, 66, 2, 33, 4, 130, 12, 16, 38, 2, 5, 25, 124, 51, 36, 135, 48, 25, 2, 33, 6, 22, 12, 215, 28, 77, 52, 5, 14, 407, 16, 82, 2, 8, 4, 107, 117, 2, 15, 256, 4, 2, 7, 2, 5, 2, 36, 71, 43, 2, 476, 26, 400, 317, 46, 7, 4, 2, 2, 13, 104, 88, 4, 381, 15, 297, 98, 32, 2, 56, 26, 141, 6, 194, 2, 18, 4, 226, 22, 21, 134, 476, 26, 480, 5, 144, 30, 2, 18, 51, 36, 28, 224, 92, 25, 104, 4, 226, 65, 16, 38, 2, 88, 12, 16, 283, 5, 16, 2, 113, 103, 32, 15, 16, 2, 19, 178, 32]\n"
     ]
    }
   ],
   "source": [
    "# 첫 번째 리뷰 출력\n",
    "print(x_train[0])"
   ]
  },
  {
   "cell_type": "code",
   "execution_count": 5,
   "id": "906b09ce",
   "metadata": {},
   "outputs": [
    {
     "name": "stdout",
     "output_type": "stream",
     "text": [
      "[1 0 0 1 0 0 1 0 1 0 1 0 0 0 0 0 1 1 0 1]\n"
     ]
    }
   ],
   "source": [
    "# 타깃 데이터\n",
    "# 0 : 부정, 1 : 긍정\n",
    "print(y_train[:20])"
   ]
  },
  {
   "cell_type": "code",
   "execution_count": 6,
   "id": "134bf377",
   "metadata": {},
   "outputs": [],
   "source": [
    "x_train, x_val, y_train, y_val = train_test_split(x_train, y_train, test_size = 0.2, random_state = 12)"
   ]
  },
  {
   "cell_type": "markdown",
   "id": "ea6cc238",
   "metadata": {},
   "source": [
    "### 각 리뷰의 길이 확인\n",
    "\n",
    "- 각 리뷰의 길이를 넘파이 배열로 담아 평균 리뷰 길이, 길이 최솟값, 길이 최댓값을 확인"
   ]
  },
  {
   "cell_type": "code",
   "execution_count": 7,
   "id": "b7cb43dd",
   "metadata": {},
   "outputs": [],
   "source": [
    "lengths = np.array([len(x) for x in x_train])"
   ]
  },
  {
   "cell_type": "code",
   "execution_count": 8,
   "id": "25bd482d",
   "metadata": {},
   "outputs": [
    {
     "name": "stdout",
     "output_type": "stream",
     "text": [
      "238.90085 179.0 11 2494\n"
     ]
    }
   ],
   "source": [
    "# 길이 평균값과 중간값\n",
    "print(np.mean(lengths), np.median(lengths), np.min(lengths), np.max(lengths))"
   ]
  },
  {
   "cell_type": "code",
   "execution_count": 9,
   "id": "bfcaee32",
   "metadata": {},
   "outputs": [
    {
     "data": {
      "image/png": "[encoded data removed]",
      "text/plain": [
       "<Figure size 640x480 with 1 Axes>"
      ]
     },
     "metadata": {},
     "output_type": "display_data"
    }
   ],
   "source": [
    "plt.figure()\n",
    "\n",
    "plt.hist(lengths)\n",
    "\n",
    "plt.xlabel(\"length\")\n",
    "plt.ylabel(\"frequency\")\n",
    "plt.show()"
   ]
  },
  {
   "cell_type": "markdown",
   "id": "071bf5bf",
   "metadata": {},
   "source": [
    "- 평균이 중간값보다 높은 이유는 아주 큰 데이터가 있기 때문\n",
    "- 대부분의 리뷰는 짧기 때문에 이번 예제에서는 리뷰의 길이를 100에 맞춰서 사용\n",
    "    - 100보다 짧은 리뷰는 길이를 100에 맞추기 위해 패딩이 필요\n",
    "        - 패딩을 나타내는 토큰으로는 0을 사용"
   ]
  },
  {
   "cell_type": "code",
   "execution_count": 10,
   "id": "0413f06d",
   "metadata": {},
   "outputs": [],
   "source": [
    "# x_train의 길이를 100으로 맞추기\n",
    "train_seq = pad_sequences(x_train, maxlen = 100)"
   ]
  },
  {
   "cell_type": "markdown",
   "id": "17fecbd1",
   "metadata": {},
   "source": [
    "- maxlen 에 원하는 길이를 지정하면 그것보다 긴 경우는 잘라내고 짧은 경우는 0으로 패딩"
   ]
  },
  {
   "cell_type": "code",
   "execution_count": 11,
   "id": "18b93a44",
   "metadata": {},
   "outputs": [
    {
     "name": "stdout",
     "output_type": "stream",
     "text": [
      "(20000, 100)\n"
     ]
    }
   ],
   "source": [
    "# train_seq 크기 확인\n",
    "print(train_seq.shape)"
   ]
  },
  {
   "cell_type": "code",
   "execution_count": 12,
   "id": "49669fe6",
   "metadata": {},
   "outputs": [
    {
     "name": "stdout",
     "output_type": "stream",
     "text": [
      "[337  13   2  25   8  24  67  14  20  13   2  13   2  45   2   8  67 142\n",
      " 318  30   2  17 141   2   2 474   2  13 100   2   2   2  11  27   2 137\n",
      "   4  20  16 395  48  25  26  24   2  19   2 113   5   2  81  24 193 233\n",
      "  11  14  20  17 112   2   7   2  10  10  13   2 135 195  78 183  44  14\n",
      "  20  48   2  71   2   5 219  14  20  29  62   2 309  95 174 279   2  30\n",
      "   2   8  48  29   2  14  20  71   8   2]\n"
     ]
    }
   ],
   "source": [
    "print(train_seq[0])"
   ]
  },
  {
   "cell_type": "code",
   "execution_count": 13,
   "id": "e25ed882",
   "metadata": {},
   "outputs": [
    {
     "name": "stdout",
     "output_type": "stream",
     "text": [
      "[1, 13, 2, 32, 4, 96, 143, 14, 20, 86, 7, 32, 4, 2, 114, 47, 117, 8, 81, 19, 2, 205, 65, 363, 47, 2, 8, 2, 6, 243, 7, 212, 2, 2, 20, 2, 2, 2, 2, 10, 10, 81, 24, 193, 233, 44, 14, 20, 8, 30, 2, 4, 403, 2, 11, 4, 425, 5, 2, 7, 27, 2, 9, 43, 343, 17, 2, 18, 6, 364, 352, 2, 20, 6, 2, 2, 8, 2, 6, 171, 2, 39, 4, 2, 2, 5, 27, 337, 2, 2, 336, 69, 196, 237, 77, 351, 11, 2, 4, 85, 2, 105, 26, 2, 2, 7, 14, 47, 233, 8, 81, 19, 2, 113, 42, 341, 10, 10, 48, 25, 26, 6, 2, 337, 13, 2, 25, 8, 24, 67, 14, 20, 13, 2, 13, 2, 45, 2, 8, 67, 142, 318, 30, 2, 17, 141, 2, 2, 474, 2, 13, 100, 2, 2, 2, 11, 27, 2, 137, 4, 20, 16, 395, 48, 25, 26, 24, 2, 19, 2, 113, 5, 2, 81, 24, 193, 233, 11, 14, 20, 17, 112, 2, 7, 2, 10, 10, 13, 2, 135, 195, 78, 183, 44, 14, 20, 48, 2, 71, 2, 5, 219, 14, 20, 29, 62, 2, 309, 95, 174, 279, 2, 30, 2, 8, 48, 29, 2, 14, 20, 71, 8, 2]\n"
     ]
    }
   ],
   "source": [
    "print(x_train[0])"
   ]
  },
  {
   "cell_type": "markdown",
   "id": "980d9c05",
   "metadata": {},
   "source": [
    "- pad_sequences() 함수는 기본적으로 maxlen 보다 긴 시퀀스의 앞부분을 잘라냄\n",
    "    - 일반적으로 시퀀스의 뒷부분의 정보가 더 유용하기 때문에\n",
    "        - 리뷰 끝에 결정적인 소감을 말할 가능성이 높음\n",
    "    - 시퀀스의 뒷부분을 잘라내고 싶다면\n",
    "        - truncating 매개변수 값을 \"post\"로 변경\n",
    "            - 기본값은 \"pre\""
   ]
  },
  {
   "cell_type": "code",
   "execution_count": 14,
   "id": "566c52d4",
   "metadata": {},
   "outputs": [
    {
     "data": {
      "text/plain": [
       "array([  0,   0,   0,   0,   0,   0,   0,   0,   0,   0,   0,   0,   0,\n",
       "         0,   0,   0,   0,   0,   0,   0,   0,   0,   0,   0,   0,   0,\n",
       "         0,   0,   0,   0,   0,   0,   0,   0,   0,   0,   0,   0,   0,\n",
       "         0,   0,   1,   4,  64, 282,   8,  67,  14,  20,   9,  18,   6,\n",
       "         2, 239,  34,   2,   2,   2,  37,   9,   2,  11,   4,  20,   2,\n",
       "         4,  20,  17,   2,   2,   2,   9,  52,  99,   2,  45,   2,   2,\n",
       "         4,   2, 152,  60,   2,  89, 127,  29,   2,   2,   4,   2,  23,\n",
       "         4,   2,   2,   8,   2,  46,   4,   2,   2])"
      ]
     },
     "execution_count": 14,
     "metadata": {},
     "output_type": "execute_result"
    }
   ],
   "source": [
    "train_seq[3]"
   ]
  },
  {
   "cell_type": "markdown",
   "id": "2a31f77e",
   "metadata": {},
   "source": [
    "- 패딩 토큰은 시퀀스의 앞부분에 추가됨\n",
    "    - 시퀀스의 마지막에 있는 단어가 셀의 은닉상태에 가장 큰 영향을 미치게 되기 때문에\n",
    "    - 뒷부분에 패딩을 추가하고 싶다면\n",
    "        - padding 매개변수의 값을 \"post\"로 수정\n",
    "            - 기본값은 \"pre\""
   ]
  },
  {
   "cell_type": "code",
   "execution_count": 15,
   "id": "5ef0a4b0",
   "metadata": {},
   "outputs": [],
   "source": [
    "# 검증 세트의 길이를 100으로 맞추기\n",
    "val_seq = pad_sequences(x_val, maxlen = 100)"
   ]
  },
  {
   "cell_type": "markdown",
   "id": "d89d53f9",
   "metadata": {},
   "source": [
    "## 모델 구성\n",
    "\n",
    "- 케라스의 SimpleRNN 클래스 사용\n",
    "- 이진 분류\n",
    "    - 출력층은 1개의 유닛을 가지고 시그모이드 출력층 함수를 사용"
   ]
  },
  {
   "cell_type": "code",
   "execution_count": 16,
   "id": "e5fa2ca9",
   "metadata": {},
   "outputs": [
    {
     "data": {
      "text/plain": [
       "(20000, 100)"
      ]
     },
     "execution_count": 16,
     "metadata": {},
     "output_type": "execute_result"
    }
   ],
   "source": [
    "train_seq.shape"
   ]
  },
  {
   "cell_type": "code",
   "execution_count": 17,
   "id": "7451c490",
   "metadata": {},
   "outputs": [
    {
     "data": {
      "text/plain": [
       "499"
      ]
     },
     "execution_count": 17,
     "metadata": {},
     "output_type": "execute_result"
    }
   ],
   "source": [
    "train_seq.max()"
   ]
  },
  {
   "cell_type": "code",
   "execution_count": 18,
   "id": "777f31e5",
   "metadata": {},
   "outputs": [
    {
     "name": "stderr",
     "output_type": "stream",
     "text": [
      "C:\\Users\\sungj\\AppData\\Roaming\\Python\\Python311\\site-packages\\keras\\src\\layers\\rnn\\rnn.py:204: UserWarning: Do not pass an `input_shape`/`input_dim` argument to a layer. When using Sequential models, prefer using an `Input(shape)` object as the first layer in the model instead.\n",
      "  super().__init__(**kwargs)\n"
     ]
    }
   ],
   "source": [
    "model = keras.Sequential()\n",
    "model.add(keras.layers.SimpleRNN(8, input_shape = (100, 500)))\n",
    "model.add(keras.layers.Dense(1, activation = \"sigmoid\"))"
   ]
  },
  {
   "cell_type": "markdown",
   "id": "f67901e1",
   "metadata": {},
   "source": [
    "- SimpleRNN\n",
    "    - 첫 번째 매개변수는 사용할 유닛의 개수\n",
    "    - input_shape\n",
    "        - 입력차원의 첫 번째 차원은 샘플의 길이\n",
    "        - 입력차원의 두 번째 차원은 고유한 단어 수(num_words)\n",
    "            - load_data() 함수에서 500개의 단어만 사용하도록 지정했기 때문에 이번 예제의 고유한 단어 수는 500\n",
    "    - activation\n",
    "        - 기본값은 \"tanh\"\n",
    "            - 하이퍼볼릭 탄젠트"
   ]
  },
  {
   "cell_type": "markdown",
   "id": "0a868d83",
   "metadata": {},
   "source": [
    "- 원핫인코딩 사용하는 이유\n",
    "    - 토큰을 정수로 변환한 데이터를 그대로 신경망에 주입하면 큰 정수가 큰 활성화 출력을 만듦\n",
    "        - 정수 사이에는 어떤 관련도 없고, 20번 토큰이 10번 토큰보다 중요한 것이 아님"
   ]
  },
  {
   "cell_type": "code",
   "execution_count": 19,
   "id": "47cdeef4",
   "metadata": {},
   "outputs": [],
   "source": [
    "# 케라스에서 제공하는 원핫인코딩을 위한 함수\n",
    "train_oh = keras.utils.to_categorical(train_seq)"
   ]
  },
  {
   "cell_type": "code",
   "execution_count": 20,
   "id": "91377029",
   "metadata": {},
   "outputs": [
    {
     "name": "stdout",
     "output_type": "stream",
     "text": [
      "(20000, 100, 500)\n"
     ]
    }
   ],
   "source": [
    "print(train_oh.shape)"
   ]
  },
  {
   "cell_type": "code",
   "execution_count": 21,
   "id": "bbee508d",
   "metadata": {},
   "outputs": [
    {
     "name": "stdout",
     "output_type": "stream",
     "text": [
      "[0. 0. 0. 0. 0. 0. 0. 0. 0. 0. 0. 0. 0. 0. 0. 0. 0. 0. 0. 0. 0. 0. 0. 0.\n",
      " 0. 0. 0. 0. 0. 0. 0. 0. 0. 0. 0. 0. 0. 0. 0. 0. 0. 0. 0. 0. 0. 0. 0. 0.\n",
      " 0. 0. 0. 0. 0. 0. 0. 0. 0. 0. 0. 0. 0. 0. 0. 0. 0. 0. 0. 0. 0. 0. 0. 0.\n",
      " 0. 0. 0. 0. 0. 0. 0. 0. 0. 0. 0. 0. 0. 0. 0. 0. 0. 0. 0. 0. 0. 0. 0. 0.\n",
      " 0. 0. 0. 0. 0. 0. 0. 0. 0. 0. 0. 0. 0. 0. 0. 0. 0. 0. 0. 0. 0. 0. 0. 0.\n",
      " 0. 0. 0. 0. 0. 0. 0. 0. 0. 0. 0. 0. 0. 0. 0. 0. 0. 0. 0. 0. 0. 0. 0. 0.\n",
      " 0. 0. 0. 0. 0. 0. 0. 0. 0. 0. 0. 0. 0. 0. 0. 0. 0. 0. 0. 0. 0. 0. 0. 0.\n",
      " 0. 0. 0. 0. 0. 0. 0. 0. 0. 0. 0. 0. 0. 0. 0. 0. 0. 0. 0. 0. 0. 0. 0. 0.\n",
      " 0. 0. 0. 0. 0. 0. 0. 0. 0. 0. 0. 0. 0. 0. 0. 0. 0. 0. 0. 0. 0. 0. 0. 0.\n",
      " 0. 0. 0. 0. 0. 0. 0. 0. 0. 0. 0. 0. 0. 0. 0. 0. 0. 0. 0. 0. 0. 0. 0. 0.\n",
      " 0. 0. 0. 0. 0. 0. 0. 0. 0. 0. 0. 0. 0. 0. 0. 0. 0. 0. 0. 0. 0. 0. 0. 0.\n",
      " 0. 0. 0. 0. 0. 0. 0. 0. 0. 0. 0. 0. 0. 0. 0. 0. 0. 0. 0. 0. 0. 0. 0. 0.\n",
      " 0. 0. 0. 0. 0. 0. 0. 0. 0. 0. 0. 0. 0. 0. 0. 0. 0. 0. 0. 0. 0. 0. 0. 0.\n",
      " 0. 0. 0. 0. 0. 0. 0. 0. 0. 0. 0. 0. 0. 0. 0. 0. 0. 0. 0. 0. 0. 0. 0. 0.\n",
      " 0. 1. 0. 0. 0. 0. 0. 0. 0. 0. 0. 0. 0. 0. 0. 0. 0. 0. 0. 0. 0. 0. 0. 0.\n",
      " 0. 0. 0. 0. 0. 0. 0. 0. 0. 0. 0. 0. 0. 0. 0. 0. 0. 0. 0. 0. 0. 0. 0. 0.\n",
      " 0. 0. 0. 0. 0. 0. 0. 0. 0. 0. 0. 0. 0. 0. 0. 0. 0. 0. 0. 0. 0. 0. 0. 0.\n",
      " 0. 0. 0. 0. 0. 0. 0. 0. 0. 0. 0. 0. 0. 0. 0. 0. 0. 0. 0. 0. 0. 0. 0. 0.\n",
      " 0. 0. 0. 0. 0. 0. 0. 0. 0. 0. 0. 0. 0. 0. 0. 0. 0. 0. 0. 0. 0. 0. 0. 0.\n",
      " 0. 0. 0. 0. 0. 0. 0. 0. 0. 0. 0. 0. 0. 0. 0. 0. 0. 0. 0. 0. 0. 0. 0. 0.\n",
      " 0. 0. 0. 0. 0. 0. 0. 0. 0. 0. 0. 0. 0. 0. 0. 0. 0. 0. 0. 0.]\n"
     ]
    }
   ],
   "source": [
    "print(train_oh[0][0])"
   ]
  },
  {
   "cell_type": "code",
   "execution_count": 22,
   "id": "87b66ae8",
   "metadata": {},
   "outputs": [
    {
     "name": "stdout",
     "output_type": "stream",
     "text": [
      "1.0\n"
     ]
    }
   ],
   "source": [
    "print(np.sum(train_oh[0, 0]))"
   ]
  },
  {
   "cell_type": "markdown",
   "id": "6118a7db",
   "metadata": {},
   "source": [
    "- 하나의 원소만 1이고 나머지 원소는 모두 0임"
   ]
  },
  {
   "cell_type": "code",
   "execution_count": 23,
   "id": "9831cca1",
   "metadata": {},
   "outputs": [],
   "source": [
    "# val_seq 원핫인코딩\n",
    "val_oh = keras.utils.to_categorical(val_seq)"
   ]
  },
  {
   "cell_type": "code",
   "execution_count": 24,
   "id": "4cb9da8d",
   "metadata": {},
   "outputs": [
    {
     "data": {
      "text/html": [
       "<pre style=\"white-space:pre;overflow-x:auto;line-height:normal;font-family:Menlo,'DejaVu Sans Mono',consolas,'Courier New',monospace\"><span style=\"font-weight: bold\">Model: \"sequential\"</span>\n",
       "</pre>\n"
      ],
      "text/plain": [
       "\u001b[1mModel: \"sequential\"\u001b[0m\n"
      ]
     },
     "metadata": {},
     "output_type": "display_data"
    },
    {
     "data": {
      "text/html": [
       "<pre style=\"white-space:pre;overflow-x:auto;line-height:normal;font-family:Menlo,'DejaVu Sans Mono',consolas,'Courier New',monospace\">┏━━━━━━━━━━━━━━━━━━━━━━━━━━━━━━━━━━━━━━┳━━━━━━━━━━━━━━━━━━━━━━━━━━━━━┳━━━━━━━━━━━━━━━━━┓\n",
       "┃<span style=\"font-weight: bold\"> Layer (type)                         </span>┃<span style=\"font-weight: bold\"> Output Shape                </span>┃<span style=\"font-weight: bold\">         Param # </span>┃\n",
       "┡━━━━━━━━━━━━━━━━━━━━━━━━━━━━━━━━━━━━━━╇━━━━━━━━━━━━━━━━━━━━━━━━━━━━━╇━━━━━━━━━━━━━━━━━┩\n",
       "│ simple_rnn (<span style=\"color: #0087ff; text-decoration-color: #0087ff\">SimpleRNN</span>)               │ (<span style=\"color: #00d7ff; text-decoration-color: #00d7ff\">None</span>, <span style=\"color: #00af00; text-decoration-color: #00af00\">8</span>)                   │           <span style=\"color: #00af00; text-decoration-color: #00af00\">4,072</span> │\n",
       "├──────────────────────────────────────┼─────────────────────────────┼─────────────────┤\n",
       "│ dense (<span style=\"color: #0087ff; text-decoration-color: #0087ff\">Dense</span>)                        │ (<span style=\"color: #00d7ff; text-decoration-color: #00d7ff\">None</span>, <span style=\"color: #00af00; text-decoration-color: #00af00\">1</span>)                   │               <span style=\"color: #00af00; text-decoration-color: #00af00\">9</span> │\n",
       "└──────────────────────────────────────┴─────────────────────────────┴─────────────────┘\n",
       "</pre>\n"
      ],
      "text/plain": [
       "┏━━━━━━━━━━━━━━━━━━━━━━━━━━━━━━━━━━━━━━┳━━━━━━━━━━━━━━━━━━━━━━━━━━━━━┳━━━━━━━━━━━━━━━━━┓\n",
       "┃\u001b[1m \u001b[0m\u001b[1mLayer (type)                        \u001b[0m\u001b[1m \u001b[0m┃\u001b[1m \u001b[0m\u001b[1mOutput Shape               \u001b[0m\u001b[1m \u001b[0m┃\u001b[1m \u001b[0m\u001b[1m        Param #\u001b[0m\u001b[1m \u001b[0m┃\n",
       "┡━━━━━━━━━━━━━━━━━━━━━━━━━━━━━━━━━━━━━━╇━━━━━━━━━━━━━━━━━━━━━━━━━━━━━╇━━━━━━━━━━━━━━━━━┩\n",
       "│ simple_rnn (\u001b[38;5;33mSimpleRNN\u001b[0m)               │ (\u001b[38;5;45mNone\u001b[0m, \u001b[38;5;34m8\u001b[0m)                   │           \u001b[38;5;34m4,072\u001b[0m │\n",
       "├──────────────────────────────────────┼─────────────────────────────┼─────────────────┤\n",
       "│ dense (\u001b[38;5;33mDense\u001b[0m)                        │ (\u001b[38;5;45mNone\u001b[0m, \u001b[38;5;34m1\u001b[0m)                   │               \u001b[38;5;34m9\u001b[0m │\n",
       "└──────────────────────────────────────┴─────────────────────────────┴─────────────────┘\n"
      ]
     },
     "metadata": {},
     "output_type": "display_data"
    },
    {
     "data": {
      "text/html": [
       "<pre style=\"white-space:pre;overflow-x:auto;line-height:normal;font-family:Menlo,'DejaVu Sans Mono',consolas,'Courier New',monospace\"><span style=\"font-weight: bold\"> Total params: </span><span style=\"color: #00af00; text-decoration-color: #00af00\">4,081</span> (15.94 KB)\n",
       "</pre>\n"
      ],
      "text/plain": [
       "\u001b[1m Total params: \u001b[0m\u001b[38;5;34m4,081\u001b[0m (15.94 KB)\n"
      ]
     },
     "metadata": {},
     "output_type": "display_data"
    },
    {
     "data": {
      "text/html": [
       "<pre style=\"white-space:pre;overflow-x:auto;line-height:normal;font-family:Menlo,'DejaVu Sans Mono',consolas,'Courier New',monospace\"><span style=\"font-weight: bold\"> Trainable params: </span><span style=\"color: #00af00; text-decoration-color: #00af00\">4,081</span> (15.94 KB)\n",
       "</pre>\n"
      ],
      "text/plain": [
       "\u001b[1m Trainable params: \u001b[0m\u001b[38;5;34m4,081\u001b[0m (15.94 KB)\n"
      ]
     },
     "metadata": {},
     "output_type": "display_data"
    },
    {
     "data": {
      "text/html": [
       "<pre style=\"white-space:pre;overflow-x:auto;line-height:normal;font-family:Menlo,'DejaVu Sans Mono',consolas,'Courier New',monospace\"><span style=\"font-weight: bold\"> Non-trainable params: </span><span style=\"color: #00af00; text-decoration-color: #00af00\">0</span> (0.00 B)\n",
       "</pre>\n"
      ],
      "text/plain": [
       "\u001b[1m Non-trainable params: \u001b[0m\u001b[38;5;34m0\u001b[0m (0.00 B)\n"
      ]
     },
     "metadata": {},
     "output_type": "display_data"
    }
   ],
   "source": [
    "model.summary()"
   ]
  },
  {
   "cell_type": "markdown",
   "id": "a914d5d7",
   "metadata": {},
   "source": [
    "- SimpleRNN 에 전달할 샘플의 크기는 (100, 500)이지만 순환층은 마지막 타임스텝의 은닉 상태만 출력\n",
    "    - 출력의 크기가 순환층의 유닛 개수와 동일\n",
    "    \n",
    "- 파라미터 개수\n",
    "    - 입력 토큰은 500 차원의 원핫 인코딩 배열\n",
    "    - 배열이 순환층의 유닛 8개와 완전연결\n",
    "        - 500 * 8 = 4000\n",
    "    - 순환층의 은닉상태는 다시 다음 타임스텝에 사용하기 위해 또 다른 가중치와 곱해짐\n",
    "        - 은닉상태의 크기 * 유닛 개수\n",
    "            - 8 * 8 = 64\n",
    "    - 각 유닛마다 하나의 절편\n",
    "        - 8\n",
    "    - 4000 + 64 + 8 = 4072"
   ]
  },
  {
   "cell_type": "markdown",
   "id": "96c87ed0",
   "metadata": {},
   "source": [
    "## 모델 훈련"
   ]
  },
  {
   "cell_type": "code",
   "execution_count": 25,
   "id": "2c182c1b",
   "metadata": {},
   "outputs": [],
   "source": [
    "rmsprop = keras.optimizers.RMSprop(learning_rate = 1e-4)\n",
    "model.compile(optimizer = rmsprop, loss = \"binary_crossentropy\", metrics = [\"accuracy\"])\n",
    "checkpoint_cb = keras.callbacks.ModelCheckpoint(\"./model/best-simplernn-model.keras\", save_best_only = True)\n",
    "early_stopping_cb = keras.callbacks.EarlyStopping(patience = 4, restore_best_weights = True)"
   ]
  },
  {
   "cell_type": "code",
   "execution_count": 27,
   "id": "3f7c819d",
   "metadata": {},
   "outputs": [
    {
     "ename": "MemoryError",
     "evalue": "Unable to allocate 3.73 GiB for an array with shape (20000, 100, 500) and data type float32",
     "output_type": "error",
     "traceback": [
      "\u001b[1;31m---------------------------------------------------------------------------\u001b[0m",
      "\u001b[1;31mMemoryError\u001b[0m                               Traceback (most recent call last)",
      "Cell \u001b[1;32mIn[27], line 1\u001b[0m\n\u001b[1;32m----> 1\u001b[0m history \u001b[38;5;241m=\u001b[39m model\u001b[38;5;241m.\u001b[39mfit(train_oh, y_train, epochs \u001b[38;5;241m=\u001b[39m \u001b[38;5;241m100\u001b[39m, batch_size \u001b[38;5;241m=\u001b[39m \u001b[38;5;241m12\u001b[39m, validation_data \u001b[38;5;241m=\u001b[39m (val_oh, y_val),\n\u001b[0;32m      2\u001b[0m                     callbacks \u001b[38;5;241m=\u001b[39m [checkpoint_cb, early_stopping_cb])\n",
      "File \u001b[1;32m~\\AppData\\Roaming\\Python\\Python311\\site-packages\\keras\\src\\utils\\traceback_utils.py:122\u001b[0m, in \u001b[0;36mfilter_traceback.<locals>.error_handler\u001b[1;34m(*args, **kwargs)\u001b[0m\n\u001b[0;32m    119\u001b[0m     filtered_tb \u001b[38;5;241m=\u001b[39m _process_traceback_frames(e\u001b[38;5;241m.\u001b[39m__traceback__)\n\u001b[0;32m    120\u001b[0m     \u001b[38;5;66;03m# To get the full stack trace, call:\u001b[39;00m\n\u001b[0;32m    121\u001b[0m     \u001b[38;5;66;03m# `keras.config.disable_traceback_filtering()`\u001b[39;00m\n\u001b[1;32m--> 122\u001b[0m     \u001b[38;5;28;01mraise\u001b[39;00m e\u001b[38;5;241m.\u001b[39mwith_traceback(filtered_tb) \u001b[38;5;28;01mfrom\u001b[39;00m \u001b[38;5;28;01mNone\u001b[39;00m\n\u001b[0;32m    123\u001b[0m \u001b[38;5;28;01mfinally\u001b[39;00m:\n\u001b[0;32m    124\u001b[0m     \u001b[38;5;28;01mdel\u001b[39;00m filtered_tb\n",
      "File \u001b[1;32m~\\AppData\\Roaming\\Python\\Python311\\site-packages\\optree\\ops.py:594\u001b[0m, in \u001b[0;36mtree_map\u001b[1;34m(func, tree, is_leaf, none_is_leaf, namespace, *rests)\u001b[0m\n\u001b[0;32m    592\u001b[0m leaves, treespec \u001b[38;5;241m=\u001b[39m _C\u001b[38;5;241m.\u001b[39mflatten(tree, is_leaf, none_is_leaf, namespace)\n\u001b[0;32m    593\u001b[0m flat_args \u001b[38;5;241m=\u001b[39m [leaves] \u001b[38;5;241m+\u001b[39m [treespec\u001b[38;5;241m.\u001b[39mflatten_up_to(r) \u001b[38;5;28;01mfor\u001b[39;00m r \u001b[38;5;129;01min\u001b[39;00m rests]\n\u001b[1;32m--> 594\u001b[0m \u001b[38;5;28;01mreturn\u001b[39;00m treespec\u001b[38;5;241m.\u001b[39munflatten(\u001b[38;5;28mmap\u001b[39m(func, \u001b[38;5;241m*\u001b[39mflat_args))\n",
      "\u001b[1;31mMemoryError\u001b[0m: Unable to allocate 3.73 GiB for an array with shape (20000, 100, 500) and data type float32"
     ]
    }
   ],
   "source": [
    "history = model.fit(train_oh, y_train, epochs = 100, batch_size = 12, validation_data = (val_oh, y_val),\n",
    "                    callbacks = [checkpoint_cb, early_stopping_cb])"
   ]
  },
  {
   "cell_type": "code",
   "execution_count": null,
   "id": "968adf72",
   "metadata": {},
   "outputs": [],
   "source": [
    "plt.figure()\n",
    "\n",
    "plt.plot(history.history[\"loss\"], label = \"train_loss\")\n",
    "plt.plot(history.history[\"accuracy\"], label = \"train_acc\")\n",
    "plt.plot(history.history[\"val_loss\"], label = \"val_loss\")\n",
    "plt.plot(history.history[\"val_accuracy\"], label = \"val_acc\")\n",
    "\n",
    "plt.legend()\n",
    "plt.xlabel(\"epoch\")\n",
    "plt.show()"
   ]
  },
  {
   "cell_type": "markdown",
   "id": "36adce45",
   "metadata": {},
   "source": [
    "- 원핫인코딩의 단점\n",
    "    - 입력데이터가 매우 커짐"
   ]
  },
  {
   "cell_type": "code",
   "execution_count": 28,
   "id": "d843373e",
   "metadata": {},
   "outputs": [
    {
     "name": "stdout",
     "output_type": "stream",
     "text": [
      "8000000 8000000000\n"
     ]
    }
   ],
   "source": [
    "print(train_seq.nbytes, train_oh.nbytes)"
   ]
  },
  {
   "cell_type": "code",
   "execution_count": 29,
   "id": "8e0da16d",
   "metadata": {},
   "outputs": [
    {
     "data": {
      "text/plain": [
       "1000.0"
      ]
     },
     "execution_count": 29,
     "metadata": {},
     "output_type": "execute_result"
    }
   ],
   "source": [
    "train_oh.nbytes / train_seq.nbytes"
   ]
  },
  {
   "cell_type": "markdown",
   "id": "fabfb22a",
   "metadata": {},
   "source": [
    "# 단어 임베딩을 활용한 RNN 텍스트 분류\n",
    "\n",
    "<img src = \"./image/embedding.png\">"
   ]
  },
  {
   "cell_type": "markdown",
   "id": "3c2230ec",
   "metadata": {},
   "source": [
    "- 단어 임베딩(word embedding)\n",
    "    - 순환 신경망에서 텍스트를 처리할 때 즐겨 사용하는 방법\n",
    "    - 각 단어를 고정된 크기의 실수 벡터로 변환\n",
    "    \n",
    "- 단어 임베딩으로 만들어진 벡터는 원핫인코딩보다 훨씬 의미있는 값으로 채워져 있음\n",
    "    - 자연어 처리에서 더 좋은 성능을 내는 경우가 많음\n",
    "    - 단어 임베딩 벡터를 만드는 층은 Embedding 클래스로 케라스에서 제공\n",
    "        - 처음에는 모든 벡터가 랜덤하게 초기화되고 훈련을 통해 데이터에서 좋은 단어 임베딩을 학습\n",
    "\n",
    "- 단어 임베딩의 장점\n",
    "    - 입력으로 정수 데이터를 받음\n",
    "        - 원핫인코딩으로 변경된 배열이 아니라 train_seq를 바로 사용할 수 있음\n",
    "        - 메모리를 훨씬 효율적으로 사용할 수 있음\n",
    "    - 원핫인코딩보다 훨씬 작은 크기로도 단어를 잘 표현할 수 있음"
   ]
  },
  {
   "cell_type": "code",
   "execution_count": 50,
   "id": "145cbacc",
   "metadata": {},
   "outputs": [
    {
     "name": "stderr",
     "output_type": "stream",
     "text": [
      "C:\\Users\\sungj\\AppData\\Roaming\\Python\\Python311\\site-packages\\keras\\src\\layers\\core\\embedding.py:81: UserWarning: Do not pass an `input_shape`/`input_dim` argument to a layer. When using Sequential models, prefer using an `Input(shape)` object as the first layer in the model instead.\n",
      "  super().__init__(**kwargs)\n"
     ]
    }
   ],
   "source": [
    "model2 = keras.Sequential()\n",
    "model2.add(keras.layers.Embedding(500, 32, input_shape = (100,)))\n",
    "model2.add(keras.layers.SimpleRNN(8))\n",
    "model2.add(keras.layers.Dense(1, activation = \"sigmoid\"))"
   ]
  },
  {
   "cell_type": "markdown",
   "id": "835a0fb1",
   "metadata": {},
   "source": [
    "- Embedding\n",
    "    - 첫 번째 매개변수는 어휘 사전의 크기\n",
    "        - 앞에서 IMDB 데이터셋에서 500개의 단어만 사용하도록 설정했기 때문에 같은 값으로 설정\n",
    "    - 두 번째 매개변수는 임베딩 벡터의 크기"
   ]
  },
  {
   "cell_type": "code",
   "execution_count": 51,
   "id": "de815f20",
   "metadata": {},
   "outputs": [
    {
     "data": {
      "text/html": [
       "<pre style=\"white-space:pre;overflow-x:auto;line-height:normal;font-family:Menlo,'DejaVu Sans Mono',consolas,'Courier New',monospace\"><span style=\"font-weight: bold\">Model: \"sequential_17\"</span>\n",
       "</pre>\n"
      ],
      "text/plain": [
       "\u001b[1mModel: \"sequential_17\"\u001b[0m\n"
      ]
     },
     "metadata": {},
     "output_type": "display_data"
    },
    {
     "data": {
      "text/html": [
       "<pre style=\"white-space:pre;overflow-x:auto;line-height:normal;font-family:Menlo,'DejaVu Sans Mono',consolas,'Courier New',monospace\">┏━━━━━━━━━━━━━━━━━━━━━━━━━━━━━━━━━━━━━━┳━━━━━━━━━━━━━━━━━━━━━━━━━━━━━┳━━━━━━━━━━━━━━━━━┓\n",
       "┃<span style=\"font-weight: bold\"> Layer (type)                         </span>┃<span style=\"font-weight: bold\"> Output Shape                </span>┃<span style=\"font-weight: bold\">         Param # </span>┃\n",
       "┡━━━━━━━━━━━━━━━━━━━━━━━━━━━━━━━━━━━━━━╇━━━━━━━━━━━━━━━━━━━━━━━━━━━━━╇━━━━━━━━━━━━━━━━━┩\n",
       "│ embedding_15 (<span style=\"color: #0087ff; text-decoration-color: #0087ff\">Embedding</span>)             │ (<span style=\"color: #00d7ff; text-decoration-color: #00d7ff\">None</span>, <span style=\"color: #00af00; text-decoration-color: #00af00\">100</span>, <span style=\"color: #00af00; text-decoration-color: #00af00\">32</span>)             │          <span style=\"color: #00af00; text-decoration-color: #00af00\">16,000</span> │\n",
       "├──────────────────────────────────────┼─────────────────────────────┼─────────────────┤\n",
       "│ simple_rnn_3 (<span style=\"color: #0087ff; text-decoration-color: #0087ff\">SimpleRNN</span>)             │ (<span style=\"color: #00d7ff; text-decoration-color: #00d7ff\">None</span>, <span style=\"color: #00af00; text-decoration-color: #00af00\">8</span>)                   │             <span style=\"color: #00af00; text-decoration-color: #00af00\">328</span> │\n",
       "├──────────────────────────────────────┼─────────────────────────────┼─────────────────┤\n",
       "│ dense_3 (<span style=\"color: #0087ff; text-decoration-color: #0087ff\">Dense</span>)                      │ (<span style=\"color: #00d7ff; text-decoration-color: #00d7ff\">None</span>, <span style=\"color: #00af00; text-decoration-color: #00af00\">1</span>)                   │               <span style=\"color: #00af00; text-decoration-color: #00af00\">9</span> │\n",
       "└──────────────────────────────────────┴─────────────────────────────┴─────────────────┘\n",
       "</pre>\n"
      ],
      "text/plain": [
       "┏━━━━━━━━━━━━━━━━━━━━━━━━━━━━━━━━━━━━━━┳━━━━━━━━━━━━━━━━━━━━━━━━━━━━━┳━━━━━━━━━━━━━━━━━┓\n",
       "┃\u001b[1m \u001b[0m\u001b[1mLayer (type)                        \u001b[0m\u001b[1m \u001b[0m┃\u001b[1m \u001b[0m\u001b[1mOutput Shape               \u001b[0m\u001b[1m \u001b[0m┃\u001b[1m \u001b[0m\u001b[1m        Param #\u001b[0m\u001b[1m \u001b[0m┃\n",
       "┡━━━━━━━━━━━━━━━━━━━━━━━━━━━━━━━━━━━━━━╇━━━━━━━━━━━━━━━━━━━━━━━━━━━━━╇━━━━━━━━━━━━━━━━━┩\n",
       "│ embedding_15 (\u001b[38;5;33mEmbedding\u001b[0m)             │ (\u001b[38;5;45mNone\u001b[0m, \u001b[38;5;34m100\u001b[0m, \u001b[38;5;34m32\u001b[0m)             │          \u001b[38;5;34m16,000\u001b[0m │\n",
       "├──────────────────────────────────────┼─────────────────────────────┼─────────────────┤\n",
       "│ simple_rnn_3 (\u001b[38;5;33mSimpleRNN\u001b[0m)             │ (\u001b[38;5;45mNone\u001b[0m, \u001b[38;5;34m8\u001b[0m)                   │             \u001b[38;5;34m328\u001b[0m │\n",
       "├──────────────────────────────────────┼─────────────────────────────┼─────────────────┤\n",
       "│ dense_3 (\u001b[38;5;33mDense\u001b[0m)                      │ (\u001b[38;5;45mNone\u001b[0m, \u001b[38;5;34m1\u001b[0m)                   │               \u001b[38;5;34m9\u001b[0m │\n",
       "└──────────────────────────────────────┴─────────────────────────────┴─────────────────┘\n"
      ]
     },
     "metadata": {},
     "output_type": "display_data"
    },
    {
     "data": {
      "text/html": [
       "<pre style=\"white-space:pre;overflow-x:auto;line-height:normal;font-family:Menlo,'DejaVu Sans Mono',consolas,'Courier New',monospace\"><span style=\"font-weight: bold\"> Total params: </span><span style=\"color: #00af00; text-decoration-color: #00af00\">16,337</span> (63.82 KB)\n",
       "</pre>\n"
      ],
      "text/plain": [
       "\u001b[1m Total params: \u001b[0m\u001b[38;5;34m16,337\u001b[0m (63.82 KB)\n"
      ]
     },
     "metadata": {},
     "output_type": "display_data"
    },
    {
     "data": {
      "text/html": [
       "<pre style=\"white-space:pre;overflow-x:auto;line-height:normal;font-family:Menlo,'DejaVu Sans Mono',consolas,'Courier New',monospace\"><span style=\"font-weight: bold\"> Trainable params: </span><span style=\"color: #00af00; text-decoration-color: #00af00\">16,337</span> (63.82 KB)\n",
       "</pre>\n"
      ],
      "text/plain": [
       "\u001b[1m Trainable params: \u001b[0m\u001b[38;5;34m16,337\u001b[0m (63.82 KB)\n"
      ]
     },
     "metadata": {},
     "output_type": "display_data"
    },
    {
     "data": {
      "text/html": [
       "<pre style=\"white-space:pre;overflow-x:auto;line-height:normal;font-family:Menlo,'DejaVu Sans Mono',consolas,'Courier New',monospace\"><span style=\"font-weight: bold\"> Non-trainable params: </span><span style=\"color: #00af00; text-decoration-color: #00af00\">0</span> (0.00 B)\n",
       "</pre>\n"
      ],
      "text/plain": [
       "\u001b[1m Non-trainable params: \u001b[0m\u001b[38;5;34m0\u001b[0m (0.00 B)\n"
      ]
     },
     "metadata": {},
     "output_type": "display_data"
    }
   ],
   "source": [
    "model2.summary()"
   ]
  },
  {
   "cell_type": "markdown",
   "id": "ce7437d4",
   "metadata": {},
   "source": [
    "- Embedding\n",
    "    - (100,)크기의 입력을 받아 (100, 32) 크기의 출력을 만듦\n",
    "    - 500개의 각 토큰을 크기가 32인 벡터로 변경\n",
    "        - 500 * 32 = 16000\n",
    "        \n",
    "- SimpleRNN\n",
    "    - 임베딩 벡터의 크기가 32, 유닛의 개수가 8\n",
    "        - 32 * 8 = 256\n",
    "    - 은닉 상태에 곱해지는 가중치\n",
    "        - 8 * 8 = 64\n",
    "    - 8개의 절편\n",
    "    - 256 + 64 + 8 = 328"
   ]
  },
  {
   "cell_type": "code",
   "execution_count": 55,
   "id": "6af2257d",
   "metadata": {},
   "outputs": [],
   "source": [
    "rmsprop = keras.optimizers.RMSprop(learning_rate = 1e-4)\n",
    "model2.compile(optimizer = rmsprop, loss = \"binary_crossentropy\", metrics = [\"accuracy\"])\n",
    "checkpoint_cb = keras.callbacks.ModelCheckpoint(\"./model/best-embedding-model.keras\", save_best_only = True)\n",
    "early_stopping_cb = keras.callbacks.EarlyStopping(patience = 4, restore_best_weights = True)"
   ]
  },
  {
   "cell_type": "code",
   "execution_count": 57,
   "id": "6f1fe67a",
   "metadata": {},
   "outputs": [
    {
     "name": "stdout",
     "output_type": "stream",
     "text": [
      "Epoch 1/100\n",
      "\u001b[1m313/313\u001b[0m \u001b[32m━━━━━━━━━━━━━━━━━━━━\u001b[0m\u001b[37m\u001b[0m \u001b[1m12s\u001b[0m 29ms/step - accuracy: 0.5134 - loss: 0.6948 - val_accuracy: 0.5286 - val_loss: 0.6907\n",
      "Epoch 2/100\n",
      "\u001b[1m313/313\u001b[0m \u001b[32m━━━━━━━━━━━━━━━━━━━━\u001b[0m\u001b[37m\u001b[0m \u001b[1m9s\u001b[0m 30ms/step - accuracy: 0.5450 - loss: 0.6869 - val_accuracy: 0.5450 - val_loss: 0.6862\n",
      "Epoch 3/100\n",
      "\u001b[1m313/313\u001b[0m \u001b[32m━━━━━━━━━━━━━━━━━━━━\u001b[0m\u001b[37m\u001b[0m \u001b[1m8s\u001b[0m 26ms/step - accuracy: 0.5716 - loss: 0.6801 - val_accuracy: 0.5642 - val_loss: 0.6816\n",
      "Epoch 4/100\n",
      "\u001b[1m313/313\u001b[0m \u001b[32m━━━━━━━━━━━━━━━━━━━━\u001b[0m\u001b[37m\u001b[0m \u001b[1m8s\u001b[0m 25ms/step - accuracy: 0.5944 - loss: 0.6718 - val_accuracy: 0.5730 - val_loss: 0.6770\n",
      "Epoch 5/100\n",
      "\u001b[1m313/313\u001b[0m \u001b[32m━━━━━━━━━━━━━━━━━━━━\u001b[0m\u001b[37m\u001b[0m \u001b[1m8s\u001b[0m 25ms/step - accuracy: 0.6091 - loss: 0.6640 - val_accuracy: 0.5780 - val_loss: 0.6738\n",
      "Epoch 6/100\n",
      "\u001b[1m313/313\u001b[0m \u001b[32m━━━━━━━━━━━━━━━━━━━━\u001b[0m\u001b[37m\u001b[0m \u001b[1m10s\u001b[0m 25ms/step - accuracy: 0.6187 - loss: 0.6566 - val_accuracy: 0.5782 - val_loss: 0.6709\n",
      "Epoch 7/100\n",
      "\u001b[1m313/313\u001b[0m \u001b[32m━━━━━━━━━━━━━━━━━━━━\u001b[0m\u001b[37m\u001b[0m \u001b[1m8s\u001b[0m 25ms/step - accuracy: 0.6302 - loss: 0.6494 - val_accuracy: 0.5844 - val_loss: 0.6695\n",
      "Epoch 8/100\n",
      "\u001b[1m313/313\u001b[0m \u001b[32m━━━━━━━━━━━━━━━━━━━━\u001b[0m\u001b[37m\u001b[0m \u001b[1m8s\u001b[0m 26ms/step - accuracy: 0.6388 - loss: 0.6439 - val_accuracy: 0.5888 - val_loss: 0.6662\n",
      "Epoch 9/100\n",
      "\u001b[1m313/313\u001b[0m \u001b[32m━━━━━━━━━━━━━━━━━━━━\u001b[0m\u001b[37m\u001b[0m \u001b[1m8s\u001b[0m 26ms/step - accuracy: 0.6435 - loss: 0.6372 - val_accuracy: 0.5970 - val_loss: 0.6644\n",
      "Epoch 10/100\n",
      "\u001b[1m313/313\u001b[0m \u001b[32m━━━━━━━━━━━━━━━━━━━━\u001b[0m\u001b[37m\u001b[0m \u001b[1m9s\u001b[0m 28ms/step - accuracy: 0.6480 - loss: 0.6299 - val_accuracy: 0.5952 - val_loss: 0.6625\n",
      "Epoch 11/100\n",
      "\u001b[1m313/313\u001b[0m \u001b[32m━━━━━━━━━━━━━━━━━━━━\u001b[0m\u001b[37m\u001b[0m \u001b[1m11s\u001b[0m 34ms/step - accuracy: 0.6552 - loss: 0.6240 - val_accuracy: 0.5976 - val_loss: 0.6606\n",
      "Epoch 12/100\n",
      "\u001b[1m313/313\u001b[0m \u001b[32m━━━━━━━━━━━━━━━━━━━━\u001b[0m\u001b[37m\u001b[0m \u001b[1m10s\u001b[0m 31ms/step - accuracy: 0.6557 - loss: 0.6228 - val_accuracy: 0.6038 - val_loss: 0.6594\n",
      "Epoch 13/100\n",
      "\u001b[1m313/313\u001b[0m \u001b[32m━━━━━━━━━━━━━━━━━━━━\u001b[0m\u001b[37m\u001b[0m \u001b[1m9s\u001b[0m 29ms/step - accuracy: 0.6675 - loss: 0.6129 - val_accuracy: 0.6032 - val_loss: 0.6559\n",
      "Epoch 14/100\n",
      "\u001b[1m313/313\u001b[0m \u001b[32m━━━━━━━━━━━━━━━━━━━━\u001b[0m\u001b[37m\u001b[0m \u001b[1m9s\u001b[0m 30ms/step - accuracy: 0.6774 - loss: 0.6090 - val_accuracy: 0.6106 - val_loss: 0.6537\n",
      "Epoch 15/100\n",
      "\u001b[1m313/313\u001b[0m \u001b[32m━━━━━━━━━━━━━━━━━━━━\u001b[0m\u001b[37m\u001b[0m \u001b[1m10s\u001b[0m 32ms/step - accuracy: 0.6795 - loss: 0.6034 - val_accuracy: 0.6172 - val_loss: 0.6475\n",
      "Epoch 16/100\n",
      "\u001b[1m313/313\u001b[0m \u001b[32m━━━━━━━━━━━━━━━━━━━━\u001b[0m\u001b[37m\u001b[0m \u001b[1m9s\u001b[0m 30ms/step - accuracy: 0.6881 - loss: 0.5982 - val_accuracy: 0.6296 - val_loss: 0.6432\n",
      "Epoch 17/100\n",
      "\u001b[1m313/313\u001b[0m \u001b[32m━━━━━━━━━━━━━━━━━━━━\u001b[0m\u001b[37m\u001b[0m \u001b[1m10s\u001b[0m 32ms/step - accuracy: 0.6931 - loss: 0.5908 - val_accuracy: 0.6316 - val_loss: 0.6361\n",
      "Epoch 18/100\n",
      "\u001b[1m313/313\u001b[0m \u001b[32m━━━━━━━━━━━━━━━━━━━━\u001b[0m\u001b[37m\u001b[0m \u001b[1m9s\u001b[0m 30ms/step - accuracy: 0.6990 - loss: 0.5826 - val_accuracy: 0.6310 - val_loss: 0.6322\n",
      "Epoch 19/100\n",
      "\u001b[1m313/313\u001b[0m \u001b[32m━━━━━━━━━━━━━━━━━━━━\u001b[0m\u001b[37m\u001b[0m \u001b[1m9s\u001b[0m 30ms/step - accuracy: 0.7047 - loss: 0.5806 - val_accuracy: 0.6398 - val_loss: 0.6281\n",
      "Epoch 20/100\n",
      "\u001b[1m313/313\u001b[0m \u001b[32m━━━━━━━━━━━━━━━━━━━━\u001b[0m\u001b[37m\u001b[0m \u001b[1m10s\u001b[0m 30ms/step - accuracy: 0.7047 - loss: 0.5741 - val_accuracy: 0.6492 - val_loss: 0.6245\n",
      "Epoch 21/100\n",
      "\u001b[1m313/313\u001b[0m \u001b[32m━━━━━━━━━━━━━━━━━━━━\u001b[0m\u001b[37m\u001b[0m \u001b[1m10s\u001b[0m 30ms/step - accuracy: 0.7144 - loss: 0.5636 - val_accuracy: 0.6518 - val_loss: 0.6216\n",
      "Epoch 22/100\n",
      "\u001b[1m313/313\u001b[0m \u001b[32m━━━━━━━━━━━━━━━━━━━━\u001b[0m\u001b[37m\u001b[0m \u001b[1m10s\u001b[0m 31ms/step - accuracy: 0.7150 - loss: 0.5606 - val_accuracy: 0.6546 - val_loss: 0.6191\n",
      "Epoch 23/100\n",
      "\u001b[1m313/313\u001b[0m \u001b[32m━━━━━━━━━━━━━━━━━━━━\u001b[0m\u001b[37m\u001b[0m \u001b[1m9s\u001b[0m 30ms/step - accuracy: 0.7237 - loss: 0.5544 - val_accuracy: 0.6516 - val_loss: 0.6201\n",
      "Epoch 24/100\n",
      "\u001b[1m313/313\u001b[0m \u001b[32m━━━━━━━━━━━━━━━━━━━━\u001b[0m\u001b[37m\u001b[0m \u001b[1m10s\u001b[0m 32ms/step - accuracy: 0.7289 - loss: 0.5498 - val_accuracy: 0.6604 - val_loss: 0.6172\n",
      "Epoch 25/100\n",
      "\u001b[1m313/313\u001b[0m \u001b[32m━━━━━━━━━━━━━━━━━━━━\u001b[0m\u001b[37m\u001b[0m \u001b[1m11s\u001b[0m 36ms/step - accuracy: 0.7257 - loss: 0.5509 - val_accuracy: 0.6582 - val_loss: 0.6185\n",
      "Epoch 26/100\n",
      "\u001b[1m313/313\u001b[0m \u001b[32m━━━━━━━━━━━━━━━━━━━━\u001b[0m\u001b[37m\u001b[0m \u001b[1m13s\u001b[0m 43ms/step - accuracy: 0.7278 - loss: 0.5463 - val_accuracy: 0.6584 - val_loss: 0.6137\n",
      "Epoch 27/100\n",
      "\u001b[1m313/313\u001b[0m \u001b[32m━━━━━━━━━━━━━━━━━━━━\u001b[0m\u001b[37m\u001b[0m \u001b[1m16s\u001b[0m 29ms/step - accuracy: 0.7402 - loss: 0.5404 - val_accuracy: 0.6650 - val_loss: 0.6148\n",
      "Epoch 28/100\n",
      "\u001b[1m313/313\u001b[0m \u001b[32m━━━━━━━━━━━━━━━━━━━━\u001b[0m\u001b[37m\u001b[0m \u001b[1m10s\u001b[0m 31ms/step - accuracy: 0.7413 - loss: 0.5342 - val_accuracy: 0.6616 - val_loss: 0.6156\n",
      "Epoch 29/100\n",
      "\u001b[1m313/313\u001b[0m \u001b[32m━━━━━━━━━━━━━━━━━━━━\u001b[0m\u001b[37m\u001b[0m \u001b[1m11s\u001b[0m 34ms/step - accuracy: 0.7437 - loss: 0.5323 - val_accuracy: 0.6674 - val_loss: 0.6109\n",
      "Epoch 30/100\n",
      "\u001b[1m313/313\u001b[0m \u001b[32m━━━━━━━━━━━━━━━━━━━━\u001b[0m\u001b[37m\u001b[0m \u001b[1m11s\u001b[0m 36ms/step - accuracy: 0.7489 - loss: 0.5251 - val_accuracy: 0.6642 - val_loss: 0.6095\n",
      "Epoch 31/100\n",
      "\u001b[1m313/313\u001b[0m \u001b[32m━━━━━━━━━━━━━━━━━━━━\u001b[0m\u001b[37m\u001b[0m \u001b[1m11s\u001b[0m 34ms/step - accuracy: 0.7521 - loss: 0.5216 - val_accuracy: 0.6638 - val_loss: 0.6129\n",
      "Epoch 32/100\n",
      "\u001b[1m313/313\u001b[0m \u001b[32m━━━━━━━━━━━━━━━━━━━━\u001b[0m\u001b[37m\u001b[0m \u001b[1m11s\u001b[0m 36ms/step - accuracy: 0.7493 - loss: 0.5206 - val_accuracy: 0.6702 - val_loss: 0.6091\n",
      "Epoch 33/100\n",
      "\u001b[1m313/313\u001b[0m \u001b[32m━━━━━━━━━━━━━━━━━━━━\u001b[0m\u001b[37m\u001b[0m \u001b[1m12s\u001b[0m 38ms/step - accuracy: 0.7586 - loss: 0.5122 - val_accuracy: 0.6688 - val_loss: 0.6121\n",
      "Epoch 34/100\n",
      "\u001b[1m313/313\u001b[0m \u001b[32m━━━━━━━━━━━━━━━━━━━━\u001b[0m\u001b[37m\u001b[0m \u001b[1m11s\u001b[0m 35ms/step - accuracy: 0.7627 - loss: 0.5086 - val_accuracy: 0.6734 - val_loss: 0.6090\n",
      "Epoch 35/100\n",
      "\u001b[1m313/313\u001b[0m \u001b[32m━━━━━━━━━━━━━━━━━━━━\u001b[0m\u001b[37m\u001b[0m \u001b[1m9s\u001b[0m 30ms/step - accuracy: 0.7649 - loss: 0.5040 - val_accuracy: 0.6766 - val_loss: 0.6100\n",
      "Epoch 36/100\n",
      "\u001b[1m313/313\u001b[0m \u001b[32m━━━━━━━━━━━━━━━━━━━━\u001b[0m\u001b[37m\u001b[0m \u001b[1m10s\u001b[0m 31ms/step - accuracy: 0.7650 - loss: 0.5026 - val_accuracy: 0.6748 - val_loss: 0.6102\n",
      "Epoch 37/100\n",
      "\u001b[1m313/313\u001b[0m \u001b[32m━━━━━━━━━━━━━━━━━━━━\u001b[0m\u001b[37m\u001b[0m \u001b[1m9s\u001b[0m 28ms/step - accuracy: 0.7748 - loss: 0.4960 - val_accuracy: 0.6776 - val_loss: 0.6098\n",
      "Epoch 38/100\n",
      "\u001b[1m313/313\u001b[0m \u001b[32m━━━━━━━━━━━━━━━━━━━━\u001b[0m\u001b[37m\u001b[0m \u001b[1m9s\u001b[0m 29ms/step - accuracy: 0.7704 - loss: 0.4967 - val_accuracy: 0.6764 - val_loss: 0.6100\n"
     ]
    }
   ],
   "source": [
    "history = model2.fit(train_seq, y_train, epochs = 100, batch_size = 64, validation_data = (val_seq, y_val),\n",
    "                     callbacks = [checkpoint_cb, early_stopping_cb])"
   ]
  },
  {
   "cell_type": "code",
   "execution_count": 58,
   "id": "3bb35a15",
   "metadata": {},
   "outputs": [
    {
     "data": {
      "image/png": "[encoded data removed]",
      "text/plain": [
       "<Figure size 640x480 with 1 Axes>"
      ]
     },
     "metadata": {},
     "output_type": "display_data"
    }
   ],
   "source": [
    "plt.figure()\n",
    "\n",
    "plt.plot(history.history[\"loss\"], label = \"train_loss\")\n",
    "plt.plot(history.history[\"accuracy\"], label = \"train_acc\")\n",
    "plt.plot(history.history[\"val_loss\"], label = \"val_loss\")\n",
    "plt.plot(history.history[\"val_accuracy\"], label = \"val_acc\")\n",
    "\n",
    "plt.legend()\n",
    "plt.xlabel(\"epoch\")\n",
    "plt.show()"
   ]
  }
 ],
 "metadata": {
  "kernelspec": {
   "display_name": "Python 3 (ipykernel)",
   "language": "python",
   "name": "python3"
  },
  "language_info": {
   "codemirror_mode": {
    "name": "ipython",
    "version": 3
   },
   "file_extension": ".py",
   "mimetype": "text/x-python",
   "name": "python",
   "nbconvert_exporter": "python",
   "pygments_lexer": "ipython3",
   "version": "3.11.5"
  }
 },
 "nbformat": 4,
 "nbformat_minor": 5
}
