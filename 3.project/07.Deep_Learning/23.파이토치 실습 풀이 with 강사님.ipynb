{
 "cells": [
  {
   "cell_type": "code",
   "execution_count": 1,
   "id": "4e394ac0",
   "metadata": {},
   "outputs": [],
   "source": [
    "import torch\n",
    "from torch.utils import data\n",
    "import torch.nn as nn\n",
    "from torch import optim\n",
    "import torch.nn.functional as F\n",
    "from torchvision import datasets, transforms"
   ]
  },
  {
   "cell_type": "code",
   "execution_count": 2,
   "id": "69b525de",
   "metadata": {},
   "outputs": [],
   "source": [
    "# CPU 혹은 GPU 장치 확인\n",
    "device = torch.device(\"cuda:0\" if torch.cuda.is_available() else \"cpu\")"
   ]
  },
  {
   "cell_type": "code",
   "execution_count": 3,
   "id": "b3a32d26",
   "metadata": {},
   "outputs": [
    {
     "data": {
      "text/plain": [
       "device(type='cpu')"
      ]
     },
     "execution_count": 3,
     "metadata": {},
     "output_type": "execute_result"
    }
   ],
   "source": [
    "device"
   ]
  },
  {
   "cell_type": "code",
   "execution_count": 4,
   "id": "62a528b2",
   "metadata": {},
   "outputs": [],
   "source": [
    "transform = transforms.Compose([transforms.ToTensor()])"
   ]
  },
  {
   "cell_type": "code",
   "execution_count": 5,
   "id": "5f7321ba",
   "metadata": {},
   "outputs": [],
   "source": [
    "trainset = datasets.MNIST(\n",
    "    root = \"./data/\",\n",
    "    train= True,\n",
    "    download = True,\n",
    "    transform = transform)\n",
    "\n",
    "testset = datasets.MNIST(\n",
    "    root = \"./data/\",\n",
    "    train = False,\n",
    "    download = True,\n",
    "    transform = transform)"
   ]
  },
  {
   "cell_type": "code",
   "execution_count": 6,
   "id": "4561391f",
   "metadata": {},
   "outputs": [],
   "source": [
    "batch_size = 32"
   ]
  },
  {
   "cell_type": "code",
   "execution_count": 7,
   "id": "1e4fc967",
   "metadata": {},
   "outputs": [],
   "source": [
    "# 데이터 공급 객체 선언\n",
    "train_loader = data.DataLoader(dataset = trainset, batch_size = batch_size)\n",
    "test_loader = data.DataLoader(dataset = testset, batch_size = batch_size)"
   ]
  },
  {
   "cell_type": "code",
   "execution_count": 8,
   "id": "8f63c463",
   "metadata": {},
   "outputs": [],
   "source": [
    "class Net(nn.Module):\n",
    "    def __init__(self):\n",
    "        '''모델 구조 정의'''\n",
    "        super().__init__()\n",
    "        self.fc1 = nn.Linear(784, 100)\n",
    "        self.fc2 = nn.Linear(100, 10)\n",
    "        \n",
    "    def forward(self, x):\n",
    "        # 입력 데이터 = x\n",
    "        # x.shape([배치사이즈, 채널, 높이, 너비])\n",
    "        x = x.view(-1, 28 * 28)\n",
    "        \n",
    "        # x.shape([배치사이즈, 784])\n",
    "        x = F.relu(self.fc1(x))\n",
    "        \n",
    "        # x.shape([배치사이즈, 앞 레이어의 출력 개수])\n",
    "        x = self.fc2(x)\n",
    "        \n",
    "        return x"
   ]
  },
  {
   "cell_type": "code",
   "execution_count": 9,
   "id": "9aa894f6",
   "metadata": {},
   "outputs": [],
   "source": [
    "# 모델 객체 선언\n",
    "model = Net().to(device)"
   ]
  },
  {
   "cell_type": "code",
   "execution_count": 10,
   "id": "7a0f1c67",
   "metadata": {},
   "outputs": [],
   "source": [
    "# 옵티마이저 설정\n",
    "optimizer = optim.SGD(model.parameters(), lr = 0.01)"
   ]
  },
  {
   "cell_type": "code",
   "execution_count": 11,
   "id": "27822c97",
   "metadata": {},
   "outputs": [],
   "source": [
    "# 학습 함수 정의\n",
    "def train(model, train_loader, optimizer):\n",
    "    # 모델을 학습 모드로 전환\n",
    "    model.train()\n",
    "    \n",
    "    for batch_idx, (data, target) in enumerate(train_loader):\n",
    "        # 학습 데이터를 device 로 보냄\n",
    "        data, target = data.to(device), target.to(device)\n",
    "        \n",
    "        # 매 이터레이션 마다 기울기를 계산하기 위해 zero_grad() 호출\n",
    "        optimizer.zero_grad()\n",
    "        \n",
    "        # 실제 모델의 예측값 받아오기\n",
    "        output = model(data)\n",
    "        \n",
    "        # 정답 데이터와의 cross entropy Loss 계산\n",
    "        # Loss는 mini batch의 클래스의 오차 평균값\n",
    "        loss = F.cross_entropy(output, target)\n",
    "        \n",
    "        # 기울기 계산\n",
    "        loss.backward()\n",
    "        \n",
    "        # 가중치 수정\n",
    "        optimizer.step()"
   ]
  },
  {
   "cell_type": "code",
   "execution_count": 12,
   "id": "c30072f8",
   "metadata": {},
   "outputs": [],
   "source": [
    "def evaluate(model, test_loader):\n",
    "    # 모델을 평가모드로 전환\n",
    "    model.eval()\n",
    "    \n",
    "    # 필요한 변수 초기화\n",
    "    # test 과정에서의 Loss\n",
    "    # 실제 모델의 예측이 정답과 맞은 횟수(correct)\n",
    "    test_loss = 0\n",
    "    correct = 0\n",
    "    \n",
    "    with torch.no_grad(): # 평가 시에는 기울기를 계산하지 않으므로, no_grad를 명시\n",
    "        for data, target in test_loader:\n",
    "            data, target = data.to(device), target.to(device)\n",
    "            output = model(data)\n",
    "            \n",
    "            # 모든 오차 계산하기\n",
    "            test_loss += F.cross_entropy(output, target, reduction = \"sum\").item()\n",
    "            \n",
    "            # 가장 큰 값을 가진 클래스가 모델의 예측\n",
    "            # 예측과 정답을 비교하여 일치하면 correct에 1 더하기\n",
    "            pred = output.max(1, keepdim = True)[1]\n",
    "            \n",
    "            # eq() : 값이 일치하면 1, 아니면 0\n",
    "            correct += pred.eq(target.view_as(pred)).sum().item()\n",
    "            \n",
    "    test_loss /= len(test_loader.dataset)\n",
    "    \n",
    "    # 정확도 계산\n",
    "    test_accuracy = 100 * correct / len(test_loader.dataset)\n",
    "    \n",
    "    return test_loss, test_accuracy"
   ]
  },
  {
   "cell_type": "code",
   "execution_count": 13,
   "id": "f5a6d379",
   "metadata": {},
   "outputs": [
    {
     "name": "stdout",
     "output_type": "stream",
     "text": [
      "[1] Test Loss : 0.4094, Accuracy : 89.04%\n",
      "[2] Test Loss : 0.3283, Accuracy : 90.72%\n",
      "[3] Test Loss : 0.2953, Accuracy : 91.66%\n",
      "[4] Test Loss : 0.2724, Accuracy : 92.27%\n",
      "[5] Test Loss : 0.2537, Accuracy : 92.80%\n"
     ]
    }
   ],
   "source": [
    "for epoch in range(1, 6):\n",
    "    train(model, train_loader, optimizer)\n",
    "    test_loss, test_accuracy = evaluate(model, test_loader)\n",
    "    \n",
    "    print(f\"[{epoch}] Test Loss : {test_loss:.4f}, Accuracy : {test_accuracy:.2f}%\")"
   ]
  },
  {
   "cell_type": "code",
   "execution_count": null,
   "id": "7c68c868",
   "metadata": {},
   "outputs": [],
   "source": []
  }
 ],
 "metadata": {
  "kernelspec": {
   "display_name": "Python 3 (ipykernel)",
   "language": "python",
   "name": "python3"
  },
  "language_info": {
   "codemirror_mode": {
    "name": "ipython",
    "version": 3
   },
   "file_extension": ".py",
   "mimetype": "text/x-python",
   "name": "python",
   "nbconvert_exporter": "python",
   "pygments_lexer": "ipython3",
   "version": "3.11.5"
  }
 },
 "nbformat": 4,
 "nbformat_minor": 5
}
