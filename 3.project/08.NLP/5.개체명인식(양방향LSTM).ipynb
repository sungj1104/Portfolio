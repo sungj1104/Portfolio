{
 "cells": [
  {
   "cell_type": "markdown",
   "id": "365d6236",
   "metadata": {},
   "source": [
    "# 양방향 LSTM\n",
    "\n",
    "- RNN이나 LSTM은 시퀀스 또는 시계열 데이터 처리에 특화되어 은닉층에서 과거의 정보를 기억할 수 있음\n",
    "- 그러나 순환 구조의 특성상 데이터가 입력 순으로 처리되기 때문에 이전 시점의 정보만 활용할 수 밖에 없다는 단점이 존재\n",
    "    - 문장이 길어질수록 성능이 저하\n",
    "    - 예) ios 앱 (개발)은 맥북이 필요합니다\n",
    "    - 위의 경우 ios와 앱 이라는 단어만으로는 개발이라는 단어를 유추하기 힘듦\n",
    "        - 문장의 앞부분보다 뒷부분에 중요한 정보가 있음\n",
    "        \n",
    "- 양방향 LSTM(Bidirectional LSTM)\n",
    "    - 기존 LSTM 계층에 역방향으로 처리하는 LSTM 계층을 추가해 양방향에서 문장의 패턴을 분석할 수 있도록 구성\n",
    "    - 입력 문장을 양방향에서 처리하기 때문에 시퀀스 길이가 길어져도 정보 손실 없이 처리가 가능\n",
    "    \n",
    "<img src = \"./image/Bidirectional_LSTM.jpg\">"
   ]
  },
  {
   "cell_type": "markdown",
   "id": "bcab5eb9",
   "metadata": {},
   "source": [
    "# 개체명 인식(Named Entity Recognition)\n",
    "\n",
    "- 각 개체의 유형을 인식\n",
    "- 문장 내에 포함된 어떤 단어가 인물, 장소, 날짜 등을 의미하는 단어인지 인식하는 것\n",
    "- 개체명 인식은 챗봇에서 문장을 정확하게 해석하기 위해 반드시 처리해야 하는 전처리 과정임\n",
    "    - 예) 날짜와 지역에 대해 개체 인식을 할 수 있는 모델이 있다고 가정할 경우\n",
    "    - 입력 문장 : 내일 부산 날씨 알려줘\n",
    "    - 문장 의도 : 날씨 요청\n",
    "    - 개체명 인식 결과 : 내일 - 날짜, 부산 - 지역,\n",
    "    \n",
    "- 단순한 질문 형태라면 개체명 사전을 구축해 해당 단어들과 매핑되는 개체명을 찾을 수도 있음\n",
    "    - 문장 구조가 복잡하거나 문맥에 따라 단어의 의미가 바뀐다면 딥러닝 모델을 활용해야 함\n",
    "    \n",
    "- 개체명 사전 구축 방식은 신조어나 사전에 포함되지 않은 단어는 처리 불가능하며 사람이 직접 사전 데이터를 관리해야 하기 때문에 관리비용이 많이 필요함"
   ]
  },
  {
   "cell_type": "markdown",
   "id": "3002a618",
   "metadata": {},
   "source": [
    "## BIO 표기법\n",
    "\n",
    "- Beginning, Inside, Outside 의 약자\n",
    "- 각 토큰마다 태그를 붙이기 위해 사용\n",
    "- Beginning : 개체명이 시작되는 단어에 \"B-개체명\" 으로 태그\n",
    "- Inside : \"B-개체명\"과 연결되는 단어일 때 \"I-개체명\"으로 태그\n",
    "- Outside : 개체명 이외의 모든 토큰에 태그\n",
    "    - 예) 오늘부터 길동 포터는 삼성전자에 근무합니다\n",
    "    - 오늘 -> B-date\n",
    "    - 부터 -> O\n",
    "    - 길동 -> B-Person\n",
    "    - 포터 -> I-Person\n",
    "    - 는 -> O\n",
    "    - 삼성 -> B-Company\n",
    "    - 전자 -> I-Company\n",
    "    - 에 -> O\n",
    "    - 근무 -> O\n",
    "    - 합니다 -> O\n",
    "    \n",
    "- 두 개 이상의 토큰이 하나의 개체를 구성하는 경우가 많기 때문에 BIO 표기법을 사용"
   ]
  },
  {
   "cell_type": "markdown",
   "id": "0e21d86d",
   "metadata": {},
   "source": [
    "## 국립국어원 언어정보나눔터 개체명 인식 모델을 위한 말뭉치\n",
    "\n",
    "- ; 으로 시작하는 문장 : 원본 문장\n",
    "- $ 로 시작하는 문장 : 해당 문장에서 NER 처리된 결과\n",
    "- 개체명 인식 모델은 단어 토큰을 입력했을 때 출력되는 NER 태그값을 예측\n",
    "    - 예) \"삼성전자\"를 입력한다면 B_OG(단체) 태그가 출력되도록 학습"
   ]
  },
  {
   "cell_type": "code",
   "execution_count": 1,
   "id": "d4a95528",
   "metadata": {},
   "outputs": [],
   "source": [
    "import matplotlib.pyplot as plt\n",
    "import tensorflow as tf\n",
    "from tensorflow.keras import preprocessing\n",
    "from sklearn.model_selection import train_test_split\n",
    "import numpy as np\n",
    "from tensorflow.keras.models import Sequential\n",
    "from tensorflow.keras.layers import LSTM, Embedding, Dense, TimeDistributed, Dropout, Bidirectional\n",
    "from tensorflow.keras.optimizers import Adam\n",
    "from seqeval.metrics import f1_score, classification_report"
   ]
  },
  {
   "cell_type": "code",
   "execution_count": 2,
   "id": "49fdfe73",
   "metadata": {},
   "outputs": [],
   "source": [
    "# 학습 파일 불러오기\n",
    "def read_file(file_name):\n",
    "    sents = []\n",
    "    with open(file_name, \"r\", encoding = \"utf-8\") as f:\n",
    "        lines = f.readlines()\n",
    "        for idx, l in enumerate(lines):\n",
    "            if l[0] == \";\" and lines[idx + 1][0] == \"$\":\n",
    "                this_sent = []\n",
    "            elif l[0] == \"$\" and lines[idx - 1][0] == \";\":\n",
    "                continue\n",
    "            elif l[0] == \"\\n\":\n",
    "                sents.append(this_sent)\n",
    "            else:\n",
    "                this_sent.append(tuple(l.split()))\n",
    "        \n",
    "    return sents"
   ]
  },
  {
   "cell_type": "code",
   "execution_count": 3,
   "id": "d5fab729",
   "metadata": {},
   "outputs": [],
   "source": [
    "# 학습용 말뭉치 데이터를 불러옴\n",
    "corpus = read_file(\"./data/ner/train.txt\")"
   ]
  },
  {
   "cell_type": "code",
   "execution_count": 4,
   "id": "63470b81",
   "metadata": {},
   "outputs": [
    {
     "data": {
      "text/plain": [
       "[('1', '한편', 'NNG', 'O'),\n",
       " ('1', ',', 'SP', 'O'),\n",
       " ('2', 'AFC', 'SL', 'O'),\n",
       " ('2', '챔피언스', 'NNG', 'O'),\n",
       " ('2', '리그', 'NNG', 'O'),\n",
       " ('3', 'E', 'SL', 'B_OG'),\n",
       " ('3', '조', 'NNG', 'I'),\n",
       " ('3', '에', 'JKB', 'O'),\n",
       " ('4', '속하', 'VV', 'O'),\n",
       " ('4', 'ㄴ', 'ETM', 'O'),\n",
       " ('5', '포항', 'NNP', 'O'),\n",
       " ('6', '역시', 'MAJ', 'O'),\n",
       " ('7', '대회', 'NNG', 'O'),\n",
       " ('8', '8강', 'NNG', 'O'),\n",
       " ('9', '진출', 'NNG', 'O'),\n",
       " ('9', '이', 'JKS', 'O'),\n",
       " ('10', '불투명', 'NNG', 'O'),\n",
       " ('10', '하', 'VV', 'O'),\n",
       " ('10', '다', 'EC', 'O'),\n",
       " ('11', '.', 'SF', 'O')]"
      ]
     },
     "execution_count": 4,
     "metadata": {},
     "output_type": "execute_result"
    }
   ],
   "source": [
    "corpus[0]"
   ]
  },
  {
   "cell_type": "code",
   "execution_count": 5,
   "id": "2b711e58",
   "metadata": {},
   "outputs": [
    {
     "data": {
      "text/plain": [
       "[('1', '2003', 'SN', 'B_DT'),\n",
       " ('1', '년', 'NNB', 'I'),\n",
       " ('2', '6', 'SN', 'I'),\n",
       " ('2', '월', 'NNB', 'I'),\n",
       " ('3', '14', 'SN', 'I'),\n",
       " ('3', '일', 'NNB', 'I'),\n",
       " ('4', '사직', 'NNG', 'O'),\n",
       " ('5', '두산', 'NNP', 'O'),\n",
       " ('5', '전', 'NNG', 'O'),\n",
       " ('6', '이후', 'NNG', 'O'),\n",
       " ('7', '박명환', 'NNP', 'B_PS'),\n",
       " ('7', '에게', 'JKB', 'O'),\n",
       " ('8', '당하', 'VV', 'O'),\n",
       " ('8', '았', 'EP', 'O'),\n",
       " ('8', '던', 'ETM', 'O'),\n",
       " ('9', '10', 'SN', 'O'),\n",
       " ('9', '연패', 'NNG', 'O'),\n",
       " ('10', '사슬', 'NNG', 'O'),\n",
       " ('10', '을', 'JKO', 'O'),\n",
       " ('11', '거의', 'MAG', 'O'),\n",
       " ('12', '5', 'SN', 'B_DT'),\n",
       " ('12', '년', 'NNB', 'I'),\n",
       " ('13', '만', 'NNB', 'O'),\n",
       " ('13', '에', 'JKB', 'O'),\n",
       " ('14', '끊', 'VV', 'O'),\n",
       " ('14', '는', 'ETM', 'O'),\n",
       " ('15', '의미', 'NNG', 'O'),\n",
       " ('15', '있', 'VV', 'O'),\n",
       " ('15', '는', 'ETM', 'O'),\n",
       " ('16', '승리', 'NNG', 'O'),\n",
       " ('16', '이', 'VCP', 'O'),\n",
       " ('16', '었', 'EP', 'O'),\n",
       " ('16', '다', 'EC', 'O'),\n",
       " ('17', '.', 'SF', 'O')]"
      ]
     },
     "execution_count": 5,
     "metadata": {},
     "output_type": "execute_result"
    }
   ],
   "source": [
    "corpus[1]"
   ]
  },
  {
   "cell_type": "code",
   "execution_count": 6,
   "id": "cb3e907e",
   "metadata": {},
   "outputs": [
    {
     "data": {
      "text/plain": [
       "3555"
      ]
     },
     "execution_count": 6,
     "metadata": {},
     "output_type": "execute_result"
    }
   ],
   "source": [
    "len(corpus)"
   ]
  },
  {
   "cell_type": "code",
   "execution_count": 8,
   "id": "3ff99d1a",
   "metadata": {},
   "outputs": [],
   "source": [
    "# 말뭉치 데이터에서 단어와 BIO 태그만 불러와 학습용 데이터셋 생성\n",
    "sentences, tags = [], []\n",
    "for t in corpus:\n",
    "    tagged_sentence = []\n",
    "    sentence, bio_tag = [], []\n",
    "    for w in t:\n",
    "        tagged_sentence.append((w[1], w[3]))\n",
    "        sentence.append(w[1])\n",
    "        bio_tag.append(w[3])\n",
    "    \n",
    "    sentences.append(sentence)\n",
    "    tags.append(bio_tag)"
   ]
  },
  {
   "cell_type": "markdown",
   "id": "8dbf8df5",
   "metadata": {},
   "source": [
    "- 단어와 BIO 태그만 이용해 학습용 데이터셋을 생성"
   ]
  },
  {
   "cell_type": "code",
   "execution_count": 9,
   "id": "27a30492",
   "metadata": {},
   "outputs": [
    {
     "name": "stdout",
     "output_type": "stream",
     "text": [
      "샘플 크기 :  3555\n",
      "0번째 샘플 문장 시퀀스 : \n",
      " ['한편', ',', 'AFC', '챔피언스', '리그', 'E', '조', '에', '속하', 'ㄴ', '포항', '역시', '대회', '8강', '진출', '이', '불투명', '하', '다', '.']\n",
      "0번째 샘플 bio xorm : \n",
      " ['O', 'O', 'O', 'O', 'O', 'B_OG', 'I', 'O', 'O', 'O', 'O', 'O', 'O', 'O', 'O', 'O', 'O', 'O', 'O', 'O']\n",
      "샘플 문장 시퀀스 최대 길이 : 168\n",
      "샘플 문장 시퀀스 평균 길이 : 34.03909985935302\n"
     ]
    }
   ],
   "source": [
    "print(\"샘플 크기 : \", len(sentences))\n",
    "print(\"0번째 샘플 문장 시퀀스 : \\n\", sentences[0])\n",
    "print(\"0번째 샘플 bio xorm : \\n\", tags[0])\n",
    "print(\"샘플 문장 시퀀스 최대 길이 :\", max(len(l) for l in sentences))\n",
    "print(\"샘플 문장 시퀀스 평균 길이 :\", (sum(map(len, sentences)) / len(sentences)))"
   ]
  },
  {
   "cell_type": "code",
   "execution_count": 10,
   "id": "6bf74972",
   "metadata": {},
   "outputs": [],
   "source": [
    "# 토크나이저 정의\n",
    "sent_tokenizer = preprocessing.text.Tokenizer(oov_token = \"OOV\") # 단어 사전\n",
    "sent_tokenizer.fit_on_texts(sentences)\n",
    "\n",
    "tag_tokenizer = preprocessing.text.Tokenizer(lower = False) # 태그 정보는 소문자로 변환하지 않음\n",
    "tag_tokenizer.fit_on_texts(tags)"
   ]
  },
  {
   "cell_type": "code",
   "execution_count": 11,
   "id": "3a1e95d8",
   "metadata": {},
   "outputs": [
    {
     "name": "stdout",
     "output_type": "stream",
     "text": [
      "BIO 태그 사전 크기 : 8\n",
      "단어 사전 크기 : 13834\n"
     ]
    }
   ],
   "source": [
    "# 단어 사전 및 태그 사전 크기\n",
    "vocab_size = len(sent_tokenizer.word_index) + 1\n",
    "tag_size = len(tag_tokenizer.word_index) + 1\n",
    "print(\"BIO 태그 사전 크기 :\", tag_size)\n",
    "print(\"단어 사전 크기 :\", vocab_size)"
   ]
  },
  {
   "cell_type": "code",
   "execution_count": 12,
   "id": "e1442d98",
   "metadata": {},
   "outputs": [
    {
     "data": {
      "text/plain": [
       "{'O': 1, 'I': 2, 'B_OG': 3, 'B_PS': 4, 'B_DT': 5, 'B_LC': 6, 'B_TI': 7}"
      ]
     },
     "execution_count": 12,
     "metadata": {},
     "output_type": "execute_result"
    }
   ],
   "source": [
    "tag_tokenizer.word_index"
   ]
  },
  {
   "cell_type": "code",
   "execution_count": 13,
   "id": "4a1aad99",
   "metadata": {},
   "outputs": [],
   "source": [
    "# 학습용 단어 시퀀스 생성\n",
    "x_train = sent_tokenizer.texts_to_sequences(sentences)\n",
    "y_train = tag_tokenizer.texts_to_sequences(tags)"
   ]
  },
  {
   "cell_type": "code",
   "execution_count": 14,
   "id": "4a9163bb",
   "metadata": {},
   "outputs": [
    {
     "name": "stdout",
     "output_type": "stream",
     "text": [
      "[183, 11, 4276, 884, 162, 931, 402, 10, 2608, 7, 1516, 608, 145, 1361, 414, 4, 6347, 2, 8, 3]\n",
      "[1, 1, 1, 1, 1, 3, 2, 1, 1, 1, 1, 1, 1, 1, 1, 1, 1, 1, 1, 1]\n"
     ]
    }
   ],
   "source": [
    "print(x_train[0])\n",
    "print(y_train[0])"
   ]
  },
  {
   "cell_type": "code",
   "execution_count": 15,
   "id": "db51d0c9",
   "metadata": {},
   "outputs": [],
   "source": [
    "# index to word / index to NER 정의\n",
    "index_to_word = sent_tokenizer.index_word # 시퀀스 인덱스를 단어로 변환하기 위해 사용\n",
    "index_to_ner = tag_tokenizer.index_word # 시퀀스 인덱스를 NER로 변환하기 위해 사용\n",
    "index_to_ner[0] = \"PAD\""
   ]
  },
  {
   "cell_type": "code",
   "execution_count": 16,
   "id": "426740e7",
   "metadata": {},
   "outputs": [
    {
     "data": {
      "text/plain": [
       "{1: 'O',\n",
       " 2: 'I',\n",
       " 3: 'B_OG',\n",
       " 4: 'B_PS',\n",
       " 5: 'B_DT',\n",
       " 6: 'B_LC',\n",
       " 7: 'B_TI',\n",
       " 0: 'PAD'}"
      ]
     },
     "execution_count": 16,
     "metadata": {},
     "output_type": "execute_result"
    }
   ],
   "source": [
    "index_to_ner"
   ]
  },
  {
   "cell_type": "code",
   "execution_count": 17,
   "id": "141c9ee3",
   "metadata": {},
   "outputs": [],
   "source": [
    "# 시퀀스 패딩 처리\n",
    "max_len = 40\n",
    "x_train = preprocessing.sequence.pad_sequences(x_train, padding = \"post\", maxlen = max_len)\n",
    "y_train = preprocessing.sequence.pad_sequences(y_train, padding = \"post\", maxlen = max_len)"
   ]
  },
  {
   "cell_type": "code",
   "execution_count": 18,
   "id": "6fee32fb",
   "metadata": {},
   "outputs": [],
   "source": [
    "# 학습데이터와 테스트데이터를 8:2 비율로 분리\n",
    "x_train, x_test, y_train, y_test = train_test_split(x_train, y_train, test_size = 0.2, random_state = 12)"
   ]
  },
  {
   "cell_type": "code",
   "execution_count": 19,
   "id": "0cc16745",
   "metadata": {},
   "outputs": [],
   "source": [
    "# 출력 데이터를 원-핫 인코딩\n",
    "y_train = tf.keras.utils.to_categorical(y_train, num_classes = tag_size)\n",
    "y_test = tf.keras.utils.to_categorical(y_test, num_classes = tag_size)"
   ]
  },
  {
   "cell_type": "code",
   "execution_count": 20,
   "id": "9a94e608",
   "metadata": {},
   "outputs": [
    {
     "name": "stdout",
     "output_type": "stream",
     "text": [
      "학습 샘플 시퀀스 형상 :  (2844, 40)\n",
      "학습 샘플 레이블 형상 :  (2844, 40, 8)\n",
      "테스트 샘플 시퀀스 형상 :  (711, 40)\n",
      "테스트 샘플 레이블 형상 :  (711, 40, 8)\n"
     ]
    }
   ],
   "source": [
    "print(\"학습 샘플 시퀀스 형상 : \", x_train.shape)\n",
    "print(\"학습 샘플 레이블 형상 : \", y_train.shape)\n",
    "print(\"테스트 샘플 시퀀스 형상 : \", x_test.shape)\n",
    "print(\"테스트 샘플 레이블 형상 : \", y_test.shape)"
   ]
  },
  {
   "cell_type": "code",
   "execution_count": 21,
   "id": "925c7ed8",
   "metadata": {},
   "outputs": [
    {
     "data": {
      "text/plain": [
       "array([ 479,    6,   33,  327, 2615,    9, 2207,    4,   18,   62, 6379,\n",
       "          5, 6380,    2,    6,  183, 4295,   10,   57,    7, 6381,  186,\n",
       "        611,   10,   34, 1368,  500,   29,   38,    4,    8,    3,    0,\n",
       "          0,    0,    0,    0,    0,    0,    0])"
      ]
     },
     "execution_count": 21,
     "metadata": {},
     "output_type": "execute_result"
    }
   ],
   "source": [
    "x_train[0]"
   ]
  },
  {
   "cell_type": "code",
   "execution_count": 22,
   "id": "990e81a7",
   "metadata": {},
   "outputs": [
    {
     "data": {
      "text/plain": [
       "array([[0., 0., 0., 1., 0., 0., 0., 0.],\n",
       "       [0., 1., 0., 0., 0., 0., 0., 0.],\n",
       "       [0., 1., 0., 0., 0., 0., 0., 0.],\n",
       "       [0., 1., 0., 0., 0., 0., 0., 0.],\n",
       "       [0., 1., 0., 0., 0., 0., 0., 0.],\n",
       "       [0., 1., 0., 0., 0., 0., 0., 0.],\n",
       "       [0., 1., 0., 0., 0., 0., 0., 0.],\n",
       "       [0., 1., 0., 0., 0., 0., 0., 0.],\n",
       "       [0., 1., 0., 0., 0., 0., 0., 0.],\n",
       "       [0., 1., 0., 0., 0., 0., 0., 0.],\n",
       "       [0., 0., 0., 0., 1., 0., 0., 0.],\n",
       "       [0., 1., 0., 0., 0., 0., 0., 0.],\n",
       "       [0., 1., 0., 0., 0., 0., 0., 0.],\n",
       "       [0., 1., 0., 0., 0., 0., 0., 0.],\n",
       "       [0., 1., 0., 0., 0., 0., 0., 0.],\n",
       "       [0., 1., 0., 0., 0., 0., 0., 0.],\n",
       "       [0., 0., 0., 0., 1., 0., 0., 0.],\n",
       "       [0., 1., 0., 0., 0., 0., 0., 0.],\n",
       "       [0., 1., 0., 0., 0., 0., 0., 0.],\n",
       "       [0., 1., 0., 0., 0., 0., 0., 0.],\n",
       "       [0., 1., 0., 0., 0., 0., 0., 0.],\n",
       "       [0., 1., 0., 0., 0., 0., 0., 0.],\n",
       "       [0., 1., 0., 0., 0., 0., 0., 0.],\n",
       "       [0., 1., 0., 0., 0., 0., 0., 0.],\n",
       "       [0., 1., 0., 0., 0., 0., 0., 0.],\n",
       "       [0., 1., 0., 0., 0., 0., 0., 0.],\n",
       "       [0., 1., 0., 0., 0., 0., 0., 0.],\n",
       "       [0., 1., 0., 0., 0., 0., 0., 0.],\n",
       "       [0., 1., 0., 0., 0., 0., 0., 0.],\n",
       "       [0., 1., 0., 0., 0., 0., 0., 0.],\n",
       "       [0., 1., 0., 0., 0., 0., 0., 0.],\n",
       "       [0., 1., 0., 0., 0., 0., 0., 0.],\n",
       "       [1., 0., 0., 0., 0., 0., 0., 0.],\n",
       "       [1., 0., 0., 0., 0., 0., 0., 0.],\n",
       "       [1., 0., 0., 0., 0., 0., 0., 0.],\n",
       "       [1., 0., 0., 0., 0., 0., 0., 0.],\n",
       "       [1., 0., 0., 0., 0., 0., 0., 0.],\n",
       "       [1., 0., 0., 0., 0., 0., 0., 0.],\n",
       "       [1., 0., 0., 0., 0., 0., 0., 0.],\n",
       "       [1., 0., 0., 0., 0., 0., 0., 0.]])"
      ]
     },
     "execution_count": 22,
     "metadata": {},
     "output_type": "execute_result"
    }
   ],
   "source": [
    "y_train[0]"
   ]
  },
  {
   "cell_type": "code",
   "execution_count": 23,
   "id": "ba2124d0",
   "metadata": {},
   "outputs": [
    {
     "name": "stderr",
     "output_type": "stream",
     "text": [
      "C:\\Users\\sungj\\AppData\\Roaming\\Python\\Python311\\site-packages\\keras\\src\\layers\\core\\embedding.py:81: UserWarning: Do not pass an `input_shape`/`input_dim` argument to a layer. When using Sequential models, prefer using an `Input(shape)` object as the first layer in the model instead.\n",
      "  super().__init__(**kwargs)\n"
     ]
    }
   ],
   "source": [
    "# 모델 정의(Bi-LSTM)\n",
    "model = Sequential()\n",
    "\n",
    "model.add(Embedding(input_dim = vocab_size, output_dim = 30, input_shape = (max_len,), mask_zero = True))\n",
    "\n",
    "model.add(Bidirectional(LSTM(200, return_sequences = True, dropout = 0.5, recurrent_dropout = 0.25)))\n",
    "\n",
    "model.add(TimeDistributed(Dense(tag_size, activation = \"softmax\")))"
   ]
  },
  {
   "cell_type": "markdown",
   "id": "2ebd6882",
   "metadata": {},
   "source": [
    "- mask_zero = True : 0으로 패딩된 값을 마스킹하여 네트워크의 뒤로 전달되지 않게 만듦\n",
    "- TimeDistributed : many-to-many 로 동작. 각 타임스텝마다 출력이 있어야 함\n",
    "\n",
    "<img src = \"./image/time_distributed.jpg\">"
   ]
  },
  {
   "cell_type": "code",
   "execution_count": 24,
   "id": "8ad6ce63",
   "metadata": {},
   "outputs": [
    {
     "data": {
      "text/html": [
       "<pre style=\"white-space:pre;overflow-x:auto;line-height:normal;font-family:Menlo,'DejaVu Sans Mono',consolas,'Courier New',monospace\"><span style=\"font-weight: bold\">Model: \"sequential\"</span>\n",
       "</pre>\n"
      ],
      "text/plain": [
       "\u001b[1mModel: \"sequential\"\u001b[0m\n"
      ]
     },
     "metadata": {},
     "output_type": "display_data"
    },
    {
     "data": {
      "text/html": [
       "<pre style=\"white-space:pre;overflow-x:auto;line-height:normal;font-family:Menlo,'DejaVu Sans Mono',consolas,'Courier New',monospace\">┏━━━━━━━━━━━━━━━━━━━━━━━━━━━━━━━━━━━━━━┳━━━━━━━━━━━━━━━━━━━━━━━━━━━━━┳━━━━━━━━━━━━━━━━━┓\n",
       "┃<span style=\"font-weight: bold\"> Layer (type)                         </span>┃<span style=\"font-weight: bold\"> Output Shape                </span>┃<span style=\"font-weight: bold\">         Param # </span>┃\n",
       "┡━━━━━━━━━━━━━━━━━━━━━━━━━━━━━━━━━━━━━━╇━━━━━━━━━━━━━━━━━━━━━━━━━━━━━╇━━━━━━━━━━━━━━━━━┩\n",
       "│ embedding (<span style=\"color: #0087ff; text-decoration-color: #0087ff\">Embedding</span>)                │ (<span style=\"color: #00d7ff; text-decoration-color: #00d7ff\">None</span>, <span style=\"color: #00af00; text-decoration-color: #00af00\">40</span>, <span style=\"color: #00af00; text-decoration-color: #00af00\">30</span>)              │         <span style=\"color: #00af00; text-decoration-color: #00af00\">415,020</span> │\n",
       "├──────────────────────────────────────┼─────────────────────────────┼─────────────────┤\n",
       "│ bidirectional (<span style=\"color: #0087ff; text-decoration-color: #0087ff\">Bidirectional</span>)        │ (<span style=\"color: #00d7ff; text-decoration-color: #00d7ff\">None</span>, <span style=\"color: #00af00; text-decoration-color: #00af00\">40</span>, <span style=\"color: #00af00; text-decoration-color: #00af00\">400</span>)             │         <span style=\"color: #00af00; text-decoration-color: #00af00\">369,600</span> │\n",
       "├──────────────────────────────────────┼─────────────────────────────┼─────────────────┤\n",
       "│ time_distributed (<span style=\"color: #0087ff; text-decoration-color: #0087ff\">TimeDistributed</span>)   │ (<span style=\"color: #00d7ff; text-decoration-color: #00d7ff\">None</span>, <span style=\"color: #00af00; text-decoration-color: #00af00\">40</span>, <span style=\"color: #00af00; text-decoration-color: #00af00\">8</span>)               │           <span style=\"color: #00af00; text-decoration-color: #00af00\">3,208</span> │\n",
       "└──────────────────────────────────────┴─────────────────────────────┴─────────────────┘\n",
       "</pre>\n"
      ],
      "text/plain": [
       "┏━━━━━━━━━━━━━━━━━━━━━━━━━━━━━━━━━━━━━━┳━━━━━━━━━━━━━━━━━━━━━━━━━━━━━┳━━━━━━━━━━━━━━━━━┓\n",
       "┃\u001b[1m \u001b[0m\u001b[1mLayer (type)                        \u001b[0m\u001b[1m \u001b[0m┃\u001b[1m \u001b[0m\u001b[1mOutput Shape               \u001b[0m\u001b[1m \u001b[0m┃\u001b[1m \u001b[0m\u001b[1m        Param #\u001b[0m\u001b[1m \u001b[0m┃\n",
       "┡━━━━━━━━━━━━━━━━━━━━━━━━━━━━━━━━━━━━━━╇━━━━━━━━━━━━━━━━━━━━━━━━━━━━━╇━━━━━━━━━━━━━━━━━┩\n",
       "│ embedding (\u001b[38;5;33mEmbedding\u001b[0m)                │ (\u001b[38;5;45mNone\u001b[0m, \u001b[38;5;34m40\u001b[0m, \u001b[38;5;34m30\u001b[0m)              │         \u001b[38;5;34m415,020\u001b[0m │\n",
       "├──────────────────────────────────────┼─────────────────────────────┼─────────────────┤\n",
       "│ bidirectional (\u001b[38;5;33mBidirectional\u001b[0m)        │ (\u001b[38;5;45mNone\u001b[0m, \u001b[38;5;34m40\u001b[0m, \u001b[38;5;34m400\u001b[0m)             │         \u001b[38;5;34m369,600\u001b[0m │\n",
       "├──────────────────────────────────────┼─────────────────────────────┼─────────────────┤\n",
       "│ time_distributed (\u001b[38;5;33mTimeDistributed\u001b[0m)   │ (\u001b[38;5;45mNone\u001b[0m, \u001b[38;5;34m40\u001b[0m, \u001b[38;5;34m8\u001b[0m)               │           \u001b[38;5;34m3,208\u001b[0m │\n",
       "└──────────────────────────────────────┴─────────────────────────────┴─────────────────┘\n"
      ]
     },
     "metadata": {},
     "output_type": "display_data"
    },
    {
     "data": {
      "text/html": [
       "<pre style=\"white-space:pre;overflow-x:auto;line-height:normal;font-family:Menlo,'DejaVu Sans Mono',consolas,'Courier New',monospace\"><span style=\"font-weight: bold\"> Total params: </span><span style=\"color: #00af00; text-decoration-color: #00af00\">787,828</span> (3.01 MB)\n",
       "</pre>\n"
      ],
      "text/plain": [
       "\u001b[1m Total params: \u001b[0m\u001b[38;5;34m787,828\u001b[0m (3.01 MB)\n"
      ]
     },
     "metadata": {},
     "output_type": "display_data"
    },
    {
     "data": {
      "text/html": [
       "<pre style=\"white-space:pre;overflow-x:auto;line-height:normal;font-family:Menlo,'DejaVu Sans Mono',consolas,'Courier New',monospace\"><span style=\"font-weight: bold\"> Trainable params: </span><span style=\"color: #00af00; text-decoration-color: #00af00\">787,828</span> (3.01 MB)\n",
       "</pre>\n"
      ],
      "text/plain": [
       "\u001b[1m Trainable params: \u001b[0m\u001b[38;5;34m787,828\u001b[0m (3.01 MB)\n"
      ]
     },
     "metadata": {},
     "output_type": "display_data"
    },
    {
     "data": {
      "text/html": [
       "<pre style=\"white-space:pre;overflow-x:auto;line-height:normal;font-family:Menlo,'DejaVu Sans Mono',consolas,'Courier New',monospace\"><span style=\"font-weight: bold\"> Non-trainable params: </span><span style=\"color: #00af00; text-decoration-color: #00af00\">0</span> (0.00 B)\n",
       "</pre>\n"
      ],
      "text/plain": [
       "\u001b[1m Non-trainable params: \u001b[0m\u001b[38;5;34m0\u001b[0m (0.00 B)\n"
      ]
     },
     "metadata": {},
     "output_type": "display_data"
    }
   ],
   "source": [
    "model.summary()"
   ]
  },
  {
   "cell_type": "code",
   "execution_count": 25,
   "id": "36ea28a1",
   "metadata": {},
   "outputs": [],
   "source": [
    "model.compile(loss = \"categorical_crossentropy\", optimizer = Adam(0.01), metrics = [\"accuracy\"])"
   ]
  },
  {
   "cell_type": "code",
   "execution_count": 26,
   "id": "2270c88c",
   "metadata": {},
   "outputs": [
    {
     "name": "stdout",
     "output_type": "stream",
     "text": [
      "Epoch 1/10\n",
      "\u001b[1m23/23\u001b[0m \u001b[32m━━━━━━━━━━━━━━━━━━━━\u001b[0m\u001b[37m\u001b[0m \u001b[1m25s\u001b[0m 524ms/step - accuracy: 0.5800 - loss: 0.9687\n",
      "Epoch 2/10\n",
      "\u001b[1m23/23\u001b[0m \u001b[32m━━━━━━━━━━━━━━━━━━━━\u001b[0m\u001b[37m\u001b[0m \u001b[1m11s\u001b[0m 451ms/step - accuracy: 0.6354 - loss: 0.3463\n",
      "Epoch 3/10\n",
      "\u001b[1m23/23\u001b[0m \u001b[32m━━━━━━━━━━━━━━━━━━━━\u001b[0m\u001b[37m\u001b[0m \u001b[1m11s\u001b[0m 486ms/step - accuracy: 0.6579 - loss: 0.2301\n",
      "Epoch 4/10\n",
      "\u001b[1m23/23\u001b[0m \u001b[32m━━━━━━━━━━━━━━━━━━━━\u001b[0m\u001b[37m\u001b[0m \u001b[1m10s\u001b[0m 441ms/step - accuracy: 0.6685 - loss: 0.1733\n",
      "Epoch 5/10\n",
      "\u001b[1m23/23\u001b[0m \u001b[32m━━━━━━━━━━━━━━━━━━━━\u001b[0m\u001b[37m\u001b[0m \u001b[1m10s\u001b[0m 439ms/step - accuracy: 0.6789 - loss: 0.1382\n",
      "Epoch 6/10\n",
      "\u001b[1m23/23\u001b[0m \u001b[32m━━━━━━━━━━━━━━━━━━━━\u001b[0m\u001b[37m\u001b[0m \u001b[1m10s\u001b[0m 442ms/step - accuracy: 0.6923 - loss: 0.1042\n",
      "Epoch 7/10\n",
      "\u001b[1m23/23\u001b[0m \u001b[32m━━━━━━━━━━━━━━━━━━━━\u001b[0m\u001b[37m\u001b[0m \u001b[1m10s\u001b[0m 443ms/step - accuracy: 0.6922 - loss: 0.0870\n",
      "Epoch 8/10\n",
      "\u001b[1m23/23\u001b[0m \u001b[32m━━━━━━━━━━━━━━━━━━━━\u001b[0m\u001b[37m\u001b[0m \u001b[1m10s\u001b[0m 442ms/step - accuracy: 0.6927 - loss: 0.0703\n",
      "Epoch 9/10\n",
      "\u001b[1m23/23\u001b[0m \u001b[32m━━━━━━━━━━━━━━━━━━━━\u001b[0m\u001b[37m\u001b[0m \u001b[1m10s\u001b[0m 444ms/step - accuracy: 0.7025 - loss: 0.0631\n",
      "Epoch 10/10\n",
      "\u001b[1m23/23\u001b[0m \u001b[32m━━━━━━━━━━━━━━━━━━━━\u001b[0m\u001b[37m\u001b[0m \u001b[1m10s\u001b[0m 446ms/step - accuracy: 0.7114 - loss: 0.0534\n"
     ]
    },
    {
     "data": {
      "text/plain": [
       "<keras.src.callbacks.history.History at 0x2a702a55810>"
      ]
     },
     "execution_count": 26,
     "metadata": {},
     "output_type": "execute_result"
    }
   ],
   "source": [
    "model.fit(x_train, y_train, batch_size = 128, epochs = 10)"
   ]
  },
  {
   "cell_type": "code",
   "execution_count": 27,
   "id": "9cce9376",
   "metadata": {},
   "outputs": [
    {
     "name": "stdout",
     "output_type": "stream",
     "text": [
      "\u001b[1m23/23\u001b[0m \u001b[32m━━━━━━━━━━━━━━━━━━━━\u001b[0m\u001b[37m\u001b[0m \u001b[1m4s\u001b[0m 35ms/step - accuracy: 0.6756 - loss: 0.2408\n"
     ]
    },
    {
     "data": {
      "text/plain": [
       "[0.2430763691663742, 0.6662095785140991]"
      ]
     },
     "execution_count": 27,
     "metadata": {},
     "output_type": "execute_result"
    }
   ],
   "source": [
    "model.evaluate(x_test, y_test)"
   ]
  },
  {
   "cell_type": "markdown",
   "id": "27afc352",
   "metadata": {},
   "source": [
    "- BIO 태그는 실제 의미 있는 태그보다 의미 없는 O 태그가 대부분을 차지하고 있기 때문에 실제 성능과 무관하게 높은 점수가 나올 수 있음\n",
    "- 따라서 개체명 인식에서는 F1스코어가 주로 이용됨\n",
    "- F1 스코어 : 정밀도와 재현율의 조화 평균"
   ]
  },
  {
   "cell_type": "code",
   "execution_count": 29,
   "id": "dd3f618e",
   "metadata": {},
   "outputs": [],
   "source": [
    "# 시퀀스를 NER 태그로 변환\n",
    "def sequences_to_tag(sequences):\n",
    "    result = []\n",
    "    for sequence in sequences:\n",
    "        temp = []\n",
    "        for pred in sequence:\n",
    "            pred_index = np.argmax(pred)\n",
    "            temp.append(index_to_ner[pred_index].replace(\"PAD\", \"O\"))\n",
    "        result.append(temp)\n",
    "    return result"
   ]
  },
  {
   "cell_type": "code",
   "execution_count": 30,
   "id": "3daf7b13",
   "metadata": {},
   "outputs": [
    {
     "data": {
      "text/plain": [
       "(711, 40)"
      ]
     },
     "execution_count": 30,
     "metadata": {},
     "output_type": "execute_result"
    }
   ],
   "source": [
    "x_test.shape"
   ]
  },
  {
   "cell_type": "code",
   "execution_count": 31,
   "id": "6c64e949",
   "metadata": {},
   "outputs": [
    {
     "name": "stdout",
     "output_type": "stream",
     "text": [
      "\u001b[1m23/23\u001b[0m \u001b[32m━━━━━━━━━━━━━━━━━━━━\u001b[0m\u001b[37m\u001b[0m \u001b[1m2s\u001b[0m 34ms/step\n"
     ]
    }
   ],
   "source": [
    "# 테스트 데이터셋의 NER 예측\n",
    "y_predicted = model.predict(x_test) # (711, 40) -> model -> (711, 40, 8)\n",
    "pred_tags = sequences_to_tag(y_predicted) # 예측된 NER\n",
    "test_tags = sequences_to_tag(y_test) # 실제 NER"
   ]
  },
  {
   "cell_type": "code",
   "execution_count": 32,
   "id": "f7516fff",
   "metadata": {},
   "outputs": [
    {
     "data": {
      "text/plain": [
       "array([[6.42779924e-07, 9.99741495e-01, 1.55632515e-04, 2.71027739e-06,\n",
       "        9.02678803e-05, 3.14503791e-06, 5.16552018e-06, 9.64309606e-07],\n",
       "       [6.06919457e-08, 9.99755442e-01, 1.21769808e-05, 2.83898612e-06,\n",
       "        2.26531789e-04, 3.08299690e-07, 2.57354986e-06, 6.52579075e-08],\n",
       "       [1.24698971e-07, 9.99945045e-01, 1.15576131e-06, 1.64700778e-05,\n",
       "        1.63972018e-05, 1.30755529e-06, 1.88400845e-05, 7.17394585e-07],\n",
       "       [1.21325138e-06, 9.99855876e-01, 8.63729947e-05, 3.05446815e-06,\n",
       "        3.61977363e-05, 2.18695982e-06, 1.19915821e-05, 3.16082401e-06],\n",
       "       [8.54220161e-08, 9.99827743e-01, 3.63066902e-05, 2.15879550e-06,\n",
       "        1.31529814e-04, 5.06005620e-07, 1.43636294e-06, 1.98963775e-07],\n",
       "       [1.09526297e-07, 9.99950767e-01, 4.49266881e-05, 1.07142284e-07,\n",
       "        6.46087244e-07, 1.24436974e-06, 2.74336543e-07, 1.86821967e-06],\n",
       "       [1.58622797e-07, 9.99835491e-01, 1.08645734e-04, 9.10042309e-06,\n",
       "        4.38793104e-05, 8.69344092e-07, 1.19496644e-06, 6.49753986e-07],\n",
       "       [7.84600562e-09, 9.99960065e-01, 2.74958293e-05, 1.81640269e-06,\n",
       "        1.05296058e-05, 5.11015266e-08, 1.01201771e-07, 2.67713389e-08],\n",
       "       [6.95150462e-08, 9.99953508e-01, 1.28667989e-05, 6.68780513e-06,\n",
       "        2.49663353e-05, 7.65420339e-07, 8.25252243e-07, 3.97947417e-07],\n",
       "       [3.86806676e-08, 9.99966025e-01, 9.72490307e-06, 1.86933528e-06,\n",
       "        2.12823616e-05, 2.48040806e-07, 7.17330295e-07, 1.16689144e-07],\n",
       "       [2.64966616e-06, 9.96377766e-01, 3.61516468e-05, 2.08318277e-04,\n",
       "        3.09247081e-03, 4.88258374e-05, 2.19787631e-04, 1.39925987e-05],\n",
       "       [1.48447317e-08, 9.99949098e-01, 4.93706575e-05, 4.79989410e-07,\n",
       "        9.45522629e-07, 3.43391839e-08, 1.20116781e-07, 5.03768902e-08],\n",
       "       [1.96412717e-08, 9.99953508e-01, 8.39237146e-06, 9.03092257e-07,\n",
       "        3.66125278e-05, 1.45909269e-07, 4.13752900e-07, 7.44725810e-08],\n",
       "       [4.06714733e-08, 9.99961138e-01, 3.72241484e-05, 1.41134066e-07,\n",
       "        2.20582379e-07, 3.16687078e-07, 1.43195507e-07, 7.01254805e-07],\n",
       "       [2.31504256e-08, 9.99954581e-01, 3.96727810e-05, 2.37351378e-06,\n",
       "        2.28607996e-06, 4.65566472e-07, 2.74957301e-07, 3.31244280e-07],\n",
       "       [2.40977006e-05, 9.95106459e-01, 5.15652879e-04, 3.59298108e-04,\n",
       "        1.73539447e-03, 1.10263936e-03, 6.17642596e-04, 5.38769586e-04],\n",
       "       [4.43837649e-07, 9.96496260e-01, 3.32281482e-03, 1.00737838e-04,\n",
       "        6.87325592e-05, 9.66070274e-07, 9.07146477e-06, 1.10394035e-06],\n",
       "       [1.07879885e-06, 9.98979986e-01, 5.40421286e-04, 2.32626684e-04,\n",
       "        2.15956679e-04, 9.13586973e-06, 1.58967850e-05, 4.86433009e-06],\n",
       "       [1.18409604e-09, 9.99985456e-01, 1.44526948e-05, 5.29542810e-08,\n",
       "        1.23394642e-07, 4.66809214e-09, 1.52076680e-08, 5.74264059e-09],\n",
       "       [1.60992641e-08, 9.99977112e-01, 1.39142571e-06, 1.86385012e-06,\n",
       "        1.83429493e-05, 2.57820687e-07, 9.64700689e-07, 9.20007324e-08],\n",
       "       [4.97828466e-07, 9.99937773e-01, 4.12101981e-05, 3.43567172e-06,\n",
       "        6.54375390e-06, 3.20121626e-06, 3.51278868e-06, 3.80004167e-06],\n",
       "       [8.36024469e-07, 9.99897003e-01, 4.59043076e-05, 1.45211072e-06,\n",
       "        7.07178970e-06, 2.88499705e-05, 3.61233356e-06, 1.52544235e-05],\n",
       "       [7.35317201e-07, 9.99718726e-01, 8.73444005e-05, 1.75764058e-06,\n",
       "        1.79391845e-05, 1.25627645e-04, 3.34302531e-05, 1.44798214e-05],\n",
       "       [7.20235994e-06, 9.98300850e-01, 1.54886825e-03, 5.46568708e-06,\n",
       "        7.19914897e-05, 5.08118865e-06, 4.34854410e-05, 1.70739113e-05],\n",
       "       [5.49898294e-10, 9.99949813e-01, 5.00102869e-05, 2.46436631e-08,\n",
       "        1.14186342e-07, 4.56316052e-09, 1.41530698e-08, 4.65959094e-09],\n",
       "       [3.52229222e-06, 9.99694705e-01, 8.19175184e-05, 8.64414142e-06,\n",
       "        1.56610244e-04, 1.27311614e-05, 2.55104842e-05, 1.63489440e-05],\n",
       "       [3.66008196e-10, 9.99989986e-01, 8.46965031e-06, 2.50055876e-07,\n",
       "        1.29137084e-06, 2.84622792e-09, 2.63695963e-08, 1.24159061e-09],\n",
       "       [5.30388888e-07, 9.99916315e-01, 8.75393380e-06, 5.18637671e-06,\n",
       "        5.09728670e-05, 4.73419868e-06, 1.02888480e-05, 3.17045260e-06],\n",
       "       [1.97371094e-07, 9.99968410e-01, 2.00646846e-05, 3.76833981e-07,\n",
       "        2.22013500e-06, 4.85725604e-06, 1.07151777e-06, 2.68087911e-06],\n",
       "       [3.76073928e-07, 9.99889255e-01, 1.81874148e-05, 8.33141542e-07,\n",
       "        1.25465922e-05, 4.51818050e-05, 2.79600554e-05, 5.63309732e-06],\n",
       "       [1.29245086e-06, 9.99544322e-01, 4.04088496e-04, 1.69124326e-06,\n",
       "        2.89615346e-05, 1.07576511e-06, 1.58131406e-05, 2.68426402e-06],\n",
       "       [1.74396997e-09, 9.99987721e-01, 1.18271291e-05, 1.01959039e-07,\n",
       "        2.83715593e-07, 6.24043084e-09, 3.41319399e-08, 7.61319452e-09],\n",
       "       [2.63775988e-08, 9.99971032e-01, 2.35783477e-06, 6.70359555e-07,\n",
       "        2.43850009e-05, 1.39798956e-07, 1.20683603e-06, 1.11123342e-07],\n",
       "       [8.62177245e-08, 9.99986291e-01, 6.71106363e-06, 3.46739796e-07,\n",
       "        5.23513245e-06, 3.21378707e-07, 5.28041767e-07, 4.35907310e-07],\n",
       "       [1.81724094e-08, 9.99918938e-01, 4.63244851e-06, 1.23905818e-06,\n",
       "        7.41773110e-05, 1.63071704e-07, 7.69379483e-07, 4.64561509e-08],\n",
       "       [7.68997950e-07, 9.99939799e-01, 3.84528539e-05, 1.51615916e-06,\n",
       "        1.26473124e-05, 1.48248876e-06, 2.06644495e-06, 3.31746924e-06],\n",
       "       [1.37576034e-10, 9.99992371e-01, 1.15360490e-06, 1.72054240e-06,\n",
       "        4.83027952e-06, 3.02714365e-09, 1.03565885e-08, 7.37198524e-10],\n",
       "       [1.87631013e-08, 9.99994755e-01, 3.02247645e-06, 1.06295737e-07,\n",
       "        1.72632690e-06, 1.32428298e-07, 1.00344749e-07, 1.15824918e-07],\n",
       "       [2.68251177e-09, 9.99994993e-01, 4.64259756e-06, 7.49276197e-08,\n",
       "        2.46479402e-07, 2.30753585e-08, 3.30731567e-08, 3.11692538e-08],\n",
       "       [2.15390492e-06, 9.99865770e-01, 3.84468512e-05, 3.23852964e-06,\n",
       "        3.64503353e-06, 3.47273744e-05, 7.25268637e-06, 4.48131577e-05]],\n",
       "      dtype=float32)"
      ]
     },
     "execution_count": 32,
     "metadata": {},
     "output_type": "execute_result"
    }
   ],
   "source": [
    "y_predicted[0]"
   ]
  },
  {
   "cell_type": "code",
   "execution_count": 33,
   "id": "019bd6db",
   "metadata": {},
   "outputs": [
    {
     "data": {
      "text/plain": [
       "['O',\n",
       " 'O',\n",
       " 'O',\n",
       " 'O',\n",
       " 'O',\n",
       " 'O',\n",
       " 'O',\n",
       " 'O',\n",
       " 'O',\n",
       " 'O',\n",
       " 'O',\n",
       " 'O',\n",
       " 'O',\n",
       " 'O',\n",
       " 'O',\n",
       " 'O',\n",
       " 'O',\n",
       " 'O',\n",
       " 'O',\n",
       " 'O',\n",
       " 'O',\n",
       " 'O',\n",
       " 'O',\n",
       " 'O',\n",
       " 'O',\n",
       " 'O',\n",
       " 'O',\n",
       " 'O',\n",
       " 'O',\n",
       " 'O',\n",
       " 'O',\n",
       " 'O',\n",
       " 'O',\n",
       " 'O',\n",
       " 'O',\n",
       " 'O',\n",
       " 'O',\n",
       " 'O',\n",
       " 'O',\n",
       " 'O']"
      ]
     },
     "execution_count": 33,
     "metadata": {},
     "output_type": "execute_result"
    }
   ],
   "source": [
    "pred_tags[0]"
   ]
  },
  {
   "cell_type": "code",
   "execution_count": 34,
   "id": "637d02e2",
   "metadata": {},
   "outputs": [
    {
     "data": {
      "text/plain": [
       "['O',\n",
       " 'O',\n",
       " 'O',\n",
       " 'O',\n",
       " 'O',\n",
       " 'O',\n",
       " 'O',\n",
       " 'O',\n",
       " 'O',\n",
       " 'O',\n",
       " 'O',\n",
       " 'O',\n",
       " 'O',\n",
       " 'O',\n",
       " 'O',\n",
       " 'O',\n",
       " 'O',\n",
       " 'O',\n",
       " 'O',\n",
       " 'O',\n",
       " 'O',\n",
       " 'O',\n",
       " 'O',\n",
       " 'O',\n",
       " 'O',\n",
       " 'O',\n",
       " 'O',\n",
       " 'O',\n",
       " 'O',\n",
       " 'O',\n",
       " 'O',\n",
       " 'O',\n",
       " 'O',\n",
       " 'O',\n",
       " 'O',\n",
       " 'O',\n",
       " 'O',\n",
       " 'O',\n",
       " 'O',\n",
       " 'O']"
      ]
     },
     "execution_count": 34,
     "metadata": {},
     "output_type": "execute_result"
    }
   ],
   "source": [
    "test_tags[0]"
   ]
  },
  {
   "cell_type": "code",
   "execution_count": 35,
   "id": "c13d251c",
   "metadata": {},
   "outputs": [
    {
     "name": "stderr",
     "output_type": "stream",
     "text": [
      "C:\\Users\\sungj\\AppData\\Roaming\\Python\\Python311\\site-packages\\seqeval\\metrics\\sequence_labeling.py:171: UserWarning: B_LC seems not to be NE tag.\n",
      "  warnings.warn('{} seems not to be NE tag.'.format(chunk))\n",
      "C:\\Users\\sungj\\AppData\\Roaming\\Python\\Python311\\site-packages\\seqeval\\metrics\\sequence_labeling.py:171: UserWarning: B_TI seems not to be NE tag.\n",
      "  warnings.warn('{} seems not to be NE tag.'.format(chunk))\n",
      "C:\\Users\\sungj\\AppData\\Roaming\\Python\\Python311\\site-packages\\seqeval\\metrics\\sequence_labeling.py:171: UserWarning: B_OG seems not to be NE tag.\n",
      "  warnings.warn('{} seems not to be NE tag.'.format(chunk))\n",
      "C:\\Users\\sungj\\AppData\\Roaming\\Python\\Python311\\site-packages\\seqeval\\metrics\\sequence_labeling.py:171: UserWarning: B_DT seems not to be NE tag.\n",
      "  warnings.warn('{} seems not to be NE tag.'.format(chunk))\n",
      "C:\\Users\\sungj\\AppData\\Roaming\\Python\\Python311\\site-packages\\seqeval\\metrics\\sequence_labeling.py:171: UserWarning: B_PS seems not to be NE tag.\n",
      "  warnings.warn('{} seems not to be NE tag.'.format(chunk))\n"
     ]
    },
    {
     "name": "stdout",
     "output_type": "stream",
     "text": [
      "              precision    recall  f1-score   support\n",
      "\n",
      "           _       0.61      0.57      0.59       683\n",
      "         _DT       0.92      0.87      0.89       357\n",
      "         _LC       0.72      0.58      0.64       324\n",
      "         _OG       0.72      0.53      0.61       464\n",
      "         _PS       0.79      0.45      0.57       388\n",
      "         _TI       0.84      0.76      0.80        76\n",
      "\n",
      "   micro avg       0.73      0.60      0.66      2292\n",
      "   macro avg       0.77      0.63      0.68      2292\n",
      "weighted avg       0.73      0.60      0.65      2292\n",
      "\n"
     ]
    }
   ],
   "source": [
    "print(classification_report(test_tags, pred_tags))"
   ]
  },
  {
   "cell_type": "code",
   "execution_count": 36,
   "id": "b49f9fc3",
   "metadata": {},
   "outputs": [
    {
     "name": "stdout",
     "output_type": "stream",
     "text": [
      "F1-score: 65.6%\n"
     ]
    }
   ],
   "source": [
    "print(\"F1-score: {:.1%}\".format(f1_score(test_tags, pred_tags)))"
   ]
  },
  {
   "cell_type": "code",
   "execution_count": 37,
   "id": "096b9803",
   "metadata": {},
   "outputs": [],
   "source": [
    "# 새로운 유형의 문장 NER 예측\n",
    "word_to_index = sent_tokenizer.word_index\n",
    "new_sentences = \"삼성전자 출시 스마트폰 오늘 애플 도전장 내밀다.\".split()\n",
    "new_x = []\n",
    "for w in new_sentences:\n",
    "    try:\n",
    "        new_x.append(word_to_index.get(w, 1))\n",
    "    except KeyError:\n",
    "        # 모르는 단어의 경우 OOV\n",
    "        new_x.append(word_to_index[\"OOV\"])"
   ]
  },
  {
   "cell_type": "code",
   "execution_count": 38,
   "id": "1452844f",
   "metadata": {},
   "outputs": [
    {
     "name": "stdout",
     "output_type": "stream",
     "text": [
      "새로운 유형의 시퀀스 : [531, 307, 1476, 286, 1507, 6766, 1]\n"
     ]
    }
   ],
   "source": [
    "print(\"새로운 유형의 시퀀스 :\", new_x)\n",
    "new_padded_seqs = preprocessing.sequence.pad_sequences([new_x], padding = \"post\", maxlen = max_len)"
   ]
  },
  {
   "cell_type": "code",
   "execution_count": 39,
   "id": "57b7ae5a",
   "metadata": {},
   "outputs": [
    {
     "name": "stdout",
     "output_type": "stream",
     "text": [
      "\u001b[1m1/1\u001b[0m \u001b[32m━━━━━━━━━━━━━━━━━━━━\u001b[0m\u001b[37m\u001b[0m \u001b[1m0s\u001b[0m 56ms/step\n",
      "단어         예측된 NER\n",
      "--------------------------------------------------\n",
      "삼성전자       B_OG \n",
      "출시         O    \n",
      "스마트폰       O    \n",
      "오늘         B_DT \n",
      "애플         B_OG \n",
      "도전장        I    \n",
      "내밀다.       I    \n"
     ]
    }
   ],
   "source": [
    "# NER 예측\n",
    "p = model.predict(np.array([new_padded_seqs[0]]))\n",
    "p = np.argmax(p, axis = -1) # 예측된 NER 인덱스 값 추출\n",
    "print(\"{:10} {:5}\".format(\"단어\", \"예측된 NER\"))\n",
    "print(\"-\" * 50)\n",
    "\n",
    "for w, pred in zip(new_sentences, p[0]):\n",
    "    print(\"{:10} {:5}\".format(w, index_to_ner[pred]))"
   ]
  }
 ],
 "metadata": {
  "kernelspec": {
   "display_name": "Python 3 (ipykernel)",
   "language": "python",
   "name": "python3"
  },
  "language_info": {
   "codemirror_mode": {
    "name": "ipython",
    "version": 3
   },
   "file_extension": ".py",
   "mimetype": "text/x-python",
   "name": "python",
   "nbconvert_exporter": "python",
   "pygments_lexer": "ipython3",
   "version": "3.11.5"
  }
 },
 "nbformat": 4,
 "nbformat_minor": 5
}
