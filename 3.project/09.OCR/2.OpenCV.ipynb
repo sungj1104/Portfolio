{
 "cells": [
  {
   "cell_type": "markdown",
   "id": "851b3731",
   "metadata": {},
   "source": [
    "# OpenCV\n",
    "\n",
    "- 컴퓨터로 이미지나 영상을 읽고 이미지의 사이즈 변환이나 회전, 선분 및 도형 그리기, 채널 분리 등의 연산을 처리할 수 있도록 만들어진 오픈 소스 라이브러리\n",
    "- 인텔에서 개발\n",
    "- 2006년 10월 19일에 버전 1.0이 출시\n",
    "- 초기에는 c언어만 지원\n",
    "    - 버전 2.0부터 C++을 중심적으로 지원\n",
    "    - 이후 파이썬 라이브러리로도 추가"
   ]
  },
  {
   "cell_type": "markdown",
   "id": "9bd65071",
   "metadata": {},
   "source": [
    "## OpenCV의 강점\n",
    "\n",
    "- 다양한 이미지 및 비디오 처리\n",
    "    - 이미지와 비디오 데이터에 대한 다양한 처리를 간단하게 수행할 수 있음\n",
    "    \n",
    "- 컴퓨터 비전 알고리즘\n",
    "    - 얼굴 인식, 객체 검출, 이미지 분할, 모션 추적 등의 작업을 구현하기 위한 다양한 함수와 클래스를 제공\n",
    "\n",
    "- 머신 러닝 통합\n",
    "    - 머신러닝 알고리즘을 구현하기 위한 툴도 제공\n",
    "    - 텐서플로, 파이토치 등의 머신러닝 프레임워크와 통합 연계를 지원\n",
    "    \n",
    "- 크로스 플랫폼 지원\n",
    "    - 다양한 플랫폼에서 동작하도록 설계되어 윈도우, 리눅스, macOS, 안드로이드, IOS 등에서 사용할 수 있음\n",
    "    \n",
    "- 오픈 소스 라이선스\n",
    "    - Apache License 2.0 을 따르므로 무료로 사용할 수 있고, 소스 코드에 접근하여 필요에 따라 변경 가능\n",
    "    - 상업용으로 배포하는 것도 가능\n",
    "    \n",
    "- 높은 성능\n",
    "    - C++ 로 작성되어 빠른 속도와 효율적인 메모리 관리를 지원\n",
    "    - 병렬 처리와 GPU 가속화를 활용한 높은 성능을 제공\n",
    "    \n",
    "- 커뮤니티 지원\n",
    "    - 활발한 개발자 및 사용자 커뮤니티가 존재하여 지속적인 개발과 지원이 이루어짐\n",
    "    - 새로운 기능과 업데이트가 지속적으로 이루어지며, 문제를 해결하기 위한 다양한 자료와 지원이 제공\n",
    "    \n",
    "- 다양한 언어 지원\n",
    "    - C++, 파이썬, 자바, C# 등 다양한 언어를 지원하여 개발자들이 자신에게 편한 언어를 선택하여 사용할 수 있음\n",
    "    \n",
    "- 광범위한 응용 분야\n",
    "    - 컴퓨터 비전과 이미지 처리 분야 뿐만 아니라 로봇, 자율 주행, 의료, 보안, 산업 등 다양한 분야에서 사용됨"
   ]
  },
  {
   "cell_type": "markdown",
   "id": "a762532e",
   "metadata": {},
   "source": [
    "# 이미지 입출력"
   ]
  },
  {
   "cell_type": "code",
   "execution_count": 43,
   "id": "38c6d20c",
   "metadata": {},
   "outputs": [],
   "source": [
    "# pip install opencv-python\n",
    "import cv2\n",
    "import numpy as np"
   ]
  },
  {
   "cell_type": "code",
   "execution_count": 2,
   "id": "4f4bb491",
   "metadata": {},
   "outputs": [],
   "source": [
    "image = cv2.imread(\"./image/like_lenna224.png\", cv2.IMREAD_GRAYSCALE)"
   ]
  },
  {
   "cell_type": "code",
   "execution_count": 3,
   "id": "62302ccf",
   "metadata": {},
   "outputs": [
    {
     "data": {
      "text/plain": [
       "numpy.ndarray"
      ]
     },
     "execution_count": 3,
     "metadata": {},
     "output_type": "execute_result"
    }
   ],
   "source": [
    "type(image)"
   ]
  },
  {
   "cell_type": "code",
   "execution_count": 4,
   "id": "130f17a1",
   "metadata": {},
   "outputs": [
    {
     "data": {
      "text/plain": [
       "(224, 224)"
      ]
     },
     "execution_count": 4,
     "metadata": {},
     "output_type": "execute_result"
    }
   ],
   "source": [
    "image.shape"
   ]
  },
  {
   "cell_type": "code",
   "execution_count": 5,
   "id": "e1106df9",
   "metadata": {},
   "outputs": [
    {
     "data": {
      "text/plain": [
       "array([[106, 107, 107, ..., 111, 110, 111],\n",
       "       [106, 107, 109, ..., 112, 111, 111],\n",
       "       [107, 107, 107, ..., 112, 112, 112],\n",
       "       ...,\n",
       "       [ 93,  93,  95, ..., 146, 149, 149],\n",
       "       [ 93,  93,  93, ..., 146, 146, 147],\n",
       "       [ 92,  92,  93, ..., 146, 147, 147]], dtype=uint8)"
      ]
     },
     "execution_count": 5,
     "metadata": {},
     "output_type": "execute_result"
    }
   ],
   "source": [
    "image"
   ]
  },
  {
   "cell_type": "markdown",
   "id": "1e55fbb2",
   "metadata": {},
   "source": [
    "- 이미지를 구성하는 숫자들은 그 수가 매우 많기 때문에 효율적으로 저장하고 관리해야 함\n",
    "    - 이미지 전체 픽셀에 대해 연산을 해야하는 상황처럼 연산량이 많아진다면 numpy.ndarray를 사용해야 속도가 빠르고, 더 적은 메모리 공간을 차지할 수 있음"
   ]
  },
  {
   "cell_type": "code",
   "execution_count": 6,
   "id": "38d1747e",
   "metadata": {},
   "outputs": [],
   "source": [
    "cv2.imshow(\"img\", image)\n",
    "cv2.waitKey(0)\n",
    "cv2.destroyAllWindows()"
   ]
  },
  {
   "cell_type": "markdown",
   "id": "71733cdb",
   "metadata": {},
   "source": [
    "# 이미지 변환"
   ]
  },
  {
   "cell_type": "markdown",
   "id": "b3e65fd8",
   "metadata": {},
   "source": [
    "## 사이즈 변환\n",
    "\n",
    "- cv2.resize()\n",
    "    - 인수\n",
    "        - src : 입력 이미지 혹은 입력 영상을 입력\n",
    "        - dsize : 변환 후 이미지의 형태\n",
    "            - (가로의 길이, 세로의 길이) 형식으로 튜플로 입력\n",
    "        - ds : 출력 이미지를 저장할 numpy.ndarray 변수를 입력\n",
    "        - fx, fy : 입력 이미지와 출력 이미지의 배율\n",
    "            - 해당 인수를 사용하기 위해서는 dsize 인수에 None값을 대입\n",
    "        - interpoloation : 이미지를 확대할 때 비어있는 픽셀을 채울 규칙을 지정"
   ]
  },
  {
   "cell_type": "code",
   "execution_count": 7,
   "id": "9b367213",
   "metadata": {},
   "outputs": [],
   "source": [
    "image_small = cv2.resize(image, (100, 100))"
   ]
  },
  {
   "cell_type": "code",
   "execution_count": 9,
   "id": "25de49b9",
   "metadata": {},
   "outputs": [
    {
     "data": {
      "text/plain": [
       "(100, 100)"
      ]
     },
     "execution_count": 9,
     "metadata": {},
     "output_type": "execute_result"
    }
   ],
   "source": [
    "image_small.shape"
   ]
  },
  {
   "cell_type": "code",
   "execution_count": 11,
   "id": "b48ae480",
   "metadata": {},
   "outputs": [],
   "source": [
    "cv2.imshow(\"image\", image_small)\n",
    "cv2.waitKey(0)\n",
    "cv2.destroyAllWindows()"
   ]
  },
  {
   "cell_type": "code",
   "execution_count": 12,
   "id": "8aa56ece",
   "metadata": {},
   "outputs": [],
   "source": [
    "# 배율 지정 방식\n",
    "image_big = cv2.resize(image, dsize = None, fx = 2, fy =2)"
   ]
  },
  {
   "cell_type": "code",
   "execution_count": 13,
   "id": "aaad8f84",
   "metadata": {},
   "outputs": [
    {
     "data": {
      "text/plain": [
       "(448, 448)"
      ]
     },
     "execution_count": 13,
     "metadata": {},
     "output_type": "execute_result"
    }
   ],
   "source": [
    "image_big.shape"
   ]
  },
  {
   "cell_type": "code",
   "execution_count": 21,
   "id": "38012c26",
   "metadata": {},
   "outputs": [],
   "source": [
    "cv2.imshow(\"\", image_big)\n",
    "cv2.waitKey(0)\n",
    "cv2.destroyAllWindows()"
   ]
  },
  {
   "cell_type": "markdown",
   "id": "d62027fc",
   "metadata": {},
   "source": [
    "## 대칭 변환\n",
    "\n",
    "- 이미지를 수평, 수직 또는 두 축 모두에 대해 반전시키는 작업\n",
    "- OpenCV에서는 cv2.flip() 함수를 사용하여 이미지를 대칭, 변환할 수 있음\n",
    "    - flip 함수는 image변수와 대칭으로 돌릴 축을 0, 1 등으로 명시하여 변환을 수행\n",
    "        - 0 : 수평축 반전\n",
    "        - 1 : 수직축 반전"
   ]
  },
  {
   "cell_type": "code",
   "execution_count": 22,
   "id": "16458f2a",
   "metadata": {},
   "outputs": [],
   "source": [
    "# 수평축 반전\n",
    "image_fliped = cv2.flip(image, 0)\n",
    "cv2.imshow(\"\", image_fliped)\n",
    "cv2.waitKey(0)\n",
    "cv2.destroyAllWindows()"
   ]
  },
  {
   "cell_type": "code",
   "execution_count": 23,
   "id": "211092cf",
   "metadata": {},
   "outputs": [],
   "source": [
    "# 수직축 반전\n",
    "image_fliped2 = cv2.flip(image, 1)\n",
    "cv2.imshow(\"\", image_fliped2)\n",
    "cv2.waitKey(0)\n",
    "cv2.destroyAllWindows()"
   ]
  },
  {
   "cell_type": "markdown",
   "id": "19764128",
   "metadata": {},
   "source": [
    "### 회전 변환\n",
    "\n",
    "- 이미지를 주어진 각도만큼 회전시키는 작업\n",
    "- cv2.getRotationMatrix2D 함수를 사용하여 회전 변환 행렬을 생성하고\n",
    "    - center : 어떤 점을 기준으로 회전시킬지 지정\n",
    "    - angle : 얼마나 회전시킬지 지정\n",
    "    - scale : 결과 이미지의 배율을 어떻게 할 지 지정\n",
    "    \n",
    "- cv2.warpAffine 함수를 사용하여 실제로 이미지를 회전\n",
    "    - 앞에서 만들어진 변환 행렬과 이미지를 받아 실제 변환을 수행"
   ]
  },
  {
   "cell_type": "code",
   "execution_count": 25,
   "id": "5e0e132b",
   "metadata": {},
   "outputs": [],
   "source": [
    "height, width = image.shape\n",
    "matrix = cv2.getRotationMatrix2D((width / 2, height / 2), 90, 1)"
   ]
  },
  {
   "cell_type": "code",
   "execution_count": 26,
   "id": "8669950a",
   "metadata": {},
   "outputs": [
    {
     "data": {
      "text/plain": [
       "array([[ 6.12323400e-17,  1.00000000e+00, -1.42108547e-14],\n",
       "       [-1.00000000e+00,  6.12323400e-17,  2.24000000e+02]])"
      ]
     },
     "execution_count": 26,
     "metadata": {},
     "output_type": "execute_result"
    }
   ],
   "source": [
    "matrix"
   ]
  },
  {
   "cell_type": "code",
   "execution_count": 28,
   "id": "79b6889c",
   "metadata": {},
   "outputs": [],
   "source": [
    "result = cv2.warpAffine(image, matrix, (width, height))\n",
    "cv2.imshow(\"\", result)\n",
    "cv2.waitKey(0)\n",
    "cv2.destroyAllWindows()"
   ]
  },
  {
   "cell_type": "code",
   "execution_count": 34,
   "id": "e999b335",
   "metadata": {},
   "outputs": [],
   "source": [
    "# 30도 회전\n",
    "matrix = cv2.getRotationMatrix2D((width / 2, height / 2), 30, 1)\n",
    "result2 = cv2.warpAffine(image, matrix, (width, height), borderValue = 200)\n",
    "cv2.imshow(\"\", result2)\n",
    "cv2.waitKey(0)\n",
    "cv2.destroyAllWindows()"
   ]
  },
  {
   "cell_type": "markdown",
   "id": "3cef4b6d",
   "metadata": {},
   "source": [
    "### 자르기\n",
    "\n",
    "- 이미지 자르기 기능은 파이썬의 슬라이싱 기능을 사용"
   ]
  },
  {
   "cell_type": "code",
   "execution_count": 35,
   "id": "d24ace74",
   "metadata": {},
   "outputs": [],
   "source": [
    "cv2.imshow(\"\", image[:100, :100])\n",
    "cv2.waitKey(0)\n",
    "cv2.destroyAllWindows()"
   ]
  },
  {
   "cell_type": "code",
   "execution_count": 36,
   "id": "b80a3cbd",
   "metadata": {},
   "outputs": [],
   "source": [
    "# 가로, 세로 모두 51번째 픽셀부터 150번째 픽셀까지 자르기\n",
    "cv2.imshow(\"\", image[50:150, 50:150])\n",
    "cv2.waitKey(0)\n",
    "cv2.destroyAllWindows()"
   ]
  },
  {
   "cell_type": "markdown",
   "id": "c2365a20",
   "metadata": {},
   "source": [
    "- numpy.ndarray 의 슬라이싱은 원본 객체의 값을 그대로 참조\n",
    "    - 할당되어 있는 픽셀의 숫자 값을 바꿔주면 원본의 픽샐 값이 함께 변화"
   ]
  },
  {
   "cell_type": "code",
   "execution_count": 37,
   "id": "cadcdec8",
   "metadata": {},
   "outputs": [],
   "source": [
    "croped_image = image[50:150, 50:150]\n",
    "croped_image[:] = 200"
   ]
  },
  {
   "cell_type": "code",
   "execution_count": 39,
   "id": "687e6fe2",
   "metadata": {},
   "outputs": [],
   "source": [
    "cv2.imshow(\"\", image)\n",
    "cv2.waitKey(0)\n",
    "cv2.destroyAllWindows()"
   ]
  },
  {
   "cell_type": "markdown",
   "id": "2e0ca39f",
   "metadata": {},
   "source": [
    "- 이미지 일부를 잘라서 변화를 주고 싶지만 원본 이미지에 영향을 미치고 싶지 않을 때는 자른 객체에 대한 깊은 복사를 사용해야 함"
   ]
  },
  {
   "cell_type": "code",
   "execution_count": 40,
   "id": "16126f3e",
   "metadata": {},
   "outputs": [],
   "source": [
    "image = cv2.imread(\"./image/like_lenna224.png\", cv2.IMREAD_GRAYSCALE)\n",
    "croped_image = image[50:150, 50:150].copy() # 깊은 복사\n",
    "croped_image[:] = 200"
   ]
  },
  {
   "cell_type": "code",
   "execution_count": 41,
   "id": "8e0f41d5",
   "metadata": {},
   "outputs": [],
   "source": [
    "cv2.imshow(\"\", image)\n",
    "cv2.waitKey(0)\n",
    "cv2.destroyAllWindows()"
   ]
  },
  {
   "cell_type": "code",
   "execution_count": 42,
   "id": "2332f7fa",
   "metadata": {},
   "outputs": [],
   "source": [
    "cv2.imshow(\"\", croped_image)\n",
    "cv2.waitKey(0)\n",
    "cv2.destroyAllWindows()"
   ]
  },
  {
   "cell_type": "markdown",
   "id": "71118379",
   "metadata": {},
   "source": [
    "## 도형 그리기\n",
    "\n",
    "- OpenCV는 읽어온 이미지 위애 원하는 도형을 그릴 수 있는 기능을 제공\n",
    "- 이 기능을 사용해 이미지 위에 객체를 구분하는 박스를 그리거나 글씨를 쓰는 일 등의 작업을 수행\n",
    "\n",
    "- 자주 사용하는 기능과 함수\n",
    "    - 선 그리기 : cv2.line\n",
    "    - 원 그리기 : cv2.circle\n",
    "    - 직사각형 그리기 : cv2.rectangle\n",
    "    - 타원 그리기 : cv2.ellipse\n",
    "    - 다각형 그리기 : cv2.polylines, cv2.fillPoly"
   ]
  },
  {
   "cell_type": "markdown",
   "id": "0cb66832",
   "metadata": {},
   "source": [
    "### 선 그리기(cv2.line)\n",
    "\n",
    "- 이미지와 두 개의 점을 받아서 이어줌\n",
    "    - color, thickness 등의 옵션으로 선을 다양하게 그려볼 수 있음"
   ]
  },
  {
   "cell_type": "code",
   "execution_count": 44,
   "id": "ef0e6274",
   "metadata": {},
   "outputs": [],
   "source": [
    "space = np.zeros((500, 1000), dtype = np.uint8)"
   ]
  },
  {
   "cell_type": "code",
   "execution_count": 45,
   "id": "770515e3",
   "metadata": {},
   "outputs": [
    {
     "data": {
      "text/plain": [
       "(500, 1000)"
      ]
     },
     "execution_count": 45,
     "metadata": {},
     "output_type": "execute_result"
    }
   ],
   "source": [
    "space.shape"
   ]
  },
  {
   "cell_type": "code",
   "execution_count": 46,
   "id": "bf57c921",
   "metadata": {},
   "outputs": [
    {
     "data": {
      "text/plain": [
       "array([[0, 0, 0, ..., 0, 0, 0],\n",
       "       [0, 0, 0, ..., 0, 0, 0],\n",
       "       [0, 0, 0, ..., 0, 0, 0],\n",
       "       ...,\n",
       "       [0, 0, 0, ..., 0, 0, 0],\n",
       "       [0, 0, 0, ..., 0, 0, 0],\n",
       "       [0, 0, 0, ..., 0, 0, 0]], dtype=uint8)"
      ]
     },
     "execution_count": 46,
     "metadata": {},
     "output_type": "execute_result"
    }
   ],
   "source": [
    "space"
   ]
  },
  {
   "cell_type": "code",
   "execution_count": 48,
   "id": "ccc4f925",
   "metadata": {},
   "outputs": [],
   "source": [
    "line_color = 255\n",
    "space = cv2.line(space, (100, 100), (800, 400), line_color, 3, 1)"
   ]
  },
  {
   "cell_type": "code",
   "execution_count": 49,
   "id": "f92d3909",
   "metadata": {},
   "outputs": [],
   "source": [
    "cv2.imshow(\"\", space)\n",
    "cv2.waitKey(0)\n",
    "cv2.destroyAllWindows()"
   ]
  },
  {
   "cell_type": "markdown",
   "id": "6db47c0a",
   "metadata": {},
   "source": [
    "### 원 그리기(cv2.circle)\n",
    "\n",
    "- 원의 중심 좌표와 반지름 값을 받아 원 그리기"
   ]
  },
  {
   "cell_type": "code",
   "execution_count": 56,
   "id": "5e1ab1fe",
   "metadata": {},
   "outputs": [],
   "source": [
    "space2 = np.zeros((500, 1000), dtype = np.uint8)\n",
    "color = 255\n",
    "space2 = cv2.circle(space2, (600, 200), 100, color, 4, 1)"
   ]
  },
  {
   "cell_type": "code",
   "execution_count": 57,
   "id": "b7ef4678",
   "metadata": {},
   "outputs": [],
   "source": [
    "cv2.imshow(\"\", space2)\n",
    "cv2.waitKey(0)\n",
    "cv2.destroyAllWindows()"
   ]
  },
  {
   "cell_type": "markdown",
   "id": "f103c3e1",
   "metadata": {},
   "source": [
    "### 직사각형 그리기(cv2.rectangle)\n",
    "\n",
    "- 객체 탐지에서 특정 대상이 있을 때, 상자 표시로 해당 대상을 나타내는 데 사용하는 기능\n",
    "- 이미지와 두 개의 좌표를 받아 이미지 위애 직사각형을 그려줌\n",
    "    - 두 개의 좌표(pt1, pt2)는 각각 사각형의 왼쪽 위와 오른쪽 아래의 꼭짓점 좌표를 의미"
   ]
  },
  {
   "cell_type": "code",
   "execution_count": 58,
   "id": "a66921e3",
   "metadata": {},
   "outputs": [],
   "source": [
    "space3 = np.zeros((768, 1388), dtype = np.uint8)\n",
    "line_color = 255\n",
    "space3 = cv2.rectangle(space3, (500, 200), (800, 400), line_color, 5, 1)"
   ]
  },
  {
   "cell_type": "code",
   "execution_count": 59,
   "id": "13d216e0",
   "metadata": {},
   "outputs": [],
   "source": [
    "cv2.imshow(\"\", space3)\n",
    "cv2.waitKey(0)\n",
    "cv2.destroyAllWindows()"
   ]
  },
  {
   "cell_type": "markdown",
   "id": "0c663802",
   "metadata": {},
   "source": [
    "### 타원 그리기(cv2.ellipse)\n",
    "\n",
    "- 이미지와 타원의 중심 및 축, 축의 각도, 타원을 그릴 각도(시작점과 끝점)를 받아 이미지 위에 원하는 타원을 그림\n",
    "    - certer : 타원 중심의 좌표\n",
    "    - axes : 축의 좌표\n",
    "    - angle : 타원 축의 각도\n",
    "    - startAngle : 타원을 그리기 시작할 각도 값\n",
    "    - endAngle : 타원 그리기를 끝낼 각도\n",
    "    - color : 색상(숫자로 기입)\n",
    "    - thickness : 선의 두께"
   ]
  },
  {
   "cell_type": "code",
   "execution_count": 61,
   "id": "575d29ed",
   "metadata": {},
   "outputs": [],
   "source": [
    "space4 = np.zeros((768, 1388), dtype = np.uint8)\n",
    "line_color = 255\n",
    "space4 = cv2.ellipse(space4, (500, 300), (300, 200), 0, 90, 250, line_color, 4)"
   ]
  },
  {
   "cell_type": "code",
   "execution_count": 62,
   "id": "0fb70fd5",
   "metadata": {},
   "outputs": [],
   "source": [
    "cv2.imshow(\"\", space4)\n",
    "cv2.waitKey(0)\n",
    "cv2.destroyAllWindows()"
   ]
  },
  {
   "cell_type": "markdown",
   "id": "ef0f83e7",
   "metadata": {},
   "source": [
    "### 다각형 그리기(cv2.polylines, cv2.fillPoly)\n",
    ".\n",
    "- cv2.polylines : 여러 점을 잇는 선을 그려서 다각형을 그림\n",
    "- cv2.fillPoly : 색칠된 면을 갖는 다각형을 그림"
   ]
  },
  {
   "cell_type": "code",
   "execution_count": 63,
   "id": "64854fb5",
   "metadata": {},
   "outputs": [],
   "source": [
    "space5 = np.zeros((768, 1388), dtype = np.uint8)\n",
    "color = 255\n",
    "obj1 = np.array([[300, 500], [500, 500], [400, 600], [200, 600]])\n",
    "obj2 = np.array([[600, 500], [800, 500], [700, 200]])\n",
    "\n",
    "space5 = cv2.polylines(space5, [obj1], True, color, 3)\n",
    "space5 = cv2.fillPoly(space5, [obj2], color, 1)"
   ]
  },
  {
   "cell_type": "code",
   "execution_count": 64,
   "id": "660a83a1",
   "metadata": {},
   "outputs": [],
   "source": [
    "cv2.imshow(\"\", space5)\n",
    "cv2.waitKey(0)\n",
    "cv2.destroyAllWindows()"
   ]
  }
 ],
 "metadata": {
  "kernelspec": {
   "display_name": "Python 3 (ipykernel)",
   "language": "python",
   "name": "python3"
  },
  "language_info": {
   "codemirror_mode": {
    "name": "ipython",
    "version": 3
   },
   "file_extension": ".py",
   "mimetype": "text/x-python",
   "name": "python",
   "nbconvert_exporter": "python",
   "pygments_lexer": "ipython3",
   "version": "3.11.5"
  }
 },
 "nbformat": 4,
 "nbformat_minor": 5
}
