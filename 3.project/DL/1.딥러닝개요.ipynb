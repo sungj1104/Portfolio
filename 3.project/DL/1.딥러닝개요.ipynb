{
 "cells": [
  {
   "cell_type": "markdown",
   "id": "e313c277",
   "metadata": {},
   "source": [
    "# 딥러닝 개요"
   ]
  },
  {
   "cell_type": "markdown",
   "id": "f248feff",
   "metadata": {},
   "source": [
    "## 딥러닝 역사\n",
    "\n",
    "- 1940년대부터 시작된 인공신경망(Artificial Neural Network, ANN)은 2000년대에 접어들기까지 큰 주목을 받지 못함\n",
    "    - 신경망 모델을 사용하려면 대량의 데이터와 함께 높은 컴퓨팅 파워가 필요해서\n",
    "    - 환경 여건이 부족했던 당시에는 성과를 내지 못함\n",
    "    \n",
    "- 하지만 빅데이터 기술이 발전함에 따라 무수히 많은 정형, 비정형 데이터를 수집할 수 있게 됐고, GPU기반의 대량 연산이 가능해 빛을 발하기 시작\n",
    "- 이를 기점으로 관련 연구가 활발히 이루어졌고, 2004년 토론토 대학교의 제프리 힌튼 교수를 필두로 딥러닝(Deep Learning) 기법이 탄생"
   ]
  },
  {
   "cell_type": "markdown",
   "id": "b80984ed",
   "metadata": {},
   "source": [
    "## 인공신경망 모델의 기본 개념\n",
    "\n",
    "- 신경망은 생명체의 신경체를 이루는 신경 세포인 뉴런(Neuron)을 모티브로 만들어진 기계학습 모델\n",
    "\n",
    "- 뉴런은 수상돌기(Dendrite)들을 통해 전기적 신호를 받음\n",
    "    - 인공신경망에서는 독립변수를 입력\n",
    "    \n",
    "- 입력된 전기 신호들을 세포체(soma)로 모여 합산\n",
    "    - 인공신경망에서는 각 독립변수들에 가중치를 부여하여 값을 합산\n",
    "    \n",
    "- 합산된 신호는 축삭돌기(Axon)를 통해 출력되고 생명체가 이에 반응\n",
    "    - 인공신경망에서는 결괏값 Y가 출력됨\n",
    "    \n",
    "- 회귀분석과의 차이는 은닉층\n",
    "    - 처음 주어진 가중치를 이용해 출력층의 값을 계산\n",
    "    - 결괏값과의 오차를 각 가중치로 미분한 값을 처음 가중치에서 빼 주는 작업을 반복하며 가중치를 조정\n",
    "    - 이 과정을 오차역전파(Back-propagation of errors)라고 함\n",
    "    \n",
    "- 신경망을 이루는 가장 기본 단위 구조를 퍼셉트론(Perceptron)이라고 함\n",
    "    - 퍼셉트론은 '지각'의 뜻을 가진 Perception과 뉴런의 합성어\n",
    "    - 인공 신경망은 여러 층의 퍼셉트론으로 구성되기 때문에 다층 퍼셉트론(multi-layer perceptron, MLP)라고 함\n",
    "    \n",
    "- 다층 퍼셉트론은 비선형 분류가 가능하기 때문에 과적합을 방지할 수 있음\n",
    "\n",
    "- 단층 퍼셉트론의 경우 AND, NAND, OR 게이트 논리 연산을 할 수 있지만 XOR 게이트 연산은 불가능"
   ]
  }
 ],
 "metadata": {
  "kernelspec": {
   "display_name": "Python 3 (ipykernel)",
   "language": "python",
   "name": "python3"
  },
  "language_info": {
   "codemirror_mode": {
    "name": "ipython",
    "version": 3
   },
   "file_extension": ".py",
   "mimetype": "text/x-python",
   "name": "python",
   "nbconvert_exporter": "python",
   "pygments_lexer": "ipython3",
   "version": "3.11.5"
  }
 },
 "nbformat": 4,
 "nbformat_minor": 5
}
