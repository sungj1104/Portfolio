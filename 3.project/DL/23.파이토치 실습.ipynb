{
 "cells": [
  {
   "cell_type": "code",
   "execution_count": 1,
   "id": "8260df11",
   "metadata": {},
   "outputs": [],
   "source": [
    "import torch\n",
    "from torch.utils import data\n",
    "import torch.nn as nn\n",
    "from torch import optim\n",
    "import torch.nn.functional as F\n",
    "from torchvision import datasets, transforms\n",
    "import matplotlib.pyplot as plt\n",
    "import numpy as np\n",
    "\n",
    "from torch.autograd import Variable"
   ]
  },
  {
   "cell_type": "code",
   "execution_count": 2,
   "id": "8e665f85",
   "metadata": {},
   "outputs": [],
   "source": [
    "trainset = datasets.MNIST(\n",
    "    root = \"./data/\",\n",
    "    train= True,\n",
    "    download = True,\n",
    "    transform = transforms.Compose([transforms.ToTensor()]))\n",
    "\n",
    "testset = datasets.MNIST(\n",
    "    root = \"./data/\",\n",
    "    train = False,\n",
    "    download = True,\n",
    "    transform = transforms.Compose([transforms.ToTensor()]))"
   ]
  },
  {
   "cell_type": "code",
   "execution_count": 3,
   "id": "3c034c88",
   "metadata": {},
   "outputs": [],
   "source": [
    "train_loader = torch.utils.data.DataLoader(trainset, batch_size = 100)\n",
    "test_loader = torch.utils.data.DataLoader(testset, batch_size = 100)"
   ]
  },
  {
   "cell_type": "code",
   "execution_count": 4,
   "id": "287be52b",
   "metadata": {},
   "outputs": [],
   "source": [
    "import os\n",
    "os.environ[\"KMP_DUPLICATE_LIB_OK\"] = \"True\""
   ]
  },
  {
   "cell_type": "code",
   "execution_count": 5,
   "id": "a3d0c04d",
   "metadata": {},
   "outputs": [],
   "source": [
    "# 분류 클래스 정의\n",
    "labels_map = {0 : \"0\", 1 : \"1\", 2 : \"2\", 3 : \"3\", 4 : \"4\",\n",
    "             5 : \"5\", 6 : \"6\", 7 : \"7\", 8 : \"8\", 9 : \"9\"}"
   ]
  },
  {
   "cell_type": "code",
   "execution_count": 6,
   "id": "bc26cef3",
   "metadata": {},
   "outputs": [],
   "source": [
    "# CPU 혹은 GPU 장치 확인\n",
    "device = torch.device(\"cuda:0\" if torch.cuda.is_available() else \"cpu\")"
   ]
  },
  {
   "cell_type": "code",
   "execution_count": 7,
   "id": "056fb342",
   "metadata": {},
   "outputs": [
    {
     "data": {
      "image/png": "[encoded data removed]",
      "text/plain": [
       "<Figure size 640x480 with 1 Axes>"
      ]
     },
     "metadata": {},
     "output_type": "display_data"
    }
   ],
   "source": [
    "plt.title(labels_map[trainset[0][1]])\n",
    "plt.axis(\"off\")\n",
    "plt.imshow(trainset[0][0][0, :, :], cmap = \"gray\")\n",
    "    \n",
    "plt.show()"
   ]
  },
  {
   "cell_type": "code",
   "execution_count": 18,
   "id": "e2096d5a",
   "metadata": {},
   "outputs": [
    {
     "data": {
      "text/plain": [
       "(28, 28)"
      ]
     },
     "execution_count": 18,
     "metadata": {},
     "output_type": "execute_result"
    }
   ],
   "source": [
    "len(trainset[1][0][0]), len(trainset[1][0][0][0])"
   ]
  },
  {
   "cell_type": "code",
   "execution_count": 14,
   "id": "6dfc0672",
   "metadata": {},
   "outputs": [],
   "source": [
    "class NumberCNN(nn.Module):\n",
    "    def __init__(self):\n",
    "        # 데이터 크기 28 * 28\n",
    "        super().__init__()\n",
    "        # Sequential 은 forward 함수에서 구현될 순전파를 계층 형태로 더 가독성 있게 만들어줌\n",
    "        # 즉, 계층을 차례대로 쌓을 수 있도록 Wx + b와 같은 수식과 활성화 함수를 연결해주는 역할\n",
    "        # 데이터가 각 계층을 순차적으로 지나갈 때 효과적\n",
    "        self.layer1 = nn.Sequential(\n",
    "            nn.Conv2d(in_channels = 1, out_channels = 32, kernel_size = 3, padding = 1),\n",
    "            # (28 - 3 + 2 * 1)/1 + 1 = 28\n",
    "            nn.BatchNorm2d(32),\n",
    "            nn.ReLU(),\n",
    "            nn.MaxPool2d(kernel_size = 2, stride = 2)\n",
    "            # 28 / 2 = 14\n",
    "        )\n",
    "        self.fc1 = nn.Linear(in_features = 32 * 14 * 14, out_features = 50)\n",
    "        self.drop = nn.Dropout2d(0.25)\n",
    "        self.fc2 = nn.Linear(in_features = 50, out_features = 10)\n",
    "        \n",
    "    def forward(self, x):\n",
    "        out = self.layer1(x)\n",
    "        out = out.view(out.size(0), -1)\n",
    "        out = self.fc1(out)\n",
    "        out = self.drop(out)\n",
    "        out = self.fc2(out)\n",
    "        return out"
   ]
  },
  {
   "cell_type": "code",
   "execution_count": 15,
   "id": "016451b8",
   "metadata": {},
   "outputs": [
    {
     "name": "stdout",
     "output_type": "stream",
     "text": [
      "NumberCNN(\n",
      "  (layer1): Sequential(\n",
      "    (0): Conv2d(1, 32, kernel_size=(3, 3), stride=(1, 1), padding=(1, 1))\n",
      "    (1): BatchNorm2d(32, eps=1e-05, momentum=0.1, affine=True, track_running_stats=True)\n",
      "    (2): ReLU()\n",
      "    (3): MaxPool2d(kernel_size=2, stride=2, padding=0, dilation=1, ceil_mode=False)\n",
      "  )\n",
      "  (fc1): Linear(in_features=6272, out_features=50, bias=True)\n",
      "  (drop): Dropout2d(p=0.25, inplace=False)\n",
      "  (fc2): Linear(in_features=50, out_features=10, bias=True)\n",
      ")\n"
     ]
    }
   ],
   "source": [
    "# 합성곱 신경망 파라미터 정의\n",
    "learning_rate = 0.0001\n",
    "model = NumberCNN() # 위에서 만든 class를 객체화\n",
    "model.to(device)\n",
    "\n",
    "criterion = nn.CrossEntropyLoss() # 손실 함수\n",
    "optimizer = torch.optim.Adam(model.parameters(), lr = learning_rate) # adam\n",
    "print(model)"
   ]
  },
  {
   "cell_type": "code",
   "execution_count": 16,
   "id": "271164dc",
   "metadata": {
    "scrolled": true
   },
   "outputs": [
    {
     "name": "stdout",
     "output_type": "stream",
     "text": [
      "Iteration: 500, Loss: 0.24813717603683472, Accuracy: 94.37000274658203%\n",
      "Iteration: 1000, Loss: 0.17240934073925018, Accuracy: 95.88999938964844%\n",
      "Iteration: 1500, Loss: 0.11079028993844986, Accuracy: 96.37000274658203%\n",
      "Iteration: 2000, Loss: 0.07426141202449799, Accuracy: 96.88999938964844%\n",
      "Iteration: 2500, Loss: 0.025752639397978783, Accuracy: 97.13999938964844%\n",
      "Iteration: 3000, Loss: 0.15908658504486084, Accuracy: 97.36000061035156%\n"
     ]
    }
   ],
   "source": [
    "num_epochs = 5\n",
    "count = 0\n",
    "loss_list = []\n",
    "iteration_list = []\n",
    "accuracy_list = []\n",
    "\n",
    "predictions_list = []\n",
    "labels_list = []\n",
    "\n",
    "for epoch in range(num_epochs):\n",
    "    for images, labels in train_loader:\n",
    "        images, labels = images.to(device), labels.to(device)\n",
    "        # 모델이 데이터를 처리하기 위해서는 모델과 데이터가 동일한 장치에 있어야 함\n",
    "        \n",
    "        train = Variable(images.view(100, 1, 28, 28))\n",
    "        test = Variable(labels)\n",
    "        # Autograd는 자동 미분을 수행하는 파이토치의 핵심 패키지\n",
    "        # 자동 미분에 대한 값을 저장\n",
    "        \n",
    "        outputs = model(train)\n",
    "        loss = criterion(outputs, labels)\n",
    "        optimizer.zero_grad()\n",
    "        loss.backward()\n",
    "        optimizer.step()\n",
    "        count += 1\n",
    "        \n",
    "        if not (count % 50):\n",
    "            total = 0\n",
    "            correct = 0\n",
    "            for images, labels in test_loader:\n",
    "                images, labels = images.to(device), labels.to(device)\n",
    "                labels_list.append(labels)\n",
    "                \n",
    "                test = Variable(images.view(100, 1, 28, 28))\n",
    "                outputs = model(test)\n",
    "                predictions = torch.max(outputs, 1)[1].to(device)\n",
    "                predictions_list.append(predictions)\n",
    "                correct += (predictions == labels).sum()\n",
    "                total += len(labels)\n",
    "                \n",
    "            accuracy = correct * 100 / total\n",
    "            loss_list.append(loss.data)\n",
    "            iteration_list.append(count)\n",
    "            accuracy_list.append(accuracy)\n",
    "            \n",
    "        if not (count % 500):\n",
    "            print(f\"Iteration: {count}, Loss: {loss.data}, Accuracy: {accuracy}%\")"
   ]
  },
  {
   "cell_type": "code",
   "execution_count": null,
   "id": "e57ae961",
   "metadata": {},
   "outputs": [],
   "source": []
  }
 ],
 "metadata": {
  "kernelspec": {
   "display_name": "Python 3 (ipykernel)",
   "language": "python",
   "name": "python3"
  },
  "language_info": {
   "codemirror_mode": {
    "name": "ipython",
    "version": 3
   },
   "file_extension": ".py",
   "mimetype": "text/x-python",
   "name": "python",
   "nbconvert_exporter": "python",
   "pygments_lexer": "ipython3",
   "version": "3.11.5"
  }
 },
 "nbformat": 4,
 "nbformat_minor": 5
}
