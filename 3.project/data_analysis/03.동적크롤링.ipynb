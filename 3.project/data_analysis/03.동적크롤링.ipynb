{
 "cells": [
  {
   "cell_type": "markdown",
   "id": "214c42e3",
   "metadata": {},
   "source": [
    "# selenium으로 DOM에 접근하는 방법\n",
    "\n",
    "- 단일 객체 반환(bs4의 find()와 같은 형태)\n",
    "    - find_element\n",
    "\n",
    "- 리스트 객체 반환(bs4의 find_all()과 같은 형태\n",
    "    - find_elements"
   ]
  },
  {
   "cell_type": "code",
   "execution_count": 1,
   "id": "9a5f53d3",
   "metadata": {},
   "outputs": [],
   "source": [
    "from selenium import webdriver\n",
    "from selenium.webdriver.common.by import By\n",
    "from bs4 import BeautifulSoup\n",
    "from urllib.request import urlopen\n",
    "from selenium.webdriver.common.keys import Keys"
   ]
  },
  {
   "cell_type": "code",
   "execution_count": 2,
   "id": "4f200f9a",
   "metadata": {},
   "outputs": [],
   "source": [
    "# 웹 접속하기\n",
    "url = \"https://www.naver.com\"\n",
    "\n",
    "driver = webdriver.Chrome()\n",
    "\n",
    "driver.get(url) # url 접속"
   ]
  },
  {
   "cell_type": "markdown",
   "id": "08d1c6dd",
   "metadata": {},
   "source": [
    "## 원하는 태그를 id로 찾는 방법"
   ]
  },
  {
   "cell_type": "code",
   "execution_count": 3,
   "id": "2b88a865",
   "metadata": {},
   "outputs": [],
   "source": [
    "url = \"https://pjt3591oo.github.io\"\n",
    "\n",
    "driver = webdriver.Chrome()\n",
    "\n",
    "driver.get(url)"
   ]
  },
  {
   "cell_type": "code",
   "execution_count": 4,
   "id": "22a457e9",
   "metadata": {},
   "outputs": [],
   "source": [
    "select_id = driver.find_element(by = By.ID, value = \"nav-trigger\")"
   ]
  },
  {
   "cell_type": "code",
   "execution_count": 5,
   "id": "65206996",
   "metadata": {},
   "outputs": [
    {
     "name": "stdout",
     "output_type": "stream",
     "text": [
      "<selenium.webdriver.remote.webelement.WebElement (session=\"75ca501ae3feecfa664fefd1ec689f9d\", element=\"0F0A4F9048E4CD4CE5AC2E3A4365C800_element_1\")>\n"
     ]
    }
   ],
   "source": [
    "print(select_id)"
   ]
  },
  {
   "cell_type": "code",
   "execution_count": 6,
   "id": "d2d75785",
   "metadata": {},
   "outputs": [
    {
     "name": "stdout",
     "output_type": "stream",
     "text": [
      "input\n"
     ]
    }
   ],
   "source": [
    "print(select_id.tag_name)"
   ]
  },
  {
   "cell_type": "code",
   "execution_count": 7,
   "id": "d7f5fe7b",
   "metadata": {},
   "outputs": [
    {
     "name": "stdout",
     "output_type": "stream",
     "text": [
      "\n"
     ]
    }
   ],
   "source": [
    "print(select_id.text)"
   ]
  },
  {
   "cell_type": "markdown",
   "id": "878ecffe",
   "metadata": {},
   "source": [
    "## 원하는 태그를 tag_name으로 찾는 방법"
   ]
  },
  {
   "cell_type": "code",
   "execution_count": 8,
   "id": "d70cb7d0",
   "metadata": {},
   "outputs": [
    {
     "name": "stdout",
     "output_type": "stream",
     "text": [
      "<selenium.webdriver.remote.webelement.WebElement (session=\"b1b6bef8f13b0ca50b23440a1eea5852\", element=\"F23BFB6DC686A1CC286C2A479713BBB0_element_16\")>\n",
      "p\n",
      "2017-05-20 06:29:05 +0000   |   박정태\n"
     ]
    }
   ],
   "source": [
    "url = \"https://pjt3591oo.github.io\"\n",
    "\n",
    "driver = webdriver.Chrome()\n",
    "\n",
    "driver.get(url)\n",
    "\n",
    "select_tag_p = driver.find_element(by = By.TAG_NAME, value = \"p\")\n",
    "print(select_tag_p)\n",
    "print(select_tag_p.tag_name)\n",
    "print(select_tag_p.text)"
   ]
  },
  {
   "cell_type": "code",
   "execution_count": 9,
   "id": "776abb8c",
   "metadata": {},
   "outputs": [
    {
     "name": "stdout",
     "output_type": "stream",
     "text": [
      "[<selenium.webdriver.remote.webelement.WebElement (session=\"b1b6bef8f13b0ca50b23440a1eea5852\", element=\"F23BFB6DC686A1CC286C2A479713BBB0_element_16\")>, <selenium.webdriver.remote.webelement.WebElement (session=\"b1b6bef8f13b0ca50b23440a1eea5852\", element=\"F23BFB6DC686A1CC286C2A479713BBB0_element_17\")>, <selenium.webdriver.remote.webelement.WebElement (session=\"b1b6bef8f13b0ca50b23440a1eea5852\", element=\"F23BFB6DC686A1CC286C2A479713BBB0_element_18\")>, <selenium.webdriver.remote.webelement.WebElement (session=\"b1b6bef8f13b0ca50b23440a1eea5852\", element=\"F23BFB6DC686A1CC286C2A479713BBB0_element_19\")>, <selenium.webdriver.remote.webelement.WebElement (session=\"b1b6bef8f13b0ca50b23440a1eea5852\", element=\"F23BFB6DC686A1CC286C2A479713BBB0_element_20\")>, <selenium.webdriver.remote.webelement.WebElement (session=\"b1b6bef8f13b0ca50b23440a1eea5852\", element=\"F23BFB6DC686A1CC286C2A479713BBB0_element_21\")>, <selenium.webdriver.remote.webelement.WebElement (session=\"b1b6bef8f13b0ca50b23440a1eea5852\", element=\"F23BFB6DC686A1CC286C2A479713BBB0_element_22\")>, <selenium.webdriver.remote.webelement.WebElement (session=\"b1b6bef8f13b0ca50b23440a1eea5852\", element=\"F23BFB6DC686A1CC286C2A479713BBB0_element_23\")>, <selenium.webdriver.remote.webelement.WebElement (session=\"b1b6bef8f13b0ca50b23440a1eea5852\", element=\"F23BFB6DC686A1CC286C2A479713BBB0_element_24\")>, <selenium.webdriver.remote.webelement.WebElement (session=\"b1b6bef8f13b0ca50b23440a1eea5852\", element=\"F23BFB6DC686A1CC286C2A479713BBB0_element_25\")>, <selenium.webdriver.remote.webelement.WebElement (session=\"b1b6bef8f13b0ca50b23440a1eea5852\", element=\"F23BFB6DC686A1CC286C2A479713BBB0_element_26\")>, <selenium.webdriver.remote.webelement.WebElement (session=\"b1b6bef8f13b0ca50b23440a1eea5852\", element=\"F23BFB6DC686A1CC286C2A479713BBB0_element_27\")>]\n"
     ]
    }
   ],
   "source": [
    "select_tag_p = driver.find_elements(by = By.TAG_NAME, value = \"p\") # 태그 이름이 p\n",
    "print(select_tag_p)"
   ]
  },
  {
   "cell_type": "markdown",
   "id": "a768204e",
   "metadata": {},
   "source": [
    "## 원하는 태그를 class_name으로 찾는 방법"
   ]
  },
  {
   "cell_type": "code",
   "execution_count": 10,
   "id": "445593fa",
   "metadata": {},
   "outputs": [
    {
     "name": "stdout",
     "output_type": "stream",
     "text": [
      "<selenium.webdriver.remote.webelement.WebElement (session=\"7af41f3270d66632eed601e7c6fe9540\", element=\"E86D70A61C5A212804138483AAE9A1DC_element_16\")>\n",
      "div\n",
      "[programming] [react] react 작업환경 설\n",
      "react를 시작하기 전에 환경셋팅을 해보자\n",
      "2017-05-20 06:29:05 +0000   |   박정태\n"
     ]
    }
   ],
   "source": [
    "url = \"https://pjt3591oo.github.io\"\n",
    "\n",
    "driver = webdriver.Chrome()\n",
    "\n",
    "driver.get(url)\n",
    "\n",
    "select_class = driver.find_element(by = By.CLASS_NAME, value = \"p\") # 클래스가 p\n",
    "print(select_class)\n",
    "print(select_class.tag_name)\n",
    "print(select_class.text)"
   ]
  },
  {
   "cell_type": "code",
   "execution_count": 11,
   "id": "698c5e01",
   "metadata": {},
   "outputs": [
    {
     "name": "stdout",
     "output_type": "stream",
     "text": [
      "[<selenium.webdriver.remote.webelement.WebElement (session=\"7af41f3270d66632eed601e7c6fe9540\", element=\"E86D70A61C5A212804138483AAE9A1DC_element_16\")>, <selenium.webdriver.remote.webelement.WebElement (session=\"7af41f3270d66632eed601e7c6fe9540\", element=\"E86D70A61C5A212804138483AAE9A1DC_element_17\")>, <selenium.webdriver.remote.webelement.WebElement (session=\"7af41f3270d66632eed601e7c6fe9540\", element=\"E86D70A61C5A212804138483AAE9A1DC_element_18\")>, <selenium.webdriver.remote.webelement.WebElement (session=\"7af41f3270d66632eed601e7c6fe9540\", element=\"E86D70A61C5A212804138483AAE9A1DC_element_19\")>, <selenium.webdriver.remote.webelement.WebElement (session=\"7af41f3270d66632eed601e7c6fe9540\", element=\"E86D70A61C5A212804138483AAE9A1DC_element_20\")>, <selenium.webdriver.remote.webelement.WebElement (session=\"7af41f3270d66632eed601e7c6fe9540\", element=\"E86D70A61C5A212804138483AAE9A1DC_element_21\")>, <selenium.webdriver.remote.webelement.WebElement (session=\"7af41f3270d66632eed601e7c6fe9540\", element=\"E86D70A61C5A212804138483AAE9A1DC_element_22\")>, <selenium.webdriver.remote.webelement.WebElement (session=\"7af41f3270d66632eed601e7c6fe9540\", element=\"E86D70A61C5A212804138483AAE9A1DC_element_23\")>, <selenium.webdriver.remote.webelement.WebElement (session=\"7af41f3270d66632eed601e7c6fe9540\", element=\"E86D70A61C5A212804138483AAE9A1DC_element_24\")>, <selenium.webdriver.remote.webelement.WebElement (session=\"7af41f3270d66632eed601e7c6fe9540\", element=\"E86D70A61C5A212804138483AAE9A1DC_element_25\")>]\n"
     ]
    }
   ],
   "source": [
    "select_class = driver.find_elements(by = By.CLASS_NAME, value = \"p\")\n",
    "print(select_class)"
   ]
  },
  {
   "cell_type": "markdown",
   "id": "7f9e0e40",
   "metadata": {},
   "source": [
    "## 원하는 태그를 css_selector로 찾는 방법\n",
    "\n",
    "- bs4의 select()와 동일"
   ]
  },
  {
   "cell_type": "code",
   "execution_count": 12,
   "id": "abed0f14",
   "metadata": {},
   "outputs": [
    {
     "name": "stdout",
     "output_type": "stream",
     "text": [
      "<selenium.webdriver.remote.webelement.WebElement (session=\"89e7374039d8f6b364f2e8655def9c4e\", element=\"2B770BCADF7AAD1BC5A5A533FC45C036_element_16\")>\n",
      "div\n",
      "[programming] [react] react 작업환경 설\n",
      "react를 시작하기 전에 환경셋팅을 해보자\n",
      "2017-05-20 06:29:05 +0000   |   박정태\n"
     ]
    }
   ],
   "source": [
    "url = \"https://pjt3591oo.github.io\"\n",
    "\n",
    "driver = webdriver.Chrome()\n",
    "\n",
    "driver.get(url)\n",
    "\n",
    "select_css = driver.find_element(by = By.CSS_SELECTOR, value = \"div.p\")\n",
    "print(select_css)\n",
    "print(select_css.tag_name)\n",
    "print(select_css.text)"
   ]
  },
  {
   "cell_type": "code",
   "execution_count": 13,
   "id": "01ca0faf",
   "metadata": {},
   "outputs": [
    {
     "name": "stdout",
     "output_type": "stream",
     "text": [
      "[<selenium.webdriver.remote.webelement.WebElement (session=\"89e7374039d8f6b364f2e8655def9c4e\", element=\"2B770BCADF7AAD1BC5A5A533FC45C036_element_16\")>, <selenium.webdriver.remote.webelement.WebElement (session=\"89e7374039d8f6b364f2e8655def9c4e\", element=\"2B770BCADF7AAD1BC5A5A533FC45C036_element_17\")>, <selenium.webdriver.remote.webelement.WebElement (session=\"89e7374039d8f6b364f2e8655def9c4e\", element=\"2B770BCADF7AAD1BC5A5A533FC45C036_element_18\")>, <selenium.webdriver.remote.webelement.WebElement (session=\"89e7374039d8f6b364f2e8655def9c4e\", element=\"2B770BCADF7AAD1BC5A5A533FC45C036_element_19\")>, <selenium.webdriver.remote.webelement.WebElement (session=\"89e7374039d8f6b364f2e8655def9c4e\", element=\"2B770BCADF7AAD1BC5A5A533FC45C036_element_20\")>, <selenium.webdriver.remote.webelement.WebElement (session=\"89e7374039d8f6b364f2e8655def9c4e\", element=\"2B770BCADF7AAD1BC5A5A533FC45C036_element_21\")>, <selenium.webdriver.remote.webelement.WebElement (session=\"89e7374039d8f6b364f2e8655def9c4e\", element=\"2B770BCADF7AAD1BC5A5A533FC45C036_element_22\")>, <selenium.webdriver.remote.webelement.WebElement (session=\"89e7374039d8f6b364f2e8655def9c4e\", element=\"2B770BCADF7AAD1BC5A5A533FC45C036_element_23\")>, <selenium.webdriver.remote.webelement.WebElement (session=\"89e7374039d8f6b364f2e8655def9c4e\", element=\"2B770BCADF7AAD1BC5A5A533FC45C036_element_24\")>, <selenium.webdriver.remote.webelement.WebElement (session=\"89e7374039d8f6b364f2e8655def9c4e\", element=\"2B770BCADF7AAD1BC5A5A533FC45C036_element_25\")>]\n"
     ]
    }
   ],
   "source": [
    "select_css = driver.find_elements(by = By.CSS_SELECTOR, value = \"div.p\")\n",
    "print(select_css)"
   ]
  },
  {
   "cell_type": "markdown",
   "id": "19a70afe",
   "metadata": {},
   "source": [
    "## 없는 요소 접근\n",
    "\n",
    "- bs4와는 다르게 없는 요소에 접근하면 에러를 띄움"
   ]
  },
  {
   "cell_type": "code",
   "execution_count": 14,
   "id": "45a9efcf",
   "metadata": {},
   "outputs": [
    {
     "ename": "NoSuchElementException",
     "evalue": "Message: no such element: Unable to locate element: {\"method\":\"css selector\",\"selector\":\".a\"}\n  (Session info: chrome=120.0.6099.225); For documentation on this error, please visit: https://www.selenium.dev/documentation/webdriver/troubleshooting/errors#no-such-element-exception\nStacktrace:\n\tGetHandleVerifier [0x00007FF710032142+3514994]\n\t(No symbol) [0x00007FF70FC50CE2]\n\t(No symbol) [0x00007FF70FAF76AA]\n\t(No symbol) [0x00007FF70FB41860]\n\t(No symbol) [0x00007FF70FB4197C]\n\t(No symbol) [0x00007FF70FB84EE7]\n\t(No symbol) [0x00007FF70FB6602F]\n\t(No symbol) [0x00007FF70FB828F6]\n\t(No symbol) [0x00007FF70FB65D93]\n\t(No symbol) [0x00007FF70FB34BDC]\n\t(No symbol) [0x00007FF70FB35C64]\n\tGetHandleVerifier [0x00007FF71005E16B+3695259]\n\tGetHandleVerifier [0x00007FF7100B6737+4057191]\n\tGetHandleVerifier [0x00007FF7100AE4E3+4023827]\n\tGetHandleVerifier [0x00007FF70FD804F9+689705]\n\t(No symbol) [0x00007FF70FC5C048]\n\t(No symbol) [0x00007FF70FC58044]\n\t(No symbol) [0x00007FF70FC581C9]\n\t(No symbol) [0x00007FF70FC488C4]\n\tBaseThreadInitThunk [0x00007FFA9D847344+20]\n\tRtlUserThreadStart [0x00007FFA9F3C26B1+33]\n",
     "output_type": "error",
     "traceback": [
      "\u001b[1;31m---------------------------------------------------------------------------\u001b[0m",
      "\u001b[1;31mNoSuchElementException\u001b[0m                    Traceback (most recent call last)",
      "Cell \u001b[1;32mIn[14], line 1\u001b[0m\n\u001b[1;32m----> 1\u001b[0m driver\u001b[38;5;241m.\u001b[39mfind_element(By\u001b[38;5;241m.\u001b[39mCSS_SELECTOR, \u001b[38;5;124m\"\u001b[39m\u001b[38;5;124m.a\u001b[39m\u001b[38;5;124m\"\u001b[39m)\n",
      "File \u001b[1;32m~\\AppData\\Roaming\\Python\\Python311\\site-packages\\selenium\\webdriver\\remote\\webdriver.py:742\u001b[0m, in \u001b[0;36mWebDriver.find_element\u001b[1;34m(self, by, value)\u001b[0m\n\u001b[0;32m    739\u001b[0m     by \u001b[38;5;241m=\u001b[39m By\u001b[38;5;241m.\u001b[39mCSS_SELECTOR\n\u001b[0;32m    740\u001b[0m     value \u001b[38;5;241m=\u001b[39m \u001b[38;5;124mf\u001b[39m\u001b[38;5;124m'\u001b[39m\u001b[38;5;124m[name=\u001b[39m\u001b[38;5;124m\"\u001b[39m\u001b[38;5;132;01m{\u001b[39;00mvalue\u001b[38;5;132;01m}\u001b[39;00m\u001b[38;5;124m\"\u001b[39m\u001b[38;5;124m]\u001b[39m\u001b[38;5;124m'\u001b[39m\n\u001b[1;32m--> 742\u001b[0m \u001b[38;5;28;01mreturn\u001b[39;00m \u001b[38;5;28mself\u001b[39m\u001b[38;5;241m.\u001b[39mexecute(Command\u001b[38;5;241m.\u001b[39mFIND_ELEMENT, {\u001b[38;5;124m\"\u001b[39m\u001b[38;5;124musing\u001b[39m\u001b[38;5;124m\"\u001b[39m: by, \u001b[38;5;124m\"\u001b[39m\u001b[38;5;124mvalue\u001b[39m\u001b[38;5;124m\"\u001b[39m: value})[\u001b[38;5;124m\"\u001b[39m\u001b[38;5;124mvalue\u001b[39m\u001b[38;5;124m\"\u001b[39m]\n",
      "File \u001b[1;32m~\\AppData\\Roaming\\Python\\Python311\\site-packages\\selenium\\webdriver\\remote\\webdriver.py:348\u001b[0m, in \u001b[0;36mWebDriver.execute\u001b[1;34m(self, driver_command, params)\u001b[0m\n\u001b[0;32m    346\u001b[0m response \u001b[38;5;241m=\u001b[39m \u001b[38;5;28mself\u001b[39m\u001b[38;5;241m.\u001b[39mcommand_executor\u001b[38;5;241m.\u001b[39mexecute(driver_command, params)\n\u001b[0;32m    347\u001b[0m \u001b[38;5;28;01mif\u001b[39;00m response:\n\u001b[1;32m--> 348\u001b[0m     \u001b[38;5;28mself\u001b[39m\u001b[38;5;241m.\u001b[39merror_handler\u001b[38;5;241m.\u001b[39mcheck_response(response)\n\u001b[0;32m    349\u001b[0m     response[\u001b[38;5;124m\"\u001b[39m\u001b[38;5;124mvalue\u001b[39m\u001b[38;5;124m\"\u001b[39m] \u001b[38;5;241m=\u001b[39m \u001b[38;5;28mself\u001b[39m\u001b[38;5;241m.\u001b[39m_unwrap_value(response\u001b[38;5;241m.\u001b[39mget(\u001b[38;5;124m\"\u001b[39m\u001b[38;5;124mvalue\u001b[39m\u001b[38;5;124m\"\u001b[39m, \u001b[38;5;28;01mNone\u001b[39;00m))\n\u001b[0;32m    350\u001b[0m     \u001b[38;5;28;01mreturn\u001b[39;00m response\n",
      "File \u001b[1;32m~\\AppData\\Roaming\\Python\\Python311\\site-packages\\selenium\\webdriver\\remote\\errorhandler.py:229\u001b[0m, in \u001b[0;36mErrorHandler.check_response\u001b[1;34m(self, response)\u001b[0m\n\u001b[0;32m    227\u001b[0m         alert_text \u001b[38;5;241m=\u001b[39m value[\u001b[38;5;124m\"\u001b[39m\u001b[38;5;124malert\u001b[39m\u001b[38;5;124m\"\u001b[39m]\u001b[38;5;241m.\u001b[39mget(\u001b[38;5;124m\"\u001b[39m\u001b[38;5;124mtext\u001b[39m\u001b[38;5;124m\"\u001b[39m)\n\u001b[0;32m    228\u001b[0m     \u001b[38;5;28;01mraise\u001b[39;00m exception_class(message, screen, stacktrace, alert_text)  \u001b[38;5;66;03m# type: ignore[call-arg]  # mypy is not smart enough here\u001b[39;00m\n\u001b[1;32m--> 229\u001b[0m \u001b[38;5;28;01mraise\u001b[39;00m exception_class(message, screen, stacktrace)\n",
      "\u001b[1;31mNoSuchElementException\u001b[0m: Message: no such element: Unable to locate element: {\"method\":\"css selector\",\"selector\":\".a\"}\n  (Session info: chrome=120.0.6099.225); For documentation on this error, please visit: https://www.selenium.dev/documentation/webdriver/troubleshooting/errors#no-such-element-exception\nStacktrace:\n\tGetHandleVerifier [0x00007FF710032142+3514994]\n\t(No symbol) [0x00007FF70FC50CE2]\n\t(No symbol) [0x00007FF70FAF76AA]\n\t(No symbol) [0x00007FF70FB41860]\n\t(No symbol) [0x00007FF70FB4197C]\n\t(No symbol) [0x00007FF70FB84EE7]\n\t(No symbol) [0x00007FF70FB6602F]\n\t(No symbol) [0x00007FF70FB828F6]\n\t(No symbol) [0x00007FF70FB65D93]\n\t(No symbol) [0x00007FF70FB34BDC]\n\t(No symbol) [0x00007FF70FB35C64]\n\tGetHandleVerifier [0x00007FF71005E16B+3695259]\n\tGetHandleVerifier [0x00007FF7100B6737+4057191]\n\tGetHandleVerifier [0x00007FF7100AE4E3+4023827]\n\tGetHandleVerifier [0x00007FF70FD804F9+689705]\n\t(No symbol) [0x00007FF70FC5C048]\n\t(No symbol) [0x00007FF70FC58044]\n\t(No symbol) [0x00007FF70FC581C9]\n\t(No symbol) [0x00007FF70FC488C4]\n\tBaseThreadInitThunk [0x00007FFA9D847344+20]\n\tRtlUserThreadStart [0x00007FFA9F3C26B1+33]\n"
     ]
    }
   ],
   "source": [
    "driver.find_element(By.CSS_SELECTOR, \".a\")"
   ]
  },
  {
   "cell_type": "markdown",
   "id": "f8ace6e5",
   "metadata": {},
   "source": [
    "# 웹 제어"
   ]
  },
  {
   "cell_type": "markdown",
   "id": "5bd6f64e",
   "metadata": {},
   "source": [
    "## 마우스 제어"
   ]
  },
  {
   "cell_type": "code",
   "execution_count": null,
   "id": "5782b0d2",
   "metadata": {},
   "outputs": [],
   "source": [
    "url = \"https://pjt3591oo.github.io\"\n",
    "\n",
    "driver = webdriver.Chrome()\n",
    "\n",
    "driver.get(url)\n",
    "\n",
    "selected = driver.find_element(By.CSS_SELECTOR, \"div.p > h3 > a\")\n",
    "print(selected.text)\n",
    "\n",
    "selected.click()"
   ]
  },
  {
   "cell_type": "code",
   "execution_count": null,
   "id": "3ead5e90",
   "metadata": {},
   "outputs": [],
   "source": [
    "url = \"https://pjt3591oo.github.io\"\n",
    "\n",
    "driver = webdriver.Chrome()\n",
    "\n",
    "driver.get(url)\n",
    "\n",
    "select_tags_a = driver.find_elements(By.CSS_SELECTOR, \"a\")\n",
    "\n",
    "for i in select_tags_a:\n",
    "    print(i.text, i.tag_name)\n",
    "    i.click()"
   ]
  },
  {
   "cell_type": "markdown",
   "id": "7030697f",
   "metadata": {},
   "source": [
    "- 페이지에서 돔트리를 불러오고 다른 페이지로 넘어가면 그 전에 가져온 페이지는 사용할 수 없게 됨\n",
    "- 따라서 click을 페이지 이동 용도로 사용하는 것은 가급적 피하는 것이 좋음\n",
    "- 페이지 변화 없이 페이지 내에서 데이터가 변화되는 경우에 사용하는 것을 권장"
   ]
  },
  {
   "cell_type": "code",
   "execution_count": null,
   "id": "23db9210",
   "metadata": {},
   "outputs": [],
   "source": [
    "# url = \"https://pjt3591oo.github.io/search\"\n",
    "\n",
    "# driver = webdriver.Chrome()\n",
    "\n",
    "# driver.get(url)\n",
    "\n",
    "search_box = driver.find_element(By.CSS_SELECTOR, \"input#search-box\")\n",
    "\n",
    "search_box.click()"
   ]
  },
  {
   "cell_type": "markdown",
   "id": "ac636ce7",
   "metadata": {},
   "source": [
    "## 키보드 제어"
   ]
  },
  {
   "cell_type": "code",
   "execution_count": null,
   "id": "5018d882",
   "metadata": {},
   "outputs": [],
   "source": [
    "# url = \"https://pjt3591oo.github.io/search\"\n",
    "\n",
    "# driver = webdriver.Chrome()\n",
    "\n",
    "# driver.get(url)\n",
    "\n",
    "search_box = driver.find_element(By.CSS_SELECTOR, \"input#search-box\")\n",
    "\n",
    "search_box.send_keys(\"test\")"
   ]
  },
  {
   "cell_type": "markdown",
   "id": "0c86776a",
   "metadata": {},
   "source": [
    "# selenium과 bs4의 조합"
   ]
  },
  {
   "cell_type": "code",
   "execution_count": null,
   "id": "cc0fe6bf",
   "metadata": {},
   "outputs": [],
   "source": [
    "url = \"https://pjt3591oo.github.io\"\n",
    "\n",
    "driver = webdriver.Chrome()\n",
    "\n",
    "driver.get(url)\n",
    "\n",
    "print(driver.page_source)"
   ]
  },
  {
   "cell_type": "markdown",
   "id": "f69a7ffc",
   "metadata": {},
   "source": [
    "- page-source : 현재 웹 브라우저의 HTML 코드를 가져옴"
   ]
  },
  {
   "cell_type": "code",
   "execution_count": null,
   "id": "9e65338a",
   "metadata": {},
   "outputs": [],
   "source": [
    "url = \"https://pjt3591oo.github.io\"\n",
    "\n",
    "driver = webdriver.Chrome()\n",
    "\n",
    "driver.get(url)\n",
    "\n",
    "soup = BeautifulSoup(driver.page_source, \"lxml\")\n",
    "\n",
    "print(soup.select(\"div\"))"
   ]
  },
  {
   "cell_type": "markdown",
   "id": "b8154703",
   "metadata": {},
   "source": [
    "## selenium 활용"
   ]
  },
  {
   "cell_type": "code",
   "execution_count": null,
   "id": "f117dd0f",
   "metadata": {},
   "outputs": [],
   "source": [
    "url = \"https://pjt3591oo.github.io/search\"\n",
    "\n",
    "driver = webdriver.Chrome()\n",
    "\n",
    "driver.get(url)\n",
    "\n",
    "search_box = driver.find_element(By.CSS_SELECTOR, \"input#search-box\")\n",
    "\n",
    "search_box.send_keys(\"db\")\n",
    "search_box.send_keys(Keys.ENTER)\n",
    "\n",
    "soup = BeautifulSoup(driver.page_source, \"lxml\")\n",
    "\n",
    "items = soup.select(\"ul#search-results > li\")\n",
    "\n",
    "for i in items:\n",
    "    title = i.select_one(\"h3\").text\n",
    "    description = i.select_one(\"p\").text\n",
    "    print(title)\n",
    "    print(description)"
   ]
  },
  {
   "cell_type": "markdown",
   "id": "16c28059",
   "metadata": {},
   "source": [
    "# 예제1. 스포츠 데이터 크롤링"
   ]
  },
  {
   "cell_type": "code",
   "execution_count": null,
   "id": "e6617f95",
   "metadata": {},
   "outputs": [],
   "source": [
    "url = \"https://www.livesport.com/kr/\"\n",
    "\n",
    "driver = webdriver.Chrome()\n",
    "\n",
    "driver.get(url)\n",
    "\n",
    "click_1 = driver.find_elements(By.CSS_SELECTOR, \"span.lmc__itemHidden\")\n",
    "\n",
    "for i in click_1:\n",
    "    if i.text == \"프리미어리그\":\n",
    "        i.click()\n",
    "        break\n",
    "        \n",
    "click_2 = driver.find_element(By.CSS_SELECTOR, \"a.tabs__tab.standings_table\")\n",
    "click_2.click()\n",
    "\n",
    "driver.implicitly_wait(10)\n",
    "\n",
    "click_3 = driver.find_elements(By.CSS_SELECTOR, \"a.tableCellParticipant__name\")\n",
    "\n",
    "for i in click_3:\n",
    "    if i.text == \"리버풀\":\n",
    "        i.click()\n",
    "        break\n",
    "        \n",
    "soup = BeautifulSoup(driver.page_source, \"lxml\")\n",
    "\n",
    "items = soup.select(\"span._simpleText_1d7gd_5._webTypeSimpleText01_1d7gd_11\")\n",
    "\n",
    "for i in items:\n",
    "    print(i.string)"
   ]
  },
  {
   "cell_type": "markdown",
   "id": "1e878709",
   "metadata": {},
   "source": [
    "# 예제2. 네이버 지식백과"
   ]
  },
  {
   "cell_type": "code",
   "execution_count": null,
   "id": "dc6d79bb",
   "metadata": {},
   "outputs": [],
   "source": [
    "url = \"https://www.naver.com\"\n",
    "\n",
    "driver = webdriver.Chrome()\n",
    "\n",
    "driver.get(url) # 페이지 요청하기\n",
    "\n",
    "driver.implicitly_wait(10) # 묵시적 대기, 활성화를 최대 3초까지 기다린다\n",
    "\n",
    "# 요소 찾기 - 검색창 찾고 키 전송\n",
    "search = driver.find_element(By.CSS_SELECTOR, \"input#query\")\n",
    "search.send_keys(\"고슴도치\")\n",
    "search.send_keys(Keys.ENTER)\n",
    "\n",
    "driver.implicitly_wait(10)\n",
    "\n",
    "# 요소 찾기 - 지식백과에서 고슴도치 클릭\n",
    "post = driver.find_element(By.CSS_SELECTOR, \"a.area_text_title\")\n",
    "post.click()"
   ]
  },
  {
   "cell_type": "markdown",
   "id": "d19443ee",
   "metadata": {},
   "source": [
    "# 예제 3. 스타벅스"
   ]
  },
  {
   "cell_type": "code",
   "execution_count": null,
   "id": "17ce9ef1",
   "metadata": {},
   "outputs": [],
   "source": [
    "import time"
   ]
  },
  {
   "cell_type": "code",
   "execution_count": null,
   "id": "f1ae7ac6",
   "metadata": {},
   "outputs": [],
   "source": [
    "# url = \"https://www.starbucks.co.kr/index.do\"\n",
    "\n",
    "# driver = webdriver.Chrome()\n",
    "# driver.get(url)\n",
    "# driver.implicitly_wait(15)\n",
    "\n",
    "# search = driver.find_element(By.CSS_SELECTOR, \"li.gnb_nav03\")\n",
    "# search.click()\n",
    "\n",
    "# driver.implicitly_wait(15)\n",
    "\n",
    "# search2 = driver.find_element(By.CSS_SELECTOR, \"div.store_bn1_btn a\")\n",
    "# search2.click()\n",
    "\n",
    "url = \"https://www.starbucks.co.kr/store/store_map.do?disp=locale\"\n",
    "\n",
    "driver= webdriver.Chrome()\n",
    "driver.get(url)\n",
    "driver.implicitly_wait(15)\n",
    "\n",
    "search3 = driver.find_element(By.CSS_SELECTOR, \"header.loca_search h3 a\")\n",
    "search3.click()\n",
    "\n",
    "click = driver.find_elements(By.CSS_SELECTOR, \"ul.sido_arae_box a\")\n",
    "\n",
    "for i in click:\n",
    "    if i.text == \"서울\":\n",
    "        i.click()\n",
    "        break\n",
    "      \n",
    "        \n",
    "click2 = driver.find_elements(By.CSS_SELECTOR, \"a.set_gugun_cd_btn\")\n",
    "\n",
    "for i in click2:\n",
    "    if i.text == \"마포구\":\n",
    "        i.click()\n",
    "        break\n",
    " \n",
    " # click2[13].click()\n",
    "       \n",
    "time.sleep(20)\n",
    "        \n",
    "soup = BeautifulSoup(driver.page_source, \"lxml\")\n",
    "\n",
    "\n",
    "for i in soup.select(\"ul.quickSearchResultBoxSidoGugun > li.quickResultLstCon > strong\"):\n",
    "    print(i.string)"
   ]
  },
  {
   "cell_type": "code",
   "execution_count": 17,
   "id": "3d8bc268",
   "metadata": {},
   "outputs": [
    {
     "name": "stdout",
     "output_type": "stream",
     "text": [
      "None\n",
      "None\n",
      "None\n",
      "None\n",
      "None\n",
      "None\n",
      "None\n",
      "None\n",
      "None\n",
      "None\n",
      "None\n",
      "None\n",
      "None\n",
      "None\n",
      "None\n",
      "None\n",
      "None\n",
      "None\n",
      "None\n",
      "None\n"
     ]
    }
   ],
   "source": [
    "url = \"https://www.google.com/search?q=%EC%98%A4%EB%8A%98%EC%9D%98+%EC%9A%94%EC%9D%BC&oq=%EC%98%A4%EB%8A%98%EC%9D%98+%EC%9A%94%EC%9D%BC&gs_lcrp=EgZjaHJvbWUyBggAEEUYOTIKCAEQABgFGA8YHjIICAIQABgIGB7SAQkyMzQzajBqMTWoAgCwAgA&sourceid=chrome&ie=UTF-8\"\n",
    "\n",
    "driver= webdriver.Chrome()\n",
    "driver.get(url)\n",
    "driver.implicitly_wait(15)\n",
    "\n",
    "soup = BeautifulSoup(driver.page_source, \"lxml\")\n",
    "\n"
   ]
  },
  {
   "cell_type": "code",
   "execution_count": 36,
   "id": "a93ff218",
   "metadata": {},
   "outputs": [
    {
     "name": "stdout",
     "output_type": "stream",
     "text": [
      "https://joyfulhome.tistory.com/235\n",
      "https://kormedi.com/1410155/%EF%BB%BF%EC%98%A4%EB%8A%98%EC%9D%B4-%EB%AC%B4%EC%8A%A8-%EC%9A%94%EC%9D%BC-%EB%82%A0%EC%A7%9C-%ED%97%B7%EA%B0%88%EB%A6%AC%EB%8A%94-%EC%9D%B4%EC%9C%A0/\n",
      "https://happylie.tistory.com/118\n"
     ]
    }
   ],
   "source": [
    "for i in range(3):\n",
    "    print(soup.select(\"div.yuRUbf > div > span > a\")[i].get('href'))"
   ]
  },
  {
   "cell_type": "code",
   "execution_count": 31,
   "id": "cf0c2cad",
   "metadata": {},
   "outputs": [],
   "source": [
    "url1"
   ]
  },
  {
   "cell_type": "code",
   "execution_count": null,
   "id": "d73e67ff",
   "metadata": {},
   "outputs": [],
   "source": []
  }
 ],
 "metadata": {
  "kernelspec": {
   "display_name": "Python 3 (ipykernel)",
   "language": "python",
   "name": "python3"
  },
  "language_info": {
   "codemirror_mode": {
    "name": "ipython",
    "version": 3
   },
   "file_extension": ".py",
   "mimetype": "text/x-python",
   "name": "python",
   "nbconvert_exporter": "python",
   "pygments_lexer": "ipython3",
   "version": "3.11.5"
  }
 },
 "nbformat": 4,
 "nbformat_minor": 5
}
