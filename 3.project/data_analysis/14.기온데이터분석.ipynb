{
 "cells": [
  {
   "cell_type": "code",
   "execution_count": 1,
   "id": "e5852355",
   "metadata": {},
   "outputs": [],
   "source": [
    "import pandas as pd\n",
    "import matplotlib.pyplot as plt\n",
    "import numpy as np"
   ]
  },
  {
   "cell_type": "code",
   "execution_count": 2,
   "id": "19311465",
   "metadata": {},
   "outputs": [],
   "source": [
    "# matplotlib 한글 폰트 수정\n",
    "from matplotlib import font_manager, rc\n",
    "import matplotlib\n",
    "font_path = 'C:/Windows/Fonts/malgun.ttf'\n",
    "font_name = font_manager.FontProperties(fname = font_path).get_name()\n",
    "rc('font', family=font_name)"
   ]
  },
  {
   "cell_type": "code",
   "execution_count": 3,
   "id": "b3549716",
   "metadata": {},
   "outputs": [
    {
     "data": {
      "text/html": [
       "<div>\n",
       "<style scoped>\n",
       "    .dataframe tbody tr th:only-of-type {\n",
       "        vertical-align: middle;\n",
       "    }\n",
       "\n",
       "    .dataframe tbody tr th {\n",
       "        vertical-align: top;\n",
       "    }\n",
       "\n",
       "    .dataframe thead th {\n",
       "        text-align: right;\n",
       "    }\n",
       "</style>\n",
       "<table border=\"1\" class=\"dataframe\">\n",
       "  <thead>\n",
       "    <tr style=\"text-align: right;\">\n",
       "      <th></th>\n",
       "      <th>날짜</th>\n",
       "      <th>지점</th>\n",
       "      <th>평균기온(℃)</th>\n",
       "      <th>최저기온(℃)</th>\n",
       "      <th>최고기온(℃)</th>\n",
       "    </tr>\n",
       "  </thead>\n",
       "  <tbody>\n",
       "    <tr>\n",
       "      <th>0</th>\n",
       "      <td>\\t1907-10-01</td>\n",
       "      <td>108</td>\n",
       "      <td>13.5</td>\n",
       "      <td>7.9</td>\n",
       "      <td>20.7</td>\n",
       "    </tr>\n",
       "    <tr>\n",
       "      <th>1</th>\n",
       "      <td>\\t1907-10-02</td>\n",
       "      <td>108</td>\n",
       "      <td>16.2</td>\n",
       "      <td>7.9</td>\n",
       "      <td>22.0</td>\n",
       "    </tr>\n",
       "    <tr>\n",
       "      <th>2</th>\n",
       "      <td>\\t1907-10-03</td>\n",
       "      <td>108</td>\n",
       "      <td>16.2</td>\n",
       "      <td>13.1</td>\n",
       "      <td>21.3</td>\n",
       "    </tr>\n",
       "    <tr>\n",
       "      <th>3</th>\n",
       "      <td>\\t1907-10-04</td>\n",
       "      <td>108</td>\n",
       "      <td>16.5</td>\n",
       "      <td>11.2</td>\n",
       "      <td>22.0</td>\n",
       "    </tr>\n",
       "    <tr>\n",
       "      <th>4</th>\n",
       "      <td>\\t1907-10-05</td>\n",
       "      <td>108</td>\n",
       "      <td>17.6</td>\n",
       "      <td>10.9</td>\n",
       "      <td>25.4</td>\n",
       "    </tr>\n",
       "  </tbody>\n",
       "</table>\n",
       "</div>"
      ],
      "text/plain": [
       "             날짜   지점  평균기온(℃)  최저기온(℃)  최고기온(℃)\n",
       "0  \\t1907-10-01  108     13.5      7.9     20.7\n",
       "1  \\t1907-10-02  108     16.2      7.9     22.0\n",
       "2  \\t1907-10-03  108     16.2     13.1     21.3\n",
       "3  \\t1907-10-04  108     16.5     11.2     22.0\n",
       "4  \\t1907-10-05  108     17.6     10.9     25.4"
      ]
     },
     "execution_count": 3,
     "metadata": {},
     "output_type": "execute_result"
    }
   ],
   "source": [
    "df = pd.read_csv(\"./data/seoul.csv\", skiprows = 6)\n",
    "df.head()"
   ]
  },
  {
   "cell_type": "code",
   "execution_count": 4,
   "id": "cc55b278",
   "metadata": {},
   "outputs": [
    {
     "data": {
      "text/plain": [
       "(42095, 5)"
      ]
     },
     "execution_count": 4,
     "metadata": {},
     "output_type": "execute_result"
    }
   ],
   "source": [
    "df.shape"
   ]
  },
  {
   "cell_type": "code",
   "execution_count": 5,
   "id": "b51aac69",
   "metadata": {},
   "outputs": [
    {
     "data": {
      "text/plain": [
       "날짜          object\n",
       "지점           int64\n",
       "평균기온(℃)    float64\n",
       "최저기온(℃)    float64\n",
       "최고기온(℃)    float64\n",
       "dtype: object"
      ]
     },
     "execution_count": 5,
     "metadata": {},
     "output_type": "execute_result"
    }
   ],
   "source": [
    "df.dtypes"
   ]
  },
  {
   "cell_type": "code",
   "execution_count": 6,
   "id": "da07b6f1",
   "metadata": {},
   "outputs": [
    {
     "name": "stdout",
     "output_type": "stream",
     "text": [
      "<class 'pandas.core.frame.DataFrame'>\n",
      "RangeIndex: 42095 entries, 0 to 42094\n",
      "Data columns (total 5 columns):\n",
      " #   Column   Non-Null Count  Dtype  \n",
      "---  ------   --------------  -----  \n",
      " 0   날짜       42095 non-null  object \n",
      " 1   지점       42095 non-null  int64  \n",
      " 2   평균기온(℃)  41339 non-null  float64\n",
      " 3   최저기온(℃)  41336 non-null  float64\n",
      " 4   최고기온(℃)  41336 non-null  float64\n",
      "dtypes: float64(3), int64(1), object(1)\n",
      "memory usage: 1.6+ MB\n"
     ]
    }
   ],
   "source": [
    "df.info()"
   ]
  },
  {
   "cell_type": "code",
   "execution_count": 7,
   "id": "66116ba8",
   "metadata": {},
   "outputs": [
    {
     "data": {
      "text/html": [
       "<div>\n",
       "<style scoped>\n",
       "    .dataframe tbody tr th:only-of-type {\n",
       "        vertical-align: middle;\n",
       "    }\n",
       "\n",
       "    .dataframe tbody tr th {\n",
       "        vertical-align: top;\n",
       "    }\n",
       "\n",
       "    .dataframe thead th {\n",
       "        text-align: right;\n",
       "    }\n",
       "</style>\n",
       "<table border=\"1\" class=\"dataframe\">\n",
       "  <thead>\n",
       "    <tr style=\"text-align: right;\">\n",
       "      <th></th>\n",
       "      <th>지점</th>\n",
       "      <th>평균기온(℃)</th>\n",
       "      <th>최저기온(℃)</th>\n",
       "      <th>최고기온(℃)</th>\n",
       "    </tr>\n",
       "  </thead>\n",
       "  <tbody>\n",
       "    <tr>\n",
       "      <th>count</th>\n",
       "      <td>42095.0</td>\n",
       "      <td>41339.000000</td>\n",
       "      <td>41336.000000</td>\n",
       "      <td>41336.000000</td>\n",
       "    </tr>\n",
       "    <tr>\n",
       "      <th>mean</th>\n",
       "      <td>108.0</td>\n",
       "      <td>11.777776</td>\n",
       "      <td>7.490495</td>\n",
       "      <td>16.777593</td>\n",
       "    </tr>\n",
       "    <tr>\n",
       "      <th>std</th>\n",
       "      <td>0.0</td>\n",
       "      <td>10.661494</td>\n",
       "      <td>10.889021</td>\n",
       "      <td>10.975401</td>\n",
       "    </tr>\n",
       "    <tr>\n",
       "      <th>min</th>\n",
       "      <td>108.0</td>\n",
       "      <td>-19.200000</td>\n",
       "      <td>-23.100000</td>\n",
       "      <td>-16.300000</td>\n",
       "    </tr>\n",
       "    <tr>\n",
       "      <th>25%</th>\n",
       "      <td>108.0</td>\n",
       "      <td>2.700000</td>\n",
       "      <td>-1.400000</td>\n",
       "      <td>7.300000</td>\n",
       "    </tr>\n",
       "    <tr>\n",
       "      <th>50%</th>\n",
       "      <td>108.0</td>\n",
       "      <td>13.000000</td>\n",
       "      <td>8.000000</td>\n",
       "      <td>18.600000</td>\n",
       "    </tr>\n",
       "    <tr>\n",
       "      <th>75%</th>\n",
       "      <td>108.0</td>\n",
       "      <td>21.200000</td>\n",
       "      <td>17.100000</td>\n",
       "      <td>26.300000</td>\n",
       "    </tr>\n",
       "    <tr>\n",
       "      <th>max</th>\n",
       "      <td>108.0</td>\n",
       "      <td>33.700000</td>\n",
       "      <td>30.300000</td>\n",
       "      <td>39.600000</td>\n",
       "    </tr>\n",
       "  </tbody>\n",
       "</table>\n",
       "</div>"
      ],
      "text/plain": [
       "            지점       평균기온(℃)       최저기온(℃)       최고기온(℃)\n",
       "count  42095.0  41339.000000  41336.000000  41336.000000\n",
       "mean     108.0     11.777776      7.490495     16.777593\n",
       "std        0.0     10.661494     10.889021     10.975401\n",
       "min      108.0    -19.200000    -23.100000    -16.300000\n",
       "25%      108.0      2.700000     -1.400000      7.300000\n",
       "50%      108.0     13.000000      8.000000     18.600000\n",
       "75%      108.0     21.200000     17.100000     26.300000\n",
       "max      108.0     33.700000     30.300000     39.600000"
      ]
     },
     "execution_count": 7,
     "metadata": {},
     "output_type": "execute_result"
    }
   ],
   "source": [
    "df.describe()"
   ]
  },
  {
   "cell_type": "code",
   "execution_count": 8,
   "id": "3861af37",
   "metadata": {},
   "outputs": [],
   "source": [
    "# 날짜 이상데이터 제거\n",
    "df[\"날짜\"] = df[\"날짜\"].str.strip()"
   ]
  },
  {
   "cell_type": "code",
   "execution_count": 9,
   "id": "31f66ea6",
   "metadata": {},
   "outputs": [
    {
     "data": {
      "text/html": [
       "<div>\n",
       "<style scoped>\n",
       "    .dataframe tbody tr th:only-of-type {\n",
       "        vertical-align: middle;\n",
       "    }\n",
       "\n",
       "    .dataframe tbody tr th {\n",
       "        vertical-align: top;\n",
       "    }\n",
       "\n",
       "    .dataframe thead th {\n",
       "        text-align: right;\n",
       "    }\n",
       "</style>\n",
       "<table border=\"1\" class=\"dataframe\">\n",
       "  <thead>\n",
       "    <tr style=\"text-align: right;\">\n",
       "      <th></th>\n",
       "      <th>날짜</th>\n",
       "      <th>지점</th>\n",
       "      <th>평균기온(℃)</th>\n",
       "      <th>최저기온(℃)</th>\n",
       "      <th>최고기온(℃)</th>\n",
       "    </tr>\n",
       "  </thead>\n",
       "  <tbody>\n",
       "    <tr>\n",
       "      <th>0</th>\n",
       "      <td>1907-10-01</td>\n",
       "      <td>108</td>\n",
       "      <td>13.5</td>\n",
       "      <td>7.9</td>\n",
       "      <td>20.7</td>\n",
       "    </tr>\n",
       "    <tr>\n",
       "      <th>1</th>\n",
       "      <td>1907-10-02</td>\n",
       "      <td>108</td>\n",
       "      <td>16.2</td>\n",
       "      <td>7.9</td>\n",
       "      <td>22.0</td>\n",
       "    </tr>\n",
       "    <tr>\n",
       "      <th>2</th>\n",
       "      <td>1907-10-03</td>\n",
       "      <td>108</td>\n",
       "      <td>16.2</td>\n",
       "      <td>13.1</td>\n",
       "      <td>21.3</td>\n",
       "    </tr>\n",
       "    <tr>\n",
       "      <th>3</th>\n",
       "      <td>1907-10-04</td>\n",
       "      <td>108</td>\n",
       "      <td>16.5</td>\n",
       "      <td>11.2</td>\n",
       "      <td>22.0</td>\n",
       "    </tr>\n",
       "    <tr>\n",
       "      <th>4</th>\n",
       "      <td>1907-10-05</td>\n",
       "      <td>108</td>\n",
       "      <td>17.6</td>\n",
       "      <td>10.9</td>\n",
       "      <td>25.4</td>\n",
       "    </tr>\n",
       "  </tbody>\n",
       "</table>\n",
       "</div>"
      ],
      "text/plain": [
       "           날짜   지점  평균기온(℃)  최저기온(℃)  최고기온(℃)\n",
       "0  1907-10-01  108     13.5      7.9     20.7\n",
       "1  1907-10-02  108     16.2      7.9     22.0\n",
       "2  1907-10-03  108     16.2     13.1     21.3\n",
       "3  1907-10-04  108     16.5     11.2     22.0\n",
       "4  1907-10-05  108     17.6     10.9     25.4"
      ]
     },
     "execution_count": 9,
     "metadata": {},
     "output_type": "execute_result"
    }
   ],
   "source": [
    "df.head()"
   ]
  },
  {
   "cell_type": "code",
   "execution_count": 13,
   "id": "3b445032",
   "metadata": {},
   "outputs": [
    {
     "data": {
      "text/plain": [
       "날짜           0\n",
       "지점           0\n",
       "평균기온(℃)    756\n",
       "최저기온(℃)    759\n",
       "최고기온(℃)    759\n",
       "dtype: int64"
      ]
     },
     "execution_count": 13,
     "metadata": {},
     "output_type": "execute_result"
    }
   ],
   "source": [
    "# 결측치 확인\n",
    "df.isna().sum()"
   ]
  },
  {
   "cell_type": "code",
   "execution_count": 11,
   "id": "6eb100da",
   "metadata": {},
   "outputs": [
    {
     "data": {
      "text/html": [
       "<div>\n",
       "<style scoped>\n",
       "    .dataframe tbody tr th:only-of-type {\n",
       "        vertical-align: middle;\n",
       "    }\n",
       "\n",
       "    .dataframe tbody tr th {\n",
       "        vertical-align: top;\n",
       "    }\n",
       "\n",
       "    .dataframe thead th {\n",
       "        text-align: right;\n",
       "    }\n",
       "</style>\n",
       "<table border=\"1\" class=\"dataframe\">\n",
       "  <thead>\n",
       "    <tr style=\"text-align: right;\">\n",
       "      <th></th>\n",
       "      <th>날짜</th>\n",
       "      <th>지점</th>\n",
       "      <th>평균기온(℃)</th>\n",
       "      <th>최저기온(℃)</th>\n",
       "      <th>최고기온(℃)</th>\n",
       "    </tr>\n",
       "  </thead>\n",
       "  <tbody>\n",
       "    <tr>\n",
       "      <th>15676</th>\n",
       "      <td>1950-09-01</td>\n",
       "      <td>108</td>\n",
       "      <td>NaN</td>\n",
       "      <td>NaN</td>\n",
       "      <td>NaN</td>\n",
       "    </tr>\n",
       "    <tr>\n",
       "      <th>15677</th>\n",
       "      <td>1950-09-02</td>\n",
       "      <td>108</td>\n",
       "      <td>NaN</td>\n",
       "      <td>NaN</td>\n",
       "      <td>NaN</td>\n",
       "    </tr>\n",
       "    <tr>\n",
       "      <th>15678</th>\n",
       "      <td>1950-09-03</td>\n",
       "      <td>108</td>\n",
       "      <td>NaN</td>\n",
       "      <td>NaN</td>\n",
       "      <td>NaN</td>\n",
       "    </tr>\n",
       "    <tr>\n",
       "      <th>15679</th>\n",
       "      <td>1950-09-04</td>\n",
       "      <td>108</td>\n",
       "      <td>NaN</td>\n",
       "      <td>NaN</td>\n",
       "      <td>NaN</td>\n",
       "    </tr>\n",
       "    <tr>\n",
       "      <th>15680</th>\n",
       "      <td>1950-09-05</td>\n",
       "      <td>108</td>\n",
       "      <td>NaN</td>\n",
       "      <td>NaN</td>\n",
       "      <td>NaN</td>\n",
       "    </tr>\n",
       "    <tr>\n",
       "      <th>...</th>\n",
       "      <td>...</td>\n",
       "      <td>...</td>\n",
       "      <td>...</td>\n",
       "      <td>...</td>\n",
       "      <td>...</td>\n",
       "    </tr>\n",
       "    <tr>\n",
       "      <th>16430</th>\n",
       "      <td>1953-11-29</td>\n",
       "      <td>108</td>\n",
       "      <td>NaN</td>\n",
       "      <td>NaN</td>\n",
       "      <td>NaN</td>\n",
       "    </tr>\n",
       "    <tr>\n",
       "      <th>16431</th>\n",
       "      <td>1953-11-30</td>\n",
       "      <td>108</td>\n",
       "      <td>NaN</td>\n",
       "      <td>NaN</td>\n",
       "      <td>NaN</td>\n",
       "    </tr>\n",
       "    <tr>\n",
       "      <th>21260</th>\n",
       "      <td>1967-02-19</td>\n",
       "      <td>108</td>\n",
       "      <td>-1.7</td>\n",
       "      <td>NaN</td>\n",
       "      <td>NaN</td>\n",
       "    </tr>\n",
       "    <tr>\n",
       "      <th>23691</th>\n",
       "      <td>1973-10-16</td>\n",
       "      <td>108</td>\n",
       "      <td>12.3</td>\n",
       "      <td>NaN</td>\n",
       "      <td>NaN</td>\n",
       "    </tr>\n",
       "    <tr>\n",
       "      <th>41519</th>\n",
       "      <td>2022-08-08</td>\n",
       "      <td>108</td>\n",
       "      <td>26.8</td>\n",
       "      <td>NaN</td>\n",
       "      <td>28.4</td>\n",
       "    </tr>\n",
       "  </tbody>\n",
       "</table>\n",
       "<p>759 rows × 5 columns</p>\n",
       "</div>"
      ],
      "text/plain": [
       "               날짜   지점  평균기온(℃)  최저기온(℃)  최고기온(℃)\n",
       "15676  1950-09-01  108      NaN      NaN      NaN\n",
       "15677  1950-09-02  108      NaN      NaN      NaN\n",
       "15678  1950-09-03  108      NaN      NaN      NaN\n",
       "15679  1950-09-04  108      NaN      NaN      NaN\n",
       "15680  1950-09-05  108      NaN      NaN      NaN\n",
       "...           ...  ...      ...      ...      ...\n",
       "16430  1953-11-29  108      NaN      NaN      NaN\n",
       "16431  1953-11-30  108      NaN      NaN      NaN\n",
       "21260  1967-02-19  108     -1.7      NaN      NaN\n",
       "23691  1973-10-16  108     12.3      NaN      NaN\n",
       "41519  2022-08-08  108     26.8      NaN     28.4\n",
       "\n",
       "[759 rows x 5 columns]"
      ]
     },
     "execution_count": 11,
     "metadata": {},
     "output_type": "execute_result"
    }
   ],
   "source": [
    "df[df[\"최저기온(℃)\"].isna()]"
   ]
  },
  {
   "cell_type": "code",
   "execution_count": 14,
   "id": "a65edfa6",
   "metadata": {},
   "outputs": [
    {
     "data": {
      "text/html": [
       "<div>\n",
       "<style scoped>\n",
       "    .dataframe tbody tr th:only-of-type {\n",
       "        vertical-align: middle;\n",
       "    }\n",
       "\n",
       "    .dataframe tbody tr th {\n",
       "        vertical-align: top;\n",
       "    }\n",
       "\n",
       "    .dataframe thead th {\n",
       "        text-align: right;\n",
       "    }\n",
       "</style>\n",
       "<table border=\"1\" class=\"dataframe\">\n",
       "  <thead>\n",
       "    <tr style=\"text-align: right;\">\n",
       "      <th></th>\n",
       "      <th>날짜</th>\n",
       "      <th>지점</th>\n",
       "      <th>평균기온(℃)</th>\n",
       "      <th>최저기온(℃)</th>\n",
       "      <th>최고기온(℃)</th>\n",
       "    </tr>\n",
       "  </thead>\n",
       "  <tbody>\n",
       "    <tr>\n",
       "      <th>15676</th>\n",
       "      <td>1950-09-01</td>\n",
       "      <td>108</td>\n",
       "      <td>NaN</td>\n",
       "      <td>NaN</td>\n",
       "      <td>NaN</td>\n",
       "    </tr>\n",
       "    <tr>\n",
       "      <th>15677</th>\n",
       "      <td>1950-09-02</td>\n",
       "      <td>108</td>\n",
       "      <td>NaN</td>\n",
       "      <td>NaN</td>\n",
       "      <td>NaN</td>\n",
       "    </tr>\n",
       "    <tr>\n",
       "      <th>15678</th>\n",
       "      <td>1950-09-03</td>\n",
       "      <td>108</td>\n",
       "      <td>NaN</td>\n",
       "      <td>NaN</td>\n",
       "      <td>NaN</td>\n",
       "    </tr>\n",
       "    <tr>\n",
       "      <th>15679</th>\n",
       "      <td>1950-09-04</td>\n",
       "      <td>108</td>\n",
       "      <td>NaN</td>\n",
       "      <td>NaN</td>\n",
       "      <td>NaN</td>\n",
       "    </tr>\n",
       "    <tr>\n",
       "      <th>15680</th>\n",
       "      <td>1950-09-05</td>\n",
       "      <td>108</td>\n",
       "      <td>NaN</td>\n",
       "      <td>NaN</td>\n",
       "      <td>NaN</td>\n",
       "    </tr>\n",
       "    <tr>\n",
       "      <th>...</th>\n",
       "      <td>...</td>\n",
       "      <td>...</td>\n",
       "      <td>...</td>\n",
       "      <td>...</td>\n",
       "      <td>...</td>\n",
       "    </tr>\n",
       "    <tr>\n",
       "      <th>16430</th>\n",
       "      <td>1953-11-29</td>\n",
       "      <td>108</td>\n",
       "      <td>NaN</td>\n",
       "      <td>NaN</td>\n",
       "      <td>NaN</td>\n",
       "    </tr>\n",
       "    <tr>\n",
       "      <th>16431</th>\n",
       "      <td>1953-11-30</td>\n",
       "      <td>108</td>\n",
       "      <td>NaN</td>\n",
       "      <td>NaN</td>\n",
       "      <td>NaN</td>\n",
       "    </tr>\n",
       "    <tr>\n",
       "      <th>21260</th>\n",
       "      <td>1967-02-19</td>\n",
       "      <td>108</td>\n",
       "      <td>-1.7</td>\n",
       "      <td>NaN</td>\n",
       "      <td>NaN</td>\n",
       "    </tr>\n",
       "    <tr>\n",
       "      <th>23691</th>\n",
       "      <td>1973-10-16</td>\n",
       "      <td>108</td>\n",
       "      <td>12.3</td>\n",
       "      <td>NaN</td>\n",
       "      <td>NaN</td>\n",
       "    </tr>\n",
       "    <tr>\n",
       "      <th>39758</th>\n",
       "      <td>2017-10-12</td>\n",
       "      <td>108</td>\n",
       "      <td>11.4</td>\n",
       "      <td>8.8</td>\n",
       "      <td>NaN</td>\n",
       "    </tr>\n",
       "  </tbody>\n",
       "</table>\n",
       "<p>759 rows × 5 columns</p>\n",
       "</div>"
      ],
      "text/plain": [
       "               날짜   지점  평균기온(℃)  최저기온(℃)  최고기온(℃)\n",
       "15676  1950-09-01  108      NaN      NaN      NaN\n",
       "15677  1950-09-02  108      NaN      NaN      NaN\n",
       "15678  1950-09-03  108      NaN      NaN      NaN\n",
       "15679  1950-09-04  108      NaN      NaN      NaN\n",
       "15680  1950-09-05  108      NaN      NaN      NaN\n",
       "...           ...  ...      ...      ...      ...\n",
       "16430  1953-11-29  108      NaN      NaN      NaN\n",
       "16431  1953-11-30  108      NaN      NaN      NaN\n",
       "21260  1967-02-19  108     -1.7      NaN      NaN\n",
       "23691  1973-10-16  108     12.3      NaN      NaN\n",
       "39758  2017-10-12  108     11.4      8.8      NaN\n",
       "\n",
       "[759 rows x 5 columns]"
      ]
     },
     "execution_count": 14,
     "metadata": {},
     "output_type": "execute_result"
    }
   ],
   "source": [
    "df[df[\"최고기온(℃)\"].isna()]"
   ]
  },
  {
   "cell_type": "markdown",
   "id": "5244cdf3",
   "metadata": {},
   "source": [
    "- 1950년에 6.25 전쟁으로 당시 데이터가 수집되지 않은 것으로 추정\n",
    "    - 1950/06/25 ~ 1953/07/27"
   ]
  },
  {
   "cell_type": "code",
   "execution_count": 15,
   "id": "36e83f8f",
   "metadata": {},
   "outputs": [
    {
     "data": {
      "text/plain": [
       "Index(['날짜', '지점', '평균기온(℃)', '최저기온(℃)', '최고기온(℃)'], dtype='object')"
      ]
     },
     "execution_count": 15,
     "metadata": {},
     "output_type": "execute_result"
    }
   ],
   "source": [
    "df.columns"
   ]
  },
  {
   "cell_type": "code",
   "execution_count": 16,
   "id": "44ad4332",
   "metadata": {},
   "outputs": [],
   "source": [
    "df.columns = [\"날짜\", \"지점\", \"평균기온\", \"최저기온\", \"최고기온\"]"
   ]
  },
  {
   "cell_type": "code",
   "execution_count": 17,
   "id": "e8f4a82a",
   "metadata": {},
   "outputs": [
    {
     "data": {
      "text/html": [
       "<div>\n",
       "<style scoped>\n",
       "    .dataframe tbody tr th:only-of-type {\n",
       "        vertical-align: middle;\n",
       "    }\n",
       "\n",
       "    .dataframe tbody tr th {\n",
       "        vertical-align: top;\n",
       "    }\n",
       "\n",
       "    .dataframe thead th {\n",
       "        text-align: right;\n",
       "    }\n",
       "</style>\n",
       "<table border=\"1\" class=\"dataframe\">\n",
       "  <thead>\n",
       "    <tr style=\"text-align: right;\">\n",
       "      <th></th>\n",
       "      <th>날짜</th>\n",
       "      <th>지점</th>\n",
       "      <th>평균기온</th>\n",
       "      <th>최저기온</th>\n",
       "      <th>최고기온</th>\n",
       "    </tr>\n",
       "  </thead>\n",
       "  <tbody>\n",
       "    <tr>\n",
       "      <th>0</th>\n",
       "      <td>1907-10-01</td>\n",
       "      <td>108</td>\n",
       "      <td>13.5</td>\n",
       "      <td>7.9</td>\n",
       "      <td>20.7</td>\n",
       "    </tr>\n",
       "    <tr>\n",
       "      <th>1</th>\n",
       "      <td>1907-10-02</td>\n",
       "      <td>108</td>\n",
       "      <td>16.2</td>\n",
       "      <td>7.9</td>\n",
       "      <td>22.0</td>\n",
       "    </tr>\n",
       "    <tr>\n",
       "      <th>2</th>\n",
       "      <td>1907-10-03</td>\n",
       "      <td>108</td>\n",
       "      <td>16.2</td>\n",
       "      <td>13.1</td>\n",
       "      <td>21.3</td>\n",
       "    </tr>\n",
       "    <tr>\n",
       "      <th>3</th>\n",
       "      <td>1907-10-04</td>\n",
       "      <td>108</td>\n",
       "      <td>16.5</td>\n",
       "      <td>11.2</td>\n",
       "      <td>22.0</td>\n",
       "    </tr>\n",
       "    <tr>\n",
       "      <th>4</th>\n",
       "      <td>1907-10-05</td>\n",
       "      <td>108</td>\n",
       "      <td>17.6</td>\n",
       "      <td>10.9</td>\n",
       "      <td>25.4</td>\n",
       "    </tr>\n",
       "  </tbody>\n",
       "</table>\n",
       "</div>"
      ],
      "text/plain": [
       "           날짜   지점  평균기온  최저기온  최고기온\n",
       "0  1907-10-01  108  13.5   7.9  20.7\n",
       "1  1907-10-02  108  16.2   7.9  22.0\n",
       "2  1907-10-03  108  16.2  13.1  21.3\n",
       "3  1907-10-04  108  16.5  11.2  22.0\n",
       "4  1907-10-05  108  17.6  10.9  25.4"
      ]
     },
     "execution_count": 17,
     "metadata": {},
     "output_type": "execute_result"
    }
   ],
   "source": [
    "df.head()"
   ]
  },
  {
   "cell_type": "markdown",
   "id": "164c96d0",
   "metadata": {},
   "source": [
    "# 데이터 분석"
   ]
  },
  {
   "cell_type": "markdown",
   "id": "b8ff2b03",
   "metadata": {},
   "source": [
    "## 서울이 가장 더웠던 날\n",
    "\n",
    "- 서울의 최고기온이 가장 높았던 날"
   ]
  },
  {
   "cell_type": "code",
   "execution_count": 18,
   "id": "ed0de93b",
   "metadata": {},
   "outputs": [
    {
     "data": {
      "text/plain": [
       "39.6"
      ]
     },
     "execution_count": 18,
     "metadata": {},
     "output_type": "execute_result"
    }
   ],
   "source": [
    "df[\"최고기온\"].max()"
   ]
  },
  {
   "cell_type": "code",
   "execution_count": 20,
   "id": "73b428c9",
   "metadata": {},
   "outputs": [
    {
     "data": {
      "text/plain": [
       "40051"
      ]
     },
     "execution_count": 20,
     "metadata": {},
     "output_type": "execute_result"
    }
   ],
   "source": [
    "df[\"최고기온\"].idxmax()"
   ]
  },
  {
   "cell_type": "code",
   "execution_count": 21,
   "id": "dc49d512",
   "metadata": {},
   "outputs": [
    {
     "data": {
      "text/plain": [
       "날짜      2018-08-01\n",
       "지점             108\n",
       "평균기온          33.6\n",
       "최저기온          27.8\n",
       "최고기온          39.6\n",
       "Name: 40051, dtype: object"
      ]
     },
     "execution_count": 21,
     "metadata": {},
     "output_type": "execute_result"
    }
   ],
   "source": [
    "df.loc[40051]"
   ]
  },
  {
   "cell_type": "code",
   "execution_count": 22,
   "id": "629accb8",
   "metadata": {},
   "outputs": [
    {
     "data": {
      "text/html": [
       "<div>\n",
       "<style scoped>\n",
       "    .dataframe tbody tr th:only-of-type {\n",
       "        vertical-align: middle;\n",
       "    }\n",
       "\n",
       "    .dataframe tbody tr th {\n",
       "        vertical-align: top;\n",
       "    }\n",
       "\n",
       "    .dataframe thead th {\n",
       "        text-align: right;\n",
       "    }\n",
       "</style>\n",
       "<table border=\"1\" class=\"dataframe\">\n",
       "  <thead>\n",
       "    <tr style=\"text-align: right;\">\n",
       "      <th></th>\n",
       "      <th>날짜</th>\n",
       "      <th>지점</th>\n",
       "      <th>평균기온</th>\n",
       "      <th>최저기온</th>\n",
       "      <th>최고기온</th>\n",
       "    </tr>\n",
       "  </thead>\n",
       "  <tbody>\n",
       "    <tr>\n",
       "      <th>40051</th>\n",
       "      <td>2018-08-01</td>\n",
       "      <td>108</td>\n",
       "      <td>33.6</td>\n",
       "      <td>27.8</td>\n",
       "      <td>39.6</td>\n",
       "    </tr>\n",
       "    <tr>\n",
       "      <th>31277</th>\n",
       "      <td>1994-07-24</td>\n",
       "      <td>108</td>\n",
       "      <td>33.1</td>\n",
       "      <td>28.1</td>\n",
       "      <td>38.4</td>\n",
       "    </tr>\n",
       "    <tr>\n",
       "      <th>40050</th>\n",
       "      <td>2018-07-31</td>\n",
       "      <td>108</td>\n",
       "      <td>32.6</td>\n",
       "      <td>27.8</td>\n",
       "      <td>38.3</td>\n",
       "    </tr>\n",
       "    <tr>\n",
       "      <th>31276</th>\n",
       "      <td>1994-07-23</td>\n",
       "      <td>108</td>\n",
       "      <td>32.6</td>\n",
       "      <td>28.0</td>\n",
       "      <td>38.2</td>\n",
       "    </tr>\n",
       "    <tr>\n",
       "      <th>13111</th>\n",
       "      <td>1943-08-24</td>\n",
       "      <td>108</td>\n",
       "      <td>29.0</td>\n",
       "      <td>23.2</td>\n",
       "      <td>38.2</td>\n",
       "    </tr>\n",
       "    <tr>\n",
       "      <th>...</th>\n",
       "      <td>...</td>\n",
       "      <td>...</td>\n",
       "      <td>...</td>\n",
       "      <td>...</td>\n",
       "      <td>...</td>\n",
       "    </tr>\n",
       "    <tr>\n",
       "      <th>16430</th>\n",
       "      <td>1953-11-29</td>\n",
       "      <td>108</td>\n",
       "      <td>NaN</td>\n",
       "      <td>NaN</td>\n",
       "      <td>NaN</td>\n",
       "    </tr>\n",
       "    <tr>\n",
       "      <th>16431</th>\n",
       "      <td>1953-11-30</td>\n",
       "      <td>108</td>\n",
       "      <td>NaN</td>\n",
       "      <td>NaN</td>\n",
       "      <td>NaN</td>\n",
       "    </tr>\n",
       "    <tr>\n",
       "      <th>21260</th>\n",
       "      <td>1967-02-19</td>\n",
       "      <td>108</td>\n",
       "      <td>-1.7</td>\n",
       "      <td>NaN</td>\n",
       "      <td>NaN</td>\n",
       "    </tr>\n",
       "    <tr>\n",
       "      <th>23691</th>\n",
       "      <td>1973-10-16</td>\n",
       "      <td>108</td>\n",
       "      <td>12.3</td>\n",
       "      <td>NaN</td>\n",
       "      <td>NaN</td>\n",
       "    </tr>\n",
       "    <tr>\n",
       "      <th>39758</th>\n",
       "      <td>2017-10-12</td>\n",
       "      <td>108</td>\n",
       "      <td>11.4</td>\n",
       "      <td>8.8</td>\n",
       "      <td>NaN</td>\n",
       "    </tr>\n",
       "  </tbody>\n",
       "</table>\n",
       "<p>42095 rows × 5 columns</p>\n",
       "</div>"
      ],
      "text/plain": [
       "               날짜   지점  평균기온  최저기온  최고기온\n",
       "40051  2018-08-01  108  33.6  27.8  39.6\n",
       "31277  1994-07-24  108  33.1  28.1  38.4\n",
       "40050  2018-07-31  108  32.6  27.8  38.3\n",
       "31276  1994-07-23  108  32.6  28.0  38.2\n",
       "13111  1943-08-24  108  29.0  23.2  38.2\n",
       "...           ...  ...   ...   ...   ...\n",
       "16430  1953-11-29  108   NaN   NaN   NaN\n",
       "16431  1953-11-30  108   NaN   NaN   NaN\n",
       "21260  1967-02-19  108  -1.7   NaN   NaN\n",
       "23691  1973-10-16  108  12.3   NaN   NaN\n",
       "39758  2017-10-12  108  11.4   8.8   NaN\n",
       "\n",
       "[42095 rows x 5 columns]"
      ]
     },
     "execution_count": 22,
     "metadata": {},
     "output_type": "execute_result"
    }
   ],
   "source": [
    "df.sort_values(by = \"최고기온\", ascending = False)"
   ]
  },
  {
   "cell_type": "markdown",
   "id": "b235fd75",
   "metadata": {},
   "source": [
    "##  내 생일의 기온 변화"
   ]
  },
  {
   "cell_type": "code",
   "execution_count": 23,
   "id": "75569b87",
   "metadata": {},
   "outputs": [
    {
     "data": {
      "text/html": [
       "<div>\n",
       "<style scoped>\n",
       "    .dataframe tbody tr th:only-of-type {\n",
       "        vertical-align: middle;\n",
       "    }\n",
       "\n",
       "    .dataframe tbody tr th {\n",
       "        vertical-align: top;\n",
       "    }\n",
       "\n",
       "    .dataframe thead th {\n",
       "        text-align: right;\n",
       "    }\n",
       "</style>\n",
       "<table border=\"1\" class=\"dataframe\">\n",
       "  <thead>\n",
       "    <tr style=\"text-align: right;\">\n",
       "      <th></th>\n",
       "      <th>날짜</th>\n",
       "      <th>지점</th>\n",
       "      <th>평균기온</th>\n",
       "      <th>최저기온</th>\n",
       "      <th>최고기온</th>\n",
       "    </tr>\n",
       "  </thead>\n",
       "  <tbody>\n",
       "    <tr>\n",
       "      <th>320</th>\n",
       "      <td>1908-08-16</td>\n",
       "      <td>108</td>\n",
       "      <td>25.2</td>\n",
       "      <td>21.1</td>\n",
       "      <td>31.7</td>\n",
       "    </tr>\n",
       "    <tr>\n",
       "      <th>685</th>\n",
       "      <td>1909-08-16</td>\n",
       "      <td>108</td>\n",
       "      <td>22.5</td>\n",
       "      <td>20.4</td>\n",
       "      <td>25.3</td>\n",
       "    </tr>\n",
       "    <tr>\n",
       "      <th>1050</th>\n",
       "      <td>1910-08-16</td>\n",
       "      <td>108</td>\n",
       "      <td>22.7</td>\n",
       "      <td>19.5</td>\n",
       "      <td>28.1</td>\n",
       "    </tr>\n",
       "    <tr>\n",
       "      <th>1415</th>\n",
       "      <td>1911-08-16</td>\n",
       "      <td>108</td>\n",
       "      <td>25.3</td>\n",
       "      <td>19.8</td>\n",
       "      <td>32.4</td>\n",
       "    </tr>\n",
       "    <tr>\n",
       "      <th>1781</th>\n",
       "      <td>1912-08-16</td>\n",
       "      <td>108</td>\n",
       "      <td>22.0</td>\n",
       "      <td>21.4</td>\n",
       "      <td>24.9</td>\n",
       "    </tr>\n",
       "    <tr>\n",
       "      <th>...</th>\n",
       "      <td>...</td>\n",
       "      <td>...</td>\n",
       "      <td>...</td>\n",
       "      <td>...</td>\n",
       "      <td>...</td>\n",
       "    </tr>\n",
       "    <tr>\n",
       "      <th>40431</th>\n",
       "      <td>2019-08-16</td>\n",
       "      <td>108</td>\n",
       "      <td>25.9</td>\n",
       "      <td>23.0</td>\n",
       "      <td>29.5</td>\n",
       "    </tr>\n",
       "    <tr>\n",
       "      <th>40797</th>\n",
       "      <td>2020-08-16</td>\n",
       "      <td>108</td>\n",
       "      <td>27.4</td>\n",
       "      <td>25.3</td>\n",
       "      <td>30.8</td>\n",
       "    </tr>\n",
       "    <tr>\n",
       "      <th>41162</th>\n",
       "      <td>2021-08-16</td>\n",
       "      <td>108</td>\n",
       "      <td>27.3</td>\n",
       "      <td>22.5</td>\n",
       "      <td>32.8</td>\n",
       "    </tr>\n",
       "    <tr>\n",
       "      <th>41527</th>\n",
       "      <td>2022-08-16</td>\n",
       "      <td>108</td>\n",
       "      <td>26.7</td>\n",
       "      <td>24.1</td>\n",
       "      <td>30.0</td>\n",
       "    </tr>\n",
       "    <tr>\n",
       "      <th>41892</th>\n",
       "      <td>2023-08-16</td>\n",
       "      <td>108</td>\n",
       "      <td>27.3</td>\n",
       "      <td>24.7</td>\n",
       "      <td>31.6</td>\n",
       "    </tr>\n",
       "  </tbody>\n",
       "</table>\n",
       "<p>114 rows × 5 columns</p>\n",
       "</div>"
      ],
      "text/plain": [
       "               날짜   지점  평균기온  최저기온  최고기온\n",
       "320    1908-08-16  108  25.2  21.1  31.7\n",
       "685    1909-08-16  108  22.5  20.4  25.3\n",
       "1050   1910-08-16  108  22.7  19.5  28.1\n",
       "1415   1911-08-16  108  25.3  19.8  32.4\n",
       "1781   1912-08-16  108  22.0  21.4  24.9\n",
       "...           ...  ...   ...   ...   ...\n",
       "40431  2019-08-16  108  25.9  23.0  29.5\n",
       "40797  2020-08-16  108  27.4  25.3  30.8\n",
       "41162  2021-08-16  108  27.3  22.5  32.8\n",
       "41527  2022-08-16  108  26.7  24.1  30.0\n",
       "41892  2023-08-16  108  27.3  24.7  31.6\n",
       "\n",
       "[114 rows x 5 columns]"
      ]
     },
     "execution_count": 23,
     "metadata": {},
     "output_type": "execute_result"
    }
   ],
   "source": [
    "#  생일 데이터 추철 ver1\n",
    "df[df[\"날짜\"].str.endswith(\"08-16\")]"
   ]
  },
  {
   "cell_type": "code",
   "execution_count": 24,
   "id": "7a40704e",
   "metadata": {},
   "outputs": [],
   "source": [
    "# 생일 데이터 추출 ver2\n",
    "ndf = df.copy()"
   ]
  },
  {
   "cell_type": "code",
   "execution_count": 26,
   "id": "46df687a",
   "metadata": {},
   "outputs": [],
   "source": [
    "ndf[\"date\"] = pd.to_datetime(df[\"날짜\"])"
   ]
  },
  {
   "cell_type": "code",
   "execution_count": 27,
   "id": "979d41c8",
   "metadata": {},
   "outputs": [
    {
     "data": {
      "text/html": [
       "<div>\n",
       "<style scoped>\n",
       "    .dataframe tbody tr th:only-of-type {\n",
       "        vertical-align: middle;\n",
       "    }\n",
       "\n",
       "    .dataframe tbody tr th {\n",
       "        vertical-align: top;\n",
       "    }\n",
       "\n",
       "    .dataframe thead th {\n",
       "        text-align: right;\n",
       "    }\n",
       "</style>\n",
       "<table border=\"1\" class=\"dataframe\">\n",
       "  <thead>\n",
       "    <tr style=\"text-align: right;\">\n",
       "      <th></th>\n",
       "      <th>날짜</th>\n",
       "      <th>지점</th>\n",
       "      <th>평균기온</th>\n",
       "      <th>최저기온</th>\n",
       "      <th>최고기온</th>\n",
       "      <th>date</th>\n",
       "    </tr>\n",
       "  </thead>\n",
       "  <tbody>\n",
       "    <tr>\n",
       "      <th>0</th>\n",
       "      <td>1907-10-01</td>\n",
       "      <td>108</td>\n",
       "      <td>13.5</td>\n",
       "      <td>7.9</td>\n",
       "      <td>20.7</td>\n",
       "      <td>1907-10-01</td>\n",
       "    </tr>\n",
       "    <tr>\n",
       "      <th>1</th>\n",
       "      <td>1907-10-02</td>\n",
       "      <td>108</td>\n",
       "      <td>16.2</td>\n",
       "      <td>7.9</td>\n",
       "      <td>22.0</td>\n",
       "      <td>1907-10-02</td>\n",
       "    </tr>\n",
       "    <tr>\n",
       "      <th>2</th>\n",
       "      <td>1907-10-03</td>\n",
       "      <td>108</td>\n",
       "      <td>16.2</td>\n",
       "      <td>13.1</td>\n",
       "      <td>21.3</td>\n",
       "      <td>1907-10-03</td>\n",
       "    </tr>\n",
       "    <tr>\n",
       "      <th>3</th>\n",
       "      <td>1907-10-04</td>\n",
       "      <td>108</td>\n",
       "      <td>16.5</td>\n",
       "      <td>11.2</td>\n",
       "      <td>22.0</td>\n",
       "      <td>1907-10-04</td>\n",
       "    </tr>\n",
       "    <tr>\n",
       "      <th>4</th>\n",
       "      <td>1907-10-05</td>\n",
       "      <td>108</td>\n",
       "      <td>17.6</td>\n",
       "      <td>10.9</td>\n",
       "      <td>25.4</td>\n",
       "      <td>1907-10-05</td>\n",
       "    </tr>\n",
       "  </tbody>\n",
       "</table>\n",
       "</div>"
      ],
      "text/plain": [
       "           날짜   지점  평균기온  최저기온  최고기온       date\n",
       "0  1907-10-01  108  13.5   7.9  20.7 1907-10-01\n",
       "1  1907-10-02  108  16.2   7.9  22.0 1907-10-02\n",
       "2  1907-10-03  108  16.2  13.1  21.3 1907-10-03\n",
       "3  1907-10-04  108  16.5  11.2  22.0 1907-10-04\n",
       "4  1907-10-05  108  17.6  10.9  25.4 1907-10-05"
      ]
     },
     "execution_count": 27,
     "metadata": {},
     "output_type": "execute_result"
    }
   ],
   "source": [
    "ndf.head()"
   ]
  },
  {
   "cell_type": "code",
   "execution_count": 30,
   "id": "ef3a83a3",
   "metadata": {},
   "outputs": [],
   "source": [
    "birthday_df = ndf[(ndf[\"date\"].dt.month == 8) & (ndf[\"date\"].dt.day == 16)]"
   ]
  },
  {
   "cell_type": "code",
   "execution_count": 38,
   "id": "0d87b880",
   "metadata": {},
   "outputs": [
    {
     "data": {
      "text/html": [
       "<div>\n",
       "<style scoped>\n",
       "    .dataframe tbody tr th:only-of-type {\n",
       "        vertical-align: middle;\n",
       "    }\n",
       "\n",
       "    .dataframe tbody tr th {\n",
       "        vertical-align: top;\n",
       "    }\n",
       "\n",
       "    .dataframe thead th {\n",
       "        text-align: right;\n",
       "    }\n",
       "</style>\n",
       "<table border=\"1\" class=\"dataframe\">\n",
       "  <thead>\n",
       "    <tr style=\"text-align: right;\">\n",
       "      <th></th>\n",
       "      <th>날짜</th>\n",
       "      <th>지점</th>\n",
       "      <th>평균기온</th>\n",
       "      <th>최저기온</th>\n",
       "      <th>최고기온</th>\n",
       "      <th>date</th>\n",
       "    </tr>\n",
       "  </thead>\n",
       "  <tbody>\n",
       "    <tr>\n",
       "      <th>320</th>\n",
       "      <td>1908-08-16</td>\n",
       "      <td>108</td>\n",
       "      <td>25.2</td>\n",
       "      <td>21.1</td>\n",
       "      <td>31.7</td>\n",
       "      <td>1908-08-16</td>\n",
       "    </tr>\n",
       "    <tr>\n",
       "      <th>685</th>\n",
       "      <td>1909-08-16</td>\n",
       "      <td>108</td>\n",
       "      <td>22.5</td>\n",
       "      <td>20.4</td>\n",
       "      <td>25.3</td>\n",
       "      <td>1909-08-16</td>\n",
       "    </tr>\n",
       "    <tr>\n",
       "      <th>1050</th>\n",
       "      <td>1910-08-16</td>\n",
       "      <td>108</td>\n",
       "      <td>22.7</td>\n",
       "      <td>19.5</td>\n",
       "      <td>28.1</td>\n",
       "      <td>1910-08-16</td>\n",
       "    </tr>\n",
       "    <tr>\n",
       "      <th>1415</th>\n",
       "      <td>1911-08-16</td>\n",
       "      <td>108</td>\n",
       "      <td>25.3</td>\n",
       "      <td>19.8</td>\n",
       "      <td>32.4</td>\n",
       "      <td>1911-08-16</td>\n",
       "    </tr>\n",
       "    <tr>\n",
       "      <th>1781</th>\n",
       "      <td>1912-08-16</td>\n",
       "      <td>108</td>\n",
       "      <td>22.0</td>\n",
       "      <td>21.4</td>\n",
       "      <td>24.9</td>\n",
       "      <td>1912-08-16</td>\n",
       "    </tr>\n",
       "  </tbody>\n",
       "</table>\n",
       "</div>"
      ],
      "text/plain": [
       "              날짜   지점  평균기온  최저기온  최고기온       date\n",
       "320   1908-08-16  108  25.2  21.1  31.7 1908-08-16\n",
       "685   1909-08-16  108  22.5  20.4  25.3 1909-08-16\n",
       "1050  1910-08-16  108  22.7  19.5  28.1 1910-08-16\n",
       "1415  1911-08-16  108  25.3  19.8  32.4 1911-08-16\n",
       "1781  1912-08-16  108  22.0  21.4  24.9 1912-08-16"
      ]
     },
     "execution_count": 38,
     "metadata": {},
     "output_type": "execute_result"
    }
   ],
   "source": [
    "birthday_df.head()"
   ]
  },
  {
   "cell_type": "code",
   "execution_count": 33,
   "id": "8196eb39",
   "metadata": {},
   "outputs": [
    {
     "data": {
      "image/png": "[encoded data removed]",
      "text/plain": [
       "<Figure size 2000x1000 with 1 Axes>"
      ]
     },
     "metadata": {},
     "output_type": "display_data"
    }
   ],
   "source": [
    "# 시각화\n",
    "fig = plt.figure(figsize = (20, 10))\n",
    "ax = fig.add_subplot(1, 1, 1)\n",
    "\n",
    "ax.plot(birthday_df[\"date\"].dt.year, birthday_df[\"최고기온\"], \"hotpink\", label = \"최고기온\")\n",
    "ax.plot(birthday_df[\"date\"].dt.year, birthday_df[\"최저기온\"], \"skyblue\", label = \"최저기온\")\n",
    "ax.legend()\n",
    "ax.set_title(\"내 생일의 기온 변화 그래프\", size = 20)\n",
    "\n",
    "plt.show()"
   ]
  },
  {
   "cell_type": "code",
   "execution_count": 35,
   "id": "5df73d30",
   "metadata": {},
   "outputs": [
    {
     "data": {
      "image/png": "[encoded data removed]",
      "text/plain": [
       "<Figure size 2000x1000 with 1 Axes>"
      ]
     },
     "metadata": {},
     "output_type": "display_data"
    }
   ],
   "source": [
    "fig = plt.figure(figsize = (20, 10))\n",
    "ax = fig.add_subplot(1, 1, 1)\n",
    "\n",
    "ax.hist(birthday_df[\"최고기온\"], color = \"brown\")\n",
    "ax.set_title(\"생일 최고 기온 히스토그램\", size = 20)\n",
    "plt.show()"
   ]
  },
  {
   "cell_type": "code",
   "execution_count": 39,
   "id": "0473a7c6",
   "metadata": {},
   "outputs": [
    {
     "data": {
      "image/png": "[encoded data removed]",
      "text/plain": [
       "<Figure size 2000x1000 with 1 Axes>"
      ]
     },
     "metadata": {},
     "output_type": "display_data"
    }
   ],
   "source": [
    "fig = plt.figure(figsize= (20, 10))\n",
    "ax = fig.add_subplot(1, 1, 1)\n",
    "\n",
    "ax.boxplot(birthday_df[\"최고기온\"].dropna())\n",
    "ax.set_title(\"생일 최고 기온 상자 수염 그림\", size = 20)\n",
    "plt.show()"
   ]
  },
  {
   "cell_type": "code",
   "execution_count": 40,
   "id": "1ea20d82",
   "metadata": {},
   "outputs": [
    {
     "data": {
      "text/plain": [
       "4.199999999999996"
      ]
     },
     "execution_count": 40,
     "metadata": {},
     "output_type": "execute_result"
    }
   ],
   "source": [
    "iqr = np.subtract(*np.percentile(birthday_df[\"최고기온\"].dropna(), [75, 25]))\n",
    "iqr"
   ]
  },
  {
   "cell_type": "code",
   "execution_count": 43,
   "id": "1860d973",
   "metadata": {},
   "outputs": [
    {
     "data": {
      "text/plain": [
       "(32.3, 28.1)"
      ]
     },
     "execution_count": 43,
     "metadata": {},
     "output_type": "execute_result"
    }
   ],
   "source": [
    "q3, q1 = np.percentile(birthday_df[\"최고기온\"].dropna(), [75, 25])\n",
    "q3, q1"
   ]
  },
  {
   "cell_type": "code",
   "execution_count": 44,
   "id": "6aa84ecc",
   "metadata": {},
   "outputs": [
    {
     "data": {
      "text/plain": [
       "21.800000000000008"
      ]
     },
     "execution_count": 44,
     "metadata": {},
     "output_type": "execute_result"
    }
   ],
   "source": [
    "outlier = q1 - (1.5 * iqr)\n",
    "outlier"
   ]
  },
  {
   "cell_type": "code",
   "execution_count": 45,
   "id": "aa637953",
   "metadata": {},
   "outputs": [
    {
     "data": {
      "text/html": [
       "<div>\n",
       "<style scoped>\n",
       "    .dataframe tbody tr th:only-of-type {\n",
       "        vertical-align: middle;\n",
       "    }\n",
       "\n",
       "    .dataframe tbody tr th {\n",
       "        vertical-align: top;\n",
       "    }\n",
       "\n",
       "    .dataframe thead th {\n",
       "        text-align: right;\n",
       "    }\n",
       "</style>\n",
       "<table border=\"1\" class=\"dataframe\">\n",
       "  <thead>\n",
       "    <tr style=\"text-align: right;\">\n",
       "      <th></th>\n",
       "      <th>날짜</th>\n",
       "      <th>지점</th>\n",
       "      <th>평균기온</th>\n",
       "      <th>최저기온</th>\n",
       "      <th>최고기온</th>\n",
       "      <th>date</th>\n",
       "    </tr>\n",
       "  </thead>\n",
       "  <tbody>\n",
       "  </tbody>\n",
       "</table>\n",
       "</div>"
      ],
      "text/plain": [
       "Empty DataFrame\n",
       "Columns: [날짜, 지점, 평균기온, 최저기온, 최고기온, date]\n",
       "Index: []"
      ]
     },
     "execution_count": 45,
     "metadata": {},
     "output_type": "execute_result"
    }
   ],
   "source": [
    "birthday_df[birthday_df[\"최고기온\"] < outlier]"
   ]
  },
  {
   "cell_type": "code",
   "execution_count": null,
   "id": "89c9c540",
   "metadata": {},
   "outputs": [],
   "source": []
  }
 ],
 "metadata": {
  "kernelspec": {
   "display_name": "Python 3 (ipykernel)",
   "language": "python",
   "name": "python3"
  },
  "language_info": {
   "codemirror_mode": {
    "name": "ipython",
    "version": 3
   },
   "file_extension": ".py",
   "mimetype": "text/x-python",
   "name": "python",
   "nbconvert_exporter": "python",
   "pygments_lexer": "ipython3",
   "version": "3.11.5"
  }
 },
 "nbformat": 4,
 "nbformat_minor": 5
}
