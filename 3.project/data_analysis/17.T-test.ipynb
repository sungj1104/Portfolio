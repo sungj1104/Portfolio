{
 "cells": [
  {
   "cell_type": "markdown",
   "id": "4b1947b9",
   "metadata": {},
   "source": [
    "# T-test, ANOVA\n",
    "\n",
    "- T-test, ANOVA는 통계 기반 데이터 분석의 기본 방법론 중 하나\n",
    "- 집단 내 혹은 집단 간의 평균값의 차이가 통계적으로 유의미한 것인지 알아내는 방법\n",
    "    - 예) 쇼핑몰의 지역별 객단가를 분석한다면\n",
    "        - A지역의 고객별 평균 매출 : 67,000원\n",
    "        - B지역의 고객별 평균 매출 : 68,500원\n",
    "        - 이때, 1500원의 차이가 우연적인 차이인지, 통계적으로 유의미한 차이인지를 알아보기 위해 사용\n",
    "- T-test는 두 집단 간의 평균 차이를 분석할 때 사용\n",
    "- ANOVA는 두 집단 이상일 경우에 사용\n",
    "\n",
    "- T-test는 분석하고자 하는 변수가 양적 변수이며, 정규 분포이며, 등분산성이라는 조건이 충족되어야 함\n",
    "- 평균의 차이가 클수록, 표본의 수가 많을수록 귀무가설이 기각될 가능성이 커지고, 관측치들의 값 간의 표준 편차가 크면 평균의 차이가 불분명해지고 귀무가설이 채택될 가능성이 커짐\n",
    "    - 각 고객들의 마케팅 프로그램 실행 전과 후의 매출 차이가 들쑥날쑥하면 매출 평균 차이가 우연에 의한것일 확률이 높다고 판단"
   ]
  },
  {
   "cell_type": "code",
   "execution_count": 2,
   "id": "e7a122cd",
   "metadata": {},
   "outputs": [],
   "source": [
    "from scipy.stats import shapiro # 정규성 검정\n",
    "from scipy.stats import ttest_ind, ttest_rel, bartlett\n",
    "import pandas as pd\n",
    "import seaborn as sns\n",
    "import matplotlib.pyplot as plt"
   ]
  },
  {
   "cell_type": "code",
   "execution_count": 3,
   "id": "24cfd3cd",
   "metadata": {},
   "outputs": [
    {
     "data": {
      "text/html": [
       "<div>\n",
       "<style scoped>\n",
       "    .dataframe tbody tr th:only-of-type {\n",
       "        vertical-align: middle;\n",
       "    }\n",
       "\n",
       "    .dataframe tbody tr th {\n",
       "        vertical-align: top;\n",
       "    }\n",
       "\n",
       "    .dataframe thead th {\n",
       "        text-align: right;\n",
       "    }\n",
       "</style>\n",
       "<table border=\"1\" class=\"dataframe\">\n",
       "  <thead>\n",
       "    <tr style=\"text-align: right;\">\n",
       "      <th></th>\n",
       "      <th>TypeA_before</th>\n",
       "      <th>TypeA_after</th>\n",
       "      <th>TypeB_before</th>\n",
       "      <th>TypeB_after</th>\n",
       "      <th>TypeC_before</th>\n",
       "      <th>TypeC_after</th>\n",
       "    </tr>\n",
       "  </thead>\n",
       "  <tbody>\n",
       "    <tr>\n",
       "      <th>0</th>\n",
       "      <td>277</td>\n",
       "      <td>264</td>\n",
       "      <td>265</td>\n",
       "      <td>268</td>\n",
       "      <td>267</td>\n",
       "      <td>268</td>\n",
       "    </tr>\n",
       "    <tr>\n",
       "      <th>1</th>\n",
       "      <td>269</td>\n",
       "      <td>261</td>\n",
       "      <td>264</td>\n",
       "      <td>267</td>\n",
       "      <td>264</td>\n",
       "      <td>269</td>\n",
       "    </tr>\n",
       "    <tr>\n",
       "      <th>2</th>\n",
       "      <td>263</td>\n",
       "      <td>267</td>\n",
       "      <td>269</td>\n",
       "      <td>272</td>\n",
       "      <td>283</td>\n",
       "      <td>283</td>\n",
       "    </tr>\n",
       "    <tr>\n",
       "      <th>3</th>\n",
       "      <td>266</td>\n",
       "      <td>272</td>\n",
       "      <td>274</td>\n",
       "      <td>277</td>\n",
       "      <td>287</td>\n",
       "      <td>266</td>\n",
       "    </tr>\n",
       "    <tr>\n",
       "      <th>4</th>\n",
       "      <td>262</td>\n",
       "      <td>258</td>\n",
       "      <td>261</td>\n",
       "      <td>264</td>\n",
       "      <td>275</td>\n",
       "      <td>266</td>\n",
       "    </tr>\n",
       "  </tbody>\n",
       "</table>\n",
       "</div>"
      ],
      "text/plain": [
       "   TypeA_before  TypeA_after  TypeB_before  TypeB_after  TypeC_before  \\\n",
       "0           277          264           265          268           267   \n",
       "1           269          261           264          267           264   \n",
       "2           263          267           269          272           283   \n",
       "3           266          272           274          277           287   \n",
       "4           262          258           261          264           275   \n",
       "\n",
       "   TypeC_after  \n",
       "0          268  \n",
       "1          269  \n",
       "2          283  \n",
       "3          266  \n",
       "4          266  "
      ]
     },
     "execution_count": 3,
     "metadata": {},
     "output_type": "execute_result"
    }
   ],
   "source": [
    "# 데이터 불러오기\n",
    "df = pd.read_csv(\"./data/Golf_test.csv\")\n",
    "df.head()"
   ]
  },
  {
   "cell_type": "markdown",
   "id": "da34e716",
   "metadata": {},
   "source": [
    "- A, B, C 세 개 타입의 골프공의 비거리 테스트 결과 데이터\n",
    "- 각 타입의 골프공을 특정 처리를 하기 전과 후로 구분"
   ]
  },
  {
   "cell_type": "code",
   "execution_count": 4,
   "id": "cea47b3c",
   "metadata": {},
   "outputs": [
    {
     "data": {
      "text/html": [
       "<div>\n",
       "<style scoped>\n",
       "    .dataframe tbody tr th:only-of-type {\n",
       "        vertical-align: middle;\n",
       "    }\n",
       "\n",
       "    .dataframe tbody tr th {\n",
       "        vertical-align: top;\n",
       "    }\n",
       "\n",
       "    .dataframe thead th {\n",
       "        text-align: right;\n",
       "    }\n",
       "</style>\n",
       "<table border=\"1\" class=\"dataframe\">\n",
       "  <thead>\n",
       "    <tr style=\"text-align: right;\">\n",
       "      <th></th>\n",
       "      <th>TypeA_before</th>\n",
       "      <th>TypeA_after</th>\n",
       "      <th>TypeB_before</th>\n",
       "      <th>TypeB_after</th>\n",
       "      <th>TypeC_before</th>\n",
       "      <th>TypeC_after</th>\n",
       "    </tr>\n",
       "  </thead>\n",
       "  <tbody>\n",
       "    <tr>\n",
       "      <th>count</th>\n",
       "      <td>50.000000</td>\n",
       "      <td>50.000000</td>\n",
       "      <td>50.000000</td>\n",
       "      <td>50.000000</td>\n",
       "      <td>50.000000</td>\n",
       "      <td>50.000000</td>\n",
       "    </tr>\n",
       "    <tr>\n",
       "      <th>mean</th>\n",
       "      <td>268.460000</td>\n",
       "      <td>270.720000</td>\n",
       "      <td>273.600000</td>\n",
       "      <td>276.100000</td>\n",
       "      <td>270.360000</td>\n",
       "      <td>271.040000</td>\n",
       "    </tr>\n",
       "    <tr>\n",
       "      <th>std</th>\n",
       "      <td>9.817124</td>\n",
       "      <td>8.487782</td>\n",
       "      <td>8.566665</td>\n",
       "      <td>8.493094</td>\n",
       "      <td>8.385507</td>\n",
       "      <td>9.437139</td>\n",
       "    </tr>\n",
       "    <tr>\n",
       "      <th>min</th>\n",
       "      <td>250.000000</td>\n",
       "      <td>255.000000</td>\n",
       "      <td>258.000000</td>\n",
       "      <td>261.000000</td>\n",
       "      <td>255.000000</td>\n",
       "      <td>253.000000</td>\n",
       "    </tr>\n",
       "    <tr>\n",
       "      <th>25%</th>\n",
       "      <td>262.000000</td>\n",
       "      <td>264.000000</td>\n",
       "      <td>266.250000</td>\n",
       "      <td>269.000000</td>\n",
       "      <td>263.250000</td>\n",
       "      <td>265.000000</td>\n",
       "    </tr>\n",
       "    <tr>\n",
       "      <th>50%</th>\n",
       "      <td>266.000000</td>\n",
       "      <td>271.000000</td>\n",
       "      <td>273.500000</td>\n",
       "      <td>276.500000</td>\n",
       "      <td>268.500000</td>\n",
       "      <td>268.000000</td>\n",
       "    </tr>\n",
       "    <tr>\n",
       "      <th>75%</th>\n",
       "      <td>275.750000</td>\n",
       "      <td>275.000000</td>\n",
       "      <td>278.000000</td>\n",
       "      <td>280.000000</td>\n",
       "      <td>275.750000</td>\n",
       "      <td>277.750000</td>\n",
       "    </tr>\n",
       "    <tr>\n",
       "      <th>max</th>\n",
       "      <td>289.000000</td>\n",
       "      <td>289.000000</td>\n",
       "      <td>292.000000</td>\n",
       "      <td>295.000000</td>\n",
       "      <td>289.000000</td>\n",
       "      <td>291.000000</td>\n",
       "    </tr>\n",
       "  </tbody>\n",
       "</table>\n",
       "</div>"
      ],
      "text/plain": [
       "       TypeA_before  TypeA_after  TypeB_before  TypeB_after  TypeC_before  \\\n",
       "count     50.000000    50.000000     50.000000    50.000000     50.000000   \n",
       "mean     268.460000   270.720000    273.600000   276.100000    270.360000   \n",
       "std        9.817124     8.487782      8.566665     8.493094      8.385507   \n",
       "min      250.000000   255.000000    258.000000   261.000000    255.000000   \n",
       "25%      262.000000   264.000000    266.250000   269.000000    263.250000   \n",
       "50%      266.000000   271.000000    273.500000   276.500000    268.500000   \n",
       "75%      275.750000   275.000000    278.000000   280.000000    275.750000   \n",
       "max      289.000000   289.000000    292.000000   295.000000    289.000000   \n",
       "\n",
       "       TypeC_after  \n",
       "count    50.000000  \n",
       "mean    271.040000  \n",
       "std       9.437139  \n",
       "min     253.000000  \n",
       "25%     265.000000  \n",
       "50%     268.000000  \n",
       "75%     277.750000  \n",
       "max     291.000000  "
      ]
     },
     "execution_count": 4,
     "metadata": {},
     "output_type": "execute_result"
    }
   ],
   "source": [
    "# 골프공 타입 별 통계값 확인\n",
    "df.describe()"
   ]
  },
  {
   "cell_type": "markdown",
   "id": "75178341",
   "metadata": {},
   "source": [
    "- 평균값은 270 내외의 값을 가지고 있으며, before 보다 after가 큰 경향이 있음\n",
    "- B, C, A 순으로 평균값이 큼\n",
    "- 비거리 평균의 차이가 통계적으로 유의미한 차이인지 확인"
   ]
  },
  {
   "cell_type": "code",
   "execution_count": 5,
   "id": "bcbdaf4d",
   "metadata": {},
   "outputs": [
    {
     "data": {
      "text/plain": [
       "(50, 6)"
      ]
     },
     "execution_count": 5,
     "metadata": {},
     "output_type": "execute_result"
    }
   ],
   "source": [
    "df.shape"
   ]
  },
  {
   "cell_type": "code",
   "execution_count": 6,
   "id": "00aba81f",
   "metadata": {
    "scrolled": false
   },
   "outputs": [
    {
     "data": {
      "text/plain": [
       "TypeA_before    int64\n",
       "TypeA_after     int64\n",
       "TypeB_before    int64\n",
       "TypeB_after     int64\n",
       "TypeC_before    int64\n",
       "TypeC_after     int64\n",
       "dtype: object"
      ]
     },
     "execution_count": 6,
     "metadata": {},
     "output_type": "execute_result"
    }
   ],
   "source": [
    "df.dtypes"
   ]
  },
  {
   "cell_type": "code",
   "execution_count": 8,
   "id": "84e5d56e",
   "metadata": {},
   "outputs": [
    {
     "data": {
      "text/html": [
       "<div>\n",
       "<style scoped>\n",
       "    .dataframe tbody tr th:only-of-type {\n",
       "        vertical-align: middle;\n",
       "    }\n",
       "\n",
       "    .dataframe tbody tr th {\n",
       "        vertical-align: top;\n",
       "    }\n",
       "\n",
       "    .dataframe thead th {\n",
       "        text-align: right;\n",
       "    }\n",
       "</style>\n",
       "<table border=\"1\" class=\"dataframe\">\n",
       "  <thead>\n",
       "    <tr style=\"text-align: right;\">\n",
       "      <th></th>\n",
       "      <th>TypeA_before</th>\n",
       "      <th>TypeA_after</th>\n",
       "      <th>TypeB_before</th>\n",
       "      <th>TypeB_after</th>\n",
       "      <th>TypeC_before</th>\n",
       "      <th>TypeC_after</th>\n",
       "    </tr>\n",
       "  </thead>\n",
       "  <tbody>\n",
       "    <tr>\n",
       "      <th>0</th>\n",
       "      <td>277</td>\n",
       "      <td>264</td>\n",
       "      <td>265</td>\n",
       "      <td>268</td>\n",
       "      <td>267</td>\n",
       "      <td>268</td>\n",
       "    </tr>\n",
       "    <tr>\n",
       "      <th>1</th>\n",
       "      <td>269</td>\n",
       "      <td>261</td>\n",
       "      <td>264</td>\n",
       "      <td>267</td>\n",
       "      <td>264</td>\n",
       "      <td>269</td>\n",
       "    </tr>\n",
       "    <tr>\n",
       "      <th>2</th>\n",
       "      <td>263</td>\n",
       "      <td>267</td>\n",
       "      <td>269</td>\n",
       "      <td>272</td>\n",
       "      <td>283</td>\n",
       "      <td>283</td>\n",
       "    </tr>\n",
       "    <tr>\n",
       "      <th>3</th>\n",
       "      <td>266</td>\n",
       "      <td>272</td>\n",
       "      <td>274</td>\n",
       "      <td>277</td>\n",
       "      <td>287</td>\n",
       "      <td>266</td>\n",
       "    </tr>\n",
       "    <tr>\n",
       "      <th>4</th>\n",
       "      <td>262</td>\n",
       "      <td>258</td>\n",
       "      <td>261</td>\n",
       "      <td>264</td>\n",
       "      <td>275</td>\n",
       "      <td>266</td>\n",
       "    </tr>\n",
       "  </tbody>\n",
       "</table>\n",
       "</div>"
      ],
      "text/plain": [
       "   TypeA_before  TypeA_after  TypeB_before  TypeB_after  TypeC_before  \\\n",
       "0           277          264           265          268           267   \n",
       "1           269          261           264          267           264   \n",
       "2           263          267           269          272           283   \n",
       "3           266          272           274          277           287   \n",
       "4           262          258           261          264           275   \n",
       "\n",
       "   TypeC_after  \n",
       "0          268  \n",
       "1          269  \n",
       "2          283  \n",
       "3          266  \n",
       "4          266  "
      ]
     },
     "execution_count": 8,
     "metadata": {},
     "output_type": "execute_result"
    }
   ],
   "source": [
    "df.head()"
   ]
  },
  {
   "cell_type": "code",
   "execution_count": 7,
   "id": "ebac3aa2",
   "metadata": {},
   "outputs": [
    {
     "data": {
      "text/html": [
       "<div>\n",
       "<style scoped>\n",
       "    .dataframe tbody tr th:only-of-type {\n",
       "        vertical-align: middle;\n",
       "    }\n",
       "\n",
       "    .dataframe tbody tr th {\n",
       "        vertical-align: top;\n",
       "    }\n",
       "\n",
       "    .dataframe thead th {\n",
       "        text-align: right;\n",
       "    }\n",
       "</style>\n",
       "<table border=\"1\" class=\"dataframe\">\n",
       "  <thead>\n",
       "    <tr style=\"text-align: right;\">\n",
       "      <th></th>\n",
       "      <th>variable</th>\n",
       "      <th>value</th>\n",
       "    </tr>\n",
       "  </thead>\n",
       "  <tbody>\n",
       "    <tr>\n",
       "      <th>0</th>\n",
       "      <td>TypeA_before</td>\n",
       "      <td>277</td>\n",
       "    </tr>\n",
       "    <tr>\n",
       "      <th>1</th>\n",
       "      <td>TypeA_before</td>\n",
       "      <td>269</td>\n",
       "    </tr>\n",
       "    <tr>\n",
       "      <th>2</th>\n",
       "      <td>TypeA_before</td>\n",
       "      <td>263</td>\n",
       "    </tr>\n",
       "    <tr>\n",
       "      <th>3</th>\n",
       "      <td>TypeA_before</td>\n",
       "      <td>266</td>\n",
       "    </tr>\n",
       "    <tr>\n",
       "      <th>4</th>\n",
       "      <td>TypeA_before</td>\n",
       "      <td>262</td>\n",
       "    </tr>\n",
       "  </tbody>\n",
       "</table>\n",
       "</div>"
      ],
      "text/plain": [
       "       variable  value\n",
       "0  TypeA_before    277\n",
       "1  TypeA_before    269\n",
       "2  TypeA_before    263\n",
       "3  TypeA_before    266\n",
       "4  TypeA_before    262"
      ]
     },
     "execution_count": 7,
     "metadata": {},
     "output_type": "execute_result"
    }
   ],
   "source": [
    "# 그룹 별 박스 플롯 시각화\n",
    "df2 = pd.melt(df)\n",
    "df2.head()"
   ]
  },
  {
   "cell_type": "code",
   "execution_count": 9,
   "id": "1e78d47e",
   "metadata": {},
   "outputs": [
    {
     "data": {
      "text/plain": [
       "(300, 2)"
      ]
     },
     "execution_count": 9,
     "metadata": {},
     "output_type": "execute_result"
    }
   ],
   "source": [
    "df2.shape"
   ]
  },
  {
   "cell_type": "code",
   "execution_count": 10,
   "id": "4bc384a9",
   "metadata": {},
   "outputs": [
    {
     "data": {
      "image/png": "[encoded data removed]",
      "text/plain": [
       "<Figure size 1200x600 with 1 Axes>"
      ]
     },
     "metadata": {},
     "output_type": "display_data"
    }
   ],
   "source": [
    "plt.figure(figsize = (12, 6))\n",
    "sns.boxplot(x = \"variable\", y = \"value\", data = df2)\n",
    "plt.title(\"Golf ball test\")\n",
    "plt.show()"
   ]
  },
  {
   "cell_type": "markdown",
   "id": "371e1db6",
   "metadata": {},
   "source": [
    "- 컬럼별 차이를 직관적으로 확인하기 위해 박스플롯 시각화\n",
    "- TypeA_before와 TypeA_after 는 중앙값은 차이가 나지만 분포는 유사함"
   ]
  },
  {
   "cell_type": "code",
   "execution_count": 11,
   "id": "7c52bcbe",
   "metadata": {},
   "outputs": [
    {
     "name": "stdout",
     "output_type": "stream",
     "text": [
      "ShapiroResult(statistic=0.9655377864837646, pvalue=0.15155059099197388)\n",
      "ShapiroResult(statistic=0.9728279113769531, pvalue=0.3005082309246063)\n",
      "ShapiroResult(statistic=0.9730042219161987, pvalue=0.30535760521888733)\n",
      "ShapiroResult(statistic=0.9693011045455933, pvalue=0.21675525605678558)\n",
      "ShapiroResult(statistic=0.9595518112182617, pvalue=0.08513058722019196)\n",
      "ShapiroResult(statistic=0.9469832181930542, pvalue=0.02568192593753338)\n"
     ]
    }
   ],
   "source": [
    "# 데이터 정규성 검정(샤피로)\n",
    "print(shapiro(df[\"TypeA_before\"]))\n",
    "print(shapiro(df[\"TypeA_after\"]))\n",
    "print(shapiro(df[\"TypeB_before\"]))\n",
    "print(shapiro(df[\"TypeB_after\"]))\n",
    "print(shapiro(df[\"TypeC_before\"]))\n",
    "print(shapiro(df[\"TypeC_after\"]))"
   ]
  },
  {
   "cell_type": "markdown",
   "id": "c16f0ae3",
   "metadata": {},
   "source": [
    "- pvalue 값이 0.05를 초과하면 정규성을 만족\n",
    "- pvalue 값이 0.05를 초과하지 않으면 정규성을 만족하지 않음\n",
    "    - TypeC_after 는 정규성을 가지지 못하기 때문에 이상치 처리나 스케일링 등을 적용하여 정규성을 갖도록 가공해야 검정을 수행할 수 있음"
   ]
  },
  {
   "cell_type": "code",
   "execution_count": 12,
   "id": "817feb09",
   "metadata": {},
   "outputs": [
    {
     "data": {
      "text/plain": [
       "BartlettResult(statistic=2.232358764161634, pvalue=0.8161484218330712)"
      ]
     },
     "execution_count": 12,
     "metadata": {},
     "output_type": "execute_result"
    }
   ],
   "source": [
    "# 데이터 등분산성 검정\n",
    "bartlett(df[\"TypeA_before\"], df[\"TypeA_after\"],\n",
    "        df[\"TypeB_before\"], df[\"TypeB_after\"],\n",
    "        df[\"TypeC_before\"], df[\"TypeC_after\"])"
   ]
  },
  {
   "cell_type": "markdown",
   "id": "87c17aa1",
   "metadata": {},
   "source": [
    "- pvalue가 0.05를 초과하면 등분산성 만족"
   ]
  },
  {
   "cell_type": "code",
   "execution_count": 13,
   "id": "3b2f03f6",
   "metadata": {},
   "outputs": [
    {
     "data": {
      "text/plain": [
       "TtestResult(statistic=-1.221439914972903, pvalue=0.22776376448687602, df=49)"
      ]
     },
     "execution_count": 13,
     "metadata": {},
     "output_type": "execute_result"
    }
   ],
   "source": [
    "# 대응표본 t검정 수행\n",
    "ttest_rel(df[\"TypeA_before\"], df[\"TypeA_after\"])"
   ]
  },
  {
   "cell_type": "markdown",
   "id": "7427f7e7",
   "metadata": {},
   "source": [
    "- pvalue가 0.05를 초과하여 평균의 차이가 통계적으로 유의미하지 않음\n",
    "    - 즉, TypeA 골프공은 특정 처리를 하기 전과 후의 비거리가 통계쩍으로 차이가 없음"
   ]
  },
  {
   "cell_type": "code",
   "execution_count": 14,
   "id": "b83adc3d",
   "metadata": {},
   "outputs": [
    {
     "name": "stdout",
     "output_type": "stream",
     "text": [
      "TtestResult(statistic=-34.99999999999999, pvalue=2.4886054257756526e-36, df=49)\n",
      "TtestResult(statistic=-0.3563992607439856, pvalue=0.7230716735469858, df=49)\n"
     ]
    }
   ],
   "source": [
    "print(ttest_rel(df[\"TypeB_before\"], df[\"TypeB_after\"]))\n",
    "print(ttest_rel(df[\"TypeC_before\"], df[\"TypeC_after\"]))"
   ]
  },
  {
   "cell_type": "code",
   "execution_count": 19,
   "id": "32b46dc9",
   "metadata": {},
   "outputs": [
    {
     "data": {
      "text/plain": [
       "TtestResult(statistic=-2.7894959746581156, pvalue=0.00634384977076247, df=98.0)"
      ]
     },
     "execution_count": 19,
     "metadata": {},
     "output_type": "execute_result"
    }
   ],
   "source": [
    "# 독립표본 t검정 수행\n",
    "ttest_ind(df[\"TypeA_before\"], df[\"TypeB_before\"], equal_var = True)"
   ]
  },
  {
   "cell_type": "code",
   "execution_count": 20,
   "id": "567afe8f",
   "metadata": {},
   "outputs": [
    {
     "data": {
      "text/plain": [
       "TtestResult(statistic=-2.7894959746581156, pvalue=0.00634384977076247, df=98.0)"
      ]
     },
     "execution_count": 20,
     "metadata": {},
     "output_type": "execute_result"
    }
   ],
   "source": [
    "ttest_ind(df[\"TypeA_before\"], df[\"TypeB_before\"], equal_var = True)"
   ]
  },
  {
   "cell_type": "code",
   "execution_count": null,
   "id": "e4fc5834",
   "metadata": {},
   "outputs": [],
   "source": []
  }
 ],
 "metadata": {
  "kernelspec": {
   "display_name": "Python 3 (ipykernel)",
   "language": "python",
   "name": "python3"
  },
  "language_info": {
   "codemirror_mode": {
    "name": "ipython",
    "version": 3
   },
   "file_extension": ".py",
   "mimetype": "text/x-python",
   "name": "python",
   "nbconvert_exporter": "python",
   "pygments_lexer": "ipython3",
   "version": "3.11.5"
  }
 },
 "nbformat": 4,
 "nbformat_minor": 5
}
