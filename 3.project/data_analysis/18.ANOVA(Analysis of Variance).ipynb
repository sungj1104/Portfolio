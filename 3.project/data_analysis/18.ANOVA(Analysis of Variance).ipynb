{
 "cells": [
  {
   "cell_type": "markdown",
   "id": "882f2f6d",
   "metadata": {},
   "source": [
    "# ANOVA\n",
    "\n",
    "- T-test 는 두 집단의 평균 차이를 검정하는 방법\n",
    "- 세 집단 이상의 평균을 검정할 때는 ANOVA를 사용\n",
    "    - T-test를 사용하여 세 집단 이상을 분석할 때는 A와 B를 검정하고 B와 C를 검정하고 A와 C를 검정하는 방법을 사용\n",
    "    - 하지만 신뢰도가 하락하는 문제가 있어 일반적으로 집단이 3개 이상일 때에는 ANOVA를 사용\n",
    "    \n",
    "- ANOVA의 일반적인 가설\n",
    "    - H0(귀무가설) : 독립변수의 차이에 따른 종속변수는 동일하다\n",
    "    - H1(대립가설) : 독립변수의 차이에 따른 종속변수는 다르다\n",
    "\n",
    "- ANOVA는 독립변수의 수에 따라 다르게 불림\n",
    "    - 예) 고객들의 객단가 평균 차이를 비교하기 위한 요인이 '지역' 하나라면 일원 분산분석(one-way ANOVA)\n",
    "    - 만약 요인이 '지역', '연령대' 두 가지라면 이원 분산분석(two-way ANOVA), 더 많은 N가지라면 N원 분산분석(N-way ANOVA)라고 함\n",
    "    \n",
    "- ANOVA를 사용할 때는 독립변수는 집단을 나타낼 수 있는 범주형 변수여야 하며, 종속 변수는 연속형 변수여야 함\n",
    "    - 독립변수와 종속변수가 연속형일 때는 회귀분석\n",
    "    - 독립변수와 종속변수가 범주형일 때는 교차분석을 사용함"
   ]
  },
  {
   "cell_type": "markdown",
   "id": "7fabe89d",
   "metadata": {},
   "source": [
    "<img src = \"./image/anova_charts.jpg\">"
   ]
  },
  {
   "cell_type": "markdown",
   "id": "49cfb457",
   "metadata": {},
   "source": [
    "- ANOVA는 각 집단의 평균이 서로 멀리 떨어져 있어 집단 평균의 분산이 큰 정도를 따져서 집단 간 평균이 다른지 판별\n",
    "    - 집단 내 각 관측치들이 집단 평균으로부터 얼마나 퍼져있는지를 나타내는 집단 내 분산\n",
    "    - 전체 집단의 통합 평균과 각 집단의 평균값이 얼마나 퍼져 있는지를 나타내는 집단 간 분산이 사용됨\n",
    "- 예) 집단2와 집단 3처럼 집단간의 겹치는 부분이 큰 경우는 각 집단의 평균이 다르다고 보기 어려움\n",
    "- 반면에 집단1의 평균은 멀리 떨어져 있어 집단 간 평균 차이가 확실히 난다고 볼 수 있음\n",
    "\n",
    "- 집단 간 평균의 분산을 집단 내 분산으로 나눈 값이 유의도 임계치를 초과하는지 여부에 따라 집단 간 평균의 차이를 검정\n",
    "\n",
    "- ANOVA 분석의 결과만으로는 각 집단의 평균이 모두 다른 것인지 일부만 다른 것인지는 알 수 없음\n",
    "    - 일부 집단들은 집단간 차이가 없을 수 있음\n",
    "    - 이러한 1종 오류(귀무가설이 참임에도 불구하고 귀무가설을 기각하는 오류)를 방지하기 위해 사우 검증을 수행\n",
    "- 사후 검증은 집단 크기가 같을 때 사용하는 Tukey의 HSD 검증, 집단의 크기가 다를 때 사용하는 scheffe 검증 방법 등이 있음"
   ]
  },
  {
   "cell_type": "code",
   "execution_count": 1,
   "id": "e8224666",
   "metadata": {},
   "outputs": [],
   "source": [
    "from statsmodels.formula.api import ols\n",
    "from statsmodels.stats.anova import anova_lm\n",
    "from statsmodels.stats.multicomp import pairwise_tukeyhsd\n",
    "from scipy import stats\n",
    "from scipy.stats import ttest_ind\n",
    "import pandas as pd"
   ]
  },
  {
   "cell_type": "code",
   "execution_count": 2,
   "id": "18c8e868",
   "metadata": {},
   "outputs": [
    {
     "data": {
      "text/html": [
       "<div>\n",
       "<style scoped>\n",
       "    .dataframe tbody tr th:only-of-type {\n",
       "        vertical-align: middle;\n",
       "    }\n",
       "\n",
       "    .dataframe tbody tr th {\n",
       "        vertical-align: top;\n",
       "    }\n",
       "\n",
       "    .dataframe thead th {\n",
       "        text-align: right;\n",
       "    }\n",
       "</style>\n",
       "<table border=\"1\" class=\"dataframe\">\n",
       "  <thead>\n",
       "    <tr style=\"text-align: right;\">\n",
       "      <th></th>\n",
       "      <th>TypeA_before</th>\n",
       "      <th>TypeA_after</th>\n",
       "      <th>TypeB_before</th>\n",
       "      <th>TypeB_after</th>\n",
       "      <th>TypeC_before</th>\n",
       "      <th>TypeC_after</th>\n",
       "    </tr>\n",
       "  </thead>\n",
       "  <tbody>\n",
       "    <tr>\n",
       "      <th>0</th>\n",
       "      <td>277</td>\n",
       "      <td>264</td>\n",
       "      <td>265</td>\n",
       "      <td>268</td>\n",
       "      <td>267</td>\n",
       "      <td>268</td>\n",
       "    </tr>\n",
       "    <tr>\n",
       "      <th>1</th>\n",
       "      <td>269</td>\n",
       "      <td>261</td>\n",
       "      <td>264</td>\n",
       "      <td>267</td>\n",
       "      <td>264</td>\n",
       "      <td>269</td>\n",
       "    </tr>\n",
       "    <tr>\n",
       "      <th>2</th>\n",
       "      <td>263</td>\n",
       "      <td>267</td>\n",
       "      <td>269</td>\n",
       "      <td>272</td>\n",
       "      <td>283</td>\n",
       "      <td>283</td>\n",
       "    </tr>\n",
       "    <tr>\n",
       "      <th>3</th>\n",
       "      <td>266</td>\n",
       "      <td>272</td>\n",
       "      <td>274</td>\n",
       "      <td>277</td>\n",
       "      <td>287</td>\n",
       "      <td>266</td>\n",
       "    </tr>\n",
       "    <tr>\n",
       "      <th>4</th>\n",
       "      <td>262</td>\n",
       "      <td>258</td>\n",
       "      <td>261</td>\n",
       "      <td>264</td>\n",
       "      <td>275</td>\n",
       "      <td>266</td>\n",
       "    </tr>\n",
       "  </tbody>\n",
       "</table>\n",
       "</div>"
      ],
      "text/plain": [
       "   TypeA_before  TypeA_after  TypeB_before  TypeB_after  TypeC_before  \\\n",
       "0           277          264           265          268           267   \n",
       "1           269          261           264          267           264   \n",
       "2           263          267           269          272           283   \n",
       "3           266          272           274          277           287   \n",
       "4           262          258           261          264           275   \n",
       "\n",
       "   TypeC_after  \n",
       "0          268  \n",
       "1          269  \n",
       "2          283  \n",
       "3          266  \n",
       "4          266  "
      ]
     },
     "execution_count": 2,
     "metadata": {},
     "output_type": "execute_result"
    }
   ],
   "source": [
    "# 데이터 불러오기\n",
    "df = pd.read_csv(\"./data/Golf_test.csv\")\n",
    "df.head()"
   ]
  },
  {
   "cell_type": "code",
   "execution_count": 5,
   "id": "a2f1266d",
   "metadata": {},
   "outputs": [
    {
     "name": "stdout",
     "output_type": "stream",
     "text": [
      "일원분산분석 결과 : F = 4.2, p = 0.01652\n"
     ]
    }
   ],
   "source": [
    "# stats 패키지 아노바 검정\n",
    "F_statistic, pVal = stats.f_oneway(df[\"TypeA_before\"],\n",
    "                                  df[\"TypeB_before\"],\n",
    "                                  df[\"TypeC_before\"])\n",
    "print(f\"일원분산분석 결과 : F = {F_statistic:.1f}, p = {pVal:.5f}\")"
   ]
  },
  {
   "cell_type": "markdown",
   "id": "26d87826",
   "metadata": {},
   "source": [
    "- 정규성 검정과 등분산 검정은 T-Test에서 수행했으므로 생략\n",
    "- pvalue가 0.05보다 작으므로 3개 변수 중 최소한 하나의 변수는 통계적으로 유의미한 차이가 있음"
   ]
  },
  {
   "cell_type": "code",
   "execution_count": 6,
   "id": "4135843c",
   "metadata": {},
   "outputs": [
    {
     "data": {
      "text/html": [
       "<div>\n",
       "<style scoped>\n",
       "    .dataframe tbody tr th:only-of-type {\n",
       "        vertical-align: middle;\n",
       "    }\n",
       "\n",
       "    .dataframe tbody tr th {\n",
       "        vertical-align: top;\n",
       "    }\n",
       "\n",
       "    .dataframe thead th {\n",
       "        text-align: right;\n",
       "    }\n",
       "</style>\n",
       "<table border=\"1\" class=\"dataframe\">\n",
       "  <thead>\n",
       "    <tr style=\"text-align: right;\">\n",
       "      <th></th>\n",
       "      <th>variable</th>\n",
       "      <th>value</th>\n",
       "    </tr>\n",
       "  </thead>\n",
       "  <tbody>\n",
       "    <tr>\n",
       "      <th>0</th>\n",
       "      <td>TypeA_before</td>\n",
       "      <td>277</td>\n",
       "    </tr>\n",
       "    <tr>\n",
       "      <th>1</th>\n",
       "      <td>TypeA_before</td>\n",
       "      <td>269</td>\n",
       "    </tr>\n",
       "    <tr>\n",
       "      <th>2</th>\n",
       "      <td>TypeA_before</td>\n",
       "      <td>263</td>\n",
       "    </tr>\n",
       "    <tr>\n",
       "      <th>3</th>\n",
       "      <td>TypeA_before</td>\n",
       "      <td>266</td>\n",
       "    </tr>\n",
       "    <tr>\n",
       "      <th>4</th>\n",
       "      <td>TypeA_before</td>\n",
       "      <td>262</td>\n",
       "    </tr>\n",
       "  </tbody>\n",
       "</table>\n",
       "</div>"
      ],
      "text/plain": [
       "       variable  value\n",
       "0  TypeA_before    277\n",
       "1  TypeA_before    269\n",
       "2  TypeA_before    263\n",
       "3  TypeA_before    266\n",
       "4  TypeA_before    262"
      ]
     },
     "execution_count": 6,
     "metadata": {},
     "output_type": "execute_result"
    }
   ],
   "source": [
    "# 데이터 재구조화\n",
    "df2 = pd.melt(df)\n",
    "df2 = df2[df2[\"variable\"].isin([\"TypeA_before\", \"TypeB_before\", \"TypeC_before\"])]\n",
    "df2.head()"
   ]
  },
  {
   "cell_type": "markdown",
   "id": "634e590e",
   "metadata": {},
   "source": [
    "- ols 패키지 사용을 위한 전처리\n",
    "- 각 골프공 조건이 개별 컬럼으로 구성되어 있기 때문에 variable 컬럼과 value 컬럼으로 재구조화"
   ]
  },
  {
   "cell_type": "code",
   "execution_count": 7,
   "id": "bf07a5a4",
   "metadata": {},
   "outputs": [],
   "source": [
    "# ols 패키지 아노바 검정\n",
    "model = ols(\"value ~ C(variable)\", df2).fit()"
   ]
  },
  {
   "cell_type": "code",
   "execution_count": 8,
   "id": "f3dc3bb0",
   "metadata": {},
   "outputs": [
    {
     "data": {
      "text/html": [
       "<table class=\"simpletable\">\n",
       "<caption>OLS Regression Results</caption>\n",
       "<tr>\n",
       "  <th>Dep. Variable:</th>          <td>value</td>      <th>  R-squared:         </th> <td>   0.054</td>\n",
       "</tr>\n",
       "<tr>\n",
       "  <th>Model:</th>                   <td>OLS</td>       <th>  Adj. R-squared:    </th> <td>   0.041</td>\n",
       "</tr>\n",
       "<tr>\n",
       "  <th>Method:</th>             <td>Least Squares</td>  <th>  F-statistic:       </th> <td>   4.220</td>\n",
       "</tr>\n",
       "<tr>\n",
       "  <th>Date:</th>             <td>Fri, 08 Mar 2024</td> <th>  Prob (F-statistic):</th>  <td>0.0165</td> \n",
       "</tr>\n",
       "<tr>\n",
       "  <th>Time:</th>                 <td>11:37:15</td>     <th>  Log-Likelihood:    </th> <td> -540.00</td>\n",
       "</tr>\n",
       "<tr>\n",
       "  <th>No. Observations:</th>      <td>   150</td>      <th>  AIC:               </th> <td>   1086.</td>\n",
       "</tr>\n",
       "<tr>\n",
       "  <th>Df Residuals:</th>          <td>   147</td>      <th>  BIC:               </th> <td>   1095.</td>\n",
       "</tr>\n",
       "<tr>\n",
       "  <th>Df Model:</th>              <td>     2</td>      <th>                     </th>     <td> </td>   \n",
       "</tr>\n",
       "<tr>\n",
       "  <th>Covariance Type:</th>      <td>nonrobust</td>    <th>                     </th>     <td> </td>   \n",
       "</tr>\n",
       "</table>\n",
       "<table class=\"simpletable\">\n",
       "<tr>\n",
       "               <td></td>                  <th>coef</th>     <th>std err</th>      <th>t</th>      <th>P>|t|</th>  <th>[0.025</th>    <th>0.975]</th>  \n",
       "</tr>\n",
       "<tr>\n",
       "  <th>Intercept</th>                   <td>  268.4600</td> <td>    1.265</td> <td>  212.201</td> <td> 0.000</td> <td>  265.960</td> <td>  270.960</td>\n",
       "</tr>\n",
       "<tr>\n",
       "  <th>C(variable)[T.TypeB_before]</th> <td>    5.1400</td> <td>    1.789</td> <td>    2.873</td> <td> 0.005</td> <td>    1.604</td> <td>    8.676</td>\n",
       "</tr>\n",
       "<tr>\n",
       "  <th>C(variable)[T.TypeC_before]</th> <td>    1.9000</td> <td>    1.789</td> <td>    1.062</td> <td> 0.290</td> <td>   -1.636</td> <td>    5.436</td>\n",
       "</tr>\n",
       "</table>\n",
       "<table class=\"simpletable\">\n",
       "<tr>\n",
       "  <th>Omnibus:</th>       <td> 7.609</td> <th>  Durbin-Watson:     </th> <td>   2.016</td>\n",
       "</tr>\n",
       "<tr>\n",
       "  <th>Prob(Omnibus):</th> <td> 0.022</td> <th>  Jarque-Bera (JB):  </th> <td>   5.374</td>\n",
       "</tr>\n",
       "<tr>\n",
       "  <th>Skew:</th>          <td> 0.331</td> <th>  Prob(JB):          </th> <td>  0.0681</td>\n",
       "</tr>\n",
       "<tr>\n",
       "  <th>Kurtosis:</th>      <td> 2.351</td> <th>  Cond. No.          </th> <td>    3.73</td>\n",
       "</tr>\n",
       "</table><br/><br/>Notes:<br/>[1] Standard Errors assume that the covariance matrix of the errors is correctly specified."
      ],
      "text/latex": [
       "\\begin{center}\n",
       "\\begin{tabular}{lclc}\n",
       "\\toprule\n",
       "\\textbf{Dep. Variable:}               &      value       & \\textbf{  R-squared:         } &     0.054   \\\\\n",
       "\\textbf{Model:}                       &       OLS        & \\textbf{  Adj. R-squared:    } &     0.041   \\\\\n",
       "\\textbf{Method:}                      &  Least Squares   & \\textbf{  F-statistic:       } &     4.220   \\\\\n",
       "\\textbf{Date:}                        & Fri, 08 Mar 2024 & \\textbf{  Prob (F-statistic):} &   0.0165    \\\\\n",
       "\\textbf{Time:}                        &     11:37:15     & \\textbf{  Log-Likelihood:    } &   -540.00   \\\\\n",
       "\\textbf{No. Observations:}            &         150      & \\textbf{  AIC:               } &     1086.   \\\\\n",
       "\\textbf{Df Residuals:}                &         147      & \\textbf{  BIC:               } &     1095.   \\\\\n",
       "\\textbf{Df Model:}                    &           2      & \\textbf{                     } &             \\\\\n",
       "\\textbf{Covariance Type:}             &    nonrobust     & \\textbf{                     } &             \\\\\n",
       "\\bottomrule\n",
       "\\end{tabular}\n",
       "\\begin{tabular}{lcccccc}\n",
       "                                      & \\textbf{coef} & \\textbf{std err} & \\textbf{t} & \\textbf{P$> |$t$|$} & \\textbf{[0.025} & \\textbf{0.975]}  \\\\\n",
       "\\midrule\n",
       "\\textbf{Intercept}                    &     268.4600  &        1.265     &   212.201  &         0.000        &      265.960    &      270.960     \\\\\n",
       "\\textbf{C(variable)[T.TypeB\\_before]} &       5.1400  &        1.789     &     2.873  &         0.005        &        1.604    &        8.676     \\\\\n",
       "\\textbf{C(variable)[T.TypeC\\_before]} &       1.9000  &        1.789     &     1.062  &         0.290        &       -1.636    &        5.436     \\\\\n",
       "\\bottomrule\n",
       "\\end{tabular}\n",
       "\\begin{tabular}{lclc}\n",
       "\\textbf{Omnibus:}       &  7.609 & \\textbf{  Durbin-Watson:     } &    2.016  \\\\\n",
       "\\textbf{Prob(Omnibus):} &  0.022 & \\textbf{  Jarque-Bera (JB):  } &    5.374  \\\\\n",
       "\\textbf{Skew:}          &  0.331 & \\textbf{  Prob(JB):          } &   0.0681  \\\\\n",
       "\\textbf{Kurtosis:}      &  2.351 & \\textbf{  Cond. No.          } &     3.73  \\\\\n",
       "\\bottomrule\n",
       "\\end{tabular}\n",
       "%\\caption{OLS Regression Results}\n",
       "\\end{center}\n",
       "\n",
       "Notes: \\newline\n",
       " [1] Standard Errors assume that the covariance matrix of the errors is correctly specified."
      ],
      "text/plain": [
       "<class 'statsmodels.iolib.summary.Summary'>\n",
       "\"\"\"\n",
       "                            OLS Regression Results                            \n",
       "==============================================================================\n",
       "Dep. Variable:                  value   R-squared:                       0.054\n",
       "Model:                            OLS   Adj. R-squared:                  0.041\n",
       "Method:                 Least Squares   F-statistic:                     4.220\n",
       "Date:                Fri, 08 Mar 2024   Prob (F-statistic):             0.0165\n",
       "Time:                        11:37:15   Log-Likelihood:                -540.00\n",
       "No. Observations:                 150   AIC:                             1086.\n",
       "Df Residuals:                     147   BIC:                             1095.\n",
       "Df Model:                           2                                         \n",
       "Covariance Type:            nonrobust                                         \n",
       "===============================================================================================\n",
       "                                  coef    std err          t      P>|t|      [0.025      0.975]\n",
       "-----------------------------------------------------------------------------------------------\n",
       "Intercept                     268.4600      1.265    212.201      0.000     265.960     270.960\n",
       "C(variable)[T.TypeB_before]     5.1400      1.789      2.873      0.005       1.604       8.676\n",
       "C(variable)[T.TypeC_before]     1.9000      1.789      1.062      0.290      -1.636       5.436\n",
       "==============================================================================\n",
       "Omnibus:                        7.609   Durbin-Watson:                   2.016\n",
       "Prob(Omnibus):                  0.022   Jarque-Bera (JB):                5.374\n",
       "Skew:                           0.331   Prob(JB):                       0.0681\n",
       "Kurtosis:                       2.351   Cond. No.                         3.73\n",
       "==============================================================================\n",
       "\n",
       "Notes:\n",
       "[1] Standard Errors assume that the covariance matrix of the errors is correctly specified.\n",
       "\"\"\""
      ]
     },
     "execution_count": 8,
     "metadata": {},
     "output_type": "execute_result"
    }
   ],
   "source": [
    "model.summary()"
   ]
  },
  {
   "cell_type": "code",
   "execution_count": 9,
   "id": "67a126b1",
   "metadata": {},
   "outputs": [
    {
     "data": {
      "text/html": [
       "<div>\n",
       "<style scoped>\n",
       "    .dataframe tbody tr th:only-of-type {\n",
       "        vertical-align: middle;\n",
       "    }\n",
       "\n",
       "    .dataframe tbody tr th {\n",
       "        vertical-align: top;\n",
       "    }\n",
       "\n",
       "    .dataframe thead th {\n",
       "        text-align: right;\n",
       "    }\n",
       "</style>\n",
       "<table border=\"1\" class=\"dataframe\">\n",
       "  <thead>\n",
       "    <tr style=\"text-align: right;\">\n",
       "      <th></th>\n",
       "      <th>df</th>\n",
       "      <th>sum_sq</th>\n",
       "      <th>mean_sq</th>\n",
       "      <th>F</th>\n",
       "      <th>PR(&gt;F)</th>\n",
       "    </tr>\n",
       "  </thead>\n",
       "  <tbody>\n",
       "    <tr>\n",
       "      <th>C(variable)</th>\n",
       "      <td>2.0</td>\n",
       "      <td>675.453333</td>\n",
       "      <td>337.726667</td>\n",
       "      <td>4.220169</td>\n",
       "      <td>0.016515</td>\n",
       "    </tr>\n",
       "    <tr>\n",
       "      <th>Residual</th>\n",
       "      <td>147.0</td>\n",
       "      <td>11763.940000</td>\n",
       "      <td>80.026803</td>\n",
       "      <td>NaN</td>\n",
       "      <td>NaN</td>\n",
       "    </tr>\n",
       "  </tbody>\n",
       "</table>\n",
       "</div>"
      ],
      "text/plain": [
       "                df        sum_sq     mean_sq         F    PR(>F)\n",
       "C(variable)    2.0    675.453333  337.726667  4.220169  0.016515\n",
       "Residual     147.0  11763.940000   80.026803       NaN       NaN"
      ]
     },
     "execution_count": 9,
     "metadata": {},
     "output_type": "execute_result"
    }
   ],
   "source": [
    "anova_lm(model)"
   ]
  },
  {
   "cell_type": "markdown",
   "id": "586c9a86",
   "metadata": {},
   "source": [
    "- 앞서 수행한 ANOVA 검정과 동일한 결과\n",
    "- 데이터셋의 형태에 따라 사용하기 편한 패키지를 선택하면 됨"
   ]
  },
  {
   "cell_type": "code",
   "execution_count": 10,
   "id": "5b278c30",
   "metadata": {},
   "outputs": [
    {
     "name": "stdout",
     "output_type": "stream",
     "text": [
      "      Multiple Comparison of Means - Tukey HSD, FWER=0.05      \n",
      "===============================================================\n",
      "   group1       group2    meandiff p-adj   lower  upper  reject\n",
      "---------------------------------------------------------------\n",
      "TypeA_before TypeB_before     5.14 0.0129  0.9038 9.3762   True\n",
      "TypeA_before TypeC_before      1.9 0.5392 -2.3362 6.1362  False\n",
      "TypeB_before TypeC_before    -3.24 0.1696 -7.4762 0.9962  False\n",
      "---------------------------------------------------------------\n"
     ]
    }
   ],
   "source": [
    "# 사후검정\n",
    "posthoc = pairwise_tukeyhsd(df2[\"value\"],\n",
    "                           df2[\"variable\"],\n",
    "                           alpha = 0.05)\n",
    "print(posthoc)"
   ]
  },
  {
   "cell_type": "code",
   "execution_count": 11,
   "id": "2d8bc3d2",
   "metadata": {},
   "outputs": [
    {
     "data": {
      "image/png": "[encoded data removed]",
      "text/plain": [
       "<Figure size 1000x600 with 1 Axes>"
      ]
     },
     "metadata": {},
     "output_type": "display_data"
    }
   ],
   "source": [
    "fig = posthoc.plot_simultaneous()"
   ]
  },
  {
   "cell_type": "markdown",
   "id": "d7f2d8af",
   "metadata": {},
   "source": [
    "- tukey의 HSD 사후검정을 수행\n",
    "- TypeA_before와 TypeB_before 간에만 유의미한 차이가 있고, 나머지는 조합에서의 통계적으로 유의미한 차이가 없음"
   ]
  },
  {
   "cell_type": "code",
   "execution_count": null,
   "id": "e28bebf8",
   "metadata": {},
   "outputs": [],
   "source": []
  }
 ],
 "metadata": {
  "kernelspec": {
   "display_name": "Python 3 (ipykernel)",
   "language": "python",
   "name": "python3"
  },
  "language_info": {
   "codemirror_mode": {
    "name": "ipython",
    "version": 3
   },
   "file_extension": ".py",
   "mimetype": "text/x-python",
   "name": "python",
   "nbconvert_exporter": "python",
   "pygments_lexer": "ipython3",
   "version": "3.11.5"
  }
 },
 "nbformat": 4,
 "nbformat_minor": 5
}
