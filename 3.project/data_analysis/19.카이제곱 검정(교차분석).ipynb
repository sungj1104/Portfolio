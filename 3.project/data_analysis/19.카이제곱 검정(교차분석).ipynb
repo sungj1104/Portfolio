{
 "cells": [
  {
   "cell_type": "markdown",
   "id": "c6b78d83",
   "metadata": {},
   "source": [
    "# 카이제곱 검정(Chi-square test)\n",
    "\n",
    "- 범주형 변수들 간의 연관성을 분석하기 위해 결합분포를 사용하는 방법\n",
    "    - 연령 같은 변수는 연령대와 같은 서열척도로 변환해서 사용할 수 있음\n",
    "- 기본 원리는 변수들 간의 범주를 동시에 교차하는 교차표를 만들어 각각의 빈도와 비율을 통해 변수 상호 간의 독립성과 관련성을 분석 하는 것\n",
    "- 교차분석은 상관분석과는 다르게 연관성의 정도를 수치로 표현할 수 업슴\n",
    "    - 대신 검정 통계량 카이제곱을 통해 변수간에 연관성이 없다는 귀무가설을 기각하는지 여부로 상관성이 있고 없음을 판단"
   ]
  },
  {
   "cell_type": "code",
   "execution_count": 1,
   "id": "7528b8b2",
   "metadata": {},
   "outputs": [],
   "source": [
    "from scipy.stats import chi2_contingency\n",
    "import pandas as pd\n",
    "import matplotlib.pyplot as plt"
   ]
  },
  {
   "cell_type": "code",
   "execution_count": 3,
   "id": "bc81d557",
   "metadata": {},
   "outputs": [
    {
     "data": {
      "text/html": [
       "<div>\n",
       "<style scoped>\n",
       "    .dataframe tbody tr th:only-of-type {\n",
       "        vertical-align: middle;\n",
       "    }\n",
       "\n",
       "    .dataframe tbody tr th {\n",
       "        vertical-align: top;\n",
       "    }\n",
       "\n",
       "    .dataframe thead th {\n",
       "        text-align: right;\n",
       "    }\n",
       "</style>\n",
       "<table border=\"1\" class=\"dataframe\">\n",
       "  <thead>\n",
       "    <tr style=\"text-align: right;\">\n",
       "      <th></th>\n",
       "      <th>sex</th>\n",
       "      <th>smoke</th>\n",
       "    </tr>\n",
       "  </thead>\n",
       "  <tbody>\n",
       "    <tr>\n",
       "      <th>0</th>\n",
       "      <td>male</td>\n",
       "      <td>Non-Smoker</td>\n",
       "    </tr>\n",
       "    <tr>\n",
       "      <th>1</th>\n",
       "      <td>male</td>\n",
       "      <td>Smoker</td>\n",
       "    </tr>\n",
       "    <tr>\n",
       "      <th>2</th>\n",
       "      <td>male</td>\n",
       "      <td>Non-Smoker</td>\n",
       "    </tr>\n",
       "    <tr>\n",
       "      <th>3</th>\n",
       "      <td>male</td>\n",
       "      <td>Smoker</td>\n",
       "    </tr>\n",
       "    <tr>\n",
       "      <th>4</th>\n",
       "      <td>male</td>\n",
       "      <td>Non-Smoker</td>\n",
       "    </tr>\n",
       "  </tbody>\n",
       "</table>\n",
       "</div>"
      ],
      "text/plain": [
       "    sex       smoke\n",
       "0  male  Non-Smoker\n",
       "1  male      Smoker\n",
       "2  male  Non-Smoker\n",
       "3  male      Smoker\n",
       "4  male  Non-Smoker"
      ]
     },
     "execution_count": 3,
     "metadata": {},
     "output_type": "execute_result"
    }
   ],
   "source": [
    "# 데이터 불러오기\n",
    "df = pd.read_csv(\"./data/smoker.csv\")\n",
    "df.head()"
   ]
  },
  {
   "cell_type": "code",
   "execution_count": 4,
   "id": "f320cc64",
   "metadata": {},
   "outputs": [
    {
     "data": {
      "text/plain": [
       "sex     smoke     \n",
       "female  Non-Smoker    50\n",
       "        Smoker        12\n",
       "male    Non-Smoker    40\n",
       "        Smoker        29\n",
       "Name: smoke, dtype: int64"
      ]
     },
     "execution_count": 4,
     "metadata": {},
     "output_type": "execute_result"
    }
   ],
   "source": [
    "# 항목 별 집계\n",
    "df.groupby([\"sex\", \"smoke\"])[\"smoke\"].count()"
   ]
  },
  {
   "cell_type": "markdown",
   "id": "6aa532ce",
   "metadata": {},
   "source": [
    "- 남성과 여성의 흡연자와 비흡연자수 현황을 확인하기 위해 groupby() 함수로 집계 데이터를 산출\n",
    "- 여성은 62명 중 12명이 흡연자고, 남성은 69명 중 29명이 흡연자임"
   ]
  },
  {
   "cell_type": "code",
   "execution_count": 5,
   "id": "45e42165",
   "metadata": {},
   "outputs": [
    {
     "data": {
      "text/html": [
       "<div>\n",
       "<style scoped>\n",
       "    .dataframe tbody tr th:only-of-type {\n",
       "        vertical-align: middle;\n",
       "    }\n",
       "\n",
       "    .dataframe tbody tr th {\n",
       "        vertical-align: top;\n",
       "    }\n",
       "\n",
       "    .dataframe thead th {\n",
       "        text-align: right;\n",
       "    }\n",
       "</style>\n",
       "<table border=\"1\" class=\"dataframe\">\n",
       "  <thead>\n",
       "    <tr style=\"text-align: right;\">\n",
       "      <th>smoke</th>\n",
       "      <th>Non-Smoker</th>\n",
       "      <th>Smoker</th>\n",
       "    </tr>\n",
       "    <tr>\n",
       "      <th>sex</th>\n",
       "      <th></th>\n",
       "      <th></th>\n",
       "    </tr>\n",
       "  </thead>\n",
       "  <tbody>\n",
       "    <tr>\n",
       "      <th>female</th>\n",
       "      <td>50</td>\n",
       "      <td>12</td>\n",
       "    </tr>\n",
       "    <tr>\n",
       "      <th>male</th>\n",
       "      <td>40</td>\n",
       "      <td>29</td>\n",
       "    </tr>\n",
       "  </tbody>\n",
       "</table>\n",
       "</div>"
      ],
      "text/plain": [
       "smoke   Non-Smoker  Smoker\n",
       "sex                       \n",
       "female          50      12\n",
       "male            40      29"
      ]
     },
     "execution_count": 5,
     "metadata": {},
     "output_type": "execute_result"
    }
   ],
   "source": [
    "# 카이제곱 검정용 데이터셋 가공\n",
    "crosstab = pd.crosstab(df[\"sex\"], df[\"smoke\"]) # 교차표 생성\n",
    "crosstab"
   ]
  },
  {
   "cell_type": "code",
   "execution_count": 6,
   "id": "94fb8655",
   "metadata": {},
   "outputs": [
    {
     "data": {
      "image/png": "[encoded data removed]",
      "text/plain": [
       "<Figure size 1000x500 with 1 Axes>"
      ]
     },
     "metadata": {},
     "output_type": "display_data"
    }
   ],
   "source": [
    "# 성별 별 흡연자 수 시각화\n",
    "crosstab.plot(kind = \"bar\", figsize = (10, 5))\n",
    "plt.grid()\n",
    "plt.show()"
   ]
  },
  {
   "cell_type": "markdown",
   "id": "4571827f",
   "metadata": {},
   "source": [
    "- 카이제곱 검정을 하기에 앞서 항목별 분포를 막대그래프로 시각화\n",
    "- 눈으로 보기에도 남성과 여성의 흡연자 비율 차이가 크게 남\n",
    "    - 이러한 차이가 통계쩍으로 유의미한 차이인지 확인하기 위해 카이제곱 검정을 수행"
   ]
  },
  {
   "cell_type": "code",
   "execution_count": 7,
   "id": "8ee826b2",
   "metadata": {},
   "outputs": [
    {
     "name": "stdout",
     "output_type": "stream",
     "text": [
      "Chi square: 7.8081404703715105\n",
      "P-value: 0.005201139711454792\n"
     ]
    }
   ],
   "source": [
    "# 카이제곱 검정\n",
    "chiresult = chi2_contingency(crosstab, correction = False)\n",
    "print(f\"Chi square: {chiresult[0]}\")\n",
    "print(f\"P-value: {chiresult[1]}\")"
   ]
  },
  {
   "cell_type": "code",
   "execution_count": 8,
   "id": "80068609",
   "metadata": {},
   "outputs": [
    {
     "name": "stdout",
     "output_type": "stream",
     "text": [
      "Chi square: 6.789242038107618\n",
      "P-value: 0.009170883871905303\n"
     ]
    }
   ],
   "source": [
    "# 카이제곱 검정\n",
    "chiresult = chi2_contingency(crosstab, correction = True)\n",
    "print(f\"Chi square: {chiresult[0]}\")\n",
    "print(f\"P-value: {chiresult[1]}\")"
   ]
  },
  {
   "cell_type": "markdown",
   "id": "25f92eda",
   "metadata": {},
   "source": [
    "- correction : 표본의 크기가 작을 때 보정을 수행\n",
    "    - 일반적으로는 True를 많이 사용함\n",
    "- p-value가 0.05보다 작게 나타나 성별에 따른 흡연자 비율 차이가 통계적으로 유의함"
   ]
  }
 ],
 "metadata": {
  "kernelspec": {
   "display_name": "Python 3 (ipykernel)",
   "language": "python",
   "name": "python3"
  },
  "language_info": {
   "codemirror_mode": {
    "name": "ipython",
    "version": 3
   },
   "file_extension": ".py",
   "mimetype": "text/x-python",
   "name": "python",
   "nbconvert_exporter": "python",
   "pygments_lexer": "ipython3",
   "version": "3.11.5"
  }
 },
 "nbformat": 4,
 "nbformat_minor": 5
}
