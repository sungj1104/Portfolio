{
 "cells": [
  {
   "cell_type": "markdown",
   "id": "7dd318f1",
   "metadata": {},
   "source": [
    "# 컬렉션\n",
    "\n",
    "- 여러 값을 하나의 이름으로 묶어서 관리하는 자료형\n",
    "\n",
    "- 컬렉션의 종류\n",
    "    - 리스트\n",
    "        - 생성함수 : list()\n",
    "        - 특징 : 추가, 수정, 삭제가 언제나 가능(대괄호)\n",
    "        - 예) : 1 = [1, 2, 3]\n",
    "        \n",
    "    - 튜플\n",
    "        - 생성함수 : tuple()\n",
    "        - 특징 : 생성되고 나면 변경 불가능(소괄호)\n",
    "        - 예) : a = (1, 2, 3)\n",
    "    \n",
    "    - 세트\n",
    "        - 생성함수 : set()\n",
    "        - 특징: 중복된 값의 저장 불가능(중괄호)\n",
    "        - 예) : a = {1, 2, 3}\n",
    "    \n",
    "    - 딕셔너리\n",
    "        - 생성함수 : dict()\n",
    "        - 특징 : 키 + 값으로 관리{key : value}\n",
    "        - 예) : a = {\"age\" : 25}\n",
    "        \n",
    "- 이 중에서 저장된 값들의 순서가 있는 컬렉션을 \"시퀀스(sequence)\"라고 부름\n",
    "    - 시퀀스 : 리스트, 튜플"
   ]
  },
  {
   "cell_type": "code",
   "execution_count": 21,
   "id": "10760642",
   "metadata": {},
   "outputs": [
    {
     "name": "stdout",
     "output_type": "stream",
     "text": [
      "[1, 2, 3, 4, 5]\n",
      "<class 'list'>\n",
      "{1, 2, 3, 4}\n",
      "<class 'set'>\n",
      "(2, 2, 3, 4, 5)\n",
      "<class 'tuple'>\n",
      "{'aaa': 1, 'bbb': 2, 'ccc': 3}\n",
      "<class 'dict'>\n"
     ]
    }
   ],
   "source": [
    "li = [1, 2, 3, 4, 5] # 리스트\n",
    "set_ = {1, 2, 3, 3, 4} # 세트\n",
    "tu = (2, 2, 3, 4, 5) # 튜플\n",
    "dic = {\"aaa\" : 1, \"bbb\" : 2, \"ccc\" : 3} # 딕셔너리\n",
    "\n",
    "print(li)\n",
    "print(type(li))\n",
    "print(set_)\n",
    "print(type(set_))\n",
    "print(tu)\n",
    "print(type(tu))\n",
    "print(dic)\n",
    "print(type(dic))"
   ]
  },
  {
   "cell_type": "markdown",
   "id": "4a804440",
   "metadata": {},
   "source": [
    "# 리스트(list)\n",
    "\n",
    "- 여러가지 자료를 저장할 수 있는 자료\n",
    "    - 지금까지 활용한 숫자나 문자, 수식 등이 개별적인 자료라면, 리스트는 이런 자료들을 모아서 사용할 수 있게 해주는 특별한 형태의 자료\n",
    "    \n",
    "- 리스트 생성하는 법 : 대괄호에 자료를 쉼표로 구분해서 입력\n",
    "    - [요소, 요소, 요소, ......]\n",
    "    - 대괄호 내부에 넣는 자료를 요소(element)라고 함"
   ]
  },
  {
   "cell_type": "code",
   "execution_count": 22,
   "id": "a809cd04",
   "metadata": {},
   "outputs": [],
   "source": [
    "# 숫자만으로 구성된 리스트\n",
    "list_num = [1, 2, 3, 4]\n",
    "\n",
    "# 문자열만으로 구성된 리스트\n",
    "list_str = [\"a\", \"b\", \"c\"]\n",
    "\n",
    "# 여러 자료형으로 구성된 리스트\n",
    "list_mix = [273, 32, 103, \"문자열\", True, False]"
   ]
  },
  {
   "cell_type": "code",
   "execution_count": 23,
   "id": "f3bc46aa",
   "metadata": {},
   "outputs": [
    {
     "data": {
      "text/plain": [
       "1"
      ]
     },
     "execution_count": 23,
     "metadata": {},
     "output_type": "execute_result"
    }
   ],
   "source": [
    "# 인덱싱, 슬라이싱\n",
    "li[0]"
   ]
  },
  {
   "cell_type": "code",
   "execution_count": 24,
   "id": "131bae80",
   "metadata": {},
   "outputs": [
    {
     "data": {
      "text/plain": [
       "5"
      ]
     },
     "execution_count": 24,
     "metadata": {},
     "output_type": "execute_result"
    }
   ],
   "source": [
    "li[-1]"
   ]
  },
  {
   "cell_type": "code",
   "execution_count": 25,
   "id": "df7b9cd9",
   "metadata": {},
   "outputs": [
    {
     "data": {
      "text/plain": [
       "[1, 2, 3]"
      ]
     },
     "execution_count": 25,
     "metadata": {},
     "output_type": "execute_result"
    }
   ],
   "source": [
    "li[:3]"
   ]
  },
  {
   "cell_type": "code",
   "execution_count": 26,
   "id": "2ea7cbb8",
   "metadata": {},
   "outputs": [],
   "source": [
    "# 이중리스트\n",
    "li = [1, 2, 3, [\"a\", \"b\", \"c\"]]"
   ]
  },
  {
   "cell_type": "code",
   "execution_count": 27,
   "id": "3941f92d",
   "metadata": {},
   "outputs": [
    {
     "data": {
      "text/plain": [
       "['a', 'b', 'c']"
      ]
     },
     "execution_count": 27,
     "metadata": {},
     "output_type": "execute_result"
    }
   ],
   "source": [
    "li[-1]"
   ]
  },
  {
   "cell_type": "code",
   "execution_count": 28,
   "id": "3cf4d3cf",
   "metadata": {},
   "outputs": [
    {
     "data": {
      "text/plain": [
       "'a'"
      ]
     },
     "execution_count": 28,
     "metadata": {},
     "output_type": "execute_result"
    }
   ],
   "source": [
    "li[-1][0]"
   ]
  },
  {
   "cell_type": "code",
   "execution_count": 29,
   "id": "d4746f79",
   "metadata": {},
   "outputs": [
    {
     "data": {
      "text/plain": [
       "[3, ['a', 'b', 'c']]"
      ]
     },
     "execution_count": 29,
     "metadata": {},
     "output_type": "execute_result"
    }
   ],
   "source": [
    "li[2:]"
   ]
  },
  {
   "cell_type": "markdown",
   "id": "66832457",
   "metadata": {},
   "source": [
    "## 리스트 연산\n",
    "\n",
    "- 문자열에 적용할 수 있는 연산자는 리스트에도 활용할 수 있음"
   ]
  },
  {
   "cell_type": "code",
   "execution_count": 30,
   "id": "e912bba2",
   "metadata": {},
   "outputs": [
    {
     "data": {
      "text/plain": [
       "[1, 2, 3, 4, 5, 6]"
      ]
     },
     "execution_count": 30,
     "metadata": {},
     "output_type": "execute_result"
    }
   ],
   "source": [
    "# 리스트 병합\n",
    "a = [1, 2, 3]\n",
    "b = [4, 5, 6]\n",
    "\n",
    "a + b"
   ]
  },
  {
   "cell_type": "code",
   "execution_count": 31,
   "id": "4c716709",
   "metadata": {},
   "outputs": [
    {
     "data": {
      "text/plain": [
       "[1, 2, 3, 1, 2, 3]"
      ]
     },
     "execution_count": 31,
     "metadata": {},
     "output_type": "execute_result"
    }
   ],
   "source": [
    "# 리스트 반복\n",
    "a * 2"
   ]
  },
  {
   "cell_type": "markdown",
   "id": "45d05449",
   "metadata": {},
   "source": [
    "## 리스트 수정, 삭제"
   ]
  },
  {
   "cell_type": "code",
   "execution_count": 32,
   "id": "67532e98",
   "metadata": {},
   "outputs": [
    {
     "data": {
      "text/plain": [
       "[1, 2, 3, ['a', 'b', 'c']]"
      ]
     },
     "execution_count": 32,
     "metadata": {},
     "output_type": "execute_result"
    }
   ],
   "source": [
    "li"
   ]
  },
  {
   "cell_type": "code",
   "execution_count": 33,
   "id": "20a8a86a",
   "metadata": {},
   "outputs": [],
   "source": [
    "# 요소를 인덱스로 삭제\n",
    "del li[-1] # 슬라이싱도 사용 가능"
   ]
  },
  {
   "cell_type": "code",
   "execution_count": 34,
   "id": "7139ce53",
   "metadata": {},
   "outputs": [
    {
     "data": {
      "text/plain": [
       "[1, 2, 3]"
      ]
     },
     "execution_count": 34,
     "metadata": {},
     "output_type": "execute_result"
    }
   ],
   "source": [
    "li"
   ]
  },
  {
   "cell_type": "markdown",
   "id": "4090dc54",
   "metadata": {},
   "source": [
    "- 파괴적\n",
    "    - 원본 데이터가 훼손\n",
    "    - 리스트의 경우 추가 및 수정을 통해 파괴될 것을 전제로 사용되기 때문에 파괴적인 문법이 많음\n",
    "- 비파괴적\n",
    "    - 원본 데이터에는 아무런 영향이 없으나 해당 연산을 진행했을때 보여짐\n",
    "    - 일반적으로 기본임"
   ]
  },
  {
   "cell_type": "code",
   "execution_count": 35,
   "id": "c054b291",
   "metadata": {},
   "outputs": [
    {
     "name": "stdout",
     "output_type": "stream",
     "text": [
      "3\n",
      "[1, 2, 4]\n"
     ]
    }
   ],
   "source": [
    "# 수정\n",
    "print(li[2])\n",
    "li[2] = 4\n",
    "print(li)"
   ]
  },
  {
   "cell_type": "code",
   "execution_count": 36,
   "id": "fa9f4a51",
   "metadata": {},
   "outputs": [],
   "source": [
    "# remove 함수를 이용한 삭제(값을 통한 삭제)\n",
    "li.remove(4)"
   ]
  },
  {
   "cell_type": "code",
   "execution_count": 37,
   "id": "60c64021",
   "metadata": {},
   "outputs": [
    {
     "data": {
      "text/plain": [
       "[1, 2]"
      ]
     },
     "execution_count": 37,
     "metadata": {},
     "output_type": "execute_result"
    }
   ],
   "source": [
    "li"
   ]
  },
  {
   "cell_type": "code",
   "execution_count": 38,
   "id": "c06916e0",
   "metadata": {},
   "outputs": [
    {
     "name": "stdout",
     "output_type": "stream",
     "text": [
      "[1, 2, 1, 2, 3]\n"
     ]
    }
   ],
   "source": [
    "# remove 함수는 리스트에서 첫 번째로 나오는 특정 요소를 삭제하는 함수\n",
    "li = [1, 2, 3, 1, 2, 3]\n",
    "\n",
    "li.remove(3)\n",
    "\n",
    "print(li)"
   ]
  },
  {
   "cell_type": "code",
   "execution_count": 41,
   "id": "4f2816d3",
   "metadata": {},
   "outputs": [],
   "source": [
    "# pop 함수를 이용한 삭제\n",
    "# 제거할 위치를 입력하지 않으면 기본값(-1)을 적용해서 리스트의 맨 마지막 요소를 반환하고 해당 요소를 삭제\n",
    "# 반환하기 때문에 변수 안에 넣어 줄 수도 있음\n",
    "li = [1, 2, 3]\n",
    "\n",
    "delete = li.pop()"
   ]
  },
  {
   "cell_type": "code",
   "execution_count": 42,
   "id": "00f332f5",
   "metadata": {},
   "outputs": [
    {
     "name": "stdout",
     "output_type": "stream",
     "text": [
      "[1, 2]\n",
      "3\n"
     ]
    }
   ],
   "source": [
    "print(li)\n",
    "print(delete)"
   ]
  },
  {
   "cell_type": "code",
   "execution_count": 43,
   "id": "4c659d3c",
   "metadata": {},
   "outputs": [
    {
     "data": {
      "text/plain": [
       "2"
      ]
     },
     "execution_count": 43,
     "metadata": {},
     "output_type": "execute_result"
    }
   ],
   "source": [
    "# 특정 인덱스의 요소를 반환하는 것도 가능\n",
    "li = [1, 2, 3]\n",
    "\n",
    "li.pop(1)"
   ]
  },
  {
   "cell_type": "code",
   "execution_count": 44,
   "id": "6e4c769f",
   "metadata": {},
   "outputs": [
    {
     "data": {
      "text/plain": [
       "[1, 3]"
      ]
     },
     "execution_count": 44,
     "metadata": {},
     "output_type": "execute_result"
    }
   ],
   "source": [
    "li"
   ]
  },
  {
   "cell_type": "markdown",
   "id": "0f2f5194",
   "metadata": {},
   "source": [
    "## 리스트 관련 함수"
   ]
  },
  {
   "cell_type": "code",
   "execution_count": 45,
   "id": "b163aeaf",
   "metadata": {},
   "outputs": [],
   "source": [
    "# 요소 추가\n",
    "# 리스트 뒤에 요소를 추가(기본적으로)\n",
    "li.append(5)"
   ]
  },
  {
   "cell_type": "code",
   "execution_count": 46,
   "id": "722403aa",
   "metadata": {},
   "outputs": [
    {
     "data": {
      "text/plain": [
       "[1, 3, 5]"
      ]
     },
     "execution_count": 46,
     "metadata": {},
     "output_type": "execute_result"
    }
   ],
   "source": [
    "li"
   ]
  },
  {
   "cell_type": "code",
   "execution_count": 47,
   "id": "98706328",
   "metadata": {},
   "outputs": [],
   "source": [
    "li.append([1, 2, 3])"
   ]
  },
  {
   "cell_type": "code",
   "execution_count": 48,
   "id": "fbfd6850",
   "metadata": {},
   "outputs": [
    {
     "data": {
      "text/plain": [
       "[1, 3, 5, [1, 2, 3]]"
      ]
     },
     "execution_count": 48,
     "metadata": {},
     "output_type": "execute_result"
    }
   ],
   "source": [
    "li"
   ]
  },
  {
   "cell_type": "code",
   "execution_count": 49,
   "id": "5c196e25",
   "metadata": {},
   "outputs": [],
   "source": [
    "# 요소 삽입\n",
    "# 괄호 안에서 정한 위치에 요소를 삽입\n",
    "# 해당 위치의 요소는 뒤로 하나씩 밀림\n",
    "li = [1, 2, 3]\n",
    "\n",
    "li.insert(0, 4) #(인덱스 위치, 추가할 값)"
   ]
  },
  {
   "cell_type": "code",
   "execution_count": 50,
   "id": "2b5133f3",
   "metadata": {},
   "outputs": [
    {
     "data": {
      "text/plain": [
       "[4, 1, 2, 3]"
      ]
     },
     "execution_count": 50,
     "metadata": {},
     "output_type": "execute_result"
    }
   ],
   "source": [
    "li"
   ]
  },
  {
   "cell_type": "code",
   "execution_count": 52,
   "id": "92941451",
   "metadata": {},
   "outputs": [
    {
     "data": {
      "text/plain": [
       "[4, 1, 2, 3]"
      ]
     },
     "execution_count": 52,
     "metadata": {},
     "output_type": "execute_result"
    }
   ],
   "source": [
    "# 리스트 확장\n",
    "# 리스트 뒤에 새로운 리스트의 요소들을 모두 추가\n",
    "# 한 번에 여러 요소를 추가하고 싶을 때 사용\n",
    "li"
   ]
  },
  {
   "cell_type": "code",
   "execution_count": 53,
   "id": "6ec30ad2",
   "metadata": {},
   "outputs": [],
   "source": [
    "li.extend([4, 5])"
   ]
  },
  {
   "cell_type": "code",
   "execution_count": 54,
   "id": "2512b527",
   "metadata": {},
   "outputs": [
    {
     "data": {
      "text/plain": [
       "[4, 1, 2, 3, 4, 5]"
      ]
     },
     "execution_count": 54,
     "metadata": {},
     "output_type": "execute_result"
    }
   ],
   "source": [
    "li"
   ]
  },
  {
   "cell_type": "markdown",
   "id": "76b0066a",
   "metadata": {},
   "source": [
    "#### 리스트 연결 연산자와 리스트 확장의 차이\n",
    "\n",
    "- 공통점\n",
    "    - 리스트 연결 연산자와 extend() 함수는 비슷한 형태로 동작\n",
    "        - 리스트와 리스트를 연결\n",
    "        \n",
    "- 차이점\n",
    "    - 리스트 연결 연산자(+)는 원본 리스트에 아무런 영향을 주지 않음\n",
    "        - 비파괴적\n",
    "    - extend() 함수는 원본 리스트에 직접적인 영향을 줌\n",
    "        - 파괴적\n",
    "        \n",
    "- 기본적으로 자료는 비파괴적으로 사용하는 것이 편리\n",
    "    - 원본으로도 활용할 수 있고 새로운 결과도 활용할 수 있으므로 선택지가 더 넓기 때문\n",
    "    - 따라서 기본 자료형(숫자, 문자열, 불)과 관련된 것들은 비파괴적으로 작동\n",
    "    \n",
    "- 하지만 리스트는 용량이 매우 커질 수 있음\n",
    "    - 용량이 얼마나 커질 지 알 수 없기 때문에 원본과 결과 두 가지 상태를 다 생성하는 것은 위험할 수 있음\n",
    "    - 이런 경우 원본 데이터를 직접 조작하는 기능을 통해 위험을 회피"
   ]
  },
  {
   "cell_type": "code",
   "execution_count": 55,
   "id": "96c65df5",
   "metadata": {},
   "outputs": [],
   "source": [
    "# 리스트의 오름차순 정렬\n",
    "li = [1, 4, 3, 2]\n",
    "\n",
    "li.sort()"
   ]
  },
  {
   "cell_type": "code",
   "execution_count": 56,
   "id": "fd593d63",
   "metadata": {},
   "outputs": [
    {
     "data": {
      "text/plain": [
       "[1, 2, 3, 4]"
      ]
     },
     "execution_count": 56,
     "metadata": {},
     "output_type": "execute_result"
    }
   ],
   "source": [
    "li"
   ]
  },
  {
   "cell_type": "code",
   "execution_count": 57,
   "id": "45358eee",
   "metadata": {},
   "outputs": [
    {
     "data": {
      "text/plain": [
       "[4, 3, 2, 1]"
      ]
     },
     "execution_count": 57,
     "metadata": {},
     "output_type": "execute_result"
    }
   ],
   "source": [
    "# 내림차순 정렬\n",
    "li.sort(reverse = True)\n",
    "li"
   ]
  },
  {
   "cell_type": "code",
   "execution_count": 58,
   "id": "8b933755",
   "metadata": {},
   "outputs": [],
   "source": [
    "# 리스트 뒤집기(파괴적)\n",
    "li = [\"a\", \"c\", \"b\", \"d\"]\n",
    "li.reverse()"
   ]
  },
  {
   "cell_type": "code",
   "execution_count": 59,
   "id": "6dd42864",
   "metadata": {},
   "outputs": [
    {
     "data": {
      "text/plain": [
       "['d', 'b', 'c', 'a']"
      ]
     },
     "execution_count": 59,
     "metadata": {},
     "output_type": "execute_result"
    }
   ],
   "source": [
    "li"
   ]
  },
  {
   "cell_type": "code",
   "execution_count": 60,
   "id": "9b8f5eb5",
   "metadata": {},
   "outputs": [
    {
     "data": {
      "text/plain": [
       "['a', 'c', 'b', 'd']"
      ]
     },
     "execution_count": 60,
     "metadata": {},
     "output_type": "execute_result"
    }
   ],
   "source": [
    "# 리스트 뒤집기(비파괴적)\n",
    "li[::-1]"
   ]
  },
  {
   "cell_type": "code",
   "execution_count": 61,
   "id": "b5d6aa6c",
   "metadata": {},
   "outputs": [
    {
     "data": {
      "text/plain": [
       "['d', 'b', 'c', 'a']"
      ]
     },
     "execution_count": 61,
     "metadata": {},
     "output_type": "execute_result"
    }
   ],
   "source": [
    "li"
   ]
  },
  {
   "cell_type": "code",
   "execution_count": 62,
   "id": "befc1fb0",
   "metadata": {},
   "outputs": [
    {
     "data": {
      "text/plain": [
       "2"
      ]
     },
     "execution_count": 62,
     "metadata": {},
     "output_type": "execute_result"
    }
   ],
   "source": [
    "# 위치 반환\n",
    "li = [1, 2, 3]\n",
    "li.index(3)"
   ]
  },
  {
   "cell_type": "code",
   "execution_count": 63,
   "id": "3636b6fa",
   "metadata": {},
   "outputs": [
    {
     "data": {
      "text/plain": [
       "2"
      ]
     },
     "execution_count": 63,
     "metadata": {},
     "output_type": "execute_result"
    }
   ],
   "source": [
    "# 리스트에 포함된 요소의 개수 세기\n",
    "li = [1, 2, 3, 1]\n",
    "li.count(1)"
   ]
  },
  {
   "cell_type": "code",
   "execution_count": 66,
   "id": "dd0c5360",
   "metadata": {},
   "outputs": [
    {
     "data": {
      "text/plain": [
       "4"
      ]
     },
     "execution_count": 66,
     "metadata": {},
     "output_type": "execute_result"
    }
   ],
   "source": [
    "# 리스트의 길이 구하기(리스트 요소의 개수)\n",
    "len(li)"
   ]
  },
  {
   "cell_type": "code",
   "execution_count": 67,
   "id": "d5d74ba5",
   "metadata": {},
   "outputs": [],
   "source": [
    "# 리스트 내부 요소를 모두 제거\n",
    "li.clear()"
   ]
  },
  {
   "cell_type": "code",
   "execution_count": 68,
   "id": "00853758",
   "metadata": {},
   "outputs": [
    {
     "data": {
      "text/plain": [
       "[]"
      ]
     },
     "execution_count": 68,
     "metadata": {},
     "output_type": "execute_result"
    }
   ],
   "source": [
    "li"
   ]
  },
  {
   "cell_type": "markdown",
   "id": "94a0df0b",
   "metadata": {},
   "source": [
    "#### 확인문제\n",
    "\n",
    "- list_a를 적절하게 가공하여 문제에서 제시하는 데이터 만들기"
   ]
  },
  {
   "cell_type": "code",
   "execution_count": 69,
   "id": "68a76e68",
   "metadata": {},
   "outputs": [
    {
     "data": {
      "text/plain": [
       "[0, 1, 2, 3, 4, 5, 0, 1, 2, 3, 4, 5]"
      ]
     },
     "execution_count": 69,
     "metadata": {},
     "output_type": "execute_result"
    }
   ],
   "source": [
    "#1. [0, 1, 2, 3, 4, 5, 0, 1, 2, 3, 4, 5]\n",
    "list_a = [0, 1, 2, 3, 4, 5]\n",
    "list_a*2"
   ]
  },
  {
   "cell_type": "code",
   "execution_count": 72,
   "id": "58a5cd77",
   "metadata": {},
   "outputs": [
    {
     "data": {
      "text/plain": [
       "[0, 1, 2, 3, 4, 5, 10]"
      ]
     },
     "execution_count": 72,
     "metadata": {},
     "output_type": "execute_result"
    }
   ],
   "source": [
    "#2. [0, 1, 2, 3, 4, 5, 10]\n",
    "list_a = [0, 1, 2, 3, 4, 5]\n",
    "list_a.append(10)\n",
    "list_a"
   ]
  },
  {
   "cell_type": "code",
   "execution_count": 86,
   "id": "e788316b",
   "metadata": {},
   "outputs": [
    {
     "data": {
      "text/plain": [
       "[0, 1, 2, 0, 3, 4, 5]"
      ]
     },
     "execution_count": 86,
     "metadata": {},
     "output_type": "execute_result"
    }
   ],
   "source": [
    "#3. [0, 1, 2, 0, 3, 4, 5]\n",
    "list_a = [0, 1, 2, 3, 4, 5]\n",
    "list_a.insert(list_a.index(2) + 1, 0)\n",
    "list_a"
   ]
  },
  {
   "cell_type": "code",
   "execution_count": 93,
   "id": "37fdfa40",
   "metadata": {},
   "outputs": [
    {
     "data": {
      "text/plain": [
       "[0, 1, 2, 4, 5]"
      ]
     },
     "execution_count": 93,
     "metadata": {},
     "output_type": "execute_result"
    }
   ],
   "source": [
    "#4. [0, 1, 2, 4, 5]\n",
    "list_a = [0, 1, 2, 3, 4, 5]\n",
    "list_a.pop(list_a.index(3))\n",
    "list_a"
   ]
  },
  {
   "cell_type": "code",
   "execution_count": 92,
   "id": "4898c254",
   "metadata": {},
   "outputs": [
    {
     "data": {
      "text/plain": [
       "[0, 1, 2, 3, 4]"
      ]
     },
     "execution_count": 92,
     "metadata": {},
     "output_type": "execute_result"
    }
   ],
   "source": [
    "#1. [0, 1, 2, 3, 4]\n",
    "list_a = [0, 1, 2, 3, 4, 5]\n",
    "list_a.remove(5)\n",
    "list_a"
   ]
  },
  {
   "cell_type": "markdown",
   "id": "74b962ad",
   "metadata": {},
   "source": [
    "# 튜플\n",
    "\n",
    "- 리스트와 유사하지만 튜플은 값의 추가, 삭제, 수정이 불가하다\n",
    "    - 프로그램이 실행되는 동안 값이 변하면 안되는 경우 주로 사용"
   ]
  },
  {
   "cell_type": "code",
   "execution_count": 94,
   "id": "4ffd7591",
   "metadata": {},
   "outputs": [
    {
     "data": {
      "text/plain": [
       "(2, 2, 3, 4, 5)"
      ]
     },
     "execution_count": 94,
     "metadata": {},
     "output_type": "execute_result"
    }
   ],
   "source": [
    "tu"
   ]
  },
  {
   "cell_type": "code",
   "execution_count": 95,
   "id": "6a83456d",
   "metadata": {},
   "outputs": [
    {
     "ename": "TypeError",
     "evalue": "'tuple' object doesn't support item deletion",
     "output_type": "error",
     "traceback": [
      "\u001b[1;31m---------------------------------------------------------------------------\u001b[0m",
      "\u001b[1;31mTypeError\u001b[0m                                 Traceback (most recent call last)",
      "Cell \u001b[1;32mIn[95], line 1\u001b[0m\n\u001b[1;32m----> 1\u001b[0m \u001b[38;5;28;01mdel\u001b[39;00m tu[\u001b[38;5;241m0\u001b[39m]\n",
      "\u001b[1;31mTypeError\u001b[0m: 'tuple' object doesn't support item deletion"
     ]
    }
   ],
   "source": [
    "del tu[0]"
   ]
  },
  {
   "cell_type": "code",
   "execution_count": 97,
   "id": "dee552e5",
   "metadata": {},
   "outputs": [
    {
     "ename": "TypeError",
     "evalue": "'tuple' object does not support item assignment",
     "output_type": "error",
     "traceback": [
      "\u001b[1;31m---------------------------------------------------------------------------\u001b[0m",
      "\u001b[1;31mTypeError\u001b[0m                                 Traceback (most recent call last)",
      "Cell \u001b[1;32mIn[97], line 1\u001b[0m\n\u001b[1;32m----> 1\u001b[0m tu[\u001b[38;5;241m0\u001b[39m] \u001b[38;5;241m=\u001b[39m \u001b[38;5;241m0\u001b[39m\n",
      "\u001b[1;31mTypeError\u001b[0m: 'tuple' object does not support item assignment"
     ]
    }
   ],
   "source": [
    "tu[0] = 0"
   ]
  },
  {
   "cell_type": "markdown",
   "id": "2ebb63ba",
   "metadata": {},
   "source": [
    "## 인덱싱, 슬라이싱"
   ]
  },
  {
   "cell_type": "code",
   "execution_count": 98,
   "id": "8afbc830",
   "metadata": {},
   "outputs": [
    {
     "data": {
      "text/plain": [
       "2"
      ]
     },
     "execution_count": 98,
     "metadata": {},
     "output_type": "execute_result"
    }
   ],
   "source": [
    "tu[0]"
   ]
  },
  {
   "cell_type": "code",
   "execution_count": 99,
   "id": "6ee695c6",
   "metadata": {},
   "outputs": [
    {
     "data": {
      "text/plain": [
       "(2, 3, 4, 5)"
      ]
     },
     "execution_count": 99,
     "metadata": {},
     "output_type": "execute_result"
    }
   ],
   "source": [
    "tu[1:]"
   ]
  },
  {
   "cell_type": "markdown",
   "id": "4cf5e77a",
   "metadata": {},
   "source": [
    "## 튜플 연산"
   ]
  },
  {
   "cell_type": "code",
   "execution_count": 100,
   "id": "d8c88c4b",
   "metadata": {},
   "outputs": [
    {
     "data": {
      "text/plain": [
       "(1, 2, 3, 4)"
      ]
     },
     "execution_count": 100,
     "metadata": {},
     "output_type": "execute_result"
    }
   ],
   "source": [
    "tu1 = (1, 2)\n",
    "tu2 = (3, 4)\n",
    "\n",
    "tu1 + tu2"
   ]
  },
  {
   "cell_type": "code",
   "execution_count": 103,
   "id": "9cf6bb75",
   "metadata": {},
   "outputs": [
    {
     "data": {
      "text/plain": [
       "(1, 2, 1, 2)"
      ]
     },
     "execution_count": 103,
     "metadata": {},
     "output_type": "execute_result"
    }
   ],
   "source": [
    "tu1 * 2"
   ]
  },
  {
   "cell_type": "markdown",
   "id": "cd50aec9",
   "metadata": {},
   "source": [
    "# 딕셔너리\n",
    "\n",
    "- 자료의 대응관계를 나타내는 자료형\n",
    "    - 연관 배열(Associative array) 또는 해시(Hash)\n",
    "    \n",
    "- 데이터를 조회할 때 key를 통해 value를 구함\n",
    "\n",
    "- 딕셔너리 선언\n",
    "    - 중괄호({})로 선언\n",
    "    - 키 : 값 의 형태를 콤마(,)로 연결해서 만듦\n",
    "        - 키는 문자열, 숫자, 불 등으로 선언할 수 있지만 일반적으로는 문자열을 주로 사용"
   ]
  },
  {
   "cell_type": "code",
   "execution_count": 104,
   "id": "bee4a432",
   "metadata": {},
   "outputs": [],
   "source": [
    "dic = {\"name\" : \"andy\", \"birth\" : \"1118\"}"
   ]
  },
  {
   "cell_type": "code",
   "execution_count": 105,
   "id": "e59d68aa",
   "metadata": {},
   "outputs": [
    {
     "data": {
      "text/plain": [
       "{'name': 'andy', 'birth': '1118'}"
      ]
     },
     "execution_count": 105,
     "metadata": {},
     "output_type": "execute_result"
    }
   ],
   "source": [
    "dic"
   ]
  },
  {
   "cell_type": "code",
   "execution_count": 106,
   "id": "d59eb0a5",
   "metadata": {},
   "outputs": [
    {
     "data": {
      "text/plain": [
       "'andy'"
      ]
     },
     "execution_count": 106,
     "metadata": {},
     "output_type": "execute_result"
    }
   ],
   "source": [
    "dic[\"name\"]"
   ]
  },
  {
   "cell_type": "code",
   "execution_count": 107,
   "id": "08cf8dd2",
   "metadata": {},
   "outputs": [
    {
     "data": {
      "text/plain": [
       "'1118'"
      ]
     },
     "execution_count": 107,
     "metadata": {},
     "output_type": "execute_result"
    }
   ],
   "source": [
    "dic[\"birth\"]"
   ]
  },
  {
   "cell_type": "code",
   "execution_count": 119,
   "id": "3daf5d1e",
   "metadata": {},
   "outputs": [
    {
     "data": {
      "text/plain": [
       "{'a': [1, 2, 3]}"
      ]
     },
     "execution_count": 119,
     "metadata": {},
     "output_type": "execute_result"
    }
   ],
   "source": [
    "dic = {\"a\" : [1, 2, 3]}\n",
    "dic"
   ]
  },
  {
   "cell_type": "code",
   "execution_count": 109,
   "id": "3bef7e52",
   "metadata": {},
   "outputs": [
    {
     "data": {
      "text/plain": [
       "[1, 2, 3]"
      ]
     },
     "execution_count": 109,
     "metadata": {},
     "output_type": "execute_result"
    }
   ],
   "source": [
    "dic[\"a\"]"
   ]
  },
  {
   "cell_type": "code",
   "execution_count": 110,
   "id": "4ac55003",
   "metadata": {},
   "outputs": [
    {
     "data": {
      "text/plain": [
       "3"
      ]
     },
     "execution_count": 110,
     "metadata": {},
     "output_type": "execute_result"
    }
   ],
   "source": [
    "dic[\"a\"][-1]"
   ]
  },
  {
   "cell_type": "markdown",
   "id": "05f54f4a",
   "metadata": {},
   "source": [
    "## 딕셔너리 추가, 수정, 삭제"
   ]
  },
  {
   "cell_type": "code",
   "execution_count": 120,
   "id": "114ed286",
   "metadata": {},
   "outputs": [],
   "source": [
    "# 키를 기반으로 값을 입력\n",
    "dic[\"name\"]= \"andy\""
   ]
  },
  {
   "cell_type": "code",
   "execution_count": 121,
   "id": "88683ee3",
   "metadata": {},
   "outputs": [
    {
     "data": {
      "text/plain": [
       "{'a': [1, 2, 3], 'name': 'andy'}"
      ]
     },
     "execution_count": 121,
     "metadata": {},
     "output_type": "execute_result"
    }
   ],
   "source": [
    "dic"
   ]
  },
  {
   "cell_type": "code",
   "execution_count": 122,
   "id": "a01c7aee",
   "metadata": {},
   "outputs": [],
   "source": [
    "# 이미 존재하는 키를 지정하고 값을 넣으면 기존의 값을 새로운 값으로 대치(수정)\n",
    "dic[\"name\"] = \"파인애플\""
   ]
  },
  {
   "cell_type": "code",
   "execution_count": 123,
   "id": "03304492",
   "metadata": {},
   "outputs": [
    {
     "data": {
      "text/plain": [
       "{'a': [1, 2, 3], 'name': '파인애플'}"
      ]
     },
     "execution_count": 123,
     "metadata": {},
     "output_type": "execute_result"
    }
   ],
   "source": [
    "dic"
   ]
  },
  {
   "cell_type": "code",
   "execution_count": 124,
   "id": "ae567879",
   "metadata": {},
   "outputs": [],
   "source": [
    "# 삭제\n",
    "del dic[\"name\"]"
   ]
  },
  {
   "cell_type": "code",
   "execution_count": 125,
   "id": "ab199377",
   "metadata": {},
   "outputs": [
    {
     "data": {
      "text/plain": [
       "{'a': [1, 2, 3]}"
      ]
     },
     "execution_count": 125,
     "metadata": {},
     "output_type": "execute_result"
    }
   ],
   "source": [
    "dic"
   ]
  },
  {
   "cell_type": "markdown",
   "id": "2540a82d",
   "metadata": {},
   "source": [
    "- 딕셔너리의 key는 고유한 값임\n",
    "    - 중복을 허용하지 않음\n",
    "    - 동일한 key가 존재하면 어떤 value를 불러와야 할 지 알 수 없기 때문이다."
   ]
  },
  {
   "cell_type": "code",
   "execution_count": 126,
   "id": "b93b48e1",
   "metadata": {},
   "outputs": [
    {
     "data": {
      "text/plain": [
       "{1: 'b'}"
      ]
     },
     "execution_count": 126,
     "metadata": {},
     "output_type": "execute_result"
    }
   ],
   "source": [
    "dic = {1 : \"a\", 1 : \"b\"}\n",
    "dic"
   ]
  },
  {
   "cell_type": "markdown",
   "id": "74caf50a",
   "metadata": {},
   "source": [
    "- 딕셔너리의 key에 튜플은 쓸 수 있음\n",
    "    - 리스트는 쓸 수 없음\n",
    "    - 딕셔너리의 key의 요건은 변하지 않는 값(immutable)"
   ]
  },
  {
   "cell_type": "code",
   "execution_count": 127,
   "id": "b24144ba",
   "metadata": {},
   "outputs": [
    {
     "ename": "TypeError",
     "evalue": "unhashable type: 'list'",
     "output_type": "error",
     "traceback": [
      "\u001b[1;31m---------------------------------------------------------------------------\u001b[0m",
      "\u001b[1;31mTypeError\u001b[0m                                 Traceback (most recent call last)",
      "Cell \u001b[1;32mIn[127], line 1\u001b[0m\n\u001b[1;32m----> 1\u001b[0m dic \u001b[38;5;241m=\u001b[39m {[\u001b[38;5;241m1\u001b[39m, \u001b[38;5;241m2\u001b[39m] : \u001b[38;5;124m\"\u001b[39m\u001b[38;5;124mhi\u001b[39m\u001b[38;5;124m\"\u001b[39m}\n",
      "\u001b[1;31mTypeError\u001b[0m: unhashable type: 'list'"
     ]
    }
   ],
   "source": [
    "dic = {[1, 2] : \"hi\"}"
   ]
  },
  {
   "cell_type": "code",
   "execution_count": 128,
   "id": "e438472f",
   "metadata": {},
   "outputs": [],
   "source": [
    "dic = {(1, 2) : \"hi\"}"
   ]
  },
  {
   "cell_type": "code",
   "execution_count": 129,
   "id": "b5e5226d",
   "metadata": {},
   "outputs": [
    {
     "data": {
      "text/plain": [
       "{(1, 2): 'hi'}"
      ]
     },
     "execution_count": 129,
     "metadata": {},
     "output_type": "execute_result"
    }
   ],
   "source": [
    "dic"
   ]
  },
  {
   "cell_type": "code",
   "execution_count": 130,
   "id": "eb9a7871",
   "metadata": {},
   "outputs": [
    {
     "data": {
      "text/plain": [
       "'hi'"
      ]
     },
     "execution_count": 130,
     "metadata": {},
     "output_type": "execute_result"
    }
   ],
   "source": [
    "dic[(1, 2)]"
   ]
  },
  {
   "cell_type": "code",
   "execution_count": null,
   "id": "9ede5b1a",
   "metadata": {},
   "outputs": [],
   "source": [
    "## 딕셔너리 관련 함수"
   ]
  },
  {
   "cell_type": "markdown",
   "id": "e62f7e16",
   "metadata": {},
   "source": [
    "- key, value, item 리스트"
   ]
  },
  {
   "cell_type": "code",
   "execution_count": 132,
   "id": "4cc121d5",
   "metadata": {},
   "outputs": [],
   "source": [
    "dic = {\"name\" : \"andy\", \"phone\" : \"0119991234\", \"birth\" : \"1118\"}"
   ]
  },
  {
   "cell_type": "code",
   "execution_count": 134,
   "id": "75f824f2",
   "metadata": {},
   "outputs": [
    {
     "data": {
      "text/plain": [
       "dict_keys(['name', 'phone', 'birth'])"
      ]
     },
     "execution_count": 134,
     "metadata": {},
     "output_type": "execute_result"
    }
   ],
   "source": [
    "dic.keys()"
   ]
  },
  {
   "cell_type": "code",
   "execution_count": 135,
   "id": "6e17a39f",
   "metadata": {},
   "outputs": [
    {
     "data": {
      "text/plain": [
       "dict_values(['andy', '0119991234', '1118'])"
      ]
     },
     "execution_count": 135,
     "metadata": {},
     "output_type": "execute_result"
    }
   ],
   "source": [
    "dic.values()"
   ]
  },
  {
   "cell_type": "code",
   "execution_count": 137,
   "id": "cef13ed5",
   "metadata": {},
   "outputs": [
    {
     "data": {
      "text/plain": [
       "dict_items([('name', 'andy'), ('phone', '0119991234'), ('birth', '1118')])"
      ]
     },
     "execution_count": 137,
     "metadata": {},
     "output_type": "execute_result"
    }
   ],
   "source": [
    "dic.items()"
   ]
  },
  {
   "cell_type": "markdown",
   "id": "b1ad9b19",
   "metadata": {},
   "source": [
    "- get으로 value 얻기\n",
    "    - 존재하지 않는 키로 값을 가져오려고 할 경우 오류가 발생함\n",
    "        - get으로 key가 없을 경우 기본값을 대신 가져오게 할 수 있음"
   ]
  },
  {
   "cell_type": "code",
   "execution_count": 138,
   "id": "984382bd",
   "metadata": {},
   "outputs": [
    {
     "ename": "KeyError",
     "evalue": "'foo'",
     "output_type": "error",
     "traceback": [
      "\u001b[1;31m---------------------------------------------------------------------------\u001b[0m",
      "\u001b[1;31mKeyError\u001b[0m                                  Traceback (most recent call last)",
      "Cell \u001b[1;32mIn[138], line 1\u001b[0m\n\u001b[1;32m----> 1\u001b[0m dic[\u001b[38;5;124m\"\u001b[39m\u001b[38;5;124mfoo\u001b[39m\u001b[38;5;124m\"\u001b[39m]\n",
      "\u001b[1;31mKeyError\u001b[0m: 'foo'"
     ]
    }
   ],
   "source": [
    "dic[\"foo\"]"
   ]
  },
  {
   "cell_type": "code",
   "execution_count": 140,
   "id": "c0e99259",
   "metadata": {},
   "outputs": [
    {
     "data": {
      "text/plain": [
       "'bar'"
      ]
     },
     "execution_count": 140,
     "metadata": {},
     "output_type": "execute_result"
    }
   ],
   "source": [
    "dic.get(\"foo\", \"bar\") # (키, 기본값)"
   ]
  },
  {
   "cell_type": "code",
   "execution_count": 141,
   "id": "c4852257",
   "metadata": {},
   "outputs": [
    {
     "data": {
      "text/plain": [
       "'andy'"
      ]
     },
     "execution_count": 141,
     "metadata": {},
     "output_type": "execute_result"
    }
   ],
   "source": [
    "dic.get(\"name\", \"bar\") # (키, 기본값)"
   ]
  },
  {
   "cell_type": "markdown",
   "id": "4805a725",
   "metadata": {},
   "source": [
    "- 해당 key가 딕셔너리 안에 있는지 조사하기"
   ]
  },
  {
   "cell_type": "code",
   "execution_count": 142,
   "id": "013cb907",
   "metadata": {},
   "outputs": [
    {
     "data": {
      "text/plain": [
       "{'name': 'andy', 'phone': '0119991234', 'birth': '1118'}"
      ]
     },
     "execution_count": 142,
     "metadata": {},
     "output_type": "execute_result"
    }
   ],
   "source": [
    "dic"
   ]
  },
  {
   "cell_type": "code",
   "execution_count": 143,
   "id": "e7fe3109",
   "metadata": {},
   "outputs": [
    {
     "data": {
      "text/plain": [
       "True"
      ]
     },
     "execution_count": 143,
     "metadata": {},
     "output_type": "execute_result"
    }
   ],
   "source": [
    "\"name\" in dic"
   ]
  },
  {
   "cell_type": "code",
   "execution_count": 144,
   "id": "d366feec",
   "metadata": {},
   "outputs": [
    {
     "data": {
      "text/plain": [
       "False"
      ]
     },
     "execution_count": 144,
     "metadata": {},
     "output_type": "execute_result"
    }
   ],
   "source": [
    "\"email\" in dic"
   ]
  },
  {
   "cell_type": "markdown",
   "id": "5fb38458",
   "metadata": {},
   "source": [
    "#### 확인문제"
   ]
  },
  {
   "cell_type": "code",
   "execution_count": 152,
   "id": "7957c7e4",
   "metadata": {},
   "outputs": [],
   "source": [
    "# 다음의 pets 데이터에서 \"구름\" 과 3을 각각 출력해보기\n",
    "pets = [\n",
    "    {\"name\" : \"구름\", \"age\" : 5},\n",
    "    {\"name\" : \"초코\", \"age\" : 3},\n",
    "    {\"name\" : \"아지\", \"age\" : 1},\n",
    "    {\"name\" : \"호랑이\", \"age\" : 2},\n",
    "]"
   ]
  },
  {
   "cell_type": "code",
   "execution_count": 153,
   "id": "eeea346a",
   "metadata": {},
   "outputs": [
    {
     "name": "stdout",
     "output_type": "stream",
     "text": [
      "구름\n",
      "3\n"
     ]
    }
   ],
   "source": [
    "print(pets[0][\"name\"]) # 구름\n",
    "print(pets[1][\"age\"]) # 3"
   ]
  },
  {
   "cell_type": "markdown",
   "id": "7d0081df",
   "metadata": {},
   "source": [
    "# 세트\n",
    "\n",
    "- 중복을 허용하지 않음\n",
    "- 순서가 없음"
   ]
  },
  {
   "cell_type": "code",
   "execution_count": 154,
   "id": "ce2a7cfc",
   "metadata": {},
   "outputs": [],
   "source": [
    "se1 = set(\"Hello\")"
   ]
  },
  {
   "cell_type": "code",
   "execution_count": 155,
   "id": "57a660ab",
   "metadata": {},
   "outputs": [
    {
     "data": {
      "text/plain": [
       "{'H', 'e', 'l', 'o'}"
      ]
     },
     "execution_count": 155,
     "metadata": {},
     "output_type": "execute_result"
    }
   ],
   "source": [
    "se1"
   ]
  },
  {
   "cell_type": "markdown",
   "id": "ac4d0667",
   "metadata": {},
   "source": [
    "- 교집합, 합집합, 차집합"
   ]
  },
  {
   "cell_type": "code",
   "execution_count": 156,
   "id": "5456b5ff",
   "metadata": {},
   "outputs": [],
   "source": [
    "set1 = {1, 2, 3, 4, 5, 6}\n",
    "set2 = {4, 5, 6, 7, 8, 9}"
   ]
  },
  {
   "cell_type": "code",
   "execution_count": 157,
   "id": "dfa40046",
   "metadata": {},
   "outputs": [
    {
     "data": {
      "text/plain": [
       "{4, 5, 6}"
      ]
     },
     "execution_count": 157,
     "metadata": {},
     "output_type": "execute_result"
    }
   ],
   "source": [
    "# 교집합\n",
    "set1 & set2"
   ]
  },
  {
   "cell_type": "code",
   "execution_count": 158,
   "id": "7bb47922",
   "metadata": {},
   "outputs": [
    {
     "data": {
      "text/plain": [
       "{4, 5, 6}"
      ]
     },
     "execution_count": 158,
     "metadata": {},
     "output_type": "execute_result"
    }
   ],
   "source": [
    "set1.intersection(set2)"
   ]
  },
  {
   "cell_type": "code",
   "execution_count": 161,
   "id": "0d4a1197",
   "metadata": {},
   "outputs": [
    {
     "data": {
      "text/plain": [
       "{1, 2, 3, 4, 5, 6, 7, 8, 9}"
      ]
     },
     "execution_count": 161,
     "metadata": {},
     "output_type": "execute_result"
    }
   ],
   "source": [
    "# 합집합\n",
    "set1 | set2"
   ]
  },
  {
   "cell_type": "code",
   "execution_count": 163,
   "id": "8aa3ed7c",
   "metadata": {},
   "outputs": [
    {
     "data": {
      "text/plain": [
       "{1, 2, 3, 4, 5, 6, 7, 8, 9}"
      ]
     },
     "execution_count": 163,
     "metadata": {},
     "output_type": "execute_result"
    }
   ],
   "source": [
    "set1.union(set2)"
   ]
  },
  {
   "cell_type": "code",
   "execution_count": 164,
   "id": "6c6f3ff7",
   "metadata": {},
   "outputs": [
    {
     "data": {
      "text/plain": [
       "{1, 2, 3}"
      ]
     },
     "execution_count": 164,
     "metadata": {},
     "output_type": "execute_result"
    }
   ],
   "source": [
    "# 차집합\n",
    "set1 - set2"
   ]
  },
  {
   "cell_type": "code",
   "execution_count": 165,
   "id": "90a6fdb3",
   "metadata": {},
   "outputs": [
    {
     "data": {
      "text/plain": [
       "{7, 8, 9}"
      ]
     },
     "execution_count": 165,
     "metadata": {},
     "output_type": "execute_result"
    }
   ],
   "source": [
    "set2 - set1"
   ]
  },
  {
   "cell_type": "code",
   "execution_count": 166,
   "id": "0c17c100",
   "metadata": {},
   "outputs": [
    {
     "data": {
      "text/plain": [
       "{1, 2, 3}"
      ]
     },
     "execution_count": 166,
     "metadata": {},
     "output_type": "execute_result"
    }
   ],
   "source": [
    "set1.difference(set2)"
   ]
  },
  {
   "cell_type": "code",
   "execution_count": 167,
   "id": "a6966801",
   "metadata": {},
   "outputs": [
    {
     "data": {
      "text/plain": [
       "{7, 8, 9}"
      ]
     },
     "execution_count": 167,
     "metadata": {},
     "output_type": "execute_result"
    }
   ],
   "source": [
    "set2.difference(set1)"
   ]
  },
  {
   "cell_type": "markdown",
   "id": "1077abb2",
   "metadata": {},
   "source": [
    "## 세트 관련 함수"
   ]
  },
  {
   "cell_type": "code",
   "execution_count": 168,
   "id": "554a6d4b",
   "metadata": {},
   "outputs": [
    {
     "data": {
      "text/plain": [
       "{1, 2, 3, 4, 5, 6}"
      ]
     },
     "execution_count": 168,
     "metadata": {},
     "output_type": "execute_result"
    }
   ],
   "source": [
    "# 값 추가\n",
    "set1"
   ]
  },
  {
   "cell_type": "code",
   "execution_count": 170,
   "id": "b82dd61e",
   "metadata": {},
   "outputs": [
    {
     "data": {
      "text/plain": [
       "{1, 2, 3, 4, 5, 6, 7}"
      ]
     },
     "execution_count": 170,
     "metadata": {},
     "output_type": "execute_result"
    }
   ],
   "source": [
    "set1.add(7)\n",
    "set1"
   ]
  },
  {
   "cell_type": "code",
   "execution_count": 171,
   "id": "cab3c56c",
   "metadata": {},
   "outputs": [
    {
     "data": {
      "text/plain": [
       "{1, 3, 4, 5, 6, 7}"
      ]
     },
     "execution_count": 171,
     "metadata": {},
     "output_type": "execute_result"
    }
   ],
   "source": [
    "# 값 제거\n",
    "set1.remove(2)\n",
    "set1"
   ]
  }
 ],
 "metadata": {
  "kernelspec": {
   "display_name": "Python 3 (ipykernel)",
   "language": "python",
   "name": "python3"
  },
  "language_info": {
   "codemirror_mode": {
    "name": "ipython",
    "version": 3
   },
   "file_extension": ".py",
   "mimetype": "text/x-python",
   "name": "python",
   "nbconvert_exporter": "python",
   "pygments_lexer": "ipython3",
   "version": "3.11.5"
  }
 },
 "nbformat": 4,
 "nbformat_minor": 5
}
