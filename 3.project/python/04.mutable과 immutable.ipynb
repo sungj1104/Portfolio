{
 "cells": [
  {
   "cell_type": "markdown",
   "id": "fa527e97",
   "metadata": {},
   "source": [
    "- mutable : 생성된 후에 변경이 가능한 자료형\n",
    "    - 리스트, 세트, 딕셔너리\n",
    "    \n",
    "- immutable : 생선된 후에는 변경이 불가능한 자료형\n",
    "    - 정수, 실수, 문자열, 튜플"
   ]
  },
  {
   "cell_type": "markdown",
   "id": "c7f288ff",
   "metadata": {},
   "source": [
    "# mutable"
   ]
  },
  {
   "cell_type": "code",
   "execution_count": 8,
   "id": "0243fba2",
   "metadata": {},
   "outputs": [
    {
     "data": {
      "text/plain": [
       "2227592892480"
      ]
     },
     "execution_count": 8,
     "metadata": {},
     "output_type": "execute_result"
    }
   ],
   "source": [
    "# id() : 변수나 자료형의 메모리 주소를 확인\n",
    "me = [1, 2, 3]\n",
    "id(me)"
   ]
  },
  {
   "cell_type": "code",
   "execution_count": 9,
   "id": "a9216d57",
   "metadata": {},
   "outputs": [
    {
     "data": {
      "text/plain": [
       "2227592892480"
      ]
     },
     "execution_count": 9,
     "metadata": {},
     "output_type": "execute_result"
    }
   ],
   "source": [
    "me.append(4)\n",
    "id(me)"
   ]
  },
  {
   "cell_type": "markdown",
   "id": "ba6be727",
   "metadata": {},
   "source": [
    "# immutable"
   ]
  },
  {
   "cell_type": "code",
   "execution_count": 10,
   "id": "01d1e675",
   "metadata": {},
   "outputs": [
    {
     "data": {
      "text/plain": [
       "140724059673672"
      ]
     },
     "execution_count": 10,
     "metadata": {},
     "output_type": "execute_result"
    }
   ],
   "source": [
    "me = 10\n",
    "id(me)"
   ]
  },
  {
   "cell_type": "code",
   "execution_count": 11,
   "id": "f0f38615",
   "metadata": {},
   "outputs": [
    {
     "data": {
      "text/plain": [
       "140724059673704"
      ]
     },
     "execution_count": 11,
     "metadata": {},
     "output_type": "execute_result"
    }
   ],
   "source": [
    "me += 1\n",
    "id(me)"
   ]
  },
  {
   "cell_type": "markdown",
   "id": "61c0f4f7",
   "metadata": {},
   "source": [
    "# mutable의 특징"
   ]
  },
  {
   "cell_type": "code",
   "execution_count": 12,
   "id": "079bf77d",
   "metadata": {},
   "outputs": [],
   "source": [
    "me = [1, 2, 3]\n",
    "you = me"
   ]
  },
  {
   "cell_type": "code",
   "execution_count": 13,
   "id": "db681a4f",
   "metadata": {},
   "outputs": [
    {
     "name": "stdout",
     "output_type": "stream",
     "text": [
      "2227592904064\n",
      "2227592904064\n"
     ]
    }
   ],
   "source": [
    "print(id(you))\n",
    "print(id(me))"
   ]
  },
  {
   "cell_type": "code",
   "execution_count": 14,
   "id": "02f4077d",
   "metadata": {},
   "outputs": [],
   "source": [
    "you.append(4)"
   ]
  },
  {
   "cell_type": "code",
   "execution_count": 15,
   "id": "287f41f9",
   "metadata": {},
   "outputs": [
    {
     "name": "stdout",
     "output_type": "stream",
     "text": [
      "[1, 2, 3, 4]\n",
      "[1, 2, 3, 4]\n"
     ]
    }
   ],
   "source": [
    "print(you)\n",
    "print(me)\n",
    "# 얕은 복사의 특징으로 인하여 발생"
   ]
  },
  {
   "cell_type": "markdown",
   "id": "59d31ce6",
   "metadata": {},
   "source": [
    "# 리스트의 복사"
   ]
  },
  {
   "cell_type": "code",
   "execution_count": 16,
   "id": "99baed21",
   "metadata": {},
   "outputs": [
    {
     "name": "stdout",
     "output_type": "stream",
     "text": [
      "[1, 2, 3, 4]\n",
      "2227592904064\n"
     ]
    }
   ],
   "source": [
    "print(me)\n",
    "print(id(me))"
   ]
  },
  {
   "cell_type": "code",
   "execution_count": 17,
   "id": "885b6f7b",
   "metadata": {},
   "outputs": [],
   "source": [
    "# 깊은 복사\n",
    "you = me[:]"
   ]
  },
  {
   "cell_type": "code",
   "execution_count": 18,
   "id": "9dff8c12",
   "metadata": {},
   "outputs": [
    {
     "name": "stdout",
     "output_type": "stream",
     "text": [
      "[1, 2, 3, 4]\n",
      "2227592889280\n"
     ]
    }
   ],
   "source": [
    "print(you)\n",
    "print(id(you))"
   ]
  },
  {
   "cell_type": "code",
   "execution_count": 19,
   "id": "27a88237",
   "metadata": {},
   "outputs": [],
   "source": [
    "me.append(5)"
   ]
  },
  {
   "cell_type": "code",
   "execution_count": 20,
   "id": "e744d209",
   "metadata": {},
   "outputs": [
    {
     "name": "stdout",
     "output_type": "stream",
     "text": [
      "[1, 2, 3, 4, 5]\n",
      "[1, 2, 3, 4]\n"
     ]
    }
   ],
   "source": [
    "print(me)\n",
    "print(you)"
   ]
  },
  {
   "cell_type": "code",
   "execution_count": 21,
   "id": "9c78f213",
   "metadata": {},
   "outputs": [],
   "source": [
    "# copy 함수 사용\n",
    "you = me.copy()"
   ]
  },
  {
   "cell_type": "code",
   "execution_count": 22,
   "id": "4fe54cb3",
   "metadata": {},
   "outputs": [
    {
     "name": "stdout",
     "output_type": "stream",
     "text": [
      "[1, 2, 3, 4, 5]\n",
      "2227592904064\n",
      "2227592823360\n"
     ]
    }
   ],
   "source": [
    "print(you)\n",
    "print(id(me))\n",
    "print(id(you))"
   ]
  },
  {
   "cell_type": "code",
   "execution_count": 23,
   "id": "e7e3842f",
   "metadata": {},
   "outputs": [],
   "source": [
    "me.append(6)"
   ]
  },
  {
   "cell_type": "code",
   "execution_count": 24,
   "id": "3ebfac34",
   "metadata": {},
   "outputs": [
    {
     "name": "stdout",
     "output_type": "stream",
     "text": [
      "[1, 2, 3, 4, 5, 6]\n",
      "[1, 2, 3, 4, 5]\n"
     ]
    }
   ],
   "source": [
    "print(me)\n",
    "print(you)"
   ]
  }
 ],
 "metadata": {
  "kernelspec": {
   "display_name": "Python 3 (ipykernel)",
   "language": "python",
   "name": "python3"
  },
  "language_info": {
   "codemirror_mode": {
    "name": "ipython",
    "version": 3
   },
   "file_extension": ".py",
   "mimetype": "text/x-python",
   "name": "python",
   "nbconvert_exporter": "python",
   "pygments_lexer": "ipython3",
   "version": "3.11.5"
  }
 },
 "nbformat": 4,
 "nbformat_minor": 5
}
