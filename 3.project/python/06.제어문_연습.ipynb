{
 "cells": [
  {
   "cell_type": "code",
   "execution_count": 16,
   "id": "3ffd1c9e",
   "metadata": {},
   "outputs": [
    {
     "name": "stdout",
     "output_type": "stream",
     "text": [
      "166833\n"
     ]
    }
   ],
   "source": [
    "# 1. 1부터 1000까지의 자연수 중 3의 배수의 합 구하기\n",
    "tot = 0\n",
    "for i in range(1, 1001):\n",
    "    if i % 3 == 0:\n",
    "        tot += i\n",
    "    \n",
    "print(tot)"
   ]
  },
  {
   "cell_type": "code",
   "execution_count": 17,
   "id": "06fe8651",
   "metadata": {},
   "outputs": [
    {
     "data": {
      "text/plain": [
       "166833"
      ]
     },
     "execution_count": 17,
     "metadata": {},
     "output_type": "execute_result"
    }
   ],
   "source": [
    "tot = [i for i in range(1, 1001) if i % 3 == 0]\n",
    "sum(tot)"
   ]
  },
  {
   "cell_type": "code",
   "execution_count": 18,
   "id": "9fe026ba",
   "metadata": {},
   "outputs": [
    {
     "name": "stdout",
     "output_type": "stream",
     "text": [
      "<generator object <genexpr> at 0x0000013363965E50>\n"
     ]
    }
   ],
   "source": [
    "tot2 = (i for i in range(1, 1001) if i % 3 == 0)\n",
    "tot3 = {i for i in range(1, 1001) if i % 3 == 0}\n",
    "print(tot2)"
   ]
  },
  {
   "cell_type": "code",
   "execution_count": 19,
   "id": "432e0dde",
   "metadata": {},
   "outputs": [
    {
     "name": "stdout",
     "output_type": "stream",
     "text": [
      "{3, 6, 9, 12, 15, 18, 21, 24, 27, 30, 33, 36, 39, 42, 45, 48, 51, 54, 57, 60, 63, 66, 69, 72, 75, 78, 81, 84, 87, 90, 93, 96, 99, 102, 105, 108, 111, 114, 117, 120, 123, 126, 129, 132, 135, 138, 141, 144, 147, 150, 153, 156, 159, 162, 165, 168, 171, 174, 177, 180, 183, 186, 189, 192, 195, 198, 201, 204, 207, 210, 213, 216, 219, 222, 225, 228, 231, 234, 237, 240, 243, 246, 249, 252, 255, 258, 261, 264, 267, 270, 273, 276, 279, 282, 285, 288, 291, 294, 297, 300, 303, 306, 309, 312, 315, 318, 321, 324, 327, 330, 333, 336, 339, 342, 345, 348, 351, 354, 357, 360, 363, 366, 369, 372, 375, 378, 381, 384, 387, 390, 393, 396, 399, 402, 405, 408, 411, 414, 417, 420, 423, 426, 429, 432, 435, 438, 441, 444, 447, 450, 453, 456, 459, 462, 465, 468, 471, 474, 477, 480, 483, 486, 489, 492, 495, 498, 501, 504, 507, 510, 513, 516, 519, 522, 525, 528, 531, 534, 537, 540, 543, 546, 549, 552, 555, 558, 561, 564, 567, 570, 573, 576, 579, 582, 585, 588, 591, 594, 597, 600, 603, 606, 609, 612, 615, 618, 621, 624, 627, 630, 633, 636, 639, 642, 645, 648, 651, 654, 657, 660, 663, 666, 669, 672, 675, 678, 681, 684, 687, 690, 693, 696, 699, 702, 705, 708, 711, 714, 717, 720, 723, 726, 729, 732, 735, 738, 741, 744, 747, 750, 753, 756, 759, 762, 765, 768, 771, 774, 777, 780, 783, 786, 789, 792, 795, 798, 801, 804, 807, 810, 813, 816, 819, 822, 825, 828, 831, 834, 837, 840, 843, 846, 849, 852, 855, 858, 861, 864, 867, 870, 873, 876, 879, 882, 885, 888, 891, 894, 897, 900, 903, 906, 909, 912, 915, 918, 921, 924, 927, 930, 933, 936, 939, 942, 945, 948, 951, 954, 957, 960, 963, 966, 969, 972, 975, 978, 981, 984, 987, 990, 993, 996, 999}\n"
     ]
    }
   ],
   "source": [
    "print(tot3)"
   ]
  },
  {
   "cell_type": "code",
   "execution_count": 21,
   "id": "051f81dc",
   "metadata": {},
   "outputs": [
    {
     "name": "stdout",
     "output_type": "stream",
     "text": [
      "166833\n"
     ]
    }
   ],
   "source": [
    "result = 0\n",
    "for i in range(3, 1001, 3):\n",
    "    result += i\n",
    "    \n",
    "print(result)"
   ]
  },
  {
   "cell_type": "code",
   "execution_count": 23,
   "id": "1607dd6e",
   "metadata": {},
   "outputs": [
    {
     "name": "stdout",
     "output_type": "stream",
     "text": [
      "*\n",
      "**\n",
      "***\n",
      "****\n",
      "*****\n"
     ]
    }
   ],
   "source": [
    "# 2. 계단식으로 별 출력하기(첫줄에는 * 1개, 두 번째 줄에는 * 2개,... 다섯번째 줄에 * 5개)\n",
    "for i in range(1, 6):\n",
    "    print(\"*\" * i)"
   ]
  },
  {
   "cell_type": "code",
   "execution_count": 62,
   "id": "390f8edf",
   "metadata": {},
   "outputs": [
    {
     "name": "stdout",
     "output_type": "stream",
     "text": [
      "*\n",
      "**\n",
      "***\n",
      "****\n",
      "*****\n"
     ]
    }
   ],
   "source": [
    "star = ['*' * i for i in range(1,6)]\n",
    "print(*star, sep = \"\\n\")"
   ]
  },
  {
   "cell_type": "code",
   "execution_count": 71,
   "id": "1a33bd30",
   "metadata": {},
   "outputs": [
    {
     "name": "stdout",
     "output_type": "stream",
     "text": [
      "*\n",
      "**\n",
      "***\n",
      "****\n",
      "*****\n"
     ]
    }
   ],
   "source": [
    "star = \"\"\n",
    "\n",
    "for i in range(5):\n",
    "    star += \"*\"\n",
    "    print(star)"
   ]
  },
  {
   "cell_type": "code",
   "execution_count": 109,
   "id": "6847afd7",
   "metadata": {},
   "outputs": [
    {
     "name": "stdout",
     "output_type": "stream",
     "text": [
      "*\n",
      "**\n",
      "***\n",
      "****\n",
      "*****\n"
     ]
    }
   ],
   "source": [
    "for i in range(5): # 줄에 대한 연산\n",
    "    for j in range(5): # 열에 대한 연산\n",
    "        if j <= i:\n",
    "            print(\"*\", end = \"\")\n",
    "    print() # 각 줄에 대한 연산이 끝난 후 줄바꿈"
   ]
  },
  {
   "cell_type": "code",
   "execution_count": 114,
   "id": "1dd023d8",
   "metadata": {},
   "outputs": [
    {
     "name": "stdout",
     "output_type": "stream",
     "text": [
      "[2, 6, 10, 14, 18]\n"
     ]
    }
   ],
   "source": [
    "# 3. 1부터 10까지의 자연수 중 홀수만 2를 곱해서 리스트로 저장하기\n",
    "result = []\n",
    "\n",
    "for i in range(1, 11):\n",
    "    if i % 2 == 1:\n",
    "        result.append(i * 2)\n",
    "\n",
    "print(result)"
   ]
  },
  {
   "cell_type": "code",
   "execution_count": 116,
   "id": "c4a70a36",
   "metadata": {},
   "outputs": [
    {
     "data": {
      "text/plain": [
       "[2, 6, 10, 14, 18]"
      ]
     },
     "execution_count": 116,
     "metadata": {},
     "output_type": "execute_result"
    }
   ],
   "source": [
    "result = [i * 2 for i in range(1, 11) if i % 2 == 1]\n",
    "result"
   ]
  },
  {
   "cell_type": "code",
   "execution_count": 117,
   "id": "4ba5abe0",
   "metadata": {},
   "outputs": [
    {
     "name": "stdout",
     "output_type": "stream",
     "text": [
      "[2, 6, 10, 14, 18]\n"
     ]
    }
   ],
   "source": [
    "result = []\n",
    "\n",
    "for i in range(1, 11, 2): # 1부터 10까지의 홀수\n",
    "    result.append(i * 2)\n",
    "    \n",
    "print(result)"
   ]
  },
  {
   "cell_type": "code",
   "execution_count": 118,
   "id": "7ef836c5",
   "metadata": {},
   "outputs": [
    {
     "data": {
      "text/plain": [
       "[2, 6, 10, 14, 18]"
      ]
     },
     "execution_count": 118,
     "metadata": {},
     "output_type": "execute_result"
    }
   ],
   "source": [
    "[i * 2 for i in range(1, 11, 2)]"
   ]
  },
  {
   "cell_type": "code",
   "execution_count": 13,
   "id": "151c5f5e",
   "metadata": {},
   "outputs": [
    {
     "name": "stdout",
     "output_type": "stream",
     "text": [
      "50000 - 3\n",
      "10000 - 0\n",
      "5000 - 1\n",
      "1000 - 1\n",
      "500 - 1\n",
      "100 - 2\n",
      "50 - 1\n",
      "10 - 3\n"
     ]
    }
   ],
   "source": [
    "# 4. 화폐매수 구하기\n",
    "\n",
    "a = 156780 # 원 => 500000:3, 10000:0 5000:1 .....\n",
    "b = [50000, 10000, 5000, 1000, 500, 100, 50, 10]\n",
    "\n",
    "for i in range(len(b)):\n",
    "    if 50000 in b:\n",
    "        c = a // 50000\n",
    "        a = a % 50000\n",
    "        print (f\"50000 - {c}\")\n",
    "        del b[0]\n",
    "        \n",
    "    elif 10000 in b:\n",
    "        c = a // 10000\n",
    "        a = a % 10000\n",
    "        print (f\"10000 - {c}\")\n",
    "        del b[0]\n",
    "        \n",
    "    elif 5000 in b:\n",
    "        c = a // 5000\n",
    "        a = a % 5000\n",
    "        print (f\"5000 - {c}\")\n",
    "        del b[0]\n",
    "        \n",
    "    elif 1000 in b:\n",
    "        c = a // 1000\n",
    "        a = a % 1000\n",
    "        print (f\"1000 - {c}\")\n",
    "        del b[0]\n",
    "        \n",
    "    elif 500 in b:\n",
    "        c = a // 500\n",
    "        a = a % 500\n",
    "        print (f\"500 - {c}\")\n",
    "        del b[0]\n",
    "        \n",
    "    elif 100 in b:\n",
    "        c = a // 100\n",
    "        a = a % 100\n",
    "        print (f\"100 - {c}\")\n",
    "        del b[0]\n",
    "        \n",
    "    elif 50 in b:\n",
    "        c = a // 50\n",
    "        a = a % 50\n",
    "        print (f\"50 - {c}\")\n",
    "        del b[0]\n",
    "        \n",
    "    elif 10 in b:\n",
    "        c = a // 10\n",
    "        a = a % 10\n",
    "        print (f\"10 - {c}\")\n",
    "        del b[0]"
   ]
  },
  {
   "cell_type": "code",
   "execution_count": 56,
   "id": "980f96a7",
   "metadata": {
    "scrolled": true
   },
   "outputs": [
    {
     "name": "stdout",
     "output_type": "stream",
     "text": [
      "50000 - 3\n",
      "10000 - 0\n",
      "5000 - 1\n",
      "1000 - 1\n",
      "500 - 1\n",
      "100 - 2\n",
      "50 - 1\n",
      "10 - 3\n"
     ]
    }
   ],
   "source": [
    "a = 156780 # 원 => 500000:3, 10000:0 5000:1 .....\n",
    "b = [50000, 10000, 5000, 1000, 500, 100, 50, 10]\n",
    "c = a\n",
    "\n",
    "for i in b:\n",
    "    print(f\"{i} - {c // i}\")\n",
    "    c = c % i"
   ]
  },
  {
   "cell_type": "code",
   "execution_count": 66,
   "id": "09a8f9d9",
   "metadata": {},
   "outputs": [
    {
     "name": "stdout",
     "output_type": "stream",
     "text": [
      "50000 - 3\n",
      "10000 - 0\n",
      "5000 - 1\n",
      "1000 - 1\n",
      "500 - 1\n",
      "100 - 2\n",
      "50 - 1\n",
      "10 - 3\n"
     ]
    }
   ],
   "source": [
    "# 강사님 답\n",
    "\n",
    "a = 156780 # 원 => 500000:3, 10000:0 5000:1 .....\n",
    "b = [50000, 10000, 5000, 1000, 500, 100, 50, 10]\n",
    "\n",
    "for i in b:\n",
    "    n = a // i # n : 몫\n",
    "    a -= (n * i)\n",
    "    print(f\"{i} - {n}\")"
   ]
  },
  {
   "cell_type": "code",
   "execution_count": 68,
   "id": "f88862b5",
   "metadata": {},
   "outputs": [],
   "source": [
    "# 5. name과 data를 각각 리스트에 담고 각각의 요소들을 짝지어 출력하기\n",
    "q5 = [{\"name\":\"y1\",\"data\":\"123\"},{\"name\":\"y2\",\"data\":\"234\"}]\n",
    "\n",
    "name = []\n",
    "data = []"
   ]
  },
  {
   "cell_type": "code",
   "execution_count": 76,
   "id": "7dd4d178",
   "metadata": {},
   "outputs": [
    {
     "name": "stdout",
     "output_type": "stream",
     "text": [
      "y1 123\n",
      "y2 234\n"
     ]
    }
   ],
   "source": [
    "for i in range(len(q5)):\n",
    "    name.append(q5[i][\"name\"])\n",
    "    data.append(q5[i][\"data\"])\n",
    "    \n",
    "for i in range(len(q5)):\n",
    "    print(name[i], data[i])"
   ]
  },
  {
   "cell_type": "code",
   "execution_count": 78,
   "id": "bd16a059",
   "metadata": {},
   "outputs": [
    {
     "name": "stdout",
     "output_type": "stream",
     "text": [
      "y1 123\n",
      "y2 234\n"
     ]
    }
   ],
   "source": [
    "q5 = [{\"name\":\"y1\",\"data\":\"123\"},{\"name\":\"y2\",\"data\":\"234\"}]\n",
    "\n",
    "name = [q5[i][\"name\"] for i in range(len(q5))]\n",
    "data = [q5[i][\"data\"] for i in range(len(q5))]\n",
    "\n",
    "for i in range(len(q5)):\n",
    "    print(name[i], data[i])"
   ]
  },
  {
   "cell_type": "code",
   "execution_count": 101,
   "id": "8e33bb0a",
   "metadata": {},
   "outputs": [
    {
     "name": "stdout",
     "output_type": "stream",
     "text": [
      "y1 123\n",
      "y2 234\n"
     ]
    }
   ],
   "source": [
    "q5 = [{\"name\":\"y1\",\"data\":\"123\"},{\"name\":\"y2\",\"data\":\"234\"}]\n",
    "\n",
    "name = [q5[i][list(q5[i].keys())[0]] for i in range(len(q5))]\n",
    "data = [q5[i][list(q5[i].keys())[1]] for i in range(len(q5))]\n",
    "\n",
    "for i in range(len(q5)):\n",
    "    print(name[i], data[i])"
   ]
  },
  {
   "cell_type": "code",
   "execution_count": 109,
   "id": "e7c51f6b",
   "metadata": {},
   "outputs": [
    {
     "name": "stdout",
     "output_type": "stream",
     "text": [
      "y1 123\n",
      "y2 234\n",
      "y1 123\n",
      "y2 234\n"
     ]
    }
   ],
   "source": [
    "# 강사님 정답\n",
    "\n",
    "q5 = [{\"name\":\"y1\",\"data\":\"123\"},{\"name\":\"y2\",\"data\":\"234\"}]\n",
    "\n",
    "name = []\n",
    "data = []\n",
    "\n",
    "\n",
    "for i in q5:\n",
    "    name.append(i[\"name\"])\n",
    "    data.append(i[\"data\"])\n",
    "    \n",
    "for i in range(len(name)):   \n",
    "    print(name[i], data[i])\n",
    "\n",
    "# 숙련자 모드\n",
    "for i in zip(name, data):\n",
    "    print(i[0], i[1])"
   ]
  },
  {
   "cell_type": "code",
   "execution_count": 110,
   "id": "c8dc0456",
   "metadata": {},
   "outputs": [],
   "source": [
    "# 6. id, name, age 를 각각 리스트에 담고 각각의 요소들을 짝지어 출력하기\n",
    "q6 = {\"ret\":{\"id\":\"a386\",\"name\":\"123\",\"age\":34},\"ret1\":{\"id\":\"a383\",\"name\":\"123\",\"age\":36}}\n",
    "\n",
    "id_list = []\n",
    "name = []\n",
    "age = []"
   ]
  },
  {
   "cell_type": "code",
   "execution_count": 170,
   "id": "4aa81ceb",
   "metadata": {},
   "outputs": [
    {
     "name": "stdout",
     "output_type": "stream",
     "text": [
      "a386 123 34\n",
      "a383 123 36\n"
     ]
    }
   ],
   "source": [
    "q6 = {\"ret\":{\"id\":\"a386\",\"name\":\"123\",\"age\":34},\"ret1\":{\"id\":\"a383\",\"name\":\"123\",\"age\":36}}\n",
    "\n",
    "id_list = []\n",
    "name = []\n",
    "age = []\n",
    "\n",
    "for i in q6:\n",
    "    id_list.append(q6[i][\"id\"])\n",
    "    name.append(q6[i][\"name\"])\n",
    "    age.append(q6[i][\"age\"])\n",
    "\n",
    "for i in range(len(id_list)):\n",
    "    print(id_list[i], name[i], age[i])"
   ]
  },
  {
   "cell_type": "code",
   "execution_count": 171,
   "id": "5c17bc90",
   "metadata": {},
   "outputs": [
    {
     "name": "stdout",
     "output_type": "stream",
     "text": [
      "a386 123 34\n",
      "a383 123 36\n"
     ]
    }
   ],
   "source": [
    "q6 = {\"ret\":{\"id\":\"a386\",\"name\":\"123\",\"age\":34},\"ret1\":{\"id\":\"a383\",\"name\":\"123\",\"age\":36}}\n",
    "\n",
    "id_list = []\n",
    "name = []\n",
    "age = []\n",
    "\n",
    "key = list(q6.keys())\n",
    "\n",
    "for i in key:\n",
    "    for j in q6[i]:\n",
    "        if j == \"id\":\n",
    "            id_list.append(q6[i][j])\n",
    "        elif j == \"name\":\n",
    "            name.append(q6[i][j])\n",
    "        elif j == \"age\":\n",
    "            age.append(q6[i][j])\n",
    "    \n",
    "for i in zip(id_list, name, age):\n",
    "    print(i[0], i[1], i[2])"
   ]
  },
  {
   "cell_type": "code",
   "execution_count": 156,
   "id": "3375d00b",
   "metadata": {},
   "outputs": [
    {
     "data": {
      "text/plain": [
       "['id', 'name', 'age']"
      ]
     },
     "execution_count": 156,
     "metadata": {},
     "output_type": "execute_result"
    }
   ],
   "source": [
    "list(q6[\"ret\"].keys())"
   ]
  },
  {
   "cell_type": "code",
   "execution_count": 195,
   "id": "8c381c1b",
   "metadata": {},
   "outputs": [
    {
     "name": "stdout",
     "output_type": "stream",
     "text": [
      "['a386', 'a383']\n"
     ]
    }
   ],
   "source": [
    "q6 = {\"ret\":{\"id\":\"a386\",\"name\":\"123\",\"age\":34},\"ret1\":{\"id\":\"a383\",\"name\":\"123\",\"age\":36}}\n",
    "\n",
    "id_list = [q6[i][j] for i in q6 for j in q6[i] if j == \"id\"]\n",
    "\n",
    "print(id_list)    "
   ]
  },
  {
   "cell_type": "code",
   "execution_count": 191,
   "id": "5e1323d7",
   "metadata": {},
   "outputs": [
    {
     "name": "stdout",
     "output_type": "stream",
     "text": [
      "['a383']\n"
     ]
    }
   ],
   "source": [
    "q6 = {\"ret\":{\"id\":\"a386\",\"name\":\"123\",\"age\":34},\"ret1\":{\"id\":\"a383\",\"name\":\"123\",\"age\":36}}\n",
    "\n",
    "for i in q6:\n",
    "    id_list = [q6[i][j] for j in q6[i] if j == \"id\"]\n",
    "    \n",
    "print(id_list)"
   ]
  },
  {
   "cell_type": "code",
   "execution_count": 187,
   "id": "a0fc2ccc",
   "metadata": {},
   "outputs": [
    {
     "name": "stdout",
     "output_type": "stream",
     "text": [
      "a2001 123 34\n",
      "a2002 123 54\n",
      "a2003 123 36\n",
      "a2004 123 38\n",
      "a2005 123 17\n",
      "a2006 123 52\n",
      "a2007 123 33\n"
     ]
    }
   ],
   "source": [
    "# 7. id, name, age 를 각각 리스트에 담고 각각의 요소들을 짝지어 출력하기\n",
    "\n",
    "q7 = {\"ret\":[{\"id\":\"a2001\",\"name\":\"123\",\"age\":34},{\"id\":\"a2002\",\"name\":\"123\",\"age\":54},{\"id\":\"a2003\",\"name\":\"123\",\"age\":36},{\"id\":\"a2004\",\"name\":\"123\",\"age\":38}],\"ret1\":[{\"id\":\"a2005\",\"name\":\"123\",\"age\":17},{\"id\":\"a2006\",\"name\":\"123\",\"age\":52},{\"id\":\"a2007\",\"name\":\"123\",\"age\":33}]}\n",
    "id_list = []\n",
    "name = []\n",
    "age = []\n",
    "\n",
    "for i in q7:\n",
    "    for j in range(len(q7[i])):\n",
    "        for h in q7[i][j]:\n",
    "            if h == \"id\":\n",
    "                id_list.append(q7[i][j][h])\n",
    "            elif h == \"name\":\n",
    "                name.append(q7[i][j][h])\n",
    "            elif h == \"age\":\n",
    "                age.append(q7[i][j][h])\n",
    "    \n",
    "for i in zip(id_list, name, age):\n",
    "    print(i[0], i[1], i[2])"
   ]
  },
  {
   "cell_type": "code",
   "execution_count": 199,
   "id": "64e15a56",
   "metadata": {},
   "outputs": [
    {
     "name": "stdout",
     "output_type": "stream",
     "text": [
      "a2001 123 34\n",
      "a2002 123 54\n",
      "a2003 123 36\n",
      "a2004 123 38\n",
      "a2005 123 17\n",
      "a2006 123 52\n",
      "a2007 123 33\n"
     ]
    }
   ],
   "source": [
    "q7 = {\"ret\":[{\"id\":\"a2001\",\"name\":\"123\",\"age\":34},{\"id\":\"a2002\",\"name\":\"123\",\"age\":54},{\"id\":\"a2003\",\"name\":\"123\",\"age\":36},{\"id\":\"a2004\",\"name\":\"123\",\"age\":38}],\"ret1\":[{\"id\":\"a2005\",\"name\":\"123\",\"age\":17},{\"id\":\"a2006\",\"name\":\"123\",\"age\":52},{\"id\":\"a2007\",\"name\":\"123\",\"age\":33}]}\n",
    "\n",
    "\n",
    "id_list = [q7[i][j][h] for i in q7 for j in range(len(q7[i])) for h in q7[i][j] if h == \"id\"]\n",
    "name = [q7[i][j][h] for i in q7 for j in range(len(q7[i])) for h in q7[i][j] if h == \"name\"]\n",
    "age = [q7[i][j][h] for i in q7 for j in range(len(q7[i])) for h in q7[i][j] if h == \"age\"]\n",
    "\n",
    "for i in zip(id_list, name, age):\n",
    "    print(i[0], i[1], i[2])"
   ]
  },
  {
   "cell_type": "code",
   "execution_count": 203,
   "id": "df9817f3",
   "metadata": {},
   "outputs": [
    {
     "name": "stdout",
     "output_type": "stream",
     "text": [
      "a2001 123 34\n",
      "a2002 123 54\n",
      "a2003 123 36\n",
      "a2004 123 38\n",
      "a2005 123 17\n",
      "a2006 123 52\n",
      "a2007 123 33\n"
     ]
    }
   ],
   "source": [
    "# 강사님 답\n",
    "\n",
    "q7 = {\"ret\":[{\"id\":\"a2001\",\"name\":\"123\",\"age\":34},{\"id\":\"a2002\",\"name\":\"123\",\"age\":54},{\"id\":\"a2003\",\"name\":\"123\",\"age\":36},{\"id\":\"a2004\",\"name\":\"123\",\"age\":38}],\"ret1\":[{\"id\":\"a2005\",\"name\":\"123\",\"age\":17},{\"id\":\"a2006\",\"name\":\"123\",\"age\":52},{\"id\":\"a2007\",\"name\":\"123\",\"age\":33}]}\n",
    "\n",
    "id_list = []\n",
    "name = []\n",
    "age = []\n",
    "\n",
    "for i in q7:\n",
    "    for j in q7[i]:\n",
    "        id_list.append(j[\"id\"])\n",
    "        name.append(j[\"name\"])\n",
    "        age.append(j[\"age\"])\n",
    "        \n",
    "for i in zip(id_list, name, age):\n",
    "    print(i[0], i[1], i[2])"
   ]
  },
  {
   "cell_type": "code",
   "execution_count": 47,
   "id": "e5f1f425",
   "metadata": {},
   "outputs": [
    {
     "name": "stdout",
     "output_type": "stream",
     "text": [
      "name ['AAA', 'BBB', 'CCC']\n",
      "species ['cat', 'dog', 'cat']\n",
      "likes [['tuna', 'catnip'], ['bones', 'carrots'], ['mice']]\n",
      "dislike [['ham', 'zucchini'], ['tuna'], ['cookies']]\n"
     ]
    }
   ],
   "source": [
    "# 8. name, species, likes, dislikes 를 각각 리스트에 담고 각각의 요소들을 짝지어 출력하기\n",
    "\n",
    "q8 = [{\"name\":\"AAA\",\"species\":\"cat\",\"foods\":{\"likes\":[\"tuna\",\"catnip\"],\"dislikes\":[\"ham\",\"zucchini\"]}},{\"name\":\"BBB\",\"species\":\"dog\",\"foods\":{\"likes\":[\"bones\",\"carrots\"],\"dislikes\":[\"tuna\"]}},{\"name\":\"CCC\",\"species\":\"cat\",\"foods\":{\"likes\":[\"mice\"],\"dislikes\":[\"cookies\"]}}]\n",
    "\n",
    "name =[i[\"name\"] for i in q8]\n",
    "species = [i[\"species\"] for i in q8]\n",
    "likes = [i[\"foods\"][j] for i in q8 for j in i[\"foods\"] if j == \"likes\"]\n",
    "dislike = [i[\"foods\"][j] for i in q8 for j in i[\"foods\"] if j == \"dislikes\"]\n",
    "\n",
    "print(f\"name {name}\")\n",
    "print(f\"species {species}\")\n",
    "print(f\"likes {likes}\")\n",
    "print(f\"dislike {dislike}\")"
   ]
  },
  {
   "cell_type": "code",
   "execution_count": 62,
   "id": "241c28d3",
   "metadata": {},
   "outputs": [
    {
     "name": "stdout",
     "output_type": "stream",
     "text": [
      "name ['AAA', 'BBB', 'CCC']\n",
      "species ['cat', 'dog', 'cat']\n",
      "likes [['tuna', 'catnip'], ['bones', 'carrots'], ['mice']]\n",
      "dislike [['ham', 'zucchini'], ['tuna'], ['cookies']]\n"
     ]
    }
   ],
   "source": [
    "q8 = [{\"name\":\"AAA\",\"species\":\"cat\",\"foods\":{\"likes\":[\"tuna\",\"catnip\"],\"dislikes\":[\"ham\",\"zucchini\"]}},{\"name\":\"BBB\",\"species\":\"dog\",\"foods\":{\"likes\":[\"bones\",\"carrots\"],\"dislikes\":[\"tuna\"]}},{\"name\":\"CCC\",\"species\":\"cat\",\"foods\":{\"likes\":[\"mice\"],\"dislikes\":[\"cookies\"]}}]\n",
    "\n",
    "name =[]\n",
    "species = []\n",
    "likes = []\n",
    "dislike = []\n",
    "for i in q8:\n",
    "    name.append(i[\"name\"])\n",
    "    species.append(i[\"species\"])\n",
    "    \n",
    "    for j in i[\"foods\"]:\n",
    "        if j == \"likes\":\n",
    "            likes.append(i[\"foods\"][j])\n",
    "        else:\n",
    "            dislike.append(i[\"foods\"][j])\n",
    "        \n",
    "print(f\"name {name}\")\n",
    "print(f\"species {species}\")\n",
    "print(f\"likes {likes}\")\n",
    "print(f\"dislike {dislike}\")"
   ]
  },
  {
   "cell_type": "code",
   "execution_count": 58,
   "id": "2ea706d7",
   "metadata": {},
   "outputs": [
    {
     "name": "stdout",
     "output_type": "stream",
     "text": [
      "name ['AAA', 'BBB', 'CCC']\n",
      "species ['cat', 'dog', 'cat']\n",
      "likes [['tuna', 'catnip'], ['bones', 'carrots'], ['mice']]\n",
      "dislike [['ham', 'zucchini'], ['tuna'], ['cookies']]\n"
     ]
    }
   ],
   "source": [
    "q8 = [{\"name\":\"AAA\",\"species\":\"cat\",\"foods\":{\"likes\":[\"tuna\",\"catnip\"],\"dislikes\":[\"ham\",\"zucchini\"]}},{\"name\":\"BBB\",\"species\":\"dog\",\"foods\":{\"likes\":[\"bones\",\"carrots\"],\"dislikes\":[\"tuna\"]}},{\"name\":\"CCC\",\"species\":\"cat\",\"foods\":{\"likes\":[\"mice\"],\"dislikes\":[\"cookies\"]}}]\n",
    "\n",
    "name =[]\n",
    "species = []\n",
    "likes = []\n",
    "dislike = []\n",
    "\n",
    "for i in q8:\n",
    "    for j in i:\n",
    "        if j == \"name\":\n",
    "            name.append(i[j])\n",
    "        elif j == \"species\":\n",
    "            species.append(i[j])\n",
    "        elif j == \"foods\":\n",
    "            for k in i[j]:\n",
    "                if k == \"likes\":\n",
    "                    likes.append(i[j][k])\n",
    "                elif k == \"dislikes\":\n",
    "                    dislike.append(i[j][k])\n",
    "                    \n",
    "print(f\"name {name}\")\n",
    "print(f\"species {species}\")\n",
    "print(f\"likes {likes}\")\n",
    "print(f\"dislike {dislike}\")"
   ]
  },
  {
   "cell_type": "code",
   "execution_count": null,
   "id": "55b4cee4",
   "metadata": {},
   "outputs": [],
   "source": [
    "제육\n",
    "칼국수\n",
    "가츠동"
   ]
  },
  {
   "cell_type": "code",
   "execution_count": 65,
   "id": "2c279096",
   "metadata": {},
   "outputs": [
    {
     "name": "stdout",
     "output_type": "stream",
     "text": [
      "AAA cat ['tuna', 'catnip'] ['ham', 'zucchini']\n",
      "BBB dog ['bones', 'carrots'] ['tuna']\n",
      "CCC cat ['mice'] ['cookies']\n"
     ]
    }
   ],
   "source": [
    "# 강사님 답\n",
    "q8 = [{\"name\":\"AAA\",\"species\":\"cat\",\"foods\":{\"likes\":[\"tuna\",\"catnip\"],\"dislikes\":[\"ham\",\"zucchini\"]}},{\"name\":\"BBB\",\"species\":\"dog\",\"foods\":{\"likes\":[\"bones\",\"carrots\"],\"dislikes\":[\"tuna\"]}},{\"name\":\"CCC\",\"species\":\"cat\",\"foods\":{\"likes\":[\"mice\"],\"dislikes\":[\"cookies\"]}}]\n",
    "\n",
    "name =[]\n",
    "species = []\n",
    "likes = []\n",
    "dislike = []\n",
    "\n",
    "for i in q8:\n",
    "    name.append(i[\"name\"])\n",
    "    species.append(i[\"species\"])\n",
    "    likes.append(i[\"foods\"][\"likes\"])\n",
    "    dislike.append(i[\"foods\"][\"dislikes\"])\n",
    "        \n",
    "for i in range(len(name)):\n",
    "    print(name[i], species[i], likes[i], dislike[i])"
   ]
  },
  {
   "cell_type": "code",
   "execution_count": 78,
   "id": "0f3decaf",
   "metadata": {},
   "outputs": [
    {
     "name": "stdout",
     "output_type": "stream",
     "text": [
      "id1 가나다1 31\n",
      "id2 가나다2 32\n",
      "id3 가나다3 33\n",
      "id4 가나다4 34\n",
      "id5 가나다5 35\n"
     ]
    }
   ],
   "source": [
    "# 9. id, name, age를 각각 리스트에 담고 각각의 요소들을 짝지어 출력하기\n",
    "\n",
    "q9 = {\"ret\":\"y\",\"data\":[{\"id\":\"id1\",\"name\":\"가나다1\",\"age\":31},{\"id\":\"id2\",\"name\":\"가나다2\",\"age\":32},{\"id\":\"id3\",\"name\":\"가나다3\",\"age\":33},{\"id\":\"id4\",\"name\":\"가나다4\",\"age\":34},{\"id\":\"id5\",\"name\":\"가나다5\",\"age\":35}]}\n",
    "\n",
    "id_list = []\n",
    "name = []\n",
    "age = []\n",
    "\n",
    "for i in q9[\"data\"]:\n",
    "    id_list.append(i[\"id\"])\n",
    "    name.append(i[\"name\"])\n",
    "    age.append(i[\"age\"])\n",
    "    \n",
    "for i in range(len(age)):\n",
    "    print(f\"{id_list[i]} {name[i]} {age[i]}\")"
   ]
  },
  {
   "cell_type": "code",
   "execution_count": 121,
   "id": "ced050f8",
   "metadata": {},
   "outputs": [
    {
     "name": "stdout",
     "output_type": "stream",
     "text": [
      "id1 가나다1 31\n",
      "id2 가나다2 32\n",
      "id3 가나다3 33\n",
      "id4 가나다4 34\n",
      "id5 가나다5 35\n"
     ]
    }
   ],
   "source": [
    "q9 = {\"ret\":\"y\",\"data\":[{\"id\":\"id1\",\"name\":\"가나다1\",\"age\":31},{\"id\":\"id2\",\"name\":\"가나다2\",\"age\":32},{\"id\":\"id3\",\"name\":\"가나다3\",\"age\":33},{\"id\":\"id4\",\"name\":\"가나다4\",\"age\":34},{\"id\":\"id5\",\"name\":\"가나다5\",\"age\":35}]}\n",
    "\n",
    "id_list = []\n",
    "name = []\n",
    "age = []\n",
    "\n",
    "for i in q9:\n",
    "    if i == \"data\":\n",
    "        for j in q9[i]:\n",
    "            for k in j:\n",
    "                if k == \"id\":\n",
    "                    id_list.append(j[k])\n",
    "                elif k == \"name\":\n",
    "                    name.append(j[k])\n",
    "                elif k == \"age\":\n",
    "                    age.append(j[k])\n",
    "            \n",
    "for i in zip(id_list, name, age):\n",
    "    print(i[0], i[1], i[2])"
   ]
  },
  {
   "cell_type": "code",
   "execution_count": 122,
   "id": "ce821a62",
   "metadata": {},
   "outputs": [
    {
     "name": "stdout",
     "output_type": "stream",
     "text": [
      "id1 가나다1 31\n",
      "id2 가나다2 32\n",
      "id3 가나다3 33\n",
      "id4 가나다4 34\n",
      "id5 가나다5 35\n"
     ]
    }
   ],
   "source": [
    "# 강사님 답\n",
    "q9 = {\"ret\":\"y\",\"data\":[{\"id\":\"id1\",\"name\":\"가나다1\",\"age\":31},{\"id\":\"id2\",\"name\":\"가나다2\",\"age\":32},{\"id\":\"id3\",\"name\":\"가나다3\",\"age\":33},{\"id\":\"id4\",\"name\":\"가나다4\",\"age\":34},{\"id\":\"id5\",\"name\":\"가나다5\",\"age\":35}]}\n",
    "\n",
    "id_list = []\n",
    "name = []\n",
    "age = []\n",
    "\n",
    "for i in q9[\"data\"]:\n",
    "    id_list.append(i[\"id\"])\n",
    "    name.append(i[\"name\"])\n",
    "    age.append(i[\"age\"])\n",
    "    \n",
    "for i in range(len(age)):\n",
    "    print(id_list[i], name[i], age[i])"
   ]
  },
  {
   "cell_type": "code",
   "execution_count": 150,
   "id": "f83c9cb4",
   "metadata": {},
   "outputs": [
    {
     "name": "stdout",
     "output_type": "stream",
     "text": [
      "id1 가나다1 31 50 90 69 209\n",
      "id2 가나다2 32 90 68 80 238\n",
      "id3 가나다3 33 70 76 60 206\n",
      "id4 가나다4 34 80 79 50 209\n",
      "id5 가나다5 35 80 78 90 248\n"
     ]
    }
   ],
   "source": [
    "# 10. id, name, age, mate, eng, kor, (math, eng, kor)합계 를 각각 리스트에 담고 각각의 요소를 짝지어 출력하기\n",
    "\n",
    "q10 = {\"ret\":\"y\",\"data\":[{\"id\":\"id1\",\"name\":\"가나다1\",\"age\":31,\"score\":{\"math\":50,\"eng\":90,\"kor\":69}},{\"id\":\"id2\",\"name\":\"가나다2\",\"age\":32,\"score\":{\"math\":90,\"eng\":68,\"kor\":80}},{\"id\":\"id3\",\"name\":\"가나다3\",\"age\":33,\"score\":{\"math\":70,\"eng\":76,\"kor\":60}},{\"id\":\"id4\",\"name\":\"가나다4\",\"age\":34,\"score\":{\"math\":80,\"eng\":79,\"kor\":50}},{\"id\":\"id5\",\"name\":\"가나다5\",\"age\":35,\"score\":{\"math\":80,\"eng\":78,\"kor\":90}}]}\n",
    "\n",
    "id_list = []\n",
    "name = []\n",
    "age = []\n",
    "math = []\n",
    "eng = []\n",
    "kor =[]\n",
    "total = []\n",
    "\n",
    "for i in q10[\"data\"]:\n",
    "    id_list.append(i[\"id\"])\n",
    "    name.append(i[\"name\"])\n",
    "    age.append(i[\"age\"])\n",
    "    math.append(i[\"score\"][\"math\"])\n",
    "    eng.append(i[\"score\"][\"eng\"])\n",
    "    kor.append(i[\"score\"][\"kor\"])\n",
    "    \n",
    "for i in zip(math, eng, kor):\n",
    "    total.append(sum(i))\n",
    "    \n",
    "for i in zip(id_list, name, age, math, eng, kor, total):\n",
    "    print(i[0], i[1], i[2], i[3], i[4], i[5], i[6])"
   ]
  },
  {
   "cell_type": "code",
   "execution_count": 175,
   "id": "941d2778",
   "metadata": {},
   "outputs": [
    {
     "name": "stdout",
     "output_type": "stream",
     "text": [
      "id1 가나다1 31 50 90 69 209\n",
      "id2 가나다2 32 90 68 80 238\n",
      "id3 가나다3 33 70 76 60 206\n",
      "id4 가나다4 34 80 79 50 209\n",
      "id5 가나다5 35 80 78 90 248\n"
     ]
    }
   ],
   "source": [
    "# 강사님 답\n",
    "\n",
    "q10 = {\"ret\":\"y\",\"data\":[{\"id\":\"id1\",\"name\":\"가나다1\",\"age\":31,\"score\":{\"math\":50,\"eng\":90,\"kor\":69}},{\"id\":\"id2\",\"name\":\"가나다2\",\"age\":32,\"score\":{\"math\":90,\"eng\":68,\"kor\":80}},{\"id\":\"id3\",\"name\":\"가나다3\",\"age\":33,\"score\":{\"math\":70,\"eng\":76,\"kor\":60}},{\"id\":\"id4\",\"name\":\"가나다4\",\"age\":34,\"score\":{\"math\":80,\"eng\":79,\"kor\":50}},{\"id\":\"id5\",\"name\":\"가나다5\",\"age\":35,\"score\":{\"math\":80,\"eng\":78,\"kor\":90}}]}\n",
    "\n",
    "id_list = []\n",
    "name = []\n",
    "age = []\n",
    "math = []\n",
    "eng = []\n",
    "kor =[]\n",
    "total = []\n",
    "\n",
    "for i in q10[\"data\"]:\n",
    "    id_list.append(i[\"id\"])\n",
    "    name.append(i[\"name\"])\n",
    "    age.append(i[\"age\"])\n",
    "    math.append(i[\"score\"][\"math\"])\n",
    "    eng.append(i[\"score\"][\"eng\"])\n",
    "    kor.append(i[\"score\"][\"kor\"])\n",
    "    total.append(math[-1] + eng[-1] + kor[-1])\n",
    "    \n",
    "for i in zip(id_list, name, age, math, eng, kor, total):\n",
    "    print(i[0], i[1], i[2], i[3], i[4], i[5], i[6])"
   ]
  },
  {
   "cell_type": "code",
   "execution_count": 184,
   "id": "4b15767c",
   "metadata": {},
   "outputs": [
    {
     "data": {
      "text/plain": [
       "['미션임파서블:고스트프로토콜',\n",
       " '마이 웨이',\n",
       " '셜록홈즈 : 그림자 게임',\n",
       " '퍼펙트 게임',\n",
       " '프렌즈: 몬스터섬의비밀 ',\n",
       " '라이온 킹',\n",
       " '오싹한 연애',\n",
       " '극장판 포켓몬스터 베스트 위시「비크티니와 백의 영웅 레시라무」',\n",
       " '앨빈과 슈퍼밴드3',\n",
       " '극장판 포켓몬스터 베스트 위시 「비크티니와 흑의 영웅 제크로무」']"
      ]
     },
     "execution_count": 184,
     "metadata": {},
     "output_type": "execute_result"
    }
   ],
   "source": [
    "# 11. 영화제목만 추출된 리스트 생성하기\n",
    "\n",
    "q11 = {\"boxOfficeResult\":{\"boxofficeType\":\"일별 박스오피스\",\"showRange\":\"20120101~20120101\",\"dailyBoxOfficeList\":[{\"rnum\":\"1\",\"rank\":\"1\",\"rankInten\":\"0\",\"rankOldAndNew\":\"OLD\",\"movieCd\":\"20112207\",\"movieNm\":\"미션임파서블:고스트프로토콜\",\"openDt\":\"2011-12-15\",\"salesAmt\":\"2776060500\",\"salesShare\":\"36.3\",\"salesInten\":\"-415699000\",\"salesChange\":\"-13\",\"salesAcc\":\"40541108500\",\"audiCnt\":\"353274\",\"audiInten\":\"-60106\",\"audiChange\":\"-14.5\",\"audiAcc\":\"5328435\",\"scrnCnt\":\"697\",\"showCnt\":\"3223\"},{\"rnum\":\"2\",\"rank\":\"2\",\"rankInten\":\"1\",\"rankOldAndNew\":\"OLD\",\"movieCd\":\"20110295\",\"movieNm\":\"마이 웨이\",\"openDt\":\"2011-12-21\",\"salesAmt\":\"1189058500\",\"salesShare\":\"15.6\",\"salesInten\":\"-105894500\",\"salesChange\":\"-8.2\",\"salesAcc\":\"13002897500\",\"audiCnt\":\"153501\",\"audiInten\":\"-16465\",\"audiChange\":\"-9.7\",\"audiAcc\":\"1739543\",\"scrnCnt\":\"588\",\"showCnt\":\"2321\"},{\"rnum\":\"3\",\"rank\":\"3\",\"rankInten\":\"-1\",\"rankOldAndNew\":\"OLD\",\"movieCd\":\"20112621\",\"movieNm\":\"셜록홈즈 : 그림자 게임\",\"openDt\":\"2011-12-21\",\"salesAmt\":\"1176022500\",\"salesShare\":\"15.4\",\"salesInten\":\"-210328500\",\"salesChange\":\"-15.2\",\"salesAcc\":\"10678327500\",\"audiCnt\":\"153004\",\"audiInten\":\"-31283\",\"audiChange\":\"-17\",\"audiAcc\":\"1442861\",\"scrnCnt\":\"360\",\"showCnt\":\"1832\"},{\"rnum\":\"4\",\"rank\":\"4\",\"rankInten\":\"0\",\"rankOldAndNew\":\"OLD\",\"movieCd\":\"20113260\",\"movieNm\":\"퍼펙트 게임\",\"openDt\":\"2011-12-21\",\"salesAmt\":\"644532000\",\"salesShare\":\"8.4\",\"salesInten\":\"-75116500\",\"salesChange\":\"-10.4\",\"salesAcc\":\"6640940000\",\"audiCnt\":\"83644\",\"audiInten\":\"-12225\",\"audiChange\":\"-12.8\",\"audiAcc\":\"895416\",\"scrnCnt\":\"396\",\"showCnt\":\"1364\"},{\"rnum\":\"5\",\"rank\":\"5\",\"rankInten\":\"0\",\"rankOldAndNew\":\"OLD\",\"movieCd\":\"20113271\",\"movieNm\":\"프렌즈: 몬스터섬의비밀 \",\"openDt\":\"2011-12-29\",\"salesAmt\":\"436753500\",\"salesShare\":\"5.7\",\"salesInten\":\"-89051000\",\"salesChange\":\"-16.9\",\"salesAcc\":\"1523037000\",\"audiCnt\":\"55092\",\"audiInten\":\"-15568\",\"audiChange\":\"-22\",\"audiAcc\":\"202909\",\"scrnCnt\":\"290\",\"showCnt\":\"838\"},{\"rnum\":\"6\",\"rank\":\"6\",\"rankInten\":\"1\",\"rankOldAndNew\":\"OLD\",\"movieCd\":\"19940256\",\"movieNm\":\"라이온 킹\",\"openDt\":\"1994-07-02\",\"salesAmt\":\"507115500\",\"salesShare\":\"6.6\",\"salesInten\":\"-114593500\",\"salesChange\":\"-18.4\",\"salesAcc\":\"1841625000\",\"audiCnt\":\"45750\",\"audiInten\":\"-11699\",\"audiChange\":\"-20.4\",\"audiAcc\":\"171285\",\"scrnCnt\":\"244\",\"showCnt\":\"895\"},{\"rnum\":\"7\",\"rank\":\"7\",\"rankInten\":\"-1\",\"rankOldAndNew\":\"OLD\",\"movieCd\":\"20113381\",\"movieNm\":\"오싹한 연애\",\"openDt\":\"2011-12-01\",\"salesAmt\":\"344871000\",\"salesShare\":\"4.5\",\"salesInten\":\"-107005500\",\"salesChange\":\"-23.7\",\"salesAcc\":\"20634684500\",\"audiCnt\":\"45062\",\"audiInten\":\"-15926\",\"audiChange\":\"-26.1\",\"audiAcc\":\"2823060\",\"scrnCnt\":\"243\",\"showCnt\":\"839\"},{\"rnum\":\"8\",\"rank\":\"8\",\"rankInten\":\"0\",\"rankOldAndNew\":\"OLD\",\"movieCd\":\"20112709\",\"movieNm\":\"극장판 포켓몬스터 베스트 위시「비크티니와 백의 영웅 레시라무」\",\"openDt\":\"2011-12-22\",\"salesAmt\":\"167809500\",\"salesShare\":\"2.2\",\"salesInten\":\"-45900500\",\"salesChange\":\"-21.5\",\"salesAcc\":\"1897120000\",\"audiCnt\":\"24202\",\"audiInten\":\"-7756\",\"audiChange\":\"-24.3\",\"audiAcc\":\"285959\",\"scrnCnt\":\"186\",\"showCnt\":\"348\"},{\"rnum\":\"9\",\"rank\":\"9\",\"rankInten\":\"0\",\"rankOldAndNew\":\"OLD\",\"movieCd\":\"20113311\",\"movieNm\":\"앨빈과 슈퍼밴드3\",\"openDt\":\"2011-12-15\",\"salesAmt\":\"137030000\",\"salesShare\":\"1.8\",\"salesInten\":\"-35408000\",\"salesChange\":\"-20.5\",\"salesAcc\":\"3416675000\",\"audiCnt\":\"19729\",\"audiInten\":\"-6461\",\"audiChange\":\"-24.7\",\"audiAcc\":\"516289\",\"scrnCnt\":\"169\",\"showCnt\":\"359\"},{\"rnum\":\"10\",\"rank\":\"10\",\"rankInten\":\"0\",\"rankOldAndNew\":\"OLD\",\"movieCd\":\"20112708\",\"movieNm\":\"극장판 포켓몬스터 베스트 위시 「비크티니와 흑의 영웅 제크로무」\",\"openDt\":\"2011-12-22\",\"salesAmt\":\"125535500\",\"salesShare\":\"1.6\",\"salesInten\":\"-40756000\",\"salesChange\":\"-24.5\",\"salesAcc\":\"1595695000\",\"audiCnt\":\"17817\",\"audiInten\":\"-6554\",\"audiChange\":\"-26.9\",\"audiAcc\":\"235070\",\"scrnCnt\":\"175\",\"showCnt\":\"291\"}]}}\n",
    "\n",
    "name = [i[\"movieNm\"] for i in q11[\"boxOfficeResult\"][\"dailyBoxOfficeList\"]]\n",
    "\n",
    "name"
   ]
  },
  {
   "cell_type": "code",
   "execution_count": 199,
   "id": "9072a7fb",
   "metadata": {},
   "outputs": [
    {
     "data": {
      "text/plain": [
       "['미션임파서블:고스트프로토콜',\n",
       " '마이 웨이',\n",
       " '셜록홈즈 : 그림자 게임',\n",
       " '퍼펙트 게임',\n",
       " '프렌즈: 몬스터섬의비밀 ',\n",
       " '라이온 킹',\n",
       " '오싹한 연애',\n",
       " '극장판 포켓몬스터 베스트 위시「비크티니와 백의 영웅 레시라무」',\n",
       " '앨빈과 슈퍼밴드3',\n",
       " '극장판 포켓몬스터 베스트 위시 「비크티니와 흑의 영웅 제크로무」']"
      ]
     },
     "execution_count": 199,
     "metadata": {},
     "output_type": "execute_result"
    }
   ],
   "source": [
    "q11 = {\"boxOfficeResult\":{\"boxofficeType\":\"일별 박스오피스\",\"showRange\":\"20120101~20120101\",\"dailyBoxOfficeList\":[{\"rnum\":\"1\",\"rank\":\"1\",\"rankInten\":\"0\",\"rankOldAndNew\":\"OLD\",\"movieCd\":\"20112207\",\"movieNm\":\"미션임파서블:고스트프로토콜\",\"openDt\":\"2011-12-15\",\"salesAmt\":\"2776060500\",\"salesShare\":\"36.3\",\"salesInten\":\"-415699000\",\"salesChange\":\"-13\",\"salesAcc\":\"40541108500\",\"audiCnt\":\"353274\",\"audiInten\":\"-60106\",\"audiChange\":\"-14.5\",\"audiAcc\":\"5328435\",\"scrnCnt\":\"697\",\"showCnt\":\"3223\"},{\"rnum\":\"2\",\"rank\":\"2\",\"rankInten\":\"1\",\"rankOldAndNew\":\"OLD\",\"movieCd\":\"20110295\",\"movieNm\":\"마이 웨이\",\"openDt\":\"2011-12-21\",\"salesAmt\":\"1189058500\",\"salesShare\":\"15.6\",\"salesInten\":\"-105894500\",\"salesChange\":\"-8.2\",\"salesAcc\":\"13002897500\",\"audiCnt\":\"153501\",\"audiInten\":\"-16465\",\"audiChange\":\"-9.7\",\"audiAcc\":\"1739543\",\"scrnCnt\":\"588\",\"showCnt\":\"2321\"},{\"rnum\":\"3\",\"rank\":\"3\",\"rankInten\":\"-1\",\"rankOldAndNew\":\"OLD\",\"movieCd\":\"20112621\",\"movieNm\":\"셜록홈즈 : 그림자 게임\",\"openDt\":\"2011-12-21\",\"salesAmt\":\"1176022500\",\"salesShare\":\"15.4\",\"salesInten\":\"-210328500\",\"salesChange\":\"-15.2\",\"salesAcc\":\"10678327500\",\"audiCnt\":\"153004\",\"audiInten\":\"-31283\",\"audiChange\":\"-17\",\"audiAcc\":\"1442861\",\"scrnCnt\":\"360\",\"showCnt\":\"1832\"},{\"rnum\":\"4\",\"rank\":\"4\",\"rankInten\":\"0\",\"rankOldAndNew\":\"OLD\",\"movieCd\":\"20113260\",\"movieNm\":\"퍼펙트 게임\",\"openDt\":\"2011-12-21\",\"salesAmt\":\"644532000\",\"salesShare\":\"8.4\",\"salesInten\":\"-75116500\",\"salesChange\":\"-10.4\",\"salesAcc\":\"6640940000\",\"audiCnt\":\"83644\",\"audiInten\":\"-12225\",\"audiChange\":\"-12.8\",\"audiAcc\":\"895416\",\"scrnCnt\":\"396\",\"showCnt\":\"1364\"},{\"rnum\":\"5\",\"rank\":\"5\",\"rankInten\":\"0\",\"rankOldAndNew\":\"OLD\",\"movieCd\":\"20113271\",\"movieNm\":\"프렌즈: 몬스터섬의비밀 \",\"openDt\":\"2011-12-29\",\"salesAmt\":\"436753500\",\"salesShare\":\"5.7\",\"salesInten\":\"-89051000\",\"salesChange\":\"-16.9\",\"salesAcc\":\"1523037000\",\"audiCnt\":\"55092\",\"audiInten\":\"-15568\",\"audiChange\":\"-22\",\"audiAcc\":\"202909\",\"scrnCnt\":\"290\",\"showCnt\":\"838\"},{\"rnum\":\"6\",\"rank\":\"6\",\"rankInten\":\"1\",\"rankOldAndNew\":\"OLD\",\"movieCd\":\"19940256\",\"movieNm\":\"라이온 킹\",\"openDt\":\"1994-07-02\",\"salesAmt\":\"507115500\",\"salesShare\":\"6.6\",\"salesInten\":\"-114593500\",\"salesChange\":\"-18.4\",\"salesAcc\":\"1841625000\",\"audiCnt\":\"45750\",\"audiInten\":\"-11699\",\"audiChange\":\"-20.4\",\"audiAcc\":\"171285\",\"scrnCnt\":\"244\",\"showCnt\":\"895\"},{\"rnum\":\"7\",\"rank\":\"7\",\"rankInten\":\"-1\",\"rankOldAndNew\":\"OLD\",\"movieCd\":\"20113381\",\"movieNm\":\"오싹한 연애\",\"openDt\":\"2011-12-01\",\"salesAmt\":\"344871000\",\"salesShare\":\"4.5\",\"salesInten\":\"-107005500\",\"salesChange\":\"-23.7\",\"salesAcc\":\"20634684500\",\"audiCnt\":\"45062\",\"audiInten\":\"-15926\",\"audiChange\":\"-26.1\",\"audiAcc\":\"2823060\",\"scrnCnt\":\"243\",\"showCnt\":\"839\"},{\"rnum\":\"8\",\"rank\":\"8\",\"rankInten\":\"0\",\"rankOldAndNew\":\"OLD\",\"movieCd\":\"20112709\",\"movieNm\":\"극장판 포켓몬스터 베스트 위시「비크티니와 백의 영웅 레시라무」\",\"openDt\":\"2011-12-22\",\"salesAmt\":\"167809500\",\"salesShare\":\"2.2\",\"salesInten\":\"-45900500\",\"salesChange\":\"-21.5\",\"salesAcc\":\"1897120000\",\"audiCnt\":\"24202\",\"audiInten\":\"-7756\",\"audiChange\":\"-24.3\",\"audiAcc\":\"285959\",\"scrnCnt\":\"186\",\"showCnt\":\"348\"},{\"rnum\":\"9\",\"rank\":\"9\",\"rankInten\":\"0\",\"rankOldAndNew\":\"OLD\",\"movieCd\":\"20113311\",\"movieNm\":\"앨빈과 슈퍼밴드3\",\"openDt\":\"2011-12-15\",\"salesAmt\":\"137030000\",\"salesShare\":\"1.8\",\"salesInten\":\"-35408000\",\"salesChange\":\"-20.5\",\"salesAcc\":\"3416675000\",\"audiCnt\":\"19729\",\"audiInten\":\"-6461\",\"audiChange\":\"-24.7\",\"audiAcc\":\"516289\",\"scrnCnt\":\"169\",\"showCnt\":\"359\"},{\"rnum\":\"10\",\"rank\":\"10\",\"rankInten\":\"0\",\"rankOldAndNew\":\"OLD\",\"movieCd\":\"20112708\",\"movieNm\":\"극장판 포켓몬스터 베스트 위시 「비크티니와 흑의 영웅 제크로무」\",\"openDt\":\"2011-12-22\",\"salesAmt\":\"125535500\",\"salesShare\":\"1.6\",\"salesInten\":\"-40756000\",\"salesChange\":\"-24.5\",\"salesAcc\":\"1595695000\",\"audiCnt\":\"17817\",\"audiInten\":\"-6554\",\"audiChange\":\"-26.9\",\"audiAcc\":\"235070\",\"scrnCnt\":\"175\",\"showCnt\":\"291\"}]}}\n",
    "\n",
    "name = []\n",
    "\n",
    "for i in q11:\n",
    "    \n",
    "    for j in q11[i]:\n",
    "    \n",
    "        if j == \"dailyBoxOfficeList\":\n",
    "            \n",
    "            for k in q11[i][j]:\n",
    "                \n",
    "                for g in k:\n",
    "                    \n",
    "                    if g == \"movieNm\":\n",
    "                        name.append(k[g])\n",
    "                \n",
    "                \n",
    "name"
   ]
  },
  {
   "cell_type": "code",
   "execution_count": 201,
   "id": "f10ebb3a",
   "metadata": {},
   "outputs": [
    {
     "data": {
      "text/plain": [
       "['미션임파서블:고스트프로토콜',\n",
       " '마이 웨이',\n",
       " '셜록홈즈 : 그림자 게임',\n",
       " '퍼펙트 게임',\n",
       " '프렌즈: 몬스터섬의비밀 ',\n",
       " '라이온 킹',\n",
       " '오싹한 연애',\n",
       " '극장판 포켓몬스터 베스트 위시「비크티니와 백의 영웅 레시라무」',\n",
       " '앨빈과 슈퍼밴드3',\n",
       " '극장판 포켓몬스터 베스트 위시 「비크티니와 흑의 영웅 제크로무」']"
      ]
     },
     "execution_count": 201,
     "metadata": {},
     "output_type": "execute_result"
    }
   ],
   "source": [
    "q11 = {\"boxOfficeResult\":{\"boxofficeType\":\"일별 박스오피스\",\"showRange\":\"20120101~20120101\",\"dailyBoxOfficeList\":[{\"rnum\":\"1\",\"rank\":\"1\",\"rankInten\":\"0\",\"rankOldAndNew\":\"OLD\",\"movieCd\":\"20112207\",\"movieNm\":\"미션임파서블:고스트프로토콜\",\"openDt\":\"2011-12-15\",\"salesAmt\":\"2776060500\",\"salesShare\":\"36.3\",\"salesInten\":\"-415699000\",\"salesChange\":\"-13\",\"salesAcc\":\"40541108500\",\"audiCnt\":\"353274\",\"audiInten\":\"-60106\",\"audiChange\":\"-14.5\",\"audiAcc\":\"5328435\",\"scrnCnt\":\"697\",\"showCnt\":\"3223\"},{\"rnum\":\"2\",\"rank\":\"2\",\"rankInten\":\"1\",\"rankOldAndNew\":\"OLD\",\"movieCd\":\"20110295\",\"movieNm\":\"마이 웨이\",\"openDt\":\"2011-12-21\",\"salesAmt\":\"1189058500\",\"salesShare\":\"15.6\",\"salesInten\":\"-105894500\",\"salesChange\":\"-8.2\",\"salesAcc\":\"13002897500\",\"audiCnt\":\"153501\",\"audiInten\":\"-16465\",\"audiChange\":\"-9.7\",\"audiAcc\":\"1739543\",\"scrnCnt\":\"588\",\"showCnt\":\"2321\"},{\"rnum\":\"3\",\"rank\":\"3\",\"rankInten\":\"-1\",\"rankOldAndNew\":\"OLD\",\"movieCd\":\"20112621\",\"movieNm\":\"셜록홈즈 : 그림자 게임\",\"openDt\":\"2011-12-21\",\"salesAmt\":\"1176022500\",\"salesShare\":\"15.4\",\"salesInten\":\"-210328500\",\"salesChange\":\"-15.2\",\"salesAcc\":\"10678327500\",\"audiCnt\":\"153004\",\"audiInten\":\"-31283\",\"audiChange\":\"-17\",\"audiAcc\":\"1442861\",\"scrnCnt\":\"360\",\"showCnt\":\"1832\"},{\"rnum\":\"4\",\"rank\":\"4\",\"rankInten\":\"0\",\"rankOldAndNew\":\"OLD\",\"movieCd\":\"20113260\",\"movieNm\":\"퍼펙트 게임\",\"openDt\":\"2011-12-21\",\"salesAmt\":\"644532000\",\"salesShare\":\"8.4\",\"salesInten\":\"-75116500\",\"salesChange\":\"-10.4\",\"salesAcc\":\"6640940000\",\"audiCnt\":\"83644\",\"audiInten\":\"-12225\",\"audiChange\":\"-12.8\",\"audiAcc\":\"895416\",\"scrnCnt\":\"396\",\"showCnt\":\"1364\"},{\"rnum\":\"5\",\"rank\":\"5\",\"rankInten\":\"0\",\"rankOldAndNew\":\"OLD\",\"movieCd\":\"20113271\",\"movieNm\":\"프렌즈: 몬스터섬의비밀 \",\"openDt\":\"2011-12-29\",\"salesAmt\":\"436753500\",\"salesShare\":\"5.7\",\"salesInten\":\"-89051000\",\"salesChange\":\"-16.9\",\"salesAcc\":\"1523037000\",\"audiCnt\":\"55092\",\"audiInten\":\"-15568\",\"audiChange\":\"-22\",\"audiAcc\":\"202909\",\"scrnCnt\":\"290\",\"showCnt\":\"838\"},{\"rnum\":\"6\",\"rank\":\"6\",\"rankInten\":\"1\",\"rankOldAndNew\":\"OLD\",\"movieCd\":\"19940256\",\"movieNm\":\"라이온 킹\",\"openDt\":\"1994-07-02\",\"salesAmt\":\"507115500\",\"salesShare\":\"6.6\",\"salesInten\":\"-114593500\",\"salesChange\":\"-18.4\",\"salesAcc\":\"1841625000\",\"audiCnt\":\"45750\",\"audiInten\":\"-11699\",\"audiChange\":\"-20.4\",\"audiAcc\":\"171285\",\"scrnCnt\":\"244\",\"showCnt\":\"895\"},{\"rnum\":\"7\",\"rank\":\"7\",\"rankInten\":\"-1\",\"rankOldAndNew\":\"OLD\",\"movieCd\":\"20113381\",\"movieNm\":\"오싹한 연애\",\"openDt\":\"2011-12-01\",\"salesAmt\":\"344871000\",\"salesShare\":\"4.5\",\"salesInten\":\"-107005500\",\"salesChange\":\"-23.7\",\"salesAcc\":\"20634684500\",\"audiCnt\":\"45062\",\"audiInten\":\"-15926\",\"audiChange\":\"-26.1\",\"audiAcc\":\"2823060\",\"scrnCnt\":\"243\",\"showCnt\":\"839\"},{\"rnum\":\"8\",\"rank\":\"8\",\"rankInten\":\"0\",\"rankOldAndNew\":\"OLD\",\"movieCd\":\"20112709\",\"movieNm\":\"극장판 포켓몬스터 베스트 위시「비크티니와 백의 영웅 레시라무」\",\"openDt\":\"2011-12-22\",\"salesAmt\":\"167809500\",\"salesShare\":\"2.2\",\"salesInten\":\"-45900500\",\"salesChange\":\"-21.5\",\"salesAcc\":\"1897120000\",\"audiCnt\":\"24202\",\"audiInten\":\"-7756\",\"audiChange\":\"-24.3\",\"audiAcc\":\"285959\",\"scrnCnt\":\"186\",\"showCnt\":\"348\"},{\"rnum\":\"9\",\"rank\":\"9\",\"rankInten\":\"0\",\"rankOldAndNew\":\"OLD\",\"movieCd\":\"20113311\",\"movieNm\":\"앨빈과 슈퍼밴드3\",\"openDt\":\"2011-12-15\",\"salesAmt\":\"137030000\",\"salesShare\":\"1.8\",\"salesInten\":\"-35408000\",\"salesChange\":\"-20.5\",\"salesAcc\":\"3416675000\",\"audiCnt\":\"19729\",\"audiInten\":\"-6461\",\"audiChange\":\"-24.7\",\"audiAcc\":\"516289\",\"scrnCnt\":\"169\",\"showCnt\":\"359\"},{\"rnum\":\"10\",\"rank\":\"10\",\"rankInten\":\"0\",\"rankOldAndNew\":\"OLD\",\"movieCd\":\"20112708\",\"movieNm\":\"극장판 포켓몬스터 베스트 위시 「비크티니와 흑의 영웅 제크로무」\",\"openDt\":\"2011-12-22\",\"salesAmt\":\"125535500\",\"salesShare\":\"1.6\",\"salesInten\":\"-40756000\",\"salesChange\":\"-24.5\",\"salesAcc\":\"1595695000\",\"audiCnt\":\"17817\",\"audiInten\":\"-6554\",\"audiChange\":\"-26.9\",\"audiAcc\":\"235070\",\"scrnCnt\":\"175\",\"showCnt\":\"291\"}]}}\n",
    "\n",
    "name = []\n",
    "\n",
    "for i in q11[\"boxOfficeResult\"][\"dailyBoxOfficeList\"]:\n",
    "    name.append(i[\"movieNm\"])\n",
    "    \n",
    "name"
   ]
  },
  {
   "cell_type": "code",
   "execution_count": 206,
   "id": "bb037a31",
   "metadata": {},
   "outputs": [
    {
     "data": {
      "text/plain": [
       "['미션임파서블:고스트프로토콜',\n",
       " '마이 웨이',\n",
       " '셜록홈즈 : 그림자 게임',\n",
       " '퍼펙트 게임',\n",
       " '프렌즈: 몬스터섬의비밀 ',\n",
       " '라이온 킹',\n",
       " '오싹한 연애',\n",
       " '극장판 포켓몬스터 베스트 위시「비크티니와 백의 영웅 레시라무」',\n",
       " '앨빈과 슈퍼밴드3',\n",
       " '극장판 포켓몬스터 베스트 위시 「비크티니와 흑의 영웅 제크로무」']"
      ]
     },
     "execution_count": 206,
     "metadata": {},
     "output_type": "execute_result"
    }
   ],
   "source": [
    "# 강사님 답\n",
    "\n",
    "q11 = {\"boxOfficeResult\":{\"boxofficeType\":\"일별 박스오피스\",\"showRange\":\"20120101~20120101\",\"dailyBoxOfficeList\":[{\"rnum\":\"1\",\"rank\":\"1\",\"rankInten\":\"0\",\"rankOldAndNew\":\"OLD\",\"movieCd\":\"20112207\",\"movieNm\":\"미션임파서블:고스트프로토콜\",\"openDt\":\"2011-12-15\",\"salesAmt\":\"2776060500\",\"salesShare\":\"36.3\",\"salesInten\":\"-415699000\",\"salesChange\":\"-13\",\"salesAcc\":\"40541108500\",\"audiCnt\":\"353274\",\"audiInten\":\"-60106\",\"audiChange\":\"-14.5\",\"audiAcc\":\"5328435\",\"scrnCnt\":\"697\",\"showCnt\":\"3223\"},{\"rnum\":\"2\",\"rank\":\"2\",\"rankInten\":\"1\",\"rankOldAndNew\":\"OLD\",\"movieCd\":\"20110295\",\"movieNm\":\"마이 웨이\",\"openDt\":\"2011-12-21\",\"salesAmt\":\"1189058500\",\"salesShare\":\"15.6\",\"salesInten\":\"-105894500\",\"salesChange\":\"-8.2\",\"salesAcc\":\"13002897500\",\"audiCnt\":\"153501\",\"audiInten\":\"-16465\",\"audiChange\":\"-9.7\",\"audiAcc\":\"1739543\",\"scrnCnt\":\"588\",\"showCnt\":\"2321\"},{\"rnum\":\"3\",\"rank\":\"3\",\"rankInten\":\"-1\",\"rankOldAndNew\":\"OLD\",\"movieCd\":\"20112621\",\"movieNm\":\"셜록홈즈 : 그림자 게임\",\"openDt\":\"2011-12-21\",\"salesAmt\":\"1176022500\",\"salesShare\":\"15.4\",\"salesInten\":\"-210328500\",\"salesChange\":\"-15.2\",\"salesAcc\":\"10678327500\",\"audiCnt\":\"153004\",\"audiInten\":\"-31283\",\"audiChange\":\"-17\",\"audiAcc\":\"1442861\",\"scrnCnt\":\"360\",\"showCnt\":\"1832\"},{\"rnum\":\"4\",\"rank\":\"4\",\"rankInten\":\"0\",\"rankOldAndNew\":\"OLD\",\"movieCd\":\"20113260\",\"movieNm\":\"퍼펙트 게임\",\"openDt\":\"2011-12-21\",\"salesAmt\":\"644532000\",\"salesShare\":\"8.4\",\"salesInten\":\"-75116500\",\"salesChange\":\"-10.4\",\"salesAcc\":\"6640940000\",\"audiCnt\":\"83644\",\"audiInten\":\"-12225\",\"audiChange\":\"-12.8\",\"audiAcc\":\"895416\",\"scrnCnt\":\"396\",\"showCnt\":\"1364\"},{\"rnum\":\"5\",\"rank\":\"5\",\"rankInten\":\"0\",\"rankOldAndNew\":\"OLD\",\"movieCd\":\"20113271\",\"movieNm\":\"프렌즈: 몬스터섬의비밀 \",\"openDt\":\"2011-12-29\",\"salesAmt\":\"436753500\",\"salesShare\":\"5.7\",\"salesInten\":\"-89051000\",\"salesChange\":\"-16.9\",\"salesAcc\":\"1523037000\",\"audiCnt\":\"55092\",\"audiInten\":\"-15568\",\"audiChange\":\"-22\",\"audiAcc\":\"202909\",\"scrnCnt\":\"290\",\"showCnt\":\"838\"},{\"rnum\":\"6\",\"rank\":\"6\",\"rankInten\":\"1\",\"rankOldAndNew\":\"OLD\",\"movieCd\":\"19940256\",\"movieNm\":\"라이온 킹\",\"openDt\":\"1994-07-02\",\"salesAmt\":\"507115500\",\"salesShare\":\"6.6\",\"salesInten\":\"-114593500\",\"salesChange\":\"-18.4\",\"salesAcc\":\"1841625000\",\"audiCnt\":\"45750\",\"audiInten\":\"-11699\",\"audiChange\":\"-20.4\",\"audiAcc\":\"171285\",\"scrnCnt\":\"244\",\"showCnt\":\"895\"},{\"rnum\":\"7\",\"rank\":\"7\",\"rankInten\":\"-1\",\"rankOldAndNew\":\"OLD\",\"movieCd\":\"20113381\",\"movieNm\":\"오싹한 연애\",\"openDt\":\"2011-12-01\",\"salesAmt\":\"344871000\",\"salesShare\":\"4.5\",\"salesInten\":\"-107005500\",\"salesChange\":\"-23.7\",\"salesAcc\":\"20634684500\",\"audiCnt\":\"45062\",\"audiInten\":\"-15926\",\"audiChange\":\"-26.1\",\"audiAcc\":\"2823060\",\"scrnCnt\":\"243\",\"showCnt\":\"839\"},{\"rnum\":\"8\",\"rank\":\"8\",\"rankInten\":\"0\",\"rankOldAndNew\":\"OLD\",\"movieCd\":\"20112709\",\"movieNm\":\"극장판 포켓몬스터 베스트 위시「비크티니와 백의 영웅 레시라무」\",\"openDt\":\"2011-12-22\",\"salesAmt\":\"167809500\",\"salesShare\":\"2.2\",\"salesInten\":\"-45900500\",\"salesChange\":\"-21.5\",\"salesAcc\":\"1897120000\",\"audiCnt\":\"24202\",\"audiInten\":\"-7756\",\"audiChange\":\"-24.3\",\"audiAcc\":\"285959\",\"scrnCnt\":\"186\",\"showCnt\":\"348\"},{\"rnum\":\"9\",\"rank\":\"9\",\"rankInten\":\"0\",\"rankOldAndNew\":\"OLD\",\"movieCd\":\"20113311\",\"movieNm\":\"앨빈과 슈퍼밴드3\",\"openDt\":\"2011-12-15\",\"salesAmt\":\"137030000\",\"salesShare\":\"1.8\",\"salesInten\":\"-35408000\",\"salesChange\":\"-20.5\",\"salesAcc\":\"3416675000\",\"audiCnt\":\"19729\",\"audiInten\":\"-6461\",\"audiChange\":\"-24.7\",\"audiAcc\":\"516289\",\"scrnCnt\":\"169\",\"showCnt\":\"359\"},{\"rnum\":\"10\",\"rank\":\"10\",\"rankInten\":\"0\",\"rankOldAndNew\":\"OLD\",\"movieCd\":\"20112708\",\"movieNm\":\"극장판 포켓몬스터 베스트 위시 「비크티니와 흑의 영웅 제크로무」\",\"openDt\":\"2011-12-22\",\"salesAmt\":\"125535500\",\"salesShare\":\"1.6\",\"salesInten\":\"-40756000\",\"salesChange\":\"-24.5\",\"salesAcc\":\"1595695000\",\"audiCnt\":\"17817\",\"audiInten\":\"-6554\",\"audiChange\":\"-26.9\",\"audiAcc\":\"235070\",\"scrnCnt\":\"175\",\"showCnt\":\"291\"}]}}\n",
    "\n",
    "title = []\n",
    "\n",
    "for i in q11[\"boxOfficeResult\"][\"dailyBoxOfficeList\"]:\n",
    "    title.append(i[\"movieNm\"])\n",
    "    \n",
    "title"
   ]
  },
  {
   "cell_type": "code",
   "execution_count": 207,
   "id": "8f34bc26",
   "metadata": {},
   "outputs": [
    {
     "data": {
      "text/plain": [
       "['미션임파서블:고스트프로토콜',\n",
       " '마이 웨이',\n",
       " '셜록홈즈 : 그림자 게임',\n",
       " '퍼펙트 게임',\n",
       " '프렌즈: 몬스터섬의비밀 ',\n",
       " '라이온 킹',\n",
       " '오싹한 연애',\n",
       " '극장판 포켓몬스터 베스트 위시「비크티니와 백의 영웅 레시라무」',\n",
       " '앨빈과 슈퍼밴드3',\n",
       " '극장판 포켓몬스터 베스트 위시 「비크티니와 흑의 영웅 제크로무」']"
      ]
     },
     "execution_count": 207,
     "metadata": {},
     "output_type": "execute_result"
    }
   ],
   "source": [
    "# 강사님 답 2\n",
    "\n",
    "title = [i[\"movieNm\"] for i in q11[\"boxOfficeResult\"][\"dailyBoxOfficeList\"]]\n",
    "title"
   ]
  },
  {
   "cell_type": "code",
   "execution_count": 221,
   "id": "33ebfc87",
   "metadata": {},
   "outputs": [
    {
     "name": "stdout",
     "output_type": "stream",
     "text": [
      "{'name': '기사', 'hp': 200, 'mp': 30, 'level': 5}\n"
     ]
    }
   ],
   "source": [
    "# 12. 두 리스트를 조합해 하나의 딕셔너리를 만들기\n",
    "key_list = [\"name\", \"hp\", \"mp\", \"level\"]\n",
    "value_list = [\"기사\", 200, 30, 5]\n",
    "character = dict()\n",
    "\n",
    "for i in range(len(key_list)):\n",
    "    character[key_list[i]] = value_list[i]\n",
    "    \n",
    "print(character)"
   ]
  },
  {
   "cell_type": "code",
   "execution_count": 222,
   "id": "72e91bc2",
   "metadata": {},
   "outputs": [
    {
     "name": "stdout",
     "output_type": "stream",
     "text": [
      "{'name': '기사', 'hp': 200, 'mp': 30, 'level': 5}\n"
     ]
    }
   ],
   "source": [
    "# 강사님 답\n",
    "key_list = [\"name\", \"hp\", \"mp\", \"level\"]\n",
    "value_list = [\"기사\", 200, 30, 5]\n",
    "character = dict()\n",
    "\n",
    "for i in range(len(key_list)):\n",
    "    character[key_list[i]] = value_list[i]\n",
    "    \n",
    "print(character)"
   ]
  },
  {
   "cell_type": "code",
   "execution_count": 250,
   "id": "b38f8ee0",
   "metadata": {},
   "outputs": [
    {
     "name": "stdout",
     "output_type": "stream",
     "text": [
      "{1: 3, 2: 4, 3: 3, 4: 3, 5: 2, 6: 1, 7: 2, 8: 2, 9: 3}\n"
     ]
    }
   ],
   "source": [
    "# 13. 리스트의 각 숫자가 몇번 등장하는지 출력하는 코드 작성하기\n",
    "\n",
    "numbers = [1, 2, 6, 8, 4, 3, 2, 1, 9, 5, 4, 9, 7, 2, 1, 3, 5, 4, 8, 9, 7, 2, 3]\n",
    "counter = dict()\n",
    "\n",
    "for i in range (1,10):\n",
    "    counter[i] = numbers.count(i)\n",
    "    \n",
    "print(counter)"
   ]
  },
  {
   "cell_type": "code",
   "execution_count": 229,
   "id": "bc75e305",
   "metadata": {},
   "outputs": [
    {
     "name": "stdout",
     "output_type": "stream",
     "text": [
      "{1: 3, 2: 4, 3: 3, 4: 3, 5: 2, 6: 1, 7: 2, 8: 2, 9: 3}\n"
     ]
    }
   ],
   "source": [
    "for i in set(numbers):\n",
    "    counter[i] = numbers.count(i)\n",
    "    \n",
    "print(counter)"
   ]
  },
  {
   "cell_type": "code",
   "execution_count": 239,
   "id": "5df34b0a",
   "metadata": {},
   "outputs": [
    {
     "name": "stdout",
     "output_type": "stream",
     "text": [
      "{1: 3, 2: 4, 6: 1, 8: 2, 4: 3, 3: 3, 9: 3, 5: 2, 7: 2}\n"
     ]
    }
   ],
   "source": [
    "numbers = [1, 2, 6, 8, 4, 3, 2, 1, 9, 5, 4, 9, 7, 2, 1, 3, 5, 4, 8, 9, 7, 2, 3]\n",
    "counter = dict()\n",
    "\n",
    "for i in numbers:\n",
    "    counter[i] = numbers.count(i)\n",
    "    \n",
    "print(counter)"
   ]
  },
  {
   "cell_type": "code",
   "execution_count": 249,
   "id": "cbf16edf",
   "metadata": {},
   "outputs": [
    {
     "name": "stdout",
     "output_type": "stream",
     "text": [
      "{1: 3, 2: 4, 3: 3, 4: 3, 5: 2, 6: 1, 7: 2, 8: 2, 9: 3}\n"
     ]
    }
   ],
   "source": [
    "numbers = [1, 2, 6, 8, 4, 3, 2, 1, 9, 5, 4, 9, 7, 2, 1, 3, 5, 4, 8, 9, 7, 2, 3]\n",
    "counter = dict()\n",
    "\n",
    "import numpy as np\n",
    "\n",
    "for i in np.sort(numbers):\n",
    "    counter[i] = numbers.count(i)\n",
    "    \n",
    "print(counter)"
   ]
  },
  {
   "cell_type": "code",
   "execution_count": 258,
   "id": "18524493",
   "metadata": {},
   "outputs": [
    {
     "name": "stdout",
     "output_type": "stream",
     "text": [
      "{1: 3, 2: 4, 6: 1, 8: 2, 4: 3, 3: 3, 9: 3, 5: 2, 7: 2}\n"
     ]
    }
   ],
   "source": [
    "numbers = [1, 2, 6, 8, 4, 3, 2, 1, 9, 5, 4, 9, 7, 2, 1, 3, 5, 4, 8, 9, 7, 2, 3]\n",
    "counter = dict()\n",
    "\n",
    "if i not in list(counter.keys()):\n",
    "    for i in numbers:\n",
    "        counter[i] = numbers.count(i)\n",
    "        \n",
    "print(counter)"
   ]
  },
  {
   "cell_type": "code",
   "execution_count": 259,
   "id": "f393ca2e",
   "metadata": {},
   "outputs": [
    {
     "name": "stdout",
     "output_type": "stream",
     "text": [
      "{1: 3, 2: 4, 3: 3, 4: 3, 5: 2, 6: 1, 7: 2, 8: 2, 9: 3}\n"
     ]
    }
   ],
   "source": [
    "# 강사님 답 = 딕셔너리 내포\n",
    "counter = {i : numbers.count(i) for i in set(numbers)}\n",
    "print(counter)"
   ]
  },
  {
   "cell_type": "code",
   "execution_count": 263,
   "id": "9d72863f",
   "metadata": {},
   "outputs": [
    {
     "name": "stdout",
     "output_type": "stream",
     "text": [
      "{1: 3, 2: 4, 6: 1, 8: 2, 4: 3, 3: 3, 9: 3, 5: 2, 7: 2}\n"
     ]
    }
   ],
   "source": [
    "# 강사님 선호 코드\n",
    "numbers = [1, 2, 6, 8, 4, 3, 2, 1, 9, 5, 4, 9, 7, 2, 1, 3, 5, 4, 8, 9, 7, 2, 3]\n",
    "counter = dict()\n",
    "\n",
    "for num in numbers:\n",
    "    if num in counter: # 해당 key가 딕셔너리 안에 있다면\n",
    "        counter[num] = counter[num]+ 1 # 값 수정\n",
    "    else: # 해당 key가 딕셔너리 안에 없다면\n",
    "        counter[num] = 1 # 요소 추가\n",
    "        \n",
    "print(counter)"
   ]
  },
  {
   "cell_type": "code",
   "execution_count": 264,
   "id": "952df8f0",
   "metadata": {},
   "outputs": [
    {
     "name": "stdout",
     "output_type": "stream",
     "text": [
      "{1: 3, 2: 4, 6: 1, 8: 2, 4: 3, 3: 3, 9: 3, 5: 2, 7: 2}\n"
     ]
    }
   ],
   "source": [
    "# 위 코드를 get() 메서드로 개선\n",
    "numbers = [1, 2, 6, 8, 4, 3, 2, 1, 9, 5, 4, 9, 7, 2, 1, 3, 5, 4, 8, 9, 7, 2, 3]\n",
    "counter = dict()\n",
    "\n",
    "for num in numbers:\n",
    "    counter[num] = counter.get(num,0) + 1\n",
    "    \n",
    "print(counter)"
   ]
  }
 ],
 "metadata": {
  "kernelspec": {
   "display_name": "Python 3 (ipykernel)",
   "language": "python",
   "name": "python3"
  },
  "language_info": {
   "codemirror_mode": {
    "name": "ipython",
    "version": 3
   },
   "file_extension": ".py",
   "mimetype": "text/x-python",
   "name": "python",
   "nbconvert_exporter": "python",
   "pygments_lexer": "ipython3",
   "version": "3.11.5"
  }
 },
 "nbformat": 4,
 "nbformat_minor": 5
}
