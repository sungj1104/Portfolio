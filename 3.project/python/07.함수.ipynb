{
 "cells": [
  {
   "cell_type": "markdown",
   "id": "53bebbfa",
   "metadata": {},
   "source": [
    "# 파이썬 함수의 구조\n",
    "\n",
    "```\n",
    "def 함수명(매개변수):\n",
    "    수행할 문장\n",
    "```"
   ]
  },
  {
   "cell_type": "code",
   "execution_count": 1,
   "id": "c6a2711f",
   "metadata": {},
   "outputs": [],
   "source": [
    "# welcome 함수 정의\n",
    "def welcome():\n",
    "    print(\"Hello!\")\n",
    "    print(\"Nice to meet you\")"
   ]
  },
  {
   "cell_type": "code",
   "execution_count": 2,
   "id": "193925c7",
   "metadata": {},
   "outputs": [
    {
     "name": "stdout",
     "output_type": "stream",
     "text": [
      "Hello!\n",
      "Nice to meet you\n"
     ]
    }
   ],
   "source": [
    "# 함수 호출(call function)\n",
    "welcome()"
   ]
  },
  {
   "cell_type": "code",
   "execution_count": 9,
   "id": "4c783289",
   "metadata": {},
   "outputs": [],
   "source": [
    "# add 함수 정의\n",
    "def add(a, b):\n",
    "    return a + b"
   ]
  },
  {
   "cell_type": "code",
   "execution_count": 10,
   "id": "45bdf954",
   "metadata": {},
   "outputs": [
    {
     "name": "stdout",
     "output_type": "stream",
     "text": [
      "7\n"
     ]
    }
   ],
   "source": [
    "c = add(3, 4)\n",
    "print(c)"
   ]
  },
  {
   "cell_type": "markdown",
   "id": "678d111d",
   "metadata": {},
   "source": [
    "## 함수 사용의 장점\n",
    "\n",
    "- 코드의 용도를 구분\n",
    "- 코드 재사용이 용이\n",
    "- 실수를 방지(오타 등)"
   ]
  },
  {
   "cell_type": "markdown",
   "id": "236b0212",
   "metadata": {},
   "source": [
    "- 함수의 기본 제작과정(코드 리펙토링)\n",
    "    1. 일단 돌아가는 코드를 작성\n",
    "    2. 반복되는 패턴 파악\n",
    "    3. 함수 작성"
   ]
  },
  {
   "cell_type": "markdown",
   "id": "2cf6235c",
   "metadata": {},
   "source": [
    "# 매개변수와 인수\n",
    "\n",
    "- 매개변수 : 함수에 입력으로 전달된 값을 받는 변수\n",
    "- 인수 : 함수를 호출할 때 전달하는 입력값\n",
    "\n",
    "- 인수와 매개변수는 다른 개념이지만 함수가 호출된 뒤에는 구분이 모호해지므로 구분하지 않는 경우도 많음\n",
    "\n",
    "- 함수의 처리과정\n",
    "    - 입력값 -> 함수 -> 결괏값\n",
    "    \n",
    "- 함수의 사용법\n",
    "    - 결괏값을 받을 변수 = 함수이름(입력인수1, 입력인수2, ...)"
   ]
  },
  {
   "cell_type": "code",
   "execution_count": 1,
   "id": "9508b2a5",
   "metadata": {},
   "outputs": [],
   "source": [
    "def print_n_times(value, n):\n",
    "    for _ in range(n): # 변수가 특별히 쓰이지 않을때에 통상적으로 언더바를 이용\n",
    "        print(value)"
   ]
  },
  {
   "cell_type": "code",
   "execution_count": 2,
   "id": "710babcc",
   "metadata": {},
   "outputs": [
    {
     "ename": "TypeError",
     "evalue": "print_n_times() missing 1 required positional argument: 'n'",
     "output_type": "error",
     "traceback": [
      "\u001b[1;31m---------------------------------------------------------------------------\u001b[0m",
      "\u001b[1;31mTypeError\u001b[0m                                 Traceback (most recent call last)",
      "Cell \u001b[1;32mIn[2], line 2\u001b[0m\n\u001b[0;32m      1\u001b[0m \u001b[38;5;66;03m# 매개변수를 2개 지정하고 인수를 하나만 넣는다면 에러 발생\u001b[39;00m\n\u001b[1;32m----> 2\u001b[0m print_n_times(\u001b[38;5;124m\"\u001b[39m\u001b[38;5;124m안녕하세요\u001b[39m\u001b[38;5;124m\"\u001b[39m)\n",
      "\u001b[1;31mTypeError\u001b[0m: print_n_times() missing 1 required positional argument: 'n'"
     ]
    }
   ],
   "source": [
    "# 매개변수를 2개 지정하고 인수를 하나만 넣는다면 에러 발생\n",
    "print_n_times(\"안녕하세요\")"
   ]
  },
  {
   "cell_type": "code",
   "execution_count": 3,
   "id": "36ad4035",
   "metadata": {},
   "outputs": [
    {
     "ename": "TypeError",
     "evalue": "print_n_times() takes 2 positional arguments but 3 were given",
     "output_type": "error",
     "traceback": [
      "\u001b[1;31m---------------------------------------------------------------------------\u001b[0m",
      "\u001b[1;31mTypeError\u001b[0m                                 Traceback (most recent call last)",
      "Cell \u001b[1;32mIn[3], line 2\u001b[0m\n\u001b[0;32m      1\u001b[0m \u001b[38;5;66;03m# 지정한 매개변수보다 인수를 많이 넣으면 에러 발생\u001b[39;00m\n\u001b[1;32m----> 2\u001b[0m print_n_times(\u001b[38;5;124m\"\u001b[39m\u001b[38;5;124m안녕하세요\u001b[39m\u001b[38;5;124m\"\u001b[39m, \u001b[38;5;241m10\u001b[39m, \u001b[38;5;241m20\u001b[39m)\n",
      "\u001b[1;31mTypeError\u001b[0m: print_n_times() takes 2 positional arguments but 3 were given"
     ]
    }
   ],
   "source": [
    "# 지정한 매개변수보다 인수를 많이 넣으면 에러 발생\n",
    "print_n_times(\"안녕하세요\", 10, 20)"
   ]
  },
  {
   "cell_type": "markdown",
   "id": "8040298e",
   "metadata": {},
   "source": [
    "### 입력값이 없고 결괏값이 있는 함수\n",
    "\n",
    "- 함수 사용법\n",
    "    - 결괏값을 받을 변수 = 함수이름()"
   ]
  },
  {
   "cell_type": "code",
   "execution_count": 4,
   "id": "f6d69715",
   "metadata": {},
   "outputs": [],
   "source": [
    "def say():\n",
    "    return \"Hi\""
   ]
  },
  {
   "cell_type": "code",
   "execution_count": 5,
   "id": "23d8ed7a",
   "metadata": {},
   "outputs": [
    {
     "name": "stdout",
     "output_type": "stream",
     "text": [
      "Hi\n"
     ]
    }
   ],
   "source": [
    "a = say()\n",
    "print(a)"
   ]
  },
  {
   "cell_type": "markdown",
   "id": "46447307",
   "metadata": {},
   "source": [
    "### 결괏값이 없고 입력값이 있는 함수\n",
    "\n",
    "- 함수 사용법\n",
    "    - 함수이름(입력인수1, 입력인수2, ...)"
   ]
  },
  {
   "cell_type": "code",
   "execution_count": 6,
   "id": "23a4b718",
   "metadata": {},
   "outputs": [],
   "source": [
    "def add(a, b):\n",
    "    print(f\"{a}, {b}의 합은 {a + b}입니다\")"
   ]
  },
  {
   "cell_type": "code",
   "execution_count": 7,
   "id": "e2f8cb88",
   "metadata": {},
   "outputs": [
    {
     "name": "stdout",
     "output_type": "stream",
     "text": [
      "3, 4의 합은 7입니다\n"
     ]
    }
   ],
   "source": [
    "add(3, 4)"
   ]
  },
  {
   "cell_type": "code",
   "execution_count": 8,
   "id": "d85e1f3e",
   "metadata": {},
   "outputs": [
    {
     "name": "stdout",
     "output_type": "stream",
     "text": [
      "3, 4의 합은 7입니다\n",
      "None\n"
     ]
    }
   ],
   "source": [
    "# 결괏값 확인\n",
    "a = add(3, 4)\n",
    "print(a)"
   ]
  },
  {
   "cell_type": "markdown",
   "id": "e2c28639",
   "metadata": {},
   "source": [
    "### 입력값도 결괏값도 없는 함수\n",
    "\n",
    "- 함수 사용법\n",
    "    - 함수이름()"
   ]
  },
  {
   "cell_type": "code",
   "execution_count": 9,
   "id": "6e626308",
   "metadata": {},
   "outputs": [],
   "source": [
    "def say():\n",
    "    print(\"Hi\")"
   ]
  },
  {
   "cell_type": "code",
   "execution_count": 10,
   "id": "96d1321c",
   "metadata": {},
   "outputs": [
    {
     "name": "stdout",
     "output_type": "stream",
     "text": [
      "Hi\n"
     ]
    }
   ],
   "source": [
    "say()"
   ]
  },
  {
   "cell_type": "code",
   "execution_count": 12,
   "id": "7851eee8",
   "metadata": {},
   "outputs": [
    {
     "name": "stdout",
     "output_type": "stream",
     "text": [
      "Hi\n",
      "None\n"
     ]
    }
   ],
   "source": [
    "a = say()\n",
    "print(a)"
   ]
  },
  {
   "cell_type": "markdown",
   "id": "77aade67",
   "metadata": {},
   "source": [
    "## 매개변수 지정하여 호출하기"
   ]
  },
  {
   "cell_type": "code",
   "execution_count": 13,
   "id": "c6a424d1",
   "metadata": {},
   "outputs": [],
   "source": [
    "def add(a, b):\n",
    "    print(f\"{a}, {b}의 합은 {a + b}입니다\")"
   ]
  },
  {
   "cell_type": "code",
   "execution_count": 14,
   "id": "f64ad783",
   "metadata": {},
   "outputs": [
    {
     "name": "stdout",
     "output_type": "stream",
     "text": [
      "3, 7의 합은 10입니다\n"
     ]
    }
   ],
   "source": [
    "add(a = 3, b = 7)"
   ]
  },
  {
   "cell_type": "code",
   "execution_count": 15,
   "id": "98b4133c",
   "metadata": {},
   "outputs": [
    {
     "name": "stdout",
     "output_type": "stream",
     "text": [
      "7, 3의 합은 10입니다\n"
     ]
    }
   ],
   "source": [
    "add(a = 7, b = 3)"
   ]
  },
  {
   "cell_type": "code",
   "execution_count": 16,
   "id": "673192f5",
   "metadata": {},
   "outputs": [
    {
     "name": "stdout",
     "output_type": "stream",
     "text": [
      "3, 5의 합은 8입니다\n"
     ]
    }
   ],
   "source": [
    "add(b = 5, a = 3)"
   ]
  },
  {
   "cell_type": "markdown",
   "id": "2985e1e9",
   "metadata": {},
   "source": [
    "# 함수의 결괏값"
   ]
  },
  {
   "cell_type": "code",
   "execution_count": 17,
   "id": "d9765005",
   "metadata": {},
   "outputs": [],
   "source": [
    "def add_and_mul(a, b):\n",
    "    return a + b, a * b"
   ]
  },
  {
   "cell_type": "code",
   "execution_count": 18,
   "id": "3d9916de",
   "metadata": {},
   "outputs": [
    {
     "name": "stdout",
     "output_type": "stream",
     "text": [
      "(7, 12)\n"
     ]
    }
   ],
   "source": [
    "result = add_and_mul(3, 4)\n",
    "\n",
    "# 함수의 결괏값은 2개가 아니라 하나의 튜플로 반환되었음\n",
    "print(result)"
   ]
  },
  {
   "cell_type": "code",
   "execution_count": 19,
   "id": "94f34715",
   "metadata": {},
   "outputs": [
    {
     "name": "stdout",
     "output_type": "stream",
     "text": [
      "7 12\n"
     ]
    }
   ],
   "source": [
    "# 2개의 결괏값처럼 받을 수 있음\n",
    "result1, result2 = add_and_mul(3, 4)\n",
    "print(result1, result2)"
   ]
  },
  {
   "cell_type": "code",
   "execution_count": 20,
   "id": "061c56cc",
   "metadata": {},
   "outputs": [],
   "source": [
    "def add_and_mul(a, b):\n",
    "    return a + b\n",
    "    return a * b"
   ]
  },
  {
   "cell_type": "code",
   "execution_count": 21,
   "id": "156e6a73",
   "metadata": {},
   "outputs": [
    {
     "name": "stdout",
     "output_type": "stream",
     "text": [
      "5\n"
     ]
    }
   ],
   "source": [
    "# 함수는 return을 만나는 순간 함수 실행이 종료됨\n",
    "result = add_and_mul(2, 3)\n",
    "print(result)"
   ]
  },
  {
   "cell_type": "markdown",
   "id": "f43962be",
   "metadata": {},
   "source": [
    "### return\n",
    "\n",
    "- 함수를 종료시키고 싶을 때 사용할 수도 있음"
   ]
  },
  {
   "cell_type": "code",
   "execution_count": 24,
   "id": "336bdca6",
   "metadata": {},
   "outputs": [],
   "source": [
    "def say_nick(nick):\n",
    "    if nick == \"바보\":\n",
    "        return\n",
    "    print(f\"나의 별명은 {nick} 입니다\")"
   ]
  },
  {
   "cell_type": "code",
   "execution_count": 25,
   "id": "cfa62ece",
   "metadata": {},
   "outputs": [
    {
     "name": "stdout",
     "output_type": "stream",
     "text": [
      "나의 별명은 야호 입니다\n"
     ]
    }
   ],
   "source": [
    "say_nick(\"야호\")"
   ]
  },
  {
   "cell_type": "code",
   "execution_count": 27,
   "id": "ca03be85",
   "metadata": {},
   "outputs": [],
   "source": [
    "say_nick(\"바보\")"
   ]
  },
  {
   "cell_type": "markdown",
   "id": "bf49ca12",
   "metadata": {},
   "source": [
    "# 디폴트 매개변수\n",
    "\n",
    "- 매개변수로 전달되는 인수가 없는 경우에 기본적으로 사용하는 값"
   ]
  },
  {
   "cell_type": "code",
   "execution_count": 28,
   "id": "92eab435",
   "metadata": {},
   "outputs": [],
   "source": [
    "def say_myself(name, old, man = True):\n",
    "    print(f\"나의 이름은 {name} 입니다\")\n",
    "    print(f\"나이는 {old} 살입니다\")\n",
    "    \n",
    "    if man:\n",
    "        print(\"남자입니다\")\n",
    "    else:\n",
    "        print(\"여자입니다\")"
   ]
  },
  {
   "cell_type": "code",
   "execution_count": 29,
   "id": "40b7144d",
   "metadata": {},
   "outputs": [
    {
     "name": "stdout",
     "output_type": "stream",
     "text": [
      "나의 이름은 파이썬 입니다\n",
      "나이는 27 살입니다\n",
      "남자입니다\n"
     ]
    }
   ],
   "source": [
    "say_myself(\"파이썬\", 27)"
   ]
  },
  {
   "cell_type": "code",
   "execution_count": 30,
   "id": "f17fcfd6",
   "metadata": {},
   "outputs": [
    {
     "name": "stdout",
     "output_type": "stream",
     "text": [
      "나의 이름은 파이썬 입니다\n",
      "나이는 27 살입니다\n",
      "남자입니다\n"
     ]
    }
   ],
   "source": [
    "say_myself(\"파이썬\", 27, True)"
   ]
  },
  {
   "cell_type": "code",
   "execution_count": 31,
   "id": "14744494",
   "metadata": {},
   "outputs": [
    {
     "name": "stdout",
     "output_type": "stream",
     "text": [
      "나의 이름은 파이썬 입니다\n",
      "나이는 27 살입니다\n",
      "여자입니다\n"
     ]
    }
   ],
   "source": [
    "say_myself(\"파이썬\", 27, False)"
   ]
  },
  {
   "cell_type": "code",
   "execution_count": 32,
   "id": "11bdb1f6",
   "metadata": {},
   "outputs": [],
   "source": [
    "def print_n_times(value, n = 2):\n",
    "    for _ in range(n):\n",
    "        print(value)"
   ]
  },
  {
   "cell_type": "code",
   "execution_count": 33,
   "id": "e0e2bf6a",
   "metadata": {},
   "outputs": [
    {
     "name": "stdout",
     "output_type": "stream",
     "text": [
      "안녕하세요\n",
      "안녕하세요\n"
     ]
    }
   ],
   "source": [
    "print_n_times(\"안녕하세요\")"
   ]
  },
  {
   "cell_type": "markdown",
   "id": "8c785d2a",
   "metadata": {},
   "source": [
    "## 디폴트 매개변수의 위치"
   ]
  },
  {
   "cell_type": "code",
   "execution_count": 34,
   "id": "70c2d964",
   "metadata": {},
   "outputs": [
    {
     "ename": "SyntaxError",
     "evalue": "non-default argument follows default argument (757839605.py, line 2)",
     "output_type": "error",
     "traceback": [
      "\u001b[1;36m  Cell \u001b[1;32mIn[34], line 2\u001b[1;36m\u001b[0m\n\u001b[1;33m    def say_myself(name, man = True, old):\u001b[0m\n\u001b[1;37m                                     ^\u001b[0m\n\u001b[1;31mSyntaxError\u001b[0m\u001b[1;31m:\u001b[0m non-default argument follows default argument\n"
     ]
    }
   ],
   "source": [
    "# 파이썬은 인수를 어디에 대입해야할지 알 수 없음\n",
    "def say_myself(name, man = True, old):\n",
    "    print(f\"나의 이름은 {name} 입니다\")\n",
    "    print(f\"나이는 {old} 살입니다\")\n",
    "    \n",
    "    if man:\n",
    "        print(\"남자입니다\")\n",
    "    else:\n",
    "        print(\"여자입니다\")"
   ]
  },
  {
   "cell_type": "markdown",
   "id": "6e27ffa5",
   "metadata": {},
   "source": [
    "# 지역변수와 전역변수\n",
    "\n",
    "- 지역변수\n",
    "    - 함수 내부에서 선언한 변수는 함수 내부에서만 사용할 수 있는 변수가 됨\n",
    "    - 함수 외부에서는 지역변수에 접근할 수 없음\n",
    "    \n",
    "- 전역변수\n",
    "    - 함수 외부에서 선언한 변수는 함수 내부에서도 사용 가능"
   ]
  },
  {
   "cell_type": "code",
   "execution_count": 38,
   "id": "5c2a36a3",
   "metadata": {},
   "outputs": [],
   "source": [
    "def vartest():\n",
    "    d = 10\n",
    "    print(a)"
   ]
  },
  {
   "cell_type": "code",
   "execution_count": 36,
   "id": "a79449cd",
   "metadata": {},
   "outputs": [
    {
     "name": "stdout",
     "output_type": "stream",
     "text": [
      "10\n"
     ]
    }
   ],
   "source": [
    "vartest()"
   ]
  },
  {
   "cell_type": "code",
   "execution_count": 39,
   "id": "c8b461a4",
   "metadata": {},
   "outputs": [
    {
     "ename": "NameError",
     "evalue": "name 'd' is not defined",
     "output_type": "error",
     "traceback": [
      "\u001b[1;31m---------------------------------------------------------------------------\u001b[0m",
      "\u001b[1;31mNameError\u001b[0m                                 Traceback (most recent call last)",
      "Cell \u001b[1;32mIn[39], line 1\u001b[0m\n\u001b[1;32m----> 1\u001b[0m \u001b[38;5;28mprint\u001b[39m(d)\n",
      "\u001b[1;31mNameError\u001b[0m: name 'd' is not defined"
     ]
    }
   ],
   "source": [
    "print(d)"
   ]
  },
  {
   "cell_type": "code",
   "execution_count": 40,
   "id": "b08da41a",
   "metadata": {},
   "outputs": [],
   "source": [
    "e = 10\n",
    "\n",
    "def etest():\n",
    "    print(e)"
   ]
  },
  {
   "cell_type": "code",
   "execution_count": 41,
   "id": "59a1748d",
   "metadata": {},
   "outputs": [
    {
     "name": "stdout",
     "output_type": "stream",
     "text": [
      "10\n"
     ]
    }
   ],
   "source": [
    "etest()"
   ]
  },
  {
   "cell_type": "code",
   "execution_count": 42,
   "id": "09f0ff46",
   "metadata": {},
   "outputs": [
    {
     "name": "stdout",
     "output_type": "stream",
     "text": [
      "10\n"
     ]
    }
   ],
   "source": [
    "print(e)"
   ]
  },
  {
   "cell_type": "markdown",
   "id": "f2775536",
   "metadata": {},
   "source": [
    "### 전역변수를 함수 내부에서 사용하는 2가지 경우\n",
    "\n",
    "- 단순 참조\n",
    "- 전역변수의 값을 변경"
   ]
  },
  {
   "cell_type": "code",
   "execution_count": 43,
   "id": "c2b20de7",
   "metadata": {},
   "outputs": [],
   "source": [
    "a = 0\n",
    "\n",
    "def f():\n",
    "    a = 10\n",
    "    print(a)"
   ]
  },
  {
   "cell_type": "code",
   "execution_count": 44,
   "id": "9b15f6b9",
   "metadata": {},
   "outputs": [
    {
     "name": "stdout",
     "output_type": "stream",
     "text": [
      "10\n"
     ]
    }
   ],
   "source": [
    "f() # 지역변수가 있는 경우 지역변수 부터 사용"
   ]
  },
  {
   "cell_type": "code",
   "execution_count": 45,
   "id": "1533bfbb",
   "metadata": {},
   "outputs": [
    {
     "name": "stdout",
     "output_type": "stream",
     "text": [
      "0\n"
     ]
    }
   ],
   "source": [
    "print(a) # 전역변수에는 변함 없음"
   ]
  },
  {
   "cell_type": "code",
   "execution_count": 46,
   "id": "71eee2a5",
   "metadata": {},
   "outputs": [],
   "source": [
    "# 전역변수를 이용하고 있다는 지역변수\n",
    "def f():\n",
    "    global a # 전역변수 a를 사용하겠다\n",
    "    a = 10\n",
    "    print(a)"
   ]
  },
  {
   "cell_type": "code",
   "execution_count": 47,
   "id": "397b278b",
   "metadata": {},
   "outputs": [
    {
     "name": "stdout",
     "output_type": "stream",
     "text": [
      "10\n"
     ]
    }
   ],
   "source": [
    "f()"
   ]
  },
  {
   "cell_type": "code",
   "execution_count": 48,
   "id": "d8dcdadf",
   "metadata": {},
   "outputs": [
    {
     "name": "stdout",
     "output_type": "stream",
     "text": [
      "10\n"
     ]
    }
   ],
   "source": [
    "print(a)"
   ]
  },
  {
   "cell_type": "markdown",
   "id": "544313f8",
   "metadata": {},
   "source": [
    "# 가변 매개변수(여러 개의 입력값을 받는 함수)\n",
    "\n",
    "- 함수로 전달해야하는 인수의 개수가 정해지지 않은 매개변수\n",
    "- 함수 정의시 매개변수 앞에 *를 붙이면 가변 매개변수가 됨\n",
    "- 전달되는 인수는 하나의 튜플 형태로 전달\n",
    "\n",
    "- 가변 매개변수의 제약\n",
    "    - 가변 매개변수 뒤에는 일반 매개변수가 올 수 없음\n",
    "    - 가변 매개변수는 하나만 사용할 수 있음"
   ]
  },
  {
   "cell_type": "code",
   "execution_count": 49,
   "id": "db7548d7",
   "metadata": {},
   "outputs": [],
   "source": [
    "def show(*args):\n",
    "    print(args)"
   ]
  },
  {
   "cell_type": "code",
   "execution_count": 50,
   "id": "2644a8cf",
   "metadata": {},
   "outputs": [
    {
     "name": "stdout",
     "output_type": "stream",
     "text": [
      "(1, 2, 3)\n"
     ]
    }
   ],
   "source": [
    "show(1, 2, 3)"
   ]
  },
  {
   "cell_type": "code",
   "execution_count": 51,
   "id": "53de3503",
   "metadata": {},
   "outputs": [
    {
     "name": "stdout",
     "output_type": "stream",
     "text": [
      "('Python',)\n"
     ]
    }
   ],
   "source": [
    "show(\"Python\")"
   ]
  },
  {
   "cell_type": "code",
   "execution_count": 52,
   "id": "9edef2f6",
   "metadata": {},
   "outputs": [
    {
     "name": "stdout",
     "output_type": "stream",
     "text": [
      "('happy', 'birthday')\n"
     ]
    }
   ],
   "source": [
    "show(\"happy\", \"birthday\")"
   ]
  },
  {
   "cell_type": "code",
   "execution_count": 53,
   "id": "1b4c1b34",
   "metadata": {},
   "outputs": [],
   "source": [
    "def add_many(*args):\n",
    "    result = 0\n",
    "    \n",
    "    for i in args:\n",
    "        result += i\n",
    "        \n",
    "    return result"
   ]
  },
  {
   "cell_type": "code",
   "execution_count": 54,
   "id": "4b7b219e",
   "metadata": {},
   "outputs": [],
   "source": [
    "result = add_many(1, 2, 3)"
   ]
  },
  {
   "cell_type": "code",
   "execution_count": 55,
   "id": "c92cd9c9",
   "metadata": {},
   "outputs": [
    {
     "name": "stdout",
     "output_type": "stream",
     "text": [
      "6\n"
     ]
    }
   ],
   "source": [
    "print(result)"
   ]
  },
  {
   "cell_type": "code",
   "execution_count": 56,
   "id": "abdb81ad",
   "metadata": {},
   "outputs": [
    {
     "name": "stdout",
     "output_type": "stream",
     "text": [
      "55\n"
     ]
    }
   ],
   "source": [
    "result = add_many( 1, 2, 3, 4, 5, 6, 7, 8, 9, 10)\n",
    "print(result)"
   ]
  },
  {
   "cell_type": "code",
   "execution_count": 64,
   "id": "8b1faf45",
   "metadata": {},
   "outputs": [],
   "source": [
    "def add_mul(choice, *args):\n",
    "    if choice == \"add\":\n",
    "        result = 0\n",
    "        for i in args:\n",
    "            result += i\n",
    "            \n",
    "    elif choice == \"mul\":\n",
    "        result = 1\n",
    "        for i in args:\n",
    "            result *= i\n",
    "            \n",
    "    return result"
   ]
  },
  {
   "cell_type": "code",
   "execution_count": 65,
   "id": "b00dccc3",
   "metadata": {},
   "outputs": [
    {
     "name": "stdout",
     "output_type": "stream",
     "text": [
      "15\n"
     ]
    }
   ],
   "source": [
    "result = add_mul(\"add\", 1, 2, 3, 4, 5)\n",
    "print(result)"
   ]
  },
  {
   "cell_type": "code",
   "execution_count": 66,
   "id": "05d83dcf",
   "metadata": {},
   "outputs": [
    {
     "name": "stdout",
     "output_type": "stream",
     "text": [
      "120\n"
     ]
    }
   ],
   "source": [
    "result = add_mul(\"mul\", 1, 2, 3, 4, 5)\n",
    "print(result)"
   ]
  },
  {
   "cell_type": "markdown",
   "id": "fd25808c",
   "metadata": {},
   "source": [
    "# 함수 매개변수 순수\n",
    "\n",
    "1. 일반 매개변수\n",
    "2. 디폴트 매개변수\n",
    "3. 가변 매개변수\n",
    "4. 키워드 매개변수"
   ]
  },
  {
   "cell_type": "markdown",
   "id": "6a2eee5b",
   "metadata": {},
   "source": [
    "# 키워드 매개변수"
   ]
  },
  {
   "cell_type": "code",
   "execution_count": 67,
   "id": "be488a61",
   "metadata": {},
   "outputs": [],
   "source": [
    "def print_kwargs(**kwargs):\n",
    "    print(kwargs)"
   ]
  },
  {
   "cell_type": "code",
   "execution_count": 68,
   "id": "896e80d8",
   "metadata": {},
   "outputs": [
    {
     "ename": "TypeError",
     "evalue": "print_kwargs() takes 0 positional arguments but 3 were given",
     "output_type": "error",
     "traceback": [
      "\u001b[1;31m---------------------------------------------------------------------------\u001b[0m",
      "\u001b[1;31mTypeError\u001b[0m                                 Traceback (most recent call last)",
      "Cell \u001b[1;32mIn[68], line 1\u001b[0m\n\u001b[1;32m----> 1\u001b[0m print_kwargs(\u001b[38;5;241m1\u001b[39m, \u001b[38;5;241m2\u001b[39m, \u001b[38;5;241m3\u001b[39m)\n",
      "\u001b[1;31mTypeError\u001b[0m: print_kwargs() takes 0 positional arguments but 3 were given"
     ]
    }
   ],
   "source": [
    "print_kwargs(1, 2, 3)"
   ]
  },
  {
   "cell_type": "code",
   "execution_count": 69,
   "id": "d5045034",
   "metadata": {},
   "outputs": [
    {
     "name": "stdout",
     "output_type": "stream",
     "text": [
      "{'a': 1}\n"
     ]
    }
   ],
   "source": [
    "print_kwargs(a = 1)"
   ]
  },
  {
   "cell_type": "code",
   "execution_count": 70,
   "id": "6364d584",
   "metadata": {},
   "outputs": [
    {
     "name": "stdout",
     "output_type": "stream",
     "text": [
      "{'name': 'foo', 'age': 3}\n"
     ]
    }
   ],
   "source": [
    "print_kwargs(name = \"foo\", age = 3)"
   ]
  }
 ],
 "metadata": {
  "kernelspec": {
   "display_name": "Python 3 (ipykernel)",
   "language": "python",
   "name": "python3"
  },
  "language_info": {
   "codemirror_mode": {
    "name": "ipython",
    "version": 3
   },
   "file_extension": ".py",
   "mimetype": "text/x-python",
   "name": "python",
   "nbconvert_exporter": "python",
   "pygments_lexer": "ipython3",
   "version": "3.11.5"
  }
 },
 "nbformat": 4,
 "nbformat_minor": 5
}
