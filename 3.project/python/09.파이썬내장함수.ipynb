{
 "cells": [
  {
   "cell_type": "markdown",
   "id": "8ef1e904",
   "metadata": {},
   "source": [
    "# 내장함수\n",
    "\n",
    "- 외부모듈이 아닌 파이썬에 내장된 함수\n",
    "- print(), input(), len(), map(), ......"
   ]
  },
  {
   "cell_type": "markdown",
   "id": "f03b806d",
   "metadata": {},
   "source": [
    "## 문자열 내장 함수"
   ]
  },
  {
   "cell_type": "markdown",
   "id": "f65eb5d7",
   "metadata": {},
   "source": [
    "### 1. chr() / ord()\n",
    "\n",
    "- 모든 문자는 각각 문자 코드라고 하는 자신만의 코드 값이 있음\n",
    "- chr() : 특정 문자의 유니코드 값을 전달하면 해당 문자를 반환\n",
    "- ord() : 문자를 전달하면 해당 문자의 유니코드 값을 반환"
   ]
  },
  {
   "cell_type": "code",
   "execution_count": 1,
   "id": "0edf2b41",
   "metadata": {},
   "outputs": [
    {
     "data": {
      "text/plain": [
       "48"
      ]
     },
     "execution_count": 1,
     "metadata": {},
     "output_type": "execute_result"
    }
   ],
   "source": [
    "ord(\"0\")"
   ]
  },
  {
   "cell_type": "code",
   "execution_count": 2,
   "id": "7338f404",
   "metadata": {},
   "outputs": [
    {
     "data": {
      "text/plain": [
       "'0'"
      ]
     },
     "execution_count": 2,
     "metadata": {},
     "output_type": "execute_result"
    }
   ],
   "source": [
    "chr(48)"
   ]
  },
  {
   "cell_type": "code",
   "execution_count": 3,
   "id": "a1a28e7f",
   "metadata": {},
   "outputs": [
    {
     "data": {
      "text/plain": [
       "49"
      ]
     },
     "execution_count": 3,
     "metadata": {},
     "output_type": "execute_result"
    }
   ],
   "source": [
    "ord(\"1\")"
   ]
  },
  {
   "cell_type": "code",
   "execution_count": 4,
   "id": "90eb5e9e",
   "metadata": {},
   "outputs": [
    {
     "data": {
      "text/plain": [
       "'1'"
      ]
     },
     "execution_count": 4,
     "metadata": {},
     "output_type": "execute_result"
    }
   ],
   "source": [
    "chr(49)"
   ]
  },
  {
   "cell_type": "code",
   "execution_count": 6,
   "id": "db8bb78a",
   "metadata": {},
   "outputs": [
    {
     "data": {
      "text/plain": [
       "(97, 122)"
      ]
     },
     "execution_count": 6,
     "metadata": {},
     "output_type": "execute_result"
    }
   ],
   "source": [
    "ord(\"a\"), ord(\"z\")"
   ]
  },
  {
   "cell_type": "code",
   "execution_count": 7,
   "id": "15bccb3d",
   "metadata": {},
   "outputs": [
    {
     "data": {
      "text/plain": [
       "'b'"
      ]
     },
     "execution_count": 7,
     "metadata": {},
     "output_type": "execute_result"
    }
   ],
   "source": [
    "chr(98)"
   ]
  },
  {
   "cell_type": "markdown",
   "id": "3114da69",
   "metadata": {},
   "source": [
    "### 2. eval()\n",
    "\n",
    "- 표현식을 문자열로 전달하면 결괏값을 반환"
   ]
  },
  {
   "cell_type": "code",
   "execution_count": 8,
   "id": "dbbeaea9",
   "metadata": {},
   "outputs": [
    {
     "data": {
      "text/plain": [
       "300"
      ]
     },
     "execution_count": 8,
     "metadata": {},
     "output_type": "execute_result"
    }
   ],
   "source": [
    "eval(\"100 + 200\")"
   ]
  },
  {
   "cell_type": "code",
   "execution_count": 9,
   "id": "1c394803",
   "metadata": {},
   "outputs": [
    {
     "data": {
      "text/plain": [
       "50"
      ]
     },
     "execution_count": 9,
     "metadata": {},
     "output_type": "execute_result"
    }
   ],
   "source": [
    "a = 10\n",
    "\n",
    "eval(\"a * 5\")"
   ]
  },
  {
   "cell_type": "code",
   "execution_count": 11,
   "id": "b3a773d1",
   "metadata": {},
   "outputs": [
    {
     "data": {
      "text/plain": [
       "1"
      ]
     },
     "execution_count": 11,
     "metadata": {},
     "output_type": "execute_result"
    }
   ],
   "source": [
    "eval(\"min(1, 2, 3)\")"
   ]
  },
  {
   "cell_type": "code",
   "execution_count": 12,
   "id": "11ab27df",
   "metadata": {},
   "outputs": [
    {
     "data": {
      "text/plain": [
       "[1, 2, 3]"
      ]
     },
     "execution_count": 12,
     "metadata": {},
     "output_type": "execute_result"
    }
   ],
   "source": [
    "eval(\"[1, 2, 3]\")"
   ]
  },
  {
   "cell_type": "markdown",
   "id": "ba57c132",
   "metadata": {},
   "source": [
    "## 숫자 내장 함수"
   ]
  },
  {
   "cell_type": "markdown",
   "id": "feafb884",
   "metadata": {},
   "source": [
    "### 1. abs()\n",
    "\n",
    "- 절댓값을 반환"
   ]
  },
  {
   "cell_type": "code",
   "execution_count": 2,
   "id": "bcde1c49",
   "metadata": {},
   "outputs": [
    {
     "data": {
      "text/plain": [
       "20"
      ]
     },
     "execution_count": 2,
     "metadata": {},
     "output_type": "execute_result"
    }
   ],
   "source": [
    "abs(20)"
   ]
  },
  {
   "cell_type": "code",
   "execution_count": 3,
   "id": "aaeacce3",
   "metadata": {},
   "outputs": [
    {
     "data": {
      "text/plain": [
       "10"
      ]
     },
     "execution_count": 3,
     "metadata": {},
     "output_type": "execute_result"
    }
   ],
   "source": [
    "abs(-10)"
   ]
  },
  {
   "cell_type": "markdown",
   "id": "ce98182e",
   "metadata": {},
   "source": [
    "### 2. divmod()\n",
    "\n",
    "- 전달된 두 인수를 나누어 몫과 나머지를 반환"
   ]
  },
  {
   "cell_type": "code",
   "execution_count": 4,
   "id": "ab3addbb",
   "metadata": {},
   "outputs": [
    {
     "data": {
      "text/plain": [
       "(3, 1)"
      ]
     },
     "execution_count": 4,
     "metadata": {},
     "output_type": "execute_result"
    }
   ],
   "source": [
    "divmod(10, 3)"
   ]
  },
  {
   "cell_type": "code",
   "execution_count": 5,
   "id": "d65e03e4",
   "metadata": {},
   "outputs": [
    {
     "name": "stdout",
     "output_type": "stream",
     "text": [
      "빵을 3개 사고 1000원이 남았습니다\n"
     ]
    }
   ],
   "source": [
    "money = 10000\n",
    "price = 3000\n",
    "\n",
    "n, remain = divmod(money, price)\n",
    "print(f\"빵을 {n}개 사고 {remain}원이 남았습니다\")"
   ]
  },
  {
   "cell_type": "markdown",
   "id": "7b2d96f8",
   "metadata": {},
   "source": [
    "### 3. max() / min()\n",
    "\n",
    "- 전달된 인수 중 최댓값을 반환 / 최솟값을 반환"
   ]
  },
  {
   "cell_type": "code",
   "execution_count": 6,
   "id": "8136d26b",
   "metadata": {},
   "outputs": [
    {
     "data": {
      "text/plain": [
       "10"
      ]
     },
     "execution_count": 6,
     "metadata": {},
     "output_type": "execute_result"
    }
   ],
   "source": [
    "max(1, 10)"
   ]
  },
  {
   "cell_type": "code",
   "execution_count": 7,
   "id": "7e517ae7",
   "metadata": {},
   "outputs": [
    {
     "data": {
      "text/plain": [
       "1"
      ]
     },
     "execution_count": 7,
     "metadata": {},
     "output_type": "execute_result"
    }
   ],
   "source": [
    "min(1, 10)"
   ]
  },
  {
   "cell_type": "code",
   "execution_count": 8,
   "id": "31c64767",
   "metadata": {},
   "outputs": [
    {
     "name": "stdout",
     "output_type": "stream",
     "text": [
      "5\n",
      "1\n"
     ]
    }
   ],
   "source": [
    "li = [1, 2, 3, 4, 5]\n",
    "print(max(li))\n",
    "print(min(li))"
   ]
  },
  {
   "cell_type": "markdown",
   "id": "e4ae2847",
   "metadata": {},
   "source": [
    "### 4. pow()\n",
    "\n",
    "- 두 인수의 거듭제곱을 반환"
   ]
  },
  {
   "cell_type": "code",
   "execution_count": 9,
   "id": "ab2c5b06",
   "metadata": {},
   "outputs": [
    {
     "data": {
      "text/plain": [
       "100"
      ]
     },
     "execution_count": 9,
     "metadata": {},
     "output_type": "execute_result"
    }
   ],
   "source": [
    "pow(10, 2)"
   ]
  },
  {
   "cell_type": "code",
   "execution_count": 10,
   "id": "e0e1db3e",
   "metadata": {},
   "outputs": [
    {
     "data": {
      "text/plain": [
       "1000"
      ]
     },
     "execution_count": 10,
     "metadata": {},
     "output_type": "execute_result"
    }
   ],
   "source": [
    "pow(10, 3)"
   ]
  },
  {
   "cell_type": "code",
   "execution_count": 11,
   "id": "9b18f5e0",
   "metadata": {},
   "outputs": [
    {
     "data": {
      "text/plain": [
       "0.01"
      ]
     },
     "execution_count": 11,
     "metadata": {},
     "output_type": "execute_result"
    }
   ],
   "source": [
    "pow(10, -2)"
   ]
  },
  {
   "cell_type": "code",
   "execution_count": 12,
   "id": "8eee6788",
   "metadata": {},
   "outputs": [
    {
     "data": {
      "text/plain": [
       "0.001"
      ]
     },
     "execution_count": 12,
     "metadata": {},
     "output_type": "execute_result"
    }
   ],
   "source": [
    "pow(10, -3)"
   ]
  },
  {
   "cell_type": "markdown",
   "id": "db00a5d5",
   "metadata": {},
   "source": [
    "### 5. round()\n",
    "\n",
    "- 반올림한 값을 반환"
   ]
  },
  {
   "cell_type": "code",
   "execution_count": 13,
   "id": "b4f98b4d",
   "metadata": {},
   "outputs": [
    {
     "data": {
      "text/plain": [
       "2"
      ]
     },
     "execution_count": 13,
     "metadata": {},
     "output_type": "execute_result"
    }
   ],
   "source": [
    "round(1.5)"
   ]
  },
  {
   "cell_type": "code",
   "execution_count": 14,
   "id": "9b8272fa",
   "metadata": {},
   "outputs": [
    {
     "data": {
      "text/plain": [
       "1"
      ]
     },
     "execution_count": 14,
     "metadata": {},
     "output_type": "execute_result"
    }
   ],
   "source": [
    "round(1.4)"
   ]
  },
  {
   "cell_type": "code",
   "execution_count": 15,
   "id": "75cd2f8e",
   "metadata": {},
   "outputs": [
    {
     "data": {
      "text/plain": [
       "1.6"
      ]
     },
     "execution_count": 15,
     "metadata": {},
     "output_type": "execute_result"
    }
   ],
   "source": [
    "round(1.55, 1)"
   ]
  },
  {
   "cell_type": "code",
   "execution_count": 16,
   "id": "84fab224",
   "metadata": {},
   "outputs": [
    {
     "data": {
      "text/plain": [
       "0"
      ]
     },
     "execution_count": 16,
     "metadata": {},
     "output_type": "execute_result"
    }
   ],
   "source": [
    "round(0.5) # 앞수가 홀 수일 경우 가장 가까운 짝수로 보내는 함정이 있음"
   ]
  },
  {
   "cell_type": "markdown",
   "id": "0bb0b332",
   "metadata": {},
   "source": [
    "### 6.sum()\n",
    "\n",
    "- 합계를 반환\n",
    "- 숫자가 아닌 값은 전달 불가능"
   ]
  },
  {
   "cell_type": "code",
   "execution_count": 17,
   "id": "ddd9904d",
   "metadata": {},
   "outputs": [
    {
     "data": {
      "text/plain": [
       "15"
      ]
     },
     "execution_count": 17,
     "metadata": {},
     "output_type": "execute_result"
    }
   ],
   "source": [
    "li = [1, 2, 3, 4, 5]\n",
    "sum(li)"
   ]
  },
  {
   "cell_type": "code",
   "execution_count": 18,
   "id": "86cbb62a",
   "metadata": {},
   "outputs": [
    {
     "data": {
      "text/plain": [
       "'hel'"
      ]
     },
     "execution_count": 18,
     "metadata": {},
     "output_type": "execute_result"
    }
   ],
   "source": [
    "\"h\" + \"e\"+ \"l\""
   ]
  },
  {
   "cell_type": "code",
   "execution_count": 19,
   "id": "f4d57048",
   "metadata": {},
   "outputs": [
    {
     "ename": "TypeError",
     "evalue": "sum() can't sum strings [use ''.join(seq) instead]",
     "output_type": "error",
     "traceback": [
      "\u001b[1;31m---------------------------------------------------------------------------\u001b[0m",
      "\u001b[1;31mTypeError\u001b[0m                                 Traceback (most recent call last)",
      "Cell \u001b[1;32mIn[19], line 1\u001b[0m\n\u001b[1;32m----> 1\u001b[0m \u001b[38;5;28msum\u001b[39m(\u001b[38;5;124m\"\u001b[39m\u001b[38;5;124mh\u001b[39m\u001b[38;5;124m\"\u001b[39m, \u001b[38;5;124m\"\u001b[39m\u001b[38;5;124me\u001b[39m\u001b[38;5;124m\"\u001b[39m)\n",
      "\u001b[1;31mTypeError\u001b[0m: sum() can't sum strings [use ''.join(seq) instead]"
     ]
    }
   ],
   "source": [
    "sum(\"h\", \"e\")"
   ]
  },
  {
   "cell_type": "markdown",
   "id": "68512122",
   "metadata": {},
   "source": [
    "## 시퀀스 내장 함수"
   ]
  },
  {
   "cell_type": "markdown",
   "id": "7feff901",
   "metadata": {},
   "source": [
    "### 1. enumerate()\n",
    "\n",
    "- 리스트에 저장된 요소와 인덱스가 함께 추출"
   ]
  },
  {
   "cell_type": "code",
   "execution_count": 22,
   "id": "9328b7c4",
   "metadata": {},
   "outputs": [
    {
     "name": "stdout",
     "output_type": "stream",
     "text": [
      "0 가위\n",
      "1 바위\n",
      "2 보\n"
     ]
    }
   ],
   "source": [
    "for idx, element in enumerate([\"가위\", \"바위\", \"보\"]):\n",
    "    print(idx, element)"
   ]
  },
  {
   "cell_type": "markdown",
   "id": "d7e671d6",
   "metadata": {},
   "source": [
    "### 2.range()\n",
    "\n",
    "- 특정 범위의 값을 생성\n",
    "- 주로 for문과 함께 사용\n",
    "- list() 함수로 리스트로 변환해서 사용하기도 함\n",
    "\n",
    "```\n",
    "range(stop)\n",
    "range(start, stop) * strart default = 0\n",
    "range(start, stop, step) * step default = 1\n",
    "start <= n < stop\n",
    "```"
   ]
  },
  {
   "cell_type": "code",
   "execution_count": 25,
   "id": "58b7e7dc",
   "metadata": {},
   "outputs": [
    {
     "data": {
      "text/plain": [
       "range(0, 10)"
      ]
     },
     "execution_count": 25,
     "metadata": {},
     "output_type": "execute_result"
    }
   ],
   "source": [
    "range(10)"
   ]
  },
  {
   "cell_type": "code",
   "execution_count": 26,
   "id": "d524ec9c",
   "metadata": {},
   "outputs": [
    {
     "data": {
      "text/plain": [
       "[0, 1, 2, 3, 4, 5, 6, 7, 8, 9]"
      ]
     },
     "execution_count": 26,
     "metadata": {},
     "output_type": "execute_result"
    }
   ],
   "source": [
    "list(range(10))"
   ]
  },
  {
   "cell_type": "code",
   "execution_count": 27,
   "id": "3cd3c8c1",
   "metadata": {},
   "outputs": [
    {
     "data": {
      "text/plain": [
       "[1, 2, 3, 4, 5, 6, 7, 8, 9, 10]"
      ]
     },
     "execution_count": 27,
     "metadata": {},
     "output_type": "execute_result"
    }
   ],
   "source": [
    "list(range(1, 11))"
   ]
  },
  {
   "cell_type": "code",
   "execution_count": 28,
   "id": "c6d0685e",
   "metadata": {},
   "outputs": [
    {
     "data": {
      "text/plain": [
       "[0, 5, 10, 15, 20, 25]"
      ]
     },
     "execution_count": 28,
     "metadata": {},
     "output_type": "execute_result"
    }
   ],
   "source": [
    "list(range(0, 30, 5))"
   ]
  },
  {
   "cell_type": "code",
   "execution_count": 29,
   "id": "6f6bfc8e",
   "metadata": {},
   "outputs": [
    {
     "data": {
      "text/plain": [
       "[0, 3, 6, 9]"
      ]
     },
     "execution_count": 29,
     "metadata": {},
     "output_type": "execute_result"
    }
   ],
   "source": [
    "list(range(0, 10, 3))"
   ]
  },
  {
   "cell_type": "code",
   "execution_count": 30,
   "id": "2d7639d1",
   "metadata": {},
   "outputs": [
    {
     "data": {
      "text/plain": [
       "[]"
      ]
     },
     "execution_count": 30,
     "metadata": {},
     "output_type": "execute_result"
    }
   ],
   "source": [
    "list(range(0, 10, -1))"
   ]
  },
  {
   "cell_type": "code",
   "execution_count": 31,
   "id": "a56a1e1c",
   "metadata": {},
   "outputs": [
    {
     "data": {
      "text/plain": [
       "[0, -1, -2, -3, -4, -5, -6, -7, -8, -9]"
      ]
     },
     "execution_count": 31,
     "metadata": {},
     "output_type": "execute_result"
    }
   ],
   "source": [
    "list(range(0, -10, -1))"
   ]
  },
  {
   "cell_type": "code",
   "execution_count": 32,
   "id": "71a17fbe",
   "metadata": {},
   "outputs": [
    {
     "data": {
      "text/plain": [
       "[]"
      ]
     },
     "execution_count": 32,
     "metadata": {},
     "output_type": "execute_result"
    }
   ],
   "source": [
    "list(range(0))"
   ]
  },
  {
   "cell_type": "code",
   "execution_count": 33,
   "id": "04a7ccea",
   "metadata": {},
   "outputs": [
    {
     "data": {
      "text/plain": [
       "[]"
      ]
     },
     "execution_count": 33,
     "metadata": {},
     "output_type": "execute_result"
    }
   ],
   "source": [
    "list(range(1, 0))"
   ]
  },
  {
   "cell_type": "markdown",
   "id": "60f56a8d",
   "metadata": {},
   "source": [
    "### 3. len()\n",
    "\n",
    "- 객체의 길이(항목의 수)를 반환"
   ]
  },
  {
   "cell_type": "code",
   "execution_count": 34,
   "id": "a31cff33",
   "metadata": {},
   "outputs": [
    {
     "data": {
      "text/plain": [
       "4"
      ]
     },
     "execution_count": 34,
     "metadata": {},
     "output_type": "execute_result"
    }
   ],
   "source": [
    "li = [\"a\", \"b\", \"c\", \"d\"]\n",
    "len(li)"
   ]
  },
  {
   "cell_type": "code",
   "execution_count": 35,
   "id": "7e2b3b37",
   "metadata": {},
   "outputs": [
    {
     "data": {
      "text/plain": [
       "2"
      ]
     },
     "execution_count": 35,
     "metadata": {},
     "output_type": "execute_result"
    }
   ],
   "source": [
    "d = {\"a\" : \"apple\", \"b\" : \"banana\"}\n",
    "len(d)"
   ]
  },
  {
   "cell_type": "code",
   "execution_count": 36,
   "id": "3536ced1",
   "metadata": {},
   "outputs": [
    {
     "data": {
      "text/plain": [
       "10"
      ]
     },
     "execution_count": 36,
     "metadata": {},
     "output_type": "execute_result"
    }
   ],
   "source": [
    "len(range(10))"
   ]
  },
  {
   "cell_type": "code",
   "execution_count": 37,
   "id": "d1d96c99",
   "metadata": {},
   "outputs": [
    {
     "data": {
      "text/plain": [
       "9"
      ]
     },
     "execution_count": 37,
     "metadata": {},
     "output_type": "execute_result"
    }
   ],
   "source": [
    "len(range(1, 10))"
   ]
  },
  {
   "cell_type": "markdown",
   "id": "ded9174d",
   "metadata": {},
   "source": [
    "#### 4. sorted()\n",
    "\n",
    "- 오름차순, 내림차순 정렬 결과를 반환\n",
    "- 비파괴적(변수 자체를 가공하지는 않음)"
   ]
  },
  {
   "cell_type": "code",
   "execution_count": 38,
   "id": "9e2b7607",
   "metadata": {},
   "outputs": [
    {
     "data": {
      "text/plain": [
       "[1, 2, 3, 4, 5, 6]"
      ]
     },
     "execution_count": 38,
     "metadata": {},
     "output_type": "execute_result"
    }
   ],
   "source": [
    "my_list = [6, 3, 1, 2, 5, 4] # default  : reverse = False(오름차순)\n",
    "sorted(my_list)"
   ]
  },
  {
   "cell_type": "code",
   "execution_count": 39,
   "id": "4547bf27",
   "metadata": {},
   "outputs": [
    {
     "data": {
      "text/plain": [
       "[6, 5, 4, 3, 2, 1]"
      ]
     },
     "execution_count": 39,
     "metadata": {},
     "output_type": "execute_result"
    }
   ],
   "source": [
    "sorted(my_list, reverse = True)# 내림차순 "
   ]
  },
  {
   "cell_type": "code",
   "execution_count": 40,
   "id": "c2bc16ef",
   "metadata": {},
   "outputs": [
    {
     "data": {
      "text/plain": [
       "[6, 3, 1, 2, 5, 4]"
      ]
     },
     "execution_count": 40,
     "metadata": {},
     "output_type": "execute_result"
    }
   ],
   "source": [
    "my_list # my_list 변수 자체가 정렬되는 것이 아님"
   ]
  },
  {
   "cell_type": "code",
   "execution_count": 41,
   "id": "6af2c4b6",
   "metadata": {},
   "outputs": [
    {
     "data": {
      "text/plain": [
       "[1, 2, 3, 4, 5, 6]"
      ]
     },
     "execution_count": 41,
     "metadata": {},
     "output_type": "execute_result"
    }
   ],
   "source": [
    "my_list = sorted(my_list)\n",
    "my_list"
   ]
  },
  {
   "cell_type": "markdown",
   "id": "170e3778",
   "metadata": {},
   "source": [
    "### 5. zip()\n",
    "\n",
    "- 여러 개의 반복가능객체의 각 요소를 묶어서 반환\n",
    "- 전달된 객체들의 길이가 다르면 짧은 객체를 기준으로 동작"
   ]
  },
  {
   "cell_type": "code",
   "execution_count": 42,
   "id": "4ab21cbf",
   "metadata": {},
   "outputs": [
    {
     "name": "stdout",
     "output_type": "stream",
     "text": [
      "james의 점수는 60점 입니다\n",
      "emily의 점수는 70점 입니다\n",
      "amanda의 점수는 80점 입니다\n"
     ]
    }
   ],
   "source": [
    "names = [\"james\", \"emily\", \"amanda\"]\n",
    "scores = [60, 70, 80]\n",
    "\n",
    "for name, score in zip(names, scores):\n",
    "    print(f\"{name}의 점수는 {score}점 입니다\")"
   ]
  },
  {
   "cell_type": "code",
   "execution_count": 43,
   "id": "4bce0132",
   "metadata": {},
   "outputs": [
    {
     "name": "stdout",
     "output_type": "stream",
     "text": [
      "james의 점수는 60점 입니다\n",
      "emily의 점수는 70점 입니다\n",
      "amanda의 점수는 80점 입니다\n"
     ]
    }
   ],
   "source": [
    "names = [\"james\", \"emily\", \"amanda\", \"jun\"]\n",
    "scores = [60, 70, 80]\n",
    "\n",
    "for name, score in zip(names, scores):\n",
    "    print(f\"{name}의 점수는 {score}점 입니다\") # 짧은 객체를 기준으로 출력"
   ]
  }
 ],
 "metadata": {
  "kernelspec": {
   "display_name": "Python 3 (ipykernel)",
   "language": "python",
   "name": "python3"
  },
  "language_info": {
   "codemirror_mode": {
    "name": "ipython",
    "version": 3
   },
   "file_extension": ".py",
   "mimetype": "text/x-python",
   "name": "python",
   "nbconvert_exporter": "python",
   "pygments_lexer": "ipython3",
   "version": "3.11.5"
  }
 },
 "nbformat": 4,
 "nbformat_minor": 5
}
