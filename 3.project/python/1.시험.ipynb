{
 "cells": [
  {
   "cell_type": "markdown",
   "id": "4b329bba",
   "metadata": {},
   "source": [
    "# 24-01-08 시험"
   ]
  },
  {
   "cell_type": "code",
   "execution_count": 10,
   "id": "11ebe522",
   "metadata": {},
   "outputs": [],
   "source": [
    "with open(\"new_file.txt\", \"w\") as new_file:\n",
    "    for i in range(ord(\"z\") +1 - ord(\"a\")):\n",
    "        new_file.write(chr(ord(\"a\") + i) + \"\\n\")"
   ]
  },
  {
   "cell_type": "code",
   "execution_count": 11,
   "id": "962dac53",
   "metadata": {},
   "outputs": [],
   "source": [
    "x = [49, -17, 25, 102, 8, 62, 21]"
   ]
  },
  {
   "cell_type": "code",
   "execution_count": 12,
   "id": "b3b4bd52",
   "metadata": {},
   "outputs": [
    {
     "name": "stdout",
     "output_type": "stream",
     "text": [
      "490, -170, 250, 1020, 80, 620, 210, "
     ]
    }
   ],
   "source": [
    "for i in x:\n",
    "    print(i * 10, end = \", \")"
   ]
  },
  {
   "cell_type": "code",
   "execution_count": 13,
   "id": "890465df",
   "metadata": {},
   "outputs": [
    {
     "name": "stdout",
     "output_type": "stream",
     "text": [
      "*\n",
      "***\n",
      "*****\n",
      "*\n",
      "*\n"
     ]
    }
   ],
   "source": [
    "for i in range(5): # 줄에 대한 연산\n",
    "    if i < 3:\n",
    "        print(\"*\" * (i * 2 + 1))\n",
    "    else:\n",
    "        print(\"*\")\n",
    "        #3 3\n",
    "        #4 1"
   ]
  },
  {
   "cell_type": "code",
   "execution_count": 14,
   "id": "551f0304",
   "metadata": {},
   "outputs": [
    {
     "name": "stdout",
     "output_type": "stream",
     "text": [
      "*\n",
      "***\n",
      "*****\n",
      "***\n",
      "*\n",
      "***\n",
      "*\n",
      "***\n",
      "*****\n",
      "***\n",
      "*\n",
      "***\n",
      "*\n",
      "***\n",
      "*****\n"
     ]
    }
   ],
   "source": [
    "    for i in range(15):\n",
    "        if i % 2 == 1:\n",
    "            print(\"***\")\n",
    "        elif i % 3 == 2:\n",
    "            print(\"*****\")\n",
    "        else:\n",
    "            print(\"*\")"
   ]
  },
  {
   "cell_type": "code",
   "execution_count": 15,
   "id": "372c689d",
   "metadata": {},
   "outputs": [],
   "source": [
    "def MakePassword(address):\n",
    "    i = address.split(\"//\")[1].split(\".\")[0]\n",
    "    print(i[:3] + str(len(i)) + str(i.count(\"e\")) + \"!\")"
   ]
  },
  {
   "cell_type": "code",
   "execution_count": 16,
   "id": "b9fa5e91",
   "metadata": {},
   "outputs": [
    {
     "ename": "SyntaxError",
     "evalue": "invalid syntax (4287828684.py, line 5)",
     "output_type": "error",
     "traceback": [
      "\u001b[1;36m  Cell \u001b[1;32mIn[16], line 5\u001b[1;36m\u001b[0m\n\u001b[1;33m    print([:3] + str(len(j)) + str(j.count(\"e\")) + \"!\")\u001b[0m\n\u001b[1;37m           ^\u001b[0m\n\u001b[1;31mSyntaxError\u001b[0m\u001b[1;31m:\u001b[0m invalid syntax\n"
     ]
    }
   ],
   "source": [
    "li = [\"http://naver.com\", \"http://daum.net\", \"http://google.com\", \"http://youtube.com\"]\n",
    "\n",
    "for i in li:\n",
    "    j = i.split(\"//\")[1].split(\".\")[0]\n",
    "    print([:3] + str(len(j)) + str(j.count(\"e\")) + \"!\")"
   ]
  },
  {
   "cell_type": "code",
   "execution_count": null,
   "id": "07b2b33a",
   "metadata": {},
   "outputs": [],
   "source": [
    "MakePassword(\"http://naver.com\")"
   ]
  },
  {
   "cell_type": "code",
   "execution_count": null,
   "id": "9257acc2",
   "metadata": {},
   "outputs": [],
   "source": [
    "numbers = [1, 2, 3, 4, 5, 6, 7, 8, 9]\n",
    "\n",
    "output = [[], [], []]"
   ]
  },
  {
   "cell_type": "code",
   "execution_count": null,
   "id": "f367bf00",
   "metadata": {},
   "outputs": [],
   "source": [
    "for i in numbers:\n",
    "    if i % 3 == 1:\n",
    "        output[0].append(i)\n",
    "    elif i % 3 == 2:\n",
    "        output[1].append(i)\n",
    "    else:\n",
    "        output[2].append(i)"
   ]
  },
  {
   "cell_type": "code",
   "execution_count": null,
   "id": "57b5644f",
   "metadata": {},
   "outputs": [],
   "source": [
    "output"
   ]
  },
  {
   "cell_type": "code",
   "execution_count": null,
   "id": "83580ff4",
   "metadata": {},
   "outputs": [],
   "source": [
    "a = dict()"
   ]
  },
  {
   "cell_type": "code",
   "execution_count": null,
   "id": "c5451a48",
   "metadata": {},
   "outputs": [],
   "source": [
    "a[(\"a\",)] = \"python\""
   ]
  },
  {
   "cell_type": "code",
   "execution_count": null,
   "id": "492ad14e",
   "metadata": {},
   "outputs": [],
   "source": [
    "a[[1]] = \"python\""
   ]
  },
  {
   "cell_type": "code",
   "execution_count": null,
   "id": "4058758f",
   "metadata": {},
   "outputs": [],
   "source": [
    "a[250] = \"python\""
   ]
  },
  {
   "cell_type": "code",
   "execution_count": null,
   "id": "96d4e986",
   "metadata": {},
   "outputs": [],
   "source": [
    "a[\"name\"] = \"python\""
   ]
  },
  {
   "cell_type": "code",
   "execution_count": null,
   "id": "2e2b0313",
   "metadata": {},
   "outputs": [],
   "source": [
    "input1 = input(\"첫번째 숫자를 입력하세요 : \")\n",
    "input2 = input(\"두번째 숫자를 입력하세요 : \")\n",
    "\n",
    "total = int(input1) + int(input2)\n",
    "print(f\"두 수의 합은 {total}입니다\")"
   ]
  },
  {
   "cell_type": "markdown",
   "id": "819324f5",
   "metadata": {},
   "source": [
    "# 24-01-10 시험"
   ]
  },
  {
   "cell_type": "code",
   "execution_count": 32,
   "id": "1885b3ba",
   "metadata": {},
   "outputs": [
    {
     "name": "stdout",
     "output_type": "stream",
     "text": [
      "1 : 추가, 2 : 수정, 3 : 삭제, 4 : 목록조회, 0 : 종료0\n"
     ]
    }
   ],
   "source": [
    "# 파이썬으로 고객 관리 프로그램을 만드려고 한다.\n",
    "\n",
    "# 아래에서 제시하는 “요구사항”과 “고객 데이터”를 잘 확인하여 “초기 코드”를 수정, 보완하여 프로그램을 완성하시오\n",
    "\n",
    " \n",
    "\n",
    "# ----------요구사항----------\n",
    "\n",
    "# # 1. 사용자가 메뉴에서 0을 입력하면 프로그램 종료 기능이 실행된다\n",
    " \n",
    "# # 2. 사용자가 메뉴에서 1을 입력하면 고객 데이터 추가 기능이 실행된다\n",
    "# 2-1. id, 이름, 나이, 키, 무게를 사용자가 직접 입력하게 하며 기존 고객들과 중복된 id는 입력하지 않는다고 가정한다\n",
    " \n",
    "# 3. 사용자가 메뉴에서 2를 입력하면 데이터 수정 기능이 실행된다\n",
    "# 3-1. 수정 하고 싶은 고객의 id를 입력받아 해당 데이터를 수정\n",
    " \n",
    "# 4. 사용자가 메뉴에서 3을 입력하면 데이터 삭제 기능이 실행된다\n",
    "# 4-1. 삭제 하고 싶은 고객의 id를 입력받아 해당 데이터를 삭제\n",
    " \n",
    "# 5. 사용자가 메뉴에서 4를 입력하면 데이터 조회 기능이 실행된다\n",
    "# 5-1. 조회 기능은 모든 고객의 id, 이름, 나이, 키, 몸무게를 출력하는 기능이다\n",
    " \n",
    "# 6. 각 고객 데이터는 id, 이름, 나이, 키, 몸무게 를 인스턴스 변수로 갖는 클래스 객체로 저장한다\n",
    "\n",
    "\n",
    "# 7. 전체 고객 데이터는 db라는 이름의 리스트로 저장한다\n",
    "# 예) db = [고객1객체, 고객2객체,……]\n",
    "member = {\"ret\":\"y\",\"data\":[{\"id\":\"a\",\"name\":\"가나다1\",\"age\":61,\"height\":165.4,\"weight\":60.2},{\"id\":\"b\",\"name\":\"가나다2\",\"age\":32,\"height\":185.4,\"weight\":80.3},{\"id\":\"c\",\"name\":\"가나다3\",\"age\":13,\"height\":145.8,\"weight\":60.6},{\"id\":\"d\",\"name\":\"가나다4\",\"age\":44,\"height\":165.7,\"weight\":44.5},{\"id\":\"e\",\"name\":\"가나다5\",\"age\":85,\"height\":165.2,\"weight\":42.3}]}\n",
    "db = []\n",
    "# 6번 요구사항\n",
    "class Customer:\n",
    "    def __init__(self, id, name, age, height, weight):\n",
    "        self.id = id\n",
    "        self.name = name\n",
    "        self.age = int(age)\n",
    "        self.height = float(height)\n",
    "        self.weight = float(weight)\n",
    "\n",
    "for i in range(len(member[\"data\"])):\n",
    "    customer = Customer(member[\"data\"][i][\"id\"], member[\"data\"][i][\"name\"], member[\"data\"][i][\"age\"], member[\"data\"][i][\"height\"],member[\"data\"][i][\"weight\"])\n",
    "# 7번 요구사항\n",
    "    db.append(customer)\n",
    "\n",
    "\n",
    "while True :\n",
    "    menu = int(input('1 : 추가, 2 : 수정, 3 : 삭제, 4 : 목록조회, 0 : 종료'))\n",
    "    \n",
    "    # 1번 요구사항   \n",
    "    if menu == 0:\n",
    "        break\n",
    "     \n",
    "    # 2번 요구사항   \n",
    "    elif menu == 1:\n",
    "        input_id = input(\"id를 입력하세요 : \")\n",
    "        for i in db:\n",
    "            while input_id in i.id:\n",
    "                input_id = input(\"id를 다시 입력하세요 : \")\n",
    "        input_name = input(\"name를 입력하세요 : \")\n",
    "        input_age = int(input(\"age를 입력하세요 : \"))\n",
    "        input_height = float(input(\"height를 입력하세요 : \"))\n",
    "        input_weight = float(input(\"weight를 입력하세요 : \"))\n",
    "        i = Customer(input_id, input_name, input_age, input_height, input_weight)\n",
    "        db.append(i)\n",
    "        \n",
    "    # 3번 요구사항   \n",
    "    elif menu == 2:\n",
    "        input_id = input(\"수정하고 싶은 고객의 id를 입력하세요 : \")\n",
    "        for i in db:\n",
    "            if input_id in i.id:\n",
    "                input_name = input(\"수정할 name를 입력하세요 : \")\n",
    "                input_age = int(input(\"수정할 age를 입력하세요 : \"))\n",
    "                input_height = float(input(\"수정할 height를 입력하세요 : \"))\n",
    "                input_weight = float(input(\"수정할 weight를 입력하세요 : \"))\n",
    "                \n",
    "                i.name = input_name\n",
    "                i.age = input_age\n",
    "                i.height = input_height\n",
    "                i.weight = input_weight\n",
    "\n",
    "    # 4번 요구사항            \n",
    "    elif menu == 3:\n",
    "        input_id = input(\"삭제하고 싶은 고객의 id를 입력하세요 : \")\n",
    "        for i in db:\n",
    "            if input_id == i.id:\n",
    "                db.remove(i)\n",
    "                break\n",
    "                \n",
    "    # 5번 요구사항            \n",
    "    elif menu == 4:\n",
    "        for i in db:\n",
    "            print(f\"id = {i.id}, name = {i.name}, age = {i.age}, height = {i.height}, weight = {i.weight}\")"
   ]
  },
  {
   "cell_type": "code",
   "execution_count": 33,
   "id": "b3719984",
   "metadata": {},
   "outputs": [
    {
     "data": {
      "text/plain": [
       "{'id': 'e', 'name': '가나다5', 'age': 85, 'height': 165.2, 'weight': 42.3}"
      ]
     },
     "execution_count": 33,
     "metadata": {},
     "output_type": "execute_result"
    }
   ],
   "source": [
    "member[\"data\"][4]"
   ]
  },
  {
   "cell_type": "code",
   "execution_count": 36,
   "id": "41224e73",
   "metadata": {},
   "outputs": [
    {
     "name": "stdout",
     "output_type": "stream",
     "text": [
      "a\n",
      "b\n"
     ]
    }
   ],
   "source": [
    "print(db[0].id)\n",
    "print(db[1].id)"
   ]
  },
  {
   "cell_type": "code",
   "execution_count": null,
   "id": "e4224bbe",
   "metadata": {},
   "outputs": [],
   "source": []
  }
 ],
 "metadata": {
  "kernelspec": {
   "display_name": "Python 3 (ipykernel)",
   "language": "python",
   "name": "python3"
  },
  "language_info": {
   "codemirror_mode": {
    "name": "ipython",
    "version": 3
   },
   "file_extension": ".py",
   "mimetype": "text/x-python",
   "name": "python",
   "nbconvert_exporter": "python",
   "pygments_lexer": "ipython3",
   "version": "3.11.5"
  }
 },
 "nbformat": 4,
 "nbformat_minor": 5
}
