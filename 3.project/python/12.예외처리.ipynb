{
 "cells": [
  {
   "cell_type": "markdown",
   "id": "d5fcca5d",
   "metadata": {},
   "source": [
    "# 예외처리의 필요성\n",
    "\n",
    "- 문제 발생으로 인해 프로그램이 비정상적으로 종료되는 것을 막고, 발생한 문제에 대한 정보를 전달하기 위해 사용"
   ]
  },
  {
   "cell_type": "markdown",
   "id": "7f664c2b",
   "metadata": {},
   "source": [
    "# try-except문\n",
    "\n",
    "- 예외처리를 위한 기본 구조\n",
    "```\n",
    "try:\n",
    "    ~~~\n",
    "except [발생오류[as 오류 메시지 변수]]:\n",
    "    ~~~\n",
    "```\n",
    "\n",
    "- try 블록 실행 중 오류가 발생하면 except 블록이 실행\n",
    "    - try 블록에서 오류가 발생하지 않는다면 except 블록은 실행되지 않음"
   ]
  },
  {
   "cell_type": "markdown",
   "id": "e77ee20e",
   "metadata": {},
   "source": [
    "## 예외처리 방법\n",
    "\n",
    "- try, except만 쓰는 방법\n",
    "- 발생 오류만 포함한 except문\n",
    "- 발생 오류와 오류 메시지 변수까지 포함한 except문"
   ]
  },
  {
   "cell_type": "code",
   "execution_count": 1,
   "id": "ee332460",
   "metadata": {},
   "outputs": [
    {
     "ename": "ZeroDivisionError",
     "evalue": "division by zero",
     "output_type": "error",
     "traceback": [
      "\u001b[1;31m---------------------------------------------------------------------------\u001b[0m",
      "\u001b[1;31mZeroDivisionError\u001b[0m                         Traceback (most recent call last)",
      "Cell \u001b[1;32mIn[1], line 2\u001b[0m\n\u001b[0;32m      1\u001b[0m \u001b[38;5;66;03m# try, except만 쓰는 방법\u001b[39;00m\n\u001b[1;32m----> 2\u001b[0m \u001b[38;5;241m4\u001b[39m \u001b[38;5;241m/\u001b[39m \u001b[38;5;241m0\u001b[39m\n",
      "\u001b[1;31mZeroDivisionError\u001b[0m: division by zero"
     ]
    }
   ],
   "source": [
    "4 / 0"
   ]
  },
  {
   "cell_type": "code",
   "execution_count": 2,
   "id": "1cfef882",
   "metadata": {},
   "outputs": [
    {
     "name": "stdout",
     "output_type": "stream",
     "text": [
      "error\n"
     ]
    }
   ],
   "source": [
    "# try, except만 쓰는 방법\n",
    "try:\n",
    "    4 / 0\n",
    "except:\n",
    "    print(\"error\")"
   ]
  },
  {
   "cell_type": "code",
   "execution_count": 3,
   "id": "3da9b219",
   "metadata": {},
   "outputs": [
    {
     "name": "stdout",
     "output_type": "stream",
     "text": [
      "zero_division_error\n"
     ]
    }
   ],
   "source": [
    "# 발생 오류만 포함한 exceptp 문\n",
    "try:\n",
    "    4 / 0\n",
    "    \n",
    "except ZeroDivisionError:\n",
    "    print(\"zero_division_error\")"
   ]
  },
  {
   "cell_type": "code",
   "execution_count": 4,
   "id": "f499ec58",
   "metadata": {},
   "outputs": [
    {
     "name": "stdout",
     "output_type": "stream",
     "text": [
      "zero_division_error\n"
     ]
    }
   ],
   "source": [
    "try:\n",
    "    4 / 0\n",
    "    \n",
    "except ZeroDivisionError:\n",
    "    print(\"zero_division_error\")\n",
    "    \n",
    "except KeyError:\n",
    "    print(\"key_error\")"
   ]
  },
  {
   "cell_type": "code",
   "execution_count": 5,
   "id": "e37d3b08",
   "metadata": {},
   "outputs": [
    {
     "name": "stdout",
     "output_type": "stream",
     "text": [
      "division by zero\n"
     ]
    }
   ],
   "source": [
    "# 발생 오류와 오류 메시지 변수까지 포함한 except 문\n",
    "try:\n",
    "    4 / 0\n",
    "    \n",
    "except ZeroDivisionError as e:\n",
    "    print(e)"
   ]
  },
  {
   "cell_type": "code",
   "execution_count": 9,
   "id": "dc852af4",
   "metadata": {},
   "outputs": [
    {
     "name": "stdout",
     "output_type": "stream",
     "text": [
      "나누어지는 수를 입력 : 5\n",
      "나누는 수를 입력 : 1.5\n",
      "invalid literal for int() with base 10: '1.5'\n",
      "정수만 입력할 수 있습니다.\n"
     ]
    }
   ],
   "source": [
    "try:\n",
    "    a = int(input(\"나누어지는 수를 입력 : \"))\n",
    "    b = int(input(\"나누는 수를 입력 : \"))\n",
    "    print(f\"{a} / {b} = {a / b}\")\n",
    "    \n",
    "except ZeroDivisionError as e:\n",
    "    print(e)\n",
    "    print(\"0으로 나눌 수 없습니다.\")\n",
    "    \n",
    "except ValueError as e:\n",
    "    print(e)\n",
    "    print(\"정수만 입력할 수 있습니다.\")"
   ]
  },
  {
   "cell_type": "markdown",
   "id": "4e16631d",
   "metadata": {},
   "source": [
    "# else, finally 문\n",
    "\n",
    "```\n",
    "try:\n",
    "    코드 작성 영역\n",
    "except:\n",
    "    예외 발생 시 처리 영역\n",
    "else:\n",
    "    예외가 없을 때 처리 영역\n",
    "finally:\n",
    "    언제나 실행되는 영역\n",
    "```"
   ]
  },
  {
   "cell_type": "markdown",
   "id": "68a56309",
   "metadata": {},
   "source": [
    "# try, except, else, finally 구문의 조합\n",
    "\n",
    "- try 구문은 단독으로 사용할 수 없으며, 반드시 except 구문 또는 finally 구문과 함께 사용해야함\n",
    "- else 구문은 반드시 except 구문 뒤에 사용해야 함\n",
    "\n",
    "- 가능한 조합\n",
    "    - try + except\n",
    "    - try + except + else\n",
    "    - try + except +finally\n",
    "    - try + except + else + finally\n",
    "    - try + finally\n",
    "    \n",
    "- 가능한 조합 외의 모든 조합은 구문 오류 발생"
   ]
  },
  {
   "cell_type": "code",
   "execution_count": 10,
   "id": "b217f654",
   "metadata": {},
   "outputs": [
    {
     "ename": "SyntaxError",
     "evalue": "incomplete input (3009271579.py, line 2)",
     "output_type": "error",
     "traceback": [
      "\u001b[1;36m  Cell \u001b[1;32mIn[10], line 2\u001b[1;36m\u001b[0m\n\u001b[1;33m    print(\"aa\")\u001b[0m\n\u001b[1;37m               ^\u001b[0m\n\u001b[1;31mSyntaxError\u001b[0m\u001b[1;31m:\u001b[0m incomplete input\n"
     ]
    }
   ],
   "source": [
    "try:\n",
    "    print(\"aa\")"
   ]
  },
  {
   "cell_type": "code",
   "execution_count": 11,
   "id": "4ea17f02",
   "metadata": {},
   "outputs": [
    {
     "ename": "SyntaxError",
     "evalue": "expected 'except' or 'finally' block (2564124416.py, line 4)",
     "output_type": "error",
     "traceback": [
      "\u001b[1;36m  Cell \u001b[1;32mIn[11], line 4\u001b[1;36m\u001b[0m\n\u001b[1;33m    else:\u001b[0m\n\u001b[1;37m    ^\u001b[0m\n\u001b[1;31mSyntaxError\u001b[0m\u001b[1;31m:\u001b[0m expected 'except' or 'finally' block\n"
     ]
    }
   ],
   "source": [
    "try:\n",
    "    print(\"aaa\")\n",
    "\n",
    "else:\n",
    "    print(\"프로그램이 정상적으로 종료\")"
   ]
  },
  {
   "cell_type": "markdown",
   "id": "3dc4cba3",
   "metadata": {},
   "source": [
    "# finally 활용"
   ]
  },
  {
   "cell_type": "code",
   "execution_count": 14,
   "id": "eac44667",
   "metadata": {},
   "outputs": [
    {
     "name": "stdout",
     "output_type": "stream",
     "text": [
      "오류가 발생했습니다\n",
      "file.closed : True\n"
     ]
    }
   ],
   "source": [
    "# 파일이 제대로 닫혔는지 확인하기\n",
    "try:\n",
    "    f = open(\"info.txt\", \"w\")\n",
    "    터져라\n",
    "    \n",
    "except:\n",
    "    print('오류가 발생했습니다')\n",
    "    \n",
    "finally:\n",
    "    f.close()\n",
    "        \n",
    "print(\"file.closed :\", f.closed)"
   ]
  },
  {
   "cell_type": "code",
   "execution_count": 16,
   "id": "407b4524",
   "metadata": {},
   "outputs": [
    {
     "name": "stdout",
     "output_type": "stream",
     "text": [
      "오류가 발생했습니다\n",
      "file.closed : True\n"
     ]
    }
   ],
   "source": [
    "# finally 구문을 사용하지 않고도 파일을 닫을 수 있음try:\n",
    "try:\n",
    "    f = open(\"info.txt\", \"w\")\n",
    "    터져라\n",
    "    \n",
    "except:\n",
    "    print('오류가 발생했습니다')\n",
    "    \n",
    "f.close()\n",
    "        \n",
    "print(\"file.closed :\", f.closed)"
   ]
  },
  {
   "cell_type": "code",
   "execution_count": 17,
   "id": "c8f32666",
   "metadata": {},
   "outputs": [],
   "source": [
    "# try 구문 내부에서 return 키워드를 사용하는 경우\n",
    "def test():\n",
    "    print(\"test() 함수의 첫 줄\")\n",
    "    \n",
    "    try:\n",
    "        print(\"try 구문 실행\")\n",
    "        return\n",
    "        print(\"try 구문의 return 키워드 뒤\")\n",
    "        \n",
    "    except:\n",
    "        print(\"except 구문 실행\")\n",
    "        \n",
    "    else:\n",
    "        print(\"else 구문 실행\")\n",
    "    \n",
    "    finally:\n",
    "        print(\"finally 구문 실행\")\n",
    "        \n",
    "    print(\"test() 함수의 마지막 줄\")"
   ]
  },
  {
   "cell_type": "code",
   "execution_count": 18,
   "id": "d9d40799",
   "metadata": {},
   "outputs": [
    {
     "name": "stdout",
     "output_type": "stream",
     "text": [
      "test() 함수의 첫 줄\n",
      "try 구문 실행\n",
      "finally 구문 실행\n"
     ]
    }
   ],
   "source": [
    "test()"
   ]
  },
  {
   "cell_type": "code",
   "execution_count": 1,
   "id": "ce76811f",
   "metadata": {},
   "outputs": [
    {
     "name": "stdout",
     "output_type": "stream",
     "text": [
      "프로그램 시작\n",
      "try 구문 실행\n",
      "finally 구문 실행\n",
      "프로그램 종료\n"
     ]
    }
   ],
   "source": [
    "# 반복문과 finally를 사용하는 경우\n",
    "print(\"프로그램 시작\")\n",
    "\n",
    "while True:\n",
    "    try:\n",
    "        print(\"try 구문 실행\")\n",
    "        break\n",
    "        print(\"try 구문의 break 키워드 뒤\")\n",
    "        \n",
    "    except:\n",
    "        print(\"except 구문 실행\")\n",
    "        \n",
    "    finally:\n",
    "        print(\"finally 구문 실행\")\n",
    "        \n",
    "    print(\"while  반복문의 마지막 줄\")\n",
    "    \n",
    "print(\"프로그램 종료\")"
   ]
  },
  {
   "cell_type": "markdown",
   "id": "6273e373",
   "metadata": {},
   "source": [
    "# 강제로 예외 발생시키기"
   ]
  },
  {
   "cell_type": "code",
   "execution_count": 3,
   "id": "3adaa93b",
   "metadata": {},
   "outputs": [
    {
     "name": "stdout",
     "output_type": "stream",
     "text": [
      "발생한 예외 메시지는\n",
      "강제로 발생시킨 예외\n"
     ]
    }
   ],
   "source": [
    "try:\n",
    "    raise Exception(\"강제로 발생시킨 예외\") # \"강제로 발생시킨 예외\" = 오류문구 지정 가능\n",
    "\n",
    "except Exception as e:   # Eeception = 파이썬에서 일어날 수 있는 모든 오류\n",
    "    print(\"발생한 예외 메시지는\")\n",
    "    print(e)"
   ]
  },
  {
   "cell_type": "code",
   "execution_count": 4,
   "id": "6426fbc5",
   "metadata": {},
   "outputs": [
    {
     "ename": "Exception",
     "evalue": "강제로 발생시킨 예외",
     "output_type": "error",
     "traceback": [
      "\u001b[1;31m---------------------------------------------------------------------------\u001b[0m",
      "\u001b[1;31mException\u001b[0m                                 Traceback (most recent call last)",
      "Cell \u001b[1;32mIn[4], line 1\u001b[0m\n\u001b[1;32m----> 1\u001b[0m \u001b[38;5;28;01mraise\u001b[39;00m \u001b[38;5;167;01mException\u001b[39;00m(\u001b[38;5;124m\"\u001b[39m\u001b[38;5;124m강제로 발생시킨 예외\u001b[39m\u001b[38;5;124m\"\u001b[39m)\n",
      "\u001b[1;31mException\u001b[0m: 강제로 발생시킨 예외"
     ]
    }
   ],
   "source": [
    "raise Exception(\"강제로 발생시킨 예외\")"
   ]
  },
  {
   "cell_type": "markdown",
   "id": "84b79e30",
   "metadata": {},
   "source": [
    "# 오류의 종류\n",
    "\n",
    "- 구문 오류(syntax error) : 프로그램 실행 전에 발생하는 오류 = 어떤 말인지 이해가 안된다는 의미\n",
    "- 런타임 오류(runtime error) :  프로그램 실행 중에 발생하는 오류 = 말인거 같긴 한데 해석이 안된다는 의미"
   ]
  },
  {
   "cell_type": "markdown",
   "id": "b049742c",
   "metadata": {},
   "source": [
    "## 구문 오류\n",
    "\n",
    "- 괄호의 개수, 들여쓰기 문제 등으로 프로그램이 실행되기도 전에 발생하는 오류\n",
    "    - 프로그램이 실행조차 되지 않기 때문에 예외처리로는 처리할 수 없음\n",
    "    - 구문 오류가 발생한 코드를 수정해야함"
   ]
  },
  {
   "cell_type": "code",
   "execution_count": 5,
   "id": "a12fdac2",
   "metadata": {},
   "outputs": [
    {
     "ename": "SyntaxError",
     "evalue": "unterminated string literal (detected at line 5) (602039059.py, line 5)",
     "output_type": "error",
     "traceback": [
      "\u001b[1;36m  Cell \u001b[1;32mIn[5], line 5\u001b[1;36m\u001b[0m\n\u001b[1;33m    print(\"오류발생\u001b[0m\n\u001b[1;37m          ^\u001b[0m\n\u001b[1;31mSyntaxError\u001b[0m\u001b[1;31m:\u001b[0m unterminated string literal (detected at line 5)\n"
     ]
    }
   ],
   "source": [
    "# 프로그램 시작\n",
    "print(\"프로그램 시작\")\n",
    "\n",
    "# 구문 오류 발생 코드\n",
    "print(\"오류발생"
   ]
  },
  {
   "cell_type": "markdown",
   "id": "6cbc80ab",
   "metadata": {},
   "source": [
    "- SyntaxError : 구문에 문제가 있어 프로그램이 실행되지 않음"
   ]
  },
  {
   "cell_type": "markdown",
   "id": "463b6cdc",
   "metadata": {},
   "source": [
    "## 런타임 오류\n",
    "\n",
    "- 프로그램 실행 중에 발생하는 오류\n",
    "- 예외 라고도 함"
   ]
  },
  {
   "cell_type": "code",
   "execution_count": 6,
   "id": "bdd4cdcd",
   "metadata": {},
   "outputs": [
    {
     "name": "stdout",
     "output_type": "stream",
     "text": [
      "프로그램 시작\n"
     ]
    },
    {
     "ename": "NameError",
     "evalue": "name 'list_a' is not defined",
     "output_type": "error",
     "traceback": [
      "\u001b[1;31m---------------------------------------------------------------------------\u001b[0m",
      "\u001b[1;31mNameError\u001b[0m                                 Traceback (most recent call last)",
      "Cell \u001b[1;32mIn[6], line 4\u001b[0m\n\u001b[0;32m      1\u001b[0m \u001b[38;5;28mprint\u001b[39m(\u001b[38;5;124m\"\u001b[39m\u001b[38;5;124m프로그램 시작\u001b[39m\u001b[38;5;124m\"\u001b[39m)\n\u001b[0;32m      3\u001b[0m \u001b[38;5;66;03m# 예외 발생 코드\u001b[39;00m\n\u001b[1;32m----> 4\u001b[0m list_a[\u001b[38;5;241m1\u001b[39m]\n",
      "\u001b[1;31mNameError\u001b[0m: name 'list_a' is not defined"
     ]
    }
   ],
   "source": [
    "print(\"프로그램 시작\")\n",
    "\n",
    "# 예외 발생 코드\n",
    "list_a[1]"
   ]
  },
  {
   "cell_type": "markdown",
   "id": "a3a6212e",
   "metadata": {},
   "source": [
    "- 프로그램 시작이라는 문자열은 출력되었음"
   ]
  },
  {
   "cell_type": "markdown",
   "id": "1c26ff0d",
   "metadata": {},
   "source": [
    "# 조건문으로 예외 처리하기(기본 예외 처리)"
   ]
  },
  {
   "cell_type": "code",
   "execution_count": 7,
   "id": "aa08c5a9",
   "metadata": {},
   "outputs": [
    {
     "name": "stdout",
     "output_type": "stream",
     "text": [
      "정수 입력 : yyy\n"
     ]
    },
    {
     "ename": "ValueError",
     "evalue": "invalid literal for int() with base 10: 'yyy'",
     "output_type": "error",
     "traceback": [
      "\u001b[1;31m---------------------------------------------------------------------------\u001b[0m",
      "\u001b[1;31mValueError\u001b[0m                                Traceback (most recent call last)",
      "Cell \u001b[1;32mIn[7], line 5\u001b[0m\n\u001b[0;32m      2\u001b[0m user_input_a \u001b[38;5;241m=\u001b[39m \u001b[38;5;28minput\u001b[39m(\u001b[38;5;124m\"\u001b[39m\u001b[38;5;124m정수 입력 : \u001b[39m\u001b[38;5;124m\"\u001b[39m)\n\u001b[0;32m      4\u001b[0m \u001b[38;5;66;03m# 숫자로 변환\u001b[39;00m\n\u001b[1;32m----> 5\u001b[0m number_input_a \u001b[38;5;241m=\u001b[39m \u001b[38;5;28mint\u001b[39m(user_input_a)\n\u001b[0;32m      7\u001b[0m \u001b[38;5;66;03m# 출력\u001b[39;00m\n\u001b[0;32m      8\u001b[0m \u001b[38;5;28mprint\u001b[39m(number_input_a)\n",
      "\u001b[1;31mValueError\u001b[0m: invalid literal for int() with base 10: 'yyy'"
     ]
    }
   ],
   "source": [
    "# 숫자를 입력 받음\n",
    "user_input_a = input(\"정수 입력 : \")\n",
    "\n",
    "# 숫자로 변환\n",
    "number_input_a = int(user_input_a)\n",
    "\n",
    "# 출력\n",
    "print(number_input_a)"
   ]
  },
  {
   "cell_type": "code",
   "execution_count": 8,
   "id": "62893b63",
   "metadata": {},
   "outputs": [
    {
     "name": "stdout",
     "output_type": "stream",
     "text": [
      "정수 입력 : ㅛㅛㅛ\n",
      "정수를 입력하지 않았습니다.\n"
     ]
    }
   ],
   "source": [
    "# 숫자를 입력 받음\n",
    "user_input_a = input(\"정수 입력 : \")\n",
    "\n",
    "# 사용자의 입력이 숫자로만 구성되어 있을 때\n",
    "if user_input_a.isdigit(): # isdigit() : 숫자로만 구성된 글자인지 확인\n",
    "    # 숫자로 변환\n",
    "    number_input_a = int(user_input_a)\n",
    "\n",
    "# 출력\n",
    "    print(number_input_a)\n",
    "    \n",
    "else:\n",
    "    print(\"정수를 입력하지 않았습니다.\")"
   ]
  },
  {
   "cell_type": "markdown",
   "id": "501a44f6",
   "metadata": {},
   "source": [
    "# try-except 구문과 pass 키워드 조합\n",
    "\n",
    "- 예외가 발생하면 일단 처리해야 하지만, 해당 코드가 딱히 중요한 부분이 아니라면 일단 try-except 구문으로 프로그램 강제 종료만 막을 수도 있음"
   ]
  },
  {
   "cell_type": "code",
   "execution_count": 9,
   "id": "1a69104d",
   "metadata": {},
   "outputs": [
    {
     "name": "stdout",
     "output_type": "stream",
     "text": [
      "['52', '2743', '32', '103']\n"
     ]
    }
   ],
   "source": [
    "list_input_a = [\"52\", \"2743\", \"32\", \"스파이\", \"103\"]\n",
    "\n",
    "list_num = []\n",
    "\n",
    "for i in list_input_a:\n",
    "    try:\n",
    "        float(i)\n",
    "        list_num.append(i)\n",
    "        \n",
    "    except:\n",
    "        pass\n",
    "    \n",
    "print(list_num)"
   ]
  },
  {
   "cell_type": "markdown",
   "id": "459815ae",
   "metadata": {},
   "source": [
    "- try, except는 코드 효율성이 좋지 않기 때문에 범위를 최소한으로 설정해주는 것이 좋음\n",
    "- 숫자로 변환할 수 없는 데이터라면 float(i)에서 예외 발생\n",
    "- try - except 구문은 if구문을 활용하는 예외처리 방법에 비해 느린 편"
   ]
  }
 ],
 "metadata": {
  "kernelspec": {
   "display_name": "Python 3 (ipykernel)",
   "language": "python",
   "name": "python3"
  },
  "language_info": {
   "codemirror_mode": {
    "name": "ipython",
    "version": 3
   },
   "file_extension": ".py",
   "mimetype": "text/x-python",
   "name": "python",
   "nbconvert_exporter": "python",
   "pygments_lexer": "ipython3",
   "version": "3.11.5"
  }
 },
 "nbformat": 4,
 "nbformat_minor": 5
}
