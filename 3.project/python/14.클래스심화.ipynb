{
 "cells": [
  {
   "cell_type": "markdown",
   "id": "9f94e3e2",
   "metadata": {},
   "source": [
    "# 소멸자(destructor)\n",
    "\n",
    "- 인스턴스가 소멸될 때 자동으로 호출되는 메서드"
   ]
  },
  {
   "cell_type": "code",
   "execution_count": 5,
   "id": "bccaf37a",
   "metadata": {},
   "outputs": [],
   "source": [
    "class Sample:\n",
    "    def __del__(self):\n",
    "        print(\"인스턴스가 소멸됩니다\")"
   ]
  },
  {
   "cell_type": "code",
   "execution_count": 6,
   "id": "03a64a5c",
   "metadata": {},
   "outputs": [],
   "source": [
    "sample = Sample()"
   ]
  },
  {
   "cell_type": "code",
   "execution_count": 7,
   "id": "311a53d7",
   "metadata": {},
   "outputs": [
    {
     "name": "stdout",
     "output_type": "stream",
     "text": [
      "<__main__.Sample object at 0x000002DB6C364150>\n"
     ]
    }
   ],
   "source": [
    "print(sample)"
   ]
  },
  {
   "cell_type": "code",
   "execution_count": 8,
   "id": "261a0847",
   "metadata": {},
   "outputs": [
    {
     "name": "stdout",
     "output_type": "stream",
     "text": [
      "인스턴스가 소멸됩니다\n"
     ]
    }
   ],
   "source": [
    "del sample"
   ]
  },
  {
   "cell_type": "code",
   "execution_count": 9,
   "id": "45cfbecf",
   "metadata": {},
   "outputs": [
    {
     "ename": "NameError",
     "evalue": "name 'sample' is not defined",
     "output_type": "error",
     "traceback": [
      "\u001b[1;31m---------------------------------------------------------------------------\u001b[0m",
      "\u001b[1;31mNameError\u001b[0m                                 Traceback (most recent call last)",
      "Cell \u001b[1;32mIn[9], line 1\u001b[0m\n\u001b[1;32m----> 1\u001b[0m \u001b[38;5;28mprint\u001b[39m(sample)\n",
      "\u001b[1;31mNameError\u001b[0m: name 'sample' is not defined"
     ]
    }
   ],
   "source": [
    "print(sample)"
   ]
  },
  {
   "cell_type": "markdown",
   "id": "75da117f",
   "metadata": {},
   "source": [
    "# isinstance()\n",
    "\n",
    "- 객체가 어떤 클래스로부터 만들어졌는지 확인할 수 있는 함수\n",
    "- 첫 번째 매개변수에 객체, 두 번째 매개변수에 클래스를 입력\n",
    "    - isinstance(객체, 클래스)\n",
    "    \n",
    "- 객체가 해당 클래스를 기반으로 만들어졌으면 True, 관계 없으면 False를 반환"
   ]
  },
  {
   "cell_type": "code",
   "execution_count": 10,
   "id": "0d096b37",
   "metadata": {},
   "outputs": [],
   "source": [
    "class Student:\n",
    "    def __init__(self):\n",
    "        pass"
   ]
  },
  {
   "cell_type": "code",
   "execution_count": 11,
   "id": "ae78f28a",
   "metadata": {},
   "outputs": [],
   "source": [
    "student = Student()"
   ]
  },
  {
   "cell_type": "code",
   "execution_count": 12,
   "id": "0e5c8c67",
   "metadata": {},
   "outputs": [
    {
     "data": {
      "text/plain": [
       "True"
      ]
     },
     "execution_count": 12,
     "metadata": {},
     "output_type": "execute_result"
    }
   ],
   "source": [
    "isinstance(student, Student)"
   ]
  },
  {
   "cell_type": "markdown",
   "id": "6f7e036a",
   "metadata": {},
   "source": [
    "- 리스트 내부에 여러 종류의 객체가 들어있을 때 인스턴스들을 구분하며 속성과 기능을 사용할 때 사용"
   ]
  },
  {
   "cell_type": "code",
   "execution_count": 13,
   "id": "3fd96716",
   "metadata": {},
   "outputs": [],
   "source": [
    "class Student:\n",
    "    def study(self):\n",
    "        print(\"공부를 합니다\")\n",
    "        \n",
    "class Teacher:\n",
    "    def teach(self):\n",
    "        print(\"학생을 가르칩니다\")"
   ]
  },
  {
   "cell_type": "code",
   "execution_count": 14,
   "id": "c53e1d29",
   "metadata": {},
   "outputs": [],
   "source": [
    "classroom = [Student(), Student(), Teacher(), Student(), Student()]"
   ]
  },
  {
   "cell_type": "code",
   "execution_count": 15,
   "id": "833902d4",
   "metadata": {},
   "outputs": [
    {
     "name": "stdout",
     "output_type": "stream",
     "text": [
      "공부를 합니다\n",
      "공부를 합니다\n",
      "학생을 가르칩니다\n",
      "공부를 합니다\n",
      "공부를 합니다\n"
     ]
    }
   ],
   "source": [
    "# 반복을 적용해서 적절한 함수를 호출\n",
    "for person in classroom:\n",
    "    if isinstance(person, Student):\n",
    "        person.study()\n",
    "        \n",
    "    elif isinstance(person, Teacher):\n",
    "        person.teach()"
   ]
  },
  {
   "cell_type": "markdown",
   "id": "a0f6ac48",
   "metadata": {},
   "source": [
    "# 특수한 이름의 메서드\n",
    "\n",
    "- \\_\\_<이름>\\_\\_() 형태의 메서드들은 특수한 상황에 자동으로 호출되도록 만들어짐\n",
    "- 파이썬이 클래스를 사용할 때 제공해주는 보조 기능"
   ]
  },
  {
   "cell_type": "markdown",
   "id": "c43c85ac",
   "metadata": {},
   "source": [
    "## \\_\\_str\\_\\_()\n",
    "\n",
    "- str() 함수의 매개변수로 객체를 넣으면 호출되는 메서드\n",
    "- 객체를 문자열로 변환"
   ]
  },
  {
   "cell_type": "code",
   "execution_count": 16,
   "id": "b599a666",
   "metadata": {},
   "outputs": [
    {
     "data": {
      "text/plain": [
       "<__main__.Student at 0x2db6bdbd810>"
      ]
     },
     "execution_count": 16,
     "metadata": {},
     "output_type": "execute_result"
    }
   ],
   "source": [
    "student"
   ]
  },
  {
   "cell_type": "code",
   "execution_count": 17,
   "id": "fb70e73c",
   "metadata": {},
   "outputs": [
    {
     "data": {
      "text/plain": [
       "'<__main__.Student object at 0x000002DB6BDBD810>'"
      ]
     },
     "execution_count": 17,
     "metadata": {},
     "output_type": "execute_result"
    }
   ],
   "source": [
    "# __str__ 가 없는 경우\n",
    "str(student)"
   ]
  },
  {
   "cell_type": "code",
   "execution_count": 19,
   "id": "b7300d4e",
   "metadata": {},
   "outputs": [],
   "source": [
    "class Student:\n",
    "    def __init__(self, name, korean, math, english, science):\n",
    "        self.name = name\n",
    "        self.korean = korean\n",
    "        self.math = math\n",
    "        self.english = english\n",
    "        self.science = science\n",
    "        \n",
    "    def get_sum(self):\n",
    "        return self.korean + self.math + self.english + self.science\n",
    "    \n",
    "    def get_average(self):\n",
    "        return self.get_sum() / 4\n",
    "    \n",
    "    def __str__(self):\n",
    "        return f\"{self.name}\\t{self.get_sum()}\\t{self.get_average()}\""
   ]
  },
  {
   "cell_type": "code",
   "execution_count": 20,
   "id": "ddb79063",
   "metadata": {},
   "outputs": [],
   "source": [
    "students = [Student(\"윤인성\", 87, 98, 88, 95),\n",
    "            Student(\"연하진\", 92, 98, 96, 98),\n",
    "            Student(\"구지연\", 76, 96, 94, 90)]"
   ]
  },
  {
   "cell_type": "code",
   "execution_count": 21,
   "id": "efa157f9",
   "metadata": {},
   "outputs": [
    {
     "name": "stdout",
     "output_type": "stream",
     "text": [
      "윤인성\t368\t92.0\n"
     ]
    }
   ],
   "source": [
    "print(students[0])"
   ]
  },
  {
   "cell_type": "code",
   "execution_count": 22,
   "id": "f67894cb",
   "metadata": {},
   "outputs": [
    {
     "name": "stdout",
     "output_type": "stream",
     "text": [
      "윤인성\t368\t92.0\n"
     ]
    }
   ],
   "source": [
    "# __str__이 있는 경우\n",
    "print(str(students[0]))"
   ]
  },
  {
   "cell_type": "code",
   "execution_count": 23,
   "id": "7f670db0",
   "metadata": {},
   "outputs": [
    {
     "name": "stdout",
     "output_type": "stream",
     "text": [
      "이름\t총점\t평균\n",
      "윤인성\t368\t92.0\n",
      "연하진\t384\t96.0\n",
      "구지연\t356\t89.0\n"
     ]
    }
   ],
   "source": [
    "print(\"이름\", \"총점\", \"평균\", sep = \"\\t\")\n",
    "\n",
    "for student in students:\n",
    "    print(student)"
   ]
  },
  {
   "cell_type": "markdown",
   "id": "15893163",
   "metadata": {},
   "source": [
    "## 크기 비교 메서드\n",
    "\n",
    "| 이름 | 영어 | 설명 |\n",
    "| :--: | :-- | :-- |\n",
    "| eq | equal | 같다 |\n",
    "| ne | not equal | 다르다 |\n",
    "| gt | greater than | 크다 |\n",
    "| ge | greater tahn or equal | 크거나 같다 |\n",
    "| lt | less than | 작다 |\n",
    "| le | less than or equal | 작거나 같다 |"
   ]
  },
  {
   "cell_type": "code",
   "execution_count": 24,
   "id": "9cee9eee",
   "metadata": {},
   "outputs": [
    {
     "ename": "TypeError",
     "evalue": "'>' not supported between instances of 'Student' and 'Student'",
     "output_type": "error",
     "traceback": [
      "\u001b[1;31m---------------------------------------------------------------------------\u001b[0m",
      "\u001b[1;31mTypeError\u001b[0m                                 Traceback (most recent call last)",
      "Cell \u001b[1;32mIn[24], line 2\u001b[0m\n\u001b[0;32m      1\u001b[0m \u001b[38;5;66;03m# 크기 비교 메서드 정의 전\u001b[39;00m\n\u001b[1;32m----> 2\u001b[0m students[\u001b[38;5;241m0\u001b[39m] \u001b[38;5;241m>\u001b[39m students[\u001b[38;5;241m1\u001b[39m]\n",
      "\u001b[1;31mTypeError\u001b[0m: '>' not supported between instances of 'Student' and 'Student'"
     ]
    }
   ],
   "source": [
    "# 크기 비교 메서드 정의 전\n",
    "students[0] > students[1]"
   ]
  },
  {
   "cell_type": "code",
   "execution_count": 27,
   "id": "99fcb9ad",
   "metadata": {},
   "outputs": [],
   "source": [
    "class Student:\n",
    "    def __init__(self, name, korean, math, english, science):\n",
    "        self.name = name\n",
    "        self.korean = korean\n",
    "        self.math = math\n",
    "        self.english = english\n",
    "        self.science = science\n",
    "        \n",
    "    def get_sum(self):\n",
    "        return self.korean + self.math + self.english + self.science\n",
    "    \n",
    "    def get_average(self):\n",
    "        return self.get_sum() / 4\n",
    "    \n",
    "    def __str__(self):\n",
    "        return f\"{self.name}\\t{self.get_sum()}\\t{self.get_average()}\"\n",
    "    \n",
    "    def __eq__(self, value):\n",
    "        return self.get_sum() == value.get_sum()\n",
    "    \n",
    "    def __ne__(self, value):\n",
    "        return self.get_sum() != value.get_sum()\n",
    "        \n",
    "    def __gt__(self, value):\n",
    "        return self.get_sum() > value.get_sum()\n",
    "    \n",
    "    def __ge__(self, value):\n",
    "        return self.get_sum() >= value.get_sum()\n",
    "    \n",
    "    def __lt__(self, value):\n",
    "        return self.get_sum() < value.get_sum()\n",
    "        \n",
    "    def __le__(self, value):\n",
    "        return self.get_sum() <= value.get_sum()"
   ]
  },
  {
   "cell_type": "code",
   "execution_count": 28,
   "id": "2f9f0a32",
   "metadata": {},
   "outputs": [],
   "source": [
    "# 비교할 학생 선언\n",
    "student_a = Student(\"나선주\", 88, 82, 96, 82)\n",
    "student_b = Student(\"윤아린\", 96, 98, 98, 98)"
   ]
  },
  {
   "cell_type": "code",
   "execution_count": 29,
   "id": "9e37a77b",
   "metadata": {},
   "outputs": [
    {
     "data": {
      "text/plain": [
       "False"
      ]
     },
     "execution_count": 29,
     "metadata": {},
     "output_type": "execute_result"
    }
   ],
   "source": [
    "student_a == student_b"
   ]
  },
  {
   "cell_type": "code",
   "execution_count": 30,
   "id": "87d6fb6e",
   "metadata": {},
   "outputs": [
    {
     "data": {
      "text/plain": [
       "False"
      ]
     },
     "execution_count": 30,
     "metadata": {},
     "output_type": "execute_result"
    }
   ],
   "source": [
    "student_a.__eq__(student_b)"
   ]
  },
  {
   "cell_type": "code",
   "execution_count": 31,
   "id": "86f41f1d",
   "metadata": {},
   "outputs": [
    {
     "data": {
      "text/plain": [
       "True"
      ]
     },
     "execution_count": 31,
     "metadata": {},
     "output_type": "execute_result"
    }
   ],
   "source": [
    "student_a != student_b"
   ]
  },
  {
   "cell_type": "code",
   "execution_count": 32,
   "id": "6e57f06e",
   "metadata": {},
   "outputs": [
    {
     "data": {
      "text/plain": [
       "False"
      ]
     },
     "execution_count": 32,
     "metadata": {},
     "output_type": "execute_result"
    }
   ],
   "source": [
    "student_a > student_b"
   ]
  },
  {
   "cell_type": "code",
   "execution_count": 33,
   "id": "f169600e",
   "metadata": {},
   "outputs": [
    {
     "data": {
      "text/plain": [
       "False"
      ]
     },
     "execution_count": 33,
     "metadata": {},
     "output_type": "execute_result"
    }
   ],
   "source": [
    "student_a >= student_b"
   ]
  },
  {
   "cell_type": "code",
   "execution_count": 34,
   "id": "dea152d1",
   "metadata": {},
   "outputs": [
    {
     "data": {
      "text/plain": [
       "True"
      ]
     },
     "execution_count": 34,
     "metadata": {},
     "output_type": "execute_result"
    }
   ],
   "source": [
    "student_a < student_b"
   ]
  },
  {
   "cell_type": "code",
   "execution_count": 35,
   "id": "51ea1baa",
   "metadata": {},
   "outputs": [
    {
     "data": {
      "text/plain": [
       "True"
      ]
     },
     "execution_count": 35,
     "metadata": {},
     "output_type": "execute_result"
    }
   ],
   "source": [
    "student_a <= student_b"
   ]
  },
  {
   "cell_type": "markdown",
   "id": "d6d48f1d",
   "metadata": {},
   "source": [
    "- 비교할 때 사용하는 자료형을 한정하고 싶다면 예외발생을 활용할 수도 있음"
   ]
  },
  {
   "cell_type": "code",
   "execution_count": 49,
   "id": "d88183f0",
   "metadata": {},
   "outputs": [],
   "source": [
    "class Student:\n",
    "    def __init__(self, name, korean, math, english, science):\n",
    "        self.name = name\n",
    "        self.korean = korean\n",
    "        self.math = math\n",
    "        self.english = english\n",
    "        self.science = science\n",
    "        \n",
    "    def get_sum(self):\n",
    "        return self.korean + self.math + self.english + self.science\n",
    "    \n",
    "    def get_average(self):\n",
    "        return self.get_sum() / 4\n",
    "    \n",
    "    def __str__(self):\n",
    "        return f\"{self.name}\\t{self.get_sum()}\\t{self.get_average()}\"\n",
    "    \n",
    "    def __eq__(self, value):\n",
    "        if not isinstance(value, Student):\n",
    "            raise TypeError(\"Student 클래스의 인스턴스만 비교할 수 있습니다\")\n",
    "        return self.get_sum() == value.get_sum()\n",
    "    \n",
    "    def __ne__(self, value):\n",
    "        return self.get_sum() != value.get_sum()\n",
    "        \n",
    "    def __gt__(self, value):\n",
    "        return self.get_sum() > value.get_sum()\n",
    "    \n",
    "    def __ge__(self, value):\n",
    "        return self.get_sum() >= value.get_sum()\n",
    "    \n",
    "    def __lt__(self, value):\n",
    "        return self.get_sum() < value.get_sum()\n",
    "        \n",
    "    def __le__(self, value):\n",
    "        return self.get_sum() <= value.get_sum()"
   ]
  },
  {
   "cell_type": "code",
   "execution_count": 50,
   "id": "f7d117fe",
   "metadata": {},
   "outputs": [],
   "source": [
    "student_a = Student(\"나선주\", 88, 92, 96, 82)"
   ]
  },
  {
   "cell_type": "code",
   "execution_count": 51,
   "id": "13f52476",
   "metadata": {},
   "outputs": [
    {
     "ename": "TypeError",
     "evalue": "Student 클래스의 인스턴스만 비교할 수 있습니다",
     "output_type": "error",
     "traceback": [
      "\u001b[1;31m---------------------------------------------------------------------------\u001b[0m",
      "\u001b[1;31mTypeError\u001b[0m                                 Traceback (most recent call last)",
      "Cell \u001b[1;32mIn[51], line 1\u001b[0m\n\u001b[1;32m----> 1\u001b[0m student_a \u001b[38;5;241m==\u001b[39m \u001b[38;5;241m10\u001b[39m\n",
      "Cell \u001b[1;32mIn[49], line 20\u001b[0m, in \u001b[0;36mStudent.__eq__\u001b[1;34m(self, value)\u001b[0m\n\u001b[0;32m     18\u001b[0m \u001b[38;5;28;01mdef\u001b[39;00m \u001b[38;5;21m__eq__\u001b[39m(\u001b[38;5;28mself\u001b[39m, value):\n\u001b[0;32m     19\u001b[0m     \u001b[38;5;28;01mif\u001b[39;00m \u001b[38;5;129;01mnot\u001b[39;00m \u001b[38;5;28misinstance\u001b[39m(value, Student):\n\u001b[1;32m---> 20\u001b[0m         \u001b[38;5;28;01mraise\u001b[39;00m \u001b[38;5;167;01mTypeError\u001b[39;00m(\u001b[38;5;124m\"\u001b[39m\u001b[38;5;124mStudent 클래스의 인스턴스만 비교할 수 있습니다\u001b[39m\u001b[38;5;124m\"\u001b[39m)\n\u001b[0;32m     21\u001b[0m     \u001b[38;5;28;01mreturn\u001b[39;00m \u001b[38;5;28mself\u001b[39m\u001b[38;5;241m.\u001b[39mget_sum() \u001b[38;5;241m==\u001b[39m value\u001b[38;5;241m.\u001b[39mget_sum()\n",
      "\u001b[1;31mTypeError\u001b[0m: Student 클래스의 인스턴스만 비교할 수 있습니다"
     ]
    }
   ],
   "source": [
    "student_a == 10"
   ]
  },
  {
   "cell_type": "markdown",
   "id": "1b3ecb20",
   "metadata": {},
   "source": [
    "# 클래스 변수와 클래스 메서드\n",
    "\n",
    "- 객체가 변수와 메서드를 가지는 것 처럼 클래스도 변수와 메서드를 가질 수 있음\n",
    "\n",
    "- 클래스 변수에 접근\n",
    "    - 클래스이름.변수이름\n",
    "    \n",
    "- 클래스 변수 표현법\n",
    "    - 클래스변수 = 값"
   ]
  },
  {
   "cell_type": "code",
   "execution_count": 52,
   "id": "ee76fa10",
   "metadata": {},
   "outputs": [],
   "source": [
    "class Korean:\n",
    "    country = \"한국\" # 클래스 변수 country\n",
    "    \n",
    "    def __init__(self, name, age, address):\n",
    "        self.name = name # 인스턴스 변수 self.name\n",
    "        self.age = age # 인스턴스 변수 self.age\n",
    "        self.address = address # 인스턴스 변수 self.address"
   ]
  },
  {
   "cell_type": "code",
   "execution_count": 53,
   "id": "d632a2e1",
   "metadata": {},
   "outputs": [],
   "source": [
    "man = Korean(\"홍길동\", 35, \"서울\")"
   ]
  },
  {
   "cell_type": "code",
   "execution_count": 54,
   "id": "929e661c",
   "metadata": {},
   "outputs": [
    {
     "data": {
      "text/plain": [
       "'홍길동'"
      ]
     },
     "execution_count": 54,
     "metadata": {},
     "output_type": "execute_result"
    }
   ],
   "source": [
    "man.name"
   ]
  },
  {
   "cell_type": "code",
   "execution_count": 55,
   "id": "86e88b25",
   "metadata": {},
   "outputs": [
    {
     "data": {
      "text/plain": [
       "35"
      ]
     },
     "execution_count": 55,
     "metadata": {},
     "output_type": "execute_result"
    }
   ],
   "source": [
    "man.age"
   ]
  },
  {
   "cell_type": "code",
   "execution_count": 56,
   "id": "4f055447",
   "metadata": {},
   "outputs": [
    {
     "data": {
      "text/plain": [
       "'서울'"
      ]
     },
     "execution_count": 56,
     "metadata": {},
     "output_type": "execute_result"
    }
   ],
   "source": [
    "man.address"
   ]
  },
  {
   "cell_type": "code",
   "execution_count": 57,
   "id": "0aae4faf",
   "metadata": {},
   "outputs": [
    {
     "ename": "AttributeError",
     "evalue": "type object 'Korean' has no attribute 'name'",
     "output_type": "error",
     "traceback": [
      "\u001b[1;31m---------------------------------------------------------------------------\u001b[0m",
      "\u001b[1;31mAttributeError\u001b[0m                            Traceback (most recent call last)",
      "Cell \u001b[1;32mIn[57], line 1\u001b[0m\n\u001b[1;32m----> 1\u001b[0m Korean\u001b[38;5;241m.\u001b[39mname\n",
      "\u001b[1;31mAttributeError\u001b[0m: type object 'Korean' has no attribute 'name'"
     ]
    }
   ],
   "source": [
    "Korean.name"
   ]
  },
  {
   "cell_type": "code",
   "execution_count": 58,
   "id": "46350eb9",
   "metadata": {},
   "outputs": [
    {
     "data": {
      "text/plain": [
       "'한국'"
      ]
     },
     "execution_count": 58,
     "metadata": {},
     "output_type": "execute_result"
    }
   ],
   "source": [
    "man.country"
   ]
  },
  {
   "cell_type": "code",
   "execution_count": 59,
   "id": "182fd113",
   "metadata": {},
   "outputs": [
    {
     "data": {
      "text/plain": [
       "'한국'"
      ]
     },
     "execution_count": 59,
     "metadata": {},
     "output_type": "execute_result"
    }
   ],
   "source": [
    "Korean.country"
   ]
  },
  {
   "cell_type": "code",
   "execution_count": 60,
   "id": "00951dd9",
   "metadata": {},
   "outputs": [],
   "source": [
    "class Person:\n",
    "    bag = []\n",
    "    \n",
    "    def put_bag(self, stuff):\n",
    "        Person.bag.append(stuff) # 권장되지 않지만 self.bag.append(stuff)과 같은 코드이다.\n",
    "                                 # self.bag을 사용하면 인스턴스 변수와 혼동하기 쉽기 때문에 클래스 이름을 사용하는 것을 권장"
   ]
  },
  {
   "cell_type": "code",
   "execution_count": 61,
   "id": "bfb52464",
   "metadata": {},
   "outputs": [],
   "source": [
    "james = Person()\n",
    "james.put_bag(\"책\")"
   ]
  },
  {
   "cell_type": "code",
   "execution_count": 62,
   "id": "2c1cecd3",
   "metadata": {},
   "outputs": [],
   "source": [
    "maria = Person()\n",
    "maria.put_bag(\"열쇠\")"
   ]
  },
  {
   "cell_type": "code",
   "execution_count": 64,
   "id": "74fd68b9",
   "metadata": {},
   "outputs": [
    {
     "name": "stdout",
     "output_type": "stream",
     "text": [
      "['책', '열쇠']\n",
      "['책', '열쇠']\n",
      "['책', '열쇠']\n"
     ]
    }
   ],
   "source": [
    "print(james.bag)\n",
    "print(maria.bag)\n",
    "print(Person.bag)"
   ]
  },
  {
   "cell_type": "code",
   "execution_count": 65,
   "id": "746cfd27",
   "metadata": {},
   "outputs": [],
   "source": [
    "class Person:\n",
    "    bag = []\n",
    "    \n",
    "    def __init__(self):\n",
    "        self.bag = []\n",
    "        \n",
    "    def put_bag(self, stuff):\n",
    "        Person.bag.append(stuff)\n",
    "        \n",
    "    def put_mybag(self,stuff):\n",
    "        self.bag.append(stuff)"
   ]
  },
  {
   "cell_type": "code",
   "execution_count": 66,
   "id": "1db370cc",
   "metadata": {},
   "outputs": [],
   "source": [
    "james = Person()\n",
    "james.put_mybag(\"책\")\n",
    "james.put_bag(\"사전\")"
   ]
  },
  {
   "cell_type": "code",
   "execution_count": 68,
   "id": "159d5166",
   "metadata": {},
   "outputs": [],
   "source": [
    "maria = Person()\n",
    "maria.put_mybag(\"열쇠\")\n",
    "maria.put_bag(\"자물쇠\")"
   ]
  },
  {
   "cell_type": "code",
   "execution_count": 69,
   "id": "fe74df3f",
   "metadata": {},
   "outputs": [
    {
     "name": "stdout",
     "output_type": "stream",
     "text": [
      "['책']\n",
      "['열쇠']\n",
      "['사전', '자물쇠']\n"
     ]
    }
   ],
   "source": [
    "# 같은 이름의 인스턴스 변수와 클래스 변수가 존재할 때는 인스턴스 변수 우선\n",
    "print(james.bag)\n",
    "print(maria.bag)\n",
    "print(Person.bag)"
   ]
  },
  {
   "cell_type": "code",
   "execution_count": 70,
   "id": "e2d96f8b",
   "metadata": {},
   "outputs": [],
   "source": [
    "class Student:\n",
    "    count = 0\n",
    "    \n",
    "    def __init__(self, name, korean, math, english, science):\n",
    "        self.name = name\n",
    "        self.korean = korean\n",
    "        self.math = math\n",
    "        self.english = english\n",
    "        self.science = science\n",
    "        \n",
    "        # 클래스 변수 설정\n",
    "        Student.count += 1\n",
    "        print(f\"{Student.count}번째 학생이 생성되었습니다\")"
   ]
  },
  {
   "cell_type": "code",
   "execution_count": 73,
   "id": "12ce592d",
   "metadata": {},
   "outputs": [
    {
     "name": "stdout",
     "output_type": "stream",
     "text": [
      "1번째 학생이 생성되었습니다\n",
      "2번째 학생이 생성되었습니다\n",
      "3번째 학생이 생성되었습니다\n"
     ]
    }
   ],
   "source": [
    "students = [Student(\"윤인성\", 87, 98, 88, 95),\n",
    "            Student(\"연하진\", 92, 98, 96, 98),\n",
    "            Student(\"구지연\", 76, 96, 94, 90)]"
   ]
  },
  {
   "cell_type": "code",
   "execution_count": 74,
   "id": "2e1a7558",
   "metadata": {},
   "outputs": [
    {
     "name": "stdout",
     "output_type": "stream",
     "text": [
      "현재 생성된 총 학생수는 3명 입니다\n"
     ]
    }
   ],
   "source": [
    "print(f\"현재 생성된 총 학생수는 {Student.count}명 입니다\")"
   ]
  },
  {
   "cell_type": "markdown",
   "id": "3b281f72",
   "metadata": {},
   "source": [
    "## 클래스 메서드\n",
    "\n",
    "- 인스턴스 또는 클래스로 호출\n",
    "- 생성된 인스턴스가 없어도 호출 가능\n",
    "- @classmethod 데코레이터를 표시하고 작성\n",
    "- 매개변수 cls를 사용\n",
    "- 클래스.메소드() 의 형태로 사용\n",
    "- 인스턴스 변수에 접근할 수 없지만 클래스 변수에는 접근 가능\n",
    "    - 메서드의 실행이 외부상태에 영향을 미치지 않는 순수함수를 만들 때\n",
    "    - 인스턴스의 상태를 변화시키지 않는 메서드를 만들 때\n",
    "    \n",
    "- 표현법\n",
    "```\n",
    "class 클래스이름:\n",
    "    @classmethod\n",
    "    def 클래스함수(cls, 매개변수):\n",
    "        pass\n",
    "```\n",
    "\n",
    "- 클래스 메서드 호출\n",
    "    - 클래스이름.함수이름(입력값 = 매개변수)"
   ]
  },
  {
   "cell_type": "code",
   "execution_count": 75,
   "id": "bf109c8f",
   "metadata": {},
   "outputs": [],
   "source": [
    "class Korean:\n",
    "    country = \"한국\"\n",
    "    \n",
    "    @classmethod\n",
    "    def trip(cls, country):\n",
    "        if cls.country == country:\n",
    "            print(\"국내여행\")\n",
    "            \n",
    "        else:\n",
    "            print(\"해외여행\")"
   ]
  },
  {
   "cell_type": "code",
   "execution_count": 76,
   "id": "79a55914",
   "metadata": {},
   "outputs": [
    {
     "name": "stdout",
     "output_type": "stream",
     "text": [
      "국내여행\n"
     ]
    }
   ],
   "source": [
    "Korean.trip(\"한국\")"
   ]
  },
  {
   "cell_type": "code",
   "execution_count": 80,
   "id": "4e31b237",
   "metadata": {},
   "outputs": [
    {
     "name": "stdout",
     "output_type": "stream",
     "text": [
      "해외여행\n"
     ]
    }
   ],
   "source": [
    "A.trip(\"미국\")"
   ]
  },
  {
   "cell_type": "code",
   "execution_count": 84,
   "id": "bc20fd0b",
   "metadata": {},
   "outputs": [],
   "source": [
    "class Person:\n",
    "    count = 0 # 클래스 변수\n",
    "    \n",
    "    def __init__(self):\n",
    "        Person.count += 1 # 인스턴스가 만들어질 때 클래스 변수 count에 1 더하기\n",
    "        \n",
    "    @classmethod\n",
    "    def print_count(cls):\n",
    "        print(f\"{cls.count}명 생성됨\") # cls로 클래스 속성에 접근\n",
    "        \n",
    "    @classmethod\n",
    "    def create(cls):\n",
    "        p = cls() # cls()는 Person()과 같음\n",
    "        return p"
   ]
  },
  {
   "cell_type": "code",
   "execution_count": 85,
   "id": "81133f7b",
   "metadata": {},
   "outputs": [],
   "source": [
    "james = Person()\n",
    "maria = Person()"
   ]
  },
  {
   "cell_type": "code",
   "execution_count": 86,
   "id": "ceb3725f",
   "metadata": {},
   "outputs": [
    {
     "name": "stdout",
     "output_type": "stream",
     "text": [
      "2명 생성됨\n"
     ]
    }
   ],
   "source": [
    "Person.print_count()"
   ]
  },
  {
   "cell_type": "code",
   "execution_count": 88,
   "id": "9d467b7b",
   "metadata": {},
   "outputs": [
    {
     "name": "stdout",
     "output_type": "stream",
     "text": [
      "3명 생성됨\n"
     ]
    }
   ],
   "source": [
    "julia = Person.create()\n",
    "Person.print_count()"
   ]
  },
  {
   "cell_type": "code",
   "execution_count": 90,
   "id": "4f4fa071",
   "metadata": {},
   "outputs": [],
   "source": [
    "class Student:\n",
    "    # 클래스 변수\n",
    "    count = 0\n",
    "    students = []\n",
    "    \n",
    "    @classmethod\n",
    "    def print(cls):\n",
    "        print(\"------ 학생 목록 ------\")\n",
    "        print(\"이름\\t총점\\t평균\")\n",
    "        for student in cls.students:\n",
    "            print(student)\n",
    "        print(\"------ ------ ------\")\n",
    "        \n",
    "    def __init__(self, name, korean, math, english, science):\n",
    "        self.name = name\n",
    "        self.korean = korean\n",
    "        self.math = math\n",
    "        self.english = english\n",
    "        self.science = science\n",
    "        Student.count += 1\n",
    "        Student.students.append(self)\n",
    "        \n",
    "    def get_sum(self):\n",
    "        return self.korean + self.math + self.english + self.science\n",
    "    \n",
    "    def get_average(self):\n",
    "        return self.get_sum() / 4\n",
    "    \n",
    "    def __str__(self):\n",
    "        return f\"{self.name}\\t{self.get_sum()}\\t{self.get_average()}\""
   ]
  },
  {
   "cell_type": "code",
   "execution_count": 91,
   "id": "b1461a5a",
   "metadata": {},
   "outputs": [],
   "source": [
    "students = [Student(\"윤인성\", 87, 98, 88, 95),\n",
    "            Student(\"연하진\", 92, 98, 96, 98),\n",
    "            Student(\"구지연\", 76, 96, 94, 90)]"
   ]
  },
  {
   "cell_type": "code",
   "execution_count": 95,
   "id": "3bd1ec25",
   "metadata": {},
   "outputs": [
    {
     "name": "stdout",
     "output_type": "stream",
     "text": [
      "------ 학생 목록 ------\n",
      "이름\t총점\t평균\n",
      "윤인성\t368\t92.0\n",
      "연하진\t384\t96.0\n",
      "구지연\t356\t89.0\n",
      "------ ------ ------\n"
     ]
    }
   ],
   "source": [
    "# 현재 생성된 학생을 모두 출력\n",
    "Student.print()"
   ]
  },
  {
   "cell_type": "markdown",
   "id": "1772ac65",
   "metadata": {},
   "source": [
    "# 가비지 컬렉터(garbage collector)\n",
    "\n",
    "- 프로그램 내부에서 무언가 생성한다는 것은 메모리에 올린다는 의미\n",
    "    - 메모리가 부족해지면 컴퓨터는 하드디스크를 메모리처럼 사용\n",
    "        - 이런 동작을 스왑(swap)이라고 함\n",
    "        - 하드디스크는 메모리보다 훨씬 느리기 때문에 스왑을 처리하는 속도도 느림\n",
    "    - 프로그램에서 변수를 만들면 메모리에 데이터가 올라가고, 계속 만들게되면 메모리가 가득 참\n",
    "        - 파이썬에서는 가비지 컬렉터가 더 사용할 가능성이 없는 데이터를 메모리에서 제거해서 메모리를 정리"
   ]
  },
  {
   "cell_type": "markdown",
   "id": "d6904fdd",
   "metadata": {},
   "source": [
    "## 변수에 저장하지 않은 경우"
   ]
  },
  {
   "cell_type": "code",
   "execution_count": 96,
   "id": "71827a02",
   "metadata": {},
   "outputs": [],
   "source": [
    "class Test:\n",
    "    def __init__(self, name):\n",
    "        self.name = name\n",
    "        print(f\"{self.name} - 생성되었습니다\")\n",
    "        \n",
    "    def __del__(self):\n",
    "        print(f\"{self.name} - 파괴되었습니다\")"
   ]
  },
  {
   "cell_type": "code",
   "execution_count": 99,
   "id": "e06df320",
   "metadata": {},
   "outputs": [
    {
     "name": "stdout",
     "output_type": "stream",
     "text": [
      "A - 생성되었습니다\n",
      "A - 파괴되었습니다\n",
      "B - 생성되었습니다\n",
      "B - 파괴되었습니다\n",
      "C - 생성되었습니다\n"
     ]
    },
    {
     "data": {
      "text/plain": [
       "<__main__.Test at 0x2db6cbdd650>"
      ]
     },
     "execution_count": 99,
     "metadata": {},
     "output_type": "execute_result"
    }
   ],
   "source": [
    "Test(\"A\")\n",
    "Test(\"B\")\n",
    "Test(\"C\")"
   ]
  },
  {
   "cell_type": "markdown",
   "id": "819af866",
   "metadata": {},
   "source": [
    "## 변수에 저장한 경우"
   ]
  },
  {
   "cell_type": "code",
   "execution_count": 100,
   "id": "7481c51a",
   "metadata": {},
   "outputs": [
    {
     "name": "stdout",
     "output_type": "stream",
     "text": [
      "A - 생성되었습니다\n",
      "B - 생성되었습니다\n",
      "C - 생성되었습니다\n"
     ]
    }
   ],
   "source": [
    "a = Test(\"A\")\n",
    "b = Test(\"B\")\n",
    "c = Test(\"C\")"
   ]
  },
  {
   "cell_type": "markdown",
   "id": "6b6da90c",
   "metadata": {},
   "source": [
    "- 변수에 저장했으면 나중에 활용한다는 의미이므로 프로그램이 종료되는 순간까지 메모리에서 제거하지 않음"
   ]
  },
  {
   "cell_type": "markdown",
   "id": "549aa595",
   "metadata": {},
   "source": [
    "# 프라이빗 변수\n",
    "\n",
    "- 클래스 내부의 변수를 외부에서 사용하는 것을 막고 싶을 때 사용\n",
    "- 표현법\n",
    "    - \\_\\_변수이름"
   ]
  },
  {
   "cell_type": "code",
   "execution_count": 101,
   "id": "751ec456",
   "metadata": {},
   "outputs": [],
   "source": [
    "# 프라이빗 변수가 아닌 경우\n",
    "class Person:\n",
    "    def __init__(self, name, age, address):\n",
    "        self.hello = \"안녕하세요\"\n",
    "        self.name = name\n",
    "        self.age = age\n",
    "        self.address = address"
   ]
  },
  {
   "cell_type": "code",
   "execution_count": 102,
   "id": "9ddcf761",
   "metadata": {},
   "outputs": [],
   "source": [
    "maria = Person(\"마리아\", 20, \"서울시 마포구\")"
   ]
  },
  {
   "cell_type": "code",
   "execution_count": 103,
   "id": "b41eac55",
   "metadata": {},
   "outputs": [
    {
     "data": {
      "text/plain": [
       "'마리아'"
      ]
     },
     "execution_count": 103,
     "metadata": {},
     "output_type": "execute_result"
    }
   ],
   "source": [
    "maria.name"
   ]
  },
  {
   "cell_type": "code",
   "execution_count": 104,
   "id": "df0892dd",
   "metadata": {},
   "outputs": [
    {
     "data": {
      "text/plain": [
       "20"
      ]
     },
     "execution_count": 104,
     "metadata": {},
     "output_type": "execute_result"
    }
   ],
   "source": [
    "maria.age"
   ]
  },
  {
   "cell_type": "code",
   "execution_count": 105,
   "id": "1643edd8",
   "metadata": {},
   "outputs": [],
   "source": [
    "maria.age = 30"
   ]
  },
  {
   "cell_type": "code",
   "execution_count": 106,
   "id": "988e8541",
   "metadata": {},
   "outputs": [
    {
     "data": {
      "text/plain": [
       "30"
      ]
     },
     "execution_count": 106,
     "metadata": {},
     "output_type": "execute_result"
    }
   ],
   "source": [
    "maria.age"
   ]
  },
  {
   "cell_type": "code",
   "execution_count": 107,
   "id": "d2f67edc",
   "metadata": {},
   "outputs": [],
   "source": [
    "maria.age = \"비밀\""
   ]
  },
  {
   "cell_type": "code",
   "execution_count": 108,
   "id": "70623db3",
   "metadata": {},
   "outputs": [
    {
     "data": {
      "text/plain": [
       "'비밀'"
      ]
     },
     "execution_count": 108,
     "metadata": {},
     "output_type": "execute_result"
    }
   ],
   "source": [
    "maria.age"
   ]
  },
  {
   "cell_type": "code",
   "execution_count": 109,
   "id": "88d00194",
   "metadata": {},
   "outputs": [],
   "source": [
    "class Person:\n",
    "    def __init__(self, name, age, address, wallet):\n",
    "        self.hello = \"안녕하세요\"\n",
    "        self.name = name\n",
    "        self.age = age\n",
    "        self.address = address\n",
    "        self.__wallet = wallet"
   ]
  },
  {
   "cell_type": "code",
   "execution_count": 110,
   "id": "a6f932e5",
   "metadata": {},
   "outputs": [],
   "source": [
    "maria = Person(\"마리아\", 20, \"서울시 마포구\", 10000)"
   ]
  },
  {
   "cell_type": "code",
   "execution_count": 111,
   "id": "afc4deee",
   "metadata": {},
   "outputs": [
    {
     "ename": "AttributeError",
     "evalue": "'Person' object has no attribute '__wallet'",
     "output_type": "error",
     "traceback": [
      "\u001b[1;31m---------------------------------------------------------------------------\u001b[0m",
      "\u001b[1;31mAttributeError\u001b[0m                            Traceback (most recent call last)",
      "Cell \u001b[1;32mIn[111], line 1\u001b[0m\n\u001b[1;32m----> 1\u001b[0m maria\u001b[38;5;241m.\u001b[39m__wallet \u001b[38;5;241m-\u001b[39m\u001b[38;5;241m=\u001b[39m \u001b[38;5;241m10000\u001b[39m\n",
      "\u001b[1;31mAttributeError\u001b[0m: 'Person' object has no attribute '__wallet'"
     ]
    }
   ],
   "source": [
    "maria.__wallet -= 10000 # 클래스 바깥에서 비공개 속성(프라이빗 변수)에 접근하면 에러가 발생"
   ]
  },
  {
   "cell_type": "code",
   "execution_count": 112,
   "id": "33dfe1ba",
   "metadata": {},
   "outputs": [],
   "source": [
    "class Person:\n",
    "    def __init__(self, name, age, address, wallet):\n",
    "        self.hello = \"안녕하세요\"\n",
    "        self.name = name\n",
    "        self.age = age\n",
    "        self.address = address\n",
    "        self.__wallet = wallet\n",
    "        \n",
    "    def pay(self, amount):\n",
    "        self.__wallet -= amount # 비공개 속성은 클래스 안의 메서드에서만 접근할 수 있음\n",
    "        print(f\"{self.__wallet}원 남음\")"
   ]
  },
  {
   "cell_type": "code",
   "execution_count": 113,
   "id": "926b2a98",
   "metadata": {},
   "outputs": [],
   "source": [
    "maria = Person(\"마리아\", 20, \"서울시 마포구\", 10000)"
   ]
  },
  {
   "cell_type": "code",
   "execution_count": 114,
   "id": "5a076e48",
   "metadata": {},
   "outputs": [
    {
     "name": "stdout",
     "output_type": "stream",
     "text": [
      "8200원 남음\n"
     ]
    }
   ],
   "source": [
    "maria.pay(1800)"
   ]
  },
  {
   "cell_type": "code",
   "execution_count": 115,
   "id": "cdb32d51",
   "metadata": {},
   "outputs": [],
   "source": [
    "import math\n",
    "\n",
    "class Circle:\n",
    "    def __init__(self, radius):\n",
    "        self.__radius = radius\n",
    "    \n",
    "    def get_circumference(self):\n",
    "        return 2 * math.pi * self.__radius\n",
    "    \n",
    "    def get_area(self):\n",
    "        return math.pi * (self.__radius ** 2)"
   ]
  },
  {
   "cell_type": "code",
   "execution_count": 116,
   "id": "4faf5c0e",
   "metadata": {},
   "outputs": [
    {
     "name": "stdout",
     "output_type": "stream",
     "text": [
      "원의 둘레 62.83185307179586\n",
      "원의 넓이 314.1592653589793\n"
     ]
    },
    {
     "ename": "AttributeError",
     "evalue": "'Circle' object has no attribute '__radius'",
     "output_type": "error",
     "traceback": [
      "\u001b[1;31m---------------------------------------------------------------------------\u001b[0m",
      "\u001b[1;31mAttributeError\u001b[0m                            Traceback (most recent call last)",
      "Cell \u001b[1;32mIn[116], line 5\u001b[0m\n\u001b[0;32m      3\u001b[0m \u001b[38;5;28mprint\u001b[39m(\u001b[38;5;124m\"\u001b[39m\u001b[38;5;124m원의 둘레\u001b[39m\u001b[38;5;124m\"\u001b[39m, circle\u001b[38;5;241m.\u001b[39mget_circumference())\n\u001b[0;32m      4\u001b[0m \u001b[38;5;28mprint\u001b[39m(\u001b[38;5;124m\"\u001b[39m\u001b[38;5;124m원의 넓이\u001b[39m\u001b[38;5;124m\"\u001b[39m, circle\u001b[38;5;241m.\u001b[39mget_area())\n\u001b[1;32m----> 5\u001b[0m \u001b[38;5;28mprint\u001b[39m(\u001b[38;5;124m\"\u001b[39m\u001b[38;5;124m반지름\u001b[39m\u001b[38;5;124m\"\u001b[39m, circle\u001b[38;5;241m.\u001b[39m__radius)\n",
      "\u001b[1;31mAttributeError\u001b[0m: 'Circle' object has no attribute '__radius'"
     ]
    }
   ],
   "source": [
    "# 원의 둘레와 넓이 구하기\n",
    "circle = Circle(10)\n",
    "print(\"원의 둘레\", circle.get_circumference())\n",
    "print(\"원의 넓이\", circle.get_area())\n",
    "print(\"반지름\", circle.__radius)"
   ]
  },
  {
   "cell_type": "markdown",
   "id": "9af7fbb4",
   "metadata": {},
   "source": [
    "# 게터(getter), 세터(setter)\n",
    "\n",
    "- 위와 같은 예제에서 원으 반지름을 변경하고 싶다면 \\_\\_radius에 직접 접근할 수 없기 때문에 간접적인 방법을 사용해야 함\n",
    "- 게터와 세터는 프라이빗 변수의 값을 추출하거나 변경할 목적으로 간접적으로 속성에 접근하도록 해주는 함수"
   ]
  },
  {
   "cell_type": "code",
   "execution_count": 134,
   "id": "f39bff51",
   "metadata": {},
   "outputs": [],
   "source": [
    "class Circle:\n",
    "    def __init__(self, radius):\n",
    "        self.__radius = radius\n",
    "    \n",
    "    def get_circumference(self):\n",
    "        return 2 * math.pi * self.__radius\n",
    "    \n",
    "    def get_area(self):\n",
    "        return math.pi * (self.__radius ** 2)\n",
    "    \n",
    "    # 게터와 세터를 선언\n",
    "    def get_radius(self):\n",
    "        return self.__radius\n",
    "    \n",
    "    def set_radius(self, value):\n",
    "        self.__radius = value"
   ]
  },
  {
   "cell_type": "code",
   "execution_count": 137,
   "id": "f4fd6c95",
   "metadata": {},
   "outputs": [
    {
     "name": "stdout",
     "output_type": "stream",
     "text": [
      "62.83185307179586\n",
      "314.1592653589793\n",
      "10\n"
     ]
    }
   ],
   "source": [
    "circle = Circle(10)\n",
    "print(circle.get_circumference())\n",
    "print(circle.get_area())\n",
    "print(circle.get_radius())"
   ]
  },
  {
   "cell_type": "code",
   "execution_count": 125,
   "id": "98baa20d",
   "metadata": {},
   "outputs": [
    {
     "ename": "AttributeError",
     "evalue": "'Circle' object has no attribute '__radius'",
     "output_type": "error",
     "traceback": [
      "\u001b[1;31m---------------------------------------------------------------------------\u001b[0m",
      "\u001b[1;31mAttributeError\u001b[0m                            Traceback (most recent call last)",
      "Cell \u001b[1;32mIn[125], line 1\u001b[0m\n\u001b[1;32m----> 1\u001b[0m circle\u001b[38;5;241m.\u001b[39m__radius\n",
      "\u001b[1;31mAttributeError\u001b[0m: 'Circle' object has no attribute '__radius'"
     ]
    }
   ],
   "source": [
    "circle.__radius"
   ]
  },
  {
   "cell_type": "code",
   "execution_count": 138,
   "id": "107f31ea",
   "metadata": {},
   "outputs": [
    {
     "name": "stdout",
     "output_type": "stream",
     "text": [
      "18.84955592153876\n",
      "28.274333882308138\n",
      "3\n"
     ]
    }
   ],
   "source": [
    "circle.set_radius(3)\n",
    "print(circle.get_circumference())\n",
    "print(circle.get_area())\n",
    "print(circle.get_radius())"
   ]
  },
  {
   "cell_type": "markdown",
   "id": "0c844f46",
   "metadata": {},
   "source": [
    "- 세터를 사용해 값을 변경하게 하면 여러가지 추가 처리를 할 수 있음"
   ]
  },
  {
   "cell_type": "code",
   "execution_count": 139,
   "id": "6a6c3a92",
   "metadata": {},
   "outputs": [],
   "source": [
    "class Circle:\n",
    "    def __init__(self, radius):\n",
    "        self.__radius = radius\n",
    "    \n",
    "    def get_circumference(self):\n",
    "        return 2 * math.pi * self.__radius\n",
    "    \n",
    "    def get_area(self):\n",
    "        return math.pi * (self.__radius ** 2)\n",
    "    \n",
    "    # 게터와 세터를 선언\n",
    "    def get_radius(self):\n",
    "        return self.__radius\n",
    "    \n",
    "    def set_radius(self, value):\n",
    "        if value <= 0:\n",
    "            raise TypeError(\"반지름은 양의 숫자여야 합니다\")\n",
    "        self.__radius = value"
   ]
  },
  {
   "cell_type": "code",
   "execution_count": 140,
   "id": "3dc4c615",
   "metadata": {},
   "outputs": [
    {
     "ename": "TypeError",
     "evalue": "반지름은 양의 숫자여야 합니다",
     "output_type": "error",
     "traceback": [
      "\u001b[1;31m---------------------------------------------------------------------------\u001b[0m",
      "\u001b[1;31mTypeError\u001b[0m                                 Traceback (most recent call last)",
      "Cell \u001b[1;32mIn[140], line 2\u001b[0m\n\u001b[0;32m      1\u001b[0m circle \u001b[38;5;241m=\u001b[39m Circle(\u001b[38;5;241m10\u001b[39m)\n\u001b[1;32m----> 2\u001b[0m circle\u001b[38;5;241m.\u001b[39mset_radius(\u001b[38;5;241m-\u001b[39m\u001b[38;5;241m2\u001b[39m)\n",
      "Cell \u001b[1;32mIn[139], line 17\u001b[0m, in \u001b[0;36mCircle.set_radius\u001b[1;34m(self, value)\u001b[0m\n\u001b[0;32m     15\u001b[0m \u001b[38;5;28;01mdef\u001b[39;00m \u001b[38;5;21mset_radius\u001b[39m(\u001b[38;5;28mself\u001b[39m, value):\n\u001b[0;32m     16\u001b[0m     \u001b[38;5;28;01mif\u001b[39;00m value \u001b[38;5;241m<\u001b[39m\u001b[38;5;241m=\u001b[39m \u001b[38;5;241m0\u001b[39m:\n\u001b[1;32m---> 17\u001b[0m         \u001b[38;5;28;01mraise\u001b[39;00m \u001b[38;5;167;01mTypeError\u001b[39;00m(\u001b[38;5;124m\"\u001b[39m\u001b[38;5;124m반지름은 양의 숫자여야 합니다\u001b[39m\u001b[38;5;124m\"\u001b[39m)\n\u001b[0;32m     18\u001b[0m     \u001b[38;5;28mself\u001b[39m\u001b[38;5;241m.\u001b[39m__radius \u001b[38;5;241m=\u001b[39m value\n",
      "\u001b[1;31mTypeError\u001b[0m: 반지름은 양의 숫자여야 합니다"
     ]
    }
   ],
   "source": [
    "circle = Circle(10)\n",
    "circle.set_radius(-2)"
   ]
  }
 ],
 "metadata": {
  "kernelspec": {
   "display_name": "Python 3 (ipykernel)",
   "language": "python",
   "name": "python3"
  },
  "language_info": {
   "codemirror_mode": {
    "name": "ipython",
    "version": 3
   },
   "file_extension": ".py",
   "mimetype": "text/x-python",
   "name": "python",
   "nbconvert_exporter": "python",
   "pygments_lexer": "ipython3",
   "version": "3.11.5"
  }
 },
 "nbformat": 4,
 "nbformat_minor": 5
}
