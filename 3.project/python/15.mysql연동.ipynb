{
 "cells": [
  {
   "cell_type": "markdown",
   "id": "f139af8e",
   "metadata": {},
   "source": [
    "# 파이썬과 MySQL의 연동\n",
    "\n",
    "- pymysql 라이브러리를 이용하면 파이썬과 MySQL을 연동하는 데이터베이스 연동 프로그램을 작성할 수 있음"
   ]
  },
  {
   "cell_type": "markdown",
   "id": "6d1ebc09",
   "metadata": {},
   "source": [
    "## 파이썬에서 데이터 입력\n",
    "\n",
    "1. mysql 연결하기\n",
    "    - 연결자 = pymysql.connect(연결 옵션)\n",
    "    \n",
    "2. 커서 생성하기\n",
    "    - 커서 이름 = 연결자.sursor()\n",
    "\n",
    "3. 테이블 만들기\n",
    "    - 커서이름.execute(\"CREATE TABLE 문장\")\n",
    "\n",
    "4. 데이터 입력하기\n",
    "    - 커서이름.execute(\"INSERT 문장\")\n",
    "    \n",
    "5. 입력한 데이터 저장하기\n",
    "    - 연결자.commit()\n",
    "\n",
    "6. mysql 연결 종료하기\n",
    "    - 연결자.close()"
   ]
  },
  {
   "cell_type": "markdown",
   "id": "3c4f3e4b",
   "metadata": {},
   "source": [
    "### mysql 연결\n",
    "\n",
    "```\n",
    "pymysql.connect(host = 서버IP주소, user = 사용자, password = 암호, db = 데이터베이스, charset = 문자세트, port = 포트번호)\n",
    "```"
   ]
  },
  {
   "cell_type": "code",
   "execution_count": 1,
   "id": "e4353cdc",
   "metadata": {},
   "outputs": [],
   "source": [
    "import pymysql"
   ]
  },
  {
   "cell_type": "code",
   "execution_count": 2,
   "id": "ce8ddb42",
   "metadata": {},
   "outputs": [],
   "source": [
    "conn = pymysql.connect(host = \"127.0.0.1\", user = \"root\", password = \"0000\", db = \"market_db\")"
   ]
  },
  {
   "cell_type": "markdown",
   "id": "738254f2",
   "metadata": {},
   "source": [
    "- conn : 연결자를 의미하는 connection의 약자\n",
    "    - 관습적으로 conn 또는 con이라는 변수명을 사용함"
   ]
  },
  {
   "cell_type": "markdown",
   "id": "4ee360f3",
   "metadata": {},
   "source": [
    "### 커서 생성\n",
    "\n",
    "- 커서(cursor) : 데이터베이스에 sql문을 실행하거나 실행된 결과를 받는 통로\n",
    "- 커서는 앞 단계에서 연결한 연결자에 만들어야 함"
   ]
  },
  {
   "cell_type": "code",
   "execution_count": 3,
   "id": "4d1a8bfc",
   "metadata": {},
   "outputs": [],
   "source": [
    "cur = conn.cursor()"
   ]
  },
  {
   "cell_type": "markdown",
   "id": "8bcc2c2a",
   "metadata": {},
   "source": [
    "### 테이블 생성\n",
    "\n",
    "- 테이블을 생성하는 sql문을 커서이름.execute() 함수의 매개변수로 전달"
   ]
  },
  {
   "cell_type": "code",
   "execution_count": 4,
   "id": "4319939b",
   "metadata": {},
   "outputs": [
    {
     "data": {
      "text/plain": [
       "0"
      ]
     },
     "execution_count": 4,
     "metadata": {},
     "output_type": "execute_result"
    }
   ],
   "source": [
    "cur.execute(\"\"\"CREATE TABLE userTable (ID CHAR(4), userName CHAR(15),\n",
    "            email CHAR(20), birthYear INT)\"\"\")"
   ]
  },
  {
   "cell_type": "markdown",
   "id": "7a5ad148",
   "metadata": {},
   "source": [
    "### 데이터 입력"
   ]
  },
  {
   "cell_type": "code",
   "execution_count": 5,
   "id": "5a9db457",
   "metadata": {},
   "outputs": [],
   "source": [
    "sql = \"\"\"\n",
    "INSERT INTO userTable Values ('hong', \"홍지윤\", \"hong@naver.com\", 1996), ('kim', \"김태연\", \"kim@daum.net\", 2011)\n",
    "\"\"\""
   ]
  },
  {
   "cell_type": "code",
   "execution_count": 6,
   "id": "ae7a2e2c",
   "metadata": {},
   "outputs": [
    {
     "data": {
      "text/plain": [
       "2"
      ]
     },
     "execution_count": 6,
     "metadata": {},
     "output_type": "execute_result"
    }
   ],
   "source": [
    "cur.execute(sql)"
   ]
  },
  {
   "cell_type": "markdown",
   "id": "a2661444",
   "metadata": {},
   "source": [
    "### 입력한 데이터 저장\n",
    "\n",
    "- 앞 단계에서 입력한 데이터가 아직 데이터베이스에 완전히 반영되지 않았음\n",
    "- 현재까지의 입력 데이터를 완전히 데이터베이스에 반영하는 것을 커밋(commit)라고 함"
   ]
  },
  {
   "cell_type": "code",
   "execution_count": 7,
   "id": "97dd0107",
   "metadata": {},
   "outputs": [],
   "source": [
    "conn.commit()"
   ]
  },
  {
   "cell_type": "markdown",
   "id": "b745a1df",
   "metadata": {},
   "source": [
    "### 연결 종료\n",
    "\n",
    "- 데이터베이스 사용 후에는 연결자를 닫아줘야 함"
   ]
  },
  {
   "cell_type": "code",
   "execution_count": 8,
   "id": "b56ead7b",
   "metadata": {},
   "outputs": [],
   "source": [
    "conn.close()"
   ]
  },
  {
   "cell_type": "markdown",
   "id": "393dc863",
   "metadata": {},
   "source": [
    "# 연동 프로그래밍 활용"
   ]
  },
  {
   "cell_type": "code",
   "execution_count": 9,
   "id": "314fc300",
   "metadata": {},
   "outputs": [
    {
     "name": "stdout",
     "output_type": "stream",
     "text": [
      "사용자 ID ==> star\n",
      "사용자 이름 ==> 별사랑\n",
      "사용자 이메일 ==> star@naver.com\n",
      "사용자 출생연도 ==> 1990\n"
     ]
    }
   ],
   "source": [
    "conn = pymysql.connect(host = \"127.0.0.1\", user = \"root\", password = \"0000\", db = \"market_db\")\n",
    "\n",
    "cur = conn.cursor()\n",
    "\n",
    "user_id = input(\"사용자 ID ==> \")\n",
    "user_name = input(\"사용자 이름 ==> \")\n",
    "user_email = input(\"사용자 이메일 ==> \")\n",
    "user_birth = input(\"사용자 출생연도 ==> \")\n",
    "\n",
    "sql = f\"\"\"INSERT INTO userTable VALUES('{user_id}', '{user_name}', '{user_email}', '{int(user_birth)}')\"\"\"\n",
    "\n",
    "cur.execute(sql)\n",
    "\n",
    "conn.commit()\n",
    "conn.close()"
   ]
  },
  {
   "cell_type": "markdown",
   "id": "3d423d6e",
   "metadata": {},
   "source": [
    "## 데이터 조회\n",
    "\n",
    "1. mysql 연결하기\n",
    "    - 연결자 = pymysql.connect(연결 옵션)\n",
    "    \n",
    "2. 커서 생성하기\n",
    "    - 커서 이름 = 연결자.sursor()\n",
    "\n",
    "3. 데이터 조회\n",
    "    - 커서이름.execute(\"SELECT 문장\")\n",
    "    \n",
    "4. 조회한 데이터 출력\n",
    "    - 커서이름.fetchone()\n",
    "    - 커서이름.fetchall()\n",
    "    - 커서이름.fetchmany()\n",
    "\n",
    "5. mysql 연결 종료하기\n",
    "    - 연결자.close()\n",
    "    \n",
    "- 조회는 데이터를 입력하거나 변경하는 것이 아니므로 굳이 저장(commit)할 필요는 없음"
   ]
  },
  {
   "cell_type": "code",
   "execution_count": 13,
   "id": "4baefa2d",
   "metadata": {},
   "outputs": [
    {
     "name": "stdout",
     "output_type": "stream",
     "text": [
      "사용자ID\t사용자이름\t이메일\t출생연도\n",
      "----------------------------------------\n",
      "hong\t홍지윤\thong@naver.com\t1996\n",
      "kim\t김태연\tkim@daum.net\t2011\n",
      "star\t별사랑\tstar@naver.com\t1990\n"
     ]
    }
   ],
   "source": [
    "conn = pymysql.connect(host = \"127.0.0.1\", user = \"root\", password = \"0000\", db = \"market_db\")\n",
    "\n",
    "cur = conn.cursor()\n",
    "\n",
    "cur.execute(\"SELECT * FROM userTable\")\n",
    "\n",
    "print(\"사용자ID\\t사용자이름\\t이메일\\t출생연도\")\n",
    "print(\"-\" * 40)\n",
    "\n",
    "while True:\n",
    "    row = cur.fetchone()\n",
    "    \n",
    "    if row == None:\n",
    "        break\n",
    "        \n",
    "    print(f\"{row[0]}\\t{row[1]}\\t{row[2]}\\t{row[3]}\")\n",
    "    \n",
    "conn.close()"
   ]
  },
  {
   "cell_type": "code",
   "execution_count": 14,
   "id": "382003b3",
   "metadata": {},
   "outputs": [
    {
     "name": "stdout",
     "output_type": "stream",
     "text": [
      "사용자ID\t사용자이름\t이메일\t출생연도\n",
      "----------------------------------------\n",
      "hong\t홍지윤\thong@naver.com\t1996\n",
      "kim\t김태연\tkim@daum.net\t2011\n",
      "star\t별사랑\tstar@naver.com\t1990\n"
     ]
    }
   ],
   "source": [
    "conn = pymysql.connect(host = \"127.0.0.1\", user = \"root\", password = \"0000\", db = \"market_db\")\n",
    "\n",
    "cur = conn.cursor()\n",
    "\n",
    "cur.execute(\"SELECT * FROM userTable\")\n",
    "\n",
    "print(\"사용자ID\\t사용자이름\\t이메일\\t출생연도\")\n",
    "print(\"-\" * 40)\n",
    "\n",
    "row = cur.fetchall()\n",
    "\n",
    "for i in row:\n",
    "    print(f\"{i[0]}\\t{i[1]}\\t{i[2]}\\t{i[3]}\")\n",
    "    \n",
    "conn.close()"
   ]
  },
  {
   "cell_type": "markdown",
   "id": "4f3ed965",
   "metadata": {},
   "source": [
    "# With문 활용"
   ]
  },
  {
   "cell_type": "code",
   "execution_count": 15,
   "id": "b9434f60",
   "metadata": {},
   "outputs": [
    {
     "name": "stdout",
     "output_type": "stream",
     "text": [
      "사용자ID\t사용자이름\t이메일\t출생연도\n",
      "----------------------------------------\n",
      "hong\t홍지윤\thong@naver.com\t1996\n",
      "kim\t김태연\tkim@daum.net\t2011\n",
      "star\t별사랑\tstar@naver.com\t1990\n"
     ]
    }
   ],
   "source": [
    "with pymysql.connect(host = \"127.0.0.1\", user = \"root\", password = \"0000\", db = \"market_db\") as conn:\n",
    "    with conn.cursor() as cur:\n",
    "        cur.execute(\"SELECT * FROM userTable\")\n",
    "\n",
    "        print(\"사용자ID\\t사용자이름\\t이메일\\t출생연도\")\n",
    "        print(\"-\" * 40)\n",
    "\n",
    "        row = cur.fetchall()\n",
    "\n",
    "        for i in row:\n",
    "            print(f\"{i[0]}\\t{i[1]}\\t{i[2]}\\t{i[3]}\")"
   ]
  },
  {
   "cell_type": "code",
   "execution_count": 17,
   "id": "8f1e16e6",
   "metadata": {},
   "outputs": [
    {
     "ename": "Error",
     "evalue": "Already closed",
     "output_type": "error",
     "traceback": [
      "\u001b[1;31m---------------------------------------------------------------------------\u001b[0m",
      "\u001b[1;31mError\u001b[0m                                     Traceback (most recent call last)",
      "Cell \u001b[1;32mIn[17], line 1\u001b[0m\n\u001b[1;32m----> 1\u001b[0m conn\u001b[38;5;241m.\u001b[39mclose()\n",
      "File \u001b[1;32m~\\AppData\\Roaming\\Python\\Python311\\site-packages\\pymysql\\connections.py:409\u001b[0m, in \u001b[0;36mConnection.close\u001b[1;34m(self)\u001b[0m\n\u001b[0;32m    400\u001b[0m \u001b[38;5;250m\u001b[39m\u001b[38;5;124;03m\"\"\"\u001b[39;00m\n\u001b[0;32m    401\u001b[0m \u001b[38;5;124;03mSend the quit message and close the socket.\u001b[39;00m\n\u001b[0;32m    402\u001b[0m \n\u001b[1;32m   (...)\u001b[0m\n\u001b[0;32m    406\u001b[0m \u001b[38;5;124;03m:raise Error: If the connection is already closed.\u001b[39;00m\n\u001b[0;32m    407\u001b[0m \u001b[38;5;124;03m\"\"\"\u001b[39;00m\n\u001b[0;32m    408\u001b[0m \u001b[38;5;28;01mif\u001b[39;00m \u001b[38;5;28mself\u001b[39m\u001b[38;5;241m.\u001b[39m_closed:\n\u001b[1;32m--> 409\u001b[0m     \u001b[38;5;28;01mraise\u001b[39;00m err\u001b[38;5;241m.\u001b[39mError(\u001b[38;5;124m\"\u001b[39m\u001b[38;5;124mAlready closed\u001b[39m\u001b[38;5;124m\"\u001b[39m)\n\u001b[0;32m    410\u001b[0m \u001b[38;5;28mself\u001b[39m\u001b[38;5;241m.\u001b[39m_closed \u001b[38;5;241m=\u001b[39m \u001b[38;5;28;01mTrue\u001b[39;00m\n\u001b[0;32m    411\u001b[0m \u001b[38;5;28;01mif\u001b[39;00m \u001b[38;5;28mself\u001b[39m\u001b[38;5;241m.\u001b[39m_sock \u001b[38;5;129;01mis\u001b[39;00m \u001b[38;5;28;01mNone\u001b[39;00m:\n",
      "\u001b[1;31mError\u001b[0m: Already closed"
     ]
    }
   ],
   "source": [
    "conn.close()"
   ]
  }
 ],
 "metadata": {
  "kernelspec": {
   "display_name": "Python 3 (ipykernel)",
   "language": "python",
   "name": "python3"
  },
  "language_info": {
   "codemirror_mode": {
    "name": "ipython",
    "version": 3
   },
   "file_extension": ".py",
   "mimetype": "text/x-python",
   "name": "python",
   "nbconvert_exporter": "python",
   "pygments_lexer": "ipython3",
   "version": "3.11.5"
  }
 },
 "nbformat": 4,
 "nbformat_minor": 5
}
