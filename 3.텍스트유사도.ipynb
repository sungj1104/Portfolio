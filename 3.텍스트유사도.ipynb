{
 "cells": [
  {
   "cell_type": "markdown",
   "id": "3b7a01e5",
   "metadata": {},
   "source": [
    "# 텍스트 유사도\n",
    "\n",
    "- 챗봇 엔진에 입력되는 문장과 시스템에서 해당 주제의 답변과 연관되어 있는 질문이 얼마나 유사한지 계산할 수 있어야 적절한 답변을 출력할 수 있음\n",
    "- 두 문장 간의 유사도를 계산하기 위해서는 문장 내에 존재하는 단어들을 수치화해야 함\n",
    "    - 이 때 언어 모델에 따라 통계를 이용하는 방법과 인공 신경망을 이용하는 방법으로 나눌 수 있음\n",
    "    - word2vec은 인공 신경망 방식\n",
    "    - 인공 신경망 방식이 절대적으로 좋은 것은 아니며 상황에 따라 통계적인 방식이 더 적절할 수 있음"
   ]
  },
  {
   "cell_type": "markdown",
   "id": "d857f164",
   "metadata": {},
   "source": [
    "## n-gram 유사도\n",
    "\n",
    "- 주어진 문장에서 n개의 연속적인 단어 시퀀스(단어 나열)을 의미\n",
    "- n개의 단어를 토큰으로 사용\n",
    "- 이웃한 단어의 출현 횟수를 통계적으로 표현해 텍스트의 유사도를 계산하는 방법"
   ]
  },
  {
   "cell_type": "markdown",
   "id": "a02a58f8",
   "metadata": {},
   "source": [
    "- n-gram 예시\n",
    "\n",
    "- 문장 : 1661년 6월 뉴턴은 선생님의 제안으로 트리니티에 입학하였다.\n",
    "    - n = 1 : 1661년 / 6월 / 뉴턴 / 선생님 / 제안 / 트리니티 / 입학\n",
    "    - n = 2 : 1661년 6월 / 6월 뉴턴 / 뉴턴 선생님 / 선생님 제안 / 제안 트리니티 / 트리니티 입학\n",
    "    - n = 3 : 1661년 6월 뉴턴 / 6월 뉴턴 선생님 / 뉴턴 선생님 제안 / 선생님 제안 트리니티 / 제안 트리니티 입학"
   ]
  },
  {
   "cell_type": "markdown",
   "id": "e6d417b6",
   "metadata": {},
   "source": [
    "### n-gram 을 이용한 문장 간 유사도 계싼\n",
    "\n",
    "- 문장을 n-gram 으로 토큰을 분리한 후 단어 문서 행렬을 만든 후 두 문장을 서로 비교해 동일한 단어의 출현 빈도를 확률로 계산해 유사도를 구함\n",
    "\n",
    "- 수식 : 두 문장 A와 B에서 동일한 토큰의 출현 빈도 / A 문장의 전체 토큰 수\n",
    "    - 기준이 되는 문장 A에서 나온 전체 토큰 중에서 A와 B에 동일한 토큰이 얼마나 있는지 비율로 표현\n",
    "    - 1에 가까울수록 B가 A에 유사함"
   ]
  },
  {
   "cell_type": "code",
   "execution_count": 1,
   "id": "718e1e1f",
   "metadata": {},
   "outputs": [],
   "source": [
    "from konlpy.tag import Komoran"
   ]
  },
  {
   "cell_type": "code",
   "execution_count": 2,
   "id": "a7032251",
   "metadata": {},
   "outputs": [],
   "source": [
    "# 어절 단위 n-gram\n",
    "def word_ngram(bow, num_gram):\n",
    "    text = tuple(bow)\n",
    "    ngrams = [text[x:x + num_gram] for x in range(0, len(text)) if len(text[x:]) >= num_gram]\n",
    "    return tuple(ngrams)"
   ]
  },
  {
   "cell_type": "code",
   "execution_count": 3,
   "id": "0bdbe773",
   "metadata": {},
   "outputs": [],
   "source": [
    "# 음절 n-gram 분석\n",
    "def phoneme_ngram(bow, num_gram):\n",
    "    sentence = \" \".join(bow)\n",
    "    text = tuple(sentence)\n",
    "    slen = len(text)\n",
    "    ngrams = [text[x:x + num_gram] for x in range(0, slen) if len(text[x:]) >= num_gram]\n",
    "    return tuple(ngrams)"
   ]
  },
  {
   "cell_type": "code",
   "execution_count": 4,
   "id": "77ea0f7c",
   "metadata": {},
   "outputs": [],
   "source": [
    "# 유사도 계산\n",
    "def similarity(doc1, doc2):\n",
    "    cnt = 0\n",
    "    for token in doc1:\n",
    "        if token in doc2:\n",
    "            cnt = cnt + 1\n",
    "            \n",
    "    return cnt / len(doc1)"
   ]
  },
  {
   "cell_type": "markdown",
   "id": "027bef5d",
   "metadata": {},
   "source": [
    "- doc1의 토큰이 doc2의 토큰과 얼마나 동일한지 횟수를 카운트\n",
    "- 카운트 된 값을 doc1의 전체 토큰 수로 나누면 유사도가 계산됨"
   ]
  },
  {
   "cell_type": "code",
   "execution_count": 5,
   "id": "6c9e1069",
   "metadata": {},
   "outputs": [],
   "source": [
    "# 문장 정의\n",
    "sentence1 = \"6월에 뉴턴은 선생님의 제안으로 트리니티에 입학하였다\"\n",
    "sentence2 = \"6월에 뉴턴은 선생님의 제안으로 대학교에 입학하였다\"\n",
    "sentence3 = \"나는 맛있는 밥을 뉴턴 선생님과 함께 먹었습니다\""
   ]
  },
  {
   "cell_type": "code",
   "execution_count": 7,
   "id": "500f3568",
   "metadata": {},
   "outputs": [],
   "source": [
    "# 형태소 분석기에서 명사 추출\n",
    "komoran = Komoran()\n",
    "bow1 = komoran.nouns(sentence1)\n",
    "bow2 = komoran.nouns(sentence2)\n",
    "bow3 = komoran.nouns(sentence3)"
   ]
  },
  {
   "cell_type": "code",
   "execution_count": 8,
   "id": "50e10e86",
   "metadata": {},
   "outputs": [
    {
     "name": "stdout",
     "output_type": "stream",
     "text": [
      "['6월', '뉴턴', '선생님', '제안', '트리니티', '입학']\n",
      "['6월', '뉴턴', '선생님', '제안', '대학교', '입학']\n",
      "['밥', '뉴턴', '선생', '님과 함께']\n"
     ]
    }
   ],
   "source": [
    "# 추출된 명사 토큰 출력\n",
    "print(bow1)\n",
    "print(bow2)\n",
    "print(bow3)"
   ]
  },
  {
   "cell_type": "code",
   "execution_count": 9,
   "id": "a27d9888",
   "metadata": {},
   "outputs": [],
   "source": [
    "# 단어 n-gram 토큰 추출\n",
    "doc1 = word_ngram(bow1, 2)\n",
    "doc2 = word_ngram(bow2, 2)\n",
    "doc3 = word_ngram(bow3, 2)"
   ]
  },
  {
   "cell_type": "code",
   "execution_count": 10,
   "id": "196580a8",
   "metadata": {},
   "outputs": [
    {
     "name": "stdout",
     "output_type": "stream",
     "text": [
      "(('6월', '뉴턴'), ('뉴턴', '선생님'), ('선생님', '제안'), ('제안', '트리니티'), ('트리니티', '입학'))\n",
      "(('6월', '뉴턴'), ('뉴턴', '선생님'), ('선생님', '제안'), ('제안', '대학교'), ('대학교', '입학'))\n",
      "(('밥', '뉴턴'), ('뉴턴', '선생'), ('선생', '님과 함께'))\n"
     ]
    }
   ],
   "source": [
    "# 추출된 n-gram 토큰 출력\n",
    "print(doc1)\n",
    "print(doc2)\n",
    "print(doc3)"
   ]
  },
  {
   "cell_type": "code",
   "execution_count": 11,
   "id": "740a69d6",
   "metadata": {},
   "outputs": [
    {
     "name": "stdout",
     "output_type": "stream",
     "text": [
      "0.6\n",
      "0.0\n"
     ]
    }
   ],
   "source": [
    "# 유사도 계산\n",
    "r1 = similarity(doc1, doc2)\n",
    "r2 = similarity(doc3, doc1)\n",
    "print(r1)\n",
    "print(r2)"
   ]
  },
  {
   "cell_type": "markdown",
   "id": "9bd3032c",
   "metadata": {},
   "source": [
    "- n-gram은 문장에 존재하는 모든 단어의 출현 빈도를 확인하는 것이 아니라 연속되는 문장에서 일부 단어만 확인\n",
    "- 전체 문장을 고려한 언어 모델보다 정확도가 떨어질 수 있음\n",
    "- n을 크게 잡을수록 비교 문장의 토큰과 비교할 때 카운트를 놓칠 확률이 커짐\n",
    "- n을 작게 잡을수록 카운트 확률은 높아지지만 문맥을 파악하는 정확도는 떨어질 수 밖에 없음\n",
    "- 일반적으로 n은 1 ~ 5 사이의 값을 사용"
   ]
  }
 ],
 "metadata": {
  "kernelspec": {
   "display_name": "Python 3 (ipykernel)",
   "language": "python",
   "name": "python3"
  },
  "language_info": {
   "codemirror_mode": {
    "name": "ipython",
    "version": 3
   },
   "file_extension": ".py",
   "mimetype": "text/x-python",
   "name": "python",
   "nbconvert_exporter": "python",
   "pygments_lexer": "ipython3",
   "version": "3.11.5"
  }
 },
 "nbformat": 4,
 "nbformat_minor": 5
}
