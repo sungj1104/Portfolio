{
 "cells": [
  {
   "cell_type": "markdown",
   "id": "b4193d17",
   "metadata": {},
   "source": [
    "# 챗봇 엔진\n",
    "\n",
    "- 챗봇에서 핵심 기능을 하는 모듈\n",
    "- 화자의 질문을 이해하고 알맞은 답변을 출력하는 역할\n",
    "    - 자연어 처리 모듈"
   ]
  },
  {
   "cell_type": "markdown",
   "id": "3d61d439",
   "metadata": {},
   "source": [
    "## 챗봇 엔진 구조\n",
    "\n",
    "- 음식 예약 및 주문을 도와주는 음식점 예약 주문에 특화된 챗봇 엔진\n",
    "- 챗봇 엔진의 핵심 기능\n",
    "    - 질문 의도 분류\n",
    "        - 화자의 질문 의도를 파악\n",
    "        - 해당 질문을 의도 분류 모델을 이용해 의도 클래스를 예측\n",
    "        \n",
    "    - 개체명 인식\n",
    "        - 화자의 질문에서 단어 토큰별 개체명을 인식\n",
    "        - 단어 토큰에 맞는 개체명을 예측\n",
    "        \n",
    "    - 핵심 키워드 추출\n",
    "        - 화자의 질문 의미에서 핵심이 될 만한 단어 토큰을 추출\n",
    "        - 형태소 분석기를 이용해 핵심 키워드가 되는 명사나 동사를 추출\n",
    "        \n",
    "    - 답변 검색\n",
    "        - 해당 질문의 의도, 개체명, 핵심 키워드 등을 기반으로 답변을 학습 DB에서 검색"
   ]
  },
  {
   "cell_type": "markdown",
   "id": "6ba9c976",
   "metadata": {},
   "source": [
    "## 챗봇 엔진 처리 과정(예시)\n",
    "\n",
    "- 질문 : 내일 오전 10시에 탕수육 주문하고 싶어\n",
    "\n",
    "    1. 전처리 과정\n",
    "        - 불용어 제거\n",
    "        - 토큰 분리(키워드 추출)\n",
    "    \n",
    "    2. 의도 분석\n",
    "        - 의도 : 음식 주문\n",
    "    \n",
    "    3. 개체명 인식\n",
    "        - 내일 : Date\n",
    "        - 오전 10시 : Time\n",
    "        - 탕수육 : Food\n",
    "    \n",
    "    4. 답변 검색\n",
    "        - 의도, 개체명, 키워드\n",
    "        \n",
    "    5. 답변 출력\n",
    "        - 주문해주셔서 감사합니다."
   ]
  }
 ],
 "metadata": {
  "kernelspec": {
   "display_name": "Python 3 (ipykernel)",
   "language": "python",
   "name": "python3"
  },
  "language_info": {
   "codemirror_mode": {
    "name": "ipython",
    "version": 3
   },
   "file_extension": ".py",
   "mimetype": "text/x-python",
   "name": "python",
   "nbconvert_exporter": "python",
   "pygments_lexer": "ipython3",
   "version": "3.11.5"
  }
 },
 "nbformat": 4,
 "nbformat_minor": 5
}
